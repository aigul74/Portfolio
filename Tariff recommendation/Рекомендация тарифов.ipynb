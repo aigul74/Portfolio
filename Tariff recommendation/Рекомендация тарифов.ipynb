{
 "cells": [
  {
   "cell_type": "markdown",
   "metadata": {},
   "source": [
    "<img src=\"http://s3.amazonaws.com/pix.iemoji.com/images/emoji/apple/ios-12/256/waving-hand.png\" align=left width=44, heigth=44>\n",
    "<div class=\"alert alert-info\">\n",
    "<b> Комментарий ревьюера</b>\n",
    "\n",
    "\n",
    "Привет, Айгуль! Давай знакомиться! Меня зовут Дмитрий Махортов, и я буду проверять твой проект. Сразу предлагаю общение на «ты» 🙂, но если тебе это не комфортно, то дай знать, и мы перейдем на «вы». \n",
    "\n",
    "Моя основная цель — не указать на совершенные тобою ошибки, а поделиться своим опытом и помочь тебе погрузиться в увлекательный мир работы с данными и вырасти в крепкого профи. Это отдаленная цель. А ближайшая - сделать твою работу еще лучше )).\n",
    "   \n",
    "    \n",
    "Все ключевые этапы в работе выполнены, и я вижу что с проектом ты справшяешься. Есть моменты, которые нужно доработать, но я уверен, у тебя все получится.\n",
    "        \n",
    "Расскажу как обычно проходит проверка:    \n",
    "Бывают моменты, которые требуют пристального внимания. Комментарии по ним выделены <span style='background-color:#F7B3A4'> красным цветом </span> и обозначены значком 🛑. После их доработки проект будет принят.  🙂\n",
    " \n",
    "<span style='background-color:#B7EBA7'> Зеленым цветом </span> и значком ✅ отмечены удачные и элегантные решения, на которые можно опираться в будущих проектах. Или советы «со звездочкой», которые помогут тебе в будущем.\n",
    "\n",
    "<span style='background-color:#F9EDA6'>Жёлтым цветом </span> и значком ⚠️ выделено то, что в следующий раз можно сделать по-другому. Ты можешь учесть эти комментарии при выполнении будущих заданий или доработать проект сейчас (однако это не обязательно).\n",
    "\n",
    "Давай работать над проектом в диалоге: **если ты что-то меняешь в проекте по моим рекомендациям — пиши об этом**. Выбери для своих комментариев какой-то заметный цвет, так мне будет легче отследить изменения. Пожалуйста, **не перемещай, не изменяй и не удаляй мои комментарии**. Всё это поможет выполнить повторную проверку твоего проекта оперативнее. \n",
    "</div>"
   ]
  },
  {
   "cell_type": "markdown",
   "metadata": {
    "toc": true
   },
   "source": [
    "<h1>Содержание<span class=\"tocSkip\"></span></h1>\n",
    "<div class=\"toc\"><ul class=\"toc-item\"><li><span><a href=\"#Ввод-и-изучение-данных.\" data-toc-modified-id=\"Ввод-и-изучение-данных.-1\"><span class=\"toc-item-num\">1&nbsp;&nbsp;</span>Ввод и изучение данных.</a></span></li><li><span><a href=\"#Разделение-данных-на-выборки.\" data-toc-modified-id=\"Разделение-данных-на-выборки.-2\"><span class=\"toc-item-num\">2&nbsp;&nbsp;</span>Разделение данных на выборки.</a></span></li><li><span><a href=\"#Исследование-модели-классификации.\" data-toc-modified-id=\"Исследование-модели-классификации.-3\"><span class=\"toc-item-num\">3&nbsp;&nbsp;</span>Исследование модели классификации.</a></span><ul class=\"toc-item\"><li><span><a href=\"#Модель-'Решающее-дерево'.\" data-toc-modified-id=\"Модель-'Решающее-дерево'.-3.1\"><span class=\"toc-item-num\">3.1&nbsp;&nbsp;</span>Модель 'Решающее дерево'.</a></span></li><li><span><a href=\"#Модель-'Случайный-лес'.\" data-toc-modified-id=\"Модель-'Случайный-лес'.-3.2\"><span class=\"toc-item-num\">3.2&nbsp;&nbsp;</span>Модель 'Случайный лес'.</a></span></li><li><span><a href=\"#Модель-'Логистическая-регрессия'.\" data-toc-modified-id=\"Модель-'Логистическая-регрессия'.-3.3\"><span class=\"toc-item-num\">3.3&nbsp;&nbsp;</span>Модель 'Логистическая регрессия'.</a></span></li></ul></li><li><span><a href=\"#Вывод-по-метрикам.\" data-toc-modified-id=\"Вывод-по-метрикам.-4\"><span class=\"toc-item-num\">4&nbsp;&nbsp;</span>Вывод по метрикам.</a></span></li><li><span><a href=\"#Проверка-модели-на-тестовой-выборке.\" data-toc-modified-id=\"Проверка-модели-на-тестовой-выборке.-5\"><span class=\"toc-item-num\">5&nbsp;&nbsp;</span>Проверка модели на тестовой выборке.</a></span></li><li><span><a href=\"#Проверка-модели-на-адекватность.\" data-toc-modified-id=\"Проверка-модели-на-адекватность.-6\"><span class=\"toc-item-num\">6&nbsp;&nbsp;</span>Проверка модели на адекватность.</a></span></li><li><span><a href=\"#Общий-вывод.\" data-toc-modified-id=\"Общий-вывод.-7\"><span class=\"toc-item-num\">7&nbsp;&nbsp;</span>Общий вывод.</a></span></li><li><span><a href=\"#Чек-лист-готовности-проекта\" data-toc-modified-id=\"Чек-лист-готовности-проекта-8\"><span class=\"toc-item-num\">8&nbsp;&nbsp;</span>Чек-лист готовности проекта</a></span></li></ul></div>"
   ]
  },
  {
   "cell_type": "markdown",
   "metadata": {},
   "source": [
    "# Рекомендация тарифов"
   ]
  },
  {
   "cell_type": "markdown",
   "metadata": {},
   "source": [
    "В вашем распоряжении данные о поведении клиентов, которые уже перешли на эти тарифы (из проекта курса «Статистический анализ данных»). Нужно построить модель для задачи классификации, которая выберет подходящий тариф. Предобработка данных не понадобится — вы её уже сделали.\n",
    "\n",
    "Постройте модель с максимально большим значением *accuracy*. Чтобы сдать проект успешно, нужно довести долю правильных ответов по крайней мере до 0.75. Проверьте *accuracy* на тестовой выборке самостоятельно."
   ]
  },
  {
   "cell_type": "markdown",
   "metadata": {},
   "source": [
    "# Описание данных"
   ]
  },
  {
   "cell_type": "markdown",
   "metadata": {},
   "source": [
    "Каждый объект в наборе данных — это информация о поведении одного пользователя за месяц. Известно:\\\n",
    "сalls — количество звонков,\\\n",
    "minutes — суммарная длительность звонков в минутах,\\\n",
    "messages — количество sms-сообщений,\\\n",
    "mb_used — израсходованный интернет-трафик в Мб,\\\n",
    "is_ultra — каким тарифом пользовался в течение месяца («Ультра» — 1, «Смарт» — 0)."
   ]
  },
  {
   "cell_type": "markdown",
   "metadata": {},
   "source": [
    "## Ввод и изучение данных."
   ]
  },
  {
   "cell_type": "code",
   "execution_count": 1,
   "metadata": {},
   "outputs": [],
   "source": [
    "#Импорт библиотек\n",
    "import pandas as pd\n",
    "import numpy as np\n",
    "from joblib import dump\n",
    "from sklearn.dummy import DummyClassifier\n",
    "from sklearn.tree import DecisionTreeClassifier\n",
    "from sklearn.ensemble import RandomForestClassifier\n",
    "from sklearn.linear_model import LogisticRegression\n",
    "from sklearn.model_selection import train_test_split\n",
    "from sklearn.metrics import mean_squared_error\n",
    "from sklearn.metrics import accuracy_score"
   ]
  },
  {
   "cell_type": "markdown",
   "metadata": {},
   "source": [
    "<img src=\"https://emojigraph.org/media/apple/check-mark-button_2705.png\" align=left width=33, heigth=33>\n",
    "<div class=\"alert alert-success\">\n",
    "Отлично, все нужные библиотеки импортированы в начале ноутбука.Это хорошая практика.</div>"
   ]
  },
  {
   "cell_type": "code",
   "execution_count": 2,
   "metadata": {},
   "outputs": [
    {
     "data": {
      "text/html": [
       "<div>\n",
       "<style scoped>\n",
       "    .dataframe tbody tr th:only-of-type {\n",
       "        vertical-align: middle;\n",
       "    }\n",
       "\n",
       "    .dataframe tbody tr th {\n",
       "        vertical-align: top;\n",
       "    }\n",
       "\n",
       "    .dataframe thead th {\n",
       "        text-align: right;\n",
       "    }\n",
       "</style>\n",
       "<table border=\"1\" class=\"dataframe\">\n",
       "  <thead>\n",
       "    <tr style=\"text-align: right;\">\n",
       "      <th></th>\n",
       "      <th>calls</th>\n",
       "      <th>minutes</th>\n",
       "      <th>messages</th>\n",
       "      <th>mb_used</th>\n",
       "      <th>is_ultra</th>\n",
       "    </tr>\n",
       "  </thead>\n",
       "  <tbody>\n",
       "    <tr>\n",
       "      <th>0</th>\n",
       "      <td>40.0</td>\n",
       "      <td>311.90</td>\n",
       "      <td>83.0</td>\n",
       "      <td>19915.42</td>\n",
       "      <td>0</td>\n",
       "    </tr>\n",
       "    <tr>\n",
       "      <th>1</th>\n",
       "      <td>85.0</td>\n",
       "      <td>516.75</td>\n",
       "      <td>56.0</td>\n",
       "      <td>22696.96</td>\n",
       "      <td>0</td>\n",
       "    </tr>\n",
       "    <tr>\n",
       "      <th>2</th>\n",
       "      <td>77.0</td>\n",
       "      <td>467.66</td>\n",
       "      <td>86.0</td>\n",
       "      <td>21060.45</td>\n",
       "      <td>0</td>\n",
       "    </tr>\n",
       "    <tr>\n",
       "      <th>3</th>\n",
       "      <td>106.0</td>\n",
       "      <td>745.53</td>\n",
       "      <td>81.0</td>\n",
       "      <td>8437.39</td>\n",
       "      <td>1</td>\n",
       "    </tr>\n",
       "    <tr>\n",
       "      <th>4</th>\n",
       "      <td>66.0</td>\n",
       "      <td>418.74</td>\n",
       "      <td>1.0</td>\n",
       "      <td>14502.75</td>\n",
       "      <td>0</td>\n",
       "    </tr>\n",
       "    <tr>\n",
       "      <th>5</th>\n",
       "      <td>58.0</td>\n",
       "      <td>344.56</td>\n",
       "      <td>21.0</td>\n",
       "      <td>15823.37</td>\n",
       "      <td>0</td>\n",
       "    </tr>\n",
       "    <tr>\n",
       "      <th>6</th>\n",
       "      <td>57.0</td>\n",
       "      <td>431.64</td>\n",
       "      <td>20.0</td>\n",
       "      <td>3738.90</td>\n",
       "      <td>1</td>\n",
       "    </tr>\n",
       "    <tr>\n",
       "      <th>7</th>\n",
       "      <td>15.0</td>\n",
       "      <td>132.40</td>\n",
       "      <td>6.0</td>\n",
       "      <td>21911.60</td>\n",
       "      <td>0</td>\n",
       "    </tr>\n",
       "    <tr>\n",
       "      <th>8</th>\n",
       "      <td>7.0</td>\n",
       "      <td>43.39</td>\n",
       "      <td>3.0</td>\n",
       "      <td>2538.67</td>\n",
       "      <td>1</td>\n",
       "    </tr>\n",
       "    <tr>\n",
       "      <th>9</th>\n",
       "      <td>90.0</td>\n",
       "      <td>665.41</td>\n",
       "      <td>38.0</td>\n",
       "      <td>17358.61</td>\n",
       "      <td>0</td>\n",
       "    </tr>\n",
       "  </tbody>\n",
       "</table>\n",
       "</div>"
      ],
      "text/plain": [
       "   calls  minutes  messages   mb_used  is_ultra\n",
       "0   40.0   311.90      83.0  19915.42         0\n",
       "1   85.0   516.75      56.0  22696.96         0\n",
       "2   77.0   467.66      86.0  21060.45         0\n",
       "3  106.0   745.53      81.0   8437.39         1\n",
       "4   66.0   418.74       1.0  14502.75         0\n",
       "5   58.0   344.56      21.0  15823.37         0\n",
       "6   57.0   431.64      20.0   3738.90         1\n",
       "7   15.0   132.40       6.0  21911.60         0\n",
       "8    7.0    43.39       3.0   2538.67         1\n",
       "9   90.0   665.41      38.0  17358.61         0"
      ]
     },
     "execution_count": 2,
     "metadata": {},
     "output_type": "execute_result"
    }
   ],
   "source": [
    "#Загрузили данные\n",
    "df = pd.read_csv('/datasets/users_behavior.csv')\n",
    "df.head(10)"
   ]
  },
  {
   "cell_type": "markdown",
   "metadata": {},
   "source": [
    "<img src=\"https://upload.wikimedia.org/wikipedia/commons/b/ba/Warning_sign_4.0.png\" align=left width=44, heigth=33>\n",
    "<div class=\"alert alert-warning\">\n",
    "Можно дополнительно посмотреть информацию о данных с помощью метода .info()\n",
    "</div>"
   ]
  },
  {
   "cell_type": "code",
   "execution_count": 3,
   "metadata": {},
   "outputs": [
    {
     "name": "stdout",
     "output_type": "stream",
     "text": [
      "<class 'pandas.core.frame.DataFrame'>\n",
      "RangeIndex: 3214 entries, 0 to 3213\n",
      "Data columns (total 5 columns):\n",
      " #   Column    Non-Null Count  Dtype  \n",
      "---  ------    --------------  -----  \n",
      " 0   calls     3214 non-null   float64\n",
      " 1   minutes   3214 non-null   float64\n",
      " 2   messages  3214 non-null   float64\n",
      " 3   mb_used   3214 non-null   float64\n",
      " 4   is_ultra  3214 non-null   int64  \n",
      "dtypes: float64(4), int64(1)\n",
      "memory usage: 125.7 KB\n"
     ]
    }
   ],
   "source": [
    "df.info()"
   ]
  },
  {
   "cell_type": "markdown",
   "metadata": {},
   "source": [
    "<img src=\"https://emojigraph.org/media/apple/check-mark-button_2705.png\" align=left width=33, heigth=33>\n",
    "<div class=\"alert alert-success\">\n",
    "Данные загружены и исследованы.</div>"
   ]
  },
  {
   "cell_type": "markdown",
   "metadata": {},
   "source": [
    "## Разделение данных на выборки."
   ]
  },
  {
   "cell_type": "code",
   "execution_count": 4,
   "metadata": {},
   "outputs": [
    {
     "name": "stdout",
     "output_type": "stream",
     "text": [
      "Количество обьектов в обучающей выборке: (3214, 4) Доля: 0.6\n",
      "Количество обьектов в целевой обучающей выборке: (3214,) Доля: 0.6\n",
      "Количество обьектов в валидационной тестовой выборке: (1286, 4) Доля: 0.4\n",
      "Количество обьектов в целевой валидационно-тестовой выборке: (1286,) Доля: 0.4\n",
      "Количество обьектов в валидационной выборке: (643, 4) Доля: 0.2\n",
      "Количество обьектов в целевой валидционной выборке выборке: (643,) Доля: 0.2\n",
      "Количество обьектов в тестовой выборке: (643, 4) Доля: 0.2\n",
      "Количество обьектов в целевой тестовой выборке: (643,) Доля: 0.2\n"
     ]
    }
   ],
   "source": [
    "#Создали из данных таблицу без целевого признака\n",
    "features = df.drop(['is_ultra'], axis=1)\n",
    "#Сохранили в отдельную переменную целевой признак\n",
    "target = df['is_ultra']\n",
    "#Разделили данные в сооношение 60 и 40  на обучащую и валидационную тестовую\n",
    "features_train, features_valid_test, target_train, target_valid_test = train_test_split(\n",
    "    features, target, \n",
    "    test_size=0.4, \n",
    "    random_state=12345, \n",
    "    stratify=target\n",
    ")\n",
    "#Разделили валидную тестовую пополам на валидную и тестовую выборку \n",
    "features_valid, features_test, target_valid, target_test = train_test_split(\n",
    "    features_valid_test,\n",
    "    target_valid_test,\n",
    "    test_size=0.5,\n",
    "    random_state=12345,\n",
    "    stratify=target_valid_test,\n",
    ")\n",
    "#Вывели количество строк в выборках для проверки\n",
    "print('Количество обьектов в обучающей выборке:', features.shape, 'Доля:', format((features_train.shape[0] / features.shape[0]), '.1f'))\n",
    "print('Количество обьектов в целевой обучающей выборке:', target.shape, 'Доля:', format((target_train.shape[0] / target.shape[0]), '.1f'))\n",
    "print('Количество обьектов в валидационной тестовой выборке:', features_valid_test.shape, 'Доля:', format((features_valid_test.shape[0] / features.shape[0]), '.1f'))\n",
    "print('Количество обьектов в целевой валидационно-тестовой выборке:', target_valid_test.shape, 'Доля:', format((target_valid_test.shape[0] / target.shape[0]), '.1f'))\n",
    "print('Количество обьектов в валидационной выборке:', features_valid.shape, 'Доля:', format((features_valid.shape[0] / features.shape[0]), '.1f'))\n",
    "print('Количество обьектов в целевой валидционной выборке выборке:', target_valid.shape, 'Доля:', format((target_valid.shape[0] / target.shape[0]), '.1f'))\n",
    "print('Количество обьектов в тестовой выборке:', features_test.shape, 'Доля:', format((features_test.shape[0] / features.shape[0]), '.1f'))\n",
    "print('Количество обьектов в целевой тестовой выборке:', target_test.shape, 'Доля:', format((target_test.shape[0] / target.shape[0]), '.1f'))"
   ]
  },
  {
   "cell_type": "markdown",
   "metadata": {},
   "source": [
    "<img src=\"https://emojigraph.org/media/apple/check-mark-button_2705.png\" align=left width=33, heigth=33>\n",
    "<div class=\"alert alert-success\">\n",
    "Выборки получены корректно, молодец, что используешь стратификацию.</div>"
   ]
  },
  {
   "cell_type": "markdown",
   "metadata": {},
   "source": [
    "<img src=\"https://upload.wikimedia.org/wikipedia/commons/b/ba/Warning_sign_4.0.png\" align=left width=44, heigth=33>\n",
    "<div class=\"alert alert-warning\">\n",
    "Молодец, что использовала перенос строки, но перенесенная строка идет на том же логическом уровне, что и предыдущая, что очень мешает чтению кода. Лучше переформатировать, например вот так.\n",
    "    \n",
    "    \n",
    "    features_train, features_valid_test, target_train, target_valid_test = train_test_split(\n",
    "        features, target, test_size=0.4, random_state=12345, stratify=target\n",
    "    )\n",
    "    \n",
    "    \n",
    "    \n",
    "А еще  если сомневаешься, как отформатировать правильно - всегда можно найти какой-нибудь оналйн-форматтер, например этот\n",
    "    \n",
    "  https://extendsclass.com/python-formatter.html\n",
    "    \n",
    "    \n",
    "    \n",
    "</div>"
   ]
  },
  {
   "cell_type": "markdown",
   "metadata": {},
   "source": [
    "<img src=\"https://upload.wikimedia.org/wikipedia/commons/b/ba/Warning_sign_4.0.png\" align=left width=44, heigth=33>\n",
    "<div class=\"alert alert-warning\">\n",
    "Рекомендую явно вывести размеры  <b>получившихся </b>  выборок (с использованием .shape и print), это поможет быстро оценить корректность разделения на выборки.\n",
    "    \n",
    "А также написать сообщения, к какой выборке относится выведенный размер. Сейчас приходится смотреть в код, что достаточно сложно.    \n",
    "</div>"
   ]
  },
  {
   "cell_type": "markdown",
   "metadata": {},
   "source": [
    "<img src=\"https://emojigraph.org/media/apple/check-mark-button_2705.png\" align=left width=33, heigth=33>\n",
    "<div class=\"alert alert-success\">\n",
    "<b>v2</b> Молодец, вижу что проработала оба моих комментария </div>"
   ]
  },
  {
   "cell_type": "markdown",
   "metadata": {},
   "source": [
    "## Исследование модели классификации."
   ]
  },
  {
   "cell_type": "markdown",
   "metadata": {},
   "source": [
    "### Модель 'Решающее дерево'."
   ]
  },
  {
   "cell_type": "code",
   "execution_count": 5,
   "metadata": {},
   "outputs": [
    {
     "name": "stdout",
     "output_type": "stream",
     "text": [
      "Accuracy наилучшей модели на валидационной выборке: 0.7853810264385692 Глубина дерева: 5\n"
     ]
    }
   ],
   "source": [
    "#Создали переменные для вывода в принте  \n",
    "best_model = None\n",
    "best_result = 0\n",
    "best_depth = 0\n",
    "#С помощью цикла перебираем глубину дерева max_depth от 1 до 10\n",
    "for depth in range(1, 6):\n",
    "    # инициализировали модель DecisionTreeRegressor с параметром random_state=12345\\ \n",
    "    model = DecisionTreeClassifier(random_state=12345,splitter='best', max_depth=depth)\n",
    "    # обучили модель на тренировочной выборке    \n",
    "    model.fit(features_train, target_train) \n",
    "    # получили предсказания модели на валидационной выборке\n",
    "    predictions_valid = model.predict(features_valid) \n",
    "    # посчитали значение метрики Accuracy на валидационной выборке\n",
    "    result = model.score(features_valid, target_valid)\n",
    "#print(\"Accuracy наилучшей модели на валидационной выборке:\", result)\n",
    "    if result > best_result:\n",
    "        best_model = model\n",
    "        best_result = result\n",
    "        best_depth = depth\n",
    "\n",
    "    print(\"Accuracy наилучшей модели на валидационной выборке:\", best_result, \"Глубина дерева:\", best_depth)\n"
   ]
  },
  {
   "cell_type": "markdown",
   "metadata": {},
   "source": [
    "<img src=\"https://upload.wikimedia.org/wikipedia/commons/thumb/8/81/Stop_sign.png/240px-Stop_sign.png\" align=left width=35, heigth=35>\n",
    "<div class=\"alert alert-danger\">\n",
    "К сожалению в твоем коде содержится ошибка из за которой ты не можешь найти оптимальные значения глубины. Совет: попробуй посмотреть значения точности на каждом шаге цикла (с помощью команды print), это должно помочь \"поймать\" баг.</div>"
   ]
  },
  {
   "cell_type": "markdown",
   "metadata": {},
   "source": [
    "\n",
    "<div class=\"alert alert-info\">\n",
    "**Вывод:** <br> * Точность 0,78 при глубине 5 <br>* Большую глубину деревьев не стоит применять во избежания переобучения\n",
    "\n",
    " </div>   "
   ]
  },
  {
   "cell_type": "markdown",
   "metadata": {},
   "source": [
    "<img src=\"https://emojigraph.org/media/apple/check-mark-button_2705.png\" align=left width=33, heigth=33>\n",
    "<div class=\"alert alert-success\">\n",
    "<b>v2</b> исправлено </div>"
   ]
  },
  {
   "cell_type": "markdown",
   "metadata": {},
   "source": [
    "### Модель 'Случайный лес'."
   ]
  },
  {
   "cell_type": "code",
   "execution_count": 6,
   "metadata": {
    "scrolled": true
   },
   "outputs": [
    {
     "name": "stdout",
     "output_type": "stream",
     "text": [
      "Accuracy наилучшей модели на валидационной выборке: 0.8195956454121306 Количество деревьев: 55 Максимальная глубина: 9\n"
     ]
    }
   ],
   "source": [
    "#Создали переменные для вывода в print \n",
    "best_model = None\n",
    "best_result = 0\n",
    "best_est = 0\n",
    "best_depth = 0\n",
    "#С помощью цикла перебираем глубину дерева max_depth и количество деревьев \n",
    "for est in range(11, 80, 11):\n",
    "    for depth in range (1, 10):\n",
    "    # инициализировали модель RandomForestClassifier\n",
    "        model = RandomForestClassifier(random_state=12345, n_estimators=est, max_depth=depth)\n",
    "        # обучили модель на тренировочной выборке \n",
    "        model.fit(features_train, target_train) \n",
    "        # получили предсказания модели на валидационной выборке\n",
    "        predictions_valid = model.predict(features_valid) \n",
    "        # посчитали значение метрики Accuracy на валидационной выборке\n",
    "        result = model.score(features_valid, target_valid)\n",
    "        #условие для вывода print\n",
    "#print(\"Accuracy наилучшей модели на валидационной выборке:\", best_result, \"Количество деревьев:\", best_est)\n",
    "        if result > best_result:\n",
    "        \n",
    "            best_model = model\n",
    "            best_result = result\n",
    "            best_est = est\n",
    "            best_depth = depth\n",
    "            \n",
    "#вывелин на экран\n",
    "print(\"Accuracy наилучшей модели на валидационной выборке:\", best_result, \"Количество деревьев:\", best_est, \"Максимальная глубина:\", depth)"
   ]
  },
  {
   "cell_type": "markdown",
   "metadata": {},
   "source": [
    "<img src=\"https://upload.wikimedia.org/wikipedia/commons/thumb/8/81/Stop_sign.png/240px-Stop_sign.png\" align=left width=35, heigth=35>\n",
    "<div class=\"alert alert-danger\">\n",
    "Здесь тоже ошибка из за которой ты не можешь найти оптимальные значения глубины и количества оценщиков. Совет: попробуй посмотреть значения точности на каждом шаге цикла (с помощью команды print), это должно помочь \"поймать\" баг. Советую начать с цикла по одному гиперпараметру, а когда поймаешь ошибку - добавить второй.</div>"
   ]
  },
  {
   "cell_type": "markdown",
   "metadata": {},
   "source": [
    "<img src=\"https://emojigraph.org/media/apple/check-mark-button_2705.png\" align=left width=33, heigth=33>\n",
    "<div class=\"alert alert-success\">\n",
    "<b>v2</b> исправлено </div>"
   ]
  },
  {
   "cell_type": "markdown",
   "metadata": {},
   "source": [
    "**Вывод:**\n",
    "* Точность 0,82 самый высокий показатель среди 3 моделей\n",
    "* Но скорость самая низкая.\n",
    "      "
   ]
  },
  {
   "cell_type": "markdown",
   "metadata": {},
   "source": [
    "### Модель 'Логистическая регрессия'."
   ]
  },
  {
   "cell_type": "code",
   "execution_count": 7,
   "metadata": {
    "scrolled": true
   },
   "outputs": [
    {
     "name": "stdout",
     "output_type": "stream",
     "text": [
      "0.7387247278382582\n"
     ]
    }
   ],
   "source": [
    "# инициализировали модель\n",
    "model = LogisticRegression(random_state=12345, solver='lbfgs', max_iter=100)\n",
    "#Обучили модел на тренировочной выборке\n",
    "model.fit(features_train, target_train)\n",
    "#Получили предсказания на валидационной выборке\n",
    "predictions_valid = model.predict(features_valid)\n",
    "#Посчитали  Accuracy вывели на экран\n",
    "print(model.score(features_valid, target_valid) ) \n",
    "dump(model, 'model_9_1.joblib');"
   ]
  },
  {
   "cell_type": "markdown",
   "metadata": {},
   "source": [
    "<img src=\"https://emojigraph.org/media/apple/check-mark-button_2705.png\" align=left width=33, heigth=33>\n",
    "<div class=\"alert alert-success\">\n",
    "Логистическая регрессия исследована корректно.\n",
    "</div>\n"
   ]
  },
  {
   "cell_type": "markdown",
   "metadata": {},
   "source": [
    "**Вывод:**\n",
    "* Accuracy  0,73 самый низкий показатель среди 3 моделей\n",
    "    "
   ]
  },
  {
   "cell_type": "markdown",
   "metadata": {},
   "source": [
    "<img src=\"https://upload.wikimedia.org/wikipedia/commons/thumb/8/81/Stop_sign.png/240px-Stop_sign.png\" align=left width=35, heigth=35>\n",
    "<div class=\"alert alert-danger\">\n",
    "Ты закончила важный этап: исследовала три модели, нашла оптимальные гиперпараметры для каждой. Нужно зафиксировать результат: выбрать лучшую модель (включая гиперпараметры)  и описать свое решение в выводах.</div>"
   ]
  },
  {
   "cell_type": "markdown",
   "metadata": {},
   "source": [
    "<img src=\"https://emojigraph.org/media/apple/check-mark-button_2705.png\" align=left width=33, heigth=33>\n",
    "<div class=\"alert alert-success\">\n",
    "<b>v2</b> Теперь все ОК.\n",
    "</div>"
   ]
  },
  {
   "cell_type": "markdown",
   "metadata": {},
   "source": [
    "## Вывод по метрикам."
   ]
  },
  {
   "cell_type": "markdown",
   "metadata": {},
   "source": [
    "**Вывод:**\n",
    "* Качество модели случайные леса лучше всех и равно 0.81.\n",
    "* Гиперпараметры лучшей модели: Количество деревьев: 55 и Максимальная глубина: 9.\n",
    "* Будем применять модель для тестовой выборке."
   ]
  },
  {
   "cell_type": "markdown",
   "metadata": {},
   "source": [
    "## Проверка модели на тестовой выборке."
   ]
  },
  {
   "cell_type": "code",
   "execution_count": 8,
   "metadata": {},
   "outputs": [
    {
     "name": "stdout",
     "output_type": "stream",
     "text": [
      "Accuracy наилучшей модели на тестовой выборке: 0.8118195956454122\n"
     ]
    }
   ],
   "source": [
    "model = RandomForestClassifier(random_state=12345, n_estimators=55, max_depth=9)\n",
    "#Обучили модел на тренировочной выборке\n",
    "model.fit(features_train, target_train) # обучите модель на тренировочной выборке\n",
    "#получили предсказания модели на валидационной выборке\n",
    "predictions_valid = model.predict(features_valid) \n",
    "#получили предсказания модели на тестовой выборке\n",
    "predictions_test = model.predict(features_test)\n",
    "# посчитали значение метрики Accuracy на тестовой выборке\n",
    "result = model.score(features_test, target_test)# посчитайте значение метрики rmse на валидационной выборке\n",
    "#условие для вывода pri\n",
    "print(\"Accuracy наилучшей модели на тестовой выборке:\", result)"
   ]
  },
  {
   "cell_type": "markdown",
   "metadata": {},
   "source": [
    "<img src=\"https://emojigraph.org/media/apple/check-mark-button_2705.png\" align=left width=33, heigth=33>\n",
    "<div class=\"alert alert-success\">\n",
    "<b>v2</b> \n",
    "    \n",
    "Совет:  Сейчас, когда гиперпараметры подобраны и валидационная выборка нам не нужна, мы можем обучить модель на большой выборке (обучающая + валидационная), а тестирование новой модели произвести уже на тестовой выборке.\n",
    "    \n",
    "Объединить выборки можно с помощью pd.concat\n",
    "\n",
    "</div>"
   ]
  },
  {
   "cell_type": "markdown",
   "metadata": {},
   "source": [
    "**Вывод:**\n",
    "* На тестовой выборке наша модель сработала также хорошо.\n",
    "* Качество модели не сильно упало что говорит о правильном выборе и настройке гиперпараметров."
   ]
  },
  {
   "cell_type": "markdown",
   "metadata": {},
   "source": [
    "<img src=\"https://upload.wikimedia.org/wikipedia/commons/thumb/8/81/Stop_sign.png/240px-Stop_sign.png\" align=left width=35, heigth=35>\n",
    "<div class=\"alert alert-danger\">\n",
    "Нельзя использовать тестовую выборку для подбора гиперпараметров. На этапе тестирования мы берем модель, обученную и выбранную на предыдущем этапе и оцениваем её точность на данных, которые она не видела и на которые не подгонялась.</div>"
   ]
  },
  {
   "cell_type": "markdown",
   "metadata": {},
   "source": [
    "<img src=\"https://emojigraph.org/media/apple/check-mark-button_2705.png\" align=left width=33, heigth=33>\n",
    "<div class=\"alert alert-success\">\n",
    "<b>v2</b> Исправлено </div>"
   ]
  },
  {
   "cell_type": "markdown",
   "metadata": {},
   "source": [
    "<img src=\"https://emojigraph.org/media/apple/check-mark-button_2705.png\" align=left width=33, heigth=33>\n",
    "<div class=\"alert alert-success\"> \n",
    "<b>минутка теории</b>\n",
    "    \n",
    "<b>общий дизайн ML исследования</b>\n",
    "\n",
    "В курсе мы используем следующую схему оценки качества алгоритмов:\n",
    "\n",
    "1. Все данные делятся на 3 части: \n",
    "   - обучение,\n",
    "   - валидация,\n",
    "   - тест.\n",
    "\n",
    "2. Каждый из алгоритмов будет обучен на обучающей выборке. \n",
    "3. Подбор гиперпараметров мы осуществляем с помощью оценки на валидационной выборке.\n",
    "4. Когда гиперпараметры подобраны, качество каждого алгоритма мы оцениваем с помощью валидационной выборки.\n",
    "    \n",
    "5. Выбираем лучший по оценке на валидационной выборке.\n",
    "6. И уже самый лучший алгоритм оцениваем по тестовой выборке.\n",
    "\n",
    "\n",
    "</div>"
   ]
  },
  {
   "cell_type": "markdown",
   "metadata": {},
   "source": [
    "**Вывод:**\n",
    "* Accuracy 0,76 модель улучшила показатель на тестовой выборке. \n",
    "    "
   ]
  },
  {
   "cell_type": "markdown",
   "metadata": {},
   "source": [
    "##  Проверка модели на адекватность."
   ]
  },
  {
   "cell_type": "code",
   "execution_count": 9,
   "metadata": {
    "scrolled": false
   },
   "outputs": [
    {
     "name": "stdout",
     "output_type": "stream",
     "text": [
      "Accuracy dummy модели на тестовой выборке: 0.6936236391912908\n"
     ]
    }
   ],
   "source": [
    "# инициализировали модель DummyClassifier фиктивная модель класификации\n",
    "dummy_clf = DummyClassifier(strategy=\"constant\", random_state=0, constant=[0])\n",
    "#Обучили модел на тренировочной выборке\n",
    "dummy_clf.fit(features_train, target_train)\n",
    "#Получили предсказания на тестовой выборке\n",
    "dummy_pred = dummy_clf.predict(features_test)\n",
    "#посчитали значение метрики Accuracy на тестовой выборке\n",
    "result = dummy_clf.score(features_test, target_test)\n",
    "#вывели на экран\n",
    "print(\"Accuracy dummy модели на тестовой выборке:\", result)"
   ]
  },
  {
   "cell_type": "markdown",
   "metadata": {},
   "source": [
    "<img src=\"https://emojigraph.org/media/apple/check-mark-button_2705.png\" align=left width=33, heigth=33>\n",
    "<div class=\"alert alert-success\">\n",
    " 👍 Молодец, верно применен Dummy Classifier для оценки стратегии предсказания самого частого ответа.</div>"
   ]
  },
  {
   "cell_type": "markdown",
   "metadata": {},
   "source": [
    "**Вывод:**\n",
    "* Точность даже на необученной выборке 0,69 выше чем по теории вероятности\n",
    "* Скорее всего несемитричное целевого показателя\n",
    "    "
   ]
  },
  {
   "cell_type": "markdown",
   "metadata": {},
   "source": [
    "## Общий вывод."
   ]
  },
  {
   "cell_type": "markdown",
   "metadata": {},
   "source": [
    "\n",
    "* Самй лучший результат дала модель слуайный лес.\n",
    "* После  подбора гиперпараметров тоность увелиилась\n",
    "* Остальные модели не улучшили показатели \n",
    "* Скорее всего модель случайный лес больше подходят для данных\n",
    "* Несеметричность очень сильно искажает конечный результат нужно учитывать.\n",
    "* Может быть из-за этого другие модели оказались неэффективными\n",
    "    "
   ]
  },
  {
   "cell_type": "markdown",
   "metadata": {},
   "source": [
    "<img src=\"https://emojigraph.org/media/apple/check-mark-button_2705.png\" align=left width=33, heigth=33>\n",
    "<div class=\"alert alert-success\">\n",
    " 👍 </div>"
   ]
  },
  {
   "cell_type": "markdown",
   "metadata": {},
   "source": [
    "## Чек-лист готовности проекта"
   ]
  },
  {
   "cell_type": "markdown",
   "metadata": {},
   "source": [
    "Поставьте 'x' в выполненных пунктах. Далее нажмите Shift+Enter."
   ]
  },
  {
   "cell_type": "markdown",
   "metadata": {},
   "source": [
    "- [x] Jupyter Notebook открыт\n",
    "- [x] Весь код исполняется без ошибок\n",
    "- [x] Ячейки с кодом расположены в порядке исполнения\n",
    "- [x] Выполнено задание 1: данные загружены и изучены\n",
    "- [x] Выполнено задание 2: данные разбиты на три выборки\n",
    "- [x] Выполнено задание 3: проведено исследование моделей\n",
    "    - [x] Рассмотрено больше одной модели\n",
    "    - [x] Рассмотрено хотя бы 3 значения гипепараметров для какой-нибудь модели\n",
    "    - [x] Написаны выводы по результатам исследования\n",
    "- [x] Выполнено задание 3: Проведено тестирование\n",
    "- [x] Удалось достичь accuracy не меньше 0.75\n"
   ]
  },
  {
   "cell_type": "markdown",
   "metadata": {},
   "source": [
    "<img src=\"http://s3.amazonaws.com/pix.iemoji.com/images/emoji/apple/ios-12/256/waving-hand.png\" align=left width=44, heigth=44>\n",
    "<div class=\"alert alert-info\">\n",
    "<b> Заключительный комментарий</b>\n",
    "\n",
    "В целом все неплохо: твоя работа выполнена  работа выглядит аккуратной и хорошо оформленной.\n",
    "Вижу, что тебе дается python, и инструментарий Pandas. \n",
    "    \n",
    "И чувствуется, что ты очень стараешься.    \n",
    "\n",
    "    \n",
    "Ошибки, которые нужно обязательно исправить (красные комментарии):\n",
    "    \n",
    "   -  Нужно исправить ошибки в блоке перебора гиперпараметров для моделй решающего дерева и случайного леса из за которых ты не можешь найти правильные гиперпараметры.\n",
    "   -  После того, как ты закончишь исследовать модели нужно выбрать лучшую испоьзуя оценки на валидационной выборке.\n",
    "   - И самую лучшую модель нужно оценить, используя тестовую выборку. По тестовой выборке мы ничего не подбираем, это важно! \n",
    "\n",
    "     \n",
    "Жду твоих исправлений :)\n",
    "</div>"
   ]
  },
  {
   "cell_type": "markdown",
   "metadata": {},
   "source": [
    "<img src=\"http://s3.amazonaws.com/pix.iemoji.com/images/emoji/apple/ios-12/256/waving-hand.png\" align=left width=44, heigth=44>\n",
    "<div class=\"alert alert-info\">\n",
    "<b> Заключительный комментарий v2</b>\n",
    "\n",
    "Привет!\n",
    "\n",
    "Вижу что ты отработала все мои замечания. Молодец! На этот раз проект стал значительно лучше и может быть принят.\n",
    "    \n",
    "    \n",
    "Поздравляю и желаю дальнейших успехов!\n",
    "</div>"
   ]
  },
  {
   "cell_type": "code",
   "execution_count": null,
   "metadata": {},
   "outputs": [],
   "source": []
  }
 ],
 "metadata": {
  "ExecuteTimeLog": [
   {
    "duration": 402,
    "start_time": "2023-01-07T00:07:07.001Z"
   },
   {
    "duration": 117,
    "start_time": "2023-01-07T00:07:07.558Z"
   },
   {
    "duration": 43,
    "start_time": "2023-01-07T00:07:33.618Z"
   },
   {
    "duration": 711,
    "start_time": "2023-01-07T00:13:47.805Z"
   },
   {
    "duration": 37,
    "start_time": "2023-01-07T00:13:48.553Z"
   },
   {
    "duration": 53,
    "start_time": "2023-01-07T00:19:55.629Z"
   },
   {
    "duration": 107,
    "start_time": "2023-01-07T00:20:09.415Z"
   },
   {
    "duration": 44,
    "start_time": "2023-01-07T00:41:30.343Z"
   },
   {
    "duration": 12,
    "start_time": "2023-01-07T00:56:23.797Z"
   },
   {
    "duration": 6,
    "start_time": "2023-01-07T01:02:48.422Z"
   },
   {
    "duration": 23,
    "start_time": "2023-01-07T01:11:33.942Z"
   },
   {
    "duration": 3,
    "start_time": "2023-01-07T01:13:08.622Z"
   },
   {
    "duration": 4,
    "start_time": "2023-01-07T01:13:36.940Z"
   },
   {
    "duration": 3,
    "start_time": "2023-01-07T01:32:47.947Z"
   },
   {
    "duration": 48,
    "start_time": "2023-01-07T01:32:48.248Z"
   },
   {
    "duration": 37,
    "start_time": "2023-01-07T01:32:48.784Z"
   },
   {
    "duration": 14,
    "start_time": "2023-01-07T01:32:50.016Z"
   },
   {
    "duration": 8,
    "start_time": "2023-01-07T01:32:52.623Z"
   },
   {
    "duration": 4,
    "start_time": "2023-01-07T01:34:15.533Z"
   },
   {
    "duration": 63,
    "start_time": "2023-01-07T01:34:16.369Z"
   },
   {
    "duration": 37,
    "start_time": "2023-01-07T01:34:26.611Z"
   },
   {
    "duration": 12,
    "start_time": "2023-01-07T01:34:28.412Z"
   },
   {
    "duration": 18,
    "start_time": "2023-01-07T01:34:29.726Z"
   },
   {
    "duration": 1199,
    "start_time": "2023-01-08T08:24:51.393Z"
   },
   {
    "duration": 74,
    "start_time": "2023-01-08T08:24:52.594Z"
   },
   {
    "duration": 0,
    "start_time": "2023-01-08T08:24:52.670Z"
   },
   {
    "duration": 84,
    "start_time": "2023-01-08T08:24:57.101Z"
   },
   {
    "duration": 21,
    "start_time": "2023-01-08T08:25:00.357Z"
   },
   {
    "duration": 120,
    "start_time": "2023-01-08T08:25:57.203Z"
   },
   {
    "duration": 14,
    "start_time": "2023-01-08T08:26:29.421Z"
   },
   {
    "duration": 16,
    "start_time": "2023-01-08T08:26:32.657Z"
   },
   {
    "duration": 18,
    "start_time": "2023-01-08T10:46:30.621Z"
   },
   {
    "duration": 20,
    "start_time": "2023-01-08T11:06:56.643Z"
   },
   {
    "duration": 4,
    "start_time": "2023-01-08T11:07:23.752Z"
   },
   {
    "duration": 38,
    "start_time": "2023-01-08T11:07:29.545Z"
   },
   {
    "duration": 13,
    "start_time": "2023-01-08T11:07:34.975Z"
   },
   {
    "duration": 68,
    "start_time": "2023-01-08T11:07:39.703Z"
   },
   {
    "duration": 4,
    "start_time": "2023-01-08T11:13:46.953Z"
   },
   {
    "duration": 73,
    "start_time": "2023-01-08T11:13:47.576Z"
   },
   {
    "duration": 40,
    "start_time": "2023-01-08T11:13:50.073Z"
   },
   {
    "duration": 6,
    "start_time": "2023-01-08T11:13:53.763Z"
   },
   {
    "duration": 11,
    "start_time": "2023-01-08T11:13:57.037Z"
   },
   {
    "duration": 26,
    "start_time": "2023-01-08T11:14:12.090Z"
   },
   {
    "duration": 4,
    "start_time": "2023-01-08T11:15:23.605Z"
   },
   {
    "duration": 70,
    "start_time": "2023-01-08T11:15:24.702Z"
   },
   {
    "duration": 38,
    "start_time": "2023-01-08T11:15:25.278Z"
   },
   {
    "duration": 2,
    "start_time": "2023-01-08T11:15:27.421Z"
   },
   {
    "duration": 11,
    "start_time": "2023-01-08T11:15:28.821Z"
   },
   {
    "duration": 58,
    "start_time": "2023-01-08T11:15:31.156Z"
   },
   {
    "duration": 16,
    "start_time": "2023-01-08T11:53:36.950Z"
   },
   {
    "duration": 11,
    "start_time": "2023-01-08T11:54:31.519Z"
   },
   {
    "duration": 50,
    "start_time": "2023-01-08T11:55:17.054Z"
   },
   {
    "duration": 4,
    "start_time": "2023-01-08T12:06:28.554Z"
   },
   {
    "duration": 38,
    "start_time": "2023-01-08T12:06:36.635Z"
   },
   {
    "duration": 2,
    "start_time": "2023-01-08T12:06:39.839Z"
   },
   {
    "duration": 12,
    "start_time": "2023-01-08T12:06:40.558Z"
   },
   {
    "duration": 43,
    "start_time": "2023-01-08T12:06:45.170Z"
   },
   {
    "duration": 3,
    "start_time": "2023-01-08T12:09:10.731Z"
   },
   {
    "duration": 37,
    "start_time": "2023-01-08T12:09:15.835Z"
   },
   {
    "duration": 12,
    "start_time": "2023-01-08T12:09:20.124Z"
   },
   {
    "duration": 3,
    "start_time": "2023-01-08T12:09:47.494Z"
   },
   {
    "duration": 86,
    "start_time": "2023-01-08T12:09:48.106Z"
   },
   {
    "duration": 37,
    "start_time": "2023-01-08T12:09:49.303Z"
   },
   {
    "duration": 3,
    "start_time": "2023-01-08T12:09:52.655Z"
   },
   {
    "duration": 12,
    "start_time": "2023-01-08T12:09:52.748Z"
   },
   {
    "duration": 34,
    "start_time": "2023-01-08T12:09:54.778Z"
   },
   {
    "duration": 4,
    "start_time": "2023-01-08T12:10:04.249Z"
   },
   {
    "duration": 13,
    "start_time": "2023-01-08T12:10:09.985Z"
   },
   {
    "duration": 290,
    "start_time": "2023-01-08T12:14:10.517Z"
   },
   {
    "duration": 3,
    "start_time": "2023-01-08T12:17:33.658Z"
   },
   {
    "duration": 76,
    "start_time": "2023-01-08T12:17:35.202Z"
   },
   {
    "duration": 37,
    "start_time": "2023-01-08T12:17:37.444Z"
   },
   {
    "duration": 13,
    "start_time": "2023-01-08T12:17:41.209Z"
   },
   {
    "duration": 1440,
    "start_time": "2023-01-08T12:17:48.224Z"
   },
   {
    "duration": 643,
    "start_time": "2023-01-08T12:18:43.230Z"
   },
   {
    "duration": 803,
    "start_time": "2023-01-08T12:18:54.950Z"
   },
   {
    "duration": 575,
    "start_time": "2023-01-08T12:19:02.979Z"
   },
   {
    "duration": 785,
    "start_time": "2023-01-08T12:27:03.868Z"
   },
   {
    "duration": 1013,
    "start_time": "2023-01-08T12:28:12.073Z"
   },
   {
    "duration": 105,
    "start_time": "2023-01-08T12:29:04.889Z"
   },
   {
    "duration": 524,
    "start_time": "2023-01-08T12:30:48.101Z"
   },
   {
    "duration": 139,
    "start_time": "2023-01-08T12:30:48.626Z"
   },
   {
    "duration": 873,
    "start_time": "2023-01-08T12:30:57.451Z"
   },
   {
    "duration": 67,
    "start_time": "2023-01-08T12:31:24.081Z"
   },
   {
    "duration": 5129,
    "start_time": "2023-01-08T12:31:37.180Z"
   },
   {
    "duration": 18,
    "start_time": "2023-01-08T13:06:03.332Z"
   },
   {
    "duration": 4,
    "start_time": "2023-01-08T13:06:13.235Z"
   },
   {
    "duration": 86,
    "start_time": "2023-01-08T13:06:14.075Z"
   },
   {
    "duration": 38,
    "start_time": "2023-01-08T13:06:15.203Z"
   },
   {
    "duration": 2,
    "start_time": "2023-01-08T13:06:20.088Z"
   },
   {
    "duration": 13,
    "start_time": "2023-01-08T13:06:22.117Z"
   },
   {
    "duration": 18,
    "start_time": "2023-01-08T13:06:26.358Z"
   },
   {
    "duration": 19,
    "start_time": "2023-01-08T13:07:42.973Z"
   },
   {
    "duration": 5565,
    "start_time": "2023-01-08T13:07:43.301Z"
   },
   {
    "duration": 97,
    "start_time": "2023-01-08T13:07:48.868Z"
   },
   {
    "duration": 40,
    "start_time": "2023-01-08T13:08:27.177Z"
   },
   {
    "duration": 131,
    "start_time": "2023-01-08T13:09:12.395Z"
   },
   {
    "duration": 101,
    "start_time": "2023-01-08T13:09:24.385Z"
   },
   {
    "duration": 131,
    "start_time": "2023-01-08T13:09:30.866Z"
   },
   {
    "duration": 4623,
    "start_time": "2023-01-08T13:15:28.022Z"
   },
   {
    "duration": 4854,
    "start_time": "2023-01-08T13:29:21.624Z"
   },
   {
    "duration": 4567,
    "start_time": "2023-01-08T13:30:22.645Z"
   },
   {
    "duration": 10989,
    "start_time": "2023-01-08T13:34:06.629Z"
   },
   {
    "duration": 39884,
    "start_time": "2023-01-08T13:34:40.230Z"
   },
   {
    "duration": 564,
    "start_time": "2023-01-08T13:37:20.167Z"
   },
   {
    "duration": 1164,
    "start_time": "2023-01-08T13:37:48.122Z"
   },
   {
    "duration": 75,
    "start_time": "2023-01-08T13:38:12.109Z"
   },
   {
    "duration": 4160,
    "start_time": "2023-01-08T13:38:12.658Z"
   },
   {
    "duration": 111,
    "start_time": "2023-01-08T13:38:16.820Z"
   },
   {
    "duration": 100,
    "start_time": "2023-01-08T13:40:01.368Z"
   },
   {
    "duration": 283,
    "start_time": "2023-01-08T13:40:09.730Z"
   },
   {
    "duration": 117,
    "start_time": "2023-01-08T13:40:26.845Z"
   },
   {
    "duration": 115,
    "start_time": "2023-01-08T13:40:33.174Z"
   },
   {
    "duration": 108,
    "start_time": "2023-01-08T13:40:50.838Z"
   },
   {
    "duration": 40855,
    "start_time": "2023-01-08T13:40:51.205Z"
   },
   {
    "duration": 74504,
    "start_time": "2023-01-08T13:43:19.504Z"
   },
   {
    "duration": 12018,
    "start_time": "2023-01-08T13:44:40.091Z"
   },
   {
    "duration": 4510,
    "start_time": "2023-01-08T13:45:05.690Z"
   },
   {
    "duration": 16782,
    "start_time": "2023-01-08T13:46:13.016Z"
   },
   {
    "duration": 10144,
    "start_time": "2023-01-08T13:47:14.117Z"
   },
   {
    "duration": 26792,
    "start_time": "2023-01-08T13:48:32.371Z"
   },
   {
    "duration": 20964,
    "start_time": "2023-01-08T13:49:47.492Z"
   },
   {
    "duration": 20566,
    "start_time": "2023-01-08T13:50:41.987Z"
   },
   {
    "duration": 26908,
    "start_time": "2023-01-08T13:51:28.335Z"
   },
   {
    "duration": 8,
    "start_time": "2023-01-08T13:52:18.224Z"
   },
   {
    "duration": 7,
    "start_time": "2023-01-08T13:52:35.871Z"
   },
   {
    "duration": 41186,
    "start_time": "2023-01-08T13:53:14.517Z"
   },
   {
    "duration": 25641,
    "start_time": "2023-01-08T13:54:09.560Z"
   },
   {
    "duration": 12256,
    "start_time": "2023-01-08T13:55:04.124Z"
   },
   {
    "duration": 15244,
    "start_time": "2023-01-08T13:55:56.515Z"
   },
   {
    "duration": 15572,
    "start_time": "2023-01-08T13:56:37.342Z"
   },
   {
    "duration": 14836,
    "start_time": "2023-01-08T13:57:13.917Z"
   },
   {
    "duration": 3,
    "start_time": "2023-01-08T14:06:30.367Z"
   },
   {
    "duration": 37,
    "start_time": "2023-01-08T14:06:35.588Z"
   },
   {
    "duration": 12,
    "start_time": "2023-01-08T14:06:41.432Z"
   },
   {
    "duration": 85,
    "start_time": "2023-01-08T14:06:46.574Z"
   },
   {
    "duration": 14871,
    "start_time": "2023-01-08T14:06:53.638Z"
   },
   {
    "duration": 118,
    "start_time": "2023-01-08T14:07:15.357Z"
   },
   {
    "duration": 11,
    "start_time": "2023-01-08T15:00:50.330Z"
   },
   {
    "duration": 11,
    "start_time": "2023-01-08T15:01:55.410Z"
   },
   {
    "duration": 1073,
    "start_time": "2023-01-08T15:52:43.602Z"
   },
   {
    "duration": 66,
    "start_time": "2023-01-08T15:52:44.677Z"
   },
   {
    "duration": 93,
    "start_time": "2023-01-08T15:52:44.924Z"
   },
   {
    "duration": 3,
    "start_time": "2023-01-08T15:52:46.204Z"
   },
   {
    "duration": 12,
    "start_time": "2023-01-08T15:52:52.309Z"
   },
   {
    "duration": 99,
    "start_time": "2023-01-08T15:52:54.913Z"
   },
   {
    "duration": 12874,
    "start_time": "2023-01-08T15:52:58.079Z"
   },
   {
    "duration": 89,
    "start_time": "2023-01-08T15:53:10.955Z"
   },
   {
    "duration": 14198,
    "start_time": "2023-01-08T15:53:18.749Z"
   },
   {
    "duration": 107,
    "start_time": "2023-01-08T15:53:32.948Z"
   },
   {
    "duration": 12,
    "start_time": "2023-01-08T15:54:27.960Z"
   },
   {
    "duration": 9,
    "start_time": "2023-01-08T15:54:51.066Z"
   },
   {
    "duration": 9,
    "start_time": "2023-01-08T16:04:43.368Z"
   },
   {
    "duration": 12,
    "start_time": "2023-01-08T16:07:52.420Z"
   },
   {
    "duration": 10,
    "start_time": "2023-01-08T16:21:52.830Z"
   },
   {
    "duration": 10,
    "start_time": "2023-01-08T16:26:04.283Z"
   },
   {
    "duration": 10,
    "start_time": "2023-01-08T17:18:23.914Z"
   },
   {
    "duration": 13,
    "start_time": "2023-01-08T17:19:53.223Z"
   },
   {
    "duration": 8,
    "start_time": "2023-01-08T17:20:14.112Z"
   },
   {
    "duration": 6,
    "start_time": "2023-01-08T17:20:35.429Z"
   },
   {
    "duration": 6,
    "start_time": "2023-01-08T17:49:00.409Z"
   },
   {
    "duration": 5,
    "start_time": "2023-01-08T17:53:32.300Z"
   },
   {
    "duration": 89,
    "start_time": "2023-01-08T22:28:11.996Z"
   },
   {
    "duration": 1415,
    "start_time": "2023-01-08T22:28:42.116Z"
   },
   {
    "duration": 102,
    "start_time": "2023-01-08T22:28:44.421Z"
   },
   {
    "duration": 22,
    "start_time": "2023-01-08T22:28:46.590Z"
   },
   {
    "duration": 131,
    "start_time": "2023-01-08T22:28:51.952Z"
   },
   {
    "duration": 17702,
    "start_time": "2023-01-08T22:28:55.989Z"
   },
   {
    "duration": 145,
    "start_time": "2023-01-08T22:29:13.693Z"
   },
   {
    "duration": 78,
    "start_time": "2023-01-08T22:44:56.306Z"
   },
   {
    "duration": 104,
    "start_time": "2023-01-08T22:48:30.894Z"
   },
   {
    "duration": 79,
    "start_time": "2023-01-08T22:48:48.769Z"
   },
   {
    "duration": 95,
    "start_time": "2023-01-08T22:49:05.116Z"
   },
   {
    "duration": 82,
    "start_time": "2023-01-08T23:18:19.170Z"
   },
   {
    "duration": 108,
    "start_time": "2023-01-08T23:18:32.481Z"
   },
   {
    "duration": 118,
    "start_time": "2023-01-08T23:24:44.967Z"
   },
   {
    "duration": 78,
    "start_time": "2023-01-08T23:32:06.708Z"
   },
   {
    "duration": 8,
    "start_time": "2023-01-08T23:39:29.939Z"
   },
   {
    "duration": 8,
    "start_time": "2023-01-08T23:40:50.904Z"
   },
   {
    "duration": 10,
    "start_time": "2023-01-08T23:43:30.467Z"
   },
   {
    "duration": 10,
    "start_time": "2023-01-08T23:44:04.542Z"
   },
   {
    "duration": 39,
    "start_time": "2023-01-08T23:44:06.914Z"
   },
   {
    "duration": 18,
    "start_time": "2023-01-08T23:44:08.241Z"
   },
   {
    "duration": 69,
    "start_time": "2023-01-08T23:44:14.579Z"
   },
   {
    "duration": 85,
    "start_time": "2023-01-08T23:44:15.534Z"
   },
   {
    "duration": 17,
    "start_time": "2023-01-08T23:44:29.571Z"
   },
   {
    "duration": 12,
    "start_time": "2023-01-08T23:44:35.487Z"
   },
   {
    "duration": 15,
    "start_time": "2023-01-08T23:45:00.684Z"
   },
   {
    "duration": 12,
    "start_time": "2023-01-08T23:45:07.762Z"
   },
   {
    "duration": 13,
    "start_time": "2023-01-08T23:45:17.658Z"
   },
   {
    "duration": 11,
    "start_time": "2023-01-08T23:46:39.967Z"
   },
   {
    "duration": 4,
    "start_time": "2023-01-08T23:47:17.416Z"
   },
   {
    "duration": 38,
    "start_time": "2023-01-08T23:47:21.501Z"
   },
   {
    "duration": 14,
    "start_time": "2023-01-08T23:47:21.991Z"
   },
   {
    "duration": 9,
    "start_time": "2023-01-08T23:47:30.194Z"
   },
   {
    "duration": 12,
    "start_time": "2023-01-08T23:50:00.455Z"
   },
   {
    "duration": 17,
    "start_time": "2023-01-08T23:50:25.445Z"
   },
   {
    "duration": 11,
    "start_time": "2023-01-08T23:50:57.485Z"
   },
   {
    "duration": 81,
    "start_time": "2023-01-08T23:55:21.799Z"
   },
   {
    "duration": 7,
    "start_time": "2023-01-09T00:02:34.783Z"
   },
   {
    "duration": 71,
    "start_time": "2023-01-12T18:51:40.873Z"
   },
   {
    "duration": 1156,
    "start_time": "2023-01-12T18:54:09.015Z"
   },
   {
    "duration": 78,
    "start_time": "2023-01-12T18:54:10.604Z"
   },
   {
    "duration": 4,
    "start_time": "2023-01-12T19:41:39.033Z"
   },
   {
    "duration": 37,
    "start_time": "2023-01-12T19:41:40.171Z"
   },
   {
    "duration": 12,
    "start_time": "2023-01-12T19:41:41.017Z"
   },
   {
    "duration": 69,
    "start_time": "2023-01-12T19:41:42.563Z"
   },
   {
    "duration": 13324,
    "start_time": "2023-01-12T19:41:46.828Z"
   },
   {
    "duration": 103,
    "start_time": "2023-01-12T19:42:00.154Z"
   },
   {
    "duration": 4,
    "start_time": "2023-01-12T19:55:37.190Z"
   },
   {
    "duration": 49,
    "start_time": "2023-01-12T19:55:37.206Z"
   },
   {
    "duration": 17,
    "start_time": "2023-01-12T19:55:37.257Z"
   },
   {
    "duration": 79,
    "start_time": "2023-01-12T19:55:37.277Z"
   },
   {
    "duration": 14229,
    "start_time": "2023-01-12T19:55:51.706Z"
   },
   {
    "duration": 5,
    "start_time": "2023-01-12T19:56:57.532Z"
   },
   {
    "duration": 37,
    "start_time": "2023-01-12T19:57:02.294Z"
   },
   {
    "duration": 12,
    "start_time": "2023-01-12T19:57:04.540Z"
   },
   {
    "duration": 106,
    "start_time": "2023-01-12T19:57:07.545Z"
   },
   {
    "duration": 14403,
    "start_time": "2023-01-12T19:57:13.841Z"
   },
   {
    "duration": 14431,
    "start_time": "2023-01-12T20:21:55.118Z"
   },
   {
    "duration": 99,
    "start_time": "2023-01-12T20:43:39.956Z"
   },
   {
    "duration": 5,
    "start_time": "2023-01-12T20:43:54.924Z"
   },
   {
    "duration": 36,
    "start_time": "2023-01-12T20:43:55.887Z"
   },
   {
    "duration": 12,
    "start_time": "2023-01-12T20:43:56.412Z"
   },
   {
    "duration": 69,
    "start_time": "2023-01-12T20:43:57.161Z"
   },
   {
    "duration": 13681,
    "start_time": "2023-01-12T20:43:57.880Z"
   },
   {
    "duration": 106,
    "start_time": "2023-01-12T20:44:11.563Z"
   },
   {
    "duration": 65,
    "start_time": "2023-01-12T20:44:11.671Z"
   },
   {
    "duration": 0,
    "start_time": "2023-01-12T20:44:11.738Z"
   },
   {
    "duration": 0,
    "start_time": "2023-01-12T20:44:11.739Z"
   },
   {
    "duration": 0,
    "start_time": "2023-01-12T20:44:11.740Z"
   },
   {
    "duration": 0,
    "start_time": "2023-01-12T20:44:11.741Z"
   },
   {
    "duration": 13837,
    "start_time": "2023-01-12T20:44:46.227Z"
   },
   {
    "duration": 123,
    "start_time": "2023-01-12T20:45:00.066Z"
   },
   {
    "duration": 70,
    "start_time": "2023-01-12T20:45:00.191Z"
   },
   {
    "duration": 14370,
    "start_time": "2023-01-12T20:45:42.906Z"
   },
   {
    "duration": 5,
    "start_time": "2023-01-12T20:45:57.278Z"
   },
   {
    "duration": 1634,
    "start_time": "2023-01-12T21:18:13.260Z"
   },
   {
    "duration": 44,
    "start_time": "2023-01-12T21:18:14.896Z"
   },
   {
    "duration": 11,
    "start_time": "2023-01-12T21:18:14.942Z"
   },
   {
    "duration": 77,
    "start_time": "2023-01-12T21:18:14.955Z"
   },
   {
    "duration": 13505,
    "start_time": "2023-01-12T21:18:15.034Z"
   },
   {
    "duration": 97,
    "start_time": "2023-01-12T21:18:28.541Z"
   },
   {
    "duration": 14058,
    "start_time": "2023-01-12T21:18:28.639Z"
   },
   {
    "duration": 6,
    "start_time": "2023-01-12T21:18:42.699Z"
   },
   {
    "duration": 95,
    "start_time": "2023-01-12T21:18:42.707Z"
   },
   {
    "duration": 94,
    "start_time": "2023-01-12T21:30:06.251Z"
   },
   {
    "duration": 3,
    "start_time": "2023-01-12T21:30:12.103Z"
   },
   {
    "duration": 4,
    "start_time": "2023-01-12T21:30:32.702Z"
   },
   {
    "duration": 3,
    "start_time": "2023-01-12T21:30:38.171Z"
   },
   {
    "duration": 63,
    "start_time": "2023-01-12T21:38:38.502Z"
   },
   {
    "duration": 65,
    "start_time": "2023-01-12T21:39:14.209Z"
   },
   {
    "duration": 67,
    "start_time": "2023-01-12T21:39:49.585Z"
   },
   {
    "duration": 12860,
    "start_time": "2023-01-12T21:42:36.283Z"
   },
   {
    "duration": 12755,
    "start_time": "2023-01-12T21:43:06.568Z"
   },
   {
    "duration": 1080,
    "start_time": "2023-01-13T09:12:12.957Z"
   },
   {
    "duration": 91,
    "start_time": "2023-01-13T09:12:14.039Z"
   },
   {
    "duration": 12,
    "start_time": "2023-01-13T09:12:16.543Z"
   },
   {
    "duration": 3,
    "start_time": "2023-01-13T09:37:44.725Z"
   },
   {
    "duration": 38,
    "start_time": "2023-01-13T09:37:45.402Z"
   },
   {
    "duration": 10,
    "start_time": "2023-01-13T09:37:46.525Z"
   },
   {
    "duration": 104,
    "start_time": "2023-01-13T09:37:50.079Z"
   },
   {
    "duration": 12,
    "start_time": "2023-01-13T09:39:00.918Z"
   },
   {
    "duration": 16,
    "start_time": "2023-01-13T09:39:24.446Z"
   },
   {
    "duration": 16,
    "start_time": "2023-01-13T09:40:10.160Z"
   },
   {
    "duration": 12,
    "start_time": "2023-01-13T10:16:48.330Z"
   },
   {
    "duration": 12,
    "start_time": "2023-01-13T10:17:14.435Z"
   },
   {
    "duration": 21,
    "start_time": "2023-01-13T10:20:46.214Z"
   },
   {
    "duration": 16,
    "start_time": "2023-01-13T10:21:30.047Z"
   },
   {
    "duration": 22,
    "start_time": "2023-01-13T10:21:45.011Z"
   },
   {
    "duration": 11,
    "start_time": "2023-01-13T10:22:13.045Z"
   },
   {
    "duration": 11,
    "start_time": "2023-01-13T10:23:34.328Z"
   },
   {
    "duration": 10,
    "start_time": "2023-01-13T10:24:46.157Z"
   },
   {
    "duration": 21,
    "start_time": "2023-01-13T10:33:04.376Z"
   },
   {
    "duration": 11,
    "start_time": "2023-01-13T10:34:01.863Z"
   },
   {
    "duration": 77,
    "start_time": "2023-01-13T10:40:34.739Z"
   },
   {
    "duration": 10,
    "start_time": "2023-01-13T10:41:18.512Z"
   },
   {
    "duration": 78,
    "start_time": "2023-01-13T10:41:35.110Z"
   },
   {
    "duration": 20,
    "start_time": "2023-01-13T10:41:51.108Z"
   },
   {
    "duration": 19,
    "start_time": "2023-01-13T10:47:41.428Z"
   },
   {
    "duration": 17,
    "start_time": "2023-01-13T10:47:59.533Z"
   },
   {
    "duration": 18,
    "start_time": "2023-01-13T10:48:40.128Z"
   },
   {
    "duration": 104,
    "start_time": "2023-01-13T10:49:55.645Z"
   },
   {
    "duration": 82,
    "start_time": "2023-01-13T10:50:37.878Z"
   },
   {
    "duration": 10,
    "start_time": "2023-01-13T10:50:51.666Z"
   },
   {
    "duration": 16,
    "start_time": "2023-01-13T10:54:35.602Z"
   },
   {
    "duration": 4,
    "start_time": "2023-01-13T10:55:14.863Z"
   },
   {
    "duration": 35,
    "start_time": "2023-01-13T10:55:15.916Z"
   },
   {
    "duration": 10,
    "start_time": "2023-01-13T10:55:18.825Z"
   },
   {
    "duration": 17,
    "start_time": "2023-01-13T10:55:24.090Z"
   },
   {
    "duration": 10,
    "start_time": "2023-01-13T10:56:25.747Z"
   },
   {
    "duration": 22,
    "start_time": "2023-01-13T11:00:16.060Z"
   },
   {
    "duration": 17,
    "start_time": "2023-01-13T11:01:13.714Z"
   },
   {
    "duration": 13,
    "start_time": "2023-01-13T11:04:50.682Z"
   },
   {
    "duration": 1159,
    "start_time": "2023-01-13T13:47:57.580Z"
   },
   {
    "duration": 92,
    "start_time": "2023-01-13T13:47:58.749Z"
   },
   {
    "duration": 11,
    "start_time": "2023-01-13T13:47:59.201Z"
   },
   {
    "duration": 16,
    "start_time": "2023-01-13T13:48:00.070Z"
   },
   {
    "duration": 89,
    "start_time": "2023-01-13T13:48:04.849Z"
   },
   {
    "duration": 89,
    "start_time": "2023-01-13T13:49:07.644Z"
   },
   {
    "duration": 117,
    "start_time": "2023-01-13T13:53:46.856Z"
   },
   {
    "duration": 81,
    "start_time": "2023-01-13T13:54:10.184Z"
   },
   {
    "duration": 117,
    "start_time": "2023-01-13T13:54:39.692Z"
   },
   {
    "duration": 79,
    "start_time": "2023-01-13T13:56:11.902Z"
   },
   {
    "duration": 108,
    "start_time": "2023-01-13T13:56:44.223Z"
   },
   {
    "duration": 114,
    "start_time": "2023-01-13T13:56:59.290Z"
   },
   {
    "duration": 102,
    "start_time": "2023-01-13T13:59:11.943Z"
   },
   {
    "duration": 89,
    "start_time": "2023-01-13T14:00:25.720Z"
   },
   {
    "duration": 30,
    "start_time": "2023-01-13T14:00:48.282Z"
   },
   {
    "duration": 108,
    "start_time": "2023-01-13T14:01:15.046Z"
   },
   {
    "duration": 83,
    "start_time": "2023-01-13T14:08:37.964Z"
   },
   {
    "duration": 89,
    "start_time": "2023-01-13T14:13:42.283Z"
   },
   {
    "duration": 138,
    "start_time": "2023-01-13T14:17:57.438Z"
   },
   {
    "duration": 264,
    "start_time": "2023-01-13T14:18:05.591Z"
   },
   {
    "duration": 137,
    "start_time": "2023-01-13T14:18:17.780Z"
   },
   {
    "duration": 113,
    "start_time": "2023-01-13T14:18:23.756Z"
   },
   {
    "duration": 104,
    "start_time": "2023-01-13T14:18:30.064Z"
   },
   {
    "duration": 97,
    "start_time": "2023-01-13T14:18:37.542Z"
   },
   {
    "duration": 84,
    "start_time": "2023-01-13T14:18:44.779Z"
   },
   {
    "duration": 73,
    "start_time": "2023-01-13T14:18:52.145Z"
   },
   {
    "duration": 177,
    "start_time": "2023-01-13T14:19:00.492Z"
   },
   {
    "duration": 68,
    "start_time": "2023-01-13T14:19:09.318Z"
   },
   {
    "duration": 50,
    "start_time": "2023-01-13T14:19:51.562Z"
   },
   {
    "duration": 49,
    "start_time": "2023-01-13T14:20:00.289Z"
   },
   {
    "duration": 45,
    "start_time": "2023-01-13T14:20:10.864Z"
   },
   {
    "duration": 38,
    "start_time": "2023-01-13T14:20:21.726Z"
   },
   {
    "duration": 61,
    "start_time": "2023-01-13T14:20:28.955Z"
   },
   {
    "duration": 14914,
    "start_time": "2023-01-13T14:23:32.136Z"
   },
   {
    "duration": 77,
    "start_time": "2023-01-13T14:25:06.173Z"
   },
   {
    "duration": 14484,
    "start_time": "2023-01-13T14:25:29.296Z"
   },
   {
    "duration": 75,
    "start_time": "2023-01-13T14:47:53.642Z"
   },
   {
    "duration": 81,
    "start_time": "2023-01-13T14:49:38.388Z"
   },
   {
    "duration": 15054,
    "start_time": "2023-01-13T14:49:51.239Z"
   },
   {
    "duration": 24895,
    "start_time": "2023-01-13T14:50:37.355Z"
   },
   {
    "duration": 236084,
    "start_time": "2023-01-13T14:51:15.500Z"
   },
   {
    "duration": 76985,
    "start_time": "2023-01-13T14:56:41.960Z"
   },
   {
    "duration": 1066,
    "start_time": "2023-01-18T19:31:21.791Z"
   },
   {
    "duration": 137,
    "start_time": "2023-01-18T19:31:22.859Z"
   },
   {
    "duration": 11,
    "start_time": "2023-01-18T19:31:24.355Z"
   },
   {
    "duration": 15,
    "start_time": "2023-01-18T19:31:30.242Z"
   },
   {
    "duration": 15,
    "start_time": "2023-01-18T19:32:48.635Z"
   },
   {
    "duration": 18,
    "start_time": "2023-01-18T19:35:03.405Z"
   },
   {
    "duration": 13,
    "start_time": "2023-01-18T19:36:10.108Z"
   },
   {
    "duration": 17,
    "start_time": "2023-01-18T19:38:16.619Z"
   },
   {
    "duration": 15,
    "start_time": "2023-01-18T19:40:10.166Z"
   },
   {
    "duration": 13,
    "start_time": "2023-01-18T19:42:18.686Z"
   },
   {
    "duration": 15,
    "start_time": "2023-01-18T19:43:47.351Z"
   },
   {
    "duration": 20,
    "start_time": "2023-01-18T19:46:37.069Z"
   },
   {
    "duration": 17,
    "start_time": "2023-01-18T19:48:43.766Z"
   },
   {
    "duration": 16,
    "start_time": "2023-01-18T19:55:53.691Z"
   },
   {
    "duration": 21,
    "start_time": "2023-01-18T20:02:00.175Z"
   },
   {
    "duration": 26,
    "start_time": "2023-01-18T20:02:12.217Z"
   },
   {
    "duration": 47,
    "start_time": "2023-01-18T20:02:31.837Z"
   },
   {
    "duration": 38,
    "start_time": "2023-01-18T20:09:38.740Z"
   },
   {
    "duration": 40,
    "start_time": "2023-01-18T20:09:51.997Z"
   },
   {
    "duration": 3,
    "start_time": "2023-01-18T20:10:04.704Z"
   },
   {
    "duration": 37,
    "start_time": "2023-01-18T20:10:05.877Z"
   },
   {
    "duration": 9,
    "start_time": "2023-01-18T20:10:06.327Z"
   },
   {
    "duration": 14,
    "start_time": "2023-01-18T20:10:06.958Z"
   },
   {
    "duration": 52,
    "start_time": "2023-01-18T20:10:19.740Z"
   },
   {
    "duration": 46,
    "start_time": "2023-01-18T20:10:21.846Z"
   },
   {
    "duration": 38,
    "start_time": "2023-01-18T20:11:41.219Z"
   },
   {
    "duration": 44,
    "start_time": "2023-01-18T20:13:02.332Z"
   },
   {
    "duration": 42,
    "start_time": "2023-01-18T20:25:55.681Z"
   },
   {
    "duration": 49,
    "start_time": "2023-01-18T20:26:43.012Z"
   },
   {
    "duration": 124,
    "start_time": "2023-01-18T20:28:36.473Z"
   },
   {
    "duration": 68578,
    "start_time": "2023-01-18T20:30:42.174Z"
   },
   {
    "duration": 228,
    "start_time": "2023-01-18T20:36:04.776Z"
   },
   {
    "duration": 18034,
    "start_time": "2023-01-18T20:36:33.167Z"
   },
   {
    "duration": 18317,
    "start_time": "2023-01-18T20:38:39.242Z"
   },
   {
    "duration": 220,
    "start_time": "2023-01-18T20:39:53.382Z"
   },
   {
    "duration": 762,
    "start_time": "2023-01-18T20:40:12.183Z"
   },
   {
    "duration": 1175,
    "start_time": "2023-01-18T20:40:23.285Z"
   },
   {
    "duration": 773,
    "start_time": "2023-01-18T20:41:26.532Z"
   },
   {
    "duration": 2196,
    "start_time": "2023-01-18T20:41:50.329Z"
   },
   {
    "duration": 1182,
    "start_time": "2023-01-18T20:42:07.085Z"
   },
   {
    "duration": 1004,
    "start_time": "2023-01-18T20:42:19.030Z"
   },
   {
    "duration": 735,
    "start_time": "2023-01-18T20:42:30.969Z"
   },
   {
    "duration": 821,
    "start_time": "2023-01-18T20:42:49.803Z"
   },
   {
    "duration": 971,
    "start_time": "2023-01-18T20:43:04.476Z"
   },
   {
    "duration": 1614,
    "start_time": "2023-01-18T20:46:06.372Z"
   },
   {
    "duration": 1799,
    "start_time": "2023-01-18T20:48:07.000Z"
   },
   {
    "duration": 1896,
    "start_time": "2023-01-18T20:48:25.576Z"
   },
   {
    "duration": 1828,
    "start_time": "2023-01-18T20:49:05.676Z"
   },
   {
    "duration": 1766,
    "start_time": "2023-01-18T20:50:01.876Z"
   },
   {
    "duration": 1500,
    "start_time": "2023-01-18T20:50:58.700Z"
   },
   {
    "duration": 7801,
    "start_time": "2023-01-18T20:51:15.590Z"
   },
   {
    "duration": 7905,
    "start_time": "2023-01-18T20:52:14.195Z"
   },
   {
    "duration": 69399,
    "start_time": "2023-01-18T20:54:35.819Z"
   },
   {
    "duration": 68091,
    "start_time": "2023-01-18T20:57:04.621Z"
   },
   {
    "duration": 1282,
    "start_time": "2023-01-18T20:59:03.138Z"
   },
   {
    "duration": 2904,
    "start_time": "2023-01-18T20:59:37.869Z"
   },
   {
    "duration": 6672,
    "start_time": "2023-01-18T21:00:01.832Z"
   },
   {
    "duration": 6590,
    "start_time": "2023-01-18T21:03:28.789Z"
   },
   {
    "duration": 85,
    "start_time": "2023-01-18T21:12:35.208Z"
   },
   {
    "duration": 1134,
    "start_time": "2023-01-18T21:41:31.302Z"
   },
   {
    "duration": 149,
    "start_time": "2023-01-18T21:41:32.437Z"
   },
   {
    "duration": 23,
    "start_time": "2023-01-18T21:41:32.881Z"
   },
   {
    "duration": 16,
    "start_time": "2023-01-18T21:41:33.577Z"
   },
   {
    "duration": 45,
    "start_time": "2023-01-18T21:41:37.308Z"
   },
   {
    "duration": 7293,
    "start_time": "2023-01-18T21:41:40.514Z"
   },
   {
    "duration": 40,
    "start_time": "2023-01-18T21:41:47.809Z"
   },
   {
    "duration": 91,
    "start_time": "2023-01-18T21:42:07.167Z"
   },
   {
    "duration": 52,
    "start_time": "2023-01-18T21:42:09.524Z"
   },
   {
    "duration": 54,
    "start_time": "2023-01-18T21:42:13.836Z"
   },
   {
    "duration": 219,
    "start_time": "2023-01-18T21:44:20.538Z"
   },
   {
    "duration": 86,
    "start_time": "2023-01-18T21:47:46.360Z"
   },
   {
    "duration": 206,
    "start_time": "2023-01-18T21:48:03.808Z"
   },
   {
    "duration": 83,
    "start_time": "2023-01-18T21:48:25.870Z"
   },
   {
    "duration": 36,
    "start_time": "2023-01-18T21:57:10.431Z"
   },
   {
    "duration": 2364,
    "start_time": "2023-01-19T16:11:22.512Z"
   },
   {
    "duration": 91,
    "start_time": "2023-01-19T16:11:24.878Z"
   },
   {
    "duration": 11,
    "start_time": "2023-01-19T16:11:24.971Z"
   },
   {
    "duration": 18,
    "start_time": "2023-01-19T16:11:25.038Z"
   },
   {
    "duration": 111,
    "start_time": "2023-01-19T16:11:25.058Z"
   },
   {
    "duration": 14806,
    "start_time": "2023-01-19T16:11:25.171Z"
   },
   {
    "duration": 211,
    "start_time": "2023-01-19T16:11:39.979Z"
   },
   {
    "duration": 462,
    "start_time": "2023-01-19T16:11:40.192Z"
   },
   {
    "duration": 6,
    "start_time": "2023-01-19T16:11:40.656Z"
   }
  ],
  "kernelspec": {
   "display_name": "Python 3 (ipykernel)",
   "language": "python",
   "name": "python3"
  },
  "language_info": {
   "codemirror_mode": {
    "name": "ipython",
    "version": 3
   },
   "file_extension": ".py",
   "mimetype": "text/x-python",
   "name": "python",
   "nbconvert_exporter": "python",
   "pygments_lexer": "ipython3",
   "version": "3.9.5"
  },
  "toc": {
   "base_numbering": 1,
   "nav_menu": {},
   "number_sections": true,
   "sideBar": true,
   "skip_h1_title": true,
   "title_cell": "Содержание",
   "title_sidebar": "Contents",
   "toc_cell": true,
   "toc_position": {},
   "toc_section_display": true,
   "toc_window_display": false
  }
 },
 "nbformat": 4,
 "nbformat_minor": 2
}
