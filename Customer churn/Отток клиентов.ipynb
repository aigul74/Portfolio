{
 "cells": [
  {
   "cell_type": "markdown",
   "metadata": {},
   "source": [
    "<div style=\"border:solid Chocolate 2px; padding: 40px\">\n",
    " \n",
    "<b> Айгуль, привет!👋</b>  \n",
    "\n",
    "Меня зовут Кирилл Васильев, я буду ревьюером твоего проекта. Я предлагаю общаться на «ты», но если привычнее на «вы», просто скажи об этом! \n",
    "\n",
    "Я буду оставлять комментарии в твоем проекте. Пожалуйста, не удаляй их, они могут быть полезны в случае повторной проверки.\n",
    "\n",
    "Ты можешь реагировать на комментарии как просто написав их в Markdown-ячейках, так и выделив их цветом. Например, <font color='blue'>синим</font>. Второй способ, на мой взгляд, удобнее.\n",
    "\n",
    "Свои комментарии я буду обозначать <font color='green'>зеленым</font>, <font color='gold'>желтым</font> и <font color='red'>красным</font> цветами, например:\n",
    " \n",
    "<br/>\n",
    "\n",
    "<div class=\"alert alert-success\">\n",
    "<h2> Комментарий ревьюера <a class=\"tocSkip\"> </h2>\n",
    "\n",
    "<b>Все отлично!👍:</b> В случае, если решение на отдельном шаге является полностью правильным. Здесь же я могу давать советы и предложения.\n",
    "</div>\n",
    "\n",
    "<br/>\n",
    "\n",
    "<div class=\"alert alert-warning\">\n",
    "    <h2> Комментарий ревьюера <a class=\"tocSkip\"> </h2>\n",
    "    \n",
    "<b>Некоторые замечания и рекомендации💡:</b> В случае, когда решение на отдельном шаге станет еще лучше, если внести небольшие коррективы.\n",
    "</div>\n",
    "\n",
    "\n",
    "<br/>\n",
    "<div class=\"alert alert-block alert-danger\">\n",
    "<h2> Комментарий ревьюера <a class=\"tocSkip\"></h2>\n",
    "\n",
    "    \n",
    "<b>На доработку🤔:</b>\n",
    " В случае, когда решение на отдельном шаге требует существенной переработки и внесения правок. Напоминаю, что проект не может быть принят с первого раза, если ревью содержит комментарии, рекомендующие доработать шаги.\n",
    "</div>\n",
    "    \n",
    "Увидев у тебя неточность, в первый раз я лишь укажу на ее наличие и дам тебе возможность самому найти и исправить ее. На реальной работе твой руководитель будет поступать также. Но если ты пока не справишься с такой задачей - при следующей проверке я дам более точную подсказку! "
   ]
  },
  {
   "cell_type": "markdown",
   "metadata": {
    "toc": true
   },
   "source": [
    "<h1>Содержание<span class=\"tocSkip\"></span></h1>\n",
    "<div class=\"toc\"><ul class=\"toc-item\"><li><span><a href=\"#Изучение-данных\" data-toc-modified-id=\"Изучение-данных-1\"><span class=\"toc-item-num\">1&nbsp;&nbsp;</span>Изучение данных</a></span></li><li><span><a href=\"#Предобработка-данных.\" data-toc-modified-id=\"Предобработка-данных.-2\"><span class=\"toc-item-num\">2&nbsp;&nbsp;</span>Предобработка данных.</a></span></li><li><span><a href=\"#Подготовка-данных\" data-toc-modified-id=\"Подготовка-данных-3\"><span class=\"toc-item-num\">3&nbsp;&nbsp;</span>Подготовка данных</a></span><ul class=\"toc-item\"><li><span><a href=\"#Очистка-признаков-и-перезапись-df.\" data-toc-modified-id=\"Очистка-признаков-и-перезапись-df.-3.1\"><span class=\"toc-item-num\">3.1&nbsp;&nbsp;</span>Очистка признаков и перезапись df.</a></span></li><li><span><a href=\"#Разделение-данных-на-выборки\" data-toc-modified-id=\"Разделение-данных-на-выборки-3.2\"><span class=\"toc-item-num\">3.2&nbsp;&nbsp;</span>Разделение данных на выборки</a></span></li><li><span><a href=\"#Масштабирование-признаков\" data-toc-modified-id=\"Масштабирование-признаков-3.3\"><span class=\"toc-item-num\">3.3&nbsp;&nbsp;</span>Масштабирование признаков</a></span></li></ul></li><li><span><a href=\"#Исследование-задачи\" data-toc-modified-id=\"Исследование-задачи-4\"><span class=\"toc-item-num\">4&nbsp;&nbsp;</span>Исследование задачи</a></span><ul class=\"toc-item\"><li><span><a href=\"#Обучение-модели-и-нахождение-метрики-F1\" data-toc-modified-id=\"Обучение-модели-и-нахождение-метрики-F1-4.1\"><span class=\"toc-item-num\">4.1&nbsp;&nbsp;</span>Обучение модели и нахождение метрики F1</a></span></li><li><span><a href=\"#Проверка-адекватности-модели\" data-toc-modified-id=\"Проверка-адекватности-модели-4.2\"><span class=\"toc-item-num\">4.2&nbsp;&nbsp;</span>Проверка адекватности модели</a></span></li><li><span><a href=\"#Проверка-на-ошибочность\" data-toc-modified-id=\"Проверка-на-ошибочность-4.3\"><span class=\"toc-item-num\">4.3&nbsp;&nbsp;</span>Проверка на ошибочность</a></span></li><li><span><a href=\"#Метрики-моделей-на-несбалансированных-данных.\" data-toc-modified-id=\"Метрики-моделей-на-несбалансированных-данных.-4.4\"><span class=\"toc-item-num\">4.4&nbsp;&nbsp;</span>Метрики моделей на несбалансированных данных.</a></span></li></ul></li><li><span><a href=\"#Борьба-с-дисбалансом\" data-toc-modified-id=\"Борьба-с-дисбалансом-5\"><span class=\"toc-item-num\">5&nbsp;&nbsp;</span>Борьба с дисбалансом</a></span><ul class=\"toc-item\"><li><span><a href=\"#Обучение-и-подбор-гиперпараметров-на-сбалансированных-данных.\" data-toc-modified-id=\"Обучение-и-подбор-гиперпараметров-на-сбалансированных-данных.-5.1\"><span class=\"toc-item-num\">5.1&nbsp;&nbsp;</span>Обучение и подбор гиперпараметров на сбалансированных данных.</a></span></li><li><span><a href=\"#Проверка-метрик-качества-моделей.\" data-toc-modified-id=\"Проверка-метрик-качества-моделей.-5.2\"><span class=\"toc-item-num\">5.2&nbsp;&nbsp;</span>Проверка метрик качества моделей.</a></span></li><li><span><a href=\"#Адекватность-лучшей-модели\" data-toc-modified-id=\"Адекватность-лучшей-модели-5.3\"><span class=\"toc-item-num\">5.3&nbsp;&nbsp;</span>Адекватность лучшей модели</a></span></li></ul></li><li><span><a href=\"#Тестирование-модели\" data-toc-modified-id=\"Тестирование-модели-6\"><span class=\"toc-item-num\">6&nbsp;&nbsp;</span>Тестирование модели</a></span></li><li><span><a href=\"#Чек-лист-готовности-проекта\" data-toc-modified-id=\"Чек-лист-готовности-проекта-7\"><span class=\"toc-item-num\">7&nbsp;&nbsp;</span>Чек-лист готовности проекта</a></span></li></ul></div>"
   ]
  },
  {
   "cell_type": "markdown",
   "metadata": {},
   "source": [
    "# Отток клиентов"
   ]
  },
  {
   "cell_type": "markdown",
   "metadata": {},
   "source": [
    "Из «Бета-Банка» стали уходить клиенты. Каждый месяц. Немного, но заметно. Банковские маркетологи посчитали: сохранять текущих клиентов дешевле, чем привлекать новых.\n",
    "\n",
    "Нужно спрогнозировать, уйдёт клиент из банка в ближайшее время или нет. Вам предоставлены исторические данные о поведении клиентов и расторжении договоров с банком. \n",
    "\n",
    "Постройте модель с предельно большим значением *F1*-меры. Чтобы сдать проект успешно, нужно довести метрику до 0.59. Проверьте *F1*-меру на тестовой выборке самостоятельно.\n",
    "\n",
    "Дополнительно измеряйте *AUC-ROC*, сравнивайте её значение с *F1*-мерой.\n",
    "\n",
    "Источник данных: [https://www.kaggle.com/barelydedicated/bank-customer-churn-modeling](https://www.kaggle.com/barelydedicated/bank-customer-churn-modeling)"
   ]
  },
  {
   "cell_type": "markdown",
   "metadata": {},
   "source": [
    "## Изучение данных"
   ]
  },
  {
   "cell_type": "code",
   "execution_count": 1,
   "metadata": {},
   "outputs": [
    {
     "name": "stdout",
     "output_type": "stream",
     "text": [
      "Collecting scikit-learn==1.1.3\n",
      "  Downloading scikit_learn-1.1.3-cp39-cp39-manylinux_2_17_x86_64.manylinux2014_x86_64.whl (30.8 MB)\n",
      "\u001b[K     |████████████████████████████████| 30.8 MB 1.7 MB/s eta 0:00:01\n",
      "\u001b[?25hRequirement already satisfied: threadpoolctl>=2.0.0 in /opt/conda/lib/python3.9/site-packages (from scikit-learn==1.1.3) (3.1.0)\n",
      "Requirement already satisfied: numpy>=1.17.3 in /opt/conda/lib/python3.9/site-packages (from scikit-learn==1.1.3) (1.21.1)\n",
      "Requirement already satisfied: scipy>=1.3.2 in /opt/conda/lib/python3.9/site-packages (from scikit-learn==1.1.3) (1.9.1)\n",
      "Requirement already satisfied: joblib>=1.0.0 in /opt/conda/lib/python3.9/site-packages (from scikit-learn==1.1.3) (1.1.0)\n",
      "Installing collected packages: scikit-learn\n",
      "  Attempting uninstall: scikit-learn\n",
      "    Found existing installation: scikit-learn 0.24.1\n",
      "    Uninstalling scikit-learn-0.24.1:\n",
      "      Successfully uninstalled scikit-learn-0.24.1\n",
      "Successfully installed scikit-learn-1.1.3\n"
     ]
    }
   ],
   "source": [
    "!pip install scikit-learn==1.1.3"
   ]
  },
  {
   "cell_type": "code",
   "execution_count": 2,
   "metadata": {},
   "outputs": [],
   "source": [
    "#Импортировали нужные библиотеки\n",
    "import pandas as pd\n",
    "import numpy as np\n",
    "from sklearn.dummy import DummyClassifier\n",
    "from sklearn.compose import make_column_transformer\n",
    "from sklearn.model_selection import train_test_split\n",
    "from sklearn.linear_model import LogisticRegression\n",
    "from sklearn.tree import DecisionTreeClassifier\n",
    "from sklearn.ensemble import RandomForestClassifier\n",
    "from sklearn.preprocessing import (\n",
    "    StandardScaler,\n",
    "    OneHotEncoder\n",
    ")\n",
    "from sklearn.model_selection import train_test_split, GridSearchCV\n",
    "from sklearn.utils import shuffle\n",
    "import matplotlib.pyplot as plt\n",
    "from sklearn.metrics import (\n",
    "    accuracy_score,\n",
    "    confusion_matrix, \n",
    "    recall_score,\n",
    "    precision_score,\n",
    "    f1_score,\n",
    "    roc_auc_score,\n",
    "    roc_curve,\n",
    ")\n",
    "import warnings\n",
    "warnings.filterwarnings(\"ignore\")"
   ]
  },
  {
   "cell_type": "markdown",
   "metadata": {},
   "source": [
    "<div class=\"alert alert-warning\">\n",
    "<h2> Комментарий ревьюера <a class=\"tocSkip\"> </h2>\n",
    "    \n",
    "<b>Некоторые замечания и рекомендации💡:</b> \n",
    "    \n",
    "Если загружаем несколько функций из одного пакета, то удобнее записать это через запятую.\n",
    "    \n",
    "`from sklearn.metrics import f1_score, roc_auc_score`\n",
    "    \n",
    "А если через запятую будет больше трех позиций, в таком случае здесь было бы идеально привести оформление в соответствие с <a href=\"https://pythonworld.ru/osnovy/pep-8-rukovodstvo-po-napisaniyu-koda-na-python.html\">pep8</a> - не оставлять длинных строк. \n",
    "\n",
    "Такое оформление предпочтительнее:    \n",
    "    \n",
    "`from sklearn.metrics import (\n",
    "    accuracy_score, \n",
    "    confusion_matrix, \n",
    "    f1_score, \n",
    "    mean_squared_error, \n",
    "    roc_auc_score\n",
    ")`\n",
    "    \n",
    "        \n",
    "</div>\n"
   ]
  },
  {
   "cell_type": "code",
   "execution_count": 3,
   "metadata": {
    "scrolled": false
   },
   "outputs": [
    {
     "name": "stdout",
     "output_type": "stream",
     "text": [
      "<class 'pandas.core.frame.DataFrame'>\n",
      "RangeIndex: 10000 entries, 0 to 9999\n",
      "Data columns (total 14 columns):\n",
      " #   Column           Non-Null Count  Dtype  \n",
      "---  ------           --------------  -----  \n",
      " 0   RowNumber        10000 non-null  int64  \n",
      " 1   CustomerId       10000 non-null  int64  \n",
      " 2   Surname          10000 non-null  object \n",
      " 3   CreditScore      10000 non-null  int64  \n",
      " 4   Geography        10000 non-null  object \n",
      " 5   Gender           10000 non-null  object \n",
      " 6   Age              10000 non-null  int64  \n",
      " 7   Tenure           9091 non-null   float64\n",
      " 8   Balance          10000 non-null  float64\n",
      " 9   NumOfProducts    10000 non-null  int64  \n",
      " 10  HasCrCard        10000 non-null  int64  \n",
      " 11  IsActiveMember   10000 non-null  int64  \n",
      " 12  EstimatedSalary  10000 non-null  float64\n",
      " 13  Exited           10000 non-null  int64  \n",
      "dtypes: float64(3), int64(8), object(3)\n",
      "memory usage: 1.1+ MB\n"
     ]
    },
    {
     "data": {
      "text/html": [
       "<div>\n",
       "<style scoped>\n",
       "    .dataframe tbody tr th:only-of-type {\n",
       "        vertical-align: middle;\n",
       "    }\n",
       "\n",
       "    .dataframe tbody tr th {\n",
       "        vertical-align: top;\n",
       "    }\n",
       "\n",
       "    .dataframe thead th {\n",
       "        text-align: right;\n",
       "    }\n",
       "</style>\n",
       "<table border=\"1\" class=\"dataframe\">\n",
       "  <thead>\n",
       "    <tr style=\"text-align: right;\">\n",
       "      <th></th>\n",
       "      <th>RowNumber</th>\n",
       "      <th>CustomerId</th>\n",
       "      <th>Surname</th>\n",
       "      <th>CreditScore</th>\n",
       "      <th>Geography</th>\n",
       "      <th>Gender</th>\n",
       "      <th>Age</th>\n",
       "      <th>Tenure</th>\n",
       "      <th>Balance</th>\n",
       "      <th>NumOfProducts</th>\n",
       "      <th>HasCrCard</th>\n",
       "      <th>IsActiveMember</th>\n",
       "      <th>EstimatedSalary</th>\n",
       "      <th>Exited</th>\n",
       "    </tr>\n",
       "  </thead>\n",
       "  <tbody>\n",
       "    <tr>\n",
       "      <th>0</th>\n",
       "      <td>1</td>\n",
       "      <td>15634602</td>\n",
       "      <td>Hargrave</td>\n",
       "      <td>619</td>\n",
       "      <td>France</td>\n",
       "      <td>Female</td>\n",
       "      <td>42</td>\n",
       "      <td>2.0</td>\n",
       "      <td>0.00</td>\n",
       "      <td>1</td>\n",
       "      <td>1</td>\n",
       "      <td>1</td>\n",
       "      <td>101348.88</td>\n",
       "      <td>1</td>\n",
       "    </tr>\n",
       "    <tr>\n",
       "      <th>1</th>\n",
       "      <td>2</td>\n",
       "      <td>15647311</td>\n",
       "      <td>Hill</td>\n",
       "      <td>608</td>\n",
       "      <td>Spain</td>\n",
       "      <td>Female</td>\n",
       "      <td>41</td>\n",
       "      <td>1.0</td>\n",
       "      <td>83807.86</td>\n",
       "      <td>1</td>\n",
       "      <td>0</td>\n",
       "      <td>1</td>\n",
       "      <td>112542.58</td>\n",
       "      <td>0</td>\n",
       "    </tr>\n",
       "    <tr>\n",
       "      <th>2</th>\n",
       "      <td>3</td>\n",
       "      <td>15619304</td>\n",
       "      <td>Onio</td>\n",
       "      <td>502</td>\n",
       "      <td>France</td>\n",
       "      <td>Female</td>\n",
       "      <td>42</td>\n",
       "      <td>8.0</td>\n",
       "      <td>159660.80</td>\n",
       "      <td>3</td>\n",
       "      <td>1</td>\n",
       "      <td>0</td>\n",
       "      <td>113931.57</td>\n",
       "      <td>1</td>\n",
       "    </tr>\n",
       "    <tr>\n",
       "      <th>3</th>\n",
       "      <td>4</td>\n",
       "      <td>15701354</td>\n",
       "      <td>Boni</td>\n",
       "      <td>699</td>\n",
       "      <td>France</td>\n",
       "      <td>Female</td>\n",
       "      <td>39</td>\n",
       "      <td>1.0</td>\n",
       "      <td>0.00</td>\n",
       "      <td>2</td>\n",
       "      <td>0</td>\n",
       "      <td>0</td>\n",
       "      <td>93826.63</td>\n",
       "      <td>0</td>\n",
       "    </tr>\n",
       "    <tr>\n",
       "      <th>4</th>\n",
       "      <td>5</td>\n",
       "      <td>15737888</td>\n",
       "      <td>Mitchell</td>\n",
       "      <td>850</td>\n",
       "      <td>Spain</td>\n",
       "      <td>Female</td>\n",
       "      <td>43</td>\n",
       "      <td>2.0</td>\n",
       "      <td>125510.82</td>\n",
       "      <td>1</td>\n",
       "      <td>1</td>\n",
       "      <td>1</td>\n",
       "      <td>79084.10</td>\n",
       "      <td>0</td>\n",
       "    </tr>\n",
       "  </tbody>\n",
       "</table>\n",
       "</div>"
      ],
      "text/plain": [
       "   RowNumber  CustomerId   Surname  CreditScore Geography  Gender  Age  \\\n",
       "0          1    15634602  Hargrave          619    France  Female   42   \n",
       "1          2    15647311      Hill          608     Spain  Female   41   \n",
       "2          3    15619304      Onio          502    France  Female   42   \n",
       "3          4    15701354      Boni          699    France  Female   39   \n",
       "4          5    15737888  Mitchell          850     Spain  Female   43   \n",
       "\n",
       "   Tenure    Balance  NumOfProducts  HasCrCard  IsActiveMember  \\\n",
       "0     2.0       0.00              1          1               1   \n",
       "1     1.0   83807.86              1          0               1   \n",
       "2     8.0  159660.80              3          1               0   \n",
       "3     1.0       0.00              2          0               0   \n",
       "4     2.0  125510.82              1          1               1   \n",
       "\n",
       "   EstimatedSalary  Exited  \n",
       "0        101348.88       1  \n",
       "1        112542.58       0  \n",
       "2        113931.57       1  \n",
       "3         93826.63       0  \n",
       "4         79084.10       0  "
      ]
     },
     "execution_count": 3,
     "metadata": {},
     "output_type": "execute_result"
    }
   ],
   "source": [
    "#Сохранили в переменную df\n",
    "data = pd.read_csv('/datasets/Churn.csv')\n",
    "#Вывели общую информацию о df\n",
    "data.info()\n",
    "#Вывели на экран первые 5 обьектов df\n",
    "data.head(5)"
   ]
  },
  {
   "cell_type": "markdown",
   "metadata": {},
   "source": [
    "**Вывод:**\n",
    "* Признаки RowNumbe, CustomerId, Surname являются излишними которые лучше удалить.\n",
    "* Из оставшихся признаков категориальными являются Geography, Gender которые нужно будет оцифровать\n",
    "* Также количественные признаки и меют разный разброс и нужно будет масштабировать некоторые признаки."
   ]
  },
  {
   "cell_type": "markdown",
   "metadata": {},
   "source": [
    "## Предобработка данных."
   ]
  },
  {
   "cell_type": "code",
   "execution_count": 4,
   "metadata": {},
   "outputs": [
    {
     "data": {
      "text/plain": [
       "0"
      ]
     },
     "execution_count": 4,
     "metadata": {},
     "output_type": "execute_result"
    }
   ],
   "source": [
    "#Проверяем на явные дубликаты\n",
    "data.duplicated().sum()"
   ]
  },
  {
   "cell_type": "code",
   "execution_count": 5,
   "metadata": {
    "scrolled": true
   },
   "outputs": [
    {
     "data": {
      "text/plain": [
       "RowNumber            0\n",
       "CustomerId           0\n",
       "Surname              0\n",
       "CreditScore          0\n",
       "Geography            0\n",
       "Gender               0\n",
       "Age                  0\n",
       "Tenure             909\n",
       "Balance              0\n",
       "NumOfProducts        0\n",
       "HasCrCard            0\n",
       "IsActiveMember       0\n",
       "EstimatedSalary      0\n",
       "Exited               0\n",
       "dtype: int64"
      ]
     },
     "execution_count": 5,
     "metadata": {},
     "output_type": "execute_result"
    }
   ],
   "source": [
    "#Выводим признаки с пропусками\n",
    "data.isna().sum()"
   ]
  },
  {
   "cell_type": "code",
   "execution_count": 6,
   "metadata": {},
   "outputs": [],
   "source": [
    "#Заменяем пропуски на любое уникальное число не из списка\n",
    "#data['Tenure'] = data['Tenure'].fillna()\n",
    "data = data.dropna(subset=['Tenure'])\n"
   ]
  },
  {
   "cell_type": "code",
   "execution_count": 7,
   "metadata": {},
   "outputs": [
    {
     "data": {
      "text/plain": [
       "RowNumber          0\n",
       "CustomerId         0\n",
       "Surname            0\n",
       "CreditScore        0\n",
       "Geography          0\n",
       "Gender             0\n",
       "Age                0\n",
       "Tenure             0\n",
       "Balance            0\n",
       "NumOfProducts      0\n",
       "HasCrCard          0\n",
       "IsActiveMember     0\n",
       "EstimatedSalary    0\n",
       "Exited             0\n",
       "dtype: int64"
      ]
     },
     "execution_count": 7,
     "metadata": {},
     "output_type": "execute_result"
    }
   ],
   "source": [
    "data.isna().sum()"
   ]
  },
  {
   "cell_type": "markdown",
   "metadata": {},
   "source": [
    "<div class=\"alert alert-block alert-danger\">\n",
    "<h2><s> Комментарий ревьюера <a class=\"tocSkip\"></h2>\n",
    "  \n",
    "<b>На доработку🤔:</b>\n",
    " \n",
    "Подавать в модель «-1» будет в любом случае ошибкой. Это значение достаточно сильно отличается от ожидаемого и не удовлетворяет требованию минимизации ошибки. Думаю, здесь лучше использовать что-то вроде медианы или вообще удалить строки с пропуском, их меньше 10%.\n",
    "\n",
    "</div>\n",
    "\n",
    "\n"
   ]
  },
  {
   "cell_type": "markdown",
   "metadata": {},
   "source": [
    "<font color='blue'>Удалила пропуски.</font>\n"
   ]
  },
  {
   "cell_type": "code",
   "execution_count": 8,
   "metadata": {},
   "outputs": [
    {
     "data": {
      "text/plain": [
       "(9091,)"
      ]
     },
     "execution_count": 8,
     "metadata": {},
     "output_type": "execute_result"
    }
   ],
   "source": [
    "#Сколько всего обьектов в данных\n",
    "data['CustomerId'].shape"
   ]
  },
  {
   "cell_type": "code",
   "execution_count": 9,
   "metadata": {},
   "outputs": [
    {
     "data": {
      "text/plain": [
       "array(['France', 'Spain', 'Germany'], dtype=object)"
      ]
     },
     "execution_count": 9,
     "metadata": {},
     "output_type": "execute_result"
    }
   ],
   "source": [
    "#Проверяем признаки на уникальные значения для поиска ошибок и неявных дубликатов\n",
    "data['Geography'].unique()\n"
   ]
  },
  {
   "cell_type": "code",
   "execution_count": 10,
   "metadata": {},
   "outputs": [
    {
     "data": {
      "text/plain": [
       "array(['Female', 'Male'], dtype=object)"
      ]
     },
     "execution_count": 10,
     "metadata": {},
     "output_type": "execute_result"
    }
   ],
   "source": [
    "#Проверяем признаки на уникальные значения для поиска ошибок и неявных дубликатов\n",
    "data['Gender'].unique()"
   ]
  },
  {
   "cell_type": "code",
   "execution_count": 11,
   "metadata": {},
   "outputs": [
    {
     "data": {
      "text/plain": [
       "array([42, 41, 39, 43, 44, 50, 29, 27, 31, 24, 34, 25, 35, 45, 58, 32, 38,\n",
       "       46, 36, 33, 40, 51, 61, 49, 37, 19, 66, 56, 26, 21, 55, 22, 30, 28,\n",
       "       65, 52, 48, 57, 73, 47, 54, 72, 20, 67, 79, 62, 53, 80, 59, 68, 75,\n",
       "       23, 60, 63, 64, 70, 18, 82, 69, 74, 71, 76, 77, 88, 85, 84, 81, 78,\n",
       "       92, 83])"
      ]
     },
     "execution_count": 11,
     "metadata": {},
     "output_type": "execute_result"
    }
   ],
   "source": [
    "#Проверяем признаки на уникальные значения для поиска ошибок и неявных дубликатов\n",
    "data['Age'].unique()"
   ]
  },
  {
   "cell_type": "markdown",
   "metadata": {},
   "source": [
    "**Выводы:**\n",
    "* Пропуски только в одном признаке Tenure которые мы заменили.\n",
    "* Дубликаты и ошибочно заполненные данные отсутствуют."
   ]
  },
  {
   "cell_type": "markdown",
   "metadata": {},
   "source": [
    "## Подготовка данных"
   ]
  },
  {
   "cell_type": "markdown",
   "metadata": {},
   "source": [
    "### Очистка признаков и перезапись df."
   ]
  },
  {
   "cell_type": "code",
   "execution_count": 12,
   "metadata": {},
   "outputs": [
    {
     "name": "stdout",
     "output_type": "stream",
     "text": [
      "<class 'pandas.core.frame.DataFrame'>\n",
      "Int64Index: 9091 entries, 0 to 9998\n",
      "Data columns (total 11 columns):\n",
      " #   Column           Non-Null Count  Dtype  \n",
      "---  ------           --------------  -----  \n",
      " 0   CreditScore      9091 non-null   int64  \n",
      " 1   Geography        9091 non-null   object \n",
      " 2   Gender           9091 non-null   object \n",
      " 3   Age              9091 non-null   int64  \n",
      " 4   Tenure           9091 non-null   float64\n",
      " 5   Balance          9091 non-null   float64\n",
      " 6   NumOfProducts    9091 non-null   int64  \n",
      " 7   HasCrCard        9091 non-null   int64  \n",
      " 8   IsActiveMember   9091 non-null   int64  \n",
      " 9   EstimatedSalary  9091 non-null   float64\n",
      " 10  Exited           9091 non-null   int64  \n",
      "dtypes: float64(3), int64(6), object(2)\n",
      "memory usage: 852.3+ KB\n"
     ]
    }
   ],
   "source": [
    "#Удалили лишние признаки, перезаписали в новый df и вывелины на экран\n",
    "data_new = data.drop(['RowNumber','CustomerId', 'Surname'], axis=1)\n",
    "data_new.head(5)\n",
    "data_new.info()"
   ]
  },
  {
   "cell_type": "markdown",
   "metadata": {},
   "source": [
    "<div class=\"alert alert-success\">\n",
    "<h2> Комментарий ревьюера <a class=\"tocSkip\"> </h2>\n",
    "\n",
    "👍 Отлично\n",
    "</div>\n"
   ]
  },
  {
   "cell_type": "markdown",
   "metadata": {},
   "source": [
    "<div class=\"alert alert-success\">\n",
    "<h2> Комментарий ревьюера <a class=\"tocSkip\"> </h2>\n",
    "\n",
    "👍 Согласен. В дамми-ловушку не попались.\n",
    "</div>"
   ]
  },
  {
   "cell_type": "markdown",
   "metadata": {},
   "source": [
    "<div class=\"alert alert-warning\">\n",
    "<h2> Комментарий ревьюера <a class=\"tocSkip\"> </h2>\n",
    "    \n",
    "<b>Некоторые замечания и рекомендации💡:</b> \n",
    "\n",
    "В тренажере давался пример использования прямого кодирования с помощью get_dummies, однако это далеко не самый оптимальный вариант. Он подходит для анализа данных, но в машинном обучении может служить причиной ошибок при обучении моделей.\n",
    "    \n",
    "Можно использовать класс <a href=\"https://scikit-learn.org/stable/modules/generated/sklearn.preprocessing.OneHotEncoder.html\">OHE из sklearn</a>. Он точно понадобится в будущих проектах, можно потренироваться сейчас. \n",
    "\n",
    "Практикум подготовил инструкцию, как использовать OHE: https://colab.research.google.com/drive/1_gAMXcQKoCShB_l8FNtYEejMnosm9mvt?usp=sharing \n",
    "\n",
    "А теперь замечания «под звездочкой»:\n",
    "\n",
    "Есть загвоздка, что нам нужно будет одновременно использовать параметры drop='first' и handle_unknown='ignore’.  в OHE, а на платформе такое сочетание может выдавать ошибку (в части случаев). Если ошибка появляется, необходимо загрузить нужную версию сайкит-лерна. Для этого:\n",
    "\n",
    "1. В отдельной строке в самом начале проекта запускаем такую команду:\n",
    " `!pip install scikit-learn==1.1.3`\n",
    "     \n",
    "2. Находим в меню юпитера кнопку `Kernel`, нажимаем и выбираем Restart&Run all \n",
    "\n",
    "\n",
    "И сразу уточню, что OHE мы используем уже после разделения выборок на обучающую, валидационную и тестовую. Обучаем на трейне, применяем ко всем. Кодируем после разбиения по аналогии с масштабированием. Посмотреть поподробнее также можно здесь <a href=\"https://stackoverflow.com/questions/55525195/do-i-have-to-do-one-hot-encoding-separately-for-train-and-test-dataset\">можно здесь</a> .\n",
    "      \n",
    "</div> \n"
   ]
  },
  {
   "cell_type": "markdown",
   "metadata": {},
   "source": [
    "### Разделение данных на выборки"
   ]
  },
  {
   "cell_type": "code",
   "execution_count": 13,
   "metadata": {},
   "outputs": [],
   "source": [
    "#Разделили признаки на целевую  \n",
    "target = data_new['Exited']\n",
    "features = data_new.drop('Exited', axis=1)"
   ]
  },
  {
   "cell_type": "code",
   "execution_count": 14,
   "metadata": {
    "scrolled": true
   },
   "outputs": [
    {
     "name": "stdout",
     "output_type": "stream",
     "text": [
      "Количество обьектов в обучающей выборке: (9091, 10) Доля: 0.6\n",
      "Количество обьектов в целевой обучающей выборке: (9091,) Доля: 0.6\n",
      "Количество обьектов в валидационной тестовой выборке: (3637, 10) Доля: 0.4\n",
      "Количество обьектов в целевой валидационно-тестовой выборке: (3637,) Доля: 0.4\n",
      "Количество обьектов в валидационной выборке: (1818, 10) Доля: 0.2\n",
      "Количество обьектов в целевой валидционной выборке выборке: (1818,) Доля: 0.2\n",
      "Количество обьектов в тестовой выборке: (1819, 10) Доля: 0.2\n",
      "Количество обьектов в целевой тестовой выборке: (1819,) Доля: 0.2\n"
     ]
    }
   ],
   "source": [
    "#Разделили данные на обучающую, валидационную и тестовую выборки.\n",
    "features_train, features_valid_test, target_train, target_valid_test = train_test_split(\n",
    "    features, target, \n",
    "    test_size=0.4, \n",
    "    random_state=12345, \n",
    "    stratify=target\n",
    ")\n",
    "features_valid, features_test, target_valid, target_test = train_test_split(\n",
    "    features_valid_test,\n",
    "    target_valid_test,\n",
    "    test_size=0.5,\n",
    "    random_state=12345,\n",
    "    stratify=target_valid_test,\n",
    ")\n",
    "#Вывели на экран доли выборок\n",
    "print(\n",
    "    \"Количество обьектов в обучающей выборке:\",\n",
    "    features.shape,\n",
    "    \"Доля:\",\n",
    "    format((features_train.shape[0] / features.shape[0]), \".1f\"),\n",
    ")\n",
    "print(\n",
    "    \"Количество обьектов в целевой обучающей выборке:\",\n",
    "    target.shape,\n",
    "    \"Доля:\",\n",
    "    format((target_train.shape[0] / target.shape[0]), \".1f\"),\n",
    ")\n",
    "print(\n",
    "    \"Количество обьектов в валидационной тестовой выборке:\",\n",
    "    features_valid_test.shape,\n",
    "    \"Доля:\",\n",
    "    format((features_valid_test.shape[0] / features.shape[0]), \".1f\"),\n",
    ")\n",
    "print(\n",
    "    \"Количество обьектов в целевой валидационно-тестовой выборке:\",\n",
    "    target_valid_test.shape,\n",
    "    \"Доля:\",\n",
    "    format((target_valid_test.shape[0] / target.shape[0]), \".1f\"),\n",
    ")\n",
    "print(\n",
    "    \"Количество обьектов в валидационной выборке:\",\n",
    "    features_valid.shape,\n",
    "    \"Доля:\",\n",
    "    format((features_valid.shape[0] / features.shape[0]), \".1f\"),\n",
    ")\n",
    "print(\n",
    "    \"Количество обьектов в целевой валидционной выборке выборке:\",\n",
    "    target_valid.shape,\n",
    "    \"Доля:\",\n",
    "    format((target_valid.shape[0] / target.shape[0]), \".1f\"),\n",
    ")\n",
    "print(\n",
    "    \"Количество обьектов в тестовой выборке:\",\n",
    "    features_test.shape,\n",
    "    \"Доля:\",\n",
    "    format((features_test.shape[0] / features.shape[0]), \".1f\"),\n",
    ")\n",
    "print(\n",
    "    \"Количество обьектов в целевой тестовой выборке:\",\n",
    "    target_test.shape,\n",
    "    \"Доля:\",\n",
    "    format((target_test.shape[0] / target.shape[0]), \".1f\"),\n",
    ")\n"
   ]
  },
  {
   "cell_type": "markdown",
   "metadata": {},
   "source": [
    "<div class=\"alert alert-success\">\n",
    "<h2> Комментарий ревьюера <a class=\"tocSkip\"> </h2>\n",
    "\n",
    "👍 С разбиением на выборки согласен. Отлично, что выводишь размер выборок.\n",
    "</div>"
   ]
  },
  {
   "cell_type": "code",
   "execution_count": 15,
   "metadata": {},
   "outputs": [
    {
     "name": "stdout",
     "output_type": "stream",
     "text": [
      "['Geography', 'Gender']\n"
     ]
    }
   ],
   "source": [
    "ohe_features = features_train.select_dtypes(include='object').columns.to_list()\n",
    "print(ohe_features)\n",
    "\n"
   ]
  },
  {
   "cell_type": "code",
   "execution_count": 16,
   "metadata": {},
   "outputs": [],
   "source": [
    "encoder_ohe = OneHotEncoder(drop='first', handle_unknown='ignore', sparse=False)# игнорируется ранее невстречающиеся значения признака (при transform)\n"
   ]
  },
  {
   "cell_type": "code",
   "execution_count": 17,
   "metadata": {},
   "outputs": [
    {
     "data": {
      "text/html": [
       "<div>\n",
       "<style scoped>\n",
       "    .dataframe tbody tr th:only-of-type {\n",
       "        vertical-align: middle;\n",
       "    }\n",
       "\n",
       "    .dataframe tbody tr th {\n",
       "        vertical-align: top;\n",
       "    }\n",
       "\n",
       "    .dataframe thead th {\n",
       "        text-align: right;\n",
       "    }\n",
       "</style>\n",
       "<table border=\"1\" class=\"dataframe\">\n",
       "  <thead>\n",
       "    <tr style=\"text-align: right;\">\n",
       "      <th></th>\n",
       "      <th>CreditScore</th>\n",
       "      <th>Age</th>\n",
       "      <th>Tenure</th>\n",
       "      <th>Balance</th>\n",
       "      <th>NumOfProducts</th>\n",
       "      <th>HasCrCard</th>\n",
       "      <th>IsActiveMember</th>\n",
       "      <th>EstimatedSalary</th>\n",
       "      <th>Geography_Germany</th>\n",
       "      <th>Geography_Spain</th>\n",
       "      <th>Gender_Male</th>\n",
       "    </tr>\n",
       "  </thead>\n",
       "  <tbody>\n",
       "    <tr>\n",
       "      <th>9723</th>\n",
       "      <td>526</td>\n",
       "      <td>32</td>\n",
       "      <td>7.0</td>\n",
       "      <td>125540.05</td>\n",
       "      <td>1</td>\n",
       "      <td>0</td>\n",
       "      <td>0</td>\n",
       "      <td>86786.41</td>\n",
       "      <td>0.0</td>\n",
       "      <td>0.0</td>\n",
       "      <td>1.0</td>\n",
       "    </tr>\n",
       "    <tr>\n",
       "      <th>1224</th>\n",
       "      <td>500</td>\n",
       "      <td>47</td>\n",
       "      <td>8.0</td>\n",
       "      <td>128486.11</td>\n",
       "      <td>1</td>\n",
       "      <td>1</td>\n",
       "      <td>0</td>\n",
       "      <td>179227.12</td>\n",
       "      <td>0.0</td>\n",
       "      <td>1.0</td>\n",
       "      <td>0.0</td>\n",
       "    </tr>\n",
       "    <tr>\n",
       "      <th>8377</th>\n",
       "      <td>802</td>\n",
       "      <td>40</td>\n",
       "      <td>4.0</td>\n",
       "      <td>0.00</td>\n",
       "      <td>2</td>\n",
       "      <td>1</td>\n",
       "      <td>1</td>\n",
       "      <td>81908.09</td>\n",
       "      <td>0.0</td>\n",
       "      <td>1.0</td>\n",
       "      <td>1.0</td>\n",
       "    </tr>\n",
       "    <tr>\n",
       "      <th>8014</th>\n",
       "      <td>731</td>\n",
       "      <td>39</td>\n",
       "      <td>2.0</td>\n",
       "      <td>126816.18</td>\n",
       "      <td>1</td>\n",
       "      <td>1</td>\n",
       "      <td>1</td>\n",
       "      <td>74850.93</td>\n",
       "      <td>0.0</td>\n",
       "      <td>1.0</td>\n",
       "      <td>0.0</td>\n",
       "    </tr>\n",
       "    <tr>\n",
       "      <th>2491</th>\n",
       "      <td>612</td>\n",
       "      <td>26</td>\n",
       "      <td>4.0</td>\n",
       "      <td>0.00</td>\n",
       "      <td>2</td>\n",
       "      <td>1</td>\n",
       "      <td>1</td>\n",
       "      <td>179780.74</td>\n",
       "      <td>0.0</td>\n",
       "      <td>1.0</td>\n",
       "      <td>0.0</td>\n",
       "    </tr>\n",
       "  </tbody>\n",
       "</table>\n",
       "</div>"
      ],
      "text/plain": [
       "      CreditScore  Age  Tenure    Balance  NumOfProducts  HasCrCard  \\\n",
       "9723          526   32     7.0  125540.05              1          0   \n",
       "1224          500   47     8.0  128486.11              1          1   \n",
       "8377          802   40     4.0       0.00              2          1   \n",
       "8014          731   39     2.0  126816.18              1          1   \n",
       "2491          612   26     4.0       0.00              2          1   \n",
       "\n",
       "      IsActiveMember  EstimatedSalary  Geography_Germany  Geography_Spain  \\\n",
       "9723               0         86786.41                0.0              0.0   \n",
       "1224               0        179227.12                0.0              1.0   \n",
       "8377               1         81908.09                0.0              1.0   \n",
       "8014               1         74850.93                0.0              1.0   \n",
       "2491               1        179780.74                0.0              1.0   \n",
       "\n",
       "      Gender_Male  \n",
       "9723          1.0  \n",
       "1224          0.0  \n",
       "8377          1.0  \n",
       "8014          0.0  \n",
       "2491          0.0  "
      ]
     },
     "execution_count": 17,
     "metadata": {},
     "output_type": "execute_result"
    }
   ],
   "source": [
    "# обучаем энкодер на заданных категориальных признаках тренировочной выборки\n",
    "encoder_ohe.fit(features_train[ohe_features])\n",
    "\n",
    "# добавляем закодированные признаки в X_train_ohe\n",
    "# encoder_ohe.get_feature_names_out() позволяет получить названия колонок\n",
    "features_train[\n",
    "    encoder_ohe.get_feature_names_out()\n",
    "] = encoder_ohe.transform(features_train[ohe_features])\n",
    "\n",
    "# удаляем незакодированные категориальные признаки (изначальные колонки)\n",
    "features_train = features_train.drop(ohe_features, axis=1)\n",
    "\n",
    "\n",
    "\n",
    "# смотрим на результат\n",
    "features_train.head()"
   ]
  },
  {
   "cell_type": "code",
   "execution_count": 18,
   "metadata": {},
   "outputs": [
    {
     "name": "stdout",
     "output_type": "stream",
     "text": [
      "['Geography', 'Gender']\n"
     ]
    }
   ],
   "source": [
    "ohe_features_valid = features_valid.select_dtypes(include='object').columns.to_list()\n",
    "print(ohe_features_valid)"
   ]
  },
  {
   "cell_type": "code",
   "execution_count": 19,
   "metadata": {},
   "outputs": [
    {
     "data": {
      "text/html": [
       "<div>\n",
       "<style scoped>\n",
       "    .dataframe tbody tr th:only-of-type {\n",
       "        vertical-align: middle;\n",
       "    }\n",
       "\n",
       "    .dataframe tbody tr th {\n",
       "        vertical-align: top;\n",
       "    }\n",
       "\n",
       "    .dataframe thead th {\n",
       "        text-align: right;\n",
       "    }\n",
       "</style>\n",
       "<table border=\"1\" class=\"dataframe\">\n",
       "  <thead>\n",
       "    <tr style=\"text-align: right;\">\n",
       "      <th></th>\n",
       "      <th>CreditScore</th>\n",
       "      <th>Age</th>\n",
       "      <th>Tenure</th>\n",
       "      <th>Balance</th>\n",
       "      <th>NumOfProducts</th>\n",
       "      <th>HasCrCard</th>\n",
       "      <th>IsActiveMember</th>\n",
       "      <th>EstimatedSalary</th>\n",
       "      <th>Geography_Germany</th>\n",
       "      <th>Geography_Spain</th>\n",
       "      <th>Gender_Male</th>\n",
       "    </tr>\n",
       "  </thead>\n",
       "  <tbody>\n",
       "    <tr>\n",
       "      <th>7493</th>\n",
       "      <td>610</td>\n",
       "      <td>37</td>\n",
       "      <td>10.0</td>\n",
       "      <td>140363.95</td>\n",
       "      <td>2</td>\n",
       "      <td>1</td>\n",
       "      <td>1</td>\n",
       "      <td>129563.86</td>\n",
       "      <td>0.0</td>\n",
       "      <td>1.0</td>\n",
       "      <td>0.0</td>\n",
       "    </tr>\n",
       "    <tr>\n",
       "      <th>5460</th>\n",
       "      <td>661</td>\n",
       "      <td>41</td>\n",
       "      <td>5.0</td>\n",
       "      <td>122552.48</td>\n",
       "      <td>2</td>\n",
       "      <td>0</td>\n",
       "      <td>1</td>\n",
       "      <td>120646.40</td>\n",
       "      <td>1.0</td>\n",
       "      <td>0.0</td>\n",
       "      <td>1.0</td>\n",
       "    </tr>\n",
       "    <tr>\n",
       "      <th>9126</th>\n",
       "      <td>753</td>\n",
       "      <td>51</td>\n",
       "      <td>4.0</td>\n",
       "      <td>79811.72</td>\n",
       "      <td>2</td>\n",
       "      <td>0</td>\n",
       "      <td>1</td>\n",
       "      <td>68260.27</td>\n",
       "      <td>0.0</td>\n",
       "      <td>1.0</td>\n",
       "      <td>1.0</td>\n",
       "    </tr>\n",
       "    <tr>\n",
       "      <th>9801</th>\n",
       "      <td>569</td>\n",
       "      <td>30</td>\n",
       "      <td>3.0</td>\n",
       "      <td>139528.23</td>\n",
       "      <td>1</td>\n",
       "      <td>1</td>\n",
       "      <td>1</td>\n",
       "      <td>33230.37</td>\n",
       "      <td>0.0</td>\n",
       "      <td>1.0</td>\n",
       "      <td>0.0</td>\n",
       "    </tr>\n",
       "    <tr>\n",
       "      <th>9101</th>\n",
       "      <td>597</td>\n",
       "      <td>38</td>\n",
       "      <td>6.0</td>\n",
       "      <td>115702.67</td>\n",
       "      <td>2</td>\n",
       "      <td>1</td>\n",
       "      <td>1</td>\n",
       "      <td>25059.05</td>\n",
       "      <td>0.0</td>\n",
       "      <td>1.0</td>\n",
       "      <td>1.0</td>\n",
       "    </tr>\n",
       "  </tbody>\n",
       "</table>\n",
       "</div>"
      ],
      "text/plain": [
       "      CreditScore  Age  Tenure    Balance  NumOfProducts  HasCrCard  \\\n",
       "7493          610   37    10.0  140363.95              2          1   \n",
       "5460          661   41     5.0  122552.48              2          0   \n",
       "9126          753   51     4.0   79811.72              2          0   \n",
       "9801          569   30     3.0  139528.23              1          1   \n",
       "9101          597   38     6.0  115702.67              2          1   \n",
       "\n",
       "      IsActiveMember  EstimatedSalary  Geography_Germany  Geography_Spain  \\\n",
       "7493               1        129563.86                0.0              1.0   \n",
       "5460               1        120646.40                1.0              0.0   \n",
       "9126               1         68260.27                0.0              1.0   \n",
       "9801               1         33230.37                0.0              1.0   \n",
       "9101               1         25059.05                0.0              1.0   \n",
       "\n",
       "      Gender_Male  \n",
       "7493          0.0  \n",
       "5460          1.0  \n",
       "9126          1.0  \n",
       "9801          0.0  \n",
       "9101          1.0  "
      ]
     },
     "execution_count": 19,
     "metadata": {},
     "output_type": "execute_result"
    }
   ],
   "source": [
    "# энкодером, который обучен на тренировочной ВЫБОРКЕ, кодируем валидационную\n",
    "features_valid[\n",
    "    encoder_ohe.get_feature_names_out()\n",
    "] = encoder_ohe.transform(features_valid[ohe_features_valid])\n",
    "\n",
    "features_valid = features_valid.drop(ohe_features_valid, axis=1)\n",
    "\n",
    "# смотрим на результат\n",
    "features_valid.head()"
   ]
  },
  {
   "cell_type": "code",
   "execution_count": 20,
   "metadata": {},
   "outputs": [
    {
     "name": "stdout",
     "output_type": "stream",
     "text": [
      "['Geography', 'Gender']\n"
     ]
    }
   ],
   "source": [
    "ohe_features_test = features_test.select_dtypes(include='object').columns.to_list()\n",
    "print(ohe_features_test)"
   ]
  },
  {
   "cell_type": "code",
   "execution_count": 21,
   "metadata": {},
   "outputs": [
    {
     "data": {
      "text/html": [
       "<div>\n",
       "<style scoped>\n",
       "    .dataframe tbody tr th:only-of-type {\n",
       "        vertical-align: middle;\n",
       "    }\n",
       "\n",
       "    .dataframe tbody tr th {\n",
       "        vertical-align: top;\n",
       "    }\n",
       "\n",
       "    .dataframe thead th {\n",
       "        text-align: right;\n",
       "    }\n",
       "</style>\n",
       "<table border=\"1\" class=\"dataframe\">\n",
       "  <thead>\n",
       "    <tr style=\"text-align: right;\">\n",
       "      <th></th>\n",
       "      <th>CreditScore</th>\n",
       "      <th>Age</th>\n",
       "      <th>Tenure</th>\n",
       "      <th>Balance</th>\n",
       "      <th>NumOfProducts</th>\n",
       "      <th>HasCrCard</th>\n",
       "      <th>IsActiveMember</th>\n",
       "      <th>EstimatedSalary</th>\n",
       "      <th>Geography_Germany</th>\n",
       "      <th>Geography_Spain</th>\n",
       "      <th>Gender_Male</th>\n",
       "    </tr>\n",
       "  </thead>\n",
       "  <tbody>\n",
       "    <tr>\n",
       "      <th>4126</th>\n",
       "      <td>675</td>\n",
       "      <td>32</td>\n",
       "      <td>10.0</td>\n",
       "      <td>0.00</td>\n",
       "      <td>2</td>\n",
       "      <td>1</td>\n",
       "      <td>0</td>\n",
       "      <td>191545.65</td>\n",
       "      <td>0.0</td>\n",
       "      <td>1.0</td>\n",
       "      <td>1.0</td>\n",
       "    </tr>\n",
       "    <tr>\n",
       "      <th>5145</th>\n",
       "      <td>784</td>\n",
       "      <td>38</td>\n",
       "      <td>1.0</td>\n",
       "      <td>138515.02</td>\n",
       "      <td>1</td>\n",
       "      <td>1</td>\n",
       "      <td>1</td>\n",
       "      <td>171768.76</td>\n",
       "      <td>1.0</td>\n",
       "      <td>0.0</td>\n",
       "      <td>1.0</td>\n",
       "    </tr>\n",
       "    <tr>\n",
       "      <th>9253</th>\n",
       "      <td>644</td>\n",
       "      <td>49</td>\n",
       "      <td>10.0</td>\n",
       "      <td>0.00</td>\n",
       "      <td>2</td>\n",
       "      <td>1</td>\n",
       "      <td>1</td>\n",
       "      <td>145089.64</td>\n",
       "      <td>0.0</td>\n",
       "      <td>1.0</td>\n",
       "      <td>1.0</td>\n",
       "    </tr>\n",
       "    <tr>\n",
       "      <th>6757</th>\n",
       "      <td>717</td>\n",
       "      <td>36</td>\n",
       "      <td>2.0</td>\n",
       "      <td>102989.83</td>\n",
       "      <td>2</td>\n",
       "      <td>0</td>\n",
       "      <td>1</td>\n",
       "      <td>49185.57</td>\n",
       "      <td>0.0</td>\n",
       "      <td>1.0</td>\n",
       "      <td>1.0</td>\n",
       "    </tr>\n",
       "    <tr>\n",
       "      <th>9739</th>\n",
       "      <td>677</td>\n",
       "      <td>25</td>\n",
       "      <td>3.0</td>\n",
       "      <td>0.00</td>\n",
       "      <td>2</td>\n",
       "      <td>1</td>\n",
       "      <td>0</td>\n",
       "      <td>179608.96</td>\n",
       "      <td>0.0</td>\n",
       "      <td>0.0</td>\n",
       "      <td>0.0</td>\n",
       "    </tr>\n",
       "  </tbody>\n",
       "</table>\n",
       "</div>"
      ],
      "text/plain": [
       "      CreditScore  Age  Tenure    Balance  NumOfProducts  HasCrCard  \\\n",
       "4126          675   32    10.0       0.00              2          1   \n",
       "5145          784   38     1.0  138515.02              1          1   \n",
       "9253          644   49    10.0       0.00              2          1   \n",
       "6757          717   36     2.0  102989.83              2          0   \n",
       "9739          677   25     3.0       0.00              2          1   \n",
       "\n",
       "      IsActiveMember  EstimatedSalary  Geography_Germany  Geography_Spain  \\\n",
       "4126               0        191545.65                0.0              1.0   \n",
       "5145               1        171768.76                1.0              0.0   \n",
       "9253               1        145089.64                0.0              1.0   \n",
       "6757               1         49185.57                0.0              1.0   \n",
       "9739               0        179608.96                0.0              0.0   \n",
       "\n",
       "      Gender_Male  \n",
       "4126          1.0  \n",
       "5145          1.0  \n",
       "9253          1.0  \n",
       "6757          1.0  \n",
       "9739          0.0  "
      ]
     },
     "execution_count": 21,
     "metadata": {},
     "output_type": "execute_result"
    }
   ],
   "source": [
    "# энкодером, который обучен на тренировочной ВЫБОРКЕ, кодируем тестовую\n",
    "features_test[\n",
    "    encoder_ohe.get_feature_names_out()\n",
    "] = encoder_ohe.transform(features_test[ohe_features_test])\n",
    "\n",
    "features_test = features_test.drop(ohe_features_test, axis=1)\n",
    "\n",
    "\n",
    "# смотрим на результат\n",
    "features_test.head()"
   ]
  },
  {
   "cell_type": "markdown",
   "metadata": {},
   "source": [
    "### Масштабирование признаков"
   ]
  },
  {
   "cell_type": "code",
   "execution_count": 22,
   "metadata": {},
   "outputs": [
    {
     "data": {
      "text/html": [
       "<div>\n",
       "<style scoped>\n",
       "    .dataframe tbody tr th:only-of-type {\n",
       "        vertical-align: middle;\n",
       "    }\n",
       "\n",
       "    .dataframe tbody tr th {\n",
       "        vertical-align: top;\n",
       "    }\n",
       "\n",
       "    .dataframe thead th {\n",
       "        text-align: right;\n",
       "    }\n",
       "</style>\n",
       "<table border=\"1\" class=\"dataframe\">\n",
       "  <thead>\n",
       "    <tr style=\"text-align: right;\">\n",
       "      <th></th>\n",
       "      <th>CreditScore</th>\n",
       "      <th>Age</th>\n",
       "      <th>Tenure</th>\n",
       "      <th>Balance</th>\n",
       "      <th>NumOfProducts</th>\n",
       "      <th>HasCrCard</th>\n",
       "      <th>IsActiveMember</th>\n",
       "      <th>EstimatedSalary</th>\n",
       "      <th>Geography_Germany</th>\n",
       "      <th>Geography_Spain</th>\n",
       "      <th>Gender_Male</th>\n",
       "    </tr>\n",
       "  </thead>\n",
       "  <tbody>\n",
       "    <tr>\n",
       "      <th>9723</th>\n",
       "      <td>-1.292898</td>\n",
       "      <td>-0.660843</td>\n",
       "      <td>0.686341</td>\n",
       "      <td>0.786636</td>\n",
       "      <td>1</td>\n",
       "      <td>0</td>\n",
       "      <td>0</td>\n",
       "      <td>-0.223548</td>\n",
       "      <td>0.0</td>\n",
       "      <td>0.0</td>\n",
       "      <td>1.0</td>\n",
       "    </tr>\n",
       "    <tr>\n",
       "      <th>1224</th>\n",
       "      <td>-1.563714</td>\n",
       "      <td>0.778434</td>\n",
       "      <td>1.034232</td>\n",
       "      <td>0.833795</td>\n",
       "      <td>1</td>\n",
       "      <td>1</td>\n",
       "      <td>0</td>\n",
       "      <td>1.383021</td>\n",
       "      <td>0.0</td>\n",
       "      <td>1.0</td>\n",
       "      <td>0.0</td>\n",
       "    </tr>\n",
       "    <tr>\n",
       "      <th>8377</th>\n",
       "      <td>1.581914</td>\n",
       "      <td>0.106771</td>\n",
       "      <td>-0.357331</td>\n",
       "      <td>-1.222967</td>\n",
       "      <td>2</td>\n",
       "      <td>1</td>\n",
       "      <td>1</td>\n",
       "      <td>-0.308331</td>\n",
       "      <td>0.0</td>\n",
       "      <td>1.0</td>\n",
       "      <td>1.0</td>\n",
       "    </tr>\n",
       "    <tr>\n",
       "      <th>8014</th>\n",
       "      <td>0.842379</td>\n",
       "      <td>0.010820</td>\n",
       "      <td>-1.053112</td>\n",
       "      <td>0.807063</td>\n",
       "      <td>1</td>\n",
       "      <td>1</td>\n",
       "      <td>1</td>\n",
       "      <td>-0.430980</td>\n",
       "      <td>0.0</td>\n",
       "      <td>1.0</td>\n",
       "      <td>0.0</td>\n",
       "    </tr>\n",
       "    <tr>\n",
       "      <th>2491</th>\n",
       "      <td>-0.397123</td>\n",
       "      <td>-1.236554</td>\n",
       "      <td>-0.357331</td>\n",
       "      <td>-1.222967</td>\n",
       "      <td>2</td>\n",
       "      <td>1</td>\n",
       "      <td>1</td>\n",
       "      <td>1.392642</td>\n",
       "      <td>0.0</td>\n",
       "      <td>1.0</td>\n",
       "      <td>0.0</td>\n",
       "    </tr>\n",
       "  </tbody>\n",
       "</table>\n",
       "</div>"
      ],
      "text/plain": [
       "      CreditScore       Age    Tenure   Balance  NumOfProducts  HasCrCard  \\\n",
       "9723    -1.292898 -0.660843  0.686341  0.786636              1          0   \n",
       "1224    -1.563714  0.778434  1.034232  0.833795              1          1   \n",
       "8377     1.581914  0.106771 -0.357331 -1.222967              2          1   \n",
       "8014     0.842379  0.010820 -1.053112  0.807063              1          1   \n",
       "2491    -0.397123 -1.236554 -0.357331 -1.222967              2          1   \n",
       "\n",
       "      IsActiveMember  EstimatedSalary  Geography_Germany  Geography_Spain  \\\n",
       "9723               0        -0.223548                0.0              0.0   \n",
       "1224               0         1.383021                0.0              1.0   \n",
       "8377               1        -0.308331                0.0              1.0   \n",
       "8014               1        -0.430980                0.0              1.0   \n",
       "2491               1         1.392642                0.0              1.0   \n",
       "\n",
       "      Gender_Male  \n",
       "9723          1.0  \n",
       "1224          0.0  \n",
       "8377          1.0  \n",
       "8014          0.0  \n",
       "2491          0.0  "
      ]
     },
     "execution_count": 22,
     "metadata": {},
     "output_type": "execute_result"
    }
   ],
   "source": [
    "#Создали список признаков с числовыми значениями для масштабирования\n",
    "numeric = ['CreditScore', 'Age', 'Balance', 'EstimatedSalary', 'Tenure']\n",
    "\n",
    "#Масштабировали признаки с числовыми значениями разных размерностей\n",
    "scaler = StandardScaler()\n",
    "scaler.fit(features_train[numeric])\n",
    "features_train[numeric] = scaler.transform(features_train[numeric])\n",
    "features_valid[numeric] = scaler.transform(features_valid[numeric])\n",
    "features_test[numeric] = scaler.transform(features_test[numeric])\n",
    "#Вывели первые 5 обьектов на экран\n",
    "features_train.head(5)"
   ]
  },
  {
   "cell_type": "code",
   "execution_count": null,
   "metadata": {},
   "outputs": [],
   "source": []
  },
  {
   "cell_type": "markdown",
   "metadata": {},
   "source": [
    "<div class=\"alert alert-success\">\n",
    "<h2> Комментарий ревьюера <a class=\"tocSkip\"> </h2>\n",
    "\n",
    "👍 Отлично. Я бы убрал предупреждения. `warnings.filterwarnings('ignore')` после `import warnings`.\n",
    "</div>"
   ]
  },
  {
   "cell_type": "markdown",
   "metadata": {},
   "source": [
    "**Вывод:**\n",
    "* После очистки и масштабирования данные готовы для первичного исследования."
   ]
  },
  {
   "cell_type": "markdown",
   "metadata": {},
   "source": [
    "## Исследование задачи"
   ]
  },
  {
   "cell_type": "markdown",
   "metadata": {},
   "source": [
    "### Обучение модели и нахождение метрики F1"
   ]
  },
  {
   "cell_type": "markdown",
   "metadata": {},
   "source": [
    "<div class=\"alert alert-block alert-danger\">\n",
    "<h2><s> Комментарий ревьюера <a class=\"tocSkip\"></h2>\n",
    "  \n",
    "<b>На доработку🤔:</b>\n",
    " \n",
    "В дереве и лесе важно подобрать гиперпараметры. В дереве - глубину, в лесе - минимум глубину и количество оценщиков (эстиматоров, деревьев).\n",
    "\n",
    "</div>"
   ]
  },
  {
   "cell_type": "markdown",
   "metadata": {},
   "source": [
    "<div class=\"alert alert-block alert-danger\">\n",
    "<h2> Комментарий ревьюера <a class=\"tocSkip\"></h2>\n",
    "  \n",
    "<b>На доработку🤔:</b>\n",
    " \n",
    "<s>По проекту мы должны измерять F1-меру и ROC_AUC у моделей после подбора гиперпараметров (в регрессии можно без подбора параметров).</s>\n",
    "    \n",
    "Увидел, ниже все делаешь. Рекомендую измерять прямо здесь, не отходя от модели. \n",
    "</div>"
   ]
  },
  {
   "cell_type": "code",
   "execution_count": 23,
   "metadata": {},
   "outputs": [
    {
     "name": "stdout",
     "output_type": "stream",
     "text": [
      "F1: 0.5815126050420169 Глубина дерева: 7\n"
     ]
    }
   ],
   "source": [
    "#Создали переменные для вывода в принте  \n",
    "best_model = None\n",
    "best_result = 0\n",
    "best_depth = 0\n",
    "#С помощью цикла перебираем глубину дерева max_depth от 1 до 10\n",
    "for depth in range(1, 10):\n",
    "    # инициализировали модель DecisionTreeRegressor с параметром random_state=12345\\ \n",
    "    model = DecisionTreeClassifier(random_state=12345, splitter='best', max_depth=depth)\n",
    "    # обучили модель на тренировочной выборке    \n",
    "    model.fit(features_train, target_train) \n",
    "    # получили предсказания модели на валидационной выборке\n",
    "    predictions_valid = model.predict(features_valid) \n",
    "    # посчитали значение метрики Accuracy на валидационной выборке\n",
    "    result = f1_score(target_valid, predictions_valid)\n",
    "    if result > best_result:\n",
    "        best_model = model\n",
    "        best_result = result\n",
    "        best_depth = depth\n",
    "\n",
    "print(\"F1:\", best_result, \"Глубина дерева:\", best_depth)\n"
   ]
  },
  {
   "cell_type": "markdown",
   "metadata": {},
   "source": [
    "<div class=\"alert alert-block alert-danger\">\n",
    "<h2><s> Комментарий ревьюера 2<a class=\"tocSkip\"></h2>\n",
    "  \n",
    "<b>На доработку🤔:</b>\n",
    " \n",
    "Важно сразу подбирать лучшие гиперпараметры по F1-мере. Здесь же подбираем по accuracy. Не факт, что оптимизация одного параметра будет означать оптимизации остальных. А в случае с нашим дисбалансом - тем более.\n",
    "    \n",
    "Ошибка в:\n",
    "    \n",
    "`result = model.score(features_valid, target_valid)\n",
    "#print(\"Accuracy наилучшей модели на валидационной выборке:\", result)\n",
    "    if result > best_result:`\n",
    "\n",
    "</div>\n",
    "\n",
    "\n"
   ]
  },
  {
   "cell_type": "code",
   "execution_count": 24,
   "metadata": {},
   "outputs": [
    {
     "name": "stdout",
     "output_type": "stream",
     "text": [
      "Accuracy модели логистическая регресия на валидационной выборке: 0.8151815181518152\n"
     ]
    }
   ],
   "source": [
    "# инициализировали модель LogisticRegression с параметром random_state=12345\n",
    "model = LogisticRegression(random_state=123, solver = 'liblinear')\n",
    "# обучили модель на тренировочной выборке\n",
    "model.fit(features_train, target_train)\n",
    "# получили предсказания модели на валидационной выборке\n",
    "predictions_valid = model.predict(features_valid)\n",
    "# посчитали значение метрики Accuracy на валидационной выборке\n",
    "result = model.score(features_valid, target_valid)\n",
    "print(\"Accuracy модели логистическая регресия на валидационной выборке:\", result)"
   ]
  },
  {
   "cell_type": "code",
   "execution_count": 25,
   "metadata": {},
   "outputs": [
    {
     "name": "stdout",
     "output_type": "stream",
     "text": [
      "F1: 0.5983193277310924 Количество деревьев: 20 Максимальная глубина: 9\n"
     ]
    }
   ],
   "source": [
    "#Создали переменные для вывода в print \n",
    "best_model = None\n",
    "best_result = 0\n",
    "best_est = 0\n",
    "best_depth = 0\n",
    "#С помощью цикла перебираем глубину дерева max_depth и количество деревьев \n",
    "for est in range(10, 100, 10):\n",
    "    for depth in range (1, 10):\n",
    "    # инициализировали модель RandomForestClassifier\n",
    "        model = RandomForestClassifier(random_state=12345, n_estimators=est, max_depth=depth)\n",
    "        # обучили модель на тренировочной выборке \n",
    "        model.fit(features_train, target_train) \n",
    "        # получили предсказания модели на валидационной выборке\n",
    "        predictions_valid = model.predict(features_valid) \n",
    "        # посчитали значение метрики F1 на валидационной выборке\n",
    "        result = f1_score(target_valid, predictions_valid)\n",
    "        #условие для вывода print\n",
    "\n",
    "        if result > best_result:\n",
    "        \n",
    "            best_model = model\n",
    "            best_result = result\n",
    "            best_est = est\n",
    "            best_depth = depth\n",
    "            \n",
    "#вывелин на экран\n",
    "print(\n",
    "    \"F1:\",\n",
    "    best_result,\n",
    "    \"Количество деревьев:\",\n",
    "    best_est,\n",
    "    \"Максимальная глубина:\",\n",
    "    depth,\n",
    ")\n"
   ]
  },
  {
   "cell_type": "markdown",
   "metadata": {},
   "source": [
    "**Вывод:**\n",
    "* Самые высокое значение F1 меры у модели Случайный лес равно 0.59. \n",
    "* Но для окончательного решения нужно проверить признаки на баланс и модель на адекватность. "
   ]
  },
  {
   "cell_type": "markdown",
   "metadata": {},
   "source": [
    "### Проверка адекватности модели"
   ]
  },
  {
   "cell_type": "code",
   "execution_count": 26,
   "metadata": {},
   "outputs": [
    {
     "data": {
      "text/plain": [
       "0    0.796113\n",
       "1    0.203887\n",
       "Name: Exited, dtype: float64"
      ]
     },
     "execution_count": 26,
     "metadata": {},
     "output_type": "execute_result"
    }
   ],
   "source": [
    "#Подсчитали баланс классов в обучающем целевом признаке\n",
    "target_train.value_counts(normalize=True)"
   ]
  },
  {
   "cell_type": "markdown",
   "metadata": {},
   "source": [
    "<div class=\"alert alert-success\">\n",
    "<h2> Комментарий ревьюера <a class=\"tocSkip\"> </h2>\n",
    "\n",
    "👍 Дисбаланс исследовали. Да, он достаточно сильный, чтобы негативно повлиять на качество моделей.\n",
    "</div>\n"
   ]
  },
  {
   "cell_type": "code",
   "execution_count": 27,
   "metadata": {},
   "outputs": [
    {
     "data": {
      "text/plain": [
       "0    0.79593\n",
       "1    0.20407\n",
       "Name: Exited, dtype: float64"
      ]
     },
     "execution_count": 27,
     "metadata": {},
     "output_type": "execute_result"
    }
   ],
   "source": [
    "#Подсчитали баланс классов в валидационном целевом признаке \n",
    "target_valid.value_counts(normalize=True)"
   ]
  },
  {
   "cell_type": "code",
   "execution_count": 28,
   "metadata": {},
   "outputs": [
    {
     "data": {
      "text/plain": [
       "Text(0, 0.5, 'Количество каждого вида')"
      ]
     },
     "execution_count": 28,
     "metadata": {},
     "output_type": "execute_result"
    },
    {
     "data": {
      "image/png": "[encoded data removed]",
      "text/plain": [
       "<Figure size 432x288 with 1 Axes>"
      ]
     },
     "metadata": {
      "needs_background": "light"
     },
     "output_type": "display_data"
    }
   ],
   "source": [
    "# инициализировали модель DecisionTreeRegressor с параметром random_state=12345\n",
    "model = DecisionTreeClassifier(random_state=123, max_depth=7)\n",
    "# обучили модель на тренировочной выборке\n",
    "model.fit(features_train, target_train)\n",
    "# получили предсказания модели на валидационной выборке\n",
    "predictions_valid = model.predict(features_valid)\n",
    "#Проанализировали частоты классов в результатах предсказаний \n",
    "predicted_valid = pd.Series(model.predict(features_valid))\n",
    "\n",
    "class_frequency  = predicted_valid.value_counts(normalize=True)\n",
    "class_frequency.plot(title='Распределение классов в предсказании модели', kind='bar');\n",
    "plt.xlabel('Виды ответов предсказании')\n",
    "plt.ylabel('Количество каждого вида')\n"
   ]
  },
  {
   "cell_type": "markdown",
   "metadata": {},
   "source": [
    " <div class=\"alert alert-block alert-danger\">\n",
    "<h2><s> Комментарий ревьюера <a class=\"tocSkip\"></h2>\n",
    "  \n",
    "<b>На доработку🤔:</b>\n",
    " \n",
    "Графики нужно подписать.\n",
    "\n",
    "Смотреть на модели без подбора гиперпараметров практически бессмысленно.\n",
    "</div>\n",
    "\n"
   ]
  },
  {
   "cell_type": "code",
   "execution_count": 29,
   "metadata": {},
   "outputs": [
    {
     "data": {
      "image/png": "[encoded data removed]",
      "text/plain": [
       "<Figure size 432x288 with 1 Axes>"
      ]
     },
     "metadata": {
      "needs_background": "light"
     },
     "output_type": "display_data"
    }
   ],
   "source": [
    "# инициализировали модель LogisticRegression с параметром random_state=12345\n",
    "model = LogisticRegression(random_state=123, solver = 'liblinear')\n",
    "# обучили модель на тренировочной выборке\n",
    "model.fit(features_train, target_train)\n",
    "# получили предсказания модели на валидационной выборке\n",
    "predictions_valid = model.predict(features_valid)\n",
    "predicted_valid = pd.Series(model.predict(features_valid))\n",
    "\n",
    "class_frequency  = predicted_valid.value_counts(normalize=True)\n",
    "class_frequency.plot(title='Распределение классов в предсказании модели', kind='bar');\n",
    "plt.xlabel('Виды ответов предсказании')\n",
    "plt.ylabel('Количество каждого вида');"
   ]
  },
  {
   "cell_type": "code",
   "execution_count": 30,
   "metadata": {},
   "outputs": [
    {
     "data": {
      "image/png": "[encoded data removed]",
      "text/plain": [
       "<Figure size 432x288 with 1 Axes>"
      ]
     },
     "metadata": {
      "needs_background": "light"
     },
     "output_type": "display_data"
    }
   ],
   "source": [
    "# инициализировали модель RandomForestClassifier с параметром random_state=12345\n",
    "model = RandomForestClassifier(random_state=123, n_estimators = 20, max_depth=9)\n",
    "# обучили модель на тренировочной выборке\n",
    "model.fit(features_train, target_train)\n",
    "# получили предсказания модели на валидационной выборке\n",
    "predictions_valid = model.predict(features_valid)\n",
    "predicted_valid = pd.Series(model.predict(features_valid))\n",
    "\n",
    "class_frequency  = predicted_valid.value_counts(normalize=True)\n",
    "class_frequency.plot(title='Распределение классов в предсказании модели', kind='bar');\n",
    "plt.xlabel('Виды ответов предсказании')\n",
    "plt.ylabel('Количество каждого вида');"
   ]
  },
  {
   "cell_type": "code",
   "execution_count": 31,
   "metadata": {},
   "outputs": [
    {
     "data": {
      "text/plain": [
       "0.33881278538812787"
      ]
     },
     "execution_count": 31,
     "metadata": {},
     "output_type": "execute_result"
    }
   ],
   "source": [
    "#Создаем константную модель\n",
    "dummy_model = DummyClassifier(strategy='constant', constant=1)\n",
    "dummy_model.fit(features_train, target_train)\n",
    "f1_score(dummy_model.predict(features_test), target_test)"
   ]
  },
  {
   "cell_type": "markdown",
   "metadata": {},
   "source": [
    "<div class=\"alert alert-warning\">\n",
    "<h2> Комментарий ревьюера <a class=\"tocSkip\"> </h2>\n",
    "    \n",
    "<b>Некоторые замечания и рекомендации💡:</b> \n",
    "    \n",
    "\n",
    "Здесь в дамми-модели я бы предсказал везде «1». Условно говоря, если предсказываем ноль, моделируем ситуацию, когда акцию с бонусами для удержания клиентов решили не проводить. Если предсказываем единицу − решили раздать бонусы вообще всем клиентам. Если в дамми-модели предсказываем по единице, можно подсчитать F1, она не будет зануляться.\n",
    "    \n",
    "`dummy_model = DummyClassifier(strategy='constant', constant=1)\n",
    "dummy_model.fit(features_train, target_train)\n",
    "f1_score(dummy_model.predict(features_test), target_test)`\n",
    "    \n",
    "Импорт: from sklearn.dummy import DummyClassifier\n",
    "\n",
    "       \n",
    "</div>\n",
    "\n"
   ]
  },
  {
   "cell_type": "markdown",
   "metadata": {},
   "source": [
    "**Вывод:**\n",
    "* Данные несбалансированны.\n",
    "* Модель логистическая регрессия показывает самый сильный дисбаланс, предсказывает 0 в 93%.\n",
    "* Точность наших моделей на небалансированных данных не лучше константной модели."
   ]
  },
  {
   "cell_type": "markdown",
   "metadata": {},
   "source": [
    "### Проверка на ошибочность"
   ]
  },
  {
   "cell_type": "code",
   "execution_count": 32,
   "metadata": {},
   "outputs": [
    {
     "data": {
      "text/plain": [
       "array([[1396,   51],\n",
       "       [ 198,  173]])"
      ]
     },
     "execution_count": 32,
     "metadata": {},
     "output_type": "execute_result"
    }
   ],
   "source": [
    "# инициализировали модель DecisionTreeClassifier с параметром random_state=12345\n",
    "model = DecisionTreeClassifier(random_state=12345, max_depth=7)\n",
    "# обучили модель на тренировочной выборке\n",
    "model.fit(features_train, target_train)\n",
    "# получили предсказания модели на валидационной выборке\n",
    "predicted_distree_valid = model.predict(features_valid)\n",
    "#вывели матрицу ошибок\n",
    "confusion_matrix(target_valid, predicted_distree_valid)"
   ]
  },
  {
   "cell_type": "code",
   "execution_count": 33,
   "metadata": {},
   "outputs": [
    {
     "data": {
      "text/plain": [
       "array([[1399,   48],\n",
       "       [ 288,   83]])"
      ]
     },
     "execution_count": 33,
     "metadata": {},
     "output_type": "execute_result"
    }
   ],
   "source": [
    "# инициализировали модель LogisticRegression с параметром random_state=12345\n",
    "model = LogisticRegression(random_state=123, solver = 'liblinear')\n",
    "# обучили модель на тренировочной выборке\n",
    "model.fit(features_train, target_train)\n",
    "# получили предсказания модели на валидационной выборке\n",
    "predicted_logist_valid = model.predict(features_valid)\n",
    "#вывели матрицу ошибок\n",
    "confusion_matrix(target_valid, predicted_logist_valid)"
   ]
  },
  {
   "cell_type": "code",
   "execution_count": 34,
   "metadata": {},
   "outputs": [
    {
     "data": {
      "text/plain": [
       "array([[1404,   43],\n",
       "       [ 203,  168]])"
      ]
     },
     "execution_count": 34,
     "metadata": {},
     "output_type": "execute_result"
    }
   ],
   "source": [
    "# инициализировали модель RandomForestClassifier с параметром random_state=12345\n",
    "model = RandomForestClassifier(random_state=123, n_estimators = 20, max_depth=9)\n",
    "# обучили модель на тренировочной выборке\n",
    "model.fit(features_train, target_train)\n",
    "# получили предсказания модели на валидационной выборке\n",
    "predicted_randfor_valid =  model.predict(features_valid)\n",
    "#вывели матрицу ошибок\n",
    "confusion_matrix(target_valid, predicted_randfor_valid)\n"
   ]
  },
  {
   "cell_type": "markdown",
   "metadata": {},
   "source": [
    "**Вывод:**\n",
    "* Первая модель ошибается в предсказании класса \"1\"   43 на 169 верных ответов.\n",
    "* Модель логистическая регрессия больше всего ошибается в классе \"0\" 288 ошибки, и также на 83 верных \n",
    "предсказании класса \"1\" приходиться 48 ошибок.\n",
    "* Лучше всего показала модель случайный лес меньшее количество ошибок на количество верных от ветов класса \"1\""
   ]
  },
  {
   "cell_type": "markdown",
   "metadata": {},
   "source": [
    "### Метрики моделей на несбалансированных данных."
   ]
  },
  {
   "cell_type": "code",
   "execution_count": 35,
   "metadata": {},
   "outputs": [
    {
     "name": "stdout",
     "output_type": "stream",
     "text": [
      "Полнота модели решающее дерево 0.46630727762803237\n",
      "Точность модели решающее дерево 0.7723214285714286\n",
      "F1-мера модели решающее дерево 0.5815126050420169\n"
     ]
    }
   ],
   "source": [
    "#Вывели на экран метрики на несбалансированных даннных для каждой модели\n",
    "print(\n",
    "    \"Полнота модели решающее дерево\",\n",
    "    recall_score(target_valid, predicted_distree_valid),\n",
    ")\n",
    "print(\n",
    "    \"Точность модели решающее дерево\",\n",
    "    precision_score(target_valid, predicted_distree_valid),\n",
    ")\n",
    "print(\"F1-мера модели решающее дерево\", f1_score(target_valid, predicted_distree_valid))\n",
    "\n"
   ]
  },
  {
   "cell_type": "code",
   "execution_count": 36,
   "metadata": {},
   "outputs": [
    {
     "name": "stdout",
     "output_type": "stream",
     "text": [
      "Площадь ROC-кривой: 0.8841051640493225\n"
     ]
    }
   ],
   "source": [
    "model = DecisionTreeClassifier(random_state=12345, max_depth=7)\n",
    "model.fit(features_train, target_train)\n",
    "probabilities = model.predict_proba(features_train)\n",
    "\n",
    "probabilities_one = probabilities[:, 1]\n",
    "print('Площадь ROC-кривой:', roc_auc_score(target_train, probabilities_one))"
   ]
  },
  {
   "cell_type": "markdown",
   "metadata": {},
   "source": [
    "<div class=\"alert alert-warning\">\n",
    "<h2> Комментарий ревьюера <a class=\"tocSkip\"> </h2>\n",
    "    \n",
    "<b>Некоторые замечания и рекомендации💡:</b> \n",
    "\n",
    "Важно измерять все сразу после подбора гиперараметров. Так будет достаточно неудобно смотреть на качество моделей.\n",
    "       \n",
    "</div>"
   ]
  },
  {
   "cell_type": "markdown",
   "metadata": {},
   "source": [
    "<div class=\"alert alert-block alert-danger\">\n",
    "<h2><s> Комментарий ревьюера <a class=\"tocSkip\"></h2>\n",
    "  \n",
    "<b>На доработку🤔:</b>\n",
    "    \n",
    " \n",
    "roc_auc нужно считать по вероятностям классов. \n",
    "    \n",
    "`probabilities = model.predict_proba(features)\n",
    "probabilities_one = probabilities[:, 1]\n",
    "print('Площадь ROC-кривой:', roc_auc_score(target, probabilities_one))`\n",
    "\n",
    "</div>"
   ]
  },
  {
   "cell_type": "code",
   "execution_count": 37,
   "metadata": {},
   "outputs": [
    {
     "name": "stdout",
     "output_type": "stream",
     "text": [
      "Полнота модели случайный лес 0.4528301886792453\n",
      "Точность модели случайный лес 0.7962085308056872\n",
      "F1-мера модели случайный лес 0.5773195876288659\n"
     ]
    }
   ],
   "source": [
    "#Вывели на экран метрики на несбалансированных даннных для каждой модели\n",
    "print(\n",
    "    \"Полнота модели случайный лес\" , \n",
    "    recall_score(target_valid, predicted_randfor_valid),\n",
    ")\n",
    "print(\n",
    "    \"Точность модели случайный лес\", \n",
    "    precision_score(target_valid, predicted_randfor_valid),\n",
    ")\n",
    "print(\n",
    "    \"F1-мера модели случайный лес\", \n",
    "    f1_score(target_valid, predicted_randfor_valid),\n",
    ")\n",
    "    "
   ]
  },
  {
   "cell_type": "code",
   "execution_count": 38,
   "metadata": {},
   "outputs": [
    {
     "name": "stdout",
     "output_type": "stream",
     "text": [
      "Площадь ROC-кривой: 0.9387533386464482\n"
     ]
    }
   ],
   "source": [
    "model = RandomForestClassifier(random_state=123, n_estimators = 20, max_depth=9)\n",
    "# обучили модель на тренировочной выборке\n",
    "model.fit(features_train, target_train)\n",
    "probabilities = model.predict_proba(features_train)\n",
    "probabilities_one = probabilities[:, 1]\n",
    "print('Площадь ROC-кривой:', roc_auc_score(target_train, probabilities_one))"
   ]
  },
  {
   "cell_type": "code",
   "execution_count": 39,
   "metadata": {},
   "outputs": [
    {
     "name": "stdout",
     "output_type": "stream",
     "text": [
      "Полнота модели логистическая регрессия 0.22371967654986524\n",
      "Точность модели логистическая регрессия 0.6335877862595419\n",
      "F1-мера модели логистическая регрессия 0.3306772908366534\n"
     ]
    }
   ],
   "source": [
    "#Вывели на экран метрики на несбалансированных даннных для каждой модели\n",
    "print(\n",
    "    \"Полнота модели логистическая регрессия\" , \n",
    "    recall_score(target_valid, predicted_logist_valid),\n",
    ")\n",
    "print(\n",
    "    \"Точность модели логистическая регрессия\", \n",
    "    precision_score(target_valid, predicted_logist_valid),\n",
    ")\n",
    "print(\n",
    "    \"F1-мера модели логистическая регрессия\", \n",
    "    f1_score(target_valid, predicted_logist_valid),\n",
    ")\n",
    "\n",
    "    "
   ]
  },
  {
   "cell_type": "code",
   "execution_count": 40,
   "metadata": {},
   "outputs": [
    {
     "name": "stdout",
     "output_type": "stream",
     "text": [
      "Площадь ROC-кривой: 0.7587355725737235\n"
     ]
    }
   ],
   "source": [
    "model = LogisticRegression(random_state=123, solver = 'liblinear')\n",
    "# обучили модель на тренировочной выборке\n",
    "model.fit(features_train, target_train)\n",
    "probabilities = model.predict_proba(features_train)\n",
    "probabilities_one = probabilities[:, 1]\n",
    "print('Площадь ROC-кривой:', roc_auc_score(target_train, probabilities_one))"
   ]
  },
  {
   "cell_type": "markdown",
   "metadata": {},
   "source": [
    "**Вывод:**\n",
    "* Целевая метрика F1 у модели случайный лес незначительно выше чем у решающего дерева.\n",
    "* Самая большая площадь Roc кривой у модели случайный лес в  0.9399.\n",
    "* Самые худшие показатели у модели логистическая регрессия"
   ]
  },
  {
   "cell_type": "markdown",
   "metadata": {},
   "source": [
    "\n",
    " <div class=\"alert alert-warning\">\n",
    "<h2> Комментарий ревьюера <a class=\"tocSkip\"> </h2>\n",
    "    \n",
    "<b>Некоторые замечания и рекомендации💡:</b> \n",
    "\n",
    "Выводы необходимо будет перепроверить и синхронизировать с решениями по коду.\n",
    "       \n",
    "</div>\n"
   ]
  },
  {
   "cell_type": "markdown",
   "metadata": {},
   "source": [
    "## Борьба с дисбалансом"
   ]
  },
  {
   "cell_type": "code",
   "execution_count": 41,
   "metadata": {},
   "outputs": [
    {
     "name": "stdout",
     "output_type": "stream",
     "text": [
      "(8790, 11)\n",
      "(8790,)\n"
     ]
    }
   ],
   "source": [
    "#присвоили функцию которая разделяет признаки и целевой признак на классы и увеличивыет меньший класс\n",
    "def upsample(features, target, repeat):\n",
    "    features_zeros = features[target == 0]\n",
    "    features_ones = features[target == 1]\n",
    "    target_zeros = target[target == 0]\n",
    "    target_ones = target[target == 1]\n",
    "    \n",
    "    features_upsampled = pd.concat([features_zeros] + [features_ones] * repeat)\n",
    "    target_upsampled = pd.concat([target_zeros] + [target_ones] * repeat)\n",
    "    \n",
    "    features_upsampled, target_upsampled = shuffle(\n",
    "        features_upsampled, target_upsampled, random_state=12345)\n",
    "    \n",
    "    return features_upsampled, target_upsampled\n",
    "#функция upsample принимает на входе признаки и целевой признак и число для балансирования классов.\n",
    "features_upsampled, target_upsampled = upsample(features_train, target_train, 4)\n",
    "#вывели на экран число обьектов в переменной признаках и целевого признака.\n",
    "print(features_upsampled.shape)\n",
    "print(target_upsampled.shape)"
   ]
  },
  {
   "cell_type": "markdown",
   "metadata": {},
   "source": [
    "<div class=\"alert alert-success\">\n",
    "<h2> Комментарий ревьюера <a class=\"tocSkip\"> </h2>\n",
    "\n",
    "👍 Отлично, что используешь рукописную функцию, но здесь можно все оптимизировать, используя <a href=\"https://imbalanced-learn.org/stable/references/generated/imblearn.over_sampling.SMOTE.html\">SMOTE</a> для увеличения выборки и <a href=\"https://imbalanced-learn.org/stable/references/generated/imblearn.under_sampling.RandomUnderSampler.html\">RandomUnderSampler</a>  для уменьшения. \n",
    "    \n",
    "Апсемплинг делается очень просто:\n",
    "    \n",
    "`oversample = SMOTE(random_state=RANDOM_STATE)`\n",
    "\n",
    "`features_train_up, target_train_up = oversample.fit_resample(features_train_enc, target_train)`\n",
    "    \n",
    "*предварительно импотрировав `from imblearn.over_sampling import SMOTE`\n",
    "\n",
    "**Чтобы импортировать imblearn его сначала требуется проинсталлировать. через `!pip install imblearn`\n",
    "    \n",
    "</div>\n"
   ]
  },
  {
   "cell_type": "markdown",
   "metadata": {},
   "source": [
    " **Вывод:**\n",
    "* Класс \"0\" больше в 4 раза чем класс \"1\", поэтому увеличиваем меньший класс в 4 раза.\n",
    "* На сбалансированных данных обучим модель и сравним."
   ]
  },
  {
   "cell_type": "markdown",
   "metadata": {},
   "source": [
    "<div class=\"alert alert-success\">\n",
    "<h2> Комментарий ревьюера <a class=\"tocSkip\"> </h2>\n",
    "\n",
    "👍 Согласен\n",
    "</div> "
   ]
  },
  {
   "cell_type": "markdown",
   "metadata": {},
   "source": [
    "### Обучение и подбор гиперпараметров на сбалансированных данных."
   ]
  },
  {
   "cell_type": "code",
   "execution_count": 42,
   "metadata": {},
   "outputs": [
    {
     "name": "stdout",
     "output_type": "stream",
     "text": [
      "F1: 0.5825049701789264 Глубина дерева: 6\n"
     ]
    }
   ],
   "source": [
    "#Создали переменные для вывода в принте  \n",
    "best_model = None\n",
    "best_result = 0\n",
    "best_depth = 0\n",
    "#С помощью цикла перебираем глубину дерева max_depth от 1 до 10\n",
    "for depth in range(1, 10):\n",
    "    # инициализировали модель DecisionTreeRegressor с параметром random_state=12345\\ \n",
    "    model = DecisionTreeClassifier(random_state=12345,splitter='best', max_depth=depth)\n",
    "    # обучили модель на тренировочной выборке    \n",
    "    model.fit(features_upsampled, target_upsampled) \n",
    "    # получили предсказания модели на валидационной выборке\n",
    "    predictions_valid = model.predict(features_valid) \n",
    "    # посчитали значение метрики Accuracy на валидационной выборке\n",
    "    result = f1_score(target_valid, predictions_valid)\n",
    "#print(\"Accuracy наилучшей модели на валидационной выборке:\", result)\n",
    "    if result > best_result:\n",
    "        best_model = model\n",
    "        best_result = result\n",
    "        best_depth = depth\n",
    "\n",
    "print(\"F1:\", best_result, \"Глубина дерева:\", best_depth)\n"
   ]
  },
  {
   "cell_type": "code",
   "execution_count": 43,
   "metadata": {},
   "outputs": [
    {
     "name": "stdout",
     "output_type": "stream",
     "text": [
      "F1: 0.5548245614035088\n"
     ]
    }
   ],
   "source": [
    "# инициализировали модель LogisticRegression с параметром random_state=12345\n",
    "model = LogisticRegression(random_state=123, solver = 'liblinear')\n",
    "# обучили модель на обучающей сбалансированной выборке\n",
    "model.fit(features_upsampled, target_upsampled)\n",
    "# получили предсказания модели на валидационной выборке\n",
    "predicted_logist_valid = model.predict(features_valid)\n",
    "# посчитали значение метрики Accuracy на валидационной выборке\n",
    "result = f1_score(target_valid, predictions_valid)\n",
    "print(\"F1:\", result)"
   ]
  },
  {
   "cell_type": "code",
   "execution_count": 52,
   "metadata": {},
   "outputs": [
    {
     "name": "stdout",
     "output_type": "stream",
     "text": [
      "Fitting 3 folds for each of 100 candidates, totalling 300 fits\n",
      "{'n_estimators': 90, 'min_samples_split': 7, 'min_samples_leaf': 2, 'max_features': 'sqrt', 'max_depth': 15, 'bootstrap': False}\n"
     ]
    }
   ],
   "source": [
    "model = RandomForestClassifier()\n",
    "from sklearn.model_selection import RandomizedSearchCV\n",
    "n_estimators = [int(x) for x in np.linspace(start = 10, stop = 100, num = 10)]\n",
    "max_features = ['log2', 'sqrt']\n",
    "max_depth = [int(x) for x in np.linspace(start = 1, stop = 15, num = 15)]\n",
    "min_samples_split = [int(x) for x in np.linspace(start = 2, stop = 50, num = 10)]\n",
    "min_samples_leaf = [int(x) for x in np.linspace(start = 2, stop = 50, num = 10)]\n",
    "bootstrap = [True, False]\n",
    "param_dist = {'n_estimators': n_estimators,\n",
    "               'max_features': max_features,\n",
    "               'max_depth': max_depth,\n",
    "               'min_samples_split': min_samples_split,\n",
    "               'min_samples_leaf': min_samples_leaf,\n",
    "               'bootstrap': bootstrap}\n",
    "rs = RandomizedSearchCV(model, \n",
    "                        param_dist, \n",
    "                        n_iter = 100, \n",
    "                        cv = 3, \n",
    "                        verbose = 1, \n",
    "                        n_jobs=-1, \n",
    "                        random_state=12345)\n",
    "rs.fit(features_upsampled, target_upsampled)\n",
    "predicted_randfor_valid = rs.predict(features_valid) \n",
    "    # посчитали значение метрики Accuracy на валидационной выборке\n",
    "result = f1_score(target_valid, predicted_randfor_valid)\n",
    "\n",
    "print(rs.best_params_)\n"
   ]
  },
  {
   "cell_type": "code",
   "execution_count": 45,
   "metadata": {},
   "outputs": [
    {
     "name": "stdout",
     "output_type": "stream",
     "text": [
      "F1: 0.6326241134751773\n"
     ]
    }
   ],
   "source": [
    "print('F1:', result)"
   ]
  },
  {
   "cell_type": "markdown",
   "metadata": {},
   "source": [
    "<div class=\"alert alert-block alert-danger\">\n",
    "<h2><S> Комментарий ревьюера <a class=\"tocSkip\"></h2>\n",
    "  \n",
    "<b>На доработку🤔:</b>\n",
    " \n",
    "Здесь изменились вводные  - теперь используем апсемплинг. Необходимо заново обучать модели и заново находить лучшие гиперпараметры.\n",
    "\n",
    "</div>\n"
   ]
  },
  {
   "cell_type": "markdown",
   "metadata": {},
   "source": [
    "**Вывод:**\n",
    "* Самая высокие показатели метрики F1 модели случайный лес 0.63.\n",
    "* Значит модель больше подходит нам для работы.\n"
   ]
  },
  {
   "cell_type": "markdown",
   "metadata": {},
   "source": [
    "  ### Проверка метрик качества моделей."
   ]
  },
  {
   "cell_type": "code",
   "execution_count": 47,
   "metadata": {},
   "outputs": [
    {
     "name": "stdout",
     "output_type": "stream",
     "text": [
      "Полнота модели решающее дерево 0.46630727762803237\n",
      "Точность модели решающее дерево 0.7723214285714286\n",
      "F1-мера модели решающее дерево 0.5815126050420169\n",
      "Площадь ROC-кривой: 0.8746881927898492\n"
     ]
    }
   ],
   "source": [
    "print(\n",
    "    \"Полнота модели решающее дерево\",\n",
    "    recall_score(target_valid, predicted_distree_valid),\n",
    ")\n",
    "print(\n",
    "    \"Точность модели решающее дерево\",\n",
    "    precision_score(target_valid, predicted_distree_valid),\n",
    ")\n",
    "print(\"F1-мера модели решающее дерево\", f1_score(target_valid, predicted_distree_valid))\n",
    "\n",
    "model = DecisionTreeClassifier(random_state=12345, max_depth=6)\n",
    "model.fit(features_upsampled, target_upsampled)\n",
    "probabilities = model.predict_proba(features_upsampled)\n",
    "\n",
    "probabilities_one = probabilities[:, 1]\n",
    "print('Площадь ROC-кривой:', roc_auc_score(target_upsampled, probabilities_one))"
   ]
  },
  {
   "cell_type": "code",
   "execution_count": 53,
   "metadata": {},
   "outputs": [
    {
     "name": "stdout",
     "output_type": "stream",
     "text": [
      "Полнота модели случайный лес 0.5795148247978437\n",
      "Точность модели случайный лес 0.6595092024539877\n",
      "F1-мера модели случайный лес 0.6169296987087518\n",
      "Площадь ROC-кривой: 0.9999792887937462\n"
     ]
    }
   ],
   "source": [
    "#Вывели на экран метрики на несбалансированных даннных для каждой модели\n",
    "model = RandomForestClassifier(random_state=12345, n_estimators=90, min_samples_split=7,\n",
    "                               min_samples_leaf=2, max_features='sqrt', max_depth=15, bootstrap=False)\n",
    "model.fit(features_upsampled, target_upsampled)\n",
    "probabilities = model.predict_proba(features_upsampled)\n",
    "probabilities_one = probabilities[:, 1]\n",
    "print(\n",
    "    \"Полнота модели случайный лес\" , \n",
    "    recall_score(target_valid, predicted_randfor_valid),\n",
    ")\n",
    "print(\n",
    "    \"Точность модели случайный лес\", \n",
    "    precision_score(target_valid, predicted_randfor_valid),\n",
    ")\n",
    "print(\n",
    "    \"F1-мера модели случайный лес\", \n",
    "    f1_score(target_valid, predicted_randfor_valid),\n",
    ")\n",
    "\n",
    "print('Площадь ROC-кривой:', roc_auc_score(target_upsampled, probabilities_one))    "
   ]
  },
  {
   "cell_type": "code",
   "execution_count": 54,
   "metadata": {},
   "outputs": [
    {
     "name": "stdout",
     "output_type": "stream",
     "text": [
      "Полнота модели логистическая регрессия 0.7358490566037735\n",
      "Точность модели логистическая регрессия 0.3845070422535211\n",
      "F1-мера модели логистическая регрессия 0.5050878815911193\n",
      "Площадь ROC-кривой: 0.7618882323896755\n"
     ]
    }
   ],
   "source": [
    "#Вывели на экран метрики на несбалансированных даннных для каждой модели\n",
    "print(\n",
    "    \"Полнота модели логистическая регрессия\" , \n",
    "    recall_score(target_valid, predicted_logist_valid),\n",
    ")\n",
    "print(\n",
    "    \"Точность модели логистическая регрессия\", \n",
    "    precision_score(target_valid, predicted_logist_valid),\n",
    ")\n",
    "print(\n",
    "    \"F1-мера модели логистическая регрессия\", \n",
    "    f1_score(target_valid, predicted_logist_valid),\n",
    ")\n",
    "\n",
    "model = LogisticRegression(random_state=123, solver = 'liblinear')\n",
    "# обучили модель на тренировочной выборке\n",
    "model.fit(features_upsampled, target_upsampled)\n",
    "probabilities = model.predict_proba(features_upsampled)\n",
    "probabilities_one = probabilities[:, 1]\n",
    "print('Площадь ROC-кривой:', roc_auc_score(target_upsampled, probabilities_one))    "
   ]
  },
  {
   "cell_type": "markdown",
   "metadata": {},
   "source": [
    "**Вывод:**\n",
    "* Самая лучшая F мера у модели Случайный лес 0.58.\n",
    "* Также площадь Roc кривой самое большее значение имеет модель случайный лес"
   ]
  },
  {
   "cell_type": "markdown",
   "metadata": {},
   "source": [
    "<div class=\"alert alert-warning\">\n",
    "<h2> Комментарий ревьюера <a class=\"tocSkip\"> </h2>\n",
    "    \n",
    "<b>Некоторые замечания и рекомендации💡:</b> \n",
    "\n",
    "А здесь если мы подбираем сначала один гиперпараметр, а затем другой, то мы пропускаем несколько потенциально оптимальных комбинаций. Чуть дольше будет считаться, но зато лучший результат получим, если будем применять подбор гиперпараметров в двойном цикле:\n",
    "    \n",
    "`for est in range(10, 101, 10):\n",
    "    for depth in range(1, 14, 2):\n",
    "        model = RandomForestClassifier(random_state=12345, n_estimators=est, max_depth=depth)`\n",
    "      \n",
    " \n",
    "</div>\n"
   ]
  },
  {
   "cell_type": "code",
   "execution_count": 55,
   "metadata": {
    "scrolled": true
   },
   "outputs": [
    {
     "name": "stdout",
     "output_type": "stream",
     "text": [
      "CPU times: user 875 ms, sys: 3.99 ms, total: 879 ms\n",
      "Wall time: 879 ms\n"
     ]
    },
    {
     "data": {
      "text/html": [
       "<style>#sk-container-id-1 {color: black;background-color: white;}#sk-container-id-1 pre{padding: 0;}#sk-container-id-1 div.sk-toggleable {background-color: white;}#sk-container-id-1 label.sk-toggleable__label {cursor: pointer;display: block;width: 100%;margin-bottom: 0;padding: 0.3em;box-sizing: border-box;text-align: center;}#sk-container-id-1 label.sk-toggleable__label-arrow:before {content: \"▸\";float: left;margin-right: 0.25em;color: #696969;}#sk-container-id-1 label.sk-toggleable__label-arrow:hover:before {color: black;}#sk-container-id-1 div.sk-estimator:hover label.sk-toggleable__label-arrow:before {color: black;}#sk-container-id-1 div.sk-toggleable__content {max-height: 0;max-width: 0;overflow: hidden;text-align: left;background-color: #f0f8ff;}#sk-container-id-1 div.sk-toggleable__content pre {margin: 0.2em;color: black;border-radius: 0.25em;background-color: #f0f8ff;}#sk-container-id-1 input.sk-toggleable__control:checked~div.sk-toggleable__content {max-height: 200px;max-width: 100%;overflow: auto;}#sk-container-id-1 input.sk-toggleable__control:checked~label.sk-toggleable__label-arrow:before {content: \"▾\";}#sk-container-id-1 div.sk-estimator input.sk-toggleable__control:checked~label.sk-toggleable__label {background-color: #d4ebff;}#sk-container-id-1 div.sk-label input.sk-toggleable__control:checked~label.sk-toggleable__label {background-color: #d4ebff;}#sk-container-id-1 input.sk-hidden--visually {border: 0;clip: rect(1px 1px 1px 1px);clip: rect(1px, 1px, 1px, 1px);height: 1px;margin: -1px;overflow: hidden;padding: 0;position: absolute;width: 1px;}#sk-container-id-1 div.sk-estimator {font-family: monospace;background-color: #f0f8ff;border: 1px dotted black;border-radius: 0.25em;box-sizing: border-box;margin-bottom: 0.5em;}#sk-container-id-1 div.sk-estimator:hover {background-color: #d4ebff;}#sk-container-id-1 div.sk-parallel-item::after {content: \"\";width: 100%;border-bottom: 1px solid gray;flex-grow: 1;}#sk-container-id-1 div.sk-label:hover label.sk-toggleable__label {background-color: #d4ebff;}#sk-container-id-1 div.sk-serial::before {content: \"\";position: absolute;border-left: 1px solid gray;box-sizing: border-box;top: 0;bottom: 0;left: 50%;z-index: 0;}#sk-container-id-1 div.sk-serial {display: flex;flex-direction: column;align-items: center;background-color: white;padding-right: 0.2em;padding-left: 0.2em;position: relative;}#sk-container-id-1 div.sk-item {position: relative;z-index: 1;}#sk-container-id-1 div.sk-parallel {display: flex;align-items: stretch;justify-content: center;background-color: white;position: relative;}#sk-container-id-1 div.sk-item::before, #sk-container-id-1 div.sk-parallel-item::before {content: \"\";position: absolute;border-left: 1px solid gray;box-sizing: border-box;top: 0;bottom: 0;left: 50%;z-index: -1;}#sk-container-id-1 div.sk-parallel-item {display: flex;flex-direction: column;z-index: 1;position: relative;background-color: white;}#sk-container-id-1 div.sk-parallel-item:first-child::after {align-self: flex-end;width: 50%;}#sk-container-id-1 div.sk-parallel-item:last-child::after {align-self: flex-start;width: 50%;}#sk-container-id-1 div.sk-parallel-item:only-child::after {width: 0;}#sk-container-id-1 div.sk-dashed-wrapped {border: 1px dashed gray;margin: 0 0.4em 0.5em 0.4em;box-sizing: border-box;padding-bottom: 0.4em;background-color: white;}#sk-container-id-1 div.sk-label label {font-family: monospace;font-weight: bold;display: inline-block;line-height: 1.2em;}#sk-container-id-1 div.sk-label-container {text-align: center;}#sk-container-id-1 div.sk-container {/* jupyter's `normalize.less` sets `[hidden] { display: none; }` but bootstrap.min.css set `[hidden] { display: none !important; }` so we also need the `!important` here to be able to override the default hidden behavior on the sphinx rendered scikit-learn.org. See: https://github.com/scikit-learn/scikit-learn/issues/21755 */display: inline-block !important;position: relative;}#sk-container-id-1 div.sk-text-repr-fallback {display: none;}</style><div id=\"sk-container-id-1\" class=\"sk-top-container\"><div class=\"sk-text-repr-fallback\"><pre>RandomForestClassifier(bootstrap=False, max_depth=15, min_samples_leaf=2,\n",
       "                       min_samples_split=7, n_estimators=90,\n",
       "                       random_state=12345)</pre><b>In a Jupyter environment, please rerun this cell to show the HTML representation or trust the notebook. <br />On GitHub, the HTML representation is unable to render, please try loading this page with nbviewer.org.</b></div><div class=\"sk-container\" hidden><div class=\"sk-item\"><div class=\"sk-estimator sk-toggleable\"><input class=\"sk-toggleable__control sk-hidden--visually\" id=\"sk-estimator-id-1\" type=\"checkbox\" checked><label for=\"sk-estimator-id-1\" class=\"sk-toggleable__label sk-toggleable__label-arrow\">RandomForestClassifier</label><div class=\"sk-toggleable__content\"><pre>RandomForestClassifier(bootstrap=False, max_depth=15, min_samples_leaf=2,\n",
       "                       min_samples_split=7, n_estimators=90,\n",
       "                       random_state=12345)</pre></div></div></div></div></div>"
      ],
      "text/plain": [
       "RandomForestClassifier(bootstrap=False, max_depth=15, min_samples_leaf=2,\n",
       "                       min_samples_split=7, n_estimators=90,\n",
       "                       random_state=12345)"
      ]
     },
     "execution_count": 55,
     "metadata": {},
     "output_type": "execute_result"
    }
   ],
   "source": [
    "%%time\n",
    "\n",
    "model = RandomForestClassifier(random_state=12345, n_estimators=90, min_samples_split=7,\n",
    "                               min_samples_leaf=2, max_features='sqrt', max_depth=15, bootstrap=False)\n",
    "model.fit(features_upsampled, target_upsampled) "
   ]
  },
  {
   "cell_type": "code",
   "execution_count": 56,
   "metadata": {},
   "outputs": [],
   "source": [
    "model = RandomForestClassifier(random_state=12345, n_estimators=90, min_samples_split=7,\n",
    "                               min_samples_leaf=2, max_features='sqrt', max_depth=15, bootstrap=False)\n",
    "model.fit(features_upsampled, target_upsampled) \n",
    "predict_RanForCl = model.predict(features_test)\n"
   ]
  },
  {
   "cell_type": "code",
   "execution_count": null,
   "metadata": {},
   "outputs": [],
   "source": []
  },
  {
   "cell_type": "markdown",
   "metadata": {},
   "source": [
    "**Вывод:**\n",
    "* Самые высокий показатель F меры 0.61 дают параметры глубина дерева 9 и количество деревьев 90\n",
    "* Время за которое модель обучается 879 миллисекунды, что не критично."
   ]
  },
  {
   "cell_type": "markdown",
   "metadata": {},
   "source": [
    "<div class=\"alert alert-warning\">\n",
    "<h2> Комментарий ревьюера <a class=\"tocSkip\"> </h2>\n",
    "    \n",
    "<b>Некоторые замечания и рекомендации💡:</b> \n",
    "\n",
    "Еще раз напомню, что гиперпараметры нужно подбирать в каждом случае использования моделей.\n",
    "       \n",
    "</div>\n"
   ]
  },
  {
   "cell_type": "markdown",
   "metadata": {},
   "source": [
    "### Адекватность лучшей модели"
   ]
  },
  {
   "cell_type": "code",
   "execution_count": 57,
   "metadata": {},
   "outputs": [
    {
     "data": {
      "text/plain": [
       "1    1819\n",
       "dtype: int64"
      ]
     },
     "execution_count": 57,
     "metadata": {},
     "output_type": "execute_result"
    }
   ],
   "source": [
    "target_pred_constant = pd.Series([1]*len(target_test))\n",
    "target_pred_constant.value_counts()"
   ]
  },
  {
   "cell_type": "code",
   "execution_count": 58,
   "metadata": {},
   "outputs": [
    {
     "name": "stdout",
     "output_type": "stream",
     "text": [
      "F1 константной модели: 0.33881278538812787\n",
      "F1 лучшей модели: 0.5967976710334789\n",
      "AUC-ROC константой модели: 0.5\n",
      "AUC-ROC лучшей модели: 0.7379515941683669\n"
     ]
    }
   ],
   "source": [
    "#Сравним показатель точности (accuracy_score) константной модели и финальной\n",
    "print('F1 константной модели:', f1_score(target_test, target_pred_constant))\n",
    "print('F1 лучшей модели:', f1_score(target_test, predict_RanForCl))\n",
    "#Cравним AUC-ROC константной и лучшей модели\n",
    "print('AUC-ROC константой модели:', roc_auc_score(target_test, target_pred_constant))\n",
    "print('AUC-ROC лучшей модели:', roc_auc_score(target_test, predict_RanForCl))"
   ]
  },
  {
   "cell_type": "markdown",
   "metadata": {},
   "source": [
    "**Вывод:**\n",
    "* У модели показатели выше чем у константной.\n",
    "* Поэтому нашу модель можно считать адекватно. "
   ]
  },
  {
   "cell_type": "markdown",
   "metadata": {},
   "source": [
    "<div class=\"alert alert-block alert-danger\">\n",
    "<h2><S> Комментарий ревьюера <a class=\"tocSkip\"></h2>\n",
    "  \n",
    "<b>На доработку🤔:</b>\n",
    " \n",
    "Здесь нужно оставить промежуточный комментарий с качеством и гиперпараметрами лучшей модели − той, которую возьмем на тестирование. Если это не модель с лучшим значением F1, то можно пояснить, почему выбрали ее (например, скорость обучения высокая).\n",
    "\n",
    "</div>\n"
   ]
  },
  {
   "cell_type": "markdown",
   "metadata": {},
   "source": [
    "## Тестирование модели"
   ]
  },
  {
   "cell_type": "code",
   "execution_count": 59,
   "metadata": {},
   "outputs": [
    {
     "name": "stdout",
     "output_type": "stream",
     "text": [
      "Полнота модели случайный лес 0.555256064690027\n",
      "Точность модели случайный лес 0.6498422712933754\n",
      "F1-мера модели случайный лес 0.5988372093023255\n",
      "AUC-ROC модели случайный лес 0.7392993030632455\n",
      "Площадь ROC-кривой: 0.9999755607766206\n"
     ]
    }
   ],
   "source": [
    "#Обучим на выбранной модели тестовую выборку\n",
    "model = RandomForestClassifier(random_state=12345, n_estimators=178, min_samples_split=7,\n",
    "                               min_samples_leaf=2, max_features='sqrt', max_depth=15, bootstrap=False)\n",
    "model.fit(features_upsampled, target_upsampled) \n",
    "predictions_valid = model.predict(features_test)\n",
    "#Выводим на экран основные метрики модели\n",
    "print(\n",
    "    \"Полнота модели случайный лес\" , \n",
    "    recall_score(target_test, predictions_valid),\n",
    ")\n",
    "print(\n",
    "    \"Точность модели случайный лес\", \n",
    "    precision_score(target_test, predictions_valid),\n",
    ")\n",
    "print(\n",
    "    \"F1-мера модели случайный лес\", \n",
    "    f1_score(target_test, predictions_valid),\n",
    ")\n",
    "print(\n",
    "    \"AUC-ROC модели случайный лес\", \n",
    "    roc_auc_score(target_test, predictions_valid),\n",
    ")\n",
    "probabilities = model.predict_proba(features_upsampled)\n",
    "probabilities_one = probabilities[:, 1]\n",
    "print('Площадь ROC-кривой:', roc_auc_score(target_upsampled, probabilities_one))        "
   ]
  },
  {
   "cell_type": "markdown",
   "metadata": {},
   "source": [
    "<div class=\"alert alert-success\">\n",
    "<h2> Комментарий ревьюера <a class=\"tocSkip\"> </h2>\n",
    "\n",
    "👍 Отличное качество.\n",
    "</div>\n",
    "\n"
   ]
  },
  {
   "cell_type": "markdown",
   "metadata": {},
   "source": [
    "\n",
    "<div class=\"alert alert-block alert-danger\">\n",
    "<h2><s> Комментарий ревьюера #2 <a class=\"tocSkip\"></h2>\n",
    "  \n",
    "<b>На доработку🤔:</b>\n",
    " \n",
    "Tеперь качество недостаточное.\n",
    "\n",
    "</div>\n",
    "\n",
    "\n"
   ]
  },
  {
   "cell_type": "markdown",
   "metadata": {},
   "source": [
    "<div class=\"alert alert-warning\">\n",
    "<h2> Комментарий ревьюера <a class=\"tocSkip\"> </h2>\n",
    "    \n",
    "<b>Некоторые замечания и рекомендации💡:</b> \n",
    "\n",
    "Напомню, ROC-AUC мы рассчитываем по вероятностям классов. Точно как ниже, когда ты строишь график.\n",
    "       \n",
    "</div>\n"
   ]
  },
  {
   "cell_type": "code",
   "execution_count": null,
   "metadata": {},
   "outputs": [],
   "source": [
    "#Изобразим на графике ROC-кривую нашей модели случайный лес.\n",
    "probabilities_valid = model.predict_proba(features_valid)\n",
    "probabilities_one_valid = probabilities_valid[:, 1]\n",
    "fpr, tpr, thresholds = roc_curve(target_valid, probabilities_one_valid) \n",
    "plt.figure()\n",
    "plt.plot(fpr, tpr)\n",
    "plt.plot([0, 1], [0, 1], linestyle='--')\n",
    "plt.xlim([0.0, 1.0])\n",
    "plt.ylim([0.0, 1.0])\n",
    "plt.xlabel('False Positive Rate')\n",
    "plt.ylabel('True Positive Rate')\n",
    "plt.title('ROC-кривая')\n",
    "plt.show()"
   ]
  },
  {
   "cell_type": "markdown",
   "metadata": {},
   "source": [
    "**Вывод:**\n",
    "* Выбранная модель достигла заданой метрики (F1>0.59) и показывает адекватные результаты.\n",
    "* Модель характеризуется показателем полноты = 0.55 (min = 0, max = 1), \n",
    "может охватить только половину.\n",
    "* Показатель точности высокий = 0.64(min = 0, max = 1) — модель верно предсказывает\n",
    "больше чем на половину ухода клиентов."
   ]
  },
  {
   "cell_type": "markdown",
   "metadata": {},
   "source": [
    "**Общий выод:**\n",
    "* Модель подходит для предсказания оттока клиентов.\n",
    "* Все модели не первоначальных данных характеризовались высокой степенью ошибок и низким качеством \n",
    " величины (F1) — модели показывали низкие результаты точности и полноты.\n",
    "* Мы устранили дисбаланс классов в обучающей выборки методом upsampling — увеличили количество \n",
    "значений позитивного класса в 4 раза.\n",
    "* На новых данных все модели показали результат выше, чем на несбалансированной выборке. \n",
    "* Лучшие показатели были у модели случайного леса.\n",
    "* Улучшение модели происходило путем цикла выбора параметров, которые показывали наиболее \n",
    "высокое значение F1 меры и не приводили модель к переобучению. \n",
    "* Mодель поможет определять килентов, которые могут уйти в ближайшее время. \n",
    "* Важно, что модель охватывает большое количество клиентов ноточность только в половине случаев."
   ]
  },
  {
   "cell_type": "markdown",
   "metadata": {},
   "source": [
    "<div class=\"alert alert-block alert-danger\">\n",
    "<h2><s> Комментарий ревьюера <a class=\"tocSkip\"></h2>\n",
    "  \n",
    "<b>На доработку🤔:</b>\n",
    " \n",
    "Необходимо дополнить общий вывод по проекту: описать лучшую модель, ее результаты на тестовой выборке, сравнить модель с константной, прокомментировать, как модель решает задачу бизнеса: здесь можно подсчитать recall и объяснить, какую долю клиентов на отток мы детектируем верно.\n",
    "\n",
    "</div>\n"
   ]
  },
  {
   "cell_type": "markdown",
   "metadata": {},
   "source": [
    "<div style=\"border:solid Chocolate 2px; padding: 40px\">\n",
    "\n",
    "**Общий вывод по проекту**\n",
    "    \n",
    "Спасибо за твой проект! Есть несколько важных моментов, которые необходимо улучшить. Их ты найдешь в разноцветных комментариях.\n",
    "    \n",
    "**Отмечу положительные моменты проекта🚀**\n",
    "    \n",
    "* Хорошая структура проекта. Выбор моделей, порядок исследования.\n",
    "* Есть пояснения к шагам, код с высокой читаемостью. \n",
    "* Логичность решений.\n",
    "* Хороший результат на тестовой выборке.\n",
    "    \n",
    "**На что стоит обратить внимание🤔**\n",
    "    \n",
    "* Необходимо изменить подход к заполнению пропусков.\n",
    "* Гиперпараметры моделеям подбираем в каждом случае применения методики борьбы с дисбалансом и в исследовании моделей без учета дисбаланса.\n",
    "* ROC_AUC подбираем по вероятностям классов.\n",
    "* Необходимо везде оставлять промежуточные выводы и дополнить итоговый вывод.\n",
    "* Эти и остальные замечания я также написал по ходу проекта.\n",
    "    \n",
    "**Желаю удачи и жду твой проект на повторное ревью!**😉\n",
    "    \n",
    "    \n",
    "</div>\n",
    "\n"
   ]
  },
  {
   "cell_type": "markdown",
   "metadata": {},
   "source": [
    "\n",
    "<div style=\"border:solid Chocolate 2px; padding: 40px\">\n",
    "\n",
    "**Комментарий ко второй проверке**\n",
    "\n",
    "Спасибо за качественную доработку. Практически все верно. Однако еще кое-что осталось.\n",
    "    \n",
    "* Важно сразу подбирать лучшие гиперпараметры по F1-мере. \n",
    "* Необходимо достичь качества модели F1>0.59\n",
    "\n",
    "\n",
    "**Желаю удачи и жду твой проект на повторное ревью!**😉\n",
    "</div>\n",
    "\n"
   ]
  },
  {
   "cell_type": "markdown",
   "metadata": {},
   "source": [
    "<div style=\"border:solid Chocolate 2px; padding: 40px\">\n",
    "\n",
    "**Комментарий к финальной проверке**\n",
    "\n",
    "Спасибо за доработку. Критичных комментариев нет. \n",
    "    \n",
    "Единственное, заметил, что в одном случае ты использовала кросс-валидацию. В этом проекте, к сожалению, использование GridSearchCV будет не везде хорошим решением. Например, его нельзя использовать с апсемплингом, так как у нас утекут признаки из одной выборки в другую (фактически обучаться и валидироваться будем на одних данных).\n",
    "    \n",
    "Также при использовании кросс-валидации нам не стоит отдельно выделять валидационную выборку - она уже заложена в самом алгоритме кросс-валидации. Подробнее можно почитать здесь: https://habr.com/ru/company/ods/blog/322534/ \n",
    "    \n",
    "Ну и при апсемплинге и кросс-валидации мы неминуемо апсемплируем и тренировочную, и валидацинную выборки. То же самое и с даунсемплингом. \n",
    "\n",
    "\n",
    "Желаю удачи в дальнейшей учебе!\n",
    "\n",
    "</div>\n"
   ]
  },
  {
   "cell_type": "markdown",
   "metadata": {},
   "source": [
    "## Чек-лист готовности проекта"
   ]
  },
  {
   "cell_type": "markdown",
   "metadata": {},
   "source": [
    "Поставьте 'x' в выполненных пунктах. Далее нажмите Shift+Enter."
   ]
  },
  {
   "cell_type": "markdown",
   "metadata": {},
   "source": [
    "- [x]  Jupyter Notebook открыт\n",
    "- [x]  Весь код выполняется без ошибок\n",
    "- [x]  Ячейки с кодом расположены в порядке исполнения\n",
    "- [x]  Выполнен шаг 1: данные подготовлены\n",
    "- [x]  Выполнен шаг 2: задача исследована\n",
    "    - [x]  Исследован баланс классов\n",
    "    - [x]  Изучены модели без учёта дисбаланса\n",
    "    - [х]  Написаны выводы по результатам исследования\n",
    "- [x]  Выполнен шаг 3: учтён дисбаланс\n",
    "    - [х]  Применено несколько способов борьбы с дисбалансом\n",
    "    - [х]  Написаны выводы по результатам исследования\n",
    "- [х]  Выполнен шаг 4: проведено тестирование\n",
    "- [х]  Удалось достичь *F1*-меры не менее 0.59\n",
    "- [х]  Исследована метрика *AUC-ROC*"
   ]
  },
  {
   "cell_type": "code",
   "execution_count": null,
   "metadata": {},
   "outputs": [],
   "source": []
  }
 ],
 "metadata": {
  "ExecuteTimeLog": [
   {
    "duration": 388,
    "start_time": "2023-01-30T13:13:10.800Z"
   },
   {
    "duration": 77,
    "start_time": "2023-01-30T13:13:11.537Z"
   },
   {
    "duration": 44,
    "start_time": "2023-01-30T13:13:33.880Z"
   },
   {
    "duration": 71,
    "start_time": "2023-01-30T13:13:54.082Z"
   },
   {
    "duration": 48,
    "start_time": "2023-01-30T16:47:25.026Z"
   },
   {
    "duration": 1232,
    "start_time": "2023-01-30T16:47:48.351Z"
   },
   {
    "duration": 199,
    "start_time": "2023-01-30T16:47:49.585Z"
   },
   {
    "duration": 48,
    "start_time": "2023-01-30T16:47:50.129Z"
   },
   {
    "duration": 10,
    "start_time": "2023-01-30T16:47:59.370Z"
   },
   {
    "duration": 8,
    "start_time": "2023-01-30T16:49:23.612Z"
   },
   {
    "duration": 3,
    "start_time": "2023-01-30T16:51:25.577Z"
   },
   {
    "duration": 65,
    "start_time": "2023-01-30T16:51:26.778Z"
   },
   {
    "duration": 52,
    "start_time": "2023-01-30T16:51:27.376Z"
   },
   {
    "duration": 9,
    "start_time": "2023-01-30T16:51:29.048Z"
   },
   {
    "duration": 8,
    "start_time": "2023-01-30T16:52:58.435Z"
   },
   {
    "duration": 9,
    "start_time": "2023-01-30T16:53:35.504Z"
   },
   {
    "duration": 1112,
    "start_time": "2023-01-31T10:07:40.359Z"
   },
   {
    "duration": 100,
    "start_time": "2023-01-31T10:07:41.474Z"
   },
   {
    "duration": 71,
    "start_time": "2023-01-31T10:07:42.633Z"
   },
   {
    "duration": 10,
    "start_time": "2023-01-31T10:07:44.354Z"
   },
   {
    "duration": 8,
    "start_time": "2023-01-31T10:07:45.324Z"
   },
   {
    "duration": 12,
    "start_time": "2023-01-31T10:17:00.619Z"
   },
   {
    "duration": 3,
    "start_time": "2023-01-31T10:29:33.228Z"
   },
   {
    "duration": 104,
    "start_time": "2023-01-31T10:31:41.184Z"
   },
   {
    "duration": 4,
    "start_time": "2023-01-31T10:31:46.501Z"
   },
   {
    "duration": 4,
    "start_time": "2023-01-31T10:35:04.949Z"
   },
   {
    "duration": 3,
    "start_time": "2023-01-31T10:36:01.314Z"
   },
   {
    "duration": 57,
    "start_time": "2023-01-31T10:36:01.989Z"
   },
   {
    "duration": 75,
    "start_time": "2023-01-31T10:36:05.345Z"
   },
   {
    "duration": 13,
    "start_time": "2023-01-31T10:36:06.769Z"
   },
   {
    "duration": 5,
    "start_time": "2023-01-31T10:36:08.643Z"
   },
   {
    "duration": 5,
    "start_time": "2023-01-31T10:37:43.171Z"
   },
   {
    "duration": 5,
    "start_time": "2023-01-31T10:39:10.083Z"
   },
   {
    "duration": 1194,
    "start_time": "2023-01-31T10:41:16.420Z"
   },
   {
    "duration": 5,
    "start_time": "2023-01-31T10:41:28.072Z"
   },
   {
    "duration": 6,
    "start_time": "2023-01-31T12:06:04.059Z"
   },
   {
    "duration": 1082,
    "start_time": "2023-01-31T14:15:34.730Z"
   },
   {
    "duration": 225,
    "start_time": "2023-01-31T14:15:35.814Z"
   },
   {
    "duration": 49,
    "start_time": "2023-01-31T14:15:37.818Z"
   },
   {
    "duration": 13,
    "start_time": "2023-01-31T14:15:38.683Z"
   },
   {
    "duration": 4,
    "start_time": "2023-01-31T14:15:39.285Z"
   },
   {
    "duration": 6,
    "start_time": "2023-01-31T14:16:20.657Z"
   },
   {
    "duration": 5,
    "start_time": "2023-01-31T14:17:02.291Z"
   },
   {
    "duration": 5,
    "start_time": "2023-01-31T14:21:32.381Z"
   },
   {
    "duration": 5,
    "start_time": "2023-01-31T14:22:02.735Z"
   },
   {
    "duration": 7,
    "start_time": "2023-01-31T14:26:10.517Z"
   },
   {
    "duration": 5,
    "start_time": "2023-01-31T14:26:34.305Z"
   },
   {
    "duration": 11,
    "start_time": "2023-01-31T14:32:36.198Z"
   },
   {
    "duration": 2,
    "start_time": "2023-01-31T14:38:20.479Z"
   },
   {
    "duration": 2,
    "start_time": "2023-01-31T14:38:23.272Z"
   },
   {
    "duration": 4,
    "start_time": "2023-01-31T14:57:52.056Z"
   },
   {
    "duration": 17,
    "start_time": "2023-01-31T15:01:02.867Z"
   },
   {
    "duration": 20,
    "start_time": "2023-01-31T15:09:58.427Z"
   },
   {
    "duration": 18,
    "start_time": "2023-01-31T15:10:31.870Z"
   },
   {
    "duration": 5,
    "start_time": "2023-01-31T15:20:00.549Z"
   },
   {
    "duration": 13,
    "start_time": "2023-01-31T15:20:01.342Z"
   },
   {
    "duration": 6,
    "start_time": "2023-01-31T15:20:37.133Z"
   },
   {
    "duration": 21,
    "start_time": "2023-01-31T15:22:30.930Z"
   },
   {
    "duration": 3,
    "start_time": "2023-01-31T15:32:19.910Z"
   },
   {
    "duration": 17,
    "start_time": "2023-01-31T15:42:25.645Z"
   },
   {
    "duration": 37,
    "start_time": "2023-01-31T15:46:45.826Z"
   },
   {
    "duration": 3,
    "start_time": "2023-01-31T15:47:39.288Z"
   },
   {
    "duration": 55,
    "start_time": "2023-01-31T15:47:39.973Z"
   },
   {
    "duration": 44,
    "start_time": "2023-01-31T15:47:40.756Z"
   },
   {
    "duration": 11,
    "start_time": "2023-01-31T15:47:41.167Z"
   },
   {
    "duration": 10,
    "start_time": "2023-01-31T15:47:41.582Z"
   },
   {
    "duration": 3,
    "start_time": "2023-01-31T15:47:41.897Z"
   },
   {
    "duration": 4,
    "start_time": "2023-01-31T15:47:42.326Z"
   },
   {
    "duration": 4,
    "start_time": "2023-01-31T15:47:43.135Z"
   },
   {
    "duration": 4,
    "start_time": "2023-01-31T15:47:43.689Z"
   },
   {
    "duration": 5,
    "start_time": "2023-01-31T15:47:44.268Z"
   },
   {
    "duration": 7,
    "start_time": "2023-01-31T15:47:44.962Z"
   },
   {
    "duration": 15,
    "start_time": "2023-01-31T15:47:46.413Z"
   },
   {
    "duration": 19,
    "start_time": "2023-01-31T15:48:34.933Z"
   },
   {
    "duration": 6,
    "start_time": "2023-01-31T15:48:36.787Z"
   },
   {
    "duration": 17,
    "start_time": "2023-01-31T15:48:37.861Z"
   },
   {
    "duration": 33,
    "start_time": "2023-01-31T15:48:41.131Z"
   },
   {
    "duration": 5,
    "start_time": "2023-01-31T16:03:20.250Z"
   },
   {
    "duration": 6,
    "start_time": "2023-01-31T16:03:24.658Z"
   },
   {
    "duration": 4,
    "start_time": "2023-01-31T16:04:10.075Z"
   },
   {
    "duration": 14,
    "start_time": "2023-01-31T16:04:15.309Z"
   },
   {
    "duration": 21,
    "start_time": "2023-01-31T16:04:19.750Z"
   },
   {
    "duration": 5,
    "start_time": "2023-01-31T16:04:22.490Z"
   },
   {
    "duration": 17,
    "start_time": "2023-01-31T16:04:23.328Z"
   },
   {
    "duration": 36,
    "start_time": "2023-01-31T16:04:25.494Z"
   },
   {
    "duration": 31,
    "start_time": "2023-01-31T16:08:16.235Z"
   },
   {
    "duration": 4,
    "start_time": "2023-01-31T16:17:02.525Z"
   },
   {
    "duration": 36,
    "start_time": "2023-01-31T16:36:58.034Z"
   },
   {
    "duration": 36,
    "start_time": "2023-01-31T16:39:11.382Z"
   },
   {
    "duration": 27,
    "start_time": "2023-01-31T16:42:15.260Z"
   },
   {
    "duration": 21,
    "start_time": "2023-01-31T16:44:30.925Z"
   },
   {
    "duration": 806,
    "start_time": "2023-01-31T16:46:52.697Z"
   },
   {
    "duration": 8,
    "start_time": "2023-01-31T16:48:12.906Z"
   },
   {
    "duration": 9,
    "start_time": "2023-01-31T16:48:15.540Z"
   },
   {
    "duration": 107,
    "start_time": "2023-01-31T16:53:13.517Z"
   },
   {
    "duration": 10,
    "start_time": "2023-01-31T16:53:53.604Z"
   },
   {
    "duration": 8,
    "start_time": "2023-01-31T16:54:20.452Z"
   },
   {
    "duration": 549,
    "start_time": "2023-01-31T16:55:14.244Z"
   },
   {
    "duration": 151,
    "start_time": "2023-01-31T17:05:14.444Z"
   },
   {
    "duration": 6,
    "start_time": "2023-01-31T17:23:25.354Z"
   },
   {
    "duration": 8,
    "start_time": "2023-01-31T17:36:01.838Z"
   },
   {
    "duration": 3,
    "start_time": "2023-01-31T17:37:46.565Z"
   },
   {
    "duration": 6,
    "start_time": "2023-01-31T17:39:12.710Z"
   },
   {
    "duration": 7,
    "start_time": "2023-01-31T17:41:09.370Z"
   },
   {
    "duration": 4,
    "start_time": "2023-01-31T17:46:07.991Z"
   },
   {
    "duration": 1051,
    "start_time": "2023-02-01T16:26:15.215Z"
   },
   {
    "duration": 110,
    "start_time": "2023-02-01T16:26:16.268Z"
   },
   {
    "duration": 71,
    "start_time": "2023-02-01T16:26:17.337Z"
   },
   {
    "duration": 13,
    "start_time": "2023-02-01T16:26:18.002Z"
   },
   {
    "duration": 7,
    "start_time": "2023-02-01T16:26:18.704Z"
   },
   {
    "duration": 4,
    "start_time": "2023-02-01T16:26:19.438Z"
   },
   {
    "duration": 5,
    "start_time": "2023-02-01T16:26:20.243Z"
   },
   {
    "duration": 5,
    "start_time": "2023-02-01T16:26:20.907Z"
   },
   {
    "duration": 4,
    "start_time": "2023-02-01T16:26:21.550Z"
   },
   {
    "duration": 5,
    "start_time": "2023-02-01T16:26:22.211Z"
   },
   {
    "duration": 3,
    "start_time": "2023-02-01T16:26:22.874Z"
   },
   {
    "duration": 12,
    "start_time": "2023-02-01T16:26:25.083Z"
   },
   {
    "duration": 20,
    "start_time": "2023-02-01T16:26:25.804Z"
   },
   {
    "duration": 7,
    "start_time": "2023-02-01T16:26:27.114Z"
   },
   {
    "duration": 17,
    "start_time": "2023-02-01T16:26:27.803Z"
   },
   {
    "duration": 32,
    "start_time": "2023-02-01T16:26:29.329Z"
   },
   {
    "duration": 35,
    "start_time": "2023-02-01T16:26:38.506Z"
   },
   {
    "duration": 24,
    "start_time": "2023-02-01T16:26:39.330Z"
   },
   {
    "duration": 711,
    "start_time": "2023-02-01T16:26:40.176Z"
   },
   {
    "duration": 7,
    "start_time": "2023-02-01T16:26:55.420Z"
   },
   {
    "duration": 564,
    "start_time": "2023-02-01T16:26:56.221Z"
   },
   {
    "duration": 8,
    "start_time": "2023-02-01T16:27:01.657Z"
   },
   {
    "duration": 10,
    "start_time": "2023-02-01T16:27:39.299Z"
   },
   {
    "duration": 7,
    "start_time": "2023-02-01T16:32:15.235Z"
   },
   {
    "duration": 5,
    "start_time": "2023-02-01T16:33:23.454Z"
   },
   {
    "duration": 5,
    "start_time": "2023-02-01T16:33:24.137Z"
   },
   {
    "duration": 137,
    "start_time": "2023-02-01T16:39:33.611Z"
   },
   {
    "duration": 264,
    "start_time": "2023-02-01T16:41:27.192Z"
   },
   {
    "duration": 825,
    "start_time": "2023-02-01T16:42:30.292Z"
   },
   {
    "duration": 49,
    "start_time": "2023-02-01T16:43:17.822Z"
   },
   {
    "duration": 285,
    "start_time": "2023-02-01T16:43:44.120Z"
   },
   {
    "duration": 914,
    "start_time": "2023-02-01T16:43:52.614Z"
   },
   {
    "duration": 44,
    "start_time": "2023-02-01T16:55:39.946Z"
   },
   {
    "duration": 41,
    "start_time": "2023-02-01T16:55:54.328Z"
   },
   {
    "duration": 9,
    "start_time": "2023-02-01T16:56:19.290Z"
   },
   {
    "duration": 32,
    "start_time": "2023-02-01T16:57:53.239Z"
   },
   {
    "duration": 669,
    "start_time": "2023-02-01T16:59:28.124Z"
   },
   {
    "duration": 842,
    "start_time": "2023-02-01T17:06:18.884Z"
   },
   {
    "duration": 23,
    "start_time": "2023-02-01T17:07:00.098Z"
   },
   {
    "duration": 35,
    "start_time": "2023-02-01T17:08:17.256Z"
   },
   {
    "duration": 106,
    "start_time": "2023-02-01T17:12:57.943Z"
   },
   {
    "duration": 5,
    "start_time": "2023-02-01T17:14:49.777Z"
   },
   {
    "duration": 13,
    "start_time": "2023-02-01T17:15:15.720Z"
   },
   {
    "duration": 11,
    "start_time": "2023-02-01T17:17:45.603Z"
   },
   {
    "duration": 10,
    "start_time": "2023-02-01T17:20:19.405Z"
   },
   {
    "duration": 4,
    "start_time": "2023-02-01T17:32:46.887Z"
   },
   {
    "duration": 13,
    "start_time": "2023-02-01T17:39:11.499Z"
   },
   {
    "duration": 11,
    "start_time": "2023-02-01T17:49:43.784Z"
   },
   {
    "duration": 12,
    "start_time": "2023-02-01T17:54:30.467Z"
   },
   {
    "duration": 12,
    "start_time": "2023-02-01T17:54:40.916Z"
   },
   {
    "duration": 12,
    "start_time": "2023-02-01T17:55:47.029Z"
   },
   {
    "duration": 4,
    "start_time": "2023-02-06T12:53:57.621Z"
   },
   {
    "duration": 1370,
    "start_time": "2023-02-06T12:57:35.437Z"
   },
   {
    "duration": 204,
    "start_time": "2023-02-06T12:57:36.809Z"
   },
   {
    "duration": 17,
    "start_time": "2023-02-06T12:57:37.889Z"
   },
   {
    "duration": 10,
    "start_time": "2023-02-06T12:57:38.458Z"
   },
   {
    "duration": 5,
    "start_time": "2023-02-06T12:57:39.068Z"
   },
   {
    "duration": 6,
    "start_time": "2023-02-06T12:57:39.661Z"
   },
   {
    "duration": 5,
    "start_time": "2023-02-06T12:57:40.269Z"
   },
   {
    "duration": 6,
    "start_time": "2023-02-06T12:57:40.832Z"
   },
   {
    "duration": 5,
    "start_time": "2023-02-06T12:57:41.436Z"
   },
   {
    "duration": 5,
    "start_time": "2023-02-06T12:57:42.505Z"
   },
   {
    "duration": 53,
    "start_time": "2023-02-06T12:57:43.444Z"
   },
   {
    "duration": 18,
    "start_time": "2023-02-06T12:57:44.901Z"
   },
   {
    "duration": 28,
    "start_time": "2023-02-06T12:57:45.255Z"
   },
   {
    "duration": 7,
    "start_time": "2023-02-06T12:57:45.681Z"
   },
   {
    "duration": 24,
    "start_time": "2023-02-06T12:57:45.895Z"
   },
   {
    "duration": 58,
    "start_time": "2023-02-06T12:57:46.331Z"
   },
   {
    "duration": 47,
    "start_time": "2023-02-06T12:57:46.982Z"
   },
   {
    "duration": 100,
    "start_time": "2023-02-06T12:57:47.188Z"
   },
   {
    "duration": 873,
    "start_time": "2023-02-06T12:57:47.383Z"
   },
   {
    "duration": 8,
    "start_time": "2023-02-06T12:57:48.258Z"
   },
   {
    "duration": 17,
    "start_time": "2023-02-06T12:57:48.269Z"
   },
   {
    "duration": 651,
    "start_time": "2023-02-06T12:57:48.288Z"
   },
   {
    "duration": 340,
    "start_time": "2023-02-06T12:57:48.941Z"
   },
   {
    "duration": 933,
    "start_time": "2023-02-06T12:57:49.284Z"
   },
   {
    "duration": 9,
    "start_time": "2023-02-06T12:57:50.219Z"
   },
   {
    "duration": 58,
    "start_time": "2023-02-06T12:57:50.230Z"
   },
   {
    "duration": 27,
    "start_time": "2023-02-06T12:57:50.290Z"
   },
   {
    "duration": 940,
    "start_time": "2023-02-06T12:57:50.319Z"
   },
   {
    "duration": 12,
    "start_time": "2023-02-06T12:57:51.260Z"
   },
   {
    "duration": 28,
    "start_time": "2023-02-06T12:57:51.273Z"
   },
   {
    "duration": 18,
    "start_time": "2023-02-06T12:57:51.305Z"
   },
   {
    "duration": 39,
    "start_time": "2023-02-06T12:57:51.324Z"
   },
   {
    "duration": 6,
    "start_time": "2023-02-06T13:05:13.944Z"
   },
   {
    "duration": 5,
    "start_time": "2023-02-06T13:06:14.547Z"
   },
   {
    "duration": 61,
    "start_time": "2023-02-06T13:06:15.117Z"
   },
   {
    "duration": 15,
    "start_time": "2023-02-06T13:06:16.933Z"
   },
   {
    "duration": 12,
    "start_time": "2023-02-06T13:06:17.805Z"
   },
   {
    "duration": 5,
    "start_time": "2023-02-06T13:06:18.249Z"
   },
   {
    "duration": 4,
    "start_time": "2023-02-06T13:07:09.736Z"
   },
   {
    "duration": 4,
    "start_time": "2023-02-06T13:07:11.878Z"
   },
   {
    "duration": 6,
    "start_time": "2023-02-06T13:07:12.838Z"
   },
   {
    "duration": 5,
    "start_time": "2023-02-06T13:07:13.766Z"
   },
   {
    "duration": 14,
    "start_time": "2023-02-06T13:17:26.632Z"
   },
   {
    "duration": 22,
    "start_time": "2023-02-06T13:17:33.824Z"
   },
   {
    "duration": 20,
    "start_time": "2023-02-06T13:30:29.193Z"
   },
   {
    "duration": 6,
    "start_time": "2023-02-06T13:30:40.241Z"
   },
   {
    "duration": 4,
    "start_time": "2023-02-06T20:05:56.327Z"
   },
   {
    "duration": 1242,
    "start_time": "2023-02-06T20:06:06.847Z"
   },
   {
    "duration": 115,
    "start_time": "2023-02-06T20:06:08.091Z"
   },
   {
    "duration": 12,
    "start_time": "2023-02-06T20:06:12.162Z"
   },
   {
    "duration": 7,
    "start_time": "2023-02-06T20:06:12.665Z"
   },
   {
    "duration": 6,
    "start_time": "2023-02-06T20:06:13.697Z"
   },
   {
    "duration": 4,
    "start_time": "2023-02-06T20:06:14.641Z"
   },
   {
    "duration": 8,
    "start_time": "2023-02-06T20:06:15.290Z"
   },
   {
    "duration": 6,
    "start_time": "2023-02-06T20:06:15.945Z"
   },
   {
    "duration": 6,
    "start_time": "2023-02-06T20:06:16.726Z"
   },
   {
    "duration": 5,
    "start_time": "2023-02-06T20:06:17.532Z"
   },
   {
    "duration": 13,
    "start_time": "2023-02-06T20:06:21.571Z"
   },
   {
    "duration": 22,
    "start_time": "2023-02-06T20:06:23.680Z"
   },
   {
    "duration": 6,
    "start_time": "2023-02-06T20:06:24.609Z"
   },
   {
    "duration": 17,
    "start_time": "2023-02-06T20:06:36.357Z"
   },
   {
    "duration": 22,
    "start_time": "2023-02-06T20:11:04.906Z"
   },
   {
    "duration": 34,
    "start_time": "2023-02-06T20:17:03.536Z"
   },
   {
    "duration": 8,
    "start_time": "2023-02-06T20:27:03.463Z"
   },
   {
    "duration": 6,
    "start_time": "2023-02-06T20:27:07.608Z"
   },
   {
    "duration": 1030,
    "start_time": "2023-02-07T13:17:08.543Z"
   },
   {
    "duration": 395,
    "start_time": "2023-02-07T13:17:09.575Z"
   },
   {
    "duration": 11,
    "start_time": "2023-02-07T13:17:09.971Z"
   },
   {
    "duration": 7,
    "start_time": "2023-02-07T13:17:09.984Z"
   },
   {
    "duration": 6,
    "start_time": "2023-02-07T13:17:09.992Z"
   },
   {
    "duration": 3,
    "start_time": "2023-02-07T13:17:10.052Z"
   },
   {
    "duration": 3,
    "start_time": "2023-02-07T13:17:10.234Z"
   },
   {
    "duration": 5,
    "start_time": "2023-02-07T13:17:10.410Z"
   },
   {
    "duration": 4,
    "start_time": "2023-02-07T13:17:10.604Z"
   },
   {
    "duration": 5,
    "start_time": "2023-02-07T13:17:10.777Z"
   },
   {
    "duration": 12,
    "start_time": "2023-02-07T13:17:11.553Z"
   },
   {
    "duration": 21,
    "start_time": "2023-02-07T13:17:11.734Z"
   },
   {
    "duration": 6,
    "start_time": "2023-02-07T13:17:12.092Z"
   },
   {
    "duration": 17,
    "start_time": "2023-02-07T13:17:12.283Z"
   },
   {
    "duration": 33,
    "start_time": "2023-02-07T13:17:12.674Z"
   },
   {
    "duration": 36,
    "start_time": "2023-02-07T13:17:13.629Z"
   },
   {
    "duration": 25,
    "start_time": "2023-02-07T13:17:13.808Z"
   },
   {
    "duration": 720,
    "start_time": "2023-02-07T13:17:14.471Z"
   },
   {
    "duration": 7,
    "start_time": "2023-02-07T13:17:17.945Z"
   },
   {
    "duration": 6,
    "start_time": "2023-02-07T13:17:18.743Z"
   },
   {
    "duration": 589,
    "start_time": "2023-02-07T13:17:19.333Z"
   },
   {
    "duration": 238,
    "start_time": "2023-02-07T13:17:19.924Z"
   },
   {
    "duration": 811,
    "start_time": "2023-02-07T13:17:20.165Z"
   },
   {
    "duration": 9,
    "start_time": "2023-02-07T13:17:20.991Z"
   },
   {
    "duration": 68,
    "start_time": "2023-02-07T13:17:22.179Z"
   },
   {
    "duration": 45,
    "start_time": "2023-02-07T13:17:23.092Z"
   },
   {
    "duration": 8,
    "start_time": "2023-02-07T13:21:51.001Z"
   },
   {
    "duration": 37,
    "start_time": "2023-02-07T13:21:53.685Z"
   },
   {
    "duration": 91,
    "start_time": "2023-02-07T13:21:54.709Z"
   },
   {
    "duration": 736,
    "start_time": "2023-02-07T13:21:56.521Z"
   },
   {
    "duration": 10,
    "start_time": "2023-02-07T13:23:14.149Z"
   },
   {
    "duration": 12,
    "start_time": "2023-02-07T13:24:48.274Z"
   },
   {
    "duration": 11,
    "start_time": "2023-02-07T13:25:46.719Z"
   },
   {
    "duration": 12,
    "start_time": "2023-02-07T13:27:55.008Z"
   },
   {
    "duration": 16,
    "start_time": "2023-02-07T13:27:57.623Z"
   },
   {
    "duration": 11,
    "start_time": "2023-02-07T13:28:03.331Z"
   },
   {
    "duration": 1073,
    "start_time": "2023-02-09T14:27:18.661Z"
   },
   {
    "duration": 112,
    "start_time": "2023-02-09T14:27:19.736Z"
   },
   {
    "duration": 11,
    "start_time": "2023-02-09T14:27:22.722Z"
   },
   {
    "duration": 7,
    "start_time": "2023-02-09T14:27:23.553Z"
   },
   {
    "duration": 4,
    "start_time": "2023-02-09T14:27:24.314Z"
   },
   {
    "duration": 4,
    "start_time": "2023-02-09T14:27:25.048Z"
   },
   {
    "duration": 4,
    "start_time": "2023-02-09T14:27:25.880Z"
   },
   {
    "duration": 4,
    "start_time": "2023-02-09T14:27:26.680Z"
   },
   {
    "duration": 5,
    "start_time": "2023-02-09T14:27:27.507Z"
   },
   {
    "duration": 5,
    "start_time": "2023-02-09T14:27:28.355Z"
   },
   {
    "duration": 14,
    "start_time": "2023-02-09T14:27:31.629Z"
   },
   {
    "duration": 24,
    "start_time": "2023-02-09T14:27:32.607Z"
   },
   {
    "duration": 7,
    "start_time": "2023-02-09T14:27:34.884Z"
   },
   {
    "duration": 19,
    "start_time": "2023-02-09T14:27:35.811Z"
   },
   {
    "duration": 32,
    "start_time": "2023-02-09T14:27:38.778Z"
   },
   {
    "duration": 34,
    "start_time": "2023-02-09T14:27:43.202Z"
   },
   {
    "duration": 25,
    "start_time": "2023-02-09T14:27:44.180Z"
   },
   {
    "duration": 800,
    "start_time": "2023-02-09T14:27:45.080Z"
   },
   {
    "duration": 6,
    "start_time": "2023-02-09T14:27:48.284Z"
   },
   {
    "duration": 5,
    "start_time": "2023-02-09T14:27:49.074Z"
   },
   {
    "duration": 536,
    "start_time": "2023-02-09T14:27:50.010Z"
   },
   {
    "duration": 220,
    "start_time": "2023-02-09T14:27:50.689Z"
   },
   {
    "duration": 774,
    "start_time": "2023-02-09T14:27:51.307Z"
   },
   {
    "duration": 7,
    "start_time": "2023-02-09T14:27:52.731Z"
   },
   {
    "duration": 35,
    "start_time": "2023-02-09T14:27:54.889Z"
   },
   {
    "duration": 22,
    "start_time": "2023-02-09T14:27:55.803Z"
   },
   {
    "duration": 638,
    "start_time": "2023-02-09T14:27:56.649Z"
   },
   {
    "duration": 78,
    "start_time": "2023-02-09T14:27:57.365Z"
   },
   {
    "duration": 11,
    "start_time": "2023-02-09T14:27:59.588Z"
   },
   {
    "duration": 11,
    "start_time": "2023-02-09T14:28:02.003Z"
   },
   {
    "duration": 12,
    "start_time": "2023-02-09T14:28:02.683Z"
   },
   {
    "duration": 15,
    "start_time": "2023-02-09T14:28:05.635Z"
   },
   {
    "duration": 12,
    "start_time": "2023-02-09T14:35:41.092Z"
   },
   {
    "duration": 1162,
    "start_time": "2023-02-10T11:31:07.358Z"
   },
   {
    "duration": 114,
    "start_time": "2023-02-10T11:31:08.522Z"
   },
   {
    "duration": 12,
    "start_time": "2023-02-10T11:31:08.638Z"
   },
   {
    "duration": 7,
    "start_time": "2023-02-10T11:31:08.652Z"
   },
   {
    "duration": 4,
    "start_time": "2023-02-10T11:31:08.661Z"
   },
   {
    "duration": 4,
    "start_time": "2023-02-10T11:31:08.749Z"
   },
   {
    "duration": 4,
    "start_time": "2023-02-10T11:31:08.954Z"
   },
   {
    "duration": 7,
    "start_time": "2023-02-10T11:31:09.153Z"
   },
   {
    "duration": 5,
    "start_time": "2023-02-10T11:31:09.369Z"
   },
   {
    "duration": 5,
    "start_time": "2023-02-10T11:31:09.548Z"
   },
   {
    "duration": 13,
    "start_time": "2023-02-10T11:31:10.325Z"
   },
   {
    "duration": 20,
    "start_time": "2023-02-10T11:31:10.545Z"
   },
   {
    "duration": 5,
    "start_time": "2023-02-10T11:31:10.899Z"
   },
   {
    "duration": 21,
    "start_time": "2023-02-10T11:31:11.107Z"
   },
   {
    "duration": 55,
    "start_time": "2023-02-10T11:31:11.483Z"
   },
   {
    "duration": 42,
    "start_time": "2023-02-10T11:31:12.263Z"
   },
   {
    "duration": 27,
    "start_time": "2023-02-10T11:31:12.490Z"
   },
   {
    "duration": 797,
    "start_time": "2023-02-10T11:31:12.686Z"
   },
   {
    "duration": 9,
    "start_time": "2023-02-10T11:31:13.485Z"
   },
   {
    "duration": 7,
    "start_time": "2023-02-10T11:31:13.518Z"
   },
   {
    "duration": 657,
    "start_time": "2023-02-10T11:31:13.704Z"
   },
   {
    "duration": 344,
    "start_time": "2023-02-10T11:31:14.363Z"
   },
   {
    "duration": 943,
    "start_time": "2023-02-10T11:31:14.709Z"
   },
   {
    "duration": 9,
    "start_time": "2023-02-10T11:31:15.655Z"
   },
   {
    "duration": 41,
    "start_time": "2023-02-10T11:31:15.665Z"
   },
   {
    "duration": 46,
    "start_time": "2023-02-10T11:31:15.708Z"
   },
   {
    "duration": 971,
    "start_time": "2023-02-10T11:31:15.756Z"
   },
   {
    "duration": 80,
    "start_time": "2023-02-10T11:31:16.729Z"
   },
   {
    "duration": 0,
    "start_time": "2023-02-10T11:31:16.811Z"
   },
   {
    "duration": 0,
    "start_time": "2023-02-10T11:31:16.812Z"
   },
   {
    "duration": 0,
    "start_time": "2023-02-10T11:31:16.813Z"
   },
   {
    "duration": 17,
    "start_time": "2023-02-10T11:31:18.801Z"
   },
   {
    "duration": 66,
    "start_time": "2023-02-10T11:31:19.639Z"
   },
   {
    "duration": 13,
    "start_time": "2023-02-10T11:49:42.382Z"
   },
   {
    "duration": 111,
    "start_time": "2023-02-10T11:49:43.441Z"
   },
   {
    "duration": 53,
    "start_time": "2023-02-10T11:54:39.100Z"
   },
   {
    "duration": 46,
    "start_time": "2023-02-10T12:05:15.196Z"
   },
   {
    "duration": 40,
    "start_time": "2023-02-10T12:06:56.599Z"
   },
   {
    "duration": 1076,
    "start_time": "2023-02-10T12:09:12.032Z"
   },
   {
    "duration": 7,
    "start_time": "2023-02-10T12:13:19.456Z"
   },
   {
    "duration": 59,
    "start_time": "2023-02-10T12:13:19.988Z"
   },
   {
    "duration": 11,
    "start_time": "2023-02-10T12:13:21.115Z"
   },
   {
    "duration": 8,
    "start_time": "2023-02-10T12:13:21.300Z"
   },
   {
    "duration": 6,
    "start_time": "2023-02-10T12:13:21.509Z"
   },
   {
    "duration": 3,
    "start_time": "2023-02-10T12:13:21.711Z"
   },
   {
    "duration": 4,
    "start_time": "2023-02-10T12:13:21.913Z"
   },
   {
    "duration": 4,
    "start_time": "2023-02-10T12:13:22.111Z"
   },
   {
    "duration": 5,
    "start_time": "2023-02-10T12:13:22.312Z"
   },
   {
    "duration": 5,
    "start_time": "2023-02-10T12:13:22.499Z"
   },
   {
    "duration": 26,
    "start_time": "2023-02-10T12:13:23.344Z"
   },
   {
    "duration": 22,
    "start_time": "2023-02-10T12:13:23.491Z"
   },
   {
    "duration": 6,
    "start_time": "2023-02-10T12:13:23.890Z"
   },
   {
    "duration": 20,
    "start_time": "2023-02-10T12:13:24.093Z"
   },
   {
    "duration": 55,
    "start_time": "2023-02-10T12:13:24.528Z"
   },
   {
    "duration": 46,
    "start_time": "2023-02-10T12:13:25.780Z"
   },
   {
    "duration": 23,
    "start_time": "2023-02-10T12:13:25.963Z"
   },
   {
    "duration": 846,
    "start_time": "2023-02-10T12:13:26.365Z"
   },
   {
    "duration": 6,
    "start_time": "2023-02-10T12:13:27.599Z"
   },
   {
    "duration": 10,
    "start_time": "2023-02-10T12:13:28.164Z"
   },
   {
    "duration": 166,
    "start_time": "2023-02-10T12:13:28.656Z"
   },
   {
    "duration": 316,
    "start_time": "2023-02-10T12:13:29.065Z"
   },
   {
    "duration": 1109,
    "start_time": "2023-02-10T12:13:29.392Z"
   },
   {
    "duration": 8,
    "start_time": "2023-02-10T12:13:30.505Z"
   },
   {
    "duration": 43,
    "start_time": "2023-02-10T12:13:32.131Z"
   },
   {
    "duration": 27,
    "start_time": "2023-02-10T12:13:32.735Z"
   },
   {
    "duration": 805,
    "start_time": "2023-02-10T12:13:33.311Z"
   },
   {
    "duration": 80,
    "start_time": "2023-02-10T12:13:34.118Z"
   },
   {
    "duration": 13,
    "start_time": "2023-02-10T12:13:35.461Z"
   },
   {
    "duration": 11,
    "start_time": "2023-02-10T12:13:36.876Z"
   },
   {
    "duration": 13,
    "start_time": "2023-02-10T12:13:37.636Z"
   },
   {
    "duration": 50,
    "start_time": "2023-02-10T12:26:42.265Z"
   },
   {
    "duration": 137,
    "start_time": "2023-02-10T12:26:43.041Z"
   },
   {
    "duration": 1266,
    "start_time": "2023-02-10T12:26:43.941Z"
   },
   {
    "duration": 115,
    "start_time": "2023-02-10T12:26:45.210Z"
   },
   {
    "duration": 11,
    "start_time": "2023-02-10T12:26:54.186Z"
   },
   {
    "duration": 1094,
    "start_time": "2023-02-10T12:33:11.609Z"
   },
   {
    "duration": 80,
    "start_time": "2023-02-10T12:33:14.398Z"
   },
   {
    "duration": 13,
    "start_time": "2023-02-10T12:33:16.397Z"
   },
   {
    "duration": 11,
    "start_time": "2023-02-10T12:33:17.401Z"
   },
   {
    "duration": 67,
    "start_time": "2023-02-10T12:34:45.579Z"
   },
   {
    "duration": 1098,
    "start_time": "2023-02-10T12:34:46.777Z"
   },
   {
    "duration": 85,
    "start_time": "2023-02-10T12:34:47.877Z"
   },
   {
    "duration": 11,
    "start_time": "2023-02-10T12:34:49.486Z"
   },
   {
    "duration": 12,
    "start_time": "2023-02-10T12:34:50.371Z"
   },
   {
    "duration": 13,
    "start_time": "2023-02-10T12:34:51.343Z"
   },
   {
    "duration": 113,
    "start_time": "2023-02-10T12:52:58.293Z"
   },
   {
    "duration": 2230,
    "start_time": "2023-02-10T12:54:01.898Z"
   },
   {
    "duration": 3394,
    "start_time": "2023-02-10T12:56:50.012Z"
   },
   {
    "duration": 4132,
    "start_time": "2023-02-10T12:57:45.444Z"
   },
   {
    "duration": 3931,
    "start_time": "2023-02-10T13:59:05.335Z"
   },
   {
    "duration": 500,
    "start_time": "2023-02-10T13:59:34.713Z"
   },
   {
    "duration": 967,
    "start_time": "2023-02-10T13:59:54.262Z"
   },
   {
    "duration": 826,
    "start_time": "2023-02-10T14:00:35.528Z"
   },
   {
    "duration": 899,
    "start_time": "2023-02-10T14:13:36.954Z"
   },
   {
    "duration": 3355,
    "start_time": "2023-02-10T14:14:29.297Z"
   },
   {
    "duration": 3024,
    "start_time": "2023-02-10T14:14:59.720Z"
   },
   {
    "duration": 4115,
    "start_time": "2023-02-10T14:15:23.126Z"
   },
   {
    "duration": 753,
    "start_time": "2023-02-10T14:15:54.615Z"
   },
   {
    "duration": 3881,
    "start_time": "2023-02-10T14:16:25.995Z"
   },
   {
    "duration": 3511,
    "start_time": "2023-02-10T14:17:22.333Z"
   },
   {
    "duration": 3629,
    "start_time": "2023-02-10T14:17:34.844Z"
   },
   {
    "duration": 76,
    "start_time": "2023-02-10T14:18:25.911Z"
   },
   {
    "duration": 1320,
    "start_time": "2023-02-11T18:40:31.755Z"
   },
   {
    "duration": 539,
    "start_time": "2023-02-11T18:40:33.077Z"
   },
   {
    "duration": 19,
    "start_time": "2023-02-11T18:40:34.233Z"
   },
   {
    "duration": 10,
    "start_time": "2023-02-11T18:40:34.916Z"
   },
   {
    "duration": 5,
    "start_time": "2023-02-11T18:40:35.527Z"
   },
   {
    "duration": 4,
    "start_time": "2023-02-11T18:40:36.373Z"
   },
   {
    "duration": 7,
    "start_time": "2023-02-11T18:40:36.738Z"
   },
   {
    "duration": 6,
    "start_time": "2023-02-11T18:40:37.391Z"
   },
   {
    "duration": 6,
    "start_time": "2023-02-11T18:40:38.017Z"
   },
   {
    "duration": 5,
    "start_time": "2023-02-11T18:40:38.937Z"
   },
   {
    "duration": 13,
    "start_time": "2023-02-11T18:40:41.079Z"
   },
   {
    "duration": 26,
    "start_time": "2023-02-11T18:40:41.877Z"
   },
   {
    "duration": 7,
    "start_time": "2023-02-11T18:40:43.469Z"
   },
   {
    "duration": 21,
    "start_time": "2023-02-11T18:40:44.210Z"
   },
   {
    "duration": 52,
    "start_time": "2023-02-11T18:40:45.604Z"
   },
   {
    "duration": 46,
    "start_time": "2023-02-11T18:40:48.760Z"
   },
   {
    "duration": 32,
    "start_time": "2023-02-11T18:40:49.463Z"
   },
   {
    "duration": 756,
    "start_time": "2023-02-11T18:40:51.454Z"
   },
   {
    "duration": 8,
    "start_time": "2023-02-11T18:40:55.840Z"
   },
   {
    "duration": 10,
    "start_time": "2023-02-11T18:40:59.914Z"
   },
   {
    "duration": 704,
    "start_time": "2023-02-11T18:41:05.642Z"
   },
   {
    "duration": 412,
    "start_time": "2023-02-11T18:41:06.393Z"
   },
   {
    "duration": 945,
    "start_time": "2023-02-11T18:41:08.479Z"
   },
   {
    "duration": 13,
    "start_time": "2023-02-11T18:41:12.374Z"
   },
   {
    "duration": 49,
    "start_time": "2023-02-11T18:41:23.731Z"
   },
   {
    "duration": 166,
    "start_time": "2023-02-11T18:41:26.828Z"
   },
   {
    "duration": 731,
    "start_time": "2023-02-11T18:41:29.816Z"
   },
   {
    "duration": 53,
    "start_time": "2023-02-11T18:41:30.577Z"
   },
   {
    "duration": 17,
    "start_time": "2023-02-11T18:41:32.916Z"
   },
   {
    "duration": 13,
    "start_time": "2023-02-11T18:41:35.234Z"
   },
   {
    "duration": 11,
    "start_time": "2023-02-11T18:41:36.229Z"
   },
   {
    "duration": 14,
    "start_time": "2023-02-11T18:41:40.549Z"
   },
   {
    "duration": 59,
    "start_time": "2023-02-11T18:41:43.684Z"
   },
   {
    "duration": 30,
    "start_time": "2023-02-11T18:41:44.366Z"
   },
   {
    "duration": 1030,
    "start_time": "2023-02-11T18:41:45.131Z"
   },
   {
    "duration": 61,
    "start_time": "2023-02-11T18:41:46.275Z"
   },
   {
    "duration": 12,
    "start_time": "2023-02-11T18:41:49.958Z"
   },
   {
    "duration": 13,
    "start_time": "2023-02-11T18:41:51.575Z"
   },
   {
    "duration": 13,
    "start_time": "2023-02-11T18:41:52.999Z"
   },
   {
    "duration": 46,
    "start_time": "2023-02-11T18:41:55.463Z"
   },
   {
    "duration": 2184,
    "start_time": "2023-02-11T18:42:06.910Z"
   },
   {
    "duration": 3514,
    "start_time": "2023-02-11T18:42:09.096Z"
   },
   {
    "duration": 720,
    "start_time": "2023-02-11T18:42:12.611Z"
   },
   {
    "duration": 9,
    "start_time": "2023-02-11T18:42:26.367Z"
   },
   {
    "duration": 708,
    "start_time": "2023-02-11T19:11:13.943Z"
   },
   {
    "duration": 8,
    "start_time": "2023-02-11T19:11:48.356Z"
   },
   {
    "duration": 9,
    "start_time": "2023-02-11T19:11:50.870Z"
   },
   {
    "duration": 9,
    "start_time": "2023-02-11T19:12:34.306Z"
   },
   {
    "duration": 10,
    "start_time": "2023-02-11T19:15:23.016Z"
   },
   {
    "duration": 52,
    "start_time": "2023-02-11T19:31:28.858Z"
   },
   {
    "duration": 5,
    "start_time": "2023-02-11T19:32:22.370Z"
   },
   {
    "duration": 55,
    "start_time": "2023-02-11T19:32:26.738Z"
   },
   {
    "duration": 10,
    "start_time": "2023-02-11T19:32:27.532Z"
   },
   {
    "duration": 7,
    "start_time": "2023-02-11T19:32:27.764Z"
   },
   {
    "duration": 5,
    "start_time": "2023-02-11T19:32:27.984Z"
   },
   {
    "duration": 4,
    "start_time": "2023-02-11T19:32:28.197Z"
   },
   {
    "duration": 4,
    "start_time": "2023-02-11T19:32:28.408Z"
   },
   {
    "duration": 4,
    "start_time": "2023-02-11T19:32:28.644Z"
   },
   {
    "duration": 6,
    "start_time": "2023-02-11T19:32:28.856Z"
   },
   {
    "duration": 4,
    "start_time": "2023-02-11T19:32:29.070Z"
   },
   {
    "duration": 13,
    "start_time": "2023-02-11T19:32:30.018Z"
   },
   {
    "duration": 22,
    "start_time": "2023-02-11T19:32:30.249Z"
   },
   {
    "duration": 6,
    "start_time": "2023-02-11T19:32:30.700Z"
   },
   {
    "duration": 20,
    "start_time": "2023-02-11T19:32:30.946Z"
   },
   {
    "duration": 36,
    "start_time": "2023-02-11T19:32:31.418Z"
   },
   {
    "duration": 37,
    "start_time": "2023-02-11T19:32:32.349Z"
   },
   {
    "duration": 105,
    "start_time": "2023-02-11T19:32:32.586Z"
   },
   {
    "duration": 704,
    "start_time": "2023-02-11T19:32:32.820Z"
   },
   {
    "duration": 6,
    "start_time": "2023-02-11T19:32:33.720Z"
   },
   {
    "duration": 7,
    "start_time": "2023-02-11T19:32:34.037Z"
   },
   {
    "duration": 144,
    "start_time": "2023-02-11T19:32:34.322Z"
   },
   {
    "duration": 263,
    "start_time": "2023-02-11T19:32:34.597Z"
   },
   {
    "duration": 932,
    "start_time": "2023-02-11T19:32:34.863Z"
   },
   {
    "duration": 8,
    "start_time": "2023-02-11T19:32:35.797Z"
   },
   {
    "duration": 41,
    "start_time": "2023-02-11T19:32:36.035Z"
   },
   {
    "duration": 24,
    "start_time": "2023-02-11T19:32:36.273Z"
   },
   {
    "duration": 658,
    "start_time": "2023-02-11T19:32:36.526Z"
   },
   {
    "duration": 44,
    "start_time": "2023-02-11T19:32:37.192Z"
   },
   {
    "duration": 0,
    "start_time": "2023-02-11T19:32:37.238Z"
   },
   {
    "duration": 11,
    "start_time": "2023-02-11T19:32:37.497Z"
   },
   {
    "duration": 10,
    "start_time": "2023-02-11T19:32:37.755Z"
   },
   {
    "duration": 12,
    "start_time": "2023-02-11T19:32:38.244Z"
   },
   {
    "duration": 41,
    "start_time": "2023-02-11T19:32:39.880Z"
   },
   {
    "duration": 52,
    "start_time": "2023-02-11T19:32:40.143Z"
   },
   {
    "duration": 936,
    "start_time": "2023-02-11T19:32:40.400Z"
   },
   {
    "duration": 47,
    "start_time": "2023-02-11T19:32:41.338Z"
   },
   {
    "duration": 0,
    "start_time": "2023-02-11T19:32:41.387Z"
   },
   {
    "duration": 0,
    "start_time": "2023-02-11T19:32:41.388Z"
   },
   {
    "duration": 12,
    "start_time": "2023-02-11T19:32:41.491Z"
   },
   {
    "duration": 1990,
    "start_time": "2023-02-11T19:32:42.236Z"
   },
   {
    "duration": 3246,
    "start_time": "2023-02-11T19:32:44.228Z"
   },
   {
    "duration": 682,
    "start_time": "2023-02-11T19:32:47.475Z"
   },
   {
    "duration": 700,
    "start_time": "2023-02-11T19:32:48.159Z"
   },
   {
    "duration": 6,
    "start_time": "2023-02-11T19:32:50.249Z"
   },
   {
    "duration": 10,
    "start_time": "2023-02-11T19:32:51.193Z"
   },
   {
    "duration": 670,
    "start_time": "2023-02-11T19:32:55.089Z"
   },
   {
    "duration": 149,
    "start_time": "2023-02-11T19:32:57.734Z"
   },
   {
    "duration": 6,
    "start_time": "2023-02-11T19:50:09.992Z"
   },
   {
    "duration": 56,
    "start_time": "2023-02-11T19:50:10.638Z"
   },
   {
    "duration": 14,
    "start_time": "2023-02-11T19:50:13.192Z"
   },
   {
    "duration": 9,
    "start_time": "2023-02-11T19:50:13.852Z"
   },
   {
    "duration": 5,
    "start_time": "2023-02-11T19:50:14.437Z"
   },
   {
    "duration": 4,
    "start_time": "2023-02-11T19:50:15.275Z"
   },
   {
    "duration": 4,
    "start_time": "2023-02-11T19:50:15.541Z"
   },
   {
    "duration": 5,
    "start_time": "2023-02-11T19:50:15.776Z"
   },
   {
    "duration": 5,
    "start_time": "2023-02-11T19:50:15.998Z"
   },
   {
    "duration": 6,
    "start_time": "2023-02-11T19:50:16.245Z"
   },
   {
    "duration": 14,
    "start_time": "2023-02-11T19:50:17.991Z"
   },
   {
    "duration": 19,
    "start_time": "2023-02-11T19:50:18.368Z"
   },
   {
    "duration": 8,
    "start_time": "2023-02-11T19:50:19.441Z"
   },
   {
    "duration": 18,
    "start_time": "2023-02-11T19:50:19.451Z"
   },
   {
    "duration": 36,
    "start_time": "2023-02-11T19:50:22.796Z"
   },
   {
    "duration": 36,
    "start_time": "2023-02-11T19:50:28.929Z"
   },
   {
    "duration": 22,
    "start_time": "2023-02-11T19:50:31.458Z"
   },
   {
    "duration": 707,
    "start_time": "2023-02-11T19:50:33.241Z"
   },
   {
    "duration": 5,
    "start_time": "2023-02-11T19:51:27.663Z"
   },
   {
    "duration": 7,
    "start_time": "2023-02-11T19:51:28.995Z"
   },
   {
    "duration": 151,
    "start_time": "2023-02-11T19:51:29.948Z"
   },
   {
    "duration": 245,
    "start_time": "2023-02-11T19:51:30.823Z"
   },
   {
    "duration": 822,
    "start_time": "2023-02-11T19:51:31.455Z"
   },
   {
    "duration": 19,
    "start_time": "2023-02-11T19:51:32.279Z"
   },
   {
    "duration": 36,
    "start_time": "2023-02-11T19:51:50.353Z"
   },
   {
    "duration": 11,
    "start_time": "2023-02-11T20:14:03.917Z"
   },
   {
    "duration": 14,
    "start_time": "2023-02-11T20:14:06.163Z"
   },
   {
    "duration": 14,
    "start_time": "2023-02-11T20:14:07.853Z"
   },
   {
    "duration": 4,
    "start_time": "2023-02-11T20:14:35.761Z"
   },
   {
    "duration": 65,
    "start_time": "2023-02-11T20:14:36.066Z"
   },
   {
    "duration": 12,
    "start_time": "2023-02-11T20:14:37.043Z"
   },
   {
    "duration": 9,
    "start_time": "2023-02-11T20:14:37.275Z"
   },
   {
    "duration": 4,
    "start_time": "2023-02-11T20:14:37.539Z"
   },
   {
    "duration": 4,
    "start_time": "2023-02-11T20:14:37.764Z"
   },
   {
    "duration": 4,
    "start_time": "2023-02-11T20:14:37.998Z"
   },
   {
    "duration": 5,
    "start_time": "2023-02-11T20:14:38.243Z"
   },
   {
    "duration": 5,
    "start_time": "2023-02-11T20:14:38.486Z"
   },
   {
    "duration": 5,
    "start_time": "2023-02-11T20:14:38.719Z"
   },
   {
    "duration": 12,
    "start_time": "2023-02-11T20:14:39.721Z"
   },
   {
    "duration": 21,
    "start_time": "2023-02-11T20:14:40.079Z"
   },
   {
    "duration": 5,
    "start_time": "2023-02-11T20:14:40.362Z"
   },
   {
    "duration": 19,
    "start_time": "2023-02-11T20:14:40.612Z"
   },
   {
    "duration": 33,
    "start_time": "2023-02-11T20:14:41.069Z"
   },
   {
    "duration": 34,
    "start_time": "2023-02-11T20:14:42.050Z"
   },
   {
    "duration": 24,
    "start_time": "2023-02-11T20:14:42.317Z"
   },
   {
    "duration": 704,
    "start_time": "2023-02-11T20:14:42.524Z"
   },
   {
    "duration": 5,
    "start_time": "2023-02-11T20:14:44.610Z"
   },
   {
    "duration": 6,
    "start_time": "2023-02-11T20:14:44.891Z"
   },
   {
    "duration": 158,
    "start_time": "2023-02-11T20:14:45.139Z"
   },
   {
    "duration": 239,
    "start_time": "2023-02-11T20:14:45.521Z"
   },
   {
    "duration": 869,
    "start_time": "2023-02-11T20:14:45.765Z"
   },
   {
    "duration": 8,
    "start_time": "2023-02-11T20:14:46.636Z"
   },
   {
    "duration": 36,
    "start_time": "2023-02-11T20:14:47.253Z"
   },
   {
    "duration": 24,
    "start_time": "2023-02-11T20:14:48.986Z"
   },
   {
    "duration": 677,
    "start_time": "2023-02-11T20:14:50.448Z"
   },
   {
    "duration": 12,
    "start_time": "2023-02-11T20:15:03.065Z"
   },
   {
    "duration": 13,
    "start_time": "2023-02-11T20:15:07.818Z"
   },
   {
    "duration": 14,
    "start_time": "2023-02-11T20:15:08.554Z"
   },
   {
    "duration": 44,
    "start_time": "2023-02-11T20:15:10.557Z"
   },
   {
    "duration": 11,
    "start_time": "2023-02-11T20:21:44.602Z"
   },
   {
    "duration": 13,
    "start_time": "2023-02-11T20:21:45.112Z"
   },
   {
    "duration": 12,
    "start_time": "2023-02-11T20:21:45.966Z"
   },
   {
    "duration": 2009,
    "start_time": "2023-02-11T20:21:48.489Z"
   },
   {
    "duration": 1981,
    "start_time": "2023-02-11T20:23:42.701Z"
   },
   {
    "duration": 3293,
    "start_time": "2023-02-11T20:23:44.684Z"
   },
   {
    "duration": 687,
    "start_time": "2023-02-11T20:23:50.090Z"
   },
   {
    "duration": 691,
    "start_time": "2023-02-11T20:23:53.604Z"
   },
   {
    "duration": 6,
    "start_time": "2023-02-11T20:24:59.373Z"
   },
   {
    "duration": 9,
    "start_time": "2023-02-11T20:25:01.736Z"
   },
   {
    "duration": 684,
    "start_time": "2023-02-11T20:25:13.526Z"
   },
   {
    "duration": 152,
    "start_time": "2023-02-11T20:25:14.847Z"
   },
   {
    "duration": 714,
    "start_time": "2023-02-11T20:27:04.682Z"
   },
   {
    "duration": 150,
    "start_time": "2023-02-11T20:27:08.539Z"
   },
   {
    "duration": 1633,
    "start_time": "2023-02-12T15:20:21.427Z"
   },
   {
    "duration": 4,
    "start_time": "2023-02-12T15:20:47.921Z"
   },
   {
    "duration": 3,
    "start_time": "2023-02-12T15:21:22.726Z"
   },
   {
    "duration": 4,
    "start_time": "2023-02-12T15:28:01.482Z"
   },
   {
    "duration": 102,
    "start_time": "2023-02-12T15:28:02.178Z"
   },
   {
    "duration": 11,
    "start_time": "2023-02-12T15:28:04.527Z"
   },
   {
    "duration": 7,
    "start_time": "2023-02-12T15:28:04.958Z"
   },
   {
    "duration": 5,
    "start_time": "2023-02-12T15:28:05.738Z"
   },
   {
    "duration": 35,
    "start_time": "2023-02-12T15:28:06.821Z"
   },
   {
    "duration": 23,
    "start_time": "2023-02-12T15:28:30.430Z"
   },
   {
    "duration": 21,
    "start_time": "2023-02-12T15:28:51.293Z"
   },
   {
    "duration": 11,
    "start_time": "2023-02-12T15:49:28.931Z"
   },
   {
    "duration": 23,
    "start_time": "2023-02-12T15:49:46.927Z"
   },
   {
    "duration": 8,
    "start_time": "2023-02-12T15:50:19.633Z"
   },
   {
    "duration": 107,
    "start_time": "2023-02-12T15:51:34.741Z"
   },
   {
    "duration": 6,
    "start_time": "2023-02-12T15:51:47.357Z"
   },
   {
    "duration": 7,
    "start_time": "2023-02-12T15:51:49.659Z"
   },
   {
    "duration": 2,
    "start_time": "2023-02-12T15:52:10.183Z"
   },
   {
    "duration": 8,
    "start_time": "2023-02-12T15:52:11.524Z"
   },
   {
    "duration": 3,
    "start_time": "2023-02-12T15:52:43.357Z"
   },
   {
    "duration": 51,
    "start_time": "2023-02-12T15:52:44.935Z"
   },
   {
    "duration": 12,
    "start_time": "2023-02-12T15:52:51.196Z"
   },
   {
    "duration": 7,
    "start_time": "2023-02-12T15:52:51.948Z"
   },
   {
    "duration": 14,
    "start_time": "2023-02-12T15:54:21.028Z"
   },
   {
    "duration": 8,
    "start_time": "2023-02-12T15:54:22.288Z"
   },
   {
    "duration": 7,
    "start_time": "2023-02-12T15:54:44.586Z"
   },
   {
    "duration": 8,
    "start_time": "2023-02-12T15:54:48.727Z"
   },
   {
    "duration": 9,
    "start_time": "2023-02-12T15:55:28.940Z"
   },
   {
    "duration": 13,
    "start_time": "2023-02-12T15:55:46.051Z"
   },
   {
    "duration": 6887,
    "start_time": "2023-02-12T16:01:55.918Z"
   },
   {
    "duration": 1114,
    "start_time": "2023-02-12T16:02:02.807Z"
   },
   {
    "duration": 55,
    "start_time": "2023-02-12T16:02:03.923Z"
   },
   {
    "duration": 11,
    "start_time": "2023-02-12T16:02:03.979Z"
   },
   {
    "duration": 6,
    "start_time": "2023-02-12T16:02:03.992Z"
   },
   {
    "duration": 6,
    "start_time": "2023-02-12T16:02:03.999Z"
   },
   {
    "duration": 7,
    "start_time": "2023-02-12T16:02:04.006Z"
   },
   {
    "duration": 7,
    "start_time": "2023-02-12T16:02:04.014Z"
   },
   {
    "duration": 32,
    "start_time": "2023-02-12T16:02:04.022Z"
   },
   {
    "duration": 12,
    "start_time": "2023-02-12T16:02:04.056Z"
   },
   {
    "duration": 6,
    "start_time": "2023-02-12T16:02:04.069Z"
   },
   {
    "duration": 18,
    "start_time": "2023-02-12T16:02:04.076Z"
   },
   {
    "duration": 21,
    "start_time": "2023-02-12T16:02:04.096Z"
   },
   {
    "duration": 5,
    "start_time": "2023-02-12T16:02:04.120Z"
   },
   {
    "duration": 38,
    "start_time": "2023-02-12T16:02:04.126Z"
   },
   {
    "duration": 30,
    "start_time": "2023-02-12T16:02:04.166Z"
   },
   {
    "duration": 32,
    "start_time": "2023-02-12T16:02:04.197Z"
   },
   {
    "duration": 45,
    "start_time": "2023-02-12T16:02:04.230Z"
   },
   {
    "duration": 869,
    "start_time": "2023-02-12T16:02:04.276Z"
   },
   {
    "duration": 7,
    "start_time": "2023-02-12T16:02:05.147Z"
   },
   {
    "duration": 8,
    "start_time": "2023-02-12T16:02:05.155Z"
   },
   {
    "duration": 158,
    "start_time": "2023-02-12T16:02:05.164Z"
   },
   {
    "duration": 303,
    "start_time": "2023-02-12T16:02:05.323Z"
   },
   {
    "duration": 798,
    "start_time": "2023-02-12T16:02:05.628Z"
   },
   {
    "duration": 9,
    "start_time": "2023-02-12T16:02:06.428Z"
   },
   {
    "duration": 37,
    "start_time": "2023-02-12T16:02:06.455Z"
   },
   {
    "duration": 63,
    "start_time": "2023-02-12T16:02:06.494Z"
   },
   {
    "duration": 722,
    "start_time": "2023-02-12T16:02:06.559Z"
   },
   {
    "duration": 12,
    "start_time": "2023-02-12T16:02:07.283Z"
   },
   {
    "duration": 10,
    "start_time": "2023-02-12T16:02:07.297Z"
   },
   {
    "duration": 9,
    "start_time": "2023-02-12T16:02:07.309Z"
   },
   {
    "duration": 38,
    "start_time": "2023-02-12T16:02:07.320Z"
   },
   {
    "duration": 40,
    "start_time": "2023-02-12T16:02:07.361Z"
   },
   {
    "duration": 53,
    "start_time": "2023-02-12T16:02:07.403Z"
   },
   {
    "duration": 1137,
    "start_time": "2023-02-12T16:02:07.458Z"
   },
   {
    "duration": 11,
    "start_time": "2023-02-12T16:02:08.596Z"
   },
   {
    "duration": 10,
    "start_time": "2023-02-12T16:02:08.609Z"
   },
   {
    "duration": 12,
    "start_time": "2023-02-12T16:02:08.621Z"
   },
   {
    "duration": 1921,
    "start_time": "2023-02-12T16:02:08.634Z"
   },
   {
    "duration": 3025,
    "start_time": "2023-02-12T16:02:10.557Z"
   },
   {
    "duration": 638,
    "start_time": "2023-02-12T16:02:13.586Z"
   },
   {
    "duration": 674,
    "start_time": "2023-02-12T16:02:14.225Z"
   },
   {
    "duration": 5,
    "start_time": "2023-02-12T16:02:14.901Z"
   },
   {
    "duration": 14,
    "start_time": "2023-02-12T16:02:14.908Z"
   },
   {
    "duration": 676,
    "start_time": "2023-02-12T16:02:14.923Z"
   },
   {
    "duration": 153,
    "start_time": "2023-02-12T16:02:15.600Z"
   },
   {
    "duration": 4,
    "start_time": "2023-02-12T16:19:26.041Z"
   },
   {
    "duration": 52,
    "start_time": "2023-02-12T16:19:32.648Z"
   },
   {
    "duration": 10,
    "start_time": "2023-02-12T16:19:34.276Z"
   },
   {
    "duration": 8,
    "start_time": "2023-02-12T16:19:34.684Z"
   },
   {
    "duration": 5,
    "start_time": "2023-02-12T16:19:35.154Z"
   },
   {
    "duration": 8,
    "start_time": "2023-02-12T16:19:35.449Z"
   },
   {
    "duration": 4,
    "start_time": "2023-02-12T16:19:36.263Z"
   },
   {
    "duration": 5,
    "start_time": "2023-02-12T19:18:47.747Z"
   },
   {
    "duration": 8010,
    "start_time": "2023-02-12T19:18:59.673Z"
   },
   {
    "duration": 1422,
    "start_time": "2023-02-12T19:19:07.778Z"
   },
   {
    "duration": 207,
    "start_time": "2023-02-12T19:19:11.084Z"
   },
   {
    "duration": 14,
    "start_time": "2023-02-12T19:19:14.324Z"
   },
   {
    "duration": 11,
    "start_time": "2023-02-12T19:19:14.843Z"
   },
   {
    "duration": 10,
    "start_time": "2023-02-12T19:19:15.444Z"
   },
   {
    "duration": 11,
    "start_time": "2023-02-12T19:19:16.306Z"
   },
   {
    "duration": 5,
    "start_time": "2023-02-12T19:19:18.550Z"
   },
   {
    "duration": 5,
    "start_time": "2023-02-12T19:19:19.008Z"
   },
   {
    "duration": 6,
    "start_time": "2023-02-12T19:19:19.438Z"
   },
   {
    "duration": 6,
    "start_time": "2023-02-12T19:19:19.979Z"
   },
   {
    "duration": 20,
    "start_time": "2023-02-12T19:19:22.935Z"
   },
   {
    "duration": 2,
    "start_time": "2023-02-12T19:19:28.596Z"
   },
   {
    "duration": 5,
    "start_time": "2023-02-12T19:19:33.453Z"
   },
   {
    "duration": 33,
    "start_time": "2023-02-12T19:19:35.485Z"
   },
   {
    "duration": 356,
    "start_time": "2023-02-12T19:25:32.801Z"
   },
   {
    "duration": 6,
    "start_time": "2023-02-12T19:27:04.404Z"
   },
   {
    "duration": 62,
    "start_time": "2023-02-12T19:27:07.251Z"
   },
   {
    "duration": 16,
    "start_time": "2023-02-12T19:27:08.103Z"
   },
   {
    "duration": 11,
    "start_time": "2023-02-12T19:27:08.448Z"
   },
   {
    "duration": 8,
    "start_time": "2023-02-12T19:27:08.669Z"
   },
   {
    "duration": 8,
    "start_time": "2023-02-12T19:27:08.922Z"
   },
   {
    "duration": 5,
    "start_time": "2023-02-12T19:27:09.911Z"
   },
   {
    "duration": 5,
    "start_time": "2023-02-12T19:27:10.397Z"
   },
   {
    "duration": 5,
    "start_time": "2023-02-12T19:27:10.641Z"
   },
   {
    "duration": 9,
    "start_time": "2023-02-12T19:27:10.946Z"
   },
   {
    "duration": 24,
    "start_time": "2023-02-12T19:27:12.221Z"
   },
   {
    "duration": 3,
    "start_time": "2023-02-12T19:27:13.266Z"
   },
   {
    "duration": 6,
    "start_time": "2023-02-12T19:27:15.748Z"
   },
   {
    "duration": 26,
    "start_time": "2023-02-12T19:27:17.633Z"
   },
   {
    "duration": 149,
    "start_time": "2023-02-12T19:27:20.242Z"
   },
   {
    "duration": 12,
    "start_time": "2023-02-12T19:39:28.208Z"
   },
   {
    "duration": 14,
    "start_time": "2023-02-12T19:41:43.378Z"
   },
   {
    "duration": 18,
    "start_time": "2023-02-12T20:25:07.616Z"
   },
   {
    "duration": 10,
    "start_time": "2023-02-12T20:26:58.854Z"
   },
   {
    "duration": 6,
    "start_time": "2023-02-12T20:27:25.665Z"
   },
   {
    "duration": 4,
    "start_time": "2023-02-12T20:35:34.654Z"
   },
   {
    "duration": 4,
    "start_time": "2023-02-12T20:35:35.159Z"
   },
   {
    "duration": 16,
    "start_time": "2023-02-12T20:35:35.734Z"
   },
   {
    "duration": 4,
    "start_time": "2023-02-12T20:50:53.247Z"
   },
   {
    "duration": 7,
    "start_time": "2023-02-12T20:50:53.760Z"
   },
   {
    "duration": 3,
    "start_time": "2023-02-12T20:50:55.651Z"
   },
   {
    "duration": 4,
    "start_time": "2023-02-12T20:51:03.038Z"
   },
   {
    "duration": 11,
    "start_time": "2023-02-12T20:51:03.532Z"
   },
   {
    "duration": 11,
    "start_time": "2023-02-12T20:51:04.295Z"
   },
   {
    "duration": 12,
    "start_time": "2023-02-12T20:51:56.794Z"
   },
   {
    "duration": 6,
    "start_time": "2023-02-12T20:53:08.887Z"
   },
   {
    "duration": 3,
    "start_time": "2023-02-12T20:53:35.764Z"
   },
   {
    "duration": 18,
    "start_time": "2023-02-12T20:55:03.201Z"
   },
   {
    "duration": 4,
    "start_time": "2023-02-12T21:03:08.342Z"
   },
   {
    "duration": 3,
    "start_time": "2023-02-12T21:04:48.777Z"
   },
   {
    "duration": 11,
    "start_time": "2023-02-12T21:04:49.289Z"
   },
   {
    "duration": 13,
    "start_time": "2023-02-12T21:08:02.248Z"
   },
   {
    "duration": 123,
    "start_time": "2023-02-12T21:08:03.508Z"
   },
   {
    "duration": 11,
    "start_time": "2023-02-12T21:08:04.200Z"
   },
   {
    "duration": 22,
    "start_time": "2023-02-12T21:08:04.456Z"
   },
   {
    "duration": 8,
    "start_time": "2023-02-12T21:08:04.702Z"
   },
   {
    "duration": 12,
    "start_time": "2023-02-12T21:08:04.951Z"
   },
   {
    "duration": 5,
    "start_time": "2023-02-12T21:08:05.780Z"
   },
   {
    "duration": 5,
    "start_time": "2023-02-12T21:08:06.072Z"
   },
   {
    "duration": 17,
    "start_time": "2023-02-12T21:08:06.320Z"
   },
   {
    "duration": 5,
    "start_time": "2023-02-12T21:08:06.558Z"
   },
   {
    "duration": 21,
    "start_time": "2023-02-12T21:08:07.843Z"
   },
   {
    "duration": 4,
    "start_time": "2023-02-12T21:08:08.465Z"
   },
   {
    "duration": 6,
    "start_time": "2023-02-12T21:08:11.360Z"
   },
   {
    "duration": 23,
    "start_time": "2023-02-12T21:08:13.478Z"
   },
   {
    "duration": 7,
    "start_time": "2023-02-12T21:08:16.173Z"
   },
   {
    "duration": 4,
    "start_time": "2023-02-12T21:08:17.358Z"
   },
   {
    "duration": 5,
    "start_time": "2023-02-12T21:08:18.744Z"
   },
   {
    "duration": 47,
    "start_time": "2023-02-12T21:08:26.456Z"
   },
   {
    "duration": 11,
    "start_time": "2023-02-12T21:11:20.287Z"
   },
   {
    "duration": 15,
    "start_time": "2023-02-12T22:05:26.574Z"
   },
   {
    "duration": 3,
    "start_time": "2023-02-12T22:05:47.554Z"
   },
   {
    "duration": 6,
    "start_time": "2023-02-12T22:06:12.807Z"
   },
   {
    "duration": 14,
    "start_time": "2023-02-12T22:06:34.325Z"
   },
   {
    "duration": 5,
    "start_time": "2023-02-12T22:06:57.516Z"
   },
   {
    "duration": 14,
    "start_time": "2023-02-12T22:07:16.466Z"
   },
   {
    "duration": 3,
    "start_time": "2023-02-12T22:10:30.623Z"
   },
   {
    "duration": 31,
    "start_time": "2023-02-12T22:11:28.009Z"
   },
   {
    "duration": 19,
    "start_time": "2023-02-12T22:11:29.868Z"
   },
   {
    "duration": 3,
    "start_time": "2023-02-12T22:19:30.085Z"
   },
   {
    "duration": 15,
    "start_time": "2023-02-12T22:19:30.723Z"
   },
   {
    "duration": 2475,
    "start_time": "2023-02-12T22:20:11.874Z"
   },
   {
    "duration": 6,
    "start_time": "2023-02-12T22:20:14.352Z"
   },
   {
    "duration": 66,
    "start_time": "2023-02-12T22:20:14.800Z"
   },
   {
    "duration": 13,
    "start_time": "2023-02-12T22:20:15.754Z"
   },
   {
    "duration": 9,
    "start_time": "2023-02-12T22:20:16.339Z"
   },
   {
    "duration": 6,
    "start_time": "2023-02-12T22:20:16.629Z"
   },
   {
    "duration": 8,
    "start_time": "2023-02-12T22:20:16.957Z"
   },
   {
    "duration": 4,
    "start_time": "2023-02-12T22:20:17.894Z"
   },
   {
    "duration": 5,
    "start_time": "2023-02-12T22:20:18.630Z"
   },
   {
    "duration": 5,
    "start_time": "2023-02-12T22:20:18.671Z"
   },
   {
    "duration": 4,
    "start_time": "2023-02-12T22:20:18.940Z"
   },
   {
    "duration": 16,
    "start_time": "2023-02-12T22:20:20.481Z"
   },
   {
    "duration": 3,
    "start_time": "2023-02-12T22:20:21.215Z"
   },
   {
    "duration": 5,
    "start_time": "2023-02-12T22:20:24.655Z"
   },
   {
    "duration": 21,
    "start_time": "2023-02-12T22:20:25.404Z"
   },
   {
    "duration": 6,
    "start_time": "2023-02-12T22:21:34.271Z"
   },
   {
    "duration": 4,
    "start_time": "2023-02-12T22:21:35.461Z"
   },
   {
    "duration": 3,
    "start_time": "2023-02-12T22:21:36.655Z"
   },
   {
    "duration": 17,
    "start_time": "2023-02-12T22:21:37.540Z"
   },
   {
    "duration": 2396,
    "start_time": "2023-02-12T22:22:46.885Z"
   },
   {
    "duration": 5,
    "start_time": "2023-02-12T22:22:49.285Z"
   },
   {
    "duration": 68,
    "start_time": "2023-02-12T22:22:49.293Z"
   },
   {
    "duration": 12,
    "start_time": "2023-02-12T22:22:50.175Z"
   },
   {
    "duration": 7,
    "start_time": "2023-02-12T22:22:50.484Z"
   },
   {
    "duration": 7,
    "start_time": "2023-02-12T22:22:50.973Z"
   },
   {
    "duration": 22,
    "start_time": "2023-02-12T22:22:50.983Z"
   },
   {
    "duration": 5,
    "start_time": "2023-02-12T22:22:51.745Z"
   },
   {
    "duration": 5,
    "start_time": "2023-02-12T22:22:52.232Z"
   },
   {
    "duration": 7,
    "start_time": "2023-02-12T22:22:52.239Z"
   },
   {
    "duration": 4,
    "start_time": "2023-02-12T22:22:52.492Z"
   },
   {
    "duration": 15,
    "start_time": "2023-02-12T22:22:53.444Z"
   },
   {
    "duration": 3,
    "start_time": "2023-02-12T22:22:54.359Z"
   },
   {
    "duration": 5,
    "start_time": "2023-02-12T22:22:55.046Z"
   },
   {
    "duration": 26,
    "start_time": "2023-02-12T22:22:55.704Z"
   },
   {
    "duration": 5,
    "start_time": "2023-02-12T22:22:57.061Z"
   },
   {
    "duration": 3,
    "start_time": "2023-02-12T22:22:57.955Z"
   },
   {
    "duration": 3,
    "start_time": "2023-02-12T22:22:58.906Z"
   },
   {
    "duration": 18,
    "start_time": "2023-02-12T22:23:01.165Z"
   },
   {
    "duration": 13,
    "start_time": "2023-02-12T22:23:29.435Z"
   },
   {
    "duration": 3,
    "start_time": "2023-02-12T22:26:00.597Z"
   },
   {
    "duration": 5,
    "start_time": "2023-02-12T22:26:03.029Z"
   },
   {
    "duration": 3,
    "start_time": "2023-02-12T22:26:03.686Z"
   },
   {
    "duration": 3,
    "start_time": "2023-02-12T22:26:09.493Z"
   },
   {
    "duration": 8,
    "start_time": "2023-02-12T22:26:16.105Z"
   },
   {
    "duration": 17,
    "start_time": "2023-02-12T22:26:19.379Z"
   },
   {
    "duration": 7,
    "start_time": "2023-02-12T22:26:22.364Z"
   },
   {
    "duration": 4,
    "start_time": "2023-02-12T22:26:23.853Z"
   },
   {
    "duration": 26,
    "start_time": "2023-02-12T22:26:24.549Z"
   },
   {
    "duration": 19,
    "start_time": "2023-02-12T22:26:25.275Z"
   },
   {
    "duration": 17,
    "start_time": "2023-02-12T22:27:35.145Z"
   },
   {
    "duration": 14,
    "start_time": "2023-02-12T22:27:35.985Z"
   },
   {
    "duration": 36,
    "start_time": "2023-02-12T22:35:52.073Z"
   },
   {
    "duration": 30,
    "start_time": "2023-02-12T22:39:32.815Z"
   },
   {
    "duration": 30,
    "start_time": "2023-02-12T22:39:50.813Z"
   },
   {
    "duration": 35,
    "start_time": "2023-02-12T22:42:49.269Z"
   },
   {
    "duration": 7377,
    "start_time": "2023-02-13T08:25:38.442Z"
   },
   {
    "duration": 1487,
    "start_time": "2023-02-13T08:25:45.821Z"
   },
   {
    "duration": 107,
    "start_time": "2023-02-13T08:25:47.310Z"
   },
   {
    "duration": 14,
    "start_time": "2023-02-13T08:25:47.420Z"
   },
   {
    "duration": 8,
    "start_time": "2023-02-13T08:25:47.437Z"
   },
   {
    "duration": 9,
    "start_time": "2023-02-13T08:25:47.447Z"
   },
   {
    "duration": 10,
    "start_time": "2023-02-13T08:25:47.458Z"
   },
   {
    "duration": 5,
    "start_time": "2023-02-13T08:25:47.470Z"
   },
   {
    "duration": 11,
    "start_time": "2023-02-13T08:25:47.477Z"
   },
   {
    "duration": 10,
    "start_time": "2023-02-13T08:25:47.491Z"
   },
   {
    "duration": 10,
    "start_time": "2023-02-13T08:25:47.503Z"
   },
   {
    "duration": 41,
    "start_time": "2023-02-13T08:25:47.514Z"
   },
   {
    "duration": 3,
    "start_time": "2023-02-13T08:25:47.557Z"
   },
   {
    "duration": 10,
    "start_time": "2023-02-13T08:25:47.563Z"
   },
   {
    "duration": 20,
    "start_time": "2023-02-13T08:25:47.575Z"
   },
   {
    "duration": 4,
    "start_time": "2023-02-13T08:25:47.597Z"
   },
   {
    "duration": 37,
    "start_time": "2023-02-13T08:25:47.603Z"
   },
   {
    "duration": 3,
    "start_time": "2023-02-13T08:25:47.642Z"
   },
   {
    "duration": 7,
    "start_time": "2023-02-13T08:25:47.647Z"
   },
   {
    "duration": 16,
    "start_time": "2023-02-13T08:25:47.655Z"
   },
   {
    "duration": 4,
    "start_time": "2023-02-13T08:25:47.672Z"
   },
   {
    "duration": 4,
    "start_time": "2023-02-13T08:25:47.678Z"
   },
   {
    "duration": 135,
    "start_time": "2023-02-13T08:25:47.683Z"
   },
   {
    "duration": 0,
    "start_time": "2023-02-13T08:25:47.821Z"
   },
   {
    "duration": 0,
    "start_time": "2023-02-13T08:25:47.822Z"
   },
   {
    "duration": 0,
    "start_time": "2023-02-13T08:25:47.823Z"
   },
   {
    "duration": 0,
    "start_time": "2023-02-13T08:25:47.824Z"
   },
   {
    "duration": 0,
    "start_time": "2023-02-13T08:25:47.826Z"
   },
   {
    "duration": 0,
    "start_time": "2023-02-13T08:25:47.840Z"
   },
   {
    "duration": 0,
    "start_time": "2023-02-13T08:25:47.841Z"
   },
   {
    "duration": 0,
    "start_time": "2023-02-13T08:25:47.842Z"
   },
   {
    "duration": 0,
    "start_time": "2023-02-13T08:25:47.844Z"
   },
   {
    "duration": 0,
    "start_time": "2023-02-13T08:25:47.845Z"
   },
   {
    "duration": 0,
    "start_time": "2023-02-13T08:25:47.846Z"
   },
   {
    "duration": 0,
    "start_time": "2023-02-13T08:25:47.848Z"
   },
   {
    "duration": 0,
    "start_time": "2023-02-13T08:25:47.848Z"
   },
   {
    "duration": 0,
    "start_time": "2023-02-13T08:25:47.849Z"
   },
   {
    "duration": 0,
    "start_time": "2023-02-13T08:25:47.850Z"
   },
   {
    "duration": 0,
    "start_time": "2023-02-13T08:25:47.852Z"
   },
   {
    "duration": 0,
    "start_time": "2023-02-13T08:25:47.852Z"
   },
   {
    "duration": 0,
    "start_time": "2023-02-13T08:25:47.853Z"
   },
   {
    "duration": 0,
    "start_time": "2023-02-13T08:25:47.854Z"
   },
   {
    "duration": 0,
    "start_time": "2023-02-13T08:25:47.856Z"
   },
   {
    "duration": 0,
    "start_time": "2023-02-13T08:25:47.857Z"
   },
   {
    "duration": 0,
    "start_time": "2023-02-13T08:25:47.858Z"
   },
   {
    "duration": 0,
    "start_time": "2023-02-13T08:25:47.858Z"
   },
   {
    "duration": 0,
    "start_time": "2023-02-13T08:25:47.860Z"
   },
   {
    "duration": 0,
    "start_time": "2023-02-13T08:25:47.861Z"
   },
   {
    "duration": 1,
    "start_time": "2023-02-13T08:25:47.861Z"
   },
   {
    "duration": 0,
    "start_time": "2023-02-13T08:25:47.862Z"
   },
   {
    "duration": 0,
    "start_time": "2023-02-13T08:25:47.864Z"
   },
   {
    "duration": 0,
    "start_time": "2023-02-13T08:25:47.865Z"
   },
   {
    "duration": 0,
    "start_time": "2023-02-13T08:25:47.866Z"
   },
   {
    "duration": 0,
    "start_time": "2023-02-13T08:25:47.867Z"
   },
   {
    "duration": 0,
    "start_time": "2023-02-13T08:25:47.868Z"
   },
   {
    "duration": 0,
    "start_time": "2023-02-13T08:25:47.869Z"
   },
   {
    "duration": 0,
    "start_time": "2023-02-13T08:25:47.870Z"
   },
   {
    "duration": 5,
    "start_time": "2023-02-13T08:28:39.851Z"
   },
   {
    "duration": 3,
    "start_time": "2023-02-13T08:28:50.690Z"
   },
   {
    "duration": 2295,
    "start_time": "2023-02-13T08:34:52.850Z"
   },
   {
    "duration": 5,
    "start_time": "2023-02-13T08:34:56.611Z"
   },
   {
    "duration": 69,
    "start_time": "2023-02-13T08:34:59.112Z"
   },
   {
    "duration": 17,
    "start_time": "2023-02-13T08:35:01.068Z"
   },
   {
    "duration": 11,
    "start_time": "2023-02-13T08:35:01.592Z"
   },
   {
    "duration": 7,
    "start_time": "2023-02-13T08:35:02.131Z"
   },
   {
    "duration": 10,
    "start_time": "2023-02-13T08:35:02.722Z"
   },
   {
    "duration": 4,
    "start_time": "2023-02-13T08:35:04.457Z"
   },
   {
    "duration": 6,
    "start_time": "2023-02-13T08:35:04.818Z"
   },
   {
    "duration": 4,
    "start_time": "2023-02-13T08:35:05.116Z"
   },
   {
    "duration": 5,
    "start_time": "2023-02-13T08:35:05.392Z"
   },
   {
    "duration": 15,
    "start_time": "2023-02-13T08:35:07.609Z"
   },
   {
    "duration": 3,
    "start_time": "2023-02-13T08:35:08.913Z"
   },
   {
    "duration": 6,
    "start_time": "2023-02-13T08:35:11.488Z"
   },
   {
    "duration": 22,
    "start_time": "2023-02-13T08:35:12.299Z"
   },
   {
    "duration": 7,
    "start_time": "2023-02-13T08:35:16.114Z"
   },
   {
    "duration": 3,
    "start_time": "2023-02-13T08:35:21.320Z"
   },
   {
    "duration": 17,
    "start_time": "2023-02-13T08:35:22.767Z"
   },
   {
    "duration": 27,
    "start_time": "2023-02-13T08:35:44.468Z"
   },
   {
    "duration": 22,
    "start_time": "2023-02-13T08:35:48.165Z"
   },
   {
    "duration": 7,
    "start_time": "2023-02-13T08:38:49.412Z"
   },
   {
    "duration": 3,
    "start_time": "2023-02-13T08:43:00.136Z"
   },
   {
    "duration": 26,
    "start_time": "2023-02-13T08:43:01.245Z"
   },
   {
    "duration": 20,
    "start_time": "2023-02-13T08:45:50.533Z"
   },
   {
    "duration": 13,
    "start_time": "2023-02-13T08:47:01.996Z"
   },
   {
    "duration": 5,
    "start_time": "2023-02-13T08:47:23.281Z"
   },
   {
    "duration": 64,
    "start_time": "2023-02-13T08:47:24.139Z"
   },
   {
    "duration": 12,
    "start_time": "2023-02-13T08:47:24.924Z"
   },
   {
    "duration": 8,
    "start_time": "2023-02-13T08:47:25.174Z"
   },
   {
    "duration": 5,
    "start_time": "2023-02-13T08:47:25.404Z"
   },
   {
    "duration": 8,
    "start_time": "2023-02-13T08:47:25.651Z"
   },
   {
    "duration": 4,
    "start_time": "2023-02-13T08:47:26.532Z"
   },
   {
    "duration": 6,
    "start_time": "2023-02-13T08:47:27.101Z"
   },
   {
    "duration": 5,
    "start_time": "2023-02-13T08:47:27.509Z"
   },
   {
    "duration": 5,
    "start_time": "2023-02-13T08:47:27.735Z"
   },
   {
    "duration": 16,
    "start_time": "2023-02-13T08:47:28.786Z"
   },
   {
    "duration": 2,
    "start_time": "2023-02-13T08:47:29.325Z"
   },
   {
    "duration": 5,
    "start_time": "2023-02-13T08:47:31.133Z"
   },
   {
    "duration": 23,
    "start_time": "2023-02-13T08:47:31.902Z"
   },
   {
    "duration": 5,
    "start_time": "2023-02-13T08:47:33.325Z"
   },
   {
    "duration": 3,
    "start_time": "2023-02-13T08:47:33.945Z"
   },
   {
    "duration": 25,
    "start_time": "2023-02-13T08:47:37.307Z"
   },
   {
    "duration": 6,
    "start_time": "2023-02-13T08:50:41.760Z"
   },
   {
    "duration": 21,
    "start_time": "2023-02-13T08:51:41.450Z"
   },
   {
    "duration": 6,
    "start_time": "2023-02-13T08:58:18.032Z"
   },
   {
    "duration": 20,
    "start_time": "2023-02-13T09:00:03.626Z"
   },
   {
    "duration": 45,
    "start_time": "2023-02-13T09:01:23.457Z"
   },
   {
    "duration": 31,
    "start_time": "2023-02-13T09:01:34.864Z"
   },
   {
    "duration": 28,
    "start_time": "2023-02-13T09:04:34.734Z"
   },
   {
    "duration": 32,
    "start_time": "2023-02-13T09:05:40.530Z"
   },
   {
    "duration": 61,
    "start_time": "2023-02-13T09:09:04.388Z"
   },
   {
    "duration": 102,
    "start_time": "2023-02-13T09:09:25.277Z"
   },
   {
    "duration": 18,
    "start_time": "2023-02-13T09:18:09.113Z"
   },
   {
    "duration": 18107,
    "start_time": "2023-02-13T09:19:29.841Z"
   },
   {
    "duration": 11872,
    "start_time": "2023-02-13T09:21:47.912Z"
   },
   {
    "duration": 18574,
    "start_time": "2023-02-13T09:23:00.008Z"
   },
   {
    "duration": 6,
    "start_time": "2023-02-13T09:25:53.768Z"
   },
   {
    "duration": 6,
    "start_time": "2023-02-13T09:26:00.701Z"
   },
   {
    "duration": 77,
    "start_time": "2023-02-13T09:28:01.926Z"
   },
   {
    "duration": 24,
    "start_time": "2023-02-13T09:28:33.550Z"
   },
   {
    "duration": 18596,
    "start_time": "2023-02-13T09:28:36.346Z"
   },
   {
    "duration": 155,
    "start_time": "2023-02-13T09:29:42.586Z"
   },
   {
    "duration": 143,
    "start_time": "2023-02-13T09:31:20.154Z"
   },
   {
    "duration": 131,
    "start_time": "2023-02-13T09:31:41.463Z"
   },
   {
    "duration": 229,
    "start_time": "2023-02-13T09:33:20.359Z"
   },
   {
    "duration": 264,
    "start_time": "2023-02-13T09:34:16.291Z"
   },
   {
    "duration": 228,
    "start_time": "2023-02-13T09:36:31.901Z"
   },
   {
    "duration": 6823,
    "start_time": "2023-02-13T15:22:32.902Z"
   },
   {
    "duration": 1406,
    "start_time": "2023-02-13T15:22:39.728Z"
   },
   {
    "duration": 103,
    "start_time": "2023-02-13T15:22:41.136Z"
   },
   {
    "duration": 12,
    "start_time": "2023-02-13T15:22:41.241Z"
   },
   {
    "duration": 7,
    "start_time": "2023-02-13T15:22:41.255Z"
   },
   {
    "duration": 7,
    "start_time": "2023-02-13T15:22:41.264Z"
   },
   {
    "duration": 9,
    "start_time": "2023-02-13T15:22:41.272Z"
   },
   {
    "duration": 6,
    "start_time": "2023-02-13T15:22:41.282Z"
   },
   {
    "duration": 5,
    "start_time": "2023-02-13T15:22:41.327Z"
   },
   {
    "duration": 9,
    "start_time": "2023-02-13T15:22:41.335Z"
   },
   {
    "duration": 7,
    "start_time": "2023-02-13T15:22:41.345Z"
   },
   {
    "duration": 17,
    "start_time": "2023-02-13T15:22:41.354Z"
   },
   {
    "duration": 8,
    "start_time": "2023-02-13T15:22:41.372Z"
   },
   {
    "duration": 26,
    "start_time": "2023-02-13T15:22:41.381Z"
   },
   {
    "duration": 34,
    "start_time": "2023-02-13T15:22:41.409Z"
   },
   {
    "duration": 6,
    "start_time": "2023-02-13T15:22:41.444Z"
   },
   {
    "duration": 8,
    "start_time": "2023-02-13T15:22:41.452Z"
   },
   {
    "duration": 31,
    "start_time": "2023-02-13T15:22:41.462Z"
   },
   {
    "duration": 6,
    "start_time": "2023-02-13T15:22:41.494Z"
   },
   {
    "duration": 47,
    "start_time": "2023-02-13T15:22:41.501Z"
   },
   {
    "duration": 124,
    "start_time": "2023-02-13T15:22:41.550Z"
   },
   {
    "duration": 0,
    "start_time": "2023-02-13T15:22:41.676Z"
   },
   {
    "duration": 0,
    "start_time": "2023-02-13T15:22:41.677Z"
   },
   {
    "duration": 0,
    "start_time": "2023-02-13T15:22:41.679Z"
   },
   {
    "duration": 0,
    "start_time": "2023-02-13T15:22:41.680Z"
   },
   {
    "duration": 0,
    "start_time": "2023-02-13T15:22:41.681Z"
   },
   {
    "duration": 0,
    "start_time": "2023-02-13T15:22:41.682Z"
   },
   {
    "duration": 0,
    "start_time": "2023-02-13T15:22:41.683Z"
   },
   {
    "duration": 0,
    "start_time": "2023-02-13T15:22:41.684Z"
   },
   {
    "duration": 0,
    "start_time": "2023-02-13T15:22:41.685Z"
   },
   {
    "duration": 0,
    "start_time": "2023-02-13T15:22:41.686Z"
   },
   {
    "duration": 0,
    "start_time": "2023-02-13T15:22:41.687Z"
   },
   {
    "duration": 0,
    "start_time": "2023-02-13T15:22:41.688Z"
   },
   {
    "duration": 0,
    "start_time": "2023-02-13T15:22:41.690Z"
   },
   {
    "duration": 0,
    "start_time": "2023-02-13T15:22:41.691Z"
   },
   {
    "duration": 0,
    "start_time": "2023-02-13T15:22:41.692Z"
   },
   {
    "duration": 0,
    "start_time": "2023-02-13T15:22:41.693Z"
   },
   {
    "duration": 0,
    "start_time": "2023-02-13T15:22:41.694Z"
   },
   {
    "duration": 0,
    "start_time": "2023-02-13T15:22:41.695Z"
   },
   {
    "duration": 0,
    "start_time": "2023-02-13T15:22:41.727Z"
   },
   {
    "duration": 0,
    "start_time": "2023-02-13T15:22:41.728Z"
   },
   {
    "duration": 1,
    "start_time": "2023-02-13T15:22:41.729Z"
   },
   {
    "duration": 0,
    "start_time": "2023-02-13T15:22:41.731Z"
   },
   {
    "duration": 0,
    "start_time": "2023-02-13T15:22:41.732Z"
   },
   {
    "duration": 0,
    "start_time": "2023-02-13T15:22:41.733Z"
   },
   {
    "duration": 0,
    "start_time": "2023-02-13T15:22:41.734Z"
   },
   {
    "duration": 0,
    "start_time": "2023-02-13T15:22:41.735Z"
   },
   {
    "duration": 0,
    "start_time": "2023-02-13T15:22:41.736Z"
   },
   {
    "duration": 0,
    "start_time": "2023-02-13T15:22:41.737Z"
   },
   {
    "duration": 0,
    "start_time": "2023-02-13T15:22:41.738Z"
   },
   {
    "duration": 0,
    "start_time": "2023-02-13T15:22:41.739Z"
   },
   {
    "duration": 0,
    "start_time": "2023-02-13T15:22:41.740Z"
   },
   {
    "duration": 6,
    "start_time": "2023-02-13T15:26:04.141Z"
   },
   {
    "duration": 22,
    "start_time": "2023-02-13T15:26:20.795Z"
   },
   {
    "duration": 33,
    "start_time": "2023-02-13T15:26:29.216Z"
   },
   {
    "duration": 143,
    "start_time": "2023-02-13T15:27:18.974Z"
   },
   {
    "duration": 23,
    "start_time": "2023-02-13T15:27:33.421Z"
   },
   {
    "duration": 17219,
    "start_time": "2023-02-13T15:27:40.274Z"
   },
   {
    "duration": 6,
    "start_time": "2023-02-13T15:27:57.495Z"
   },
   {
    "duration": 6,
    "start_time": "2023-02-13T15:28:02.817Z"
   },
   {
    "duration": 126,
    "start_time": "2023-02-13T15:28:04.083Z"
   },
   {
    "duration": 120,
    "start_time": "2023-02-13T16:38:24.494Z"
   },
   {
    "duration": 110,
    "start_time": "2023-02-13T16:41:42.505Z"
   },
   {
    "duration": 10198,
    "start_time": "2023-02-13T21:30:42.522Z"
   },
   {
    "duration": 1465,
    "start_time": "2023-02-13T21:30:52.723Z"
   },
   {
    "duration": 206,
    "start_time": "2023-02-13T21:30:54.190Z"
   },
   {
    "duration": 13,
    "start_time": "2023-02-13T21:30:54.399Z"
   },
   {
    "duration": 9,
    "start_time": "2023-02-13T21:30:54.414Z"
   },
   {
    "duration": 8,
    "start_time": "2023-02-13T21:30:54.425Z"
   },
   {
    "duration": 8,
    "start_time": "2023-02-13T21:30:54.434Z"
   },
   {
    "duration": 7,
    "start_time": "2023-02-13T21:30:54.444Z"
   },
   {
    "duration": 11,
    "start_time": "2023-02-13T21:30:54.453Z"
   },
   {
    "duration": 7,
    "start_time": "2023-02-13T21:30:54.468Z"
   },
   {
    "duration": 8,
    "start_time": "2023-02-13T21:30:54.477Z"
   },
   {
    "duration": 22,
    "start_time": "2023-02-13T21:30:54.522Z"
   },
   {
    "duration": 19,
    "start_time": "2023-02-13T21:30:54.546Z"
   },
   {
    "duration": 23,
    "start_time": "2023-02-13T21:30:54.567Z"
   },
   {
    "duration": 35,
    "start_time": "2023-02-13T21:30:54.592Z"
   },
   {
    "duration": 27,
    "start_time": "2023-02-13T21:30:54.631Z"
   },
   {
    "duration": 25,
    "start_time": "2023-02-13T21:30:54.660Z"
   },
   {
    "duration": 47,
    "start_time": "2023-02-13T21:30:54.688Z"
   },
   {
    "duration": 7,
    "start_time": "2023-02-13T21:30:54.738Z"
   },
   {
    "duration": 46,
    "start_time": "2023-02-13T21:30:54.748Z"
   },
   {
    "duration": 6,
    "start_time": "2023-02-13T21:30:54.796Z"
   },
   {
    "duration": 43,
    "start_time": "2023-02-13T21:30:54.804Z"
   },
   {
    "duration": 56,
    "start_time": "2023-02-13T21:30:54.849Z"
   },
   {
    "duration": 233,
    "start_time": "2023-02-13T21:30:54.920Z"
   },
   {
    "duration": 74,
    "start_time": "2023-02-13T21:30:55.155Z"
   },
   {
    "duration": 19288,
    "start_time": "2023-02-13T21:30:55.231Z"
   },
   {
    "duration": 7,
    "start_time": "2023-02-13T21:31:14.522Z"
   },
   {
    "duration": 9,
    "start_time": "2023-02-13T21:31:14.535Z"
   },
   {
    "duration": 206,
    "start_time": "2023-02-13T21:31:14.546Z"
   },
   {
    "duration": 374,
    "start_time": "2023-02-13T21:31:14.755Z"
   },
   {
    "duration": 921,
    "start_time": "2023-02-13T21:31:15.132Z"
   },
   {
    "duration": 9,
    "start_time": "2023-02-13T21:31:16.055Z"
   },
   {
    "duration": 37,
    "start_time": "2023-02-13T21:31:16.066Z"
   },
   {
    "duration": 105,
    "start_time": "2023-02-13T21:31:16.120Z"
   },
   {
    "duration": 818,
    "start_time": "2023-02-13T21:31:16.229Z"
   },
   {
    "duration": 16,
    "start_time": "2023-02-13T21:31:17.049Z"
   },
   {
    "duration": 12,
    "start_time": "2023-02-13T21:31:17.067Z"
   },
   {
    "duration": 12,
    "start_time": "2023-02-13T21:31:17.081Z"
   },
   {
    "duration": 41,
    "start_time": "2023-02-13T21:31:17.094Z"
   },
   {
    "duration": 48,
    "start_time": "2023-02-13T21:31:17.137Z"
   },
   {
    "duration": 135,
    "start_time": "2023-02-13T21:31:17.187Z"
   },
   {
    "duration": 1105,
    "start_time": "2023-02-13T21:31:17.327Z"
   },
   {
    "duration": 12,
    "start_time": "2023-02-13T21:31:18.434Z"
   },
   {
    "duration": 1003,
    "start_time": "2023-02-13T21:31:18.447Z"
   },
   {
    "duration": 508,
    "start_time": "2023-02-13T21:31:19.452Z"
   },
   {
    "duration": 2205,
    "start_time": "2023-02-13T21:31:19.962Z"
   },
   {
    "duration": 3551,
    "start_time": "2023-02-13T21:31:22.170Z"
   },
   {
    "duration": 734,
    "start_time": "2023-02-13T21:31:25.723Z"
   },
   {
    "duration": 828,
    "start_time": "2023-02-13T21:31:26.460Z"
   },
   {
    "duration": 6,
    "start_time": "2023-02-13T21:31:27.290Z"
   },
   {
    "duration": 24,
    "start_time": "2023-02-13T21:31:27.298Z"
   },
   {
    "duration": 721,
    "start_time": "2023-02-13T21:31:27.324Z"
   },
   {
    "duration": 176,
    "start_time": "2023-02-13T21:31:28.047Z"
   },
   {
    "duration": 2388,
    "start_time": "2023-02-13T21:31:28.226Z"
   },
   {
    "duration": 6,
    "start_time": "2023-02-13T21:31:30.617Z"
   },
   {
    "duration": 113,
    "start_time": "2023-02-13T21:31:30.625Z"
   },
   {
    "duration": 14,
    "start_time": "2023-02-13T21:31:30.740Z"
   },
   {
    "duration": 17,
    "start_time": "2023-02-13T21:31:30.757Z"
   },
   {
    "duration": 22,
    "start_time": "2023-02-13T21:31:30.777Z"
   },
   {
    "duration": 39,
    "start_time": "2023-02-13T21:31:30.802Z"
   },
   {
    "duration": 23,
    "start_time": "2023-02-13T21:31:30.843Z"
   },
   {
    "duration": 16,
    "start_time": "2023-02-13T21:31:30.868Z"
   },
   {
    "duration": 34,
    "start_time": "2023-02-13T21:31:30.886Z"
   },
   {
    "duration": 22,
    "start_time": "2023-02-13T21:31:30.922Z"
   },
   {
    "duration": 21,
    "start_time": "2023-02-13T21:31:32.360Z"
   },
   {
    "duration": 3,
    "start_time": "2023-02-13T21:31:33.202Z"
   },
   {
    "duration": 6,
    "start_time": "2023-02-13T21:31:34.232Z"
   },
   {
    "duration": 21,
    "start_time": "2023-02-13T21:31:34.420Z"
   },
   {
    "duration": 7,
    "start_time": "2023-02-13T21:31:34.792Z"
   },
   {
    "duration": 6,
    "start_time": "2023-02-13T21:31:34.985Z"
   },
   {
    "duration": 27,
    "start_time": "2023-02-13T21:31:35.187Z"
   },
   {
    "duration": 7,
    "start_time": "2023-02-13T21:31:35.423Z"
   },
   {
    "duration": 21,
    "start_time": "2023-02-13T21:31:35.669Z"
   },
   {
    "duration": 5,
    "start_time": "2023-02-13T21:31:35.858Z"
   },
   {
    "duration": 21,
    "start_time": "2023-02-13T21:31:36.557Z"
   },
   {
    "duration": 57,
    "start_time": "2023-02-13T21:31:36.926Z"
   },
   {
    "duration": 171,
    "start_time": "2023-02-13T21:31:38.916Z"
   },
   {
    "duration": 25,
    "start_time": "2023-02-13T21:31:41.614Z"
   },
   {
    "duration": 19492,
    "start_time": "2023-02-13T21:31:42.266Z"
   },
   {
    "duration": 38,
    "start_time": "2023-02-13T21:32:01.770Z"
   },
   {
    "duration": 9,
    "start_time": "2023-02-13T21:32:05.001Z"
   },
   {
    "duration": 293,
    "start_time": "2023-02-13T21:32:27.120Z"
   },
   {
    "duration": 135,
    "start_time": "2023-02-13T21:32:40.804Z"
   },
   {
    "duration": 121,
    "start_time": "2023-02-13T21:33:09.810Z"
   },
   {
    "duration": 43,
    "start_time": "2023-02-13T21:36:05.169Z"
   },
   {
    "duration": 31,
    "start_time": "2023-02-13T21:36:25.609Z"
   },
   {
    "duration": 32,
    "start_time": "2023-02-13T21:36:37.762Z"
   },
   {
    "duration": 38,
    "start_time": "2023-02-13T21:37:39.694Z"
   },
   {
    "duration": 32,
    "start_time": "2023-02-13T21:37:48.649Z"
   },
   {
    "duration": 185,
    "start_time": "2023-02-13T21:38:02.363Z"
   },
   {
    "duration": 195,
    "start_time": "2023-02-13T21:39:18.366Z"
   },
   {
    "duration": 182,
    "start_time": "2023-02-13T21:39:26.604Z"
   },
   {
    "duration": 29,
    "start_time": "2023-02-13T21:39:50.862Z"
   },
   {
    "duration": 56,
    "start_time": "2023-02-13T21:52:04.435Z"
   },
   {
    "duration": 156,
    "start_time": "2023-02-13T21:54:28.933Z"
   },
   {
    "duration": 142,
    "start_time": "2023-02-13T21:55:09.798Z"
   },
   {
    "duration": 135,
    "start_time": "2023-02-13T21:56:22.638Z"
   },
   {
    "duration": 134,
    "start_time": "2023-02-13T22:00:28.816Z"
   },
   {
    "duration": 144,
    "start_time": "2023-02-13T22:00:51.564Z"
   },
   {
    "duration": 121,
    "start_time": "2023-02-13T22:01:29.418Z"
   },
   {
    "duration": 116,
    "start_time": "2023-02-13T22:01:51.139Z"
   },
   {
    "duration": 276,
    "start_time": "2023-02-13T22:03:01.856Z"
   },
   {
    "duration": 147,
    "start_time": "2023-02-13T22:04:15.434Z"
   },
   {
    "duration": 127,
    "start_time": "2023-02-13T22:04:22.264Z"
   },
   {
    "duration": 112,
    "start_time": "2023-02-13T22:05:09.467Z"
   },
   {
    "duration": 166,
    "start_time": "2023-02-13T22:08:44.277Z"
   },
   {
    "duration": 9559,
    "start_time": "2023-02-20T12:56:54.913Z"
   },
   {
    "duration": 1402,
    "start_time": "2023-02-20T12:57:04.474Z"
   },
   {
    "duration": 111,
    "start_time": "2023-02-20T12:57:05.878Z"
   },
   {
    "duration": 16,
    "start_time": "2023-02-20T12:57:05.990Z"
   },
   {
    "duration": 18,
    "start_time": "2023-02-20T12:57:06.008Z"
   },
   {
    "duration": 18,
    "start_time": "2023-02-20T12:57:06.028Z"
   },
   {
    "duration": 22,
    "start_time": "2023-02-20T12:57:06.048Z"
   },
   {
    "duration": 25,
    "start_time": "2023-02-20T12:57:06.072Z"
   },
   {
    "duration": 23,
    "start_time": "2023-02-20T12:57:06.098Z"
   },
   {
    "duration": 14,
    "start_time": "2023-02-20T12:57:06.123Z"
   },
   {
    "duration": 35,
    "start_time": "2023-02-20T12:57:06.138Z"
   },
   {
    "duration": 21,
    "start_time": "2023-02-20T12:57:06.174Z"
   },
   {
    "duration": 19,
    "start_time": "2023-02-20T12:57:06.196Z"
   },
   {
    "duration": 11,
    "start_time": "2023-02-20T12:57:06.218Z"
   },
   {
    "duration": 27,
    "start_time": "2023-02-20T12:57:06.231Z"
   },
   {
    "duration": 6,
    "start_time": "2023-02-20T12:57:06.265Z"
   },
   {
    "duration": 11,
    "start_time": "2023-02-20T12:57:06.273Z"
   },
   {
    "duration": 36,
    "start_time": "2023-02-20T12:57:06.285Z"
   },
   {
    "duration": 4,
    "start_time": "2023-02-20T12:57:06.322Z"
   },
   {
    "duration": 27,
    "start_time": "2023-02-20T12:57:06.328Z"
   },
   {
    "duration": 14,
    "start_time": "2023-02-20T12:57:06.360Z"
   },
   {
    "duration": 39,
    "start_time": "2023-02-20T12:57:06.375Z"
   },
   {
    "duration": 57,
    "start_time": "2023-02-20T12:57:06.415Z"
   },
   {
    "duration": 150,
    "start_time": "2023-02-20T12:57:06.474Z"
   },
   {
    "duration": 131,
    "start_time": "2023-02-20T12:57:06.626Z"
   },
   {
    "duration": 18249,
    "start_time": "2023-02-20T12:57:06.770Z"
   },
   {
    "duration": 7,
    "start_time": "2023-02-20T12:57:25.021Z"
   },
   {
    "duration": 9,
    "start_time": "2023-02-20T12:57:25.029Z"
   },
   {
    "duration": 152,
    "start_time": "2023-02-20T12:57:25.039Z"
   },
   {
    "duration": 269,
    "start_time": "2023-02-20T12:57:25.193Z"
   },
   {
    "duration": 847,
    "start_time": "2023-02-20T12:57:25.465Z"
   },
   {
    "duration": 10,
    "start_time": "2023-02-20T12:57:26.314Z"
   },
   {
    "duration": 68,
    "start_time": "2023-02-20T12:57:26.325Z"
   },
   {
    "duration": 157,
    "start_time": "2023-02-20T12:57:26.395Z"
   },
   {
    "duration": 703,
    "start_time": "2023-02-20T12:57:26.557Z"
   },
   {
    "duration": 11,
    "start_time": "2023-02-20T12:57:27.264Z"
   },
   {
    "duration": 14,
    "start_time": "2023-02-20T12:57:27.277Z"
   },
   {
    "duration": 21,
    "start_time": "2023-02-20T12:57:27.293Z"
   },
   {
    "duration": 12,
    "start_time": "2023-02-20T12:57:27.315Z"
   },
   {
    "duration": 50,
    "start_time": "2023-02-20T12:57:27.328Z"
   },
   {
    "duration": 75,
    "start_time": "2023-02-20T12:57:27.381Z"
   },
   {
    "duration": 1072,
    "start_time": "2023-02-20T12:57:27.463Z"
   },
   {
    "duration": 31,
    "start_time": "2023-02-20T12:57:28.537Z"
   },
   {
    "duration": 11,
    "start_time": "2023-02-20T12:57:28.570Z"
   },
   {
    "duration": 17,
    "start_time": "2023-02-20T12:57:28.583Z"
   },
   {
    "duration": 2011,
    "start_time": "2023-02-20T12:57:28.601Z"
   },
   {
    "duration": 3291,
    "start_time": "2023-02-20T12:57:30.614Z"
   },
   {
    "duration": 663,
    "start_time": "2023-02-20T12:57:33.907Z"
   },
   {
    "duration": 756,
    "start_time": "2023-02-20T12:57:34.572Z"
   },
   {
    "duration": 6,
    "start_time": "2023-02-20T12:57:35.330Z"
   },
   {
    "duration": 30,
    "start_time": "2023-02-20T12:57:35.337Z"
   },
   {
    "duration": 684,
    "start_time": "2023-02-20T12:57:35.370Z"
   },
   {
    "duration": 160,
    "start_time": "2023-02-20T12:57:36.060Z"
   },
   {
    "duration": 112,
    "start_time": "2023-02-20T13:13:26.867Z"
   },
   {
    "duration": 208,
    "start_time": "2023-02-20T13:18:02.666Z"
   },
   {
    "duration": 18020,
    "start_time": "2023-02-20T13:19:09.998Z"
   },
   {
    "duration": 6,
    "start_time": "2023-02-20T13:19:28.020Z"
   },
   {
    "duration": 9,
    "start_time": "2023-02-20T13:19:28.028Z"
   },
   {
    "duration": 147,
    "start_time": "2023-02-20T13:19:28.039Z"
   },
   {
    "duration": 235,
    "start_time": "2023-02-20T13:19:28.188Z"
   },
   {
    "duration": 424,
    "start_time": "2023-02-20T13:20:43.947Z"
   },
   {
    "duration": 359,
    "start_time": "2023-02-20T13:23:25.068Z"
   },
   {
    "duration": 9,
    "start_time": "2023-02-20T13:23:54.790Z"
   },
   {
    "duration": 9,
    "start_time": "2023-02-20T13:24:57.807Z"
   },
   {
    "duration": 108,
    "start_time": "2023-02-20T13:25:54.460Z"
   },
   {
    "duration": 7,
    "start_time": "2023-02-20T13:29:10.948Z"
   },
   {
    "duration": 69,
    "start_time": "2023-02-20T13:29:12.998Z"
   },
   {
    "duration": 11,
    "start_time": "2023-02-20T13:29:14.505Z"
   },
   {
    "duration": 8,
    "start_time": "2023-02-20T13:29:14.518Z"
   },
   {
    "duration": 6,
    "start_time": "2023-02-20T13:29:14.641Z"
   },
   {
    "duration": 9,
    "start_time": "2023-02-20T13:29:14.807Z"
   },
   {
    "duration": 4,
    "start_time": "2023-02-20T13:29:15.313Z"
   },
   {
    "duration": 5,
    "start_time": "2023-02-20T13:29:15.487Z"
   },
   {
    "duration": 4,
    "start_time": "2023-02-20T13:29:15.676Z"
   },
   {
    "duration": 5,
    "start_time": "2023-02-20T13:29:15.832Z"
   },
   {
    "duration": 14,
    "start_time": "2023-02-20T13:29:16.530Z"
   },
   {
    "duration": 3,
    "start_time": "2023-02-20T13:29:17.002Z"
   },
   {
    "duration": 6,
    "start_time": "2023-02-20T13:29:17.532Z"
   },
   {
    "duration": 21,
    "start_time": "2023-02-20T13:29:17.708Z"
   },
   {
    "duration": 5,
    "start_time": "2023-02-20T13:29:20.820Z"
   },
   {
    "duration": 7,
    "start_time": "2023-02-20T13:29:21.459Z"
   },
   {
    "duration": 32,
    "start_time": "2023-02-20T13:29:22.040Z"
   },
   {
    "duration": 5,
    "start_time": "2023-02-20T13:29:22.629Z"
   },
   {
    "duration": 18,
    "start_time": "2023-02-20T13:29:23.170Z"
   },
   {
    "duration": 7,
    "start_time": "2023-02-20T13:29:23.726Z"
   },
   {
    "duration": 27,
    "start_time": "2023-02-20T13:29:24.150Z"
   },
   {
    "duration": 34,
    "start_time": "2023-02-20T13:29:25.015Z"
   },
   {
    "duration": 150,
    "start_time": "2023-02-20T13:29:27.465Z"
   },
   {
    "duration": 28,
    "start_time": "2023-02-20T13:29:28.375Z"
   },
   {
    "duration": 18054,
    "start_time": "2023-02-20T13:29:28.627Z"
   },
   {
    "duration": 8,
    "start_time": "2023-02-20T13:29:46.683Z"
   },
   {
    "duration": 8,
    "start_time": "2023-02-20T13:29:46.693Z"
   },
   {
    "duration": 154,
    "start_time": "2023-02-20T13:29:46.703Z"
   },
   {
    "duration": 324,
    "start_time": "2023-02-20T13:29:46.865Z"
   },
   {
    "duration": 443,
    "start_time": "2023-02-20T13:29:47.191Z"
   },
   {
    "duration": 29,
    "start_time": "2023-02-20T13:29:47.636Z"
   },
   {
    "duration": 33,
    "start_time": "2023-02-20T13:29:47.671Z"
   },
   {
    "duration": 34,
    "start_time": "2023-02-20T13:39:09.292Z"
   },
   {
    "duration": 91,
    "start_time": "2023-02-20T13:39:12.277Z"
   },
   {
    "duration": 698,
    "start_time": "2023-02-20T13:39:19.067Z"
   },
   {
    "duration": 35,
    "start_time": "2023-02-20T13:40:28.130Z"
   },
   {
    "duration": 34,
    "start_time": "2023-02-20T13:40:30.102Z"
   },
   {
    "duration": 246,
    "start_time": "2023-02-20T13:40:43.084Z"
   },
   {
    "duration": 86,
    "start_time": "2023-02-20T13:52:31.119Z"
   },
   {
    "duration": 39,
    "start_time": "2023-02-20T14:29:41.473Z"
   },
   {
    "duration": 2115,
    "start_time": "2023-02-20T14:30:50.673Z"
   },
   {
    "duration": 6,
    "start_time": "2023-02-20T14:30:52.790Z"
   },
   {
    "duration": 68,
    "start_time": "2023-02-20T14:30:52.798Z"
   },
   {
    "duration": 12,
    "start_time": "2023-02-20T14:30:52.868Z"
   },
   {
    "duration": 7,
    "start_time": "2023-02-20T14:30:52.881Z"
   },
   {
    "duration": 8,
    "start_time": "2023-02-20T14:30:52.890Z"
   },
   {
    "duration": 10,
    "start_time": "2023-02-20T14:30:52.899Z"
   },
   {
    "duration": 4,
    "start_time": "2023-02-20T14:30:53.133Z"
   },
   {
    "duration": 5,
    "start_time": "2023-02-20T14:30:53.773Z"
   },
   {
    "duration": 5,
    "start_time": "2023-02-20T14:30:54.029Z"
   },
   {
    "duration": 5,
    "start_time": "2023-02-20T14:30:54.229Z"
   },
   {
    "duration": 15,
    "start_time": "2023-02-20T14:30:55.016Z"
   },
   {
    "duration": 2,
    "start_time": "2023-02-20T14:30:55.467Z"
   },
   {
    "duration": 5,
    "start_time": "2023-02-20T14:30:56.329Z"
   },
   {
    "duration": 23,
    "start_time": "2023-02-20T14:30:56.553Z"
   },
   {
    "duration": 5,
    "start_time": "2023-02-20T14:30:56.951Z"
   },
   {
    "duration": 4,
    "start_time": "2023-02-20T14:30:57.732Z"
   },
   {
    "duration": 23,
    "start_time": "2023-02-20T14:30:58.463Z"
   },
   {
    "duration": 5,
    "start_time": "2023-02-20T14:31:01.737Z"
   },
   {
    "duration": 19,
    "start_time": "2023-02-20T14:31:04.320Z"
   },
   {
    "duration": 5,
    "start_time": "2023-02-20T14:31:05.567Z"
   },
   {
    "duration": 19,
    "start_time": "2023-02-20T14:31:06.210Z"
   },
   {
    "duration": 38,
    "start_time": "2023-02-20T14:31:07.669Z"
   },
   {
    "duration": 142,
    "start_time": "2023-02-20T14:31:11.876Z"
   },
   {
    "duration": 50,
    "start_time": "2023-02-20T14:31:14.411Z"
   },
   {
    "duration": 17513,
    "start_time": "2023-02-20T14:31:15.118Z"
   },
   {
    "duration": 6,
    "start_time": "2023-02-20T14:31:32.633Z"
   },
   {
    "duration": 28,
    "start_time": "2023-02-20T14:31:32.640Z"
   },
   {
    "duration": 131,
    "start_time": "2023-02-20T14:31:32.670Z"
   },
   {
    "duration": 342,
    "start_time": "2023-02-20T14:31:32.803Z"
   },
   {
    "duration": 359,
    "start_time": "2023-02-20T14:31:33.153Z"
   },
   {
    "duration": 8,
    "start_time": "2023-02-20T14:31:33.514Z"
   },
   {
    "duration": 43,
    "start_time": "2023-02-20T14:31:33.523Z"
   },
   {
    "duration": 20,
    "start_time": "2023-02-20T14:31:33.568Z"
   },
   {
    "duration": 347,
    "start_time": "2023-02-20T14:31:33.655Z"
   },
   {
    "duration": 31,
    "start_time": "2023-02-20T14:31:34.004Z"
   },
   {
    "duration": 12,
    "start_time": "2023-02-20T14:42:44.290Z"
   },
   {
    "duration": 12,
    "start_time": "2023-02-20T14:43:02.124Z"
   },
   {
    "duration": 12,
    "start_time": "2023-02-20T14:43:03.019Z"
   },
   {
    "duration": 2142,
    "start_time": "2023-02-20T14:44:48.246Z"
   },
   {
    "duration": 5,
    "start_time": "2023-02-20T14:44:50.390Z"
   },
   {
    "duration": 55,
    "start_time": "2023-02-20T14:44:50.501Z"
   },
   {
    "duration": 11,
    "start_time": "2023-02-20T14:44:53.273Z"
   },
   {
    "duration": 8,
    "start_time": "2023-02-20T14:45:18.383Z"
   },
   {
    "duration": 6,
    "start_time": "2023-02-20T14:45:19.070Z"
   },
   {
    "duration": 9,
    "start_time": "2023-02-20T14:45:20.223Z"
   },
   {
    "duration": 4,
    "start_time": "2023-02-20T14:45:21.729Z"
   },
   {
    "duration": 5,
    "start_time": "2023-02-20T14:45:23.062Z"
   },
   {
    "duration": 4,
    "start_time": "2023-02-20T14:45:30.646Z"
   },
   {
    "duration": 5,
    "start_time": "2023-02-20T14:45:31.069Z"
   },
   {
    "duration": 12,
    "start_time": "2023-02-20T14:45:34.295Z"
   },
   {
    "duration": 3,
    "start_time": "2023-02-20T14:45:36.093Z"
   },
   {
    "duration": 6,
    "start_time": "2023-02-20T14:45:51.176Z"
   },
   {
    "duration": 18,
    "start_time": "2023-02-20T14:45:51.876Z"
   },
   {
    "duration": 6,
    "start_time": "2023-02-20T14:45:53.558Z"
   },
   {
    "duration": 3,
    "start_time": "2023-02-20T14:45:54.295Z"
   },
   {
    "duration": 26,
    "start_time": "2023-02-20T14:45:55.221Z"
   },
   {
    "duration": 5,
    "start_time": "2023-02-20T14:45:57.204Z"
   },
   {
    "duration": 20,
    "start_time": "2023-02-20T14:46:00.298Z"
   },
   {
    "duration": 5,
    "start_time": "2023-02-20T14:46:01.630Z"
   },
   {
    "duration": 18,
    "start_time": "2023-02-20T14:46:02.962Z"
   },
   {
    "duration": 26,
    "start_time": "2023-02-20T15:19:21.784Z"
   },
   {
    "duration": 10480,
    "start_time": "2023-02-21T15:12:29.540Z"
   },
   {
    "duration": 1494,
    "start_time": "2023-02-21T15:12:40.022Z"
   },
   {
    "duration": 229,
    "start_time": "2023-02-21T15:12:41.517Z"
   },
   {
    "duration": 12,
    "start_time": "2023-02-21T15:12:41.748Z"
   },
   {
    "duration": 52,
    "start_time": "2023-02-21T15:12:41.762Z"
   },
   {
    "duration": 20,
    "start_time": "2023-02-21T15:12:41.816Z"
   },
   {
    "duration": 21,
    "start_time": "2023-02-21T15:12:41.837Z"
   },
   {
    "duration": 13,
    "start_time": "2023-02-21T15:12:41.860Z"
   },
   {
    "duration": 55,
    "start_time": "2023-02-21T15:12:41.875Z"
   },
   {
    "duration": 14,
    "start_time": "2023-02-21T15:12:41.932Z"
   },
   {
    "duration": 73,
    "start_time": "2023-02-21T15:12:41.948Z"
   },
   {
    "duration": 43,
    "start_time": "2023-02-21T15:12:42.023Z"
   },
   {
    "duration": 31,
    "start_time": "2023-02-21T15:12:42.070Z"
   },
   {
    "duration": 34,
    "start_time": "2023-02-21T15:12:42.103Z"
   },
   {
    "duration": 26,
    "start_time": "2023-02-21T15:12:42.138Z"
   },
   {
    "duration": 60,
    "start_time": "2023-02-21T15:12:42.165Z"
   },
   {
    "duration": 19,
    "start_time": "2023-02-21T15:12:42.226Z"
   },
   {
    "duration": 34,
    "start_time": "2023-02-21T15:12:42.246Z"
   },
   {
    "duration": 37,
    "start_time": "2023-02-21T15:12:42.281Z"
   },
   {
    "duration": 22,
    "start_time": "2023-02-21T15:12:42.320Z"
   },
   {
    "duration": 4,
    "start_time": "2023-02-21T15:12:42.343Z"
   },
   {
    "duration": 40,
    "start_time": "2023-02-21T15:12:42.349Z"
   },
   {
    "duration": 59,
    "start_time": "2023-02-21T15:12:42.396Z"
   },
   {
    "duration": 167,
    "start_time": "2023-02-21T15:12:42.456Z"
   },
   {
    "duration": 33,
    "start_time": "2023-02-21T15:12:43.808Z"
   },
   {
    "duration": 20178,
    "start_time": "2023-02-21T15:12:44.128Z"
   },
   {
    "duration": 11,
    "start_time": "2023-02-21T15:13:04.309Z"
   },
   {
    "duration": 67,
    "start_time": "2023-02-21T15:13:04.322Z"
   },
   {
    "duration": 0,
    "start_time": "2023-02-21T15:13:04.392Z"
   },
   {
    "duration": 0,
    "start_time": "2023-02-21T15:13:04.393Z"
   },
   {
    "duration": 0,
    "start_time": "2023-02-21T15:13:04.395Z"
   },
   {
    "duration": 0,
    "start_time": "2023-02-21T15:13:04.396Z"
   },
   {
    "duration": 0,
    "start_time": "2023-02-21T15:13:04.402Z"
   },
   {
    "duration": 0,
    "start_time": "2023-02-21T15:13:04.403Z"
   },
   {
    "duration": 0,
    "start_time": "2023-02-21T15:13:04.405Z"
   },
   {
    "duration": 374,
    "start_time": "2023-02-21T15:13:05.084Z"
   },
   {
    "duration": 155,
    "start_time": "2023-02-21T15:13:08.436Z"
   },
   {
    "duration": 21,
    "start_time": "2023-02-21T15:13:11.292Z"
   },
   {
    "duration": 10,
    "start_time": "2023-02-21T15:13:11.943Z"
   },
   {
    "duration": 17,
    "start_time": "2023-02-21T15:13:12.717Z"
   },
   {
    "duration": 54,
    "start_time": "2023-02-21T15:13:13.699Z"
   },
   {
    "duration": 99,
    "start_time": "2023-02-21T15:13:13.899Z"
   },
   {
    "duration": 1229,
    "start_time": "2023-02-21T15:13:14.100Z"
   },
   {
    "duration": 16,
    "start_time": "2023-02-21T15:13:15.334Z"
   },
   {
    "duration": 26,
    "start_time": "2023-02-21T15:13:15.352Z"
   },
   {
    "duration": 53,
    "start_time": "2023-02-21T15:13:15.391Z"
   },
   {
    "duration": 2581,
    "start_time": "2023-02-21T15:13:15.965Z"
   },
   {
    "duration": 3797,
    "start_time": "2023-02-21T15:13:18.548Z"
   },
   {
    "duration": 2693,
    "start_time": "2023-02-21T15:13:54.884Z"
   },
   {
    "duration": 8,
    "start_time": "2023-02-21T15:13:57.580Z"
   },
   {
    "duration": 75,
    "start_time": "2023-02-21T15:14:00.186Z"
   },
   {
    "duration": 13,
    "start_time": "2023-02-21T15:14:05.805Z"
   },
   {
    "duration": 13,
    "start_time": "2023-02-21T15:14:07.456Z"
   },
   {
    "duration": 7,
    "start_time": "2023-02-21T15:14:08.697Z"
   },
   {
    "duration": 11,
    "start_time": "2023-02-21T15:14:10.861Z"
   },
   {
    "duration": 9,
    "start_time": "2023-02-21T15:15:04.007Z"
   },
   {
    "duration": 5,
    "start_time": "2023-02-21T15:15:57.105Z"
   },
   {
    "duration": 4,
    "start_time": "2023-02-21T15:16:01.716Z"
   },
   {
    "duration": 5,
    "start_time": "2023-02-21T15:16:02.641Z"
   },
   {
    "duration": 13,
    "start_time": "2023-02-21T15:16:09.197Z"
   },
   {
    "duration": 15,
    "start_time": "2023-02-21T15:17:15.247Z"
   },
   {
    "duration": 2,
    "start_time": "2023-02-21T15:17:17.406Z"
   },
   {
    "duration": 5,
    "start_time": "2023-02-21T15:17:25.040Z"
   },
   {
    "duration": 25,
    "start_time": "2023-02-21T15:18:51.993Z"
   },
   {
    "duration": 5,
    "start_time": "2023-02-21T15:19:00.846Z"
   },
   {
    "duration": 8403,
    "start_time": "2023-02-21T18:27:32.560Z"
   },
   {
    "duration": 1319,
    "start_time": "2023-02-21T18:27:40.965Z"
   },
   {
    "duration": 430,
    "start_time": "2023-02-21T18:27:42.286Z"
   },
   {
    "duration": 11,
    "start_time": "2023-02-21T18:27:42.718Z"
   },
   {
    "duration": 6,
    "start_time": "2023-02-21T18:27:42.730Z"
   },
   {
    "duration": 7,
    "start_time": "2023-02-21T18:27:42.738Z"
   },
   {
    "duration": 21,
    "start_time": "2023-02-21T18:27:42.747Z"
   },
   {
    "duration": 16,
    "start_time": "2023-02-21T18:27:42.770Z"
   },
   {
    "duration": 8,
    "start_time": "2023-02-21T18:27:42.787Z"
   },
   {
    "duration": 5,
    "start_time": "2023-02-21T18:27:42.797Z"
   },
   {
    "duration": 6,
    "start_time": "2023-02-21T18:27:42.804Z"
   },
   {
    "duration": 18,
    "start_time": "2023-02-21T18:27:42.811Z"
   },
   {
    "duration": 2,
    "start_time": "2023-02-21T18:27:42.830Z"
   },
   {
    "duration": 5,
    "start_time": "2023-02-21T18:27:42.834Z"
   },
   {
    "duration": 22,
    "start_time": "2023-02-21T18:27:42.841Z"
   },
   {
    "duration": 5,
    "start_time": "2023-02-21T18:27:42.864Z"
   },
   {
    "duration": 4,
    "start_time": "2023-02-21T18:27:44.784Z"
   },
   {
    "duration": 32,
    "start_time": "2023-02-21T18:27:46.650Z"
   },
   {
    "duration": 5,
    "start_time": "2023-02-21T18:27:54.238Z"
   },
   {
    "duration": 21,
    "start_time": "2023-02-21T18:27:55.436Z"
   },
   {
    "duration": 4,
    "start_time": "2023-02-21T18:27:56.253Z"
   },
   {
    "duration": 21,
    "start_time": "2023-02-21T18:27:57.373Z"
   },
   {
    "duration": 34,
    "start_time": "2023-02-21T18:28:02.146Z"
   },
   {
    "duration": 155,
    "start_time": "2023-02-21T18:28:09.106Z"
   },
   {
    "duration": 43,
    "start_time": "2023-02-21T18:28:14.216Z"
   },
   {
    "duration": 18382,
    "start_time": "2023-02-21T18:28:14.449Z"
   },
   {
    "duration": 6,
    "start_time": "2023-02-21T18:28:32.833Z"
   },
   {
    "duration": 45,
    "start_time": "2023-02-21T18:28:32.840Z"
   },
   {
    "duration": 0,
    "start_time": "2023-02-21T18:28:32.887Z"
   },
   {
    "duration": 0,
    "start_time": "2023-02-21T18:28:32.889Z"
   },
   {
    "duration": 0,
    "start_time": "2023-02-21T18:28:32.891Z"
   },
   {
    "duration": 153,
    "start_time": "2023-02-21T18:28:47.825Z"
   },
   {
    "duration": 22,
    "start_time": "2023-02-21T18:28:49.736Z"
   },
   {
    "duration": 17858,
    "start_time": "2023-02-21T18:28:50.570Z"
   },
   {
    "duration": 5,
    "start_time": "2023-02-21T18:29:08.430Z"
   },
   {
    "duration": 45,
    "start_time": "2023-02-21T18:29:08.436Z"
   },
   {
    "duration": 0,
    "start_time": "2023-02-21T18:29:08.483Z"
   },
   {
    "duration": 0,
    "start_time": "2023-02-21T18:29:08.484Z"
   },
   {
    "duration": 0,
    "start_time": "2023-02-21T18:29:08.486Z"
   },
   {
    "duration": 0,
    "start_time": "2023-02-21T18:29:08.487Z"
   },
   {
    "duration": 2313,
    "start_time": "2023-02-21T18:34:24.181Z"
   },
   {
    "duration": 5,
    "start_time": "2023-02-21T18:34:26.500Z"
   },
   {
    "duration": 62,
    "start_time": "2023-02-21T18:34:28.584Z"
   },
   {
    "duration": 11,
    "start_time": "2023-02-21T18:34:31.963Z"
   },
   {
    "duration": 7,
    "start_time": "2023-02-21T18:34:32.771Z"
   },
   {
    "duration": 6,
    "start_time": "2023-02-21T18:34:33.304Z"
   },
   {
    "duration": 7,
    "start_time": "2023-02-21T18:34:34.510Z"
   },
   {
    "duration": 5,
    "start_time": "2023-02-21T18:34:38.511Z"
   },
   {
    "duration": 7,
    "start_time": "2023-02-21T18:34:39.397Z"
   },
   {
    "duration": 5,
    "start_time": "2023-02-21T18:34:41.497Z"
   },
   {
    "duration": 5,
    "start_time": "2023-02-21T18:34:42.267Z"
   },
   {
    "duration": 14,
    "start_time": "2023-02-21T18:35:20.819Z"
   },
   {
    "duration": 3,
    "start_time": "2023-02-21T18:35:24.926Z"
   },
   {
    "duration": 5,
    "start_time": "2023-02-21T18:37:16.596Z"
   },
   {
    "duration": 22,
    "start_time": "2023-02-21T18:37:17.684Z"
   },
   {
    "duration": 6,
    "start_time": "2023-02-21T18:37:20.394Z"
   },
   {
    "duration": 2,
    "start_time": "2023-02-21T18:37:21.728Z"
   },
   {
    "duration": 25,
    "start_time": "2023-02-21T18:37:28.975Z"
   },
   {
    "duration": 5,
    "start_time": "2023-02-21T18:37:30.100Z"
   },
   {
    "duration": 22,
    "start_time": "2023-02-21T18:37:31.221Z"
   },
   {
    "duration": 5,
    "start_time": "2023-02-21T18:37:32.397Z"
   },
   {
    "duration": 20,
    "start_time": "2023-02-21T18:37:33.903Z"
   },
   {
    "duration": 32,
    "start_time": "2023-02-21T18:37:36.017Z"
   },
   {
    "duration": 159,
    "start_time": "2023-02-21T18:46:33.081Z"
   },
   {
    "duration": 124,
    "start_time": "2023-02-21T18:46:36.730Z"
   },
   {
    "duration": 18152,
    "start_time": "2023-02-21T18:46:38.202Z"
   },
   {
    "duration": 6,
    "start_time": "2023-02-21T18:47:04.204Z"
   },
   {
    "duration": 7,
    "start_time": "2023-02-21T18:47:05.744Z"
   },
   {
    "duration": 182,
    "start_time": "2023-02-21T18:47:07.507Z"
   },
   {
    "duration": 293,
    "start_time": "2023-02-21T18:47:10.612Z"
   },
   {
    "duration": 380,
    "start_time": "2023-02-21T18:47:11.336Z"
   },
   {
    "duration": 8,
    "start_time": "2023-02-21T18:48:04.202Z"
   },
   {
    "duration": 25,
    "start_time": "2023-02-21T18:48:20.851Z"
   },
   {
    "duration": 25,
    "start_time": "2023-02-21T18:48:24.902Z"
   },
   {
    "duration": 226,
    "start_time": "2023-02-21T18:48:25.574Z"
   },
   {
    "duration": 10,
    "start_time": "2023-02-21T18:48:32.661Z"
   },
   {
    "duration": 121,
    "start_time": "2023-02-21T18:49:55.479Z"
   },
   {
    "duration": 160,
    "start_time": "2023-02-21T18:59:45.218Z"
   },
   {
    "duration": 105,
    "start_time": "2023-02-21T18:59:46.251Z"
   },
   {
    "duration": 18096,
    "start_time": "2023-02-21T18:59:49.863Z"
   },
   {
    "duration": 75,
    "start_time": "2023-02-21T19:01:34.332Z"
   },
   {
    "duration": 10350,
    "start_time": "2023-02-22T12:17:01.151Z"
   },
   {
    "duration": 51,
    "start_time": "2023-02-22T12:20:19.776Z"
   },
   {
    "duration": 2394,
    "start_time": "2023-02-22T12:20:32.926Z"
   },
   {
    "duration": 1533,
    "start_time": "2023-02-22T12:20:35.323Z"
   },
   {
    "duration": 110,
    "start_time": "2023-02-22T12:20:36.858Z"
   },
   {
    "duration": 13,
    "start_time": "2023-02-22T12:20:36.971Z"
   },
   {
    "duration": 9,
    "start_time": "2023-02-22T12:20:36.986Z"
   },
   {
    "duration": 8,
    "start_time": "2023-02-22T12:20:36.998Z"
   },
   {
    "duration": 36,
    "start_time": "2023-02-22T12:20:37.008Z"
   },
   {
    "duration": 8,
    "start_time": "2023-02-22T12:20:37.046Z"
   },
   {
    "duration": 13,
    "start_time": "2023-02-22T12:20:37.057Z"
   },
   {
    "duration": 6,
    "start_time": "2023-02-22T12:20:37.073Z"
   },
   {
    "duration": 17,
    "start_time": "2023-02-22T12:20:37.081Z"
   },
   {
    "duration": 19,
    "start_time": "2023-02-22T12:20:37.101Z"
   },
   {
    "duration": 6,
    "start_time": "2023-02-22T12:20:37.139Z"
   },
   {
    "duration": 21,
    "start_time": "2023-02-22T12:20:37.147Z"
   },
   {
    "duration": 6,
    "start_time": "2023-02-22T12:20:37.170Z"
   },
   {
    "duration": 5,
    "start_time": "2023-02-22T12:20:37.177Z"
   },
   {
    "duration": 59,
    "start_time": "2023-02-22T12:20:37.184Z"
   },
   {
    "duration": 6,
    "start_time": "2023-02-22T12:20:37.245Z"
   },
   {
    "duration": 32,
    "start_time": "2023-02-22T12:20:37.252Z"
   },
   {
    "duration": 6,
    "start_time": "2023-02-22T12:20:37.285Z"
   },
   {
    "duration": 20,
    "start_time": "2023-02-22T12:20:37.293Z"
   },
   {
    "duration": 35,
    "start_time": "2023-02-22T12:20:37.339Z"
   },
   {
    "duration": 189,
    "start_time": "2023-02-22T12:20:37.375Z"
   },
   {
    "duration": 81,
    "start_time": "2023-02-22T12:20:37.566Z"
   },
   {
    "duration": 19416,
    "start_time": "2023-02-22T12:20:37.649Z"
   },
   {
    "duration": 8,
    "start_time": "2023-02-22T12:20:57.067Z"
   },
   {
    "duration": 18,
    "start_time": "2023-02-22T12:20:57.077Z"
   },
   {
    "duration": 196,
    "start_time": "2023-02-22T12:20:57.099Z"
   },
   {
    "duration": 324,
    "start_time": "2023-02-22T12:20:57.296Z"
   },
   {
    "duration": 431,
    "start_time": "2023-02-22T12:20:57.622Z"
   },
   {
    "duration": 8,
    "start_time": "2023-02-22T12:20:58.056Z"
   },
   {
    "duration": 31,
    "start_time": "2023-02-22T12:20:58.065Z"
   },
   {
    "duration": 47,
    "start_time": "2023-02-22T12:20:58.097Z"
   },
   {
    "duration": 373,
    "start_time": "2023-02-22T12:20:58.146Z"
   },
   {
    "duration": 19,
    "start_time": "2023-02-22T12:20:58.521Z"
   },
   {
    "duration": 69,
    "start_time": "2023-02-22T12:20:58.542Z"
   },
   {
    "duration": 12,
    "start_time": "2023-02-22T12:20:58.613Z"
   },
   {
    "duration": 14,
    "start_time": "2023-02-22T12:20:58.627Z"
   },
   {
    "duration": 24,
    "start_time": "2023-02-22T12:20:58.643Z"
   },
   {
    "duration": 43,
    "start_time": "2023-02-22T12:20:58.669Z"
   },
   {
    "duration": 46,
    "start_time": "2023-02-22T12:20:58.713Z"
   },
   {
    "duration": 1175,
    "start_time": "2023-02-22T12:20:58.841Z"
   },
   {
    "duration": 13,
    "start_time": "2023-02-22T12:21:00.018Z"
   },
   {
    "duration": 19,
    "start_time": "2023-02-22T12:21:00.040Z"
   },
   {
    "duration": 13,
    "start_time": "2023-02-22T12:21:00.061Z"
   },
   {
    "duration": 2178,
    "start_time": "2023-02-22T12:21:00.076Z"
   },
   {
    "duration": 3378,
    "start_time": "2023-02-22T12:21:02.256Z"
   },
   {
    "duration": 755,
    "start_time": "2023-02-22T12:21:05.640Z"
   },
   {
    "duration": 768,
    "start_time": "2023-02-22T12:21:06.397Z"
   },
   {
    "duration": 8,
    "start_time": "2023-02-22T12:21:07.167Z"
   },
   {
    "duration": 25,
    "start_time": "2023-02-22T12:21:07.176Z"
   },
   {
    "duration": 734,
    "start_time": "2023-02-22T12:21:07.202Z"
   },
   {
    "duration": 214,
    "start_time": "2023-02-22T12:21:07.937Z"
   },
   {
    "duration": 14,
    "start_time": "2023-02-22T12:21:08.174Z"
   },
   {
    "duration": 5,
    "start_time": "2023-02-22T12:21:15.364Z"
   },
   {
    "duration": 21,
    "start_time": "2023-02-22T12:21:16.470Z"
   },
   {
    "duration": 6,
    "start_time": "2023-02-22T12:21:17.917Z"
   },
   {
    "duration": 3,
    "start_time": "2023-02-22T12:21:18.851Z"
   },
   {
    "duration": 38,
    "start_time": "2023-02-22T12:21:25.016Z"
   },
   {
    "duration": 6,
    "start_time": "2023-02-22T12:21:26.809Z"
   },
   {
    "duration": 28,
    "start_time": "2023-02-22T12:21:48.557Z"
   },
   {
    "duration": 7,
    "start_time": "2023-02-22T12:21:50.111Z"
   },
   {
    "duration": 24,
    "start_time": "2023-02-22T12:21:51.425Z"
   },
   {
    "duration": 36,
    "start_time": "2023-02-22T12:21:53.850Z"
   },
   {
    "duration": 172,
    "start_time": "2023-02-22T12:22:10.251Z"
   },
   {
    "duration": 28,
    "start_time": "2023-02-22T12:22:11.075Z"
   },
   {
    "duration": 20193,
    "start_time": "2023-02-22T12:22:13.050Z"
   },
   {
    "duration": 7,
    "start_time": "2023-02-22T12:22:35.299Z"
   },
   {
    "duration": 7,
    "start_time": "2023-02-22T12:22:39.031Z"
   },
   {
    "duration": 167,
    "start_time": "2023-02-22T12:22:45.851Z"
   },
   {
    "duration": 326,
    "start_time": "2023-02-22T12:22:48.849Z"
   },
   {
    "duration": 435,
    "start_time": "2023-02-22T12:22:53.641Z"
   },
   {
    "duration": 7,
    "start_time": "2023-02-22T12:22:55.678Z"
   },
   {
    "duration": 29,
    "start_time": "2023-02-22T12:25:07.379Z"
   },
   {
    "duration": 29,
    "start_time": "2023-02-22T12:25:08.059Z"
   },
   {
    "duration": 301,
    "start_time": "2023-02-22T12:25:08.665Z"
   },
   {
    "duration": 19,
    "start_time": "2023-02-22T12:25:14.547Z"
   },
   {
    "duration": 42,
    "start_time": "2023-02-22T12:25:25.771Z"
   },
   {
    "duration": 48,
    "start_time": "2023-02-22T12:26:05.060Z"
   },
   {
    "duration": 13,
    "start_time": "2023-02-22T12:26:11.365Z"
   },
   {
    "duration": 46,
    "start_time": "2023-02-22T12:26:35.809Z"
   },
   {
    "duration": 158,
    "start_time": "2023-02-22T12:29:41.813Z"
   },
   {
    "duration": 37,
    "start_time": "2023-02-22T12:30:38.630Z"
   },
   {
    "duration": 277,
    "start_time": "2023-02-22T12:31:30.731Z"
   },
   {
    "duration": 92,
    "start_time": "2023-02-22T12:33:15.351Z"
   },
   {
    "duration": 10,
    "start_time": "2023-02-22T12:34:19.520Z"
   },
   {
    "duration": 11,
    "start_time": "2023-02-22T12:34:31.105Z"
   },
   {
    "duration": 74,
    "start_time": "2023-02-22T12:42:14.500Z"
   },
   {
    "duration": 18,
    "start_time": "2023-02-22T12:42:27.660Z"
   },
   {
    "duration": 56,
    "start_time": "2023-02-22T12:42:37.758Z"
   },
   {
    "duration": 87,
    "start_time": "2023-02-22T12:42:39.159Z"
   },
   {
    "duration": 1154,
    "start_time": "2023-02-22T12:42:41.742Z"
   },
   {
    "duration": 42,
    "start_time": "2023-02-22T12:44:08.242Z"
   },
   {
    "duration": 69,
    "start_time": "2023-02-22T12:44:09.875Z"
   },
   {
    "duration": 410,
    "start_time": "2023-02-22T12:44:10.917Z"
   },
   {
    "duration": 72,
    "start_time": "2023-02-22T12:46:04.665Z"
   },
   {
    "duration": 20655,
    "start_time": "2023-02-22T12:46:17.419Z"
   },
   {
    "duration": 180,
    "start_time": "2023-02-22T12:49:15.965Z"
   },
   {
    "duration": 457,
    "start_time": "2023-02-22T12:49:33.652Z"
   },
   {
    "duration": 179,
    "start_time": "2023-02-22T12:49:42.697Z"
   },
   {
    "duration": 99,
    "start_time": "2023-02-22T12:54:32.950Z"
   },
   {
    "duration": 46,
    "start_time": "2023-02-22T12:54:49.226Z"
   },
   {
    "duration": 327,
    "start_time": "2023-02-22T12:55:49.821Z"
   },
   {
    "duration": 42,
    "start_time": "2023-02-22T12:57:07.346Z"
   },
   {
    "duration": 336,
    "start_time": "2023-02-22T12:58:39.946Z"
   },
   {
    "duration": 74113,
    "start_time": "2023-02-22T19:57:00.917Z"
   },
   {
    "duration": 1475,
    "start_time": "2023-02-22T20:10:20.788Z"
   },
   {
    "duration": 195,
    "start_time": "2023-02-22T20:10:22.265Z"
   },
   {
    "duration": 11,
    "start_time": "2023-02-22T20:10:23.356Z"
   },
   {
    "duration": 12,
    "start_time": "2023-02-22T20:10:23.990Z"
   },
   {
    "duration": 9,
    "start_time": "2023-02-22T20:10:25.120Z"
   },
   {
    "duration": 8,
    "start_time": "2023-02-22T20:10:26.411Z"
   },
   {
    "duration": 4,
    "start_time": "2023-02-22T20:10:28.460Z"
   },
   {
    "duration": 6,
    "start_time": "2023-02-22T20:10:30.589Z"
   },
   {
    "duration": 5,
    "start_time": "2023-02-22T20:10:31.389Z"
   },
   {
    "duration": 6,
    "start_time": "2023-02-22T20:10:31.557Z"
   },
   {
    "duration": 15,
    "start_time": "2023-02-22T20:10:34.734Z"
   },
   {
    "duration": 5,
    "start_time": "2023-02-22T20:10:37.906Z"
   },
   {
    "duration": 22,
    "start_time": "2023-02-22T20:10:38.514Z"
   },
   {
    "duration": 5,
    "start_time": "2023-02-22T20:10:39.923Z"
   },
   {
    "duration": 3,
    "start_time": "2023-02-22T20:10:41.443Z"
   },
   {
    "duration": 24,
    "start_time": "2023-02-22T20:10:42.492Z"
   },
   {
    "duration": 6,
    "start_time": "2023-02-22T20:10:43.618Z"
   },
   {
    "duration": 18,
    "start_time": "2023-02-22T20:10:44.334Z"
   },
   {
    "duration": 6,
    "start_time": "2023-02-22T20:10:45.287Z"
   },
   {
    "duration": 19,
    "start_time": "2023-02-22T20:10:46.024Z"
   },
   {
    "duration": 32,
    "start_time": "2023-02-22T20:10:47.899Z"
   },
   {
    "duration": 176,
    "start_time": "2023-02-22T20:43:19.398Z"
   },
   {
    "duration": 59,
    "start_time": "2023-02-22T20:43:20.789Z"
   },
   {
    "duration": 18538,
    "start_time": "2023-02-22T20:43:24.398Z"
   },
   {
    "duration": 11,
    "start_time": "2023-02-22T20:43:42.938Z"
   },
   {
    "duration": 6,
    "start_time": "2023-02-22T20:44:11.747Z"
   },
   {
    "duration": 169,
    "start_time": "2023-02-22T20:44:12.862Z"
   },
   {
    "duration": 130,
    "start_time": "2023-02-22T20:44:33.953Z"
   },
   {
    "duration": 315,
    "start_time": "2023-02-22T20:44:38.609Z"
   },
   {
    "duration": 249,
    "start_time": "2023-02-22T20:44:53.688Z"
   },
   {
    "duration": 366,
    "start_time": "2023-02-22T20:45:11.734Z"
   },
   {
    "duration": 7,
    "start_time": "2023-02-22T20:45:13.997Z"
   },
   {
    "duration": 24,
    "start_time": "2023-02-22T20:47:01.075Z"
   },
   {
    "duration": 71,
    "start_time": "2023-02-22T20:47:02.377Z"
   },
   {
    "duration": 240,
    "start_time": "2023-02-22T20:47:04.835Z"
   },
   {
    "duration": 9,
    "start_time": "2023-02-22T20:49:01.157Z"
   },
   {
    "duration": 25,
    "start_time": "2023-02-22T20:49:03.709Z"
   },
   {
    "duration": 57,
    "start_time": "2023-02-22T20:51:05.932Z"
   },
   {
    "duration": 9889,
    "start_time": "2023-02-24T08:40:03.154Z"
   },
   {
    "duration": 1401,
    "start_time": "2023-02-24T08:40:13.046Z"
   },
   {
    "duration": 202,
    "start_time": "2023-02-24T08:40:14.449Z"
   },
   {
    "duration": 12,
    "start_time": "2023-02-24T08:40:14.653Z"
   },
   {
    "duration": 30,
    "start_time": "2023-02-24T08:40:14.667Z"
   },
   {
    "duration": 24,
    "start_time": "2023-02-24T08:40:14.699Z"
   },
   {
    "duration": 24,
    "start_time": "2023-02-24T08:40:14.724Z"
   },
   {
    "duration": 26,
    "start_time": "2023-02-24T08:40:14.750Z"
   },
   {
    "duration": 30,
    "start_time": "2023-02-24T08:40:14.778Z"
   },
   {
    "duration": 19,
    "start_time": "2023-02-24T08:40:14.812Z"
   },
   {
    "duration": 22,
    "start_time": "2023-02-24T08:40:14.832Z"
   },
   {
    "duration": 54,
    "start_time": "2023-02-24T08:40:14.855Z"
   },
   {
    "duration": 22,
    "start_time": "2023-02-24T08:40:14.911Z"
   },
   {
    "duration": 39,
    "start_time": "2023-02-24T08:40:14.934Z"
   },
   {
    "duration": 40,
    "start_time": "2023-02-24T08:40:14.975Z"
   },
   {
    "duration": 40,
    "start_time": "2023-02-24T08:40:15.017Z"
   },
   {
    "duration": 42,
    "start_time": "2023-02-24T08:40:15.059Z"
   },
   {
    "duration": 5,
    "start_time": "2023-02-24T08:40:15.103Z"
   },
   {
    "duration": 62,
    "start_time": "2023-02-24T08:40:15.109Z"
   },
   {
    "duration": 28,
    "start_time": "2023-02-24T08:40:15.173Z"
   },
   {
    "duration": 50,
    "start_time": "2023-02-24T08:40:15.203Z"
   },
   {
    "duration": 67,
    "start_time": "2023-02-24T08:40:15.254Z"
   },
   {
    "duration": 173,
    "start_time": "2023-02-24T08:40:15.323Z"
   },
   {
    "duration": 49,
    "start_time": "2023-02-24T08:40:15.498Z"
   },
   {
    "duration": 19209,
    "start_time": "2023-02-24T08:40:15.549Z"
   },
   {
    "duration": 6,
    "start_time": "2023-02-24T08:40:34.760Z"
   },
   {
    "duration": 20,
    "start_time": "2023-02-24T08:40:34.767Z"
   },
   {
    "duration": 152,
    "start_time": "2023-02-24T08:40:34.790Z"
   },
   {
    "duration": 302,
    "start_time": "2023-02-24T08:40:34.944Z"
   },
   {
    "duration": 375,
    "start_time": "2023-02-24T08:40:35.247Z"
   },
   {
    "duration": 15,
    "start_time": "2023-02-24T08:40:35.624Z"
   },
   {
    "duration": 24,
    "start_time": "2023-02-24T08:40:35.640Z"
   },
   {
    "duration": 22,
    "start_time": "2023-02-24T08:40:35.666Z"
   },
   {
    "duration": 352,
    "start_time": "2023-02-24T08:40:35.743Z"
   },
   {
    "duration": 9,
    "start_time": "2023-02-24T08:40:36.097Z"
   },
   {
    "duration": 43,
    "start_time": "2023-02-24T08:40:36.107Z"
   },
   {
    "duration": 53,
    "start_time": "2023-02-24T08:40:36.152Z"
   },
   {
    "duration": 0,
    "start_time": "2023-02-24T08:40:36.207Z"
   },
   {
    "duration": 0,
    "start_time": "2023-02-24T08:40:36.208Z"
   },
   {
    "duration": 0,
    "start_time": "2023-02-24T08:40:36.209Z"
   },
   {
    "duration": 0,
    "start_time": "2023-02-24T08:40:36.211Z"
   },
   {
    "duration": 0,
    "start_time": "2023-02-24T08:40:36.212Z"
   },
   {
    "duration": 0,
    "start_time": "2023-02-24T08:40:36.213Z"
   },
   {
    "duration": 0,
    "start_time": "2023-02-24T08:40:36.216Z"
   },
   {
    "duration": 0,
    "start_time": "2023-02-24T08:40:36.217Z"
   },
   {
    "duration": 0,
    "start_time": "2023-02-24T08:40:36.219Z"
   },
   {
    "duration": 0,
    "start_time": "2023-02-24T08:40:36.220Z"
   },
   {
    "duration": 0,
    "start_time": "2023-02-24T08:40:36.221Z"
   },
   {
    "duration": 0,
    "start_time": "2023-02-24T08:40:36.223Z"
   },
   {
    "duration": 0,
    "start_time": "2023-02-24T08:40:36.224Z"
   },
   {
    "duration": 0,
    "start_time": "2023-02-24T08:40:36.225Z"
   },
   {
    "duration": 0,
    "start_time": "2023-02-24T08:40:36.227Z"
   },
   {
    "duration": 0,
    "start_time": "2023-02-24T08:40:36.229Z"
   },
   {
    "duration": 0,
    "start_time": "2023-02-24T08:40:36.230Z"
   },
   {
    "duration": 0,
    "start_time": "2023-02-24T08:40:36.232Z"
   },
   {
    "duration": 0,
    "start_time": "2023-02-24T08:40:36.234Z"
   },
   {
    "duration": 2381,
    "start_time": "2023-02-24T08:50:26.388Z"
   },
   {
    "duration": 5,
    "start_time": "2023-02-24T08:50:28.771Z"
   },
   {
    "duration": 11,
    "start_time": "2023-02-24T08:52:35.132Z"
   },
   {
    "duration": 265,
    "start_time": "2023-02-24T08:52:36.896Z"
   },
   {
    "duration": 9,
    "start_time": "2023-02-24T08:52:38.770Z"
   },
   {
    "duration": 28,
    "start_time": "2023-02-24T08:52:40.222Z"
   },
   {
    "duration": 15,
    "start_time": "2023-02-24T08:52:51.681Z"
   },
   {
    "duration": 156,
    "start_time": "2023-02-24T08:53:50.084Z"
   },
   {
    "duration": 30,
    "start_time": "2023-02-24T08:53:53.943Z"
   },
   {
    "duration": 19032,
    "start_time": "2023-02-24T08:53:57.050Z"
   },
   {
    "duration": 189,
    "start_time": "2023-02-24T08:59:54.654Z"
   },
   {
    "duration": 30,
    "start_time": "2023-02-24T09:00:18.847Z"
   },
   {
    "duration": 24525,
    "start_time": "2023-02-24T09:00:49.910Z"
   },
   {
    "duration": 43,
    "start_time": "2023-02-24T09:03:29.388Z"
   },
   {
    "duration": 44,
    "start_time": "2023-02-24T09:05:13.010Z"
   },
   {
    "duration": 379,
    "start_time": "2023-02-24T09:07:05.692Z"
   },
   {
    "duration": 198,
    "start_time": "2023-02-24T09:07:41.528Z"
   },
   {
    "duration": 125,
    "start_time": "2023-02-24T09:08:25.613Z"
   },
   {
    "duration": 94,
    "start_time": "2023-02-24T09:09:00.545Z"
   },
   {
    "duration": 170,
    "start_time": "2023-02-24T09:10:06.755Z"
   },
   {
    "duration": 158,
    "start_time": "2023-02-24T09:10:23.867Z"
   },
   {
    "duration": 55,
    "start_time": "2023-02-24T09:15:34.251Z"
   },
   {
    "duration": 9,
    "start_time": "2023-02-24T09:18:28.052Z"
   },
   {
    "duration": 9,
    "start_time": "2023-02-24T09:18:57.807Z"
   },
   {
    "duration": 164,
    "start_time": "2023-02-24T09:20:37.651Z"
   },
   {
    "duration": 147,
    "start_time": "2023-02-24T09:20:51.808Z"
   },
   {
    "duration": 204,
    "start_time": "2023-02-24T09:23:46.531Z"
   },
   {
    "duration": 70,
    "start_time": "2023-02-24T11:55:26.672Z"
   },
   {
    "duration": 6468,
    "start_time": "2023-02-24T11:55:42.010Z"
   },
   {
    "duration": 1382,
    "start_time": "2023-02-24T11:55:48.481Z"
   },
   {
    "duration": 208,
    "start_time": "2023-02-24T11:55:49.865Z"
   },
   {
    "duration": 10,
    "start_time": "2023-02-24T11:55:50.076Z"
   },
   {
    "duration": 15,
    "start_time": "2023-02-24T11:55:50.088Z"
   },
   {
    "duration": 22,
    "start_time": "2023-02-24T11:55:50.105Z"
   },
   {
    "duration": 20,
    "start_time": "2023-02-24T11:55:50.128Z"
   },
   {
    "duration": 4,
    "start_time": "2023-02-24T11:55:50.150Z"
   },
   {
    "duration": 8,
    "start_time": "2023-02-24T11:55:50.156Z"
   },
   {
    "duration": 7,
    "start_time": "2023-02-24T11:55:50.167Z"
   },
   {
    "duration": 15,
    "start_time": "2023-02-24T11:55:50.176Z"
   },
   {
    "duration": 46,
    "start_time": "2023-02-24T11:55:50.193Z"
   },
   {
    "duration": 16,
    "start_time": "2023-02-24T11:55:50.240Z"
   },
   {
    "duration": 25,
    "start_time": "2023-02-24T11:55:50.257Z"
   },
   {
    "duration": 17,
    "start_time": "2023-02-24T11:55:50.283Z"
   },
   {
    "duration": 36,
    "start_time": "2023-02-24T11:55:50.302Z"
   },
   {
    "duration": 34,
    "start_time": "2023-02-24T11:55:50.340Z"
   },
   {
    "duration": 9,
    "start_time": "2023-02-24T11:55:50.376Z"
   },
   {
    "duration": 29,
    "start_time": "2023-02-24T11:55:50.386Z"
   },
   {
    "duration": 8,
    "start_time": "2023-02-24T11:55:50.420Z"
   },
   {
    "duration": 30,
    "start_time": "2023-02-24T11:55:50.430Z"
   },
   {
    "duration": 31,
    "start_time": "2023-02-24T11:55:50.462Z"
   },
   {
    "duration": 144,
    "start_time": "2023-02-24T11:55:50.495Z"
   },
   {
    "duration": 64,
    "start_time": "2023-02-24T11:55:50.640Z"
   },
   {
    "duration": 17241,
    "start_time": "2023-02-24T11:55:50.707Z"
   },
   {
    "duration": 5,
    "start_time": "2023-02-24T11:56:07.950Z"
   },
   {
    "duration": 7,
    "start_time": "2023-02-24T11:56:07.956Z"
   },
   {
    "duration": 147,
    "start_time": "2023-02-24T11:56:07.966Z"
   },
   {
    "duration": 271,
    "start_time": "2023-02-24T11:56:08.115Z"
   },
   {
    "duration": 341,
    "start_time": "2023-02-24T11:56:08.388Z"
   },
   {
    "duration": 6,
    "start_time": "2023-02-24T11:56:08.730Z"
   },
   {
    "duration": 23,
    "start_time": "2023-02-24T11:56:08.738Z"
   },
   {
    "duration": 42,
    "start_time": "2023-02-24T11:56:08.763Z"
   },
   {
    "duration": 349,
    "start_time": "2023-02-24T11:56:08.810Z"
   },
   {
    "duration": 9,
    "start_time": "2023-02-24T11:56:09.161Z"
   },
   {
    "duration": 36,
    "start_time": "2023-02-24T11:56:09.171Z"
   },
   {
    "duration": 9,
    "start_time": "2023-02-24T11:56:09.208Z"
   },
   {
    "duration": 245,
    "start_time": "2023-02-24T11:56:09.218Z"
   },
   {
    "duration": 8,
    "start_time": "2023-02-24T11:56:09.464Z"
   },
   {
    "duration": 36,
    "start_time": "2023-02-24T11:56:09.474Z"
   },
   {
    "duration": 191,
    "start_time": "2023-02-24T11:56:09.512Z"
   },
   {
    "duration": 177,
    "start_time": "2023-02-24T11:56:09.705Z"
   },
   {
    "duration": 34,
    "start_time": "2023-02-24T11:56:09.884Z"
   },
   {
    "duration": 22608,
    "start_time": "2023-02-24T11:56:09.920Z"
   },
   {
    "duration": 38,
    "start_time": "2023-02-24T11:56:32.530Z"
   },
   {
    "duration": 185,
    "start_time": "2023-02-24T11:56:32.569Z"
   },
   {
    "duration": 48,
    "start_time": "2023-02-24T11:56:32.756Z"
   },
   {
    "duration": 121,
    "start_time": "2023-02-24T11:56:32.807Z"
   },
   {
    "duration": 0,
    "start_time": "2023-02-24T11:56:32.930Z"
   },
   {
    "duration": 0,
    "start_time": "2023-02-24T11:56:32.937Z"
   },
   {
    "duration": 0,
    "start_time": "2023-02-24T11:56:32.938Z"
   },
   {
    "duration": 0,
    "start_time": "2023-02-24T11:56:32.939Z"
   },
   {
    "duration": 0,
    "start_time": "2023-02-24T11:56:32.940Z"
   },
   {
    "duration": 0,
    "start_time": "2023-02-24T11:56:32.941Z"
   },
   {
    "duration": 0,
    "start_time": "2023-02-24T11:56:32.941Z"
   },
   {
    "duration": 0,
    "start_time": "2023-02-24T11:56:32.942Z"
   },
   {
    "duration": 195,
    "start_time": "2023-02-24T11:57:00.036Z"
   },
   {
    "duration": 144,
    "start_time": "2023-02-24T11:57:43.532Z"
   },
   {
    "duration": 164,
    "start_time": "2023-02-24T11:57:45.333Z"
   },
   {
    "duration": 46,
    "start_time": "2023-02-24T11:57:52.800Z"
   },
   {
    "duration": 6,
    "start_time": "2023-02-24T11:57:55.685Z"
   },
   {
    "duration": 115,
    "start_time": "2023-02-24T11:58:00.923Z"
   },
   {
    "duration": 12,
    "start_time": "2023-02-24T11:59:26.978Z"
   },
   {
    "duration": 201,
    "start_time": "2023-02-24T12:15:54.894Z"
   },
   {
    "duration": 106,
    "start_time": "2023-02-24T12:16:11.473Z"
   },
   {
    "duration": 8,
    "start_time": "2023-02-24T12:16:13.225Z"
   },
   {
    "duration": 11,
    "start_time": "2023-02-24T12:16:14.526Z"
   },
   {
    "duration": 6,
    "start_time": "2023-02-24T12:17:05.593Z"
   },
   {
    "duration": 169,
    "start_time": "2023-02-24T12:17:24.450Z"
   },
   {
    "duration": 54,
    "start_time": "2023-02-24T12:17:26.274Z"
   },
   {
    "duration": 6,
    "start_time": "2023-02-24T12:17:28.526Z"
   },
   {
    "duration": 10,
    "start_time": "2023-02-24T12:18:06.433Z"
   },
   {
    "duration": 202,
    "start_time": "2023-02-24T12:18:42.100Z"
   },
   {
    "duration": 47,
    "start_time": "2023-02-25T17:50:10.538Z"
   },
   {
    "duration": 6832,
    "start_time": "2023-02-25T17:50:21.317Z"
   },
   {
    "duration": 1264,
    "start_time": "2023-02-25T17:50:28.151Z"
   },
   {
    "duration": 184,
    "start_time": "2023-02-25T17:50:29.417Z"
   },
   {
    "duration": 11,
    "start_time": "2023-02-25T17:50:29.602Z"
   },
   {
    "duration": 6,
    "start_time": "2023-02-25T17:50:29.614Z"
   },
   {
    "duration": 6,
    "start_time": "2023-02-25T17:50:29.621Z"
   },
   {
    "duration": 6,
    "start_time": "2023-02-25T17:50:29.628Z"
   },
   {
    "duration": 8,
    "start_time": "2023-02-25T17:50:29.636Z"
   },
   {
    "duration": 8,
    "start_time": "2023-02-25T17:50:29.645Z"
   },
   {
    "duration": 18,
    "start_time": "2023-02-25T17:50:29.655Z"
   },
   {
    "duration": 6,
    "start_time": "2023-02-25T17:50:29.674Z"
   },
   {
    "duration": 26,
    "start_time": "2023-02-25T17:50:29.682Z"
   },
   {
    "duration": 4,
    "start_time": "2023-02-25T17:50:29.710Z"
   },
   {
    "duration": 17,
    "start_time": "2023-02-25T17:50:29.715Z"
   },
   {
    "duration": 5,
    "start_time": "2023-02-25T17:50:29.733Z"
   },
   {
    "duration": 6,
    "start_time": "2023-02-25T17:50:29.739Z"
   },
   {
    "duration": 32,
    "start_time": "2023-02-25T17:50:29.747Z"
   },
   {
    "duration": 27,
    "start_time": "2023-02-25T17:50:29.780Z"
   },
   {
    "duration": 21,
    "start_time": "2023-02-25T17:50:29.809Z"
   },
   {
    "duration": 4,
    "start_time": "2023-02-25T17:50:29.831Z"
   },
   {
    "duration": 20,
    "start_time": "2023-02-25T17:50:29.836Z"
   },
   {
    "duration": 52,
    "start_time": "2023-02-25T17:50:29.857Z"
   },
   {
    "duration": 142,
    "start_time": "2023-02-25T17:50:29.910Z"
   },
   {
    "duration": 52,
    "start_time": "2023-02-25T17:50:30.054Z"
   },
   {
    "duration": 17277,
    "start_time": "2023-02-25T17:50:30.109Z"
   },
   {
    "duration": 6,
    "start_time": "2023-02-25T17:50:47.387Z"
   },
   {
    "duration": 20,
    "start_time": "2023-02-25T17:50:47.394Z"
   },
   {
    "duration": 143,
    "start_time": "2023-02-25T17:50:47.417Z"
   },
   {
    "duration": 328,
    "start_time": "2023-02-25T17:50:47.561Z"
   },
   {
    "duration": 353,
    "start_time": "2023-02-25T17:50:47.891Z"
   },
   {
    "duration": 6,
    "start_time": "2023-02-25T17:50:48.245Z"
   },
   {
    "duration": 35,
    "start_time": "2023-02-25T17:50:48.253Z"
   },
   {
    "duration": 32,
    "start_time": "2023-02-25T17:50:48.289Z"
   },
   {
    "duration": 422,
    "start_time": "2023-02-25T17:50:48.323Z"
   },
   {
    "duration": 8,
    "start_time": "2023-02-25T17:50:48.747Z"
   },
   {
    "duration": 46,
    "start_time": "2023-02-25T17:50:48.757Z"
   },
   {
    "duration": 12,
    "start_time": "2023-02-25T17:50:48.804Z"
   },
   {
    "duration": 261,
    "start_time": "2023-02-25T17:50:48.818Z"
   },
   {
    "duration": 8,
    "start_time": "2023-02-25T17:50:49.081Z"
   },
   {
    "duration": 44,
    "start_time": "2023-02-25T17:50:49.091Z"
   },
   {
    "duration": 105,
    "start_time": "2023-02-25T17:50:49.205Z"
   },
   {
    "duration": 182,
    "start_time": "2023-02-25T17:50:49.312Z"
   },
   {
    "duration": 110,
    "start_time": "2023-02-25T17:50:49.495Z"
   },
   {
    "duration": 22620,
    "start_time": "2023-02-25T17:50:49.607Z"
   },
   {
    "duration": 38,
    "start_time": "2023-02-25T17:51:12.229Z"
   },
   {
    "duration": 192,
    "start_time": "2023-02-25T17:51:12.268Z"
   },
   {
    "duration": 51,
    "start_time": "2023-02-25T17:51:12.462Z"
   },
   {
    "duration": 336,
    "start_time": "2023-02-25T17:51:12.514Z"
   },
   {
    "duration": 165,
    "start_time": "2023-02-25T17:51:12.852Z"
   },
   {
    "duration": 5,
    "start_time": "2023-02-25T17:51:13.019Z"
   },
   {
    "duration": 11,
    "start_time": "2023-02-25T17:51:13.026Z"
   },
   {
    "duration": 205,
    "start_time": "2023-02-25T17:51:13.039Z"
   },
   {
    "duration": 132,
    "start_time": "2023-02-25T17:51:13.245Z"
   },
   {
    "duration": 134,
    "start_time": "2023-02-25T17:51:26.340Z"
   },
   {
    "duration": 9599,
    "start_time": "2023-02-25T21:00:10.305Z"
   },
   {
    "duration": 1439,
    "start_time": "2023-02-25T21:00:19.906Z"
   },
   {
    "duration": 110,
    "start_time": "2023-02-25T21:00:21.347Z"
   },
   {
    "duration": 12,
    "start_time": "2023-02-25T21:00:21.459Z"
   },
   {
    "duration": 9,
    "start_time": "2023-02-25T21:00:21.472Z"
   },
   {
    "duration": 8,
    "start_time": "2023-02-25T21:00:21.483Z"
   },
   {
    "duration": 43,
    "start_time": "2023-02-25T21:00:21.492Z"
   },
   {
    "duration": 5,
    "start_time": "2023-02-25T21:00:21.539Z"
   },
   {
    "duration": 9,
    "start_time": "2023-02-25T21:00:21.547Z"
   },
   {
    "duration": 5,
    "start_time": "2023-02-25T21:00:21.560Z"
   },
   {
    "duration": 7,
    "start_time": "2023-02-25T21:00:21.567Z"
   },
   {
    "duration": 17,
    "start_time": "2023-02-25T21:00:21.575Z"
   },
   {
    "duration": 5,
    "start_time": "2023-02-25T21:00:21.593Z"
   },
   {
    "duration": 52,
    "start_time": "2023-02-25T21:00:21.600Z"
   },
   {
    "duration": 5,
    "start_time": "2023-02-25T21:00:21.654Z"
   },
   {
    "duration": 10,
    "start_time": "2023-02-25T21:00:21.660Z"
   },
   {
    "duration": 34,
    "start_time": "2023-02-25T21:00:21.671Z"
   },
   {
    "duration": 5,
    "start_time": "2023-02-25T21:00:21.707Z"
   },
   {
    "duration": 34,
    "start_time": "2023-02-25T21:00:21.713Z"
   },
   {
    "duration": 6,
    "start_time": "2023-02-25T21:00:21.748Z"
   },
   {
    "duration": 20,
    "start_time": "2023-02-25T21:00:21.756Z"
   },
   {
    "duration": 72,
    "start_time": "2023-02-25T21:00:21.778Z"
   },
   {
    "duration": 153,
    "start_time": "2023-02-25T21:00:21.852Z"
   },
   {
    "duration": 46,
    "start_time": "2023-02-25T21:00:22.007Z"
   },
   {
    "duration": 18533,
    "start_time": "2023-02-25T21:00:22.055Z"
   },
   {
    "duration": 6,
    "start_time": "2023-02-25T21:00:40.589Z"
   },
   {
    "duration": 7,
    "start_time": "2023-02-25T21:00:40.597Z"
   },
   {
    "duration": 179,
    "start_time": "2023-02-25T21:00:40.608Z"
   },
   {
    "duration": 359,
    "start_time": "2023-02-25T21:00:40.788Z"
   },
   {
    "duration": 366,
    "start_time": "2023-02-25T21:00:41.149Z"
   },
   {
    "duration": 21,
    "start_time": "2023-02-25T21:00:41.516Z"
   },
   {
    "duration": 23,
    "start_time": "2023-02-25T21:00:41.542Z"
   },
   {
    "duration": 69,
    "start_time": "2023-02-25T21:00:41.567Z"
   },
   {
    "duration": 335,
    "start_time": "2023-02-25T21:00:41.638Z"
   },
   {
    "duration": 9,
    "start_time": "2023-02-25T21:00:41.975Z"
   },
   {
    "duration": 22,
    "start_time": "2023-02-25T21:00:41.986Z"
   },
   {
    "duration": 15,
    "start_time": "2023-02-25T21:00:42.028Z"
   },
   {
    "duration": 247,
    "start_time": "2023-02-25T21:00:42.045Z"
   },
   {
    "duration": 9,
    "start_time": "2023-02-25T21:00:42.294Z"
   },
   {
    "duration": 44,
    "start_time": "2023-02-25T21:00:42.305Z"
   },
   {
    "duration": 103,
    "start_time": "2023-02-25T21:00:42.351Z"
   },
   {
    "duration": 196,
    "start_time": "2023-02-25T21:00:42.529Z"
   },
   {
    "duration": 34,
    "start_time": "2023-02-25T21:00:42.728Z"
   },
   {
    "duration": 24210,
    "start_time": "2023-02-25T21:00:42.764Z"
   },
   {
    "duration": 40,
    "start_time": "2023-02-25T21:01:06.975Z"
   },
   {
    "duration": 195,
    "start_time": "2023-02-25T21:01:07.030Z"
   },
   {
    "duration": 49,
    "start_time": "2023-02-25T21:01:07.228Z"
   },
   {
    "duration": 169,
    "start_time": "2023-02-25T21:01:07.430Z"
   },
   {
    "duration": 175,
    "start_time": "2023-02-25T21:01:07.600Z"
   },
   {
    "duration": 7,
    "start_time": "2023-02-25T21:01:07.776Z"
   },
   {
    "duration": 11,
    "start_time": "2023-02-25T21:01:07.784Z"
   },
   {
    "duration": 219,
    "start_time": "2023-02-25T21:01:07.796Z"
   },
   {
    "duration": 147,
    "start_time": "2023-02-25T21:01:08.017Z"
   },
   {
    "duration": 148,
    "start_time": "2023-02-25T21:04:21.718Z"
   },
   {
    "duration": 88,
    "start_time": "2023-02-25T21:06:13.293Z"
   },
   {
    "duration": 123,
    "start_time": "2023-02-25T21:06:28.053Z"
   },
   {
    "duration": 2136,
    "start_time": "2023-02-25T21:08:19.341Z"
   },
   {
    "duration": 5,
    "start_time": "2023-02-25T21:08:21.480Z"
   },
   {
    "duration": 64,
    "start_time": "2023-02-25T21:08:24.185Z"
   },
   {
    "duration": 11,
    "start_time": "2023-02-25T21:08:25.505Z"
   },
   {
    "duration": 8,
    "start_time": "2023-02-25T21:08:25.656Z"
   },
   {
    "duration": 6,
    "start_time": "2023-02-25T21:08:26.180Z"
   },
   {
    "duration": 8,
    "start_time": "2023-02-25T21:08:26.648Z"
   },
   {
    "duration": 5,
    "start_time": "2023-02-25T21:08:27.752Z"
   },
   {
    "duration": 5,
    "start_time": "2023-02-25T21:08:27.992Z"
   },
   {
    "duration": 6,
    "start_time": "2023-02-25T21:08:28.200Z"
   },
   {
    "duration": 5,
    "start_time": "2023-02-25T21:08:28.390Z"
   },
   {
    "duration": 19,
    "start_time": "2023-02-25T21:08:29.213Z"
   },
   {
    "duration": 4,
    "start_time": "2023-02-25T21:08:31.409Z"
   },
   {
    "duration": 27,
    "start_time": "2023-02-25T21:08:31.899Z"
   },
   {
    "duration": 5,
    "start_time": "2023-02-25T21:08:33.342Z"
   },
   {
    "duration": 3,
    "start_time": "2023-02-25T21:08:34.065Z"
   },
   {
    "duration": 24,
    "start_time": "2023-02-25T21:08:34.763Z"
   },
   {
    "duration": 5,
    "start_time": "2023-02-25T21:08:35.481Z"
   },
   {
    "duration": 19,
    "start_time": "2023-02-25T21:08:36.190Z"
   },
   {
    "duration": 6,
    "start_time": "2023-02-25T21:08:36.981Z"
   },
   {
    "duration": 20,
    "start_time": "2023-02-25T21:08:37.763Z"
   },
   {
    "duration": 38,
    "start_time": "2023-02-25T21:08:39.690Z"
   },
   {
    "duration": 21,
    "start_time": "2023-02-25T21:08:45.962Z"
   },
   {
    "duration": 18,
    "start_time": "2023-02-25T21:09:16.796Z"
   },
   {
    "duration": 24,
    "start_time": "2023-02-25T21:10:44.992Z"
   },
   {
    "duration": 18,
    "start_time": "2023-02-25T21:12:39.081Z"
   },
   {
    "duration": 26,
    "start_time": "2023-02-25T21:13:04.629Z"
   },
   {
    "duration": 177,
    "start_time": "2023-02-25T21:14:10.221Z"
   },
   {
    "duration": 152,
    "start_time": "2023-02-25T21:16:57.514Z"
   },
   {
    "duration": 157,
    "start_time": "2023-02-25T21:17:34.403Z"
   },
   {
    "duration": 142,
    "start_time": "2023-02-25T21:18:00.065Z"
   },
   {
    "duration": 17201,
    "start_time": "2023-02-25T21:19:29.599Z"
   },
   {
    "duration": 17692,
    "start_time": "2023-02-25T21:20:27.671Z"
   },
   {
    "duration": 18613,
    "start_time": "2023-02-25T21:21:04.136Z"
   },
   {
    "duration": 18489,
    "start_time": "2023-02-25T21:22:25.472Z"
   },
   {
    "duration": 18327,
    "start_time": "2023-02-25T21:22:47.786Z"
   },
   {
    "duration": 156,
    "start_time": "2023-02-25T21:26:34.367Z"
   },
   {
    "duration": 327,
    "start_time": "2023-02-25T21:26:45.210Z"
   },
   {
    "duration": 427,
    "start_time": "2023-02-25T21:26:46.711Z"
   },
   {
    "duration": 9,
    "start_time": "2023-02-25T21:27:00.413Z"
   },
   {
    "duration": 34,
    "start_time": "2023-02-25T21:27:16.885Z"
   },
   {
    "duration": 49,
    "start_time": "2023-02-25T21:27:17.100Z"
   },
   {
    "duration": 308,
    "start_time": "2023-02-25T21:27:17.272Z"
   },
   {
    "duration": 13,
    "start_time": "2023-02-25T21:27:20.930Z"
   },
   {
    "duration": 24,
    "start_time": "2023-02-25T21:27:42.355Z"
   },
   {
    "duration": 25,
    "start_time": "2023-02-25T21:27:55.097Z"
   },
   {
    "duration": 11,
    "start_time": "2023-02-25T21:28:38.946Z"
   },
   {
    "duration": 276,
    "start_time": "2023-02-25T21:28:43.944Z"
   },
   {
    "duration": 11,
    "start_time": "2023-02-25T21:28:49.753Z"
   },
   {
    "duration": 82,
    "start_time": "2023-02-25T21:28:52.467Z"
   },
   {
    "duration": 21,
    "start_time": "2023-02-25T21:29:02.652Z"
   },
   {
    "duration": 193,
    "start_time": "2023-02-25T21:29:09.045Z"
   },
   {
    "duration": 202,
    "start_time": "2023-02-25T21:30:20.612Z"
   },
   {
    "duration": 194,
    "start_time": "2023-02-25T21:30:37.252Z"
   },
   {
    "duration": 34,
    "start_time": "2023-02-25T21:31:56.289Z"
   },
   {
    "duration": 24232,
    "start_time": "2023-02-25T21:32:14.649Z"
   },
   {
    "duration": 24486,
    "start_time": "2023-02-25T21:32:53.896Z"
   },
   {
    "duration": 50,
    "start_time": "2023-02-25T21:34:50.264Z"
   },
   {
    "duration": 294,
    "start_time": "2023-02-25T21:35:29.344Z"
   },
   {
    "duration": 39,
    "start_time": "2023-02-25T21:35:59.079Z"
   },
   {
    "duration": 212,
    "start_time": "2023-02-25T22:09:38.789Z"
   },
   {
    "duration": 223,
    "start_time": "2023-02-25T22:09:53.645Z"
   },
   {
    "duration": 7,
    "start_time": "2023-02-25T22:10:02.413Z"
   },
   {
    "duration": 10,
    "start_time": "2023-02-25T22:10:03.923Z"
   },
   {
    "duration": 11,
    "start_time": "2023-02-25T22:10:44.282Z"
   },
   {
    "duration": 7,
    "start_time": "2023-02-25T22:11:31.777Z"
   },
   {
    "duration": 11,
    "start_time": "2023-02-25T22:11:34.228Z"
   },
   {
    "duration": 12,
    "start_time": "2023-02-25T22:12:28.820Z"
   },
   {
    "duration": 197,
    "start_time": "2023-02-25T22:19:10.471Z"
   },
   {
    "duration": 299,
    "start_time": "2023-02-25T22:21:11.559Z"
   },
   {
    "duration": 78,
    "start_time": "2023-02-25T22:50:33.129Z"
   },
   {
    "duration": 12,
    "start_time": "2023-02-25T22:50:48.377Z"
   },
   {
    "duration": 5,
    "start_time": "2023-02-25T22:52:56.574Z"
   },
   {
    "duration": 2136,
    "start_time": "2023-02-25T22:58:55.423Z"
   },
   {
    "duration": 1165,
    "start_time": "2023-02-25T22:58:57.562Z"
   },
   {
    "duration": 62,
    "start_time": "2023-02-25T22:58:58.728Z"
   },
   {
    "duration": 12,
    "start_time": "2023-02-25T22:58:58.792Z"
   },
   {
    "duration": 8,
    "start_time": "2023-02-25T22:58:58.806Z"
   },
   {
    "duration": 12,
    "start_time": "2023-02-25T22:58:58.816Z"
   },
   {
    "duration": 8,
    "start_time": "2023-02-25T22:58:58.830Z"
   },
   {
    "duration": 12,
    "start_time": "2023-02-25T22:58:58.840Z"
   },
   {
    "duration": 7,
    "start_time": "2023-02-25T22:58:58.854Z"
   },
   {
    "duration": 11,
    "start_time": "2023-02-25T22:58:58.862Z"
   },
   {
    "duration": 6,
    "start_time": "2023-02-25T22:58:58.875Z"
   },
   {
    "duration": 14,
    "start_time": "2023-02-25T22:58:58.882Z"
   },
   {
    "duration": 4,
    "start_time": "2023-02-25T22:58:58.897Z"
   },
   {
    "duration": 41,
    "start_time": "2023-02-25T22:58:58.905Z"
   },
   {
    "duration": 5,
    "start_time": "2023-02-25T22:58:58.947Z"
   },
   {
    "duration": 4,
    "start_time": "2023-02-25T22:58:58.954Z"
   },
   {
    "duration": 46,
    "start_time": "2023-02-25T22:58:58.959Z"
   },
   {
    "duration": 5,
    "start_time": "2023-02-25T22:58:59.006Z"
   },
   {
    "duration": 35,
    "start_time": "2023-02-25T22:58:59.013Z"
   },
   {
    "duration": 6,
    "start_time": "2023-02-25T22:58:59.050Z"
   },
   {
    "duration": 44,
    "start_time": "2023-02-25T22:58:59.057Z"
   },
   {
    "duration": 33,
    "start_time": "2023-02-25T22:58:59.103Z"
   },
   {
    "duration": 141,
    "start_time": "2023-02-25T22:58:59.138Z"
   },
   {
    "duration": 48,
    "start_time": "2023-02-25T22:58:59.281Z"
   },
   {
    "duration": 16456,
    "start_time": "2023-02-25T22:58:59.330Z"
   },
   {
    "duration": 7,
    "start_time": "2023-02-25T22:59:15.788Z"
   },
   {
    "duration": 11,
    "start_time": "2023-02-25T22:59:15.797Z"
   },
   {
    "duration": 159,
    "start_time": "2023-02-25T22:59:15.810Z"
   },
   {
    "duration": 258,
    "start_time": "2023-02-25T22:59:15.970Z"
   },
   {
    "duration": 401,
    "start_time": "2023-02-25T22:59:16.230Z"
   },
   {
    "duration": 7,
    "start_time": "2023-02-25T22:59:16.634Z"
   },
   {
    "duration": 30,
    "start_time": "2023-02-25T22:59:16.643Z"
   },
   {
    "duration": 53,
    "start_time": "2023-02-25T22:59:16.675Z"
   },
   {
    "duration": 335,
    "start_time": "2023-02-25T22:59:16.730Z"
   },
   {
    "duration": 9,
    "start_time": "2023-02-25T22:59:17.066Z"
   },
   {
    "duration": 32,
    "start_time": "2023-02-25T22:59:17.077Z"
   },
   {
    "duration": 22,
    "start_time": "2023-02-25T22:59:17.111Z"
   },
   {
    "duration": 249,
    "start_time": "2023-02-25T22:59:17.135Z"
   },
   {
    "duration": 10,
    "start_time": "2023-02-25T22:59:17.385Z"
   },
   {
    "duration": 132,
    "start_time": "2023-02-25T22:59:17.397Z"
   },
   {
    "duration": 101,
    "start_time": "2023-02-25T22:59:17.534Z"
   },
   {
    "duration": 176,
    "start_time": "2023-02-25T22:59:17.637Z"
   },
   {
    "duration": 35,
    "start_time": "2023-02-25T22:59:17.815Z"
   },
   {
    "duration": 21979,
    "start_time": "2023-02-25T22:59:17.852Z"
   },
   {
    "duration": 37,
    "start_time": "2023-02-25T22:59:39.832Z"
   },
   {
    "duration": 292,
    "start_time": "2023-02-25T22:59:39.871Z"
   },
   {
    "duration": 67,
    "start_time": "2023-02-25T22:59:40.165Z"
   },
   {
    "duration": 315,
    "start_time": "2023-02-25T22:59:40.234Z"
   },
   {
    "duration": 235,
    "start_time": "2023-02-25T22:59:40.551Z"
   },
   {
    "duration": 6,
    "start_time": "2023-02-25T22:59:40.788Z"
   },
   {
    "duration": 15,
    "start_time": "2023-02-25T22:59:40.796Z"
   },
   {
    "duration": 291,
    "start_time": "2023-02-25T22:59:40.812Z"
   },
   {
    "duration": 140,
    "start_time": "2023-02-25T22:59:41.104Z"
   },
   {
    "duration": 87,
    "start_time": "2023-02-25T22:59:41.246Z"
   },
   {
    "duration": 0,
    "start_time": "2023-02-25T22:59:41.334Z"
   },
   {
    "duration": 0,
    "start_time": "2023-02-25T22:59:41.336Z"
   },
   {
    "duration": 0,
    "start_time": "2023-02-25T22:59:41.337Z"
   },
   {
    "duration": 140,
    "start_time": "2023-02-25T23:00:17.050Z"
   },
   {
    "duration": 114,
    "start_time": "2023-02-25T23:00:21.313Z"
   },
   {
    "duration": 16636,
    "start_time": "2023-02-25T23:00:24.723Z"
   },
   {
    "duration": 5,
    "start_time": "2023-02-25T23:00:41.362Z"
   },
   {
    "duration": 14861,
    "start_time": "2023-02-25T23:01:02.875Z"
   },
   {
    "duration": 221,
    "start_time": "2023-02-25T23:02:03.264Z"
   },
   {
    "duration": 7,
    "start_time": "2023-02-25T23:02:19.521Z"
   },
   {
    "duration": 22,
    "start_time": "2023-02-25T23:02:24.968Z"
   },
   {
    "duration": 65,
    "start_time": "2023-02-25T23:02:25.566Z"
   },
   {
    "duration": 270,
    "start_time": "2023-02-25T23:02:26.700Z"
   },
   {
    "duration": 109,
    "start_time": "2023-02-25T23:02:34.830Z"
   },
   {
    "duration": 25,
    "start_time": "2023-02-25T23:02:52.314Z"
   },
   {
    "duration": 111,
    "start_time": "2023-02-25T23:03:21.659Z"
   },
   {
    "duration": 11,
    "start_time": "2023-02-25T23:03:25.824Z"
   },
   {
    "duration": 25,
    "start_time": "2023-02-25T23:03:33.025Z"
   },
   {
    "duration": 13,
    "start_time": "2023-02-25T23:03:51.261Z"
   },
   {
    "duration": 117,
    "start_time": "2023-02-25T23:04:06.461Z"
   },
   {
    "duration": 11,
    "start_time": "2023-02-25T23:04:15.249Z"
   },
   {
    "duration": 119,
    "start_time": "2023-02-25T23:04:28.424Z"
   },
   {
    "duration": 13,
    "start_time": "2023-02-25T23:04:32.368Z"
   },
   {
    "duration": 170,
    "start_time": "2023-02-25T23:04:44.365Z"
   },
   {
    "duration": 66,
    "start_time": "2023-02-25T23:04:48.263Z"
   },
   {
    "duration": 19674,
    "start_time": "2023-02-25T23:05:06.301Z"
   },
   {
    "duration": 50,
    "start_time": "2023-02-25T23:05:56.678Z"
   },
   {
    "duration": 381,
    "start_time": "2023-02-25T23:06:21.515Z"
   },
   {
    "duration": 86,
    "start_time": "2023-02-25T23:06:52.743Z"
   },
   {
    "duration": 217,
    "start_time": "2023-02-25T23:07:19.173Z"
   },
   {
    "duration": 246,
    "start_time": "2023-02-25T23:07:19.836Z"
   },
   {
    "duration": 356,
    "start_time": "2023-02-25T23:07:29.192Z"
   },
   {
    "duration": 6,
    "start_time": "2023-02-25T23:07:34.070Z"
   },
   {
    "duration": 13,
    "start_time": "2023-02-25T23:07:35.066Z"
   },
   {
    "duration": 285,
    "start_time": "2023-02-25T23:07:45.230Z"
   },
   {
    "duration": 77,
    "start_time": "2023-02-25T23:25:27.058Z"
   },
   {
    "duration": 72,
    "start_time": "2023-02-25T23:25:51.891Z"
   },
   {
    "duration": 75,
    "start_time": "2023-02-25T23:26:03.204Z"
   },
   {
    "duration": 100,
    "start_time": "2023-02-25T23:26:39.991Z"
   },
   {
    "duration": 73,
    "start_time": "2023-02-25T23:28:08.512Z"
   },
   {
    "duration": 78,
    "start_time": "2023-02-25T23:29:04.975Z"
   },
   {
    "duration": 77,
    "start_time": "2023-02-25T23:30:10.063Z"
   },
   {
    "duration": 126,
    "start_time": "2023-02-26T00:22:15.366Z"
   },
   {
    "duration": 23471,
    "start_time": "2023-02-26T00:22:30.252Z"
   },
   {
    "duration": 43364,
    "start_time": "2023-02-26T00:23:19.668Z"
   },
   {
    "duration": 46873,
    "start_time": "2023-02-26T00:24:13.781Z"
   },
   {
    "duration": 118453,
    "start_time": "2023-02-26T00:25:25.525Z"
   },
   {
    "duration": 22531,
    "start_time": "2023-02-26T00:28:13.263Z"
   },
   {
    "duration": 58618,
    "start_time": "2023-02-26T00:29:52.984Z"
   },
   {
    "duration": 57965,
    "start_time": "2023-02-26T00:31:14.612Z"
   },
   {
    "duration": 207,
    "start_time": "2023-02-26T00:32:49.511Z"
   },
   {
    "duration": 105,
    "start_time": "2023-02-26T00:33:56.321Z"
   },
   {
    "duration": 210,
    "start_time": "2023-02-26T00:33:59.403Z"
   },
   {
    "duration": 356,
    "start_time": "2023-02-26T00:34:01.125Z"
   },
   {
    "duration": 162,
    "start_time": "2023-02-26T00:34:10.810Z"
   },
   {
    "duration": 7,
    "start_time": "2023-02-26T00:34:15.491Z"
   },
   {
    "duration": 13,
    "start_time": "2023-02-26T00:34:16.406Z"
   },
   {
    "duration": 194,
    "start_time": "2023-02-26T00:34:31.392Z"
   },
   {
    "duration": 154,
    "start_time": "2023-02-26T00:34:46.290Z"
   },
   {
    "duration": 71,
    "start_time": "2023-02-26T00:34:47.410Z"
   },
   {
    "duration": 14,
    "start_time": "2023-02-26T00:40:41.352Z"
   },
   {
    "duration": 0,
    "start_time": "2023-02-26T00:44:34.923Z"
   },
   {
    "duration": 152130,
    "start_time": "2023-02-26T00:47:24.686Z"
   },
   {
    "duration": 2011,
    "start_time": "2023-02-26T00:55:01.108Z"
   },
   {
    "duration": 2080,
    "start_time": "2023-02-26T00:58:00.877Z"
   },
   {
    "duration": 2050,
    "start_time": "2023-02-26T01:00:24.162Z"
   },
   {
    "duration": 12,
    "start_time": "2023-02-26T01:00:57.884Z"
   },
   {
    "duration": 2142,
    "start_time": "2023-02-26T01:02:00.723Z"
   },
   {
    "duration": 16,
    "start_time": "2023-02-26T01:08:47.671Z"
   },
   {
    "duration": 3,
    "start_time": "2023-02-26T01:11:20.118Z"
   },
   {
    "duration": 15,
    "start_time": "2023-02-26T01:12:08.899Z"
   },
   {
    "duration": 151687,
    "start_time": "2023-02-26T01:16:33.697Z"
   },
   {
    "duration": 14,
    "start_time": "2023-02-26T01:19:05.386Z"
   },
   {
    "duration": 3,
    "start_time": "2023-02-26T01:19:54.215Z"
   },
   {
    "duration": 18,
    "start_time": "2023-02-26T01:20:37.370Z"
   },
   {
    "duration": 48,
    "start_time": "2023-02-26T23:12:13.536Z"
   },
   {
    "duration": 8842,
    "start_time": "2023-02-26T23:12:25.347Z"
   },
   {
    "duration": 1363,
    "start_time": "2023-02-26T23:12:34.192Z"
   },
   {
    "duration": 110,
    "start_time": "2023-02-26T23:12:35.557Z"
   },
   {
    "duration": 13,
    "start_time": "2023-02-26T23:12:35.670Z"
   },
   {
    "duration": 9,
    "start_time": "2023-02-26T23:12:35.685Z"
   },
   {
    "duration": 7,
    "start_time": "2023-02-26T23:12:35.696Z"
   },
   {
    "duration": 7,
    "start_time": "2023-02-26T23:12:35.705Z"
   },
   {
    "duration": 5,
    "start_time": "2023-02-26T23:12:35.736Z"
   },
   {
    "duration": 7,
    "start_time": "2023-02-26T23:12:35.743Z"
   },
   {
    "duration": 5,
    "start_time": "2023-02-26T23:12:35.753Z"
   },
   {
    "duration": 5,
    "start_time": "2023-02-26T23:12:35.760Z"
   },
   {
    "duration": 14,
    "start_time": "2023-02-26T23:12:35.767Z"
   },
   {
    "duration": 4,
    "start_time": "2023-02-26T23:12:35.782Z"
   },
   {
    "duration": 55,
    "start_time": "2023-02-26T23:12:35.788Z"
   },
   {
    "duration": 4,
    "start_time": "2023-02-26T23:12:35.845Z"
   },
   {
    "duration": 12,
    "start_time": "2023-02-26T23:12:35.851Z"
   },
   {
    "duration": 29,
    "start_time": "2023-02-26T23:12:35.865Z"
   },
   {
    "duration": 8,
    "start_time": "2023-02-26T23:12:35.896Z"
   },
   {
    "duration": 20,
    "start_time": "2023-02-26T23:12:35.905Z"
   },
   {
    "duration": 6,
    "start_time": "2023-02-26T23:12:35.938Z"
   },
   {
    "duration": 24,
    "start_time": "2023-02-26T23:12:35.946Z"
   },
   {
    "duration": 41,
    "start_time": "2023-02-26T23:12:35.972Z"
   },
   {
    "duration": 140,
    "start_time": "2023-02-26T23:12:36.014Z"
   },
   {
    "duration": 87,
    "start_time": "2023-02-26T23:12:36.156Z"
   },
   {
    "duration": 13616,
    "start_time": "2023-02-26T23:12:36.245Z"
   },
   {
    "duration": 6,
    "start_time": "2023-02-26T23:12:49.863Z"
   },
   {
    "duration": 10,
    "start_time": "2023-02-26T23:12:49.870Z"
   },
   {
    "duration": 143,
    "start_time": "2023-02-26T23:12:49.883Z"
   },
   {
    "duration": 277,
    "start_time": "2023-02-26T23:12:50.028Z"
   },
   {
    "duration": 214,
    "start_time": "2023-02-26T23:12:50.307Z"
   },
   {
    "duration": 15,
    "start_time": "2023-02-26T23:12:50.523Z"
   },
   {
    "duration": 30,
    "start_time": "2023-02-26T23:12:50.539Z"
   },
   {
    "duration": 73,
    "start_time": "2023-02-26T23:12:50.571Z"
   },
   {
    "duration": 235,
    "start_time": "2023-02-26T23:12:50.646Z"
   },
   {
    "duration": 9,
    "start_time": "2023-02-26T23:12:50.883Z"
   },
   {
    "duration": 24,
    "start_time": "2023-02-26T23:12:50.893Z"
   },
   {
    "duration": 28,
    "start_time": "2023-02-26T23:12:50.918Z"
   },
   {
    "duration": 118,
    "start_time": "2023-02-26T23:12:50.947Z"
   },
   {
    "duration": 8,
    "start_time": "2023-02-26T23:12:51.067Z"
   },
   {
    "duration": 161,
    "start_time": "2023-02-26T23:12:51.077Z"
   },
   {
    "duration": 11,
    "start_time": "2023-02-26T23:12:51.240Z"
   },
   {
    "duration": 171,
    "start_time": "2023-02-26T23:12:51.252Z"
   },
   {
    "duration": 111,
    "start_time": "2023-02-26T23:12:51.426Z"
   },
   {
    "duration": 141919,
    "start_time": "2023-02-26T23:12:51.539Z"
   },
   {
    "duration": 3,
    "start_time": "2023-02-26T23:15:13.460Z"
   },
   {
    "duration": 21,
    "start_time": "2023-02-26T23:15:13.464Z"
   },
   {
    "duration": 32,
    "start_time": "2023-02-26T23:15:13.487Z"
   },
   {
    "duration": 2012,
    "start_time": "2023-02-26T23:15:13.521Z"
   },
   {
    "duration": 200,
    "start_time": "2023-02-26T23:15:15.537Z"
   },
   {
    "duration": 245,
    "start_time": "2023-02-26T23:15:15.739Z"
   },
   {
    "duration": 189,
    "start_time": "2023-02-26T23:15:15.986Z"
   },
   {
    "duration": 7,
    "start_time": "2023-02-26T23:15:16.177Z"
   },
   {
    "duration": 14,
    "start_time": "2023-02-26T23:15:16.186Z"
   },
   {
    "duration": 2225,
    "start_time": "2023-02-26T23:15:16.202Z"
   },
   {
    "duration": 214,
    "start_time": "2023-02-26T23:15:18.428Z"
   },
   {
    "duration": 3,
    "start_time": "2023-02-26T23:17:31.436Z"
   },
   {
    "duration": 75365,
    "start_time": "2023-02-26T23:17:52.158Z"
   },
   {
    "duration": 3,
    "start_time": "2023-02-26T23:20:28.474Z"
   },
   {
    "duration": 961,
    "start_time": "2023-02-26T23:21:47.082Z"
   },
   {
    "duration": 1926,
    "start_time": "2023-02-26T23:22:49.656Z"
   },
   {
    "duration": 1127,
    "start_time": "2023-02-26T23:23:15.017Z"
   },
   {
    "duration": 1008,
    "start_time": "2023-02-26T23:24:28.736Z"
   },
   {
    "duration": 45,
    "start_time": "2023-02-26T23:25:44.331Z"
   },
   {
    "duration": 10727,
    "start_time": "2023-02-27T11:34:46.504Z"
   },
   {
    "duration": 1374,
    "start_time": "2023-02-27T11:34:57.233Z"
   },
   {
    "duration": 106,
    "start_time": "2023-02-27T11:34:58.609Z"
   },
   {
    "duration": 11,
    "start_time": "2023-02-27T11:34:58.717Z"
   },
   {
    "duration": 8,
    "start_time": "2023-02-27T11:34:58.730Z"
   },
   {
    "duration": 18,
    "start_time": "2023-02-27T11:34:58.740Z"
   },
   {
    "duration": 13,
    "start_time": "2023-02-27T11:34:58.760Z"
   },
   {
    "duration": 45,
    "start_time": "2023-02-27T11:34:58.775Z"
   },
   {
    "duration": 18,
    "start_time": "2023-02-27T11:34:58.821Z"
   },
   {
    "duration": 21,
    "start_time": "2023-02-27T11:34:58.842Z"
   },
   {
    "duration": 40,
    "start_time": "2023-02-27T11:34:58.865Z"
   },
   {
    "duration": 53,
    "start_time": "2023-02-27T11:34:58.906Z"
   },
   {
    "duration": 5,
    "start_time": "2023-02-27T11:34:58.961Z"
   },
   {
    "duration": 22,
    "start_time": "2023-02-27T11:34:58.968Z"
   },
   {
    "duration": 5,
    "start_time": "2023-02-27T11:34:58.992Z"
   },
   {
    "duration": 11,
    "start_time": "2023-02-27T11:34:58.999Z"
   },
   {
    "duration": 26,
    "start_time": "2023-02-27T11:34:59.011Z"
   },
   {
    "duration": 6,
    "start_time": "2023-02-27T11:34:59.039Z"
   },
   {
    "duration": 26,
    "start_time": "2023-02-27T11:34:59.047Z"
   },
   {
    "duration": 12,
    "start_time": "2023-02-27T11:34:59.074Z"
   },
   {
    "duration": 40,
    "start_time": "2023-02-27T11:34:59.095Z"
   },
   {
    "duration": 35,
    "start_time": "2023-02-27T11:34:59.137Z"
   },
   {
    "duration": 143,
    "start_time": "2023-02-27T11:34:59.175Z"
   },
   {
    "duration": 66,
    "start_time": "2023-02-27T11:34:59.320Z"
   },
   {
    "duration": 14324,
    "start_time": "2023-02-27T11:34:59.388Z"
   },
   {
    "duration": 5,
    "start_time": "2023-02-27T11:35:13.714Z"
   },
   {
    "duration": 25,
    "start_time": "2023-02-27T11:35:13.720Z"
   },
   {
    "duration": 136,
    "start_time": "2023-02-27T11:35:13.748Z"
   },
   {
    "duration": 273,
    "start_time": "2023-02-27T11:35:13.887Z"
   },
   {
    "duration": 239,
    "start_time": "2023-02-27T11:35:14.162Z"
   },
   {
    "duration": 7,
    "start_time": "2023-02-27T11:35:14.402Z"
   },
   {
    "duration": 28,
    "start_time": "2023-02-27T11:35:14.410Z"
   },
   {
    "duration": 55,
    "start_time": "2023-02-27T11:35:14.439Z"
   },
   {
    "duration": 173,
    "start_time": "2023-02-27T11:35:14.499Z"
   },
   {
    "duration": 20,
    "start_time": "2023-02-27T11:35:14.674Z"
   },
   {
    "duration": 27,
    "start_time": "2023-02-27T11:35:14.697Z"
   },
   {
    "duration": 8,
    "start_time": "2023-02-27T11:35:14.726Z"
   },
   {
    "duration": 117,
    "start_time": "2023-02-27T11:35:14.735Z"
   },
   {
    "duration": 8,
    "start_time": "2023-02-27T11:35:14.853Z"
   },
   {
    "duration": 36,
    "start_time": "2023-02-27T11:35:14.863Z"
   },
   {
    "duration": 92,
    "start_time": "2023-02-27T11:35:14.900Z"
   },
   {
    "duration": 260,
    "start_time": "2023-02-27T11:35:15.001Z"
   },
   {
    "duration": 40,
    "start_time": "2023-02-27T11:35:15.263Z"
   },
   {
    "duration": 78287,
    "start_time": "2023-02-27T11:35:15.307Z"
   },
   {
    "duration": 6,
    "start_time": "2023-02-27T11:36:33.597Z"
   },
   {
    "duration": 160,
    "start_time": "2023-02-27T11:36:33.605Z"
   },
   {
    "duration": 0,
    "start_time": "2023-02-27T11:36:33.766Z"
   },
   {
    "duration": 0,
    "start_time": "2023-02-27T11:36:33.767Z"
   },
   {
    "duration": 0,
    "start_time": "2023-02-27T11:36:33.768Z"
   },
   {
    "duration": 0,
    "start_time": "2023-02-27T11:36:33.769Z"
   },
   {
    "duration": 0,
    "start_time": "2023-02-27T11:36:33.770Z"
   },
   {
    "duration": 0,
    "start_time": "2023-02-27T11:36:33.771Z"
   },
   {
    "duration": 0,
    "start_time": "2023-02-27T11:36:33.772Z"
   },
   {
    "duration": 0,
    "start_time": "2023-02-27T11:36:33.773Z"
   },
   {
    "duration": 31,
    "start_time": "2023-02-27T11:47:15.458Z"
   },
   {
    "duration": 905,
    "start_time": "2023-02-27T11:47:30.883Z"
   },
   {
    "duration": 1013,
    "start_time": "2023-02-27T11:47:51.680Z"
   },
   {
    "duration": 28,
    "start_time": "2023-02-27T11:50:43.797Z"
   },
   {
    "duration": 40,
    "start_time": "2023-02-27T12:05:49.969Z"
   },
   {
    "duration": 80467,
    "start_time": "2023-02-27T12:13:31.231Z"
   },
   {
    "duration": 997,
    "start_time": "2023-02-27T12:16:04.297Z"
   },
   {
    "duration": 94,
    "start_time": "2023-02-27T12:16:05.297Z"
   },
   {
    "duration": 892,
    "start_time": "2023-02-27T12:19:03.924Z"
   },
   {
    "duration": 1068,
    "start_time": "2023-02-27T12:19:23.971Z"
   },
   {
    "duration": 6,
    "start_time": "2023-02-27T12:19:30.450Z"
   },
   {
    "duration": 10,
    "start_time": "2023-02-27T12:19:31.529Z"
   },
   {
    "duration": 2191,
    "start_time": "2023-02-27T12:19:42.319Z"
   }
  ],
  "kernelspec": {
   "display_name": "Python 3 (ipykernel)",
   "language": "python",
   "name": "python3"
  },
  "language_info": {
   "codemirror_mode": {
    "name": "ipython",
    "version": 3
   },
   "file_extension": ".py",
   "mimetype": "text/x-python",
   "name": "python",
   "nbconvert_exporter": "python",
   "pygments_lexer": "ipython3",
   "version": "3.9.5"
  },
  "toc": {
   "base_numbering": 1,
   "nav_menu": {},
   "number_sections": true,
   "sideBar": true,
   "skip_h1_title": true,
   "title_cell": "Содержание",
   "title_sidebar": "Contents",
   "toc_cell": true,
   "toc_position": {},
   "toc_section_display": true,
   "toc_window_display": false
  }
 },
 "nbformat": 4,
 "nbformat_minor": 2
}
