{
 "cells": [
  {
   "cell_type": "markdown",
   "metadata": {},
   "source": [
    "<div style=\"border:solid purple 2px; padding: 20px\"> \n",
    "\n",
    "Привет Айгуль! 👋\n",
    "\n",
    "Меня зовут Рустам Муртазин, и я буду делать ревью твоей работы. Давай будем общаться на **«ты»**. Если это неприемлемо, обязательно напиши мне в комментариях — мы перейдем на **«вы»**.\n",
    "\n",
    "Я не хочу указавать тебе на совершенные тобою ошибки, а хочу поделиться своим опытом и помочь тебе стать настоящим профессионалом и сделать проект еще лучше.\n",
    "\n",
    "Обрати внимание в первую очередь на те, что помечаны <span style=\"color:red\">красным цветом</span>. После их доработки проект будет принят. <span style=\"color:green\">Зеленым цветом</span> отмечены удачные и элегантные решения, на которые можно опираться в будущих проектах. <span style=\"color:orange\">Оранжевым цветом</span> выделено то, что в следующий раз можно сделать по-другому. Ты можешь учесть эти комментарии при выполнении будущих заданий или доработать проект сейчас (однако это не обязательно). Также в проекте могут быть небольшие «лайфхаки» по Python, не относящиеся к проекту, их я выделил фиолетовым цветом)\n",
    "\n",
    "Давай работать над проектом в диалоге: если ты **что-то меняешь** в проекте по моим рекомендациям — **пиши об этом**. Выбери для своих комментариев какой-то заметный цвет, так мне будет легче отследить изменения. Пожалуйста, **не перемещай, не изменяй и не удаляй мои комментарии**. Всё это поможет выполнить повторную проверку твоего проекта оперативнее».\n",
    "\n",
    "Мне понравился твой проект, есть пару замечаний, но их не много, я думаю ты быстро справишься. Жду твою работу на повторное ревью :)"
   ]
  },
  {
   "cell_type": "markdown",
   "metadata": {
    "toc": true
   },
   "source": [
    "<h1>Table of Contents<span class=\"tocSkip\"></span></h1>\n",
    "<div class=\"toc\"><ul class=\"toc-item\"><li><span><a href=\"#Загрузка-и-подготовка-данных\" data-toc-modified-id=\"Загрузка-и-подготовка-данных-1\"><span class=\"toc-item-num\">1&nbsp;&nbsp;</span>Загрузка и подготовка данных</a></span></li><li><span><a href=\"#Обучение-и-проверка-модели\" data-toc-modified-id=\"Обучение-и-проверка-модели-2\"><span class=\"toc-item-num\">2&nbsp;&nbsp;</span>Обучение и проверка модели</a></span></li><li><span><a href=\"#Подготовка-к-расчёту-прибыли\" data-toc-modified-id=\"Подготовка-к-расчёту-прибыли-3\"><span class=\"toc-item-num\">3&nbsp;&nbsp;</span>Подготовка к расчёту прибыли</a></span><ul class=\"toc-item\"><li><span><a href=\"#Расчет-объёма-сырья-для-безубыточной-разработки.\" data-toc-modified-id=\"Расчет-объёма-сырья-для-безубыточной-разработки.-3.1\"><span class=\"toc-item-num\">3.1&nbsp;&nbsp;</span>Расчет объёма сырья для безубыточной разработки.</a></span></li></ul></li><li><span><a href=\"#Расчёт-прибыли-и-рисков\" data-toc-modified-id=\"Расчёт-прибыли-и-рисков-4\"><span class=\"toc-item-num\">4&nbsp;&nbsp;</span>Расчёт прибыли и рисков</a></span></li><li><span><a href=\"#Чек-лист-готовности-проекта\" data-toc-modified-id=\"Чек-лист-готовности-проекта-5\"><span class=\"toc-item-num\">5&nbsp;&nbsp;</span>Чек-лист готовности проекта</a></span></li></ul></div>"
   ]
  },
  {
   "cell_type": "markdown",
   "metadata": {},
   "source": [
    "# Выбор локации для скважины"
   ]
  },
  {
   "cell_type": "markdown",
   "metadata": {},
   "source": [
    "Допустим, вы работаете в добывающей компании «ГлавРосГосНефть». Нужно решить, где бурить новую скважину.\n",
    "\n",
    "Вам предоставлены пробы нефти в трёх регионах: в каждом 10 000 месторождений, где измерили качество нефти и объём её запасов. Постройте модель машинного обучения, которая поможет определить регион, где добыча принесёт наибольшую прибыль. Проанализируйте возможную прибыль и риски техникой *Bootstrap.*\n",
    "\n",
    "Шаги для выбора локации:\n",
    "\n",
    "- В избранном регионе ищут месторождения, для каждого определяют значения признаков;\n",
    "- Строят модель и оценивают объём запасов;\n",
    "- Выбирают месторождения с самым высокими оценками значений. Количество месторождений зависит от бюджета компании и стоимости разработки одной скважины;\n",
    "- Прибыль равна суммарной прибыли отобранных месторождений."
   ]
  },
  {
   "cell_type": "markdown",
   "metadata": {},
   "source": [
    "## Загрузка и подготовка данных"
   ]
  },
  {
   "cell_type": "code",
   "execution_count": 241,
   "metadata": {},
   "outputs": [],
   "source": [
    "import numpy as np \n",
    "import pandas as pd\n",
    "from scipy import stats as st\n",
    "from sklearn.model_selection import train_test_split\n",
    "from sklearn.preprocessing import StandardScaler\n",
    "from sklearn.linear_model import LinearRegression\n",
    "from sklearn.metrics import r2_score\n",
    "import seaborn as sns\n",
    "\n",
    "import matplotlib.pyplot as plt\n",
    "import matplotlib.mlab as mlab\n",
    "import matplotlib\n",
    "plt.style.use('ggplot')\n",
    "from matplotlib.pyplot import figure\n",
    "\n",
    "%matplotlib inline\n",
    "matplotlib.rcParams['figure.figsize'] = (12,8)\n",
    "\n",
    "pd.options.mode.chained_assignment = None\n",
    "from sklearn.metrics import mean_squared_error\n",
    "import warnings\n",
    "warnings.filterwarnings(\"ignore\")"
   ]
  },
  {
   "cell_type": "code",
   "execution_count": 242,
   "metadata": {},
   "outputs": [],
   "source": [
    "data_1 = pd.read_csv('/datasets/geo_data_0.csv')\n",
    "data_2 = pd.read_csv('/datasets/geo_data_1.csv')\n",
    "data_3 = pd.read_csv('/datasets/geo_data_2.csv')"
   ]
  },
  {
   "cell_type": "code",
   "execution_count": 250,
   "metadata": {},
   "outputs": [
    {
     "name": "stdout",
     "output_type": "stream",
     "text": [
      "      id        f0        f1        f2     product\n",
      "0  txEyH  0.705745 -0.497823  1.221170  105.280062\n",
      "1  2acmU  1.334711 -0.340164  4.365080   73.037750\n",
      "2  409Wp  1.022732  0.151990  1.419926   85.265647\n",
      "3  iJLyR -0.032172  0.139033  2.978566  168.620776\n",
      "4  Xdl7t  1.988431  0.155413  4.751769  154.036647\n",
      "<class 'pandas.core.frame.DataFrame'>\n",
      "RangeIndex: 100000 entries, 0 to 99999\n",
      "Data columns (total 5 columns):\n",
      " #   Column   Non-Null Count   Dtype  \n",
      "---  ------   --------------   -----  \n",
      " 0   id       100000 non-null  object \n",
      " 1   f0       100000 non-null  float64\n",
      " 2   f1       100000 non-null  float64\n",
      " 3   f2       100000 non-null  float64\n",
      " 4   product  100000 non-null  float64\n",
      "dtypes: float64(4), object(1)\n",
      "memory usage: 3.8+ MB\n",
      "None\n",
      "      id         f0         f1        f2     product\n",
      "0  kBEdx -15.001348  -8.276000 -0.005876    3.179103\n",
      "1  62mP7  14.272088  -3.475083  0.999183   26.953261\n",
      "2  vyE1P   6.263187  -5.948386  5.001160  134.766305\n",
      "3  KcrkZ -13.081196 -11.506057  4.999415  137.945408\n",
      "4  AHL4O  12.702195  -8.147433  5.004363  134.766305\n",
      "<class 'pandas.core.frame.DataFrame'>\n",
      "RangeIndex: 100000 entries, 0 to 99999\n",
      "Data columns (total 5 columns):\n",
      " #   Column   Non-Null Count   Dtype  \n",
      "---  ------   --------------   -----  \n",
      " 0   id       100000 non-null  object \n",
      " 1   f0       100000 non-null  float64\n",
      " 2   f1       100000 non-null  float64\n",
      " 3   f2       100000 non-null  float64\n",
      " 4   product  100000 non-null  float64\n",
      "dtypes: float64(4), object(1)\n",
      "memory usage: 3.8+ MB\n",
      "None\n",
      "      id        f0        f1        f2     product\n",
      "0  fwXo0 -1.146987  0.963328 -0.828965   27.758673\n",
      "1  WJtFt  0.262778  0.269839 -2.530187   56.069697\n",
      "2  ovLUW  0.194587  0.289035 -5.586433   62.871910\n",
      "3  q6cA6  2.236060 -0.553760  0.930038  114.572842\n",
      "4  WPMUX -0.515993  1.716266  5.899011  149.600746\n",
      "<class 'pandas.core.frame.DataFrame'>\n",
      "RangeIndex: 100000 entries, 0 to 99999\n",
      "Data columns (total 5 columns):\n",
      " #   Column   Non-Null Count   Dtype  \n",
      "---  ------   --------------   -----  \n",
      " 0   id       100000 non-null  object \n",
      " 1   f0       100000 non-null  float64\n",
      " 2   f1       100000 non-null  float64\n",
      " 3   f2       100000 non-null  float64\n",
      " 4   product  100000 non-null  float64\n",
      "dtypes: float64(4), object(1)\n",
      "memory usage: 3.8+ MB\n",
      "None\n"
     ]
    }
   ],
   "source": [
    "cols = [data_1, data_2, data_3]\n",
    "def inf_head(data):\n",
    "    for col in cols:\n",
    "        print(col.head())\n",
    "        print(col.info())\n",
    "inf_head(cols)"
   ]
  },
  {
   "cell_type": "markdown",
   "metadata": {},
   "source": [
    "<div class=\"alert alert-warning\">\n",
    "<h2> Комментарий ревьюера ⚠️ <a class=\"tocSkip\"> </h2>\n",
    "\n",
    "В данном проекте мы работаем с данными одинаковой природы, а это значит, что большинство расчетов для регионов будут повторяться. Это отличная возможность потренироваться над оптимизацией кода. Например, вот здесь. Первичное знакомство с данными можно было реализовать в функции и вызывать эту функцию для каждого из датафреймов (в цикле в идеале)"
   ]
  },
  {
   "cell_type": "markdown",
   "metadata": {},
   "source": [
    "<div class=\"alert alert-info\">\n",
    "<font size=\"4\", color = \"black\"><b>✍ Комментарий студента</b></font>\n",
    "    <br /> \n",
    "    <font size=\"3\", color = \"black\">\n",
    "<br /> Исправила.\n",
    "        "
   ]
  },
  {
   "cell_type": "code",
   "execution_count": null,
   "metadata": {},
   "outputs": [],
   "source": [
    "[display(data.head()) for data in [data_1, data_2, data_3]];"
   ]
  },
  {
   "cell_type": "code",
   "execution_count": 203,
   "metadata": {},
   "outputs": [
    {
     "name": "stdout",
     "output_type": "stream",
     "text": [
      "[id         0\n",
      "f0         0\n",
      "f1         0\n",
      "f2         0\n",
      "product    0\n",
      "dtype: int64, id         0\n",
      "f0         0\n",
      "f1         0\n",
      "f2         0\n",
      "product    0\n",
      "dtype: int64, id         0\n",
      "f0         0\n",
      "f1         0\n",
      "f2         0\n",
      "product    0\n",
      "dtype: int64]\n"
     ]
    }
   ],
   "source": [
    "print([data.isna().sum() for data in [data_1, data_2, data_3]])"
   ]
  },
  {
   "cell_type": "code",
   "execution_count": 204,
   "metadata": {},
   "outputs": [
    {
     "name": "stdout",
     "output_type": "stream",
     "text": [
      "0\n",
      "0\n",
      "0\n"
     ]
    }
   ],
   "source": [
    "data_all=[data_1, data_2, data_3]\n",
    "for data in data_all:\n",
    "    print(data.duplicated().sum())"
   ]
  },
  {
   "cell_type": "code",
   "execution_count": 205,
   "metadata": {},
   "outputs": [
    {
     "name": "stdout",
     "output_type": "stream",
     "text": [
      "10\n",
      "4\n",
      "4\n"
     ]
    }
   ],
   "source": [
    "\n",
    "for data in data_all:\n",
    "    print(data.duplicated(subset = ['id']).sum())"
   ]
  },
  {
   "cell_type": "code",
   "execution_count": 206,
   "metadata": {},
   "outputs": [
    {
     "data": {
      "text/html": [
       "<div>\n",
       "<style scoped>\n",
       "    .dataframe tbody tr th:only-of-type {\n",
       "        vertical-align: middle;\n",
       "    }\n",
       "\n",
       "    .dataframe tbody tr th {\n",
       "        vertical-align: top;\n",
       "    }\n",
       "\n",
       "    .dataframe thead th {\n",
       "        text-align: right;\n",
       "    }\n",
       "</style>\n",
       "<table border=\"1\" class=\"dataframe\">\n",
       "  <thead>\n",
       "    <tr style=\"text-align: right;\">\n",
       "      <th></th>\n",
       "      <th>id</th>\n",
       "      <th>f0</th>\n",
       "      <th>f1</th>\n",
       "      <th>f2</th>\n",
       "      <th>product</th>\n",
       "    </tr>\n",
       "  </thead>\n",
       "  <tbody>\n",
       "    <tr>\n",
       "      <th>7530</th>\n",
       "      <td>HZww2</td>\n",
       "      <td>1.061194</td>\n",
       "      <td>-0.373969</td>\n",
       "      <td>10.430210</td>\n",
       "      <td>158.828695</td>\n",
       "    </tr>\n",
       "    <tr>\n",
       "      <th>41724</th>\n",
       "      <td>bxg6G</td>\n",
       "      <td>-0.823752</td>\n",
       "      <td>0.546319</td>\n",
       "      <td>3.630479</td>\n",
       "      <td>93.007798</td>\n",
       "    </tr>\n",
       "    <tr>\n",
       "      <th>51970</th>\n",
       "      <td>A5aEY</td>\n",
       "      <td>-0.180335</td>\n",
       "      <td>0.935548</td>\n",
       "      <td>-2.094773</td>\n",
       "      <td>33.020205</td>\n",
       "    </tr>\n",
       "    <tr>\n",
       "      <th>63593</th>\n",
       "      <td>QcMuo</td>\n",
       "      <td>0.635635</td>\n",
       "      <td>-0.473422</td>\n",
       "      <td>0.862670</td>\n",
       "      <td>64.578675</td>\n",
       "    </tr>\n",
       "    <tr>\n",
       "      <th>66136</th>\n",
       "      <td>74z30</td>\n",
       "      <td>1.084962</td>\n",
       "      <td>-0.312358</td>\n",
       "      <td>6.990771</td>\n",
       "      <td>127.643327</td>\n",
       "    </tr>\n",
       "    <tr>\n",
       "      <th>69163</th>\n",
       "      <td>AGS9W</td>\n",
       "      <td>-0.933795</td>\n",
       "      <td>0.116194</td>\n",
       "      <td>-3.655896</td>\n",
       "      <td>19.230453</td>\n",
       "    </tr>\n",
       "    <tr>\n",
       "      <th>75715</th>\n",
       "      <td>Tdehs</td>\n",
       "      <td>0.112079</td>\n",
       "      <td>0.430296</td>\n",
       "      <td>3.218993</td>\n",
       "      <td>60.964018</td>\n",
       "    </tr>\n",
       "    <tr>\n",
       "      <th>90815</th>\n",
       "      <td>fiKDv</td>\n",
       "      <td>0.049883</td>\n",
       "      <td>0.841313</td>\n",
       "      <td>6.394613</td>\n",
       "      <td>137.346586</td>\n",
       "    </tr>\n",
       "    <tr>\n",
       "      <th>92341</th>\n",
       "      <td>TtcGQ</td>\n",
       "      <td>0.110711</td>\n",
       "      <td>1.022689</td>\n",
       "      <td>0.911381</td>\n",
       "      <td>101.318008</td>\n",
       "    </tr>\n",
       "    <tr>\n",
       "      <th>97785</th>\n",
       "      <td>bsk9y</td>\n",
       "      <td>0.378429</td>\n",
       "      <td>0.005837</td>\n",
       "      <td>0.160827</td>\n",
       "      <td>160.637302</td>\n",
       "    </tr>\n",
       "  </tbody>\n",
       "</table>\n",
       "</div>"
      ],
      "text/plain": [
       "          id        f0        f1         f2     product\n",
       "7530   HZww2  1.061194 -0.373969  10.430210  158.828695\n",
       "41724  bxg6G -0.823752  0.546319   3.630479   93.007798\n",
       "51970  A5aEY -0.180335  0.935548  -2.094773   33.020205\n",
       "63593  QcMuo  0.635635 -0.473422   0.862670   64.578675\n",
       "66136  74z30  1.084962 -0.312358   6.990771  127.643327\n",
       "69163  AGS9W -0.933795  0.116194  -3.655896   19.230453\n",
       "75715  Tdehs  0.112079  0.430296   3.218993   60.964018\n",
       "90815  fiKDv  0.049883  0.841313   6.394613  137.346586\n",
       "92341  TtcGQ  0.110711  1.022689   0.911381  101.318008\n",
       "97785  bsk9y  0.378429  0.005837   0.160827  160.637302"
      ]
     },
     "execution_count": 206,
     "metadata": {},
     "output_type": "execute_result"
    }
   ],
   "source": [
    "data_1[data_1.duplicated(subset = ['id'])]"
   ]
  },
  {
   "cell_type": "markdown",
   "metadata": {},
   "source": [
    "<div class=\"alert alert-success\">\n",
    "<h2> Комментарий ревьюера ✔️ <a class=\"tocSkip\"> </h2>\n",
    "\n",
    "По некоторым скважинам информация дублируется, возможно, произошел какой-то баг при записи данных в базу, а возможно и нет. В любом случае, данный момент нужно уточнять у заказчика. Я бы вынес его отдельно, в конец проекта, например"
   ]
  },
  {
   "cell_type": "markdown",
   "metadata": {},
   "source": [
    "Ошибка из-за невнимательности. Все исправила."
   ]
  },
  {
   "cell_type": "code",
   "execution_count": 207,
   "metadata": {},
   "outputs": [
    {
     "data": {
      "text/html": [
       "<div>\n",
       "<style scoped>\n",
       "    .dataframe tbody tr th:only-of-type {\n",
       "        vertical-align: middle;\n",
       "    }\n",
       "\n",
       "    .dataframe tbody tr th {\n",
       "        vertical-align: top;\n",
       "    }\n",
       "\n",
       "    .dataframe thead th {\n",
       "        text-align: right;\n",
       "    }\n",
       "</style>\n",
       "<table border=\"1\" class=\"dataframe\">\n",
       "  <thead>\n",
       "    <tr style=\"text-align: right;\">\n",
       "      <th></th>\n",
       "      <th>id</th>\n",
       "      <th>f0</th>\n",
       "      <th>f1</th>\n",
       "      <th>f2</th>\n",
       "      <th>product</th>\n",
       "    </tr>\n",
       "  </thead>\n",
       "  <tbody>\n",
       "    <tr>\n",
       "      <th>41906</th>\n",
       "      <td>LHZR0</td>\n",
       "      <td>-8.989672</td>\n",
       "      <td>-4.286607</td>\n",
       "      <td>2.009139</td>\n",
       "      <td>57.085625</td>\n",
       "    </tr>\n",
       "    <tr>\n",
       "      <th>82178</th>\n",
       "      <td>bfPNe</td>\n",
       "      <td>-6.202799</td>\n",
       "      <td>-4.820045</td>\n",
       "      <td>2.995107</td>\n",
       "      <td>84.038886</td>\n",
       "    </tr>\n",
       "    <tr>\n",
       "      <th>82873</th>\n",
       "      <td>wt4Uk</td>\n",
       "      <td>10.259972</td>\n",
       "      <td>-9.376355</td>\n",
       "      <td>4.994297</td>\n",
       "      <td>134.766305</td>\n",
       "    </tr>\n",
       "    <tr>\n",
       "      <th>84461</th>\n",
       "      <td>5ltQ6</td>\n",
       "      <td>18.213839</td>\n",
       "      <td>2.191999</td>\n",
       "      <td>3.993869</td>\n",
       "      <td>107.813044</td>\n",
       "    </tr>\n",
       "  </tbody>\n",
       "</table>\n",
       "</div>"
      ],
      "text/plain": [
       "          id         f0        f1        f2     product\n",
       "41906  LHZR0  -8.989672 -4.286607  2.009139   57.085625\n",
       "82178  bfPNe  -6.202799 -4.820045  2.995107   84.038886\n",
       "82873  wt4Uk  10.259972 -9.376355  4.994297  134.766305\n",
       "84461  5ltQ6  18.213839  2.191999  3.993869  107.813044"
      ]
     },
     "execution_count": 207,
     "metadata": {},
     "output_type": "execute_result"
    }
   ],
   "source": [
    "data_2[data_2.duplicated(subset = ['id'])]"
   ]
  },
  {
   "cell_type": "code",
   "execution_count": 208,
   "metadata": {},
   "outputs": [
    {
     "data": {
      "text/html": [
       "<div>\n",
       "<style scoped>\n",
       "    .dataframe tbody tr th:only-of-type {\n",
       "        vertical-align: middle;\n",
       "    }\n",
       "\n",
       "    .dataframe tbody tr th {\n",
       "        vertical-align: top;\n",
       "    }\n",
       "\n",
       "    .dataframe thead th {\n",
       "        text-align: right;\n",
       "    }\n",
       "</style>\n",
       "<table border=\"1\" class=\"dataframe\">\n",
       "  <thead>\n",
       "    <tr style=\"text-align: right;\">\n",
       "      <th></th>\n",
       "      <th>id</th>\n",
       "      <th>f0</th>\n",
       "      <th>f1</th>\n",
       "      <th>f2</th>\n",
       "      <th>product</th>\n",
       "    </tr>\n",
       "  </thead>\n",
       "  <tbody>\n",
       "    <tr>\n",
       "      <th>43233</th>\n",
       "      <td>xCHr8</td>\n",
       "      <td>-0.847066</td>\n",
       "      <td>2.101796</td>\n",
       "      <td>5.597130</td>\n",
       "      <td>184.388641</td>\n",
       "    </tr>\n",
       "    <tr>\n",
       "      <th>49564</th>\n",
       "      <td>VF7Jo</td>\n",
       "      <td>-0.883115</td>\n",
       "      <td>0.560537</td>\n",
       "      <td>0.723601</td>\n",
       "      <td>136.233420</td>\n",
       "    </tr>\n",
       "    <tr>\n",
       "      <th>55967</th>\n",
       "      <td>KUPhW</td>\n",
       "      <td>1.211150</td>\n",
       "      <td>3.176408</td>\n",
       "      <td>5.543540</td>\n",
       "      <td>132.831802</td>\n",
       "    </tr>\n",
       "    <tr>\n",
       "      <th>95090</th>\n",
       "      <td>Vcm5J</td>\n",
       "      <td>2.587702</td>\n",
       "      <td>1.986875</td>\n",
       "      <td>2.482245</td>\n",
       "      <td>92.327572</td>\n",
       "    </tr>\n",
       "  </tbody>\n",
       "</table>\n",
       "</div>"
      ],
      "text/plain": [
       "          id        f0        f1        f2     product\n",
       "43233  xCHr8 -0.847066  2.101796  5.597130  184.388641\n",
       "49564  VF7Jo -0.883115  0.560537  0.723601  136.233420\n",
       "55967  KUPhW  1.211150  3.176408  5.543540  132.831802\n",
       "95090  Vcm5J  2.587702  1.986875  2.482245   92.327572"
      ]
     },
     "execution_count": 208,
     "metadata": {},
     "output_type": "execute_result"
    }
   ],
   "source": [
    "data_3[data_3.duplicated(subset = ['id'])]"
   ]
  },
  {
   "cell_type": "code",
   "execution_count": 209,
   "metadata": {},
   "outputs": [
    {
     "data": {
      "text/html": [
       "<div>\n",
       "<style scoped>\n",
       "    .dataframe tbody tr th:only-of-type {\n",
       "        vertical-align: middle;\n",
       "    }\n",
       "\n",
       "    .dataframe tbody tr th {\n",
       "        vertical-align: top;\n",
       "    }\n",
       "\n",
       "    .dataframe thead th {\n",
       "        text-align: right;\n",
       "    }\n",
       "</style>\n",
       "<table border=\"1\" class=\"dataframe\">\n",
       "  <thead>\n",
       "    <tr style=\"text-align: right;\">\n",
       "      <th></th>\n",
       "      <th>f0</th>\n",
       "      <th>f1</th>\n",
       "      <th>f2</th>\n",
       "      <th>product</th>\n",
       "    </tr>\n",
       "  </thead>\n",
       "  <tbody>\n",
       "    <tr>\n",
       "      <th>f0</th>\n",
       "      <td>1.00000</td>\n",
       "      <td>-0.44072</td>\n",
       "      <td>-0.00315</td>\n",
       "      <td>0.14354</td>\n",
       "    </tr>\n",
       "    <tr>\n",
       "      <th>f1</th>\n",
       "      <td>-0.44072</td>\n",
       "      <td>1.00000</td>\n",
       "      <td>0.00172</td>\n",
       "      <td>-0.19236</td>\n",
       "    </tr>\n",
       "    <tr>\n",
       "      <th>f2</th>\n",
       "      <td>-0.00315</td>\n",
       "      <td>0.00172</td>\n",
       "      <td>1.00000</td>\n",
       "      <td>0.48366</td>\n",
       "    </tr>\n",
       "  </tbody>\n",
       "</table>\n",
       "</div>"
      ],
      "text/plain": [
       "         f0       f1       f2  product\n",
       "f0  1.00000 -0.44072 -0.00315  0.14354\n",
       "f1 -0.44072  1.00000  0.00172 -0.19236\n",
       "f2 -0.00315  0.00172  1.00000  0.48366"
      ]
     },
     "metadata": {},
     "output_type": "display_data"
    },
    {
     "data": {
      "text/html": [
       "<div>\n",
       "<style scoped>\n",
       "    .dataframe tbody tr th:only-of-type {\n",
       "        vertical-align: middle;\n",
       "    }\n",
       "\n",
       "    .dataframe tbody tr th {\n",
       "        vertical-align: top;\n",
       "    }\n",
       "\n",
       "    .dataframe thead th {\n",
       "        text-align: right;\n",
       "    }\n",
       "</style>\n",
       "<table border=\"1\" class=\"dataframe\">\n",
       "  <thead>\n",
       "    <tr style=\"text-align: right;\">\n",
       "      <th></th>\n",
       "      <th>f0</th>\n",
       "      <th>f1</th>\n",
       "      <th>f2</th>\n",
       "      <th>product</th>\n",
       "    </tr>\n",
       "  </thead>\n",
       "  <tbody>\n",
       "    <tr>\n",
       "      <th>f0</th>\n",
       "      <td>1.00000</td>\n",
       "      <td>0.18229</td>\n",
       "      <td>-0.00178</td>\n",
       "      <td>-0.03049</td>\n",
       "    </tr>\n",
       "    <tr>\n",
       "      <th>f1</th>\n",
       "      <td>0.18229</td>\n",
       "      <td>1.00000</td>\n",
       "      <td>-0.00260</td>\n",
       "      <td>-0.01015</td>\n",
       "    </tr>\n",
       "    <tr>\n",
       "      <th>f2</th>\n",
       "      <td>-0.00178</td>\n",
       "      <td>-0.00260</td>\n",
       "      <td>1.00000</td>\n",
       "      <td>0.99940</td>\n",
       "    </tr>\n",
       "  </tbody>\n",
       "</table>\n",
       "</div>"
      ],
      "text/plain": [
       "         f0       f1       f2  product\n",
       "f0  1.00000  0.18229 -0.00178 -0.03049\n",
       "f1  0.18229  1.00000 -0.00260 -0.01015\n",
       "f2 -0.00178 -0.00260  1.00000  0.99940"
      ]
     },
     "metadata": {},
     "output_type": "display_data"
    },
    {
     "data": {
      "text/html": [
       "<div>\n",
       "<style scoped>\n",
       "    .dataframe tbody tr th:only-of-type {\n",
       "        vertical-align: middle;\n",
       "    }\n",
       "\n",
       "    .dataframe tbody tr th {\n",
       "        vertical-align: top;\n",
       "    }\n",
       "\n",
       "    .dataframe thead th {\n",
       "        text-align: right;\n",
       "    }\n",
       "</style>\n",
       "<table border=\"1\" class=\"dataframe\">\n",
       "  <thead>\n",
       "    <tr style=\"text-align: right;\">\n",
       "      <th></th>\n",
       "      <th>f0</th>\n",
       "      <th>f1</th>\n",
       "      <th>f2</th>\n",
       "      <th>product</th>\n",
       "    </tr>\n",
       "  </thead>\n",
       "  <tbody>\n",
       "    <tr>\n",
       "      <th>f0</th>\n",
       "      <td>1.00000</td>\n",
       "      <td>0.00053</td>\n",
       "      <td>-0.00045</td>\n",
       "      <td>-0.00199</td>\n",
       "    </tr>\n",
       "    <tr>\n",
       "      <th>f1</th>\n",
       "      <td>0.00053</td>\n",
       "      <td>1.00000</td>\n",
       "      <td>0.00078</td>\n",
       "      <td>-0.00101</td>\n",
       "    </tr>\n",
       "    <tr>\n",
       "      <th>f2</th>\n",
       "      <td>-0.00045</td>\n",
       "      <td>0.00078</td>\n",
       "      <td>1.00000</td>\n",
       "      <td>0.44587</td>\n",
       "    </tr>\n",
       "  </tbody>\n",
       "</table>\n",
       "</div>"
      ],
      "text/plain": [
       "         f0       f1       f2  product\n",
       "f0  1.00000  0.00053 -0.00045 -0.00199\n",
       "f1  0.00053  1.00000  0.00078 -0.00101\n",
       "f2 -0.00045  0.00078  1.00000  0.44587"
      ]
     },
     "metadata": {},
     "output_type": "display_data"
    }
   ],
   "source": [
    "[display(data.corr().round(5).head(3)) for data in [data_1, data_2, data_3]];"
   ]
  },
  {
   "cell_type": "markdown",
   "metadata": {},
   "source": [
    "<div class=\"alert alert-success\">\n",
    "<h2> Комментарий ревьюера ✔️ <a class=\"tocSkip\"> </h2>\n",
    "\n",
    "Очень правильное решение посмотреть корреляции. Хотя я бы еще построил диаграммы рассеивания. Признаки можно преобразовать, если есть какая-то выраженная, но нелинейная зависимость, которую мы коэффициентами корреляции Пирсона не выявим, мы можем попытаться преобразовать признаки так, чтобы получить линейную зависимость."
   ]
  },
  {
   "cell_type": "code",
   "execution_count": 210,
   "metadata": {},
   "outputs": [],
   "source": [
    "#Написала функцию которая удаляет заданый лишний признак\n",
    "def drop_col(data, column):\n",
    "    return data.drop([column], axis = 1)\n",
    "#Применили функцию на данных\n",
    "data_1 = drop_col(data_1, 'id')\n",
    "data_2 = drop_col(data_2, 'id')\n",
    "data_3 = drop_col(data_3, 'id')\n"
   ]
  },
  {
   "cell_type": "code",
   "execution_count": 211,
   "metadata": {},
   "outputs": [],
   "source": [
    "#Написала функцию для деления данных на выборки заданной размерности\n",
    "def test_split(data):\n",
    "    data_train, data_valid = train_test_split(data, test_size=0.25, random_state=12345, shuffle = True)\n",
    "    \n",
    "    return data_train, data_valid\n",
    "#Применили функцию на данных\n",
    "data_1_train, data_1_valid = test_split(data_1)\n",
    "data_2_train, data_2_valid = test_split(data_2)\n",
    "data_3_train, data_3_valid = test_split(data_3)"
   ]
  },
  {
   "cell_type": "markdown",
   "metadata": {},
   "source": [
    "<div class=\"alert alert-success\">\n",
    "<h2> Комментарий ревьюера ✔️ <a class=\"tocSkip\"> </h2>\n",
    "\n",
    "Круто, что ты фиксируешь `random_state`. Кстати, его можно задать один раз в начале проекта, например, используя любимый нами [numpy](https://pyprog.pro/random_sampling_functions/seed.html?)"
   ]
  },
  {
   "cell_type": "code",
   "execution_count": 212,
   "metadata": {},
   "outputs": [],
   "source": [
    "#Написала функцию для выделения целевого признака из данных.\n",
    "def get_target(data, col):\n",
    "    return data[col]\n",
    "\n",
    "#Написала функцию для выделения признаков кроме целевого\n",
    "def get_features(data, col):\n",
    "    return data.drop([col], axis = 1)\n",
    "\n",
    "#Написала функцию обьединяющую две предыдущие\n",
    "def featr_targt(data, target_col):\n",
    "    features_train = get_features(data, target_col)\n",
    "    target_train = get_target(data, target_col)\n",
    "    return features_train, target_train\n"
   ]
  },
  {
   "cell_type": "code",
   "execution_count": 213,
   "metadata": {},
   "outputs": [
    {
     "name": "stdout",
     "output_type": "stream",
     "text": [
      "             f0        f1        f2\n",
      "27212 -0.544828  1.390264 -0.094959\n",
      "7866   1.455912 -0.480422  1.209567\n",
      "62041  0.260460  0.825069 -0.204865\n",
      "70185 -1.837105  0.010321 -0.147634\n",
      "82230 -1.299243  0.987558  1.273181\n",
      "...         ...       ...       ...\n",
      "4094   1.567114 -1.087243 -0.272211\n",
      "85412 -1.904207 -0.525360  1.327530\n",
      "2177   0.418949 -1.296788 -0.196407\n",
      "77285  0.400077 -1.466874 -0.445317\n",
      "86498  1.746246  0.027415  2.766848\n",
      "\n",
      "[75000 rows x 3 columns] is 27212    147.370612\n",
      "7866     147.630053\n",
      "62041     77.696728\n",
      "70185     55.210501\n",
      "82230    113.891723\n",
      "            ...    \n",
      "4094     124.380793\n",
      "85412    144.874913\n",
      "2177     134.967255\n",
      "77285     64.494357\n",
      "86498    151.514894\n",
      "Name: product, Length: 75000, dtype: float64\n",
      "             f0        f1        f2\n",
      "27212 -0.850855  0.624428  0.296943\n",
      "7866   1.971935  1.832275  0.294333\n",
      "62041  1.079305  0.170127 -0.296418\n",
      "70185 -1.512028 -0.887837 -0.880471\n",
      "82230 -1.804775 -0.718311 -0.293255\n",
      "...         ...       ...       ...\n",
      "4094  -0.334573 -0.005156  0.295560\n",
      "85412  0.415280 -0.249559  0.877957\n",
      "2177   1.047070 -0.649992  1.473368\n",
      "77285 -0.114780 -1.190699  0.299156\n",
      "86498 -0.646146  0.099075  0.295611\n",
      "\n",
      "[75000 rows x 3 columns] is 27212     84.038886\n",
      "7866      80.859783\n",
      "62041     53.906522\n",
      "70185     30.132364\n",
      "82230     57.085625\n",
      "            ...    \n",
      "4094      84.038886\n",
      "85412    110.992147\n",
      "2177     134.766305\n",
      "77285     84.038886\n",
      "86498     84.038886\n",
      "Name: product, Length: 75000, dtype: float64\n",
      "             f0        f1        f2\n",
      "27212 -0.526160  0.776329 -0.400793\n",
      "7866  -0.889625 -0.404070 -1.222936\n",
      "62041 -1.133984  0.208576  0.296765\n",
      "70185  1.227045  1.570166 -0.764556\n",
      "82230 -0.194289  0.878312  0.840821\n",
      "...         ...       ...       ...\n",
      "4094  -1.815240  0.398261  1.821017\n",
      "85412 -0.274576 -1.265211  0.245519\n",
      "2177   0.368564  0.797225  0.665575\n",
      "77285 -2.440690  0.113784  0.440907\n",
      "86498 -1.732468  0.393573 -1.424465\n",
      "\n",
      "[75000 rows x 3 columns] is 27212     16.733577\n",
      "7866      38.047492\n",
      "62041    116.149369\n",
      "70185    105.888803\n",
      "82230     27.570897\n",
      "            ...    \n",
      "4094     155.009949\n",
      "85412    143.348954\n",
      "2177      77.290797\n",
      "77285    121.243834\n",
      "86498     39.377889\n",
      "Name: product, Length: 75000, dtype: float64\n"
     ]
    }
   ],
   "source": [
    "list_1 = [features_1_train, features_2_train, features_3_train] \n",
    "list_2 = [target_1_train, target_2_train, target_3_train]\n",
    "\n",
    "for x, y in zip(list_1, list_2):\n",
    "    print(f'{x} is {y}')\n",
    "\n",
    "\n",
    "\n"
   ]
  },
  {
   "cell_type": "code",
   "execution_count": 214,
   "metadata": {},
   "outputs": [
    {
     "name": "stdout",
     "output_type": "stream",
     "text": [
      "             f0        f1        f2\n",
      "71751  0.517917 -0.610097 -0.126226\n",
      "80493  0.568391 -0.086063 -0.814914\n",
      "2655   0.805688 -1.613289 -1.341342\n",
      "53233  0.222503 -1.355437 -0.597275\n",
      "91141 -0.087941  1.433113 -0.544588\n",
      "...         ...       ...       ...\n",
      "12581  1.541222 -0.709525  0.024535\n",
      "18456 -0.522565  0.474447 -0.103985\n",
      "73035 -0.138850  1.595071 -0.903485\n",
      "63834  0.658267 -1.428224  0.621967\n",
      "43558  1.409556 -0.650407  0.769670\n",
      "\n",
      "[25000 rows x 3 columns] is 71751     10.038645\n",
      "80493    114.551489\n",
      "2655     132.603635\n",
      "53233    169.072125\n",
      "91141    122.325180\n",
      "            ...    \n",
      "12581    170.116726\n",
      "18456     93.632175\n",
      "73035    127.352259\n",
      "63834     99.782700\n",
      "43558    177.821022\n",
      "Name: product, Length: 25000, dtype: float64\n",
      "             f0        f1        f2\n",
      "71751 -0.168616  0.571372  0.297471\n",
      "80493  0.878384 -1.772903 -0.293901\n",
      "2655  -0.852976 -0.004986 -0.876502\n",
      "53233  1.496940 -1.146077 -0.294011\n",
      "91141  0.552177  0.057961 -1.457764\n",
      "...         ...       ...       ...\n",
      "12581 -0.585274  0.036061  1.465670\n",
      "18456 -1.059992 -0.305376  0.880934\n",
      "73035 -1.146172 -0.119247  1.471417\n",
      "63834 -0.839466  0.785521  0.302943\n",
      "43558  1.048780 -0.275907 -0.295706\n",
      "\n",
      "[25000 rows x 3 columns] is 71751     80.859783\n",
      "80493     53.906522\n",
      "2655      30.132364\n",
      "53233     53.906522\n",
      "91141      0.000000\n",
      "            ...    \n",
      "12581    137.945408\n",
      "18456    110.992147\n",
      "73035    137.945408\n",
      "63834     84.038886\n",
      "43558     53.906522\n",
      "Name: product, Length: 25000, dtype: float64\n",
      "             f0        f1        f2\n",
      "71751 -0.836717 -2.227439 -0.078489\n",
      "80493 -0.821648  0.740237 -1.000811\n",
      "2655  -2.651336 -0.235721 -0.244546\n",
      "53233  1.077998  0.938090  0.511313\n",
      "91141 -1.173938  2.387270  1.034363\n",
      "...         ...       ...       ...\n",
      "12581 -0.761845 -0.067861 -0.819227\n",
      "18456  0.006155  0.509468  0.030344\n",
      "73035  0.416444 -0.084595  0.218987\n",
      "63834 -0.136658 -0.101235 -0.870787\n",
      "43558 -1.359565 -0.598457  1.716644\n",
      "\n",
      "[25000 rows x 3 columns] is 71751     61.212375\n",
      "80493     41.850118\n",
      "2655      57.776581\n",
      "53233    100.053761\n",
      "91141    109.897122\n",
      "            ...    \n",
      "12581     28.492402\n",
      "18456     21.431303\n",
      "73035    125.487229\n",
      "63834     99.422903\n",
      "43558    127.445075\n",
      "Name: product, Length: 25000, dtype: float64\n"
     ]
    }
   ],
   "source": [
    "list_3 = [features_1_valid, features_2_valid, features_3_valid]\n",
    "list_4 = [target_1_valid, target_2_valid, target_3_valid]  \n",
    "for x, y in zip(list_3, list_4):\n",
    "    print(f'{x} is {y}')\n"
   ]
  },
  {
   "cell_type": "markdown",
   "metadata": {},
   "source": [
    "<div style=\"border:solid purple 5px; padding: 20px\"> \n",
    "<h2 align=\"center\"> Рубрика «Питонячий лайфхакер» <a class=\"tocSkip\"> </h2>\n",
    "\n",
    "<h3> Функция zip <a class=\"tocSkip\"> </h3>\n",
    "\n",
    "Функция zip создаёт итератор, который комбинирует элементы нескольких списков. Это позволяет осуществлять параллельный обход списков в циклах for или, например, выполнять параллельную сортировку.\n",
    "\n",
    "![](https://i.ibb.co/MPPZ6TL/image.png)"
   ]
  },
  {
   "cell_type": "markdown",
   "metadata": {},
   "source": [
    "<div class=\"alert alert-info\">\n",
    "<font size=\"4\", color = \"black\"><b>✍ Комментарий студента</b></font>\n",
    "    <br /> \n",
    "    <font size=\"3\", color = \"black\">\n",
    "<br /> Исправила.\n",
    "        "
   ]
  },
  {
   "cell_type": "markdown",
   "metadata": {},
   "source": [
    "<div class=\"alert alert-success\">\n",
    "<h2> Комментарий ревьюера v2 ✔️ <a class=\"tocSkip\"> </h2>\n",
    "\n",
    "Так ведь это не ошибка была, так, доп информация..."
   ]
  },
  {
   "cell_type": "code",
   "execution_count": 255,
   "metadata": {},
   "outputs": [
    {
     "name": "stdout",
     "output_type": "stream",
     "text": [
      "             f0        f1        f2\n",
      "27212 -0.544828  1.390264 -0.094959\n",
      "7866   1.455912 -0.480422  1.209567\n",
      "62041  0.260460  0.825069 -0.204865\n",
      "70185 -1.837105  0.010321 -0.147634\n",
      "82230 -1.299243  0.987558  1.273181\n",
      "             f0        f1        f2\n",
      "27212 -0.850855  0.624428  0.296943\n",
      "7866   1.971935  1.832275  0.294333\n",
      "62041  1.079305  0.170127 -0.296418\n",
      "70185 -1.512028 -0.887837 -0.880471\n",
      "82230 -1.804775 -0.718311 -0.293255\n",
      "             f0        f1        f2\n",
      "27212 -0.526160  0.776329 -0.400793\n",
      "7866  -0.889625 -0.404070 -1.222936\n",
      "62041 -1.133984  0.208576  0.296765\n",
      "70185  1.227045  1.570166 -0.764556\n",
      "82230 -0.194289  0.878312  0.840821\n"
     ]
    }
   ],
   "source": [
    "#Написали функцию которая масштабирует выборки\n",
    "def num_scal(data_train, data_valid):\n",
    "    numeric = data_train.columns\n",
    "\n",
    "    scaler = StandardScaler()\n",
    "    scaler.fit(data_train[numeric])\n",
    "    data_train[numeric] = scaler.transform(data_train[numeric])\n",
    "    data_valid[numeric] = scaler.transform(data_valid[numeric])\n",
    "    return data_train, data_valid\n",
    "#Масштабировали признаки с числовыми значениями разных размерностей\n",
    "num_scal(features_1_train, features_1_valid)\n",
    "num_scal(features_2_train, features_2_valid)\n",
    "num_scal(features_3_train, features_3_valid)\n",
    "\n",
    "#Вывели первые 5 обьектов на экран\n",
    "print(features_1_train.head(5))\n",
    "print(features_2_train.head(5))\n",
    "print(features_3_train.head(5))\n"
   ]
  },
  {
   "cell_type": "code",
   "execution_count": 256,
   "metadata": {},
   "outputs": [
    {
     "data": {
      "image/png": "[encoded data removed]",
      "text/plain": [
       "<Figure size 864x576 with 1 Axes>"
      ]
     },
     "metadata": {
      "needs_background": "light"
     },
     "output_type": "display_data"
    }
   ],
   "source": [
    "#Вывела гистаграмму каждого признака\n",
    "plt.hist(data_1['f0'], bins=16, range=(-2,3))\n",
    "plt.title('Распределение признака f0')\n",
    "plt.xlabel('Признак f0')\n",
    "plt.ylabel('Количество признака')\n",
    "plt.show()"
   ]
  },
  {
   "cell_type": "code",
   "execution_count": 257,
   "metadata": {},
   "outputs": [
    {
     "data": {
      "image/png": "[encoded data removed]",
      "text/plain": [
       "<Figure size 864x576 with 1 Axes>"
      ]
     },
     "metadata": {
      "needs_background": "light"
     },
     "output_type": "display_data"
    }
   ],
   "source": [
    "#Вывела гистаграмму каждого признака\n",
    "plt.hist(data_1['f1'], bins=16, range=(-1,2))\n",
    "plt.title('Распределение признака f1')\n",
    "plt.xlabel('Признак f1')\n",
    "plt.ylabel('Количество признака')\n",
    "plt.show()"
   ]
  },
  {
   "cell_type": "code",
   "execution_count": 258,
   "metadata": {},
   "outputs": [
    {
     "data": {
      "image/png": "[encoded data removed]",
      "text/plain": [
       "<Figure size 864x576 with 1 Axes>"
      ]
     },
     "metadata": {
      "needs_background": "light"
     },
     "output_type": "display_data"
    }
   ],
   "source": [
    "#Вывела гистаграмму каждого признака\n",
    "plt.hist(data_1['f2'], bins=16, range=(-10,20))\n",
    "plt.title('Распределение признака f2')\n",
    "plt.xlabel('Признак f2')\n",
    "plt.ylabel('Количество признака')\n",
    "plt.show()"
   ]
  },
  {
   "cell_type": "code",
   "execution_count": 259,
   "metadata": {},
   "outputs": [
    {
     "data": {
      "image/png": "[encoded data removed]",
      "text/plain": [
       "<Figure size 864x576 with 1 Axes>"
      ]
     },
     "metadata": {
      "needs_background": "light"
     },
     "output_type": "display_data"
    }
   ],
   "source": [
    "#Вывела гистаграмму каждого признака\n",
    "plt.hist(data_1['product'], bins=150, range=(-0.5,200))\n",
    "plt.title('Распределение целевого признака')\n",
    "plt.xlabel('Признак product')\n",
    "plt.ylabel('Количество признака')\n",
    "plt.show()"
   ]
  },
  {
   "cell_type": "markdown",
   "metadata": {},
   "source": [
    "**Вывод:**\n",
    "* После изучения в данных отсутствуют пропусков\n",
    "* Дубликаты присутствую в колонке id, количество не критично оставляем как есть.\n",
    "* Типы данных соответствуют.\n",
    "* По кор.матрице целевой признак второго региона сильно корелирует с признаком f2.\n",
    "* Лишний признак id удалили.\n",
    "* Разделили даные на выборки в соотношении 75:25.\n",
    "* Выделии данные на целевой признак и все остальные.\n",
    "* Также масштабировали числовые признаки.\n",
    "* Признак f2 на графике показывает нормальное распределение."
   ]
  },
  {
   "cell_type": "markdown",
   "metadata": {},
   "source": [
    "<div class=\"alert alert-warning\">\n",
    "<h2> Комментарий ревьюера ⚠️ <a class=\"tocSkip\"> </h2>\n",
    "\n",
    "А еще, я бы построил графики распределений признаков - много полезной информации можно получить"
   ]
  },
  {
   "cell_type": "markdown",
   "metadata": {},
   "source": [
    "<div class=\"alert alert-info\">\n",
    "<font size=\"4\", color = \"black\"><b>✍ Комментарий студента</b></font>\n",
    "    <br /> \n",
    "    <font size=\"3\", color = \"black\">\n",
    "<br /> Исправила.\n",
    "        "
   ]
  },
  {
   "cell_type": "markdown",
   "metadata": {},
   "source": [
    "## Обучение и проверка модели"
   ]
  },
  {
   "cell_type": "code",
   "execution_count": 260,
   "metadata": {},
   "outputs": [],
   "source": [
    "#Написала функцию для обучения на модели линейная регрессия\n",
    "def Linear_Regres(features, target):\n",
    "    model = LinearRegression()\n",
    "    model.fit(features, target)\n",
    "    return model\n",
    "model_1 = Linear_Regres(features_1_train, target_1_train)\n",
    "model_2 = Linear_Regres(features_2_train, target_2_train)\n",
    "model_3 = Linear_Regres(features_3_train, target_3_train);"
   ]
  },
  {
   "cell_type": "code",
   "execution_count": 261,
   "metadata": {},
   "outputs": [],
   "source": [
    "#Вывела функцию для предсказания на модели линейная регрессия\n",
    "def find_predictions(model, features_valid, indexes):\n",
    "    predictions = model.predict(features_valid)\n",
    "    \n",
    "    np_array = np.array(predictions)\n",
    "    new_predictions = pd.Series(np_array, index = indexes)\n",
    "    \n",
    "    return new_predictions\n",
    "predictions_1 = find_predictions(model_1, features_1_valid, target_1_valid.index)\n",
    "predictions_2 = find_predictions(model_2, features_2_valid, target_2_valid.index)\n",
    "predictions_3 = find_predictions(model_3, features_3_valid, target_3_valid.index)"
   ]
  },
  {
   "cell_type": "code",
   "execution_count": 262,
   "metadata": {},
   "outputs": [],
   "source": [
    "#Написала функции метрик регрессии\n",
    "def mse(target, predicted):\n",
    "    print(\"MSE =\", mean_squared_error(target, predicted))\n",
    "\n",
    "def rmse(target, predicted):\n",
    "    print(\"RMSE =\", mean_squared_error(target, predicted) ** 0.5)\n",
    "\n",
    "def r2(target, predicted):\n",
    "    print(\"R2 =\", r2_score(target, predicted))\n",
    "    \n",
    "def mean_pred(predicted):\n",
    "    print('Средний предсказанный запас сырья:', predicted.mean())\n",
    "\n"
   ]
  },
  {
   "cell_type": "markdown",
   "metadata": {},
   "source": [
    "<div class=\"alert alert-success\">\n",
    "<h2> Комментарий ревьюера ✔️ <a class=\"tocSkip\"> </h2>\n",
    "\n",
    "Здесь все круто"
   ]
  },
  {
   "cell_type": "markdown",
   "metadata": {},
   "source": [
    "Метрики обьема добычи для первого региона"
   ]
  },
  {
   "cell_type": "code",
   "execution_count": 263,
   "metadata": {},
   "outputs": [
    {
     "name": "stdout",
     "output_type": "stream",
     "text": [
      "MSE = 1412.2129364399243\n",
      "RMSE = 37.5794217150813\n",
      "R2 = 0.27994321524487786\n",
      "Средний предсказанный запас сырья: 92.59256778438035\n"
     ]
    }
   ],
   "source": [
    "#Применила функции для первого региона\n",
    "mse(target_1_valid, predictions_1)\n",
    "rmse(target_1_valid, predictions_1)\n",
    "r2(target_1_valid, predictions_1)\n",
    "mean_pred(predictions_1)\n"
   ]
  },
  {
   "cell_type": "code",
   "execution_count": 264,
   "metadata": {},
   "outputs": [
    {
     "name": "stdout",
     "output_type": "stream",
     "text": [
      "MSE = 0.7976263360391157\n",
      "RMSE = 0.893099286775617\n",
      "R2 = 0.9996233978805127\n",
      "Средний предсказанный запас сырья: 68.728546895446\n"
     ]
    }
   ],
   "source": [
    "#Вывела метрики 2 региона\n",
    "mse(target_2_valid, predictions_2)\n",
    "rmse(target_2_valid, predictions_2)\n",
    "r2(target_2_valid, predictions_2)\n",
    "mean_pred(predictions_2)\n"
   ]
  },
  {
   "cell_type": "code",
   "execution_count": 265,
   "metadata": {},
   "outputs": [
    {
     "name": "stdout",
     "output_type": "stream",
     "text": [
      "MSE = 1602.3775813236196\n",
      "RMSE = 40.02970873393434\n",
      "R2 = 0.20524758386040443\n",
      "Средний предсказанный запас сырья: 94.96504596800489\n"
     ]
    }
   ],
   "source": [
    "#Вывела метрики для 3 региона\n",
    "mse(target_3_valid, predictions_3)\n",
    "rmse(target_3_valid, predictions_3)\n",
    "r2(target_3_valid, predictions_3)\n",
    "mean_pred(predictions_3)\n"
   ]
  },
  {
   "cell_type": "markdown",
   "metadata": {},
   "source": [
    "**Вывод:**\n",
    "* Самый высокий показатель среднего предсказанного у третьего региона но R2 самое низкое\n",
    "* Поэтому модель по тртьему региону хуже всех предсказывает.\n",
    "* Показатель R2 – самый высокий у второго региона\n",
    "* Значения метрики R2, > 0 и стремится к 1. Это произошло за счёт, фактически, прямой корреляции \n",
    "одного из признаков с целевым, замеченной нами ранее."
   ]
  },
  {
   "cell_type": "markdown",
   "metadata": {},
   "source": [
    "<div class=\"alert alert-success\">\n",
    "<h2> Комментарий ревьюера ✔️ <a class=\"tocSkip\"> </h2>\n",
    "\n",
    "Да, так и есть. Я бы выделил это и обозначил перед заказчиком"
   ]
  },
  {
   "cell_type": "markdown",
   "metadata": {},
   "source": [
    "## Подготовка к расчёту прибыли"
   ]
  },
  {
   "cell_type": "markdown",
   "metadata": {},
   "source": [
    "При разведке региона исследуют 500 точек, из которых с помощью машинного обучения выбирают 200 лучших\n",
    "для разработки. Бюджет на разработку скважин в регионе — 10 млрд рублей. \n",
    "При нынешних ценах один баррель сырья приносит 450 рублей дохода. \n",
    "Доход с каждой единицы продукта составляет 450 тыс. рублей, поскольку объём указан в тысячах баррелей."
   ]
  },
  {
   "cell_type": "code",
   "execution_count": 266,
   "metadata": {},
   "outputs": [],
   "source": [
    "#Присвоила переменные для данных нам условии\n",
    "#бюджет\n",
    "BUDGET = 10000000000\n",
    "#количество скважин\n",
    "WELL_QUAN = 200\n",
    "#Доход с тысяч скважин\n",
    "INCOME_PER_UNIT = 450000\n"
   ]
  },
  {
   "cell_type": "markdown",
   "metadata": {},
   "source": [
    "<div class=\"alert alert-warning\">\n",
    "<h2> Комментарий ревьюера ⚠️ <a class=\"tocSkip\"> </h2>\n",
    "\n",
    "По правилам написания кода [PEP8](https://pep8.org/), константы определяют заглавными буквами)"
   ]
  },
  {
   "cell_type": "markdown",
   "metadata": {},
   "source": [
    "<div class=\"alert alert-info\">\n",
    "<font size=\"4\", color = \"black\"><b>✍ Комментарий студента</b></font>\n",
    "    <br /> \n",
    "    <font size=\"3\", color = \"black\">\n",
    "<br /> Исправила.\n",
    "        "
   ]
  },
  {
   "cell_type": "markdown",
   "metadata": {},
   "source": [
    "### Расчет объёма сырья для безубыточной разработки."
   ]
  },
  {
   "cell_type": "code",
   "execution_count": 228,
   "metadata": {},
   "outputs": [
    {
     "name": "stdout",
     "output_type": "stream",
     "text": [
      "Обьем безубыточной разработки: 111.11111111111111\n"
     ]
    }
   ],
   "source": [
    "#Вывели формулу расчета безубыточного обьема \n",
    "breakeven_volume = BUDGET / INCOME_PER_UNIT / WELL_QUAN\n",
    "#вывели на экран обьем разработки\n",
    "print('Обьем безубыточной разработки:', breakeven_volume)"
   ]
  },
  {
   "cell_type": "code",
   "execution_count": 229,
   "metadata": {},
   "outputs": [
    {
     "name": "stdout",
     "output_type": "stream",
     "text": [
      "Средний обьем разработки в первом регионе 92.50000000000001\n",
      "Средний обьем разработки во втором регионе 68.82500000000002\n",
      "Средний обьем разработки в третьем регионе 95.00000000000004\n"
     ]
    }
   ],
   "source": [
    "#Вывели на экран средние реальные значения обьема по каждому региону\n",
    "print('Средний обьем разработки в первом регионе', data_1['product'].mean())\n",
    "print('Средний обьем разработки во втором регионе', data_2['product'].mean())\n",
    "print('Средний обьем разработки в третьем регионе', data_3['product'].mean())"
   ]
  },
  {
   "cell_type": "markdown",
   "metadata": {},
   "source": [
    "**Вывод:**\n",
    "* Объём сырья для безубыточной разработки новой скважины равен 111.11, но при этом объем запасов\n",
    "среднестатистической скважины в регионах  меньше этого значения: 92.5, 68.83, 95.\n",
    "* При этом особенно выделяется 2-ой регион, средние запасы которого меньше необходимых 111,11 на 68.83\n",
    "* Но, при этом, наша модель очень хорошо прогнозирует запасы скважин именно в этом регионе.\n",
    "\n"
   ]
  },
  {
   "cell_type": "markdown",
   "metadata": {},
   "source": [
    "<div class=\"alert alert-success\">\n",
    "<h2> Комментарий ревьюера ✔️ <a class=\"tocSkip\"> </h2>\n",
    "\n",
    "Так и есть, это может говорить о том, что мы не можем рандомно выбирать скважины для разработки, ведь в таком случае, нас, возможно, ждет неудача"
   ]
  },
  {
   "cell_type": "markdown",
   "metadata": {},
   "source": [
    "## Расчёт прибыли и рисков "
   ]
  },
  {
   "cell_type": "code",
   "execution_count": 230,
   "metadata": {},
   "outputs": [],
   "source": [
    "#Вывела функцию подсчета прибыли для выбранных скважин.\n",
    "def revenue(target, predicted, cost, count):\n",
    "    probs_sorted = predicted.sort_values(ascending=False)\n",
    "    selected = target[probs_sorted.index][:count]\n",
    "    return cost * selected.sum() - BUDGET"
   ]
  },
  {
   "cell_type": "markdown",
   "metadata": {},
   "source": [
    "<div class=\"alert alert-success\">\n",
    "<h2> Комментарий ревьюера ✔️ <a class=\"tocSkip\"> </h2>\n",
    "\n",
    "Сортируем по прогнозам, берем факт 👍"
   ]
  },
  {
   "cell_type": "code",
   "execution_count": 231,
   "metadata": {},
   "outputs": [],
   "source": [
    "#Написала функцию, в которой сгенерируем 1000 выборок, чтобы найти распределение прибыли\n",
    "def best_bootsrtap(target, predicted):\n",
    "    state = np.random.RandomState(12345)\n",
    "    N = 500\n",
    "    A = 200\n",
    "    values = []\n",
    "    for i in range(1000):\n",
    "        target_subsample = target.sample(N, replace=True, random_state=state)\n",
    "        predict_subsample = predicted[target_subsample.index] \n",
    "    \n",
    "        values.append(revenue(target_subsample, predict_subsample, INCOME_PER_UNIT, A))\n",
    "\n",
    "    values = pd.Series(values)\n",
    "    return values\n",
    "\n"
   ]
  },
  {
   "cell_type": "markdown",
   "metadata": {},
   "source": [
    "<div class=\"alert alert-danger\">\n",
    "<h2> Комментарий ревьюера ❌ <a class=\"tocSkip\"> </h2>\n",
    "\n",
    "Хорошо бы кол-во точек, используемых при разведке (500) и кол-во лучших (200) также вынести в константы. Это позволит быстро проводить расчеты при различных параметрах и избавит от монотонных исправлений"
   ]
  },
  {
   "cell_type": "markdown",
   "metadata": {},
   "source": [
    "<div class=\"alert alert-info\">\n",
    "<font size=\"4\", color = \"black\"><b>✍ Комментарий студента</b></font>\n",
    "    <br /> \n",
    "    <font size=\"3\", color = \"black\">\n",
    "<br /> Исправила.\n",
    "        "
   ]
  },
  {
   "cell_type": "markdown",
   "metadata": {},
   "source": [
    "<div class=\"alert alert-success\">\n",
    "<h2> Комментарий ревьюера v2 ✔️ <a class=\"tocSkip\"> </h2>\n",
    "\n",
    "Спасибо за быструю и качественную доработку комментариев! Все моменты были исправлены, так что работу я принимаю. Надеюсь ты учтешь мои комментарии в последующих работах. Благодарю за старания и интерес и желаю успехов в дальнейших проектах 😊\n",
    "\n",
    "</div>"
   ]
  },
  {
   "cell_type": "code",
   "execution_count": 267,
   "metadata": {},
   "outputs": [],
   "source": [
    "region_1 = best_bootsrtap(target_1_valid, predictions_1)\n",
    "region_2 = best_bootsrtap(target_2_valid, predictions_2)\n",
    "region_3 = best_bootsrtap(target_3_valid, predictions_3)"
   ]
  },
  {
   "cell_type": "code",
   "execution_count": 268,
   "metadata": {},
   "outputs": [],
   "source": [
    "#Написала функция подсчета средней выручки, доверительного интервала, и риска.\n",
    "def mean_dov_risk(values):\n",
    "    print(\"Средняя выручка:\", values.mean())\n",
    "    lower = values.quantile(0.025)\n",
    "    upper = values.quantile(0.975)\n",
    "    print(\"95%-й Доверительный интервал:\", lower, '-', upper)\n",
    "    print(\"Риск убытков:\", st.percentileofscore(values, 0), '%')"
   ]
  },
  {
   "cell_type": "markdown",
   "metadata": {},
   "source": [
    "<div class=\"alert alert-warning\">\n",
    "<h2> Комментарий ревьюера ⚠️ <a class=\"tocSkip\"> </h2>\n",
    "\n",
    "Я бы, наверное, объединил все эти расчеты в одну функцию"
   ]
  },
  {
   "cell_type": "markdown",
   "metadata": {},
   "source": [
    "<div class=\"alert alert-info\">\n",
    "<font size=\"4\", color = \"black\"><b>✍ Комментарий студента</b></font>\n",
    "    <br /> \n",
    "    <font size=\"3\", color = \"black\">\n",
    "<br /> Исправила.\n",
    "        "
   ]
  },
  {
   "cell_type": "code",
   "execution_count": 235,
   "metadata": {},
   "outputs": [
    {
     "name": "stdout",
     "output_type": "stream",
     "text": [
      "Средняя выручка: 425938526.91059244\n",
      "95%-й Доверительный интервал: -102090094.83793654 - 947976353.3583689\n",
      "Риск убытков: 6.0 %\n"
     ]
    }
   ],
   "source": [
    "mean_val(region_1)\n",
    "dov_interval(region_1)\n",
    "risk_of_loss(region_1)"
   ]
  },
  {
   "cell_type": "code",
   "execution_count": 236,
   "metadata": {},
   "outputs": [
    {
     "name": "stdout",
     "output_type": "stream",
     "text": [
      "Средняя выручка: 515222773.4432899\n",
      "95%-й Доверительный интервал: 68873225.37050176 - 931547591.2570494\n",
      "Риск убытков: 1.0 %\n"
     ]
    }
   ],
   "source": [
    "mean_val(region_2)\n",
    "dov_interval(region_2)\n",
    "risk_of_loss(region_2)"
   ]
  },
  {
   "cell_type": "code",
   "execution_count": 237,
   "metadata": {},
   "outputs": [
    {
     "name": "stdout",
     "output_type": "stream",
     "text": [
      "Средняя выручка: 435008362.7827556\n",
      "95%-й Доверительный интервал: -128880547.32978901 - 969706954.1802661\n",
      "Риск убытков: 6.4 %\n"
     ]
    }
   ],
   "source": [
    "mean_val(region_3)\n",
    "dov_interval(region_3)\n",
    "risk_of_loss(region_3)"
   ]
  },
  {
   "cell_type": "markdown",
   "metadata": {},
   "source": [
    "**Вывод**\n",
    "* Изначально 2-й регион никак не подходил под выбор для разработки скважин. \n",
    "* Поскольку средние запасы региона (68.8) гораздо меньше чем остальных регионов (92-95) \n",
    "и рассчитанного запаса для безубыточной разработки месторождения (111.11). \n",
    "* Однако благодаря качественно прогнозирующей модели, самые оптимистичные прогнозы касаются именно 2-го региона. \n",
    "* Риск убытков региона всего 0.4% что является самаым низким среди других. \n",
    "* И поэтому этот регион и предлагается для разработки на основании проведенного исследования."
   ]
  },
  {
   "cell_type": "markdown",
   "metadata": {},
   "source": [
    "<div class=\"alert alert-success\">\n",
    "<h2> Комментарий ревьюера ✔️ <a class=\"tocSkip\"> </h2>\n",
    "\n",
    "🔥👍"
   ]
  },
  {
   "cell_type": "markdown",
   "metadata": {},
   "source": [
    "## Чек-лист готовности проекта"
   ]
  },
  {
   "cell_type": "markdown",
   "metadata": {},
   "source": [
    "Поставьте 'x' в выполненных пунктах. Далее нажмите Shift+Enter."
   ]
  },
  {
   "cell_type": "markdown",
   "metadata": {},
   "source": [
    "- [x]  Jupyter Notebook открыт\n",
    "- [x]  Весь код выполняется без ошибок\n",
    "- [x]  Ячейки с кодом расположены в порядке исполнения\n",
    "- [x]  Выполнен шаг 1: данные подготовлены\n",
    "- [x]  Выполнен шаг 2: модели обучены и проверены\n",
    "    - [x]  Данные корректно разбиты на обучающую и валидационную выборки\n",
    "    - [x]  Модели обучены, предсказания сделаны\n",
    "    - [x]  Предсказания и правильные ответы на валидационной выборке сохранены\n",
    "    - [x]  На экране напечатаны результаты\n",
    "    - [x]  Сделаны выводы\n",
    "- [x]  Выполнен шаг 3: проведена подготовка к расчёту прибыли\n",
    "    - [x]  Для всех ключевых значений созданы константы Python\n",
    "    - [x]  Посчитано минимальное среднее количество продукта в месторождениях региона, достаточное для разработки\n",
    "    - [x]  По предыдущему пункту сделаны выводы\n",
    "    - [x]  Написана функция расчёта прибыли\n",
    "- [ ]  Выполнен шаг 4: посчитаны риски и прибыль\n",
    "    - [x]  Проведена процедура *Bootstrap*\n",
    "    - [x]  Все параметры бутстрепа соответствуют условию\n",
    "    - [x]  Найдены все нужные величины\n",
    "    - [x]  Предложен регион для разработки месторождения\n",
    "    - [x]  Выбор региона обоснован"
   ]
  },
  {
   "cell_type": "code",
   "execution_count": null,
   "metadata": {},
   "outputs": [],
   "source": []
  }
 ],
 "metadata": {
  "ExecuteTimeLog": [
   {
    "duration": 440,
    "start_time": "2023-02-28T11:34:46.946Z"
   },
   {
    "duration": 507,
    "start_time": "2023-02-28T11:38:00.921Z"
   },
   {
    "duration": 481,
    "start_time": "2023-02-28T11:40:38.191Z"
   },
   {
    "duration": 53,
    "start_time": "2023-02-28T14:28:41.565Z"
   },
   {
    "duration": 369,
    "start_time": "2023-02-28T14:29:03.378Z"
   },
   {
    "duration": 1561,
    "start_time": "2023-02-28T14:29:03.972Z"
   },
   {
    "duration": 23,
    "start_time": "2023-02-28T14:29:05.535Z"
   },
   {
    "duration": 29,
    "start_time": "2023-02-28T14:30:20.972Z"
   },
   {
    "duration": 445,
    "start_time": "2023-02-28T14:30:38.739Z"
   },
   {
    "duration": 12,
    "start_time": "2023-02-28T14:30:39.386Z"
   },
   {
    "duration": 8,
    "start_time": "2023-02-28T14:30:41.367Z"
   },
   {
    "duration": 10,
    "start_time": "2023-02-28T14:31:12.846Z"
   },
   {
    "duration": 11,
    "start_time": "2023-02-28T14:31:42.626Z"
   },
   {
    "duration": 10,
    "start_time": "2023-02-28T14:31:49.868Z"
   },
   {
    "duration": 17,
    "start_time": "2023-02-28T14:32:33.124Z"
   },
   {
    "duration": 15,
    "start_time": "2023-02-28T14:33:28.173Z"
   },
   {
    "duration": 15,
    "start_time": "2023-02-28T14:34:07.820Z"
   },
   {
    "duration": 10,
    "start_time": "2023-02-28T14:36:30.282Z"
   },
   {
    "duration": 4,
    "start_time": "2023-02-28T14:44:53.213Z"
   },
   {
    "duration": 8,
    "start_time": "2023-02-28T15:00:22.185Z"
   },
   {
    "duration": 8,
    "start_time": "2023-02-28T15:01:01.616Z"
   },
   {
    "duration": 21,
    "start_time": "2023-02-28T15:03:27.833Z"
   },
   {
    "duration": 760,
    "start_time": "2023-02-28T15:04:11.014Z"
   },
   {
    "duration": 20,
    "start_time": "2023-02-28T15:04:22.357Z"
   },
   {
    "duration": 48,
    "start_time": "2023-02-28T16:16:26.774Z"
   },
   {
    "duration": 1100,
    "start_time": "2023-02-28T16:16:44.067Z"
   },
   {
    "duration": 392,
    "start_time": "2023-02-28T16:16:45.169Z"
   },
   {
    "duration": 18,
    "start_time": "2023-02-28T16:16:45.563Z"
   },
   {
    "duration": 16,
    "start_time": "2023-02-28T16:16:45.583Z"
   },
   {
    "duration": 26,
    "start_time": "2023-02-28T16:16:45.601Z"
   },
   {
    "duration": 29,
    "start_time": "2023-02-28T16:16:45.629Z"
   },
   {
    "duration": 29,
    "start_time": "2023-02-28T16:16:45.660Z"
   },
   {
    "duration": 14,
    "start_time": "2023-02-28T16:16:45.691Z"
   },
   {
    "duration": 10,
    "start_time": "2023-02-28T16:16:45.707Z"
   },
   {
    "duration": 7,
    "start_time": "2023-02-28T16:16:45.719Z"
   },
   {
    "duration": 24,
    "start_time": "2023-02-28T16:16:45.737Z"
   },
   {
    "duration": 121,
    "start_time": "2023-02-28T16:16:45.763Z"
   },
   {
    "duration": 0,
    "start_time": "2023-02-28T16:16:45.886Z"
   },
   {
    "duration": 14,
    "start_time": "2023-02-28T16:16:58.723Z"
   },
   {
    "duration": 32,
    "start_time": "2023-02-28T16:18:23.858Z"
   },
   {
    "duration": 3,
    "start_time": "2023-02-28T16:20:32.528Z"
   },
   {
    "duration": 26,
    "start_time": "2023-02-28T16:20:42.083Z"
   },
   {
    "duration": 22,
    "start_time": "2023-02-28T16:33:16.741Z"
   },
   {
    "duration": 14,
    "start_time": "2023-02-28T16:33:54.960Z"
   },
   {
    "duration": 49,
    "start_time": "2023-02-28T16:40:15.980Z"
   },
   {
    "duration": 24,
    "start_time": "2023-02-28T16:44:00.769Z"
   },
   {
    "duration": 10,
    "start_time": "2023-02-28T16:44:04.540Z"
   },
   {
    "duration": 41,
    "start_time": "2023-02-28T16:45:40.795Z"
   },
   {
    "duration": 27,
    "start_time": "2023-02-28T16:45:41.429Z"
   },
   {
    "duration": 23,
    "start_time": "2023-02-28T16:45:42.306Z"
   },
   {
    "duration": 10,
    "start_time": "2023-02-28T16:45:43.122Z"
   },
   {
    "duration": 21,
    "start_time": "2023-02-28T16:47:41.919Z"
   },
   {
    "duration": 20,
    "start_time": "2023-02-28T16:48:20.320Z"
   },
   {
    "duration": 43,
    "start_time": "2023-02-28T16:54:57.373Z"
   },
   {
    "duration": 25,
    "start_time": "2023-02-28T16:54:59.130Z"
   },
   {
    "duration": 23,
    "start_time": "2023-02-28T16:55:00.389Z"
   },
   {
    "duration": 19,
    "start_time": "2023-02-28T16:55:02.126Z"
   },
   {
    "duration": 19,
    "start_time": "2023-02-28T16:55:53.553Z"
   },
   {
    "duration": 13,
    "start_time": "2023-02-28T16:57:05.790Z"
   },
   {
    "duration": 16,
    "start_time": "2023-02-28T16:58:28.254Z"
   },
   {
    "duration": 22,
    "start_time": "2023-02-28T16:58:35.119Z"
   },
   {
    "duration": 11,
    "start_time": "2023-02-28T17:00:49.942Z"
   },
   {
    "duration": 12,
    "start_time": "2023-02-28T17:00:50.582Z"
   },
   {
    "duration": 8,
    "start_time": "2023-02-28T17:00:51.348Z"
   },
   {
    "duration": 4,
    "start_time": "2023-02-28T18:00:34.403Z"
   },
   {
    "duration": 382,
    "start_time": "2023-02-28T18:00:34.992Z"
   },
   {
    "duration": 10,
    "start_time": "2023-02-28T18:00:35.616Z"
   },
   {
    "duration": 10,
    "start_time": "2023-02-28T18:00:36.128Z"
   },
   {
    "duration": 11,
    "start_time": "2023-02-28T18:00:36.514Z"
   },
   {
    "duration": 15,
    "start_time": "2023-02-28T18:00:36.955Z"
   },
   {
    "duration": 16,
    "start_time": "2023-02-28T18:00:37.422Z"
   },
   {
    "duration": 15,
    "start_time": "2023-02-28T18:00:37.840Z"
   },
   {
    "duration": 12,
    "start_time": "2023-02-28T18:00:38.581Z"
   },
   {
    "duration": 4,
    "start_time": "2023-02-28T18:00:39.110Z"
   },
   {
    "duration": 38,
    "start_time": "2023-02-28T18:00:39.606Z"
   },
   {
    "duration": 23,
    "start_time": "2023-02-28T18:00:40.248Z"
   },
   {
    "duration": 21,
    "start_time": "2023-02-28T18:00:40.867Z"
   },
   {
    "duration": 25,
    "start_time": "2023-02-28T18:00:41.466Z"
   },
   {
    "duration": 19,
    "start_time": "2023-02-28T18:00:42.954Z"
   },
   {
    "duration": 12,
    "start_time": "2023-02-28T18:00:43.896Z"
   },
   {
    "duration": 8,
    "start_time": "2023-02-28T18:00:44.757Z"
   },
   {
    "duration": 16,
    "start_time": "2023-02-28T18:02:13.652Z"
   },
   {
    "duration": 12,
    "start_time": "2023-02-28T18:03:05.941Z"
   },
   {
    "duration": 12,
    "start_time": "2023-02-28T18:03:11.251Z"
   },
   {
    "duration": 12,
    "start_time": "2023-02-28T18:03:11.730Z"
   },
   {
    "duration": 3,
    "start_time": "2023-02-28T18:13:24.982Z"
   },
   {
    "duration": 378,
    "start_time": "2023-02-28T18:13:25.958Z"
   },
   {
    "duration": 10,
    "start_time": "2023-02-28T18:13:26.338Z"
   },
   {
    "duration": 9,
    "start_time": "2023-02-28T18:13:26.359Z"
   },
   {
    "duration": 9,
    "start_time": "2023-02-28T18:13:26.538Z"
   },
   {
    "duration": 14,
    "start_time": "2023-02-28T18:13:26.738Z"
   },
   {
    "duration": 15,
    "start_time": "2023-02-28T18:13:26.927Z"
   },
   {
    "duration": 13,
    "start_time": "2023-02-28T18:13:27.112Z"
   },
   {
    "duration": 12,
    "start_time": "2023-02-28T18:13:27.285Z"
   },
   {
    "duration": 3,
    "start_time": "2023-02-28T18:13:27.489Z"
   },
   {
    "duration": 43,
    "start_time": "2023-02-28T18:13:27.673Z"
   },
   {
    "duration": 25,
    "start_time": "2023-02-28T18:13:27.857Z"
   },
   {
    "duration": 24,
    "start_time": "2023-02-28T18:13:28.053Z"
   },
   {
    "duration": 24,
    "start_time": "2023-02-28T18:13:28.278Z"
   },
   {
    "duration": 34,
    "start_time": "2023-02-28T18:13:28.611Z"
   },
   {
    "duration": 12,
    "start_time": "2023-02-28T18:13:28.838Z"
   },
   {
    "duration": 17,
    "start_time": "2023-02-28T18:13:29.037Z"
   },
   {
    "duration": 10,
    "start_time": "2023-02-28T18:13:29.238Z"
   },
   {
    "duration": 18,
    "start_time": "2023-02-28T18:14:43.579Z"
   },
   {
    "duration": 17,
    "start_time": "2023-02-28T18:16:43.731Z"
   },
   {
    "duration": 19,
    "start_time": "2023-02-28T18:22:36.735Z"
   },
   {
    "duration": 17,
    "start_time": "2023-02-28T18:26:15.883Z"
   },
   {
    "duration": 19,
    "start_time": "2023-02-28T18:27:18.295Z"
   },
   {
    "duration": 19,
    "start_time": "2023-02-28T18:27:20.399Z"
   },
   {
    "duration": 19,
    "start_time": "2023-02-28T18:28:29.647Z"
   },
   {
    "duration": 17,
    "start_time": "2023-02-28T18:28:55.760Z"
   },
   {
    "duration": 20,
    "start_time": "2023-02-28T18:31:17.010Z"
   },
   {
    "duration": 20,
    "start_time": "2023-02-28T18:33:29.086Z"
   },
   {
    "duration": 19,
    "start_time": "2023-02-28T18:34:18.597Z"
   },
   {
    "duration": 39,
    "start_time": "2023-02-28T18:38:51.392Z"
   },
   {
    "duration": 42,
    "start_time": "2023-02-28T18:39:32.672Z"
   },
   {
    "duration": 50,
    "start_time": "2023-02-28T18:42:31.265Z"
   },
   {
    "duration": 25,
    "start_time": "2023-02-28T19:09:56.781Z"
   },
   {
    "duration": 46,
    "start_time": "2023-02-28T19:12:59.008Z"
   },
   {
    "duration": 42,
    "start_time": "2023-02-28T19:13:56.861Z"
   },
   {
    "duration": 21,
    "start_time": "2023-02-28T19:18:23.824Z"
   },
   {
    "duration": 25,
    "start_time": "2023-02-28T19:26:12.703Z"
   },
   {
    "duration": 18,
    "start_time": "2023-02-28T19:28:03.308Z"
   },
   {
    "duration": 15,
    "start_time": "2023-02-28T19:33:31.754Z"
   },
   {
    "duration": 49,
    "start_time": "2023-03-01T15:50:00.830Z"
   },
   {
    "duration": 1167,
    "start_time": "2023-03-01T15:50:08.270Z"
   },
   {
    "duration": 1461,
    "start_time": "2023-03-01T15:50:09.439Z"
   },
   {
    "duration": 16,
    "start_time": "2023-03-01T15:50:10.902Z"
   },
   {
    "duration": 17,
    "start_time": "2023-03-01T15:50:10.920Z"
   },
   {
    "duration": 13,
    "start_time": "2023-03-01T15:50:10.938Z"
   },
   {
    "duration": 25,
    "start_time": "2023-03-01T15:50:10.952Z"
   },
   {
    "duration": 16,
    "start_time": "2023-03-01T15:50:10.979Z"
   },
   {
    "duration": 5,
    "start_time": "2023-03-01T15:50:15.278Z"
   },
   {
    "duration": 350,
    "start_time": "2023-03-01T15:50:16.115Z"
   },
   {
    "duration": 10,
    "start_time": "2023-03-01T15:50:19.081Z"
   },
   {
    "duration": 9,
    "start_time": "2023-03-01T15:50:19.923Z"
   },
   {
    "duration": 10,
    "start_time": "2023-03-01T15:50:20.529Z"
   },
   {
    "duration": 14,
    "start_time": "2023-03-01T15:50:21.186Z"
   },
   {
    "duration": 15,
    "start_time": "2023-03-01T15:50:21.866Z"
   },
   {
    "duration": 15,
    "start_time": "2023-03-01T15:50:22.456Z"
   },
   {
    "duration": 9,
    "start_time": "2023-03-01T15:50:23.039Z"
   },
   {
    "duration": 4,
    "start_time": "2023-03-01T15:50:23.608Z"
   },
   {
    "duration": 70,
    "start_time": "2023-03-01T15:50:25.466Z"
   },
   {
    "duration": 14,
    "start_time": "2023-03-01T15:51:09.514Z"
   },
   {
    "duration": 10,
    "start_time": "2023-03-01T15:53:59.882Z"
   },
   {
    "duration": 9,
    "start_time": "2023-03-01T15:54:39.456Z"
   },
   {
    "duration": 9,
    "start_time": "2023-03-01T15:58:45.251Z"
   },
   {
    "duration": 10,
    "start_time": "2023-03-01T15:59:09.210Z"
   },
   {
    "duration": 33,
    "start_time": "2023-03-01T16:06:58.656Z"
   },
   {
    "duration": 71,
    "start_time": "2023-03-01T16:07:41.112Z"
   },
   {
    "duration": 72,
    "start_time": "2023-03-01T16:08:31.681Z"
   },
   {
    "duration": 63,
    "start_time": "2023-03-01T16:08:57.990Z"
   },
   {
    "duration": 13,
    "start_time": "2023-03-01T16:10:00.957Z"
   },
   {
    "duration": 59,
    "start_time": "2023-03-01T16:11:02.728Z"
   },
   {
    "duration": 11,
    "start_time": "2023-03-01T16:11:25.938Z"
   },
   {
    "duration": 11,
    "start_time": "2023-03-01T16:11:50.558Z"
   },
   {
    "duration": 11,
    "start_time": "2023-03-01T16:16:19.650Z"
   },
   {
    "duration": 60,
    "start_time": "2023-03-01T16:16:19.958Z"
   },
   {
    "duration": 38,
    "start_time": "2023-03-01T16:20:28.982Z"
   },
   {
    "duration": 367,
    "start_time": "2023-03-01T16:21:13.779Z"
   },
   {
    "duration": 9,
    "start_time": "2023-03-01T16:21:20.682Z"
   },
   {
    "duration": 8,
    "start_time": "2023-03-01T16:21:26.691Z"
   },
   {
    "duration": 11,
    "start_time": "2023-03-01T16:21:33.320Z"
   },
   {
    "duration": 15,
    "start_time": "2023-03-01T16:21:43.161Z"
   },
   {
    "duration": 15,
    "start_time": "2023-03-01T16:21:49.967Z"
   },
   {
    "duration": 15,
    "start_time": "2023-03-01T16:21:50.758Z"
   },
   {
    "duration": 14,
    "start_time": "2023-03-01T16:22:00.890Z"
   },
   {
    "duration": 10,
    "start_time": "2023-03-01T16:22:02.790Z"
   },
   {
    "duration": 12,
    "start_time": "2023-03-01T16:22:12.693Z"
   },
   {
    "duration": 4,
    "start_time": "2023-03-01T16:22:25.577Z"
   },
   {
    "duration": 49,
    "start_time": "2023-03-01T16:22:38.420Z"
   },
   {
    "duration": 46,
    "start_time": "2023-03-01T16:23:16.564Z"
   },
   {
    "duration": 47,
    "start_time": "2023-03-01T16:26:13.073Z"
   },
   {
    "duration": 23,
    "start_time": "2023-03-01T16:26:59.641Z"
   },
   {
    "duration": 24,
    "start_time": "2023-03-01T16:27:50.861Z"
   },
   {
    "duration": 24,
    "start_time": "2023-03-01T16:28:43.401Z"
   },
   {
    "duration": 1152,
    "start_time": "2023-03-01T17:37:44.983Z"
   },
   {
    "duration": 1146,
    "start_time": "2023-03-01T17:37:46.137Z"
   },
   {
    "duration": 17,
    "start_time": "2023-03-01T17:37:47.284Z"
   },
   {
    "duration": 20,
    "start_time": "2023-03-01T17:37:47.303Z"
   },
   {
    "duration": 15,
    "start_time": "2023-03-01T17:37:47.325Z"
   },
   {
    "duration": 19,
    "start_time": "2023-03-01T17:37:47.341Z"
   },
   {
    "duration": 14,
    "start_time": "2023-03-01T17:37:47.362Z"
   },
   {
    "duration": 28,
    "start_time": "2023-03-01T17:37:47.377Z"
   },
   {
    "duration": 17,
    "start_time": "2023-03-01T17:37:47.409Z"
   },
   {
    "duration": 8,
    "start_time": "2023-03-01T17:37:47.428Z"
   },
   {
    "duration": 91,
    "start_time": "2023-03-01T17:37:47.438Z"
   },
   {
    "duration": 32,
    "start_time": "2023-03-01T17:37:47.532Z"
   },
   {
    "duration": 43,
    "start_time": "2023-03-01T17:37:47.566Z"
   },
   {
    "duration": 28,
    "start_time": "2023-03-01T17:37:47.612Z"
   },
   {
    "duration": 251,
    "start_time": "2023-03-01T17:37:47.642Z"
   },
   {
    "duration": 0,
    "start_time": "2023-03-01T17:37:47.894Z"
   },
   {
    "duration": 0,
    "start_time": "2023-03-01T17:37:47.895Z"
   },
   {
    "duration": 0,
    "start_time": "2023-03-01T17:37:47.904Z"
   },
   {
    "duration": 0,
    "start_time": "2023-03-01T17:37:47.905Z"
   },
   {
    "duration": 0,
    "start_time": "2023-03-01T17:37:47.906Z"
   },
   {
    "duration": 5,
    "start_time": "2023-03-01T17:41:14.194Z"
   },
   {
    "duration": 397,
    "start_time": "2023-03-01T17:41:14.822Z"
   },
   {
    "duration": 16,
    "start_time": "2023-03-01T17:41:15.400Z"
   },
   {
    "duration": 9,
    "start_time": "2023-03-01T17:41:15.931Z"
   },
   {
    "duration": 10,
    "start_time": "2023-03-01T17:41:16.118Z"
   },
   {
    "duration": 25,
    "start_time": "2023-03-01T17:41:16.599Z"
   },
   {
    "duration": 17,
    "start_time": "2023-03-01T17:41:17.534Z"
   },
   {
    "duration": 15,
    "start_time": "2023-03-01T17:41:18.621Z"
   },
   {
    "duration": 11,
    "start_time": "2023-03-01T17:41:19.933Z"
   },
   {
    "duration": 4,
    "start_time": "2023-03-01T17:41:20.548Z"
   },
   {
    "duration": 56,
    "start_time": "2023-03-01T17:41:22.017Z"
   },
   {
    "duration": 27,
    "start_time": "2023-03-01T17:41:25.283Z"
   },
   {
    "duration": 21,
    "start_time": "2023-03-01T17:41:26.978Z"
   },
   {
    "duration": 21,
    "start_time": "2023-03-01T17:41:27.886Z"
   },
   {
    "duration": 72,
    "start_time": "2023-03-01T17:42:59.641Z"
   },
   {
    "duration": 85,
    "start_time": "2023-03-01T17:43:49.121Z"
   },
   {
    "duration": 51,
    "start_time": "2023-03-01T18:06:06.267Z"
   },
   {
    "duration": 14,
    "start_time": "2023-03-01T18:07:08.672Z"
   },
   {
    "duration": 73,
    "start_time": "2023-03-01T18:07:33.231Z"
   },
   {
    "duration": 22,
    "start_time": "2023-03-01T18:09:26.968Z"
   },
   {
    "duration": 23,
    "start_time": "2023-03-01T18:11:22.286Z"
   },
   {
    "duration": 20,
    "start_time": "2023-03-01T18:12:37.180Z"
   },
   {
    "duration": 11,
    "start_time": "2023-03-01T18:50:17.064Z"
   },
   {
    "duration": 12,
    "start_time": "2023-03-01T18:50:38.420Z"
   },
   {
    "duration": 1320,
    "start_time": "2023-03-01T18:52:21.970Z"
   },
   {
    "duration": 1301,
    "start_time": "2023-03-01T18:55:09.592Z"
   },
   {
    "duration": 1327,
    "start_time": "2023-03-01T18:55:59.593Z"
   },
   {
    "duration": 1369,
    "start_time": "2023-03-01T18:58:46.904Z"
   },
   {
    "duration": 24,
    "start_time": "2023-03-01T19:38:40.870Z"
   },
   {
    "duration": 21,
    "start_time": "2023-03-01T19:40:24.659Z"
   },
   {
    "duration": 41,
    "start_time": "2023-03-01T19:49:49.285Z"
   },
   {
    "duration": 5,
    "start_time": "2023-03-01T20:10:04.063Z"
   },
   {
    "duration": 4,
    "start_time": "2023-03-01T20:11:09.748Z"
   },
   {
    "duration": 6,
    "start_time": "2023-03-01T20:12:02.804Z"
   },
   {
    "duration": 4,
    "start_time": "2023-03-01T20:12:52.353Z"
   },
   {
    "duration": 3,
    "start_time": "2023-03-01T20:13:03.376Z"
   },
   {
    "duration": 3,
    "start_time": "2023-03-01T20:14:50.137Z"
   },
   {
    "duration": 6,
    "start_time": "2023-03-01T20:20:16.018Z"
   },
   {
    "duration": 4,
    "start_time": "2023-03-01T20:25:20.145Z"
   },
   {
    "duration": 6,
    "start_time": "2023-03-01T20:52:17.052Z"
   },
   {
    "duration": 4,
    "start_time": "2023-03-01T20:52:21.689Z"
   },
   {
    "duration": 4,
    "start_time": "2023-03-01T20:52:25.101Z"
   },
   {
    "duration": 4,
    "start_time": "2023-03-01T20:52:25.674Z"
   },
   {
    "duration": 1186,
    "start_time": "2023-03-01T20:52:33.239Z"
   },
   {
    "duration": 424,
    "start_time": "2023-03-01T20:52:34.434Z"
   },
   {
    "duration": 16,
    "start_time": "2023-03-01T20:52:34.860Z"
   },
   {
    "duration": 11,
    "start_time": "2023-03-01T20:52:34.878Z"
   },
   {
    "duration": 33,
    "start_time": "2023-03-01T20:52:34.891Z"
   },
   {
    "duration": 30,
    "start_time": "2023-03-01T20:52:34.931Z"
   },
   {
    "duration": 20,
    "start_time": "2023-03-01T20:52:34.963Z"
   },
   {
    "duration": 14,
    "start_time": "2023-03-01T20:52:34.985Z"
   },
   {
    "duration": 21,
    "start_time": "2023-03-01T20:52:35.001Z"
   },
   {
    "duration": 24,
    "start_time": "2023-03-01T20:52:35.025Z"
   },
   {
    "duration": 67,
    "start_time": "2023-03-01T20:52:35.050Z"
   },
   {
    "duration": 31,
    "start_time": "2023-03-01T20:52:35.119Z"
   },
   {
    "duration": 36,
    "start_time": "2023-03-01T20:52:35.151Z"
   },
   {
    "duration": 44,
    "start_time": "2023-03-01T20:52:35.189Z"
   },
   {
    "duration": 175,
    "start_time": "2023-03-01T20:52:35.235Z"
   },
   {
    "duration": 35,
    "start_time": "2023-03-01T20:52:35.412Z"
   },
   {
    "duration": 174,
    "start_time": "2023-03-01T20:52:35.449Z"
   },
   {
    "duration": 1641,
    "start_time": "2023-03-01T20:52:35.625Z"
   },
   {
    "duration": 1416,
    "start_time": "2023-03-01T20:52:37.269Z"
   },
   {
    "duration": 1367,
    "start_time": "2023-03-01T20:52:38.687Z"
   },
   {
    "duration": 4,
    "start_time": "2023-03-01T20:52:40.055Z"
   },
   {
    "duration": 13,
    "start_time": "2023-03-01T20:52:40.060Z"
   },
   {
    "duration": 3,
    "start_time": "2023-03-01T20:52:40.075Z"
   },
   {
    "duration": 8,
    "start_time": "2023-03-01T20:52:40.079Z"
   },
   {
    "duration": 8,
    "start_time": "2023-03-01T21:02:06.832Z"
   },
   {
    "duration": 8,
    "start_time": "2023-03-01T21:03:55.427Z"
   },
   {
    "duration": 5,
    "start_time": "2023-03-01T21:04:07.147Z"
   },
   {
    "duration": 3,
    "start_time": "2023-03-01T21:10:02.756Z"
   },
   {
    "duration": 3,
    "start_time": "2023-03-01T21:20:30.689Z"
   },
   {
    "duration": 73,
    "start_time": "2023-03-01T21:25:58.231Z"
   },
   {
    "duration": 92,
    "start_time": "2023-03-01T21:32:55.517Z"
   },
   {
    "duration": 1356,
    "start_time": "2023-03-01T21:32:57.900Z"
   },
   {
    "duration": 27,
    "start_time": "2023-03-01T21:33:28.659Z"
   },
   {
    "duration": 4,
    "start_time": "2023-03-01T21:45:27.557Z"
   },
   {
    "duration": 3,
    "start_time": "2023-03-01T21:47:24.193Z"
   },
   {
    "duration": 5,
    "start_time": "2023-03-01T21:47:26.672Z"
   },
   {
    "duration": 5,
    "start_time": "2023-03-01T21:47:27.223Z"
   },
   {
    "duration": 3,
    "start_time": "2023-03-01T22:37:24.819Z"
   },
   {
    "duration": 403,
    "start_time": "2023-03-01T22:37:25.361Z"
   },
   {
    "duration": 9,
    "start_time": "2023-03-01T22:37:26.130Z"
   },
   {
    "duration": 10,
    "start_time": "2023-03-01T22:37:26.979Z"
   },
   {
    "duration": 13,
    "start_time": "2023-03-01T22:37:27.961Z"
   },
   {
    "duration": 15,
    "start_time": "2023-03-01T22:37:28.815Z"
   },
   {
    "duration": 15,
    "start_time": "2023-03-01T22:37:29.603Z"
   },
   {
    "duration": 14,
    "start_time": "2023-03-01T22:37:30.373Z"
   },
   {
    "duration": 10,
    "start_time": "2023-03-01T22:37:31.758Z"
   },
   {
    "duration": 10,
    "start_time": "2023-03-01T22:38:32.229Z"
   },
   {
    "duration": 10,
    "start_time": "2023-03-01T22:38:48.062Z"
   },
   {
    "duration": 100,
    "start_time": "2023-03-01T22:40:56.181Z"
   },
   {
    "duration": 22,
    "start_time": "2023-03-01T22:41:15.588Z"
   },
   {
    "duration": 24,
    "start_time": "2023-03-01T22:41:36.328Z"
   },
   {
    "duration": 33,
    "start_time": "2023-03-01T22:41:51.764Z"
   },
   {
    "duration": 15,
    "start_time": "2023-03-01T22:43:09.902Z"
   },
   {
    "duration": 17,
    "start_time": "2023-03-01T22:43:41.864Z"
   },
   {
    "duration": 21,
    "start_time": "2023-03-01T22:44:16.250Z"
   },
   {
    "duration": 21,
    "start_time": "2023-03-01T22:44:42.837Z"
   },
   {
    "duration": 21,
    "start_time": "2023-03-01T22:44:53.388Z"
   },
   {
    "duration": 55,
    "start_time": "2023-03-01T22:46:32.990Z"
   },
   {
    "duration": 119,
    "start_time": "2023-03-01T22:47:17.362Z"
   },
   {
    "duration": 138,
    "start_time": "2023-03-01T22:47:38.103Z"
   },
   {
    "duration": 141,
    "start_time": "2023-03-01T22:47:45.012Z"
   },
   {
    "duration": 46,
    "start_time": "2023-03-01T22:48:07.331Z"
   },
   {
    "duration": 49,
    "start_time": "2023-03-01T22:48:15.639Z"
   },
   {
    "duration": 45,
    "start_time": "2023-03-01T22:48:52.070Z"
   },
   {
    "duration": 51,
    "start_time": "2023-03-01T22:48:58.056Z"
   },
   {
    "duration": 29,
    "start_time": "2023-03-01T22:50:18.666Z"
   },
   {
    "duration": 29,
    "start_time": "2023-03-01T22:50:21.033Z"
   },
   {
    "duration": 28,
    "start_time": "2023-03-01T22:50:28.034Z"
   },
   {
    "duration": 13,
    "start_time": "2023-03-01T22:56:05.659Z"
   },
   {
    "duration": 17,
    "start_time": "2023-03-01T23:04:40.375Z"
   },
   {
    "duration": 29,
    "start_time": "2023-03-01T23:05:19.026Z"
   },
   {
    "duration": 10,
    "start_time": "2023-03-01T23:25:38.211Z"
   },
   {
    "duration": 13,
    "start_time": "2023-03-01T23:26:18.587Z"
   },
   {
    "duration": 11,
    "start_time": "2023-03-01T23:29:45.552Z"
   },
   {
    "duration": 12,
    "start_time": "2023-03-01T23:31:14.991Z"
   },
   {
    "duration": 11,
    "start_time": "2023-03-01T23:31:40.963Z"
   },
   {
    "duration": 11,
    "start_time": "2023-03-01T23:32:21.632Z"
   },
   {
    "duration": 9,
    "start_time": "2023-03-01T23:38:39.119Z"
   },
   {
    "duration": 20,
    "start_time": "2023-03-01T23:40:34.680Z"
   },
   {
    "duration": 37,
    "start_time": "2023-03-01T23:41:12.560Z"
   },
   {
    "duration": 49,
    "start_time": "2023-03-01T23:41:41.086Z"
   },
   {
    "duration": 37,
    "start_time": "2023-03-01T23:42:14.223Z"
   },
   {
    "duration": 41,
    "start_time": "2023-03-01T23:42:58.379Z"
   },
   {
    "duration": 22,
    "start_time": "2023-03-02T00:02:35.463Z"
   },
   {
    "duration": 21,
    "start_time": "2023-03-02T00:02:46.854Z"
   },
   {
    "duration": 11,
    "start_time": "2023-03-02T00:05:21.060Z"
   },
   {
    "duration": 43,
    "start_time": "2023-03-02T00:10:51.263Z"
   },
   {
    "duration": 11,
    "start_time": "2023-03-02T00:13:51.601Z"
   },
   {
    "duration": 20,
    "start_time": "2023-03-02T00:14:02.036Z"
   },
   {
    "duration": 11,
    "start_time": "2023-03-02T00:14:03.817Z"
   },
   {
    "duration": 14,
    "start_time": "2023-03-02T00:31:09.528Z"
   },
   {
    "duration": 9,
    "start_time": "2023-03-02T00:32:50.233Z"
   },
   {
    "duration": 5,
    "start_time": "2023-03-02T00:33:47.618Z"
   },
   {
    "duration": 6,
    "start_time": "2023-03-02T00:34:20.593Z"
   },
   {
    "duration": 6,
    "start_time": "2023-03-02T00:34:47.036Z"
   },
   {
    "duration": 3,
    "start_time": "2023-03-02T00:36:54.524Z"
   },
   {
    "duration": 9,
    "start_time": "2023-03-02T00:52:48.120Z"
   },
   {
    "duration": 44,
    "start_time": "2023-03-02T00:54:02.213Z"
   },
   {
    "duration": 40,
    "start_time": "2023-03-02T00:56:58.459Z"
   },
   {
    "duration": 15,
    "start_time": "2023-03-02T00:57:07.530Z"
   },
   {
    "duration": 40,
    "start_time": "2023-03-02T00:58:50.571Z"
   },
   {
    "duration": 11,
    "start_time": "2023-03-02T01:27:39.606Z"
   },
   {
    "duration": 11,
    "start_time": "2023-03-02T01:27:44.614Z"
   },
   {
    "duration": 12,
    "start_time": "2023-03-02T01:27:50.155Z"
   },
   {
    "duration": 3,
    "start_time": "2023-03-02T01:28:11.233Z"
   },
   {
    "duration": 7,
    "start_time": "2023-03-02T01:28:13.040Z"
   },
   {
    "duration": 7,
    "start_time": "2023-03-02T01:28:13.937Z"
   },
   {
    "duration": 6,
    "start_time": "2023-03-02T01:28:15.156Z"
   },
   {
    "duration": 8,
    "start_time": "2023-03-02T01:30:01.437Z"
   },
   {
    "duration": 7,
    "start_time": "2023-03-02T01:30:03.728Z"
   },
   {
    "duration": 3737,
    "start_time": "2023-03-02T01:48:23.610Z"
   },
   {
    "duration": 3,
    "start_time": "2023-03-02T01:49:39.720Z"
   },
   {
    "duration": 3,
    "start_time": "2023-03-02T01:51:42.445Z"
   },
   {
    "duration": 3,
    "start_time": "2023-03-02T01:51:43.977Z"
   },
   {
    "duration": 2,
    "start_time": "2023-03-02T01:51:44.679Z"
   },
   {
    "duration": 3,
    "start_time": "2023-03-02T01:51:45.374Z"
   },
   {
    "duration": 4,
    "start_time": "2023-03-02T01:51:58.276Z"
   },
   {
    "duration": 3759,
    "start_time": "2023-03-02T01:51:59.668Z"
   },
   {
    "duration": 2,
    "start_time": "2023-03-02T01:52:03.429Z"
   },
   {
    "duration": 6,
    "start_time": "2023-03-02T01:52:03.433Z"
   },
   {
    "duration": 6,
    "start_time": "2023-03-02T01:52:03.441Z"
   },
   {
    "duration": 5,
    "start_time": "2023-03-02T01:52:03.449Z"
   },
   {
    "duration": 1014,
    "start_time": "2023-03-02T01:52:12.029Z"
   },
   {
    "duration": 359,
    "start_time": "2023-03-02T01:52:13.045Z"
   },
   {
    "duration": 35,
    "start_time": "2023-03-02T01:52:13.406Z"
   },
   {
    "duration": 26,
    "start_time": "2023-03-02T01:52:13.443Z"
   },
   {
    "duration": 42,
    "start_time": "2023-03-02T01:52:13.471Z"
   },
   {
    "duration": 46,
    "start_time": "2023-03-02T01:52:13.514Z"
   },
   {
    "duration": 59,
    "start_time": "2023-03-02T01:52:13.561Z"
   },
   {
    "duration": 47,
    "start_time": "2023-03-02T01:52:13.622Z"
   },
   {
    "duration": 42,
    "start_time": "2023-03-02T01:52:13.670Z"
   },
   {
    "duration": 28,
    "start_time": "2023-03-02T01:52:13.714Z"
   },
   {
    "duration": 26,
    "start_time": "2023-03-02T01:52:13.744Z"
   },
   {
    "duration": 62,
    "start_time": "2023-03-02T01:52:13.771Z"
   },
   {
    "duration": 17,
    "start_time": "2023-03-02T01:52:13.835Z"
   },
   {
    "duration": 27,
    "start_time": "2023-03-02T01:52:13.853Z"
   },
   {
    "duration": 28,
    "start_time": "2023-03-02T01:52:13.881Z"
   },
   {
    "duration": 46,
    "start_time": "2023-03-02T01:52:13.910Z"
   },
   {
    "duration": 39,
    "start_time": "2023-03-02T01:52:13.958Z"
   },
   {
    "duration": 0,
    "start_time": "2023-03-02T01:52:13.999Z"
   },
   {
    "duration": 0,
    "start_time": "2023-03-02T01:52:14.000Z"
   },
   {
    "duration": 0,
    "start_time": "2023-03-02T01:52:14.001Z"
   },
   {
    "duration": 0,
    "start_time": "2023-03-02T01:52:14.002Z"
   },
   {
    "duration": 0,
    "start_time": "2023-03-02T01:52:14.003Z"
   },
   {
    "duration": 0,
    "start_time": "2023-03-02T01:52:14.003Z"
   },
   {
    "duration": 0,
    "start_time": "2023-03-02T01:52:14.004Z"
   },
   {
    "duration": 0,
    "start_time": "2023-03-02T01:52:14.005Z"
   },
   {
    "duration": 0,
    "start_time": "2023-03-02T01:52:14.007Z"
   },
   {
    "duration": 0,
    "start_time": "2023-03-02T01:52:14.009Z"
   },
   {
    "duration": 0,
    "start_time": "2023-03-02T01:52:14.010Z"
   },
   {
    "duration": 0,
    "start_time": "2023-03-02T01:52:14.012Z"
   },
   {
    "duration": 0,
    "start_time": "2023-03-02T01:52:14.014Z"
   },
   {
    "duration": 0,
    "start_time": "2023-03-02T01:52:14.015Z"
   },
   {
    "duration": 0,
    "start_time": "2023-03-02T01:52:14.015Z"
   },
   {
    "duration": 0,
    "start_time": "2023-03-02T01:52:14.016Z"
   },
   {
    "duration": 0,
    "start_time": "2023-03-02T01:52:14.017Z"
   },
   {
    "duration": 92,
    "start_time": "2023-03-02T01:52:21.623Z"
   },
   {
    "duration": 3,
    "start_time": "2023-03-02T01:52:22.260Z"
   },
   {
    "duration": 4,
    "start_time": "2023-03-02T01:52:32.773Z"
   },
   {
    "duration": 8,
    "start_time": "2023-03-02T01:52:33.527Z"
   },
   {
    "duration": 3,
    "start_time": "2023-03-02T01:52:59.639Z"
   },
   {
    "duration": 364,
    "start_time": "2023-03-02T01:53:00.307Z"
   },
   {
    "duration": 36,
    "start_time": "2023-03-02T01:53:00.871Z"
   },
   {
    "duration": 21,
    "start_time": "2023-03-02T01:53:01.396Z"
   },
   {
    "duration": 20,
    "start_time": "2023-03-02T01:53:01.582Z"
   },
   {
    "duration": 43,
    "start_time": "2023-03-02T01:53:01.783Z"
   },
   {
    "duration": 38,
    "start_time": "2023-03-02T01:53:01.946Z"
   },
   {
    "duration": 42,
    "start_time": "2023-03-02T01:53:02.143Z"
   },
   {
    "duration": 25,
    "start_time": "2023-03-02T01:53:02.314Z"
   },
   {
    "duration": 25,
    "start_time": "2023-03-02T01:53:02.487Z"
   },
   {
    "duration": 26,
    "start_time": "2023-03-02T01:53:02.681Z"
   },
   {
    "duration": 43,
    "start_time": "2023-03-02T01:53:02.860Z"
   },
   {
    "duration": 12,
    "start_time": "2023-03-02T01:53:03.062Z"
   },
   {
    "duration": 21,
    "start_time": "2023-03-02T01:53:03.225Z"
   },
   {
    "duration": 14,
    "start_time": "2023-03-02T01:53:03.412Z"
   },
   {
    "duration": 42,
    "start_time": "2023-03-02T01:53:03.576Z"
   },
   {
    "duration": 45,
    "start_time": "2023-03-02T01:53:03.757Z"
   },
   {
    "duration": 21,
    "start_time": "2023-03-02T01:53:04.075Z"
   },
   {
    "duration": 15,
    "start_time": "2023-03-02T01:53:04.267Z"
   },
   {
    "duration": 4,
    "start_time": "2023-03-02T01:53:04.431Z"
   },
   {
    "duration": 7,
    "start_time": "2023-03-02T01:53:04.807Z"
   },
   {
    "duration": 7,
    "start_time": "2023-03-02T01:53:05.000Z"
   },
   {
    "duration": 7,
    "start_time": "2023-03-02T01:53:05.215Z"
   },
   {
    "duration": 3,
    "start_time": "2023-03-02T01:53:06.292Z"
   },
   {
    "duration": 3,
    "start_time": "2023-03-02T01:53:07.783Z"
   },
   {
    "duration": 6,
    "start_time": "2023-03-02T01:53:08.446Z"
   },
   {
    "duration": 3,
    "start_time": "2023-03-02T01:53:10.608Z"
   },
   {
    "duration": 3,
    "start_time": "2023-03-02T01:53:11.304Z"
   },
   {
    "duration": 3759,
    "start_time": "2023-03-02T01:53:12.115Z"
   },
   {
    "duration": 2,
    "start_time": "2023-03-02T01:53:15.876Z"
   },
   {
    "duration": 12,
    "start_time": "2023-03-02T01:53:15.880Z"
   },
   {
    "duration": 3,
    "start_time": "2023-03-02T01:53:16.157Z"
   },
   {
    "duration": 7,
    "start_time": "2023-03-02T01:53:17.063Z"
   },
   {
    "duration": 3,
    "start_time": "2023-03-02T01:53:31.433Z"
   },
   {
    "duration": 13,
    "start_time": "2023-03-02T01:59:00.835Z"
   },
   {
    "duration": 3,
    "start_time": "2023-03-02T02:00:28.011Z"
   },
   {
    "duration": 6,
    "start_time": "2023-03-02T02:00:38.326Z"
   },
   {
    "duration": 2,
    "start_time": "2023-03-02T02:02:47.282Z"
   },
   {
    "duration": 3,
    "start_time": "2023-03-02T02:02:48.589Z"
   },
   {
    "duration": 3,
    "start_time": "2023-03-02T02:02:49.218Z"
   },
   {
    "duration": 7,
    "start_time": "2023-03-02T02:02:49.964Z"
   },
   {
    "duration": 7,
    "start_time": "2023-03-02T02:03:48.535Z"
   },
   {
    "duration": 6,
    "start_time": "2023-03-02T02:04:13.929Z"
   },
   {
    "duration": 1477,
    "start_time": "2023-03-02T19:24:22.863Z"
   },
   {
    "duration": 393,
    "start_time": "2023-03-02T19:24:24.342Z"
   },
   {
    "duration": 44,
    "start_time": "2023-03-02T19:24:24.737Z"
   },
   {
    "duration": 31,
    "start_time": "2023-03-02T19:24:24.783Z"
   },
   {
    "duration": 46,
    "start_time": "2023-03-02T19:24:24.816Z"
   },
   {
    "duration": 49,
    "start_time": "2023-03-02T19:24:24.864Z"
   },
   {
    "duration": 63,
    "start_time": "2023-03-02T19:24:24.915Z"
   },
   {
    "duration": 50,
    "start_time": "2023-03-02T19:24:24.980Z"
   },
   {
    "duration": 45,
    "start_time": "2023-03-02T19:24:25.032Z"
   },
   {
    "duration": 30,
    "start_time": "2023-03-02T19:24:25.079Z"
   },
   {
    "duration": 50,
    "start_time": "2023-03-02T19:24:25.111Z"
   },
   {
    "duration": 45,
    "start_time": "2023-03-02T19:24:25.163Z"
   },
   {
    "duration": 17,
    "start_time": "2023-03-02T19:24:25.210Z"
   },
   {
    "duration": 27,
    "start_time": "2023-03-02T19:24:25.248Z"
   },
   {
    "duration": 28,
    "start_time": "2023-03-02T19:24:25.277Z"
   },
   {
    "duration": 70,
    "start_time": "2023-03-02T19:24:25.307Z"
   },
   {
    "duration": 27,
    "start_time": "2023-03-02T19:24:25.379Z"
   },
   {
    "duration": 48,
    "start_time": "2023-03-02T19:24:25.409Z"
   },
   {
    "duration": 101,
    "start_time": "2023-03-02T19:24:25.548Z"
   },
   {
    "duration": 12,
    "start_time": "2023-03-02T19:24:25.651Z"
   },
   {
    "duration": 6,
    "start_time": "2023-03-02T19:24:25.665Z"
   },
   {
    "duration": 7,
    "start_time": "2023-03-02T19:24:25.673Z"
   },
   {
    "duration": 3,
    "start_time": "2023-03-02T19:24:25.681Z"
   },
   {
    "duration": 6,
    "start_time": "2023-03-02T19:24:25.686Z"
   },
   {
    "duration": 7,
    "start_time": "2023-03-02T19:24:25.694Z"
   },
   {
    "duration": 4,
    "start_time": "2023-03-02T19:24:25.702Z"
   },
   {
    "duration": 5,
    "start_time": "2023-03-02T19:24:25.748Z"
   },
   {
    "duration": 3866,
    "start_time": "2023-03-02T19:24:25.755Z"
   },
   {
    "duration": 3,
    "start_time": "2023-03-02T19:24:29.622Z"
   },
   {
    "duration": 5,
    "start_time": "2023-03-02T19:24:29.627Z"
   },
   {
    "duration": 5,
    "start_time": "2023-03-02T19:24:29.634Z"
   },
   {
    "duration": 11,
    "start_time": "2023-03-02T19:24:29.648Z"
   },
   {
    "duration": 6,
    "start_time": "2023-03-02T19:24:29.660Z"
   },
   {
    "duration": 7,
    "start_time": "2023-03-02T19:24:29.668Z"
   },
   {
    "duration": 67,
    "start_time": "2023-03-02T19:24:29.677Z"
   },
   {
    "duration": 0,
    "start_time": "2023-03-02T19:24:29.746Z"
   },
   {
    "duration": 44,
    "start_time": "2023-03-02T22:33:10.460Z"
   },
   {
    "duration": 1004,
    "start_time": "2023-03-02T22:33:19.350Z"
   },
   {
    "duration": 741,
    "start_time": "2023-03-02T22:33:20.356Z"
   },
   {
    "duration": 33,
    "start_time": "2023-03-02T22:33:21.273Z"
   },
   {
    "duration": 31,
    "start_time": "2023-03-02T22:33:55.965Z"
   },
   {
    "duration": 28,
    "start_time": "2023-03-02T22:35:34.027Z"
   },
   {
    "duration": 18,
    "start_time": "2023-03-02T22:37:14.615Z"
   },
   {
    "duration": 18,
    "start_time": "2023-03-02T22:37:41.786Z"
   },
   {
    "duration": 21,
    "start_time": "2023-03-02T22:39:25.436Z"
   },
   {
    "duration": 18,
    "start_time": "2023-03-02T22:39:51.368Z"
   },
   {
    "duration": 17,
    "start_time": "2023-03-02T22:39:56.125Z"
   },
   {
    "duration": 18,
    "start_time": "2023-03-02T22:40:18.610Z"
   },
   {
    "duration": 112,
    "start_time": "2023-03-02T22:42:18.376Z"
   },
   {
    "duration": 121,
    "start_time": "2023-03-02T22:42:30.127Z"
   },
   {
    "duration": 59,
    "start_time": "2023-03-02T22:43:33.357Z"
   },
   {
    "duration": 46,
    "start_time": "2023-03-02T22:43:51.318Z"
   },
   {
    "duration": 113,
    "start_time": "2023-03-02T22:44:01.744Z"
   },
   {
    "duration": 106,
    "start_time": "2023-03-02T22:44:20.280Z"
   },
   {
    "duration": 47,
    "start_time": "2023-03-02T22:47:50.826Z"
   },
   {
    "duration": 56,
    "start_time": "2023-03-02T22:47:59.525Z"
   },
   {
    "duration": 51,
    "start_time": "2023-03-02T22:48:05.468Z"
   },
   {
    "duration": 112,
    "start_time": "2023-03-02T22:52:11.922Z"
   },
   {
    "duration": 50,
    "start_time": "2023-03-02T22:52:29.332Z"
   },
   {
    "duration": 57,
    "start_time": "2023-03-02T22:52:43.034Z"
   },
   {
    "duration": 50,
    "start_time": "2023-03-02T22:53:11.745Z"
   },
   {
    "duration": 43,
    "start_time": "2023-03-02T22:53:50.839Z"
   },
   {
    "duration": 46,
    "start_time": "2023-03-02T22:54:02.034Z"
   },
   {
    "duration": 44,
    "start_time": "2023-03-02T22:54:02.912Z"
   },
   {
    "duration": 125,
    "start_time": "2023-03-02T23:16:42.487Z"
   },
   {
    "duration": 113,
    "start_time": "2023-03-02T23:17:12.262Z"
   },
   {
    "duration": 115,
    "start_time": "2023-03-02T23:18:38.652Z"
   },
   {
    "duration": 125,
    "start_time": "2023-03-02T23:19:06.433Z"
   },
   {
    "duration": 117,
    "start_time": "2023-03-02T23:19:48.780Z"
   },
   {
    "duration": 125,
    "start_time": "2023-03-02T23:24:56.476Z"
   },
   {
    "duration": 101,
    "start_time": "2023-03-02T23:27:21.669Z"
   },
   {
    "duration": 119,
    "start_time": "2023-03-02T23:27:40.426Z"
   },
   {
    "duration": 49,
    "start_time": "2023-03-02T23:28:02.159Z"
   },
   {
    "duration": 767,
    "start_time": "2023-03-02T23:28:41.777Z"
   },
   {
    "duration": 781,
    "start_time": "2023-03-02T23:29:13.701Z"
   },
   {
    "duration": 115,
    "start_time": "2023-03-02T23:29:28.887Z"
   },
   {
    "duration": 134,
    "start_time": "2023-03-02T23:34:30.777Z"
   },
   {
    "duration": 52,
    "start_time": "2023-03-02T23:35:24.368Z"
   },
   {
    "duration": 24,
    "start_time": "2023-03-02T23:36:33.767Z"
   },
   {
    "duration": 24,
    "start_time": "2023-03-02T23:36:44.501Z"
   },
   {
    "duration": 47,
    "start_time": "2023-03-02T23:39:22.218Z"
   },
   {
    "duration": 4,
    "start_time": "2023-03-03T00:38:00.853Z"
   },
   {
    "duration": 354,
    "start_time": "2023-03-03T00:38:01.341Z"
   },
   {
    "duration": 32,
    "start_time": "2023-03-03T00:38:01.925Z"
   },
   {
    "duration": 19,
    "start_time": "2023-03-03T00:38:03.432Z"
   },
   {
    "duration": 21,
    "start_time": "2023-03-03T00:38:03.701Z"
   },
   {
    "duration": 108,
    "start_time": "2023-03-03T00:38:04.688Z"
   },
   {
    "duration": 46,
    "start_time": "2023-03-03T00:38:05.814Z"
   },
   {
    "duration": 24,
    "start_time": "2023-03-03T00:38:06.652Z"
   },
   {
    "duration": 66,
    "start_time": "2023-03-03T00:38:08.825Z"
   },
   {
    "duration": 22,
    "start_time": "2023-03-03T00:38:09.478Z"
   },
   {
    "duration": 23,
    "start_time": "2023-03-03T00:38:10.614Z"
   },
   {
    "duration": 37,
    "start_time": "2023-03-03T00:38:13.485Z"
   },
   {
    "duration": 9,
    "start_time": "2023-03-03T00:38:16.745Z"
   },
   {
    "duration": 27,
    "start_time": "2023-03-03T00:38:17.456Z"
   },
   {
    "duration": 1070,
    "start_time": "2023-03-04T12:16:36.603Z"
   },
   {
    "duration": 918,
    "start_time": "2023-03-04T12:16:37.676Z"
   },
   {
    "duration": 38,
    "start_time": "2023-03-04T12:16:38.595Z"
   },
   {
    "duration": 37,
    "start_time": "2023-03-04T12:16:38.636Z"
   },
   {
    "duration": 45,
    "start_time": "2023-03-04T12:16:38.675Z"
   },
   {
    "duration": 140,
    "start_time": "2023-03-04T12:16:38.722Z"
   },
   {
    "duration": 55,
    "start_time": "2023-03-04T12:16:38.869Z"
   },
   {
    "duration": 37,
    "start_time": "2023-03-04T12:16:38.926Z"
   },
   {
    "duration": 75,
    "start_time": "2023-03-04T12:16:38.965Z"
   },
   {
    "duration": 1,
    "start_time": "2023-03-04T12:16:39.042Z"
   },
   {
    "duration": 0,
    "start_time": "2023-03-04T12:16:39.044Z"
   },
   {
    "duration": 0,
    "start_time": "2023-03-04T12:16:39.045Z"
   },
   {
    "duration": 0,
    "start_time": "2023-03-04T12:16:39.046Z"
   },
   {
    "duration": 0,
    "start_time": "2023-03-04T12:16:39.047Z"
   },
   {
    "duration": 0,
    "start_time": "2023-03-04T12:16:39.048Z"
   },
   {
    "duration": 0,
    "start_time": "2023-03-04T12:16:39.048Z"
   },
   {
    "duration": 0,
    "start_time": "2023-03-04T12:16:39.052Z"
   },
   {
    "duration": 0,
    "start_time": "2023-03-04T12:16:39.053Z"
   },
   {
    "duration": 0,
    "start_time": "2023-03-04T12:16:39.054Z"
   },
   {
    "duration": 0,
    "start_time": "2023-03-04T12:16:39.059Z"
   },
   {
    "duration": 0,
    "start_time": "2023-03-04T12:16:39.060Z"
   },
   {
    "duration": 0,
    "start_time": "2023-03-04T12:16:39.064Z"
   },
   {
    "duration": 0,
    "start_time": "2023-03-04T12:16:39.065Z"
   },
   {
    "duration": 0,
    "start_time": "2023-03-04T12:16:39.066Z"
   },
   {
    "duration": 0,
    "start_time": "2023-03-04T12:16:39.068Z"
   },
   {
    "duration": 0,
    "start_time": "2023-03-04T12:16:39.069Z"
   },
   {
    "duration": 0,
    "start_time": "2023-03-04T12:16:39.070Z"
   },
   {
    "duration": 0,
    "start_time": "2023-03-04T12:16:39.071Z"
   },
   {
    "duration": 0,
    "start_time": "2023-03-04T12:16:39.073Z"
   },
   {
    "duration": 0,
    "start_time": "2023-03-04T12:16:39.074Z"
   },
   {
    "duration": 0,
    "start_time": "2023-03-04T12:16:39.075Z"
   },
   {
    "duration": 0,
    "start_time": "2023-03-04T12:16:39.076Z"
   },
   {
    "duration": 0,
    "start_time": "2023-03-04T12:16:39.078Z"
   },
   {
    "duration": 0,
    "start_time": "2023-03-04T12:16:39.079Z"
   },
   {
    "duration": 0,
    "start_time": "2023-03-04T12:16:39.080Z"
   },
   {
    "duration": 4,
    "start_time": "2023-03-04T12:16:54.014Z"
   },
   {
    "duration": 391,
    "start_time": "2023-03-04T12:16:54.843Z"
   },
   {
    "duration": 36,
    "start_time": "2023-03-04T12:16:55.604Z"
   },
   {
    "duration": 22,
    "start_time": "2023-03-04T12:16:57.559Z"
   },
   {
    "duration": 21,
    "start_time": "2023-03-04T12:16:58.619Z"
   },
   {
    "duration": 135,
    "start_time": "2023-03-04T12:16:59.731Z"
   },
   {
    "duration": 50,
    "start_time": "2023-03-04T12:17:00.663Z"
   },
   {
    "duration": 29,
    "start_time": "2023-03-04T12:17:01.404Z"
   },
   {
    "duration": 26,
    "start_time": "2023-03-04T12:17:19.464Z"
   },
   {
    "duration": 25,
    "start_time": "2023-03-04T12:17:20.666Z"
   },
   {
    "duration": 38,
    "start_time": "2023-03-04T12:17:21.603Z"
   },
   {
    "duration": 11,
    "start_time": "2023-03-04T12:17:23.426Z"
   },
   {
    "duration": 35,
    "start_time": "2023-03-04T12:17:24.142Z"
   },
   {
    "duration": 52,
    "start_time": "2023-03-04T12:17:25.495Z"
   },
   {
    "duration": 15,
    "start_time": "2023-03-04T12:17:26.493Z"
   },
   {
    "duration": 5,
    "start_time": "2023-03-04T12:37:47.804Z"
   },
   {
    "duration": 1137,
    "start_time": "2023-03-04T14:28:45.946Z"
   },
   {
    "duration": 2425,
    "start_time": "2023-03-04T14:28:47.085Z"
   },
   {
    "duration": 46,
    "start_time": "2023-03-04T14:28:49.512Z"
   },
   {
    "duration": 32,
    "start_time": "2023-03-04T14:28:49.560Z"
   },
   {
    "duration": 47,
    "start_time": "2023-03-04T14:28:49.595Z"
   },
   {
    "duration": 146,
    "start_time": "2023-03-04T14:28:49.645Z"
   },
   {
    "duration": 100,
    "start_time": "2023-03-04T14:28:49.793Z"
   },
   {
    "duration": 33,
    "start_time": "2023-03-04T14:28:49.901Z"
   },
   {
    "duration": 33,
    "start_time": "2023-03-04T14:28:49.935Z"
   },
   {
    "duration": 29,
    "start_time": "2023-03-04T14:28:49.970Z"
   },
   {
    "duration": 71,
    "start_time": "2023-03-04T14:28:50.000Z"
   },
   {
    "duration": 11,
    "start_time": "2023-03-04T14:28:50.073Z"
   },
   {
    "duration": 48,
    "start_time": "2023-03-04T14:28:50.086Z"
   },
   {
    "duration": 90,
    "start_time": "2023-03-04T14:28:50.137Z"
   },
   {
    "duration": 0,
    "start_time": "2023-03-04T14:28:50.229Z"
   },
   {
    "duration": 0,
    "start_time": "2023-03-04T14:28:50.230Z"
   },
   {
    "duration": 0,
    "start_time": "2023-03-04T14:28:50.231Z"
   },
   {
    "duration": 0,
    "start_time": "2023-03-04T14:28:50.233Z"
   },
   {
    "duration": 0,
    "start_time": "2023-03-04T14:28:50.233Z"
   },
   {
    "duration": 0,
    "start_time": "2023-03-04T14:28:50.234Z"
   },
   {
    "duration": 0,
    "start_time": "2023-03-04T14:28:50.236Z"
   },
   {
    "duration": 0,
    "start_time": "2023-03-04T14:28:50.237Z"
   },
   {
    "duration": 0,
    "start_time": "2023-03-04T14:28:50.238Z"
   },
   {
    "duration": 0,
    "start_time": "2023-03-04T14:28:50.239Z"
   },
   {
    "duration": 0,
    "start_time": "2023-03-04T14:28:50.241Z"
   },
   {
    "duration": 0,
    "start_time": "2023-03-04T14:28:50.242Z"
   },
   {
    "duration": 0,
    "start_time": "2023-03-04T14:28:50.244Z"
   },
   {
    "duration": 0,
    "start_time": "2023-03-04T14:28:50.247Z"
   },
   {
    "duration": 1,
    "start_time": "2023-03-04T14:28:50.248Z"
   },
   {
    "duration": 0,
    "start_time": "2023-03-04T14:28:50.250Z"
   },
   {
    "duration": 0,
    "start_time": "2023-03-04T14:28:50.251Z"
   },
   {
    "duration": 0,
    "start_time": "2023-03-04T14:28:50.252Z"
   },
   {
    "duration": 0,
    "start_time": "2023-03-04T14:28:50.252Z"
   },
   {
    "duration": 0,
    "start_time": "2023-03-04T14:28:50.253Z"
   },
   {
    "duration": 110,
    "start_time": "2023-03-04T14:28:57.150Z"
   },
   {
    "duration": 57,
    "start_time": "2023-03-04T14:28:57.688Z"
   },
   {
    "duration": 4,
    "start_time": "2023-03-04T14:29:22.589Z"
   },
   {
    "duration": 419,
    "start_time": "2023-03-04T14:29:22.885Z"
   },
   {
    "duration": 48,
    "start_time": "2023-03-04T14:29:23.306Z"
   },
   {
    "duration": 34,
    "start_time": "2023-03-04T14:29:23.727Z"
   },
   {
    "duration": 24,
    "start_time": "2023-03-04T14:29:31.543Z"
   },
   {
    "duration": 143,
    "start_time": "2023-03-04T14:29:32.139Z"
   },
   {
    "duration": 61,
    "start_time": "2023-03-04T14:29:32.712Z"
   },
   {
    "duration": 30,
    "start_time": "2023-03-04T14:29:33.346Z"
   },
   {
    "duration": 33,
    "start_time": "2023-03-04T14:29:35.305Z"
   },
   {
    "duration": 27,
    "start_time": "2023-03-04T14:29:35.482Z"
   },
   {
    "duration": 43,
    "start_time": "2023-03-04T14:29:36.548Z"
   },
   {
    "duration": 11,
    "start_time": "2023-03-04T14:29:38.089Z"
   },
   {
    "duration": 25,
    "start_time": "2023-03-04T14:29:38.849Z"
   },
   {
    "duration": 88,
    "start_time": "2023-03-04T14:29:40.201Z"
   },
   {
    "duration": 7,
    "start_time": "2023-03-04T14:29:40.882Z"
   },
   {
    "duration": 9,
    "start_time": "2023-03-04T14:29:54.737Z"
   },
   {
    "duration": 8,
    "start_time": "2023-03-04T14:29:58.342Z"
   },
   {
    "duration": 11,
    "start_time": "2023-03-04T14:31:02.784Z"
   },
   {
    "duration": 5,
    "start_time": "2023-03-04T14:31:24.452Z"
   },
   {
    "duration": 417,
    "start_time": "2023-03-04T14:31:24.649Z"
   },
   {
    "duration": 36,
    "start_time": "2023-03-04T14:31:25.069Z"
   },
   {
    "duration": 39,
    "start_time": "2023-03-04T14:31:25.216Z"
   },
   {
    "duration": 23,
    "start_time": "2023-03-04T14:31:25.401Z"
   },
   {
    "duration": 154,
    "start_time": "2023-03-04T14:31:26.044Z"
   },
   {
    "duration": 67,
    "start_time": "2023-03-04T14:31:26.492Z"
   },
   {
    "duration": 32,
    "start_time": "2023-03-04T14:31:26.704Z"
   },
   {
    "duration": 30,
    "start_time": "2023-03-04T14:31:27.388Z"
   },
   {
    "duration": 34,
    "start_time": "2023-03-04T14:31:27.637Z"
   },
   {
    "duration": 60,
    "start_time": "2023-03-04T14:31:27.803Z"
   },
   {
    "duration": 23,
    "start_time": "2023-03-04T14:31:28.911Z"
   },
   {
    "duration": 34,
    "start_time": "2023-03-04T14:31:29.422Z"
   },
   {
    "duration": 96,
    "start_time": "2023-03-04T14:31:30.204Z"
   },
   {
    "duration": 3,
    "start_time": "2023-03-04T14:31:47.353Z"
   },
   {
    "duration": 5,
    "start_time": "2023-03-04T14:31:48.393Z"
   },
   {
    "duration": 4,
    "start_time": "2023-03-04T14:32:25.470Z"
   },
   {
    "duration": 418,
    "start_time": "2023-03-04T14:32:25.980Z"
   },
   {
    "duration": 38,
    "start_time": "2023-03-04T14:32:26.590Z"
   },
   {
    "duration": 31,
    "start_time": "2023-03-04T14:32:27.907Z"
   },
   {
    "duration": 18,
    "start_time": "2023-03-04T14:32:28.484Z"
   },
   {
    "duration": 151,
    "start_time": "2023-03-04T14:32:29.238Z"
   },
   {
    "duration": 76,
    "start_time": "2023-03-04T14:32:30.345Z"
   },
   {
    "duration": 44,
    "start_time": "2023-03-04T14:32:30.942Z"
   },
   {
    "duration": 28,
    "start_time": "2023-03-04T14:32:33.057Z"
   },
   {
    "duration": 34,
    "start_time": "2023-03-04T14:32:33.858Z"
   },
   {
    "duration": 45,
    "start_time": "2023-03-04T14:32:34.950Z"
   },
   {
    "duration": 12,
    "start_time": "2023-03-04T14:32:39.345Z"
   },
   {
    "duration": 30,
    "start_time": "2023-03-04T14:32:40.159Z"
   },
   {
    "duration": 10,
    "start_time": "2023-03-04T14:32:51.117Z"
   },
   {
    "duration": 17,
    "start_time": "2023-03-04T14:39:14.849Z"
   },
   {
    "duration": 1210,
    "start_time": "2023-03-04T14:58:05.251Z"
   },
   {
    "duration": 417,
    "start_time": "2023-03-04T14:58:06.463Z"
   },
   {
    "duration": 50,
    "start_time": "2023-03-04T14:58:06.882Z"
   },
   {
    "duration": 40,
    "start_time": "2023-03-04T14:58:06.935Z"
   },
   {
    "duration": 51,
    "start_time": "2023-03-04T14:58:06.977Z"
   },
   {
    "duration": 169,
    "start_time": "2023-03-04T14:58:07.030Z"
   },
   {
    "duration": 78,
    "start_time": "2023-03-04T14:58:07.201Z"
   },
   {
    "duration": 45,
    "start_time": "2023-03-04T14:58:07.281Z"
   },
   {
    "duration": 38,
    "start_time": "2023-03-04T14:58:07.328Z"
   },
   {
    "duration": 71,
    "start_time": "2023-03-04T14:58:07.373Z"
   },
   {
    "duration": 97,
    "start_time": "2023-03-04T14:58:07.448Z"
   },
   {
    "duration": 15,
    "start_time": "2023-03-04T14:58:07.548Z"
   },
   {
    "duration": 38,
    "start_time": "2023-03-04T14:58:07.566Z"
   },
   {
    "duration": 4,
    "start_time": "2023-03-04T14:58:07.606Z"
   },
   {
    "duration": 180,
    "start_time": "2023-03-04T14:58:07.611Z"
   },
   {
    "duration": 0,
    "start_time": "2023-03-04T14:58:07.794Z"
   },
   {
    "duration": 0,
    "start_time": "2023-03-04T14:58:07.796Z"
   },
   {
    "duration": 0,
    "start_time": "2023-03-04T14:58:07.798Z"
   },
   {
    "duration": 0,
    "start_time": "2023-03-04T14:58:07.799Z"
   },
   {
    "duration": 0,
    "start_time": "2023-03-04T14:58:07.801Z"
   },
   {
    "duration": 0,
    "start_time": "2023-03-04T14:58:07.825Z"
   },
   {
    "duration": 0,
    "start_time": "2023-03-04T14:58:07.828Z"
   },
   {
    "duration": 0,
    "start_time": "2023-03-04T14:58:07.829Z"
   },
   {
    "duration": 0,
    "start_time": "2023-03-04T14:58:07.830Z"
   },
   {
    "duration": 0,
    "start_time": "2023-03-04T14:58:07.832Z"
   },
   {
    "duration": 0,
    "start_time": "2023-03-04T14:58:07.833Z"
   },
   {
    "duration": 0,
    "start_time": "2023-03-04T14:58:07.834Z"
   },
   {
    "duration": 0,
    "start_time": "2023-03-04T14:58:07.836Z"
   },
   {
    "duration": 0,
    "start_time": "2023-03-04T14:58:07.837Z"
   },
   {
    "duration": 0,
    "start_time": "2023-03-04T14:58:07.838Z"
   },
   {
    "duration": 0,
    "start_time": "2023-03-04T14:58:07.840Z"
   },
   {
    "duration": 0,
    "start_time": "2023-03-04T14:58:07.841Z"
   },
   {
    "duration": 0,
    "start_time": "2023-03-04T14:58:07.843Z"
   },
   {
    "duration": 0,
    "start_time": "2023-03-04T14:58:07.844Z"
   },
   {
    "duration": 11,
    "start_time": "2023-03-04T14:58:19.913Z"
   },
   {
    "duration": 482,
    "start_time": "2023-03-04T14:58:20.554Z"
   },
   {
    "duration": 50,
    "start_time": "2023-03-04T14:58:21.308Z"
   },
   {
    "duration": 31,
    "start_time": "2023-03-04T14:58:25.611Z"
   },
   {
    "duration": 29,
    "start_time": "2023-03-04T14:58:26.269Z"
   },
   {
    "duration": 165,
    "start_time": "2023-03-04T14:58:26.806Z"
   },
   {
    "duration": 62,
    "start_time": "2023-03-04T14:58:27.418Z"
   },
   {
    "duration": 27,
    "start_time": "2023-03-04T14:58:28.140Z"
   },
   {
    "duration": 33,
    "start_time": "2023-03-04T14:58:30.581Z"
   },
   {
    "duration": 27,
    "start_time": "2023-03-04T14:58:31.446Z"
   },
   {
    "duration": 51,
    "start_time": "2023-03-04T14:58:32.393Z"
   },
   {
    "duration": 10,
    "start_time": "2023-03-04T14:58:35.385Z"
   },
   {
    "duration": 32,
    "start_time": "2023-03-04T14:58:38.205Z"
   },
   {
    "duration": 5,
    "start_time": "2023-03-04T14:59:38.422Z"
   },
   {
    "duration": 22,
    "start_time": "2023-03-04T15:28:43.892Z"
   },
   {
    "duration": 14,
    "start_time": "2023-03-04T15:29:09.266Z"
   },
   {
    "duration": 13,
    "start_time": "2023-03-04T15:30:21.001Z"
   },
   {
    "duration": 10,
    "start_time": "2023-03-04T15:49:31.930Z"
   },
   {
    "duration": 4,
    "start_time": "2023-03-04T15:50:38.489Z"
   },
   {
    "duration": 16,
    "start_time": "2023-03-04T15:50:39.181Z"
   },
   {
    "duration": 10,
    "start_time": "2023-03-04T15:50:39.925Z"
   },
   {
    "duration": 15,
    "start_time": "2023-03-04T15:50:51.390Z"
   },
   {
    "duration": 13,
    "start_time": "2023-03-04T15:51:02.361Z"
   },
   {
    "duration": 4,
    "start_time": "2023-03-04T15:51:16.158Z"
   },
   {
    "duration": 402,
    "start_time": "2023-03-04T15:51:16.324Z"
   },
   {
    "duration": 39,
    "start_time": "2023-03-04T15:51:16.728Z"
   },
   {
    "duration": 31,
    "start_time": "2023-03-04T15:51:16.937Z"
   },
   {
    "duration": 19,
    "start_time": "2023-03-04T15:51:17.170Z"
   },
   {
    "duration": 169,
    "start_time": "2023-03-04T15:51:17.378Z"
   },
   {
    "duration": 73,
    "start_time": "2023-03-04T15:51:17.550Z"
   },
   {
    "duration": 31,
    "start_time": "2023-03-04T15:51:17.730Z"
   },
   {
    "duration": 29,
    "start_time": "2023-03-04T15:51:18.326Z"
   },
   {
    "duration": 42,
    "start_time": "2023-03-04T15:51:18.571Z"
   },
   {
    "duration": 61,
    "start_time": "2023-03-04T15:51:18.729Z"
   },
   {
    "duration": 11,
    "start_time": "2023-03-04T15:51:19.126Z"
   },
   {
    "duration": 40,
    "start_time": "2023-03-04T15:51:19.304Z"
   },
   {
    "duration": 4,
    "start_time": "2023-03-04T15:51:19.978Z"
   },
   {
    "duration": 17,
    "start_time": "2023-03-04T15:51:20.411Z"
   },
   {
    "duration": 14,
    "start_time": "2023-03-04T15:51:21.229Z"
   },
   {
    "duration": 9,
    "start_time": "2023-03-04T15:51:45.682Z"
   },
   {
    "duration": 4,
    "start_time": "2023-03-04T15:55:24.952Z"
   },
   {
    "duration": 7,
    "start_time": "2023-03-04T15:55:42.443Z"
   },
   {
    "duration": 601,
    "start_time": "2023-03-04T15:55:42.616Z"
   },
   {
    "duration": 57,
    "start_time": "2023-03-04T15:55:43.219Z"
   },
   {
    "duration": 30,
    "start_time": "2023-03-04T15:55:43.278Z"
   },
   {
    "duration": 28,
    "start_time": "2023-03-04T15:55:43.390Z"
   },
   {
    "duration": 138,
    "start_time": "2023-03-04T15:55:43.543Z"
   },
   {
    "duration": 56,
    "start_time": "2023-03-04T15:55:43.723Z"
   },
   {
    "duration": 41,
    "start_time": "2023-03-04T15:55:44.595Z"
   },
   {
    "duration": 40,
    "start_time": "2023-03-04T15:55:45.545Z"
   },
   {
    "duration": 41,
    "start_time": "2023-03-04T15:55:46.066Z"
   },
   {
    "duration": 66,
    "start_time": "2023-03-04T15:55:46.879Z"
   },
   {
    "duration": 10,
    "start_time": "2023-03-04T15:55:49.832Z"
   },
   {
    "duration": 31,
    "start_time": "2023-03-04T15:55:51.606Z"
   },
   {
    "duration": 4,
    "start_time": "2023-03-04T15:55:58.882Z"
   },
   {
    "duration": 16,
    "start_time": "2023-03-04T16:05:32.747Z"
   },
   {
    "duration": 16,
    "start_time": "2023-03-04T16:07:28.678Z"
   },
   {
    "duration": 4,
    "start_time": "2023-03-04T16:10:33.294Z"
   },
   {
    "duration": 47,
    "start_time": "2023-03-04T16:39:14.438Z"
   },
   {
    "duration": 1134,
    "start_time": "2023-03-04T16:51:57.297Z"
   },
   {
    "duration": 1221,
    "start_time": "2023-03-04T16:52:48.721Z"
   },
   {
    "duration": 3,
    "start_time": "2023-03-04T17:03:38.631Z"
   },
   {
    "duration": 389,
    "start_time": "2023-03-04T17:03:38.829Z"
   },
   {
    "duration": 35,
    "start_time": "2023-03-04T17:03:39.220Z"
   },
   {
    "duration": 27,
    "start_time": "2023-03-04T17:03:39.907Z"
   },
   {
    "duration": 23,
    "start_time": "2023-03-04T17:03:40.418Z"
   },
   {
    "duration": 119,
    "start_time": "2023-03-04T17:03:40.680Z"
   },
   {
    "duration": 57,
    "start_time": "2023-03-04T17:03:40.998Z"
   },
   {
    "duration": 29,
    "start_time": "2023-03-04T17:03:41.177Z"
   },
   {
    "duration": 27,
    "start_time": "2023-03-04T17:03:41.732Z"
   },
   {
    "duration": 33,
    "start_time": "2023-03-04T17:03:42.791Z"
   },
   {
    "duration": 48,
    "start_time": "2023-03-04T17:03:43.284Z"
   },
   {
    "duration": 11,
    "start_time": "2023-03-04T17:03:44.568Z"
   },
   {
    "duration": 25,
    "start_time": "2023-03-04T17:03:45.082Z"
   },
   {
    "duration": 4,
    "start_time": "2023-03-04T17:03:46.148Z"
   },
   {
    "duration": 16,
    "start_time": "2023-03-04T17:03:46.884Z"
   },
   {
    "duration": 16,
    "start_time": "2023-03-04T17:03:47.696Z"
   },
   {
    "duration": 933,
    "start_time": "2023-03-04T17:08:46.319Z"
   },
   {
    "duration": 643,
    "start_time": "2023-03-04T17:09:20.200Z"
   },
   {
    "duration": 524,
    "start_time": "2023-03-04T17:09:42.720Z"
   },
   {
    "duration": 19,
    "start_time": "2023-03-04T17:13:11.977Z"
   },
   {
    "duration": 62,
    "start_time": "2023-03-04T17:14:53.318Z"
   },
   {
    "duration": 347,
    "start_time": "2023-03-04T17:14:54.115Z"
   },
   {
    "duration": 32,
    "start_time": "2023-03-04T17:14:54.464Z"
   },
   {
    "duration": 22,
    "start_time": "2023-03-04T17:14:54.656Z"
   },
   {
    "duration": 19,
    "start_time": "2023-03-04T17:14:54.814Z"
   },
   {
    "duration": 132,
    "start_time": "2023-03-04T17:14:54.986Z"
   },
   {
    "duration": 58,
    "start_time": "2023-03-04T17:14:55.178Z"
   },
   {
    "duration": 28,
    "start_time": "2023-03-04T17:14:55.336Z"
   },
   {
    "duration": 27,
    "start_time": "2023-03-04T17:14:55.879Z"
   },
   {
    "duration": 28,
    "start_time": "2023-03-04T17:14:56.065Z"
   },
   {
    "duration": 43,
    "start_time": "2023-03-04T17:14:56.286Z"
   },
   {
    "duration": 9,
    "start_time": "2023-03-04T17:14:56.663Z"
   },
   {
    "duration": 26,
    "start_time": "2023-03-04T17:14:56.880Z"
   },
   {
    "duration": 4,
    "start_time": "2023-03-04T17:14:57.201Z"
   },
   {
    "duration": 16,
    "start_time": "2023-03-04T17:14:57.502Z"
   },
   {
    "duration": 15,
    "start_time": "2023-03-04T17:14:57.692Z"
   },
   {
    "duration": 50,
    "start_time": "2023-03-04T17:14:58.138Z"
   },
   {
    "duration": 592,
    "start_time": "2023-03-04T17:15:00.210Z"
   },
   {
    "duration": 167,
    "start_time": "2023-03-04T17:15:00.916Z"
   },
   {
    "duration": 188,
    "start_time": "2023-03-04T17:15:12.598Z"
   },
   {
    "duration": 291,
    "start_time": "2023-03-04T17:15:27.719Z"
   },
   {
    "duration": 183,
    "start_time": "2023-03-04T17:16:22.509Z"
   },
   {
    "duration": 175,
    "start_time": "2023-03-04T17:16:35.739Z"
   },
   {
    "duration": 171,
    "start_time": "2023-03-04T17:16:48.998Z"
   },
   {
    "duration": 176,
    "start_time": "2023-03-04T17:17:14.164Z"
   },
   {
    "duration": 171,
    "start_time": "2023-03-04T17:17:24.467Z"
   },
   {
    "duration": 201,
    "start_time": "2023-03-04T17:18:16.817Z"
   },
   {
    "duration": 161,
    "start_time": "2023-03-04T17:18:33.097Z"
   },
   {
    "duration": 175,
    "start_time": "2023-03-04T17:18:46.858Z"
   },
   {
    "duration": 177,
    "start_time": "2023-03-04T17:18:55.897Z"
   },
   {
    "duration": 208,
    "start_time": "2023-03-04T17:19:10.100Z"
   },
   {
    "duration": 300,
    "start_time": "2023-03-04T17:20:21.682Z"
   },
   {
    "duration": 197,
    "start_time": "2023-03-04T17:20:42.842Z"
   },
   {
    "duration": 166,
    "start_time": "2023-03-04T17:21:55.080Z"
   },
   {
    "duration": 177,
    "start_time": "2023-03-04T17:24:23.947Z"
   },
   {
    "duration": 166,
    "start_time": "2023-03-04T17:24:55.561Z"
   },
   {
    "duration": 164,
    "start_time": "2023-03-04T17:25:05.965Z"
   },
   {
    "duration": 173,
    "start_time": "2023-03-04T17:25:11.696Z"
   },
   {
    "duration": 172,
    "start_time": "2023-03-04T17:25:18.707Z"
   },
   {
    "duration": 177,
    "start_time": "2023-03-04T17:25:34.890Z"
   },
   {
    "duration": 213,
    "start_time": "2023-03-04T17:25:45.990Z"
   },
   {
    "duration": 216,
    "start_time": "2023-03-04T17:25:54.686Z"
   },
   {
    "duration": 315,
    "start_time": "2023-03-04T17:26:09.376Z"
   },
   {
    "duration": 161,
    "start_time": "2023-03-04T17:26:18.610Z"
   },
   {
    "duration": 224,
    "start_time": "2023-03-04T17:26:25.225Z"
   },
   {
    "duration": 269,
    "start_time": "2023-03-04T17:26:32.989Z"
   },
   {
    "duration": 295,
    "start_time": "2023-03-04T17:26:49.138Z"
   },
   {
    "duration": 402,
    "start_time": "2023-03-04T17:26:55.695Z"
   },
   {
    "duration": 287,
    "start_time": "2023-03-04T17:27:14.182Z"
   },
   {
    "duration": 198,
    "start_time": "2023-03-04T17:27:21.628Z"
   },
   {
    "duration": 339,
    "start_time": "2023-03-04T17:28:02.108Z"
   },
   {
    "duration": 4,
    "start_time": "2023-03-04T17:29:49.865Z"
   },
   {
    "duration": 3,
    "start_time": "2023-03-04T17:31:07.276Z"
   },
   {
    "duration": 7,
    "start_time": "2023-03-04T17:31:08.019Z"
   },
   {
    "duration": 3,
    "start_time": "2023-03-04T17:31:13.497Z"
   },
   {
    "duration": 4,
    "start_time": "2023-03-04T17:31:14.689Z"
   },
   {
    "duration": 4,
    "start_time": "2023-03-04T17:33:01.374Z"
   },
   {
    "duration": 14,
    "start_time": "2023-03-04T17:33:04.881Z"
   },
   {
    "duration": 8,
    "start_time": "2023-03-04T17:33:16.857Z"
   },
   {
    "duration": 337,
    "start_time": "2023-03-04T17:33:17.006Z"
   },
   {
    "duration": 35,
    "start_time": "2023-03-04T17:33:17.345Z"
   },
   {
    "duration": 26,
    "start_time": "2023-03-04T17:33:17.512Z"
   },
   {
    "duration": 20,
    "start_time": "2023-03-04T17:33:17.670Z"
   },
   {
    "duration": 125,
    "start_time": "2023-03-04T17:33:17.879Z"
   },
   {
    "duration": 52,
    "start_time": "2023-03-04T17:33:18.071Z"
   },
   {
    "duration": 29,
    "start_time": "2023-03-04T17:33:18.206Z"
   },
   {
    "duration": 26,
    "start_time": "2023-03-04T17:33:18.765Z"
   },
   {
    "duration": 28,
    "start_time": "2023-03-04T17:33:18.913Z"
   },
   {
    "duration": 44,
    "start_time": "2023-03-04T17:33:19.078Z"
   },
   {
    "duration": 8,
    "start_time": "2023-03-04T17:33:19.443Z"
   },
   {
    "duration": 24,
    "start_time": "2023-03-04T17:33:19.629Z"
   },
   {
    "duration": 4,
    "start_time": "2023-03-04T17:33:19.958Z"
   },
   {
    "duration": 17,
    "start_time": "2023-03-04T17:33:20.146Z"
   },
   {
    "duration": 18,
    "start_time": "2023-03-04T17:33:20.323Z"
   },
   {
    "duration": 42,
    "start_time": "2023-03-04T17:33:20.695Z"
   },
   {
    "duration": 173,
    "start_time": "2023-03-04T17:33:20.861Z"
   },
   {
    "duration": 174,
    "start_time": "2023-03-04T17:33:21.036Z"
   },
   {
    "duration": 167,
    "start_time": "2023-03-04T17:33:21.212Z"
   },
   {
    "duration": 351,
    "start_time": "2023-03-04T17:33:21.396Z"
   },
   {
    "duration": 76,
    "start_time": "2023-03-04T17:33:21.750Z"
   },
   {
    "duration": 70,
    "start_time": "2023-03-04T17:33:22.152Z"
   },
   {
    "duration": 15,
    "start_time": "2023-03-04T17:33:22.325Z"
   },
   {
    "duration": 5,
    "start_time": "2023-03-04T17:33:22.521Z"
   },
   {
    "duration": 7,
    "start_time": "2023-03-04T17:33:23.143Z"
   },
   {
    "duration": 8,
    "start_time": "2023-03-04T17:33:23.324Z"
   },
   {
    "duration": 8,
    "start_time": "2023-03-04T17:33:23.520Z"
   },
   {
    "duration": 2,
    "start_time": "2023-03-04T17:33:24.519Z"
   },
   {
    "duration": 3,
    "start_time": "2023-03-04T17:33:25.062Z"
   },
   {
    "duration": 7,
    "start_time": "2023-03-04T17:33:26.123Z"
   },
   {
    "duration": 3,
    "start_time": "2023-03-04T17:33:27.569Z"
   },
   {
    "duration": 5,
    "start_time": "2023-03-04T17:33:28.865Z"
   },
   {
    "duration": 16,
    "start_time": "2023-03-04T17:33:30.872Z"
   },
   {
    "duration": 4,
    "start_time": "2023-03-04T17:34:34.339Z"
   },
   {
    "duration": 125,
    "start_time": "2023-03-04T17:34:37.224Z"
   },
   {
    "duration": 3,
    "start_time": "2023-03-04T17:35:28.762Z"
   },
   {
    "duration": 5,
    "start_time": "2023-03-04T17:35:29.852Z"
   },
   {
    "duration": 4090,
    "start_time": "2023-03-04T17:35:31.356Z"
   },
   {
    "duration": 3,
    "start_time": "2023-03-04T17:35:35.448Z"
   },
   {
    "duration": 7,
    "start_time": "2023-03-04T17:35:35.452Z"
   },
   {
    "duration": 6,
    "start_time": "2023-03-04T17:35:35.461Z"
   },
   {
    "duration": 3,
    "start_time": "2023-03-04T17:39:28.092Z"
   },
   {
    "duration": 6,
    "start_time": "2023-03-04T17:40:15.454Z"
   },
   {
    "duration": 362,
    "start_time": "2023-03-04T17:40:15.637Z"
   },
   {
    "duration": 36,
    "start_time": "2023-03-04T17:40:16.001Z"
   },
   {
    "duration": 21,
    "start_time": "2023-03-04T17:40:16.265Z"
   },
   {
    "duration": 21,
    "start_time": "2023-03-04T17:40:16.391Z"
   },
   {
    "duration": 129,
    "start_time": "2023-03-04T17:40:16.603Z"
   },
   {
    "duration": 56,
    "start_time": "2023-03-04T17:40:16.760Z"
   },
   {
    "duration": 32,
    "start_time": "2023-03-04T17:40:16.962Z"
   },
   {
    "duration": 27,
    "start_time": "2023-03-04T17:40:17.557Z"
   },
   {
    "duration": 25,
    "start_time": "2023-03-04T17:40:17.726Z"
   },
   {
    "duration": 44,
    "start_time": "2023-03-04T17:40:17.920Z"
   },
   {
    "duration": 7,
    "start_time": "2023-03-04T17:40:18.289Z"
   },
   {
    "duration": 22,
    "start_time": "2023-03-04T17:40:18.478Z"
   },
   {
    "duration": 3,
    "start_time": "2023-03-04T17:40:18.859Z"
   },
   {
    "duration": 17,
    "start_time": "2023-03-04T17:40:19.048Z"
   },
   {
    "duration": 21,
    "start_time": "2023-03-04T17:40:19.256Z"
   },
   {
    "duration": 46,
    "start_time": "2023-03-04T17:40:19.632Z"
   },
   {
    "duration": 171,
    "start_time": "2023-03-04T17:40:19.852Z"
   },
   {
    "duration": 174,
    "start_time": "2023-03-04T17:40:20.052Z"
   },
   {
    "duration": 217,
    "start_time": "2023-03-04T17:40:20.247Z"
   },
   {
    "duration": 364,
    "start_time": "2023-03-04T17:40:20.468Z"
   },
   {
    "duration": 70,
    "start_time": "2023-03-04T17:40:20.834Z"
   },
   {
    "duration": 23,
    "start_time": "2023-03-04T17:40:21.261Z"
   },
   {
    "duration": 97,
    "start_time": "2023-03-04T17:40:21.423Z"
   },
   {
    "duration": 4,
    "start_time": "2023-03-04T17:40:21.621Z"
   },
   {
    "duration": 7,
    "start_time": "2023-03-04T17:40:22.195Z"
   },
   {
    "duration": 7,
    "start_time": "2023-03-04T17:40:22.558Z"
   },
   {
    "duration": 8,
    "start_time": "2023-03-04T17:40:22.575Z"
   },
   {
    "duration": 3,
    "start_time": "2023-03-04T17:40:23.672Z"
   },
   {
    "duration": 3,
    "start_time": "2023-03-04T17:40:24.168Z"
   },
   {
    "duration": 7,
    "start_time": "2023-03-04T17:40:24.609Z"
   },
   {
    "duration": 4,
    "start_time": "2023-03-04T17:40:26.395Z"
   },
   {
    "duration": 4,
    "start_time": "2023-03-04T17:40:26.807Z"
   },
   {
    "duration": 4155,
    "start_time": "2023-03-04T17:40:28.500Z"
   },
   {
    "duration": 4,
    "start_time": "2023-03-04T17:40:32.657Z"
   },
   {
    "duration": 4,
    "start_time": "2023-03-04T17:40:37.579Z"
   },
   {
    "duration": 7,
    "start_time": "2023-03-04T17:41:10.694Z"
   },
   {
    "duration": 7,
    "start_time": "2023-03-04T17:41:13.693Z"
   },
   {
    "duration": 7,
    "start_time": "2023-03-04T17:41:14.324Z"
   },
   {
    "duration": 4,
    "start_time": "2023-03-04T18:10:31.373Z"
   },
   {
    "duration": 29,
    "start_time": "2023-03-04T18:11:12.191Z"
   },
   {
    "duration": 3,
    "start_time": "2023-03-04T18:13:23.461Z"
   },
   {
    "duration": 7,
    "start_time": "2023-03-04T18:13:51.196Z"
   },
   {
    "duration": 343,
    "start_time": "2023-03-04T18:13:52.192Z"
   },
   {
    "duration": 3,
    "start_time": "2023-03-04T18:13:54.658Z"
   },
   {
    "duration": 68,
    "start_time": "2023-03-04T18:14:20.003Z"
   },
   {
    "duration": 92,
    "start_time": "2023-03-04T18:14:29.415Z"
   },
   {
    "duration": 43,
    "start_time": "2023-03-04T18:14:45.752Z"
   },
   {
    "duration": 43,
    "start_time": "2023-03-04T18:15:03.084Z"
   },
   {
    "duration": 10,
    "start_time": "2023-03-04T18:16:25.389Z"
   },
   {
    "duration": 23,
    "start_time": "2023-03-04T18:16:37.457Z"
   },
   {
    "duration": 52,
    "start_time": "2023-03-04T18:16:57.002Z"
   },
   {
    "duration": 187,
    "start_time": "2023-03-04T18:27:46.480Z"
   },
   {
    "duration": 183,
    "start_time": "2023-03-04T18:27:57.676Z"
   },
   {
    "duration": 453,
    "start_time": "2023-03-04T18:28:04.850Z"
   },
   {
    "duration": 79,
    "start_time": "2023-03-04T18:28:06.669Z"
   },
   {
    "duration": 56,
    "start_time": "2023-03-04T18:28:50.314Z"
   },
   {
    "duration": 175,
    "start_time": "2023-03-04T18:28:51.128Z"
   },
   {
    "duration": 173,
    "start_time": "2023-03-04T18:28:51.805Z"
   },
   {
    "duration": 162,
    "start_time": "2023-03-04T18:28:52.424Z"
   },
   {
    "duration": 342,
    "start_time": "2023-03-04T18:28:53.048Z"
   },
   {
    "duration": 26,
    "start_time": "2023-03-04T18:29:10.394Z"
   },
   {
    "duration": 13,
    "start_time": "2023-03-04T18:29:10.576Z"
   },
   {
    "duration": 3,
    "start_time": "2023-03-04T18:29:11.380Z"
   },
   {
    "duration": 7,
    "start_time": "2023-03-04T18:29:14.654Z"
   },
   {
    "duration": 7,
    "start_time": "2023-03-04T18:29:15.163Z"
   },
   {
    "duration": 8,
    "start_time": "2023-03-04T18:29:15.503Z"
   },
   {
    "duration": 2,
    "start_time": "2023-03-04T18:29:18.344Z"
   },
   {
    "duration": 4284,
    "start_time": "2023-03-04T18:29:56.793Z"
   },
   {
    "duration": 3,
    "start_time": "2023-03-04T18:30:01.079Z"
   }
  ],
  "kernelspec": {
   "display_name": "Python 3 (ipykernel)",
   "language": "python",
   "name": "python3"
  },
  "language_info": {
   "codemirror_mode": {
    "name": "ipython",
    "version": 3
   },
   "file_extension": ".py",
   "mimetype": "text/x-python",
   "name": "python",
   "nbconvert_exporter": "python",
   "pygments_lexer": "ipython3",
   "version": "3.9.5"
  },
  "toc": {
   "base_numbering": 1,
   "nav_menu": {
    "height": "295.994px",
    "width": "409.986px"
   },
   "number_sections": true,
   "sideBar": true,
   "skip_h1_title": true,
   "title_cell": "Table of Contents",
   "title_sidebar": "Contents",
   "toc_cell": true,
   "toc_position": {},
   "toc_section_display": true,
   "toc_window_display": false
  }
 },
 "nbformat": 4,
 "nbformat_minor": 2
}
