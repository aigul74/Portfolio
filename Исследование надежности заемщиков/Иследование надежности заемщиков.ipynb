{
 "cells": [
  {
   "cell_type": "markdown",
   "id": "440ae604",
   "metadata": {
    "deletable": false,
    "editable": false,
    "id": "c81daeeb"
   },
   "source": [
    "# Исследование надежности заемщиков"
   ]
  },
  {
   "cell_type": "markdown",
   "id": "46812801",
   "metadata": {
    "deletable": false,
    "editable": false,
    "id": "-G3EJWzf62s6"
   },
   "source": [
    "Это первая часть проекта, она будет проверена автоматически. Вторую часть проверит ревьюер. "
   ]
  },
  {
   "cell_type": "markdown",
   "id": "2cbf8f10",
   "metadata": {
    "deletable": false,
    "editable": false,
    "id": "744d7639"
   },
   "source": [
    "## Откройте таблицу и изучите общую информацию о данных"
   ]
  },
  {
   "cell_type": "markdown",
   "id": "b1961d8d",
   "metadata": {
    "deletable": false,
    "editable": false,
    "id": "e7a14c31",
    "tags": [
     "start_task"
    ]
   },
   "source": [
    "**Задание 1. Импортируйте библиотеку pandas. Считайте данные из csv-файла в датафрейм и сохраните в переменную `data`. Путь к файлу:**\n",
    "\n",
    "`/datasets/data.csv`"
   ]
  },
  {
   "cell_type": "code",
   "execution_count": 2,
   "id": "0323a1d0",
   "metadata": {
    "id": "7bcf75c9"
   },
   "outputs": [],
   "source": [
    "import pandas as pd\n",
    "# импортируйте библиотеку pandas"
   ]
  },
  {
   "cell_type": "code",
   "execution_count": 3,
   "id": "8788fe88",
   "metadata": {
    "id": "4d240ee2"
   },
   "outputs": [],
   "source": [
    "data = pd.read_csv('/datasets/data.csv')# прочитайте csv-файл"
   ]
  },
  {
   "cell_type": "markdown",
   "id": "6325a349",
   "metadata": {
    "deletable": false,
    "editable": false,
    "id": "b8038fe3",
    "tags": [
     "start_task"
    ]
   },
   "source": [
    "**Задание 2. Выведите первые 20 строчек датафрейма `data` на экран.**"
   ]
  },
  {
   "cell_type": "code",
   "execution_count": 4,
   "id": "b7e04057",
   "metadata": {
    "id": "2a7cab99"
   },
   "outputs": [
    {
     "name": "stdout",
     "output_type": "stream",
     "text": [
      "    children  days_employed  dob_years            education  education_id  \\\n",
      "0          1   -8437.673028         42               высшее             0   \n",
      "1          1   -4024.803754         36              среднее             1   \n",
      "2          0   -5623.422610         33              Среднее             1   \n",
      "3          3   -4124.747207         32              среднее             1   \n",
      "4          0  340266.072047         53              среднее             1   \n",
      "5          0    -926.185831         27               высшее             0   \n",
      "6          0   -2879.202052         43               высшее             0   \n",
      "7          0    -152.779569         50              СРЕДНЕЕ             1   \n",
      "8          2   -6929.865299         35               ВЫСШЕЕ             0   \n",
      "9          0   -2188.756445         41              среднее             1   \n",
      "10         2   -4171.483647         36               высшее             0   \n",
      "11         0    -792.701887         40              среднее             1   \n",
      "12         0            NaN         65              среднее             1   \n",
      "13         0   -1846.641941         54  неоконченное высшее             2   \n",
      "14         0   -1844.956182         56               высшее             0   \n",
      "15         1    -972.364419         26              среднее             1   \n",
      "16         0   -1719.934226         35              среднее             1   \n",
      "17         0   -2369.999720         33               высшее             0   \n",
      "18         0  400281.136913         53              среднее             1   \n",
      "19         0  -10038.818549         48              СРЕДНЕЕ             1   \n",
      "\n",
      "       family_status  family_status_id gender income_type  debt  \\\n",
      "0    женат / замужем                 0      F   сотрудник     0   \n",
      "1    женат / замужем                 0      F   сотрудник     0   \n",
      "2    женат / замужем                 0      M   сотрудник     0   \n",
      "3    женат / замужем                 0      M   сотрудник     0   \n",
      "4   гражданский брак                 1      F   пенсионер     0   \n",
      "5   гражданский брак                 1      M   компаньон     0   \n",
      "6    женат / замужем                 0      F   компаньон     0   \n",
      "7    женат / замужем                 0      M   сотрудник     0   \n",
      "8   гражданский брак                 1      F   сотрудник     0   \n",
      "9    женат / замужем                 0      M   сотрудник     0   \n",
      "10   женат / замужем                 0      M   компаньон     0   \n",
      "11   женат / замужем                 0      F   сотрудник     0   \n",
      "12  гражданский брак                 1      M   пенсионер     0   \n",
      "13   женат / замужем                 0      F   сотрудник     0   \n",
      "14  гражданский брак                 1      F   компаньон     1   \n",
      "15   женат / замужем                 0      F   сотрудник     0   \n",
      "16   женат / замужем                 0      F   сотрудник     0   \n",
      "17  гражданский брак                 1      M   сотрудник     0   \n",
      "18    вдовец / вдова                 2      F   пенсионер     0   \n",
      "19         в разводе                 3      F   сотрудник     0   \n",
      "\n",
      "     total_income                                 purpose  \n",
      "0   253875.639453                           покупка жилья  \n",
      "1   112080.014102                 приобретение автомобиля  \n",
      "2   145885.952297                           покупка жилья  \n",
      "3   267628.550329              дополнительное образование  \n",
      "4   158616.077870                         сыграть свадьбу  \n",
      "5   255763.565419                           покупка жилья  \n",
      "6   240525.971920                       операции с жильем  \n",
      "7   135823.934197                             образование  \n",
      "8    95856.832424                   на проведение свадьбы  \n",
      "9   144425.938277                 покупка жилья для семьи  \n",
      "10  113943.491460                    покупка недвижимости  \n",
      "11   77069.234271       покупка коммерческой недвижимости  \n",
      "12            NaN                         сыграть свадьбу  \n",
      "13  130458.228857                 приобретение автомобиля  \n",
      "14  165127.911772              покупка жилой недвижимости  \n",
      "15  116820.904450  строительство собственной недвижимости  \n",
      "16  289202.704229                            недвижимость  \n",
      "17   90410.586745              строительство недвижимости  \n",
      "18   56823.777243      на покупку подержанного автомобиля  \n",
      "19  242831.107982            на покупку своего автомобиля  \n"
     ]
    }
   ],
   "source": [
    "print(data.head(20))# ваш код здесь"
   ]
  },
  {
   "cell_type": "markdown",
   "id": "f3c476ef",
   "metadata": {
    "deletable": false,
    "editable": false,
    "id": "1c12e233",
    "tags": [
     "start_task"
    ]
   },
   "source": [
    "**Задание 3. Выведите основную информацию о датафрейме с помощью метода `info()`.**"
   ]
  },
  {
   "cell_type": "markdown",
   "id": "f64ca197",
   "metadata": {
    "id": "2b757bca"
   },
   "source": [
    "data.info()# ваш код здесь"
   ]
  },
  {
   "cell_type": "markdown",
   "id": "b58c7bf1",
   "metadata": {
    "deletable": false,
    "editable": false,
    "id": "333ec665"
   },
   "source": [
    "## Предобработка данных"
   ]
  },
  {
   "cell_type": "markdown",
   "id": "5f51539f",
   "metadata": {
    "deletable": false,
    "editable": false,
    "id": "02d92d53"
   },
   "source": [
    "### Удаление пропусков"
   ]
  },
  {
   "cell_type": "markdown",
   "id": "d1d51a84",
   "metadata": {
    "deletable": false,
    "editable": false,
    "id": "cd84967c",
    "tags": [
     "start_task"
    ]
   },
   "source": [
    "**Задание 4. Выведите количество пропущенных значений для каждого столбца. Используйте комбинацию двух методов.**"
   ]
  },
  {
   "cell_type": "code",
   "execution_count": 5,
   "id": "17cde346",
   "metadata": {
    "id": "7f9b2309"
   },
   "outputs": [
    {
     "data": {
      "text/plain": [
       "children               0\n",
       "days_employed       2174\n",
       "dob_years              0\n",
       "education              0\n",
       "education_id           0\n",
       "family_status          0\n",
       "family_status_id       0\n",
       "gender                 0\n",
       "income_type            0\n",
       "debt                   0\n",
       "total_income        2174\n",
       "purpose                0\n",
       "dtype: int64"
      ]
     },
     "execution_count": 5,
     "metadata": {},
     "output_type": "execute_result"
    }
   ],
   "source": [
    "data.isna().sum()# ваш код здесь"
   ]
  },
  {
   "cell_type": "markdown",
   "id": "bf2672b7",
   "metadata": {
    "deletable": false,
    "editable": false,
    "id": "db86e27b",
    "tags": [
     "start_task"
    ]
   },
   "source": [
    "**Задание 5. В двух столбцах есть пропущенные значения. Один из них — `days_employed`. Пропуски в этом столбце вы обработаете на следующем этапе. Другой столбец с пропущенными значениями — `total_income` — хранит данные о доходах. На сумму дохода сильнее всего влияет тип занятости, поэтому заполнить пропуски в этом столбце нужно медианным значением по каждому типу из столбца `income_type`. Например, у человека с типом занятости `сотрудник` пропуск в столбце `total_income` должен быть заполнен медианным доходом среди всех записей с тем же типом.**"
   ]
  },
  {
   "cell_type": "code",
   "execution_count": 6,
   "id": "08cedb90",
   "metadata": {
    "id": "42006a93"
   },
   "outputs": [
    {
     "name": "stdout",
     "output_type": "stream",
     "text": [
      "Series([], Name: total_income, dtype: float64)\n",
      "children               0\n",
      "days_employed       2174\n",
      "dob_years              0\n",
      "education              0\n",
      "education_id           0\n",
      "family_status          0\n",
      "family_status_id       0\n",
      "gender                 0\n",
      "income_type            0\n",
      "debt                   0\n",
      "total_income           0\n",
      "purpose                0\n",
      "dtype: int64\n"
     ]
    }
   ],
   "source": [
    "for profi in data['income_type'].unique():\n",
    "    data.loc[(data['income_type'] == profi) & (data['total_income'].isna()), 'total_income'] = data.loc[data['income_type'] == profi, 'total_income'].median()\n",
    "print(data.loc[(data['income_type'] == profi) & (data['total_income'].isna()), 'total_income'])# фильтрация NAN# ваш код здесь\n",
    "print(data.isna().sum())"
   ]
  },
  {
   "cell_type": "markdown",
   "id": "ebfdd573",
   "metadata": {
    "deletable": false,
    "editable": false,
    "id": "89da5ece"
   },
   "source": [
    "### Обработка аномальных значений"
   ]
  },
  {
   "cell_type": "markdown",
   "id": "370d6079",
   "metadata": {
    "deletable": false,
    "editable": false,
    "id": "57964554",
    "tags": [
     "start_task"
    ]
   },
   "source": [
    "**Задание 6. В данных могут встречаться артефакты (аномалии) — значения, которые не отражают действительность и появились по какой-то ошибке. Таким артефактом будет отрицательное количество дней трудового стажа в столбце `days_employed`. Для реальных данных это нормально. Обработайте значения в этом столбце: замените все отрицательные значения положительными с помощью метода `abs()`.**"
   ]
  },
  {
   "cell_type": "code",
   "execution_count": 7,
   "id": "414d0754",
   "metadata": {
    "id": "f6f055bf"
   },
   "outputs": [],
   "source": [
    "data['days_employed'] = data['days_employed'].abs()# ваш код здесь"
   ]
  },
  {
   "cell_type": "markdown",
   "id": "d3e80873",
   "metadata": {
    "deletable": false,
    "editable": false,
    "id": "6107dd2f",
    "tags": [
     "start_task"
    ]
   },
   "source": [
    "**Задание 7. Для каждого типа занятости выведите медианное значение трудового стажа `days_employed` в днях.**"
   ]
  },
  {
   "cell_type": "code",
   "execution_count": 8,
   "id": "1217b5af",
   "metadata": {
    "id": "85a5faf6"
   },
   "outputs": [
    {
     "name": "stdout",
     "output_type": "stream",
     "text": [
      "income_type\n",
      "безработный        366413.652744\n",
      "в декрете            3296.759962\n",
      "госслужащий          2689.368353\n",
      "компаньон            1547.382223\n",
      "пенсионер          365213.306266\n",
      "предприниматель       520.848083\n",
      "сотрудник            1574.202821\n",
      "студент               578.751554\n",
      "Name: days_employed, dtype: float64\n"
     ]
    }
   ],
   "source": [
    "print(data.groupby('income_type')['days_employed'].median())# ваш код здесь"
   ]
  },
  {
   "cell_type": "markdown",
   "id": "ba0b2c63",
   "metadata": {
    "deletable": false,
    "editable": false,
    "id": "38d1a030"
   },
   "source": [
    "У двух типов (безработные и пенсионеры) получатся аномально большие значения. Исправить такие значения сложно, поэтому оставьте их как есть. Тем более этот столбец не понадобится вам для исследования."
   ]
  },
  {
   "cell_type": "markdown",
   "id": "db628a21",
   "metadata": {
    "deletable": false,
    "editable": false,
    "id": "d8a9f147",
    "tags": [
     "start_task"
    ]
   },
   "source": [
    "**Задание 8. Выведите перечень уникальных значений столбца `children`.**"
   ]
  },
  {
   "cell_type": "code",
   "execution_count": 9,
   "id": "3d9a7a15",
   "metadata": {
    "id": "ef5056eb"
   },
   "outputs": [
    {
     "data": {
      "text/plain": [
       "array([ 1,  0,  3,  2, -1,  4, 20,  5])"
      ]
     },
     "execution_count": 9,
     "metadata": {},
     "output_type": "execute_result"
    }
   ],
   "source": [
    "data['children'].unique()    # ваш код здесь"
   ]
  },
  {
   "cell_type": "markdown",
   "id": "9da11180",
   "metadata": {
    "deletable": false,
    "editable": false,
    "id": "40b9ebf2",
    "tags": [
     "start_task"
    ]
   },
   "source": [
    "**Задание 9. В столбце `children` есть два аномальных значения. Удалите строки, в которых встречаются такие аномальные значения из датафрейма `data`.**"
   ]
  },
  {
   "cell_type": "code",
   "execution_count": 10,
   "id": "042fa9ab",
   "metadata": {
    "id": "3ff9801d"
   },
   "outputs": [],
   "source": [
    "data = data[(data['children'] != -1) & (data['children'] != 20)]# ваш код здесь"
   ]
  },
  {
   "cell_type": "markdown",
   "id": "34adf0b5",
   "metadata": {
    "deletable": false,
    "editable": false,
    "id": "bbc4d0ce",
    "tags": [
     "start_task"
    ]
   },
   "source": [
    "**Задание 10. Ещё раз выведите перечень уникальных значений столбца `children`, чтобы убедиться, что артефакты удалены.**"
   ]
  },
  {
   "cell_type": "code",
   "execution_count": 11,
   "id": "a0fc35b4",
   "metadata": {
    "id": "ad4fa8b7"
   },
   "outputs": [
    {
     "data": {
      "text/plain": [
       "array([1, 0, 3, 2, 4, 5])"
      ]
     },
     "execution_count": 11,
     "metadata": {},
     "output_type": "execute_result"
    }
   ],
   "source": [
    "data['children'].unique()# ваш код здесь"
   ]
  },
  {
   "cell_type": "markdown",
   "id": "19d2b0ad",
   "metadata": {
    "deletable": false,
    "editable": false,
    "id": "75440b63"
   },
   "source": [
    "### Удаление пропусков (продолжение)"
   ]
  },
  {
   "cell_type": "markdown",
   "id": "3cd23bd1",
   "metadata": {
    "deletable": false,
    "editable": false,
    "id": "f4ea573f",
    "tags": [
     "start_task"
    ]
   },
   "source": [
    "**Задание 11. Заполните пропуски в столбце `days_employed` медианными значениями по каждому типу занятости `income_type`.**"
   ]
  },
  {
   "cell_type": "code",
   "execution_count": 12,
   "id": "15be5d8f",
   "metadata": {
    "id": "af6b1a7e"
   },
   "outputs": [],
   "source": [
    "for profi in data['income_type'].unique():\n",
    "    data.loc[(data['income_type'] == profi) & (data['days_employed'].isna()), 'days_employed'] = data.loc[data['income_type'] == profi, 'days_employed'].median()# ваш код здесь"
   ]
  },
  {
   "cell_type": "markdown",
   "id": "e1b40123",
   "metadata": {
    "deletable": false,
    "editable": false,
    "id": "2753f40d",
    "tags": [
     "start_task"
    ]
   },
   "source": [
    "**Задание 12. Убедитесь, что все пропуски заполнены. Проверьте себя и ещё раз выведите количество пропущенных значений для каждого столбца с помощью двух методов.**"
   ]
  },
  {
   "cell_type": "code",
   "execution_count": 13,
   "id": "43665885",
   "metadata": {
    "id": "55f78bc2"
   },
   "outputs": [
    {
     "data": {
      "text/plain": [
       "children            0\n",
       "days_employed       0\n",
       "dob_years           0\n",
       "education           0\n",
       "education_id        0\n",
       "family_status       0\n",
       "family_status_id    0\n",
       "gender              0\n",
       "income_type         0\n",
       "debt                0\n",
       "total_income        0\n",
       "purpose             0\n",
       "dtype: int64"
      ]
     },
     "execution_count": 13,
     "metadata": {},
     "output_type": "execute_result"
    }
   ],
   "source": [
    "data.isna().sum()# ваш код здесь"
   ]
  },
  {
   "cell_type": "markdown",
   "id": "18f7d411",
   "metadata": {
    "deletable": false,
    "editable": false,
    "id": "ddc81e43"
   },
   "source": [
    "### Изменение типов данных"
   ]
  },
  {
   "cell_type": "markdown",
   "id": "4c86d9b8",
   "metadata": {
    "deletable": false,
    "editable": false,
    "id": "42d19d24",
    "tags": [
     "start_task"
    ]
   },
   "source": [
    "**Задание 13. Замените вещественный тип данных в столбце `total_income` на целочисленный с помощью метода `astype()`.**"
   ]
  },
  {
   "cell_type": "code",
   "execution_count": 14,
   "id": "332a9357",
   "metadata": {
    "id": "920b65ad"
   },
   "outputs": [],
   "source": [
    "data['total_income'] = data['total_income'].astype('int')# ваш код здесь"
   ]
  },
  {
   "cell_type": "markdown",
   "id": "5888f3bb",
   "metadata": {
    "deletable": false,
    "editable": false,
    "id": "80c420ba"
   },
   "source": [
    "### Обработка дубликатов"
   ]
  },
  {
   "cell_type": "markdown",
   "id": "43743e73",
   "metadata": {
    "deletable": false,
    "editable": false,
    "tags": [
     "start_task"
    ]
   },
   "source": [
    "**Задание 14. Обработайте неявные дубликаты в столбце `education`. В этом столбце есть одни и те же значения, но записанные по-разному: с использованием заглавных и строчных букв. Приведите их к нижнему регистру. Проверьте остальные столбцы.**"
   ]
  },
  {
   "cell_type": "code",
   "execution_count": 15,
   "id": "9f9b75c3",
   "metadata": {},
   "outputs": [],
   "source": [
    "data['education'] = data['education'].str.lower()\n",
    "from IPython.display import display# ваш код здесь"
   ]
  },
  {
   "cell_type": "markdown",
   "id": "8ed40565",
   "metadata": {
    "deletable": false,
    "editable": false,
    "id": "dc587695",
    "tags": [
     "start_task"
    ]
   },
   "source": [
    "**Задание 15. Выведите на экран количество строк-дубликатов в данных. Если такие строки присутствуют, удалите их.**"
   ]
  },
  {
   "cell_type": "code",
   "execution_count": 16,
   "id": "d0856ca1",
   "metadata": {
    "id": "3ee445e4"
   },
   "outputs": [
    {
     "name": "stdout",
     "output_type": "stream",
     "text": [
      "71\n"
     ]
    }
   ],
   "source": [
    "\n",
    "print(data.duplicated().sum())# посчитайте дубликаты"
   ]
  },
  {
   "cell_type": "code",
   "execution_count": 17,
   "id": "521f69de",
   "metadata": {
    "id": "8575fe05"
   },
   "outputs": [],
   "source": [
    "data = data.drop_duplicates()# удалите дубликаты"
   ]
  },
  {
   "cell_type": "markdown",
   "id": "04c65b63",
   "metadata": {
    "deletable": false,
    "editable": false,
    "id": "9904cf55"
   },
   "source": [
    "### Категоризация данных"
   ]
  },
  {
   "cell_type": "markdown",
   "id": "0148c139",
   "metadata": {
    "deletable": false,
    "editable": false,
    "id": "72fcc8a2",
    "tags": [
     "start_task"
    ]
   },
   "source": [
    "**Задание 16. На основании диапазонов, указанных ниже, создайте в датафрейме `data` столбец `total_income_category` с категориями:**\n",
    "\n",
    "- 0–30000 — `'E'`;\n",
    "- 30001–50000 — `'D'`;\n",
    "- 50001–200000 — `'C'`;\n",
    "- 200001–1000000 — `'B'`;\n",
    "- 1000001 и выше — `'A'`.\n",
    "\n",
    "\n",
    "**Например, кредитополучателю с доходом 25000 нужно назначить категорию `'E'`, а клиенту, получающему 235000, — `'B'`. Используйте собственную функцию с именем `categorize_income()` и метод `apply()`.**"
   ]
  },
  {
   "cell_type": "code",
   "execution_count": 18,
   "id": "f076b2b8",
   "metadata": {
    "id": "e1771346"
   },
   "outputs": [],
   "source": [
    "\n",
    "def categorize_income(income):\n",
    "    if 0 < income <= 30000:\n",
    "        return 'E'\n",
    "    if 30001 <= income <= 50000:\n",
    "        return 'D'\n",
    "    if 50001 <= income <= 200000:\n",
    "        return 'C'\n",
    "    if 200001 <= income <= 1000000:\n",
    "        return 'B'\n",
    "    if 1000001 <= income:\n",
    "        return 'A'\n",
    "\n",
    "        # создайте функцию categorize_income()"
   ]
  },
  {
   "cell_type": "code",
   "execution_count": 19,
   "id": "3fba45a9",
   "metadata": {
    "id": "d5f3586d"
   },
   "outputs": [],
   "source": [
    "data['total_income_category'] = data['total_income'].apply(categorize_income) # примените функцию методом apply()"
   ]
  },
  {
   "cell_type": "markdown",
   "id": "d649a3e7",
   "metadata": {
    "deletable": false,
    "editable": false,
    "id": "dde49b5c",
    "tags": [
     "start_task"
    ]
   },
   "source": [
    "**Задание 17. Выведите на экран перечень уникальных целей взятия кредита из столбца `purpose`.**"
   ]
  },
  {
   "cell_type": "code",
   "execution_count": 20,
   "id": "d0a2d729",
   "metadata": {
    "id": "f67ce9b3"
   },
   "outputs": [
    {
     "data": {
      "text/plain": [
       "array(['покупка жилья', 'приобретение автомобиля',\n",
       "       'дополнительное образование', 'сыграть свадьбу',\n",
       "       'операции с жильем', 'образование', 'на проведение свадьбы',\n",
       "       'покупка жилья для семьи', 'покупка недвижимости',\n",
       "       'покупка коммерческой недвижимости', 'покупка жилой недвижимости',\n",
       "       'строительство собственной недвижимости', 'недвижимость',\n",
       "       'строительство недвижимости', 'на покупку подержанного автомобиля',\n",
       "       'на покупку своего автомобиля',\n",
       "       'операции с коммерческой недвижимостью',\n",
       "       'строительство жилой недвижимости', 'жилье',\n",
       "       'операции со своей недвижимостью', 'автомобили',\n",
       "       'заняться образованием', 'сделка с подержанным автомобилем',\n",
       "       'получение образования', 'автомобиль', 'свадьба',\n",
       "       'получение дополнительного образования', 'покупка своего жилья',\n",
       "       'операции с недвижимостью', 'получение высшего образования',\n",
       "       'свой автомобиль', 'сделка с автомобилем',\n",
       "       'профильное образование', 'высшее образование',\n",
       "       'покупка жилья для сдачи', 'на покупку автомобиля', 'ремонт жилью',\n",
       "       'заняться высшим образованием'], dtype=object)"
      ]
     },
     "execution_count": 20,
     "metadata": {},
     "output_type": "execute_result"
    }
   ],
   "source": [
    "data['purpose'].unique()# ваш код здесь"
   ]
  },
  {
   "cell_type": "markdown",
   "id": "094ceb7c",
   "metadata": {
    "deletable": false,
    "editable": false,
    "id": "85d0aef0",
    "tags": [
     "start_task"
    ]
   },
   "source": [
    "**Задание 18. Создайте функцию, которая на основании данных из столбца `purpose` сформирует новый столбец `purpose_category`, в который войдут следующие категории:**\n",
    "\n",
    "- `'операции с автомобилем'`,\n",
    "- `'операции с недвижимостью'`,\n",
    "- `'проведение свадьбы'`,\n",
    "- `'получение образования'`.\n",
    "\n",
    "**Например, если в столбце `purpose` находится подстрока `'на покупку автомобиля'`, то в столбце `purpose_category` должна появиться строка `'операции с автомобилем'`.**\n",
    "\n",
    "**Используйте собственную функцию с именем `categorize_purpose()` и метод `apply()`. Изучите данные в столбце `purpose` и определите, какие подстроки помогут вам правильно определить категорию.**"
   ]
  },
  {
   "cell_type": "code",
   "execution_count": 21,
   "id": "02a75e74",
   "metadata": {
    "id": "e149fab4"
   },
   "outputs": [],
   "source": [
    "def categorize_purpose(purpose):\n",
    "    if 'автомоб' in purpose:\n",
    "        return 'операции с автомобилем'\n",
    "    if 'недвижим' in purpose:\n",
    "        return 'операции с недвижимостью'\n",
    "    if 'жиль' in purpose:\n",
    "        return 'операции с недвижимостью'\n",
    "    if 'свад' in purpose:\n",
    "        return 'проведение свадьбы'\n",
    "    if 'образован' in purpose:\n",
    "        return 'получение образования'\n",
    "    # создайте функцию categorize_purpose()"
   ]
  },
  {
   "cell_type": "code",
   "execution_count": 22,
   "id": "f22d5f53",
   "metadata": {
    "id": "bf36e69b"
   },
   "outputs": [],
   "source": [
    "data['purpose_category'] = data['purpose'].apply(categorize_purpose) # примените функцию методом apply()"
   ]
  },
  {
   "cell_type": "code",
   "execution_count": null,
   "id": "23944d3a",
   "metadata": {},
   "outputs": [],
   "source": []
  }
 ],
 "metadata": {
  "ExecuteTimeLog": [
   {
    "duration": 361,
    "start_time": "2022-08-05T14:24:54.593Z"
   },
   {
    "duration": 309,
    "start_time": "2022-08-05T14:24:56.036Z"
   },
   {
    "duration": 10,
    "start_time": "2022-08-05T14:25:03.743Z"
   },
   {
    "duration": 15,
    "start_time": "2022-08-05T14:26:07.040Z"
   },
   {
    "duration": 47,
    "start_time": "2022-08-05T19:48:32.771Z"
   },
   {
    "duration": 8,
    "start_time": "2022-08-05T19:49:38.628Z"
   },
   {
    "duration": 392,
    "start_time": "2022-08-05T19:50:15.638Z"
   },
   {
    "duration": 304,
    "start_time": "2022-08-05T19:50:16.885Z"
   },
   {
    "duration": 11,
    "start_time": "2022-08-05T19:50:20.351Z"
   },
   {
    "duration": 14,
    "start_time": "2022-08-05T19:50:29.320Z"
   },
   {
    "duration": 53,
    "start_time": "2022-08-05T19:50:34.030Z"
   },
   {
    "duration": 49,
    "start_time": "2022-08-05T19:54:57.822Z"
   },
   {
    "duration": 43,
    "start_time": "2022-08-06T22:00:45.400Z"
   },
   {
    "duration": 427,
    "start_time": "2022-08-07T16:56:19.767Z"
   },
   {
    "duration": 287,
    "start_time": "2022-08-07T16:56:21.343Z"
   },
   {
    "duration": 10,
    "start_time": "2022-08-07T16:56:24.371Z"
   },
   {
    "duration": 15,
    "start_time": "2022-08-07T16:56:31.763Z"
   },
   {
    "duration": 43,
    "start_time": "2022-08-07T16:56:36.569Z"
   },
   {
    "duration": 75,
    "start_time": "2022-08-07T16:56:41.922Z"
   },
   {
    "duration": 429,
    "start_time": "2022-08-08T12:41:04.374Z"
   },
   {
    "duration": 282,
    "start_time": "2022-08-08T12:41:05.862Z"
   },
   {
    "duration": 10,
    "start_time": "2022-08-08T12:41:08.662Z"
   },
   {
    "duration": 14,
    "start_time": "2022-08-08T12:41:14.967Z"
   },
   {
    "duration": 43,
    "start_time": "2022-08-08T12:41:18.782Z"
   },
   {
    "duration": 4,
    "start_time": "2022-08-08T12:41:32.615Z"
   },
   {
    "duration": 67,
    "start_time": "2022-08-08T12:50:54.934Z"
   },
   {
    "duration": 7,
    "start_time": "2022-08-08T12:51:15.062Z"
   },
   {
    "duration": 7,
    "start_time": "2022-08-08T12:54:31.909Z"
   },
   {
    "duration": 10,
    "start_time": "2022-08-08T12:54:53.242Z"
   },
   {
    "duration": 3,
    "start_time": "2022-08-08T12:59:30.249Z"
   },
   {
    "duration": 9,
    "start_time": "2022-08-08T13:00:30.394Z"
   },
   {
    "duration": 8,
    "start_time": "2022-08-08T13:01:12.133Z"
   },
   {
    "duration": 1069,
    "start_time": "2022-08-08T13:01:31.292Z"
   },
   {
    "duration": 52,
    "start_time": "2022-08-08T14:17:47.356Z"
   },
   {
    "duration": 7,
    "start_time": "2022-08-08T14:18:21.819Z"
   },
   {
    "duration": 7,
    "start_time": "2022-08-08T14:18:29.248Z"
   },
   {
    "duration": 419,
    "start_time": "2022-08-08T14:18:42.203Z"
   },
   {
    "duration": 73,
    "start_time": "2022-08-08T14:18:44.121Z"
   },
   {
    "duration": 11,
    "start_time": "2022-08-08T14:18:47.694Z"
   },
   {
    "duration": 16,
    "start_time": "2022-08-08T14:18:52.293Z"
   },
   {
    "duration": 45,
    "start_time": "2022-08-08T14:18:54.394Z"
   },
   {
    "duration": 3,
    "start_time": "2022-08-08T14:18:57.131Z"
   },
   {
    "duration": 10,
    "start_time": "2022-08-08T14:18:58.929Z"
   },
   {
    "duration": 5,
    "start_time": "2022-08-08T14:19:14.860Z"
   },
   {
    "duration": 21,
    "start_time": "2022-08-08T14:23:32.193Z"
   },
   {
    "duration": 12,
    "start_time": "2022-08-08T14:25:50.569Z"
   },
   {
    "duration": 36,
    "start_time": "2022-08-08T14:34:28.656Z"
   },
   {
    "duration": 10,
    "start_time": "2022-08-08T14:36:39.992Z"
   },
   {
    "duration": 5,
    "start_time": "2022-08-08T14:41:43.885Z"
   },
   {
    "duration": 58,
    "start_time": "2022-08-08T14:45:43.393Z"
   },
   {
    "duration": 17,
    "start_time": "2022-08-08T14:45:52.967Z"
   },
   {
    "duration": 18,
    "start_time": "2022-08-08T14:46:17.938Z"
   },
   {
    "duration": 22,
    "start_time": "2022-08-08T14:49:38.604Z"
   },
   {
    "duration": 49,
    "start_time": "2022-08-08T14:50:23.863Z"
   },
   {
    "duration": 68,
    "start_time": "2022-08-08T14:50:39.066Z"
   },
   {
    "duration": 46,
    "start_time": "2022-08-08T14:55:39.292Z"
   },
   {
    "duration": 3,
    "start_time": "2022-08-08T14:55:41.175Z"
   },
   {
    "duration": 42,
    "start_time": "2022-08-08T14:55:52.594Z"
   },
   {
    "duration": 13,
    "start_time": "2022-08-08T14:56:36.579Z"
   },
   {
    "duration": 58,
    "start_time": "2022-08-08T14:57:01.825Z"
   },
   {
    "duration": 22,
    "start_time": "2022-08-08T14:59:57.021Z"
   },
   {
    "duration": 20,
    "start_time": "2022-08-08T15:01:39.630Z"
   },
   {
    "duration": 21,
    "start_time": "2022-08-08T15:01:48.078Z"
   },
   {
    "duration": 20,
    "start_time": "2022-08-08T15:02:00.017Z"
   },
   {
    "duration": 21,
    "start_time": "2022-08-08T15:02:02.519Z"
   },
   {
    "duration": 6,
    "start_time": "2022-08-08T17:11:40.391Z"
   },
   {
    "duration": 281,
    "start_time": "2022-08-08T17:11:42.437Z"
   },
   {
    "duration": 3,
    "start_time": "2022-08-08T17:13:05.029Z"
   },
   {
    "duration": 71,
    "start_time": "2022-08-08T17:13:06.675Z"
   },
   {
    "duration": 10,
    "start_time": "2022-08-08T17:13:07.946Z"
   },
   {
    "duration": 10,
    "start_time": "2022-08-08T17:13:12.378Z"
   },
   {
    "duration": 42,
    "start_time": "2022-08-08T17:13:14.064Z"
   },
   {
    "duration": 3,
    "start_time": "2022-08-08T17:13:17.647Z"
   },
   {
    "duration": 8,
    "start_time": "2022-08-08T17:13:20.981Z"
   },
   {
    "duration": 5,
    "start_time": "2022-08-08T17:13:26.936Z"
   },
   {
    "duration": 8,
    "start_time": "2022-08-08T17:13:30.251Z"
   },
   {
    "duration": 5,
    "start_time": "2022-08-08T17:13:33.890Z"
   },
   {
    "duration": 39,
    "start_time": "2022-08-08T17:13:40.519Z"
   },
   {
    "duration": 11,
    "start_time": "2022-08-08T17:13:46.716Z"
   },
   {
    "duration": 5,
    "start_time": "2022-08-08T17:13:54.786Z"
   },
   {
    "duration": 12,
    "start_time": "2022-08-08T17:14:00.477Z"
   },
   {
    "duration": 19,
    "start_time": "2022-08-08T17:14:02.984Z"
   },
   {
    "duration": 18,
    "start_time": "2022-08-08T17:14:04.077Z"
   },
   {
    "duration": 4,
    "start_time": "2022-08-08T17:14:09.902Z"
   },
   {
    "duration": 3,
    "start_time": "2022-08-08T17:15:40.589Z"
   },
   {
    "duration": 12,
    "start_time": "2022-08-08T17:15:42.152Z"
   },
   {
    "duration": 3,
    "start_time": "2022-08-08T17:16:48.968Z"
   },
   {
    "duration": 9,
    "start_time": "2022-08-08T17:16:50.626Z"
   },
   {
    "duration": 3,
    "start_time": "2022-08-08T17:18:08.319Z"
   },
   {
    "duration": 81,
    "start_time": "2022-08-08T17:18:09.271Z"
   },
   {
    "duration": 11,
    "start_time": "2022-08-08T17:18:11.229Z"
   },
   {
    "duration": 11,
    "start_time": "2022-08-08T17:18:16.968Z"
   },
   {
    "duration": 66,
    "start_time": "2022-08-08T17:18:18.677Z"
   },
   {
    "duration": 4,
    "start_time": "2022-08-08T17:18:21.237Z"
   },
   {
    "duration": 7,
    "start_time": "2022-08-08T17:18:24.277Z"
   },
   {
    "duration": 5,
    "start_time": "2022-08-08T17:18:31.123Z"
   },
   {
    "duration": 5,
    "start_time": "2022-08-08T17:18:33.860Z"
   },
   {
    "duration": 5,
    "start_time": "2022-08-08T17:18:35.625Z"
   },
   {
    "duration": 34,
    "start_time": "2022-08-08T17:18:38.569Z"
   },
   {
    "duration": 11,
    "start_time": "2022-08-08T17:18:42.514Z"
   },
   {
    "duration": 6,
    "start_time": "2022-08-08T17:18:45.584Z"
   },
   {
    "duration": 12,
    "start_time": "2022-08-08T17:18:50.277Z"
   },
   {
    "duration": 18,
    "start_time": "2022-08-08T17:18:52.133Z"
   },
   {
    "duration": 20,
    "start_time": "2022-08-08T17:18:53.221Z"
   },
   {
    "duration": 4,
    "start_time": "2022-08-08T17:18:57.863Z"
   },
   {
    "duration": 16,
    "start_time": "2022-08-08T17:18:58.917Z"
   },
   {
    "duration": 163,
    "start_time": "2022-08-08T17:20:17.648Z"
   },
   {
    "duration": 5,
    "start_time": "2022-08-08T17:20:58.830Z"
   },
   {
    "duration": 13,
    "start_time": "2022-08-08T17:21:00.790Z"
   },
   {
    "duration": 463,
    "start_time": "2022-08-08T17:43:04.100Z"
   },
   {
    "duration": 77,
    "start_time": "2022-08-08T17:43:04.565Z"
   },
   {
    "duration": 12,
    "start_time": "2022-08-08T17:43:04.644Z"
   },
   {
    "duration": 17,
    "start_time": "2022-08-08T17:43:04.659Z"
   },
   {
    "duration": 63,
    "start_time": "2022-08-08T17:43:04.678Z"
   },
   {
    "duration": 4,
    "start_time": "2022-08-08T17:43:04.743Z"
   },
   {
    "duration": 12,
    "start_time": "2022-08-08T17:43:04.748Z"
   },
   {
    "duration": 5,
    "start_time": "2022-08-08T17:43:04.761Z"
   },
   {
    "duration": 39,
    "start_time": "2022-08-08T17:43:04.768Z"
   },
   {
    "duration": 5,
    "start_time": "2022-08-08T17:43:04.809Z"
   },
   {
    "duration": 38,
    "start_time": "2022-08-08T17:43:04.816Z"
   },
   {
    "duration": 9,
    "start_time": "2022-08-08T17:43:04.856Z"
   },
   {
    "duration": 36,
    "start_time": "2022-08-08T17:43:04.867Z"
   },
   {
    "duration": 12,
    "start_time": "2022-08-08T17:43:04.905Z"
   },
   {
    "duration": 23,
    "start_time": "2022-08-08T17:43:04.918Z"
   },
   {
    "duration": 20,
    "start_time": "2022-08-08T17:43:04.943Z"
   },
   {
    "duration": 4,
    "start_time": "2022-08-08T17:43:04.965Z"
   },
   {
    "duration": 38,
    "start_time": "2022-08-08T17:43:04.970Z"
   },
   {
    "duration": 5,
    "start_time": "2022-08-08T17:43:05.010Z"
   },
   {
    "duration": 4,
    "start_time": "2022-08-08T17:43:05.017Z"
   },
   {
    "duration": 10,
    "start_time": "2022-08-08T17:43:05.023Z"
   },
   {
    "duration": 4,
    "start_time": "2022-08-08T17:43:36.648Z"
   },
   {
    "duration": 8,
    "start_time": "2022-08-08T17:43:37.787Z"
   },
   {
    "duration": 50,
    "start_time": "2022-08-08T17:46:01.974Z"
   },
   {
    "duration": 3,
    "start_time": "2022-08-08T17:46:22.801Z"
   },
   {
    "duration": 9,
    "start_time": "2022-08-08T17:46:24.806Z"
   },
   {
    "duration": 4,
    "start_time": "2022-08-08T17:48:17.786Z"
   },
   {
    "duration": 26,
    "start_time": "2022-08-08T17:48:19.241Z"
   },
   {
    "duration": 62,
    "start_time": "2022-08-08T17:52:29.383Z"
   },
   {
    "duration": 411,
    "start_time": "2022-08-08T17:52:47.100Z"
   },
   {
    "duration": 73,
    "start_time": "2022-08-08T17:52:47.863Z"
   },
   {
    "duration": 12,
    "start_time": "2022-08-08T17:52:49.765Z"
   },
   {
    "duration": 15,
    "start_time": "2022-08-08T17:52:54.318Z"
   },
   {
    "duration": 45,
    "start_time": "2022-08-08T17:52:56.009Z"
   },
   {
    "duration": 3,
    "start_time": "2022-08-08T17:52:58.641Z"
   },
   {
    "duration": 8,
    "start_time": "2022-08-08T17:53:00.298Z"
   },
   {
    "duration": 4,
    "start_time": "2022-08-08T17:53:05.130Z"
   },
   {
    "duration": 11,
    "start_time": "2022-08-08T17:53:07.654Z"
   },
   {
    "duration": 4,
    "start_time": "2022-08-08T17:53:11.007Z"
   },
   {
    "duration": 35,
    "start_time": "2022-08-08T17:53:13.955Z"
   },
   {
    "duration": 11,
    "start_time": "2022-08-08T17:53:18.324Z"
   },
   {
    "duration": 5,
    "start_time": "2022-08-08T17:53:22.243Z"
   },
   {
    "duration": 22,
    "start_time": "2022-08-08T17:53:25.393Z"
   },
   {
    "duration": 30,
    "start_time": "2022-08-08T17:53:27.928Z"
   },
   {
    "duration": 20,
    "start_time": "2022-08-08T17:53:28.834Z"
   },
   {
    "duration": 4,
    "start_time": "2022-08-08T17:53:33.566Z"
   },
   {
    "duration": 11,
    "start_time": "2022-08-08T17:53:35.469Z"
   },
   {
    "duration": 11,
    "start_time": "2022-08-08T17:55:51.199Z"
   },
   {
    "duration": 4,
    "start_time": "2022-08-08T17:55:55.110Z"
   },
   {
    "duration": 14,
    "start_time": "2022-08-08T17:55:56.057Z"
   },
   {
    "duration": 4,
    "start_time": "2022-08-08T17:59:39.217Z"
   },
   {
    "duration": 11,
    "start_time": "2022-08-08T17:59:40.370Z"
   },
   {
    "duration": 472,
    "start_time": "2022-08-08T17:59:58.726Z"
   },
   {
    "duration": 77,
    "start_time": "2022-08-08T17:59:59.200Z"
   },
   {
    "duration": 11,
    "start_time": "2022-08-08T17:59:59.279Z"
   },
   {
    "duration": 21,
    "start_time": "2022-08-08T17:59:59.292Z"
   },
   {
    "duration": 45,
    "start_time": "2022-08-08T17:59:59.315Z"
   },
   {
    "duration": 3,
    "start_time": "2022-08-08T17:59:59.362Z"
   },
   {
    "duration": 8,
    "start_time": "2022-08-08T17:59:59.405Z"
   },
   {
    "duration": 11,
    "start_time": "2022-08-08T17:59:59.415Z"
   },
   {
    "duration": 13,
    "start_time": "2022-08-08T17:59:59.428Z"
   },
   {
    "duration": 5,
    "start_time": "2022-08-08T17:59:59.444Z"
   },
   {
    "duration": 81,
    "start_time": "2022-08-08T17:59:59.450Z"
   },
   {
    "duration": 10,
    "start_time": "2022-08-08T17:59:59.533Z"
   },
   {
    "duration": 9,
    "start_time": "2022-08-08T17:59:59.544Z"
   },
   {
    "duration": 15,
    "start_time": "2022-08-08T17:59:59.555Z"
   },
   {
    "duration": 21,
    "start_time": "2022-08-08T17:59:59.602Z"
   },
   {
    "duration": 31,
    "start_time": "2022-08-08T17:59:59.626Z"
   },
   {
    "duration": 4,
    "start_time": "2022-08-08T17:59:59.659Z"
   },
   {
    "duration": 43,
    "start_time": "2022-08-08T17:59:59.664Z"
   },
   {
    "duration": 2,
    "start_time": "2022-08-08T17:59:59.709Z"
   },
   {
    "duration": 10,
    "start_time": "2022-08-08T17:59:59.713Z"
   },
   {
    "duration": 6,
    "start_time": "2022-08-08T17:59:59.725Z"
   },
   {
    "duration": 2,
    "start_time": "2022-08-08T18:00:13.043Z"
   },
   {
    "duration": 70,
    "start_time": "2022-08-08T18:00:13.824Z"
   },
   {
    "duration": 10,
    "start_time": "2022-08-08T18:00:15.911Z"
   },
   {
    "duration": 13,
    "start_time": "2022-08-08T18:00:21.028Z"
   },
   {
    "duration": 42,
    "start_time": "2022-08-08T18:00:22.711Z"
   },
   {
    "duration": 4,
    "start_time": "2022-08-08T18:00:25.493Z"
   },
   {
    "duration": 7,
    "start_time": "2022-08-08T18:00:31.424Z"
   },
   {
    "duration": 4,
    "start_time": "2022-08-08T18:00:33.797Z"
   },
   {
    "duration": 6,
    "start_time": "2022-08-08T18:00:35.458Z"
   },
   {
    "duration": 4,
    "start_time": "2022-08-08T18:00:37.198Z"
   },
   {
    "duration": 47,
    "start_time": "2022-08-08T18:00:39.802Z"
   },
   {
    "duration": 11,
    "start_time": "2022-08-08T18:00:41.705Z"
   },
   {
    "duration": 4,
    "start_time": "2022-08-08T18:00:44.314Z"
   },
   {
    "duration": 12,
    "start_time": "2022-08-08T18:00:50.586Z"
   },
   {
    "duration": 21,
    "start_time": "2022-08-08T18:00:52.958Z"
   },
   {
    "duration": 20,
    "start_time": "2022-08-08T18:00:53.852Z"
   },
   {
    "duration": 4,
    "start_time": "2022-08-08T18:01:00.123Z"
   },
   {
    "duration": 11,
    "start_time": "2022-08-08T18:01:01.273Z"
   },
   {
    "duration": 4,
    "start_time": "2022-08-08T18:03:47.898Z"
   },
   {
    "duration": 10,
    "start_time": "2022-08-08T18:03:48.962Z"
   },
   {
    "duration": 6,
    "start_time": "2022-08-08T18:05:46.220Z"
   },
   {
    "duration": 3,
    "start_time": "2022-08-08T18:25:41.605Z"
   },
   {
    "duration": 259,
    "start_time": "2022-08-08T18:25:43.849Z"
   },
   {
    "duration": 4,
    "start_time": "2022-08-08T18:26:27.559Z"
   },
   {
    "duration": 10,
    "start_time": "2022-08-08T18:26:29.564Z"
   },
   {
    "duration": 4,
    "start_time": "2022-08-08T18:37:21.530Z"
   },
   {
    "duration": 10,
    "start_time": "2022-08-08T18:37:23.385Z"
   },
   {
    "duration": 68,
    "start_time": "2022-08-22T15:41:51.247Z"
   },
   {
    "duration": 94,
    "start_time": "2023-07-02T11:17:06.341Z"
   },
   {
    "duration": 421,
    "start_time": "2023-07-02T11:17:16.146Z"
   },
   {
    "duration": 480,
    "start_time": "2023-07-02T11:17:16.570Z"
   },
   {
    "duration": 22,
    "start_time": "2023-07-02T11:17:17.847Z"
   },
   {
    "duration": 23,
    "start_time": "2023-07-02T11:17:20.413Z"
   },
   {
    "duration": 51,
    "start_time": "2023-07-02T11:17:21.242Z"
   },
   {
    "duration": 3,
    "start_time": "2023-07-02T11:17:22.460Z"
   },
   {
    "duration": 7,
    "start_time": "2023-07-02T11:17:23.370Z"
   },
   {
    "duration": 16,
    "start_time": "2023-07-02T11:17:24.734Z"
   },
   {
    "duration": 27,
    "start_time": "2023-07-02T11:17:25.626Z"
   },
   {
    "duration": 22,
    "start_time": "2023-07-02T11:17:26.627Z"
   },
   {
    "duration": 33,
    "start_time": "2023-07-02T11:17:28.350Z"
   },
   {
    "duration": 30,
    "start_time": "2023-07-02T11:17:29.541Z"
   },
   {
    "duration": 3,
    "start_time": "2023-07-02T11:17:31.462Z"
   },
   {
    "duration": 11,
    "start_time": "2023-07-02T11:17:33.162Z"
   },
   {
    "duration": 21,
    "start_time": "2023-07-02T11:17:34.348Z"
   },
   {
    "duration": 17,
    "start_time": "2023-07-02T11:17:34.967Z"
   },
   {
    "duration": 8,
    "start_time": "2023-07-02T11:17:37.027Z"
   },
   {
    "duration": 28,
    "start_time": "2023-07-02T11:17:38.200Z"
   },
   {
    "duration": 16,
    "start_time": "2023-07-02T11:17:39.617Z"
   },
   {
    "duration": 3,
    "start_time": "2023-07-02T11:17:41.059Z"
   },
   {
    "duration": 27,
    "start_time": "2023-07-02T11:17:41.913Z"
   }
  ],
  "colab": {
   "name": "dpp_template_part1.ipynb",
   "provenance": []
  },
  "kernelspec": {
   "display_name": "Python 3 (ipykernel)",
   "language": "python",
   "name": "python3"
  },
  "language_info": {
   "codemirror_mode": {
    "name": "ipython",
    "version": 3
   },
   "file_extension": ".py",
   "mimetype": "text/x-python",
   "name": "python",
   "nbconvert_exporter": "python",
   "pygments_lexer": "ipython3",
   "version": "3.9.5"
  },
  "toc": {
   "base_numbering": 1,
   "nav_menu": {},
   "number_sections": true,
   "sideBar": true,
   "skip_h1_title": true,
   "title_cell": "Table of Contents",
   "title_sidebar": "Contents",
   "toc_cell": false,
   "toc_position": {},
   "toc_section_display": true,
   "toc_window_display": false
  }
 },
 "nbformat": 4,
 "nbformat_minor": 5
}
