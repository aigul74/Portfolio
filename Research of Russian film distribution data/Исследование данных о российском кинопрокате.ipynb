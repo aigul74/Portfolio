{
 "cells": [
  {
   "cell_type": "markdown",
   "metadata": {},
   "source": [
    "<div class=\"alert alert-success\">\n",
    "<b> Комментарий от ревьюера 3 ✔️</b>\n",
    "\n",
    "Привет! Оформление комментариев по работе сохраняется. Только обозначим, что это третья итерация. \n",
    "\n",
    "</div>"
   ]
  },
  {
   "cell_type": "markdown",
   "metadata": {},
   "source": [
    "<div class=\"alert alert-success\">\n",
    "<b> Комментарий от ревьюера 2 ✔️</b>\n",
    "\n",
    "Привет еще раз. Оформление комментариев по работе сохраняется. Только обозначим, что это вторая итерация. \n",
    "\n",
    "</div>"
   ]
  },
  {
   "cell_type": "markdown",
   "metadata": {},
   "source": [
    "## <b>Комментарий от ревьюера</b>\n",
    "\n",
    "Привет! Меня зовут Ярослав, я буду делать ревью твоего проекта. Давай будем общаться на «ты».\n",
    "\n",
    "Мои комментарии будут в ячейках \"Комментарий от ревьюера\".\n",
    "\n",
    "<div class=\"alert alert-danger\"> \n",
    "\n",
    "<b> Комментарий от ревьюера ❗</b>\n",
    "\n",
    "Красным цветом обозначены комментарии, на которые тебе нужно обратить внимание в первую очередь, чтобы я принял проект. \n",
    "</div>\n",
    "<div class=\"alert alert-warning\">\n",
    "\n",
    "<b> Комментарий от ревьюера ⚠️</b>\n",
    "\n",
    "Желтым цветом отмечено то, что ты можешь сделать немного по-другому. Ты можешь учесть эти комментарии при выполнении следующих проектов.\n",
    "</div>\n",
    "<div class=\"alert alert-success\">\n",
    "\n",
    "<b> Комментарий от ревьюера ✔️</b>\n",
    "\n",
    "Зелёным цветом обозначены твои удачные решения, которые ты без сомнения можешь применять в будущих проектах.  \n",
    "</div>\n",
    "\n",
    "Если ты вносишь изменения в проект по моим рекомендациям, указывай, пожалуйста, это в своих комментариях. Будет удобно, если обозначишь свои комментарии заметным цветом или поместишь \n",
    "\n",
    "<div class=\"alert alert-info\">\n",
    "    \n",
    "в такую ячейку\n",
    "</div>\n",
    "\n",
    "Давай при работе с проектом мы будем общаться с тобой в диалоге, поэтому не удаляй и не перемещай мои комментарии, это поможет мне сделать повторную  проверку проекта быстрее.\n",
    "___\n"
   ]
  },
  {
   "cell_type": "markdown",
   "metadata": {
    "toc": true
   },
   "source": [
    "<h1>Содержание<span class=\"tocSkip\"></span></h1>\n",
    "<div class=\"toc\"><ul class=\"toc-item\"><li><span><a href=\"#Комментарий-от-ревьюера\" data-toc-modified-id=\"Комментарий-от-ревьюера-1\"><span class=\"toc-item-num\">1&nbsp;&nbsp;</span><b>Комментарий от ревьюера</b></a></span></li><li><span><a href=\"#Исследование-данных-о-российском-кинопрокате\" data-toc-modified-id=\"Исследование-данных-о-российском-кинопрокате-2\"><span class=\"toc-item-num\">2&nbsp;&nbsp;</span>Исследование данных о российском кинопрокате</a></span><ul class=\"toc-item\"><li><span><a href=\"#Шаг-1.-Откройте-файлы-с-данными-и-объедините-их-в-один-датафрейм.\" data-toc-modified-id=\"Шаг-1.-Откройте-файлы-с-данными-и-объедините-их-в-один-датафрейм.-2.1\"><span class=\"toc-item-num\">2.1&nbsp;&nbsp;</span>Шаг 1. Откройте файлы с данными и объедините их в один датафрейм.</a></span></li><li><span><a href=\"#Шаг-2.-Предобработка-данных\" data-toc-modified-id=\"Шаг-2.-Предобработка-данных-2.2\"><span class=\"toc-item-num\">2.2&nbsp;&nbsp;</span>Шаг 2. Предобработка данных</a></span><ul class=\"toc-item\"><li><span><a href=\"#Шаг-2.1.-Проверьте-типы-данных\" data-toc-modified-id=\"Шаг-2.1.-Проверьте-типы-данных-2.2.1\"><span class=\"toc-item-num\">2.2.1&nbsp;&nbsp;</span>Шаг 2.1. Проверьте типы данных</a></span></li><li><span><a href=\"#Шаг-2.2.-Изучите-пропуски-в-датафрейме\" data-toc-modified-id=\"Шаг-2.2.-Изучите-пропуски-в-датафрейме-2.2.2\"><span class=\"toc-item-num\">2.2.2&nbsp;&nbsp;</span>Шаг 2.2. Изучите пропуски в датафрейме</a></span></li><li><span><a href=\"#Шаг-2.3.-Изучите-дубликаты-в-датафрейме\" data-toc-modified-id=\"Шаг-2.3.-Изучите-дубликаты-в-датафрейме-2.2.3\"><span class=\"toc-item-num\">2.2.3&nbsp;&nbsp;</span>Шаг 2.3. Изучите дубликаты в датафрейме</a></span></li><li><span><a href=\"#Шаг-2.4.-Изучите-категориальные-значения\" data-toc-modified-id=\"Шаг-2.4.-Изучите-категориальные-значения-2.2.4\"><span class=\"toc-item-num\">2.2.4&nbsp;&nbsp;</span>Шаг 2.4. Изучите категориальные значения</a></span></li><li><span><a href=\"#Шаг-2.5.-Проверьте-количественные-значения\" data-toc-modified-id=\"Шаг-2.5.-Проверьте-количественные-значения-2.2.5\"><span class=\"toc-item-num\">2.2.5&nbsp;&nbsp;</span>Шаг 2.5. Проверьте количественные значения</a></span></li><li><span><a href=\"#Шаг-2.6.-Добавьте-новые-столбцы\" data-toc-modified-id=\"Шаг-2.6.-Добавьте-новые-столбцы-2.2.6\"><span class=\"toc-item-num\">2.2.6&nbsp;&nbsp;</span>Шаг 2.6. Добавьте новые столбцы</a></span></li></ul></li><li><span><a href=\"#Шаг-3.-Проведите-исследовательский-анализ-данных\" data-toc-modified-id=\"Шаг-3.-Проведите-исследовательский-анализ-данных-2.3\"><span class=\"toc-item-num\">2.3&nbsp;&nbsp;</span>Шаг 3. Проведите исследовательский анализ данных</a></span></li><li><span><a href=\"#Шаг-4.-Исследуйте-фильмы,-которые-получили-государственную-поддержку\" data-toc-modified-id=\"Шаг-4.-Исследуйте-фильмы,-которые-получили-государственную-поддержку-2.4\"><span class=\"toc-item-num\">2.4&nbsp;&nbsp;</span>Шаг 4. Исследуйте фильмы, которые получили государственную поддержку</a></span></li><li><span><a href=\"#Шаг-5.-Общий-вывод.\" data-toc-modified-id=\"Шаг-5.-Общий-вывод.-2.5\"><span class=\"toc-item-num\">2.5&nbsp;&nbsp;</span>Шаг 5. Общий вывод.</a></span></li></ul></li></ul></div>"
   ]
  },
  {
   "cell_type": "markdown",
   "metadata": {
    "id": "sIfNaMOxgFyK"
   },
   "source": [
    "## Исследование данных о российском кинопрокате\n",
    "\n"
   ]
  },
  {
   "cell_type": "markdown",
   "metadata": {},
   "source": [
    "<div class=\"alert alert-warning\">\n",
    "    \n",
    "<b> Комментарий от ревьюера ⚠️</b>\n",
    "    \n",
    "В начале работы стоит добавить описание проекта, чтобы твои коллеги понимали цели исследования. Это поможет и тебе, если ты вернешься к проекту спустя время.\n",
    "    \n",
    "Еще сюда можно добавить описание данных и оглавление. Описание поможет быстрее разобраться, что у нас лежит в датафрейме, а оглавление позволит понять охваченные вопросы и поможет сразу перейти к нужному разделу.\n",
    "</div>"
   ]
  },
  {
   "cell_type": "markdown",
   "metadata": {},
   "source": [
    "<div class=\"alert alert-info\">\n",
    "    \n",
    "**Описание проекта**\n",
    "\n",
    "Заказчик этого исследования — Министерство культуры Российской Федерации.\n",
    "Вам нужно изучить рынок российского кинопроката и выявить текущие тренды. Уделите внимание фильмам, \n",
    "которые получили государственную поддержку. Попробуйте ответить на вопрос, насколько такие фильмы \n",
    "интересны зрителю.\n",
    "Вы будете работать с данными, опубликованными на портале открытых данных Министерства культуры. \n",
    "Набор данных содержит информацию о прокатных удостоверениях, сборах и государственной поддержке \n",
    "фильмов, а также информацию с сайта КиноПоиск.\n",
    "    \n",
    "</div>"
   ]
  },
  {
   "cell_type": "markdown",
   "metadata": {},
   "source": [
    "<div class=\"alert alert-success\">\n",
    "    \n",
    "<b> Комментарий от ревьюера 2 ✔️</b>\n",
    "\n",
    "Здорово, что указала цель исследования\n",
    "\n",
    "</div>\n"
   ]
  },
  {
   "cell_type": "markdown",
   "metadata": {
    "id": "3bSlkCsbgFyL"
   },
   "source": [
    "### Шаг 1. Откройте файлы с данными и объедините их в один датафрейм. \n",
    "\n",
    "Объедините данные таким образом, чтобы все объекты из датасета `mkrf_movies` обязательно вошли в получившийся датафрейм. \n",
    "\n",
    "<div id=\"accordion\">\n",
    "    <div class=\"card\">\n",
    "        <div class=\"card-header\" id=\"headingThree\">\n",
    "            <button class=\"btn btn-link collapsed\" data-toggle=\"collapse\" data-target=\"#collapseHint_0\" aria-expanded=\"false\" aria-controls=\"collapseHint_0\">Подсказка</button>\n",
    "        </div>\n",
    "        <div id=\"collapseHint_0\" class=\"collapse\" aria-labelledby=\"headingThree\" data-parent=\"#accordion\">\n",
    "            <div class=\"card-body\">\n",
    "Обратите внимание на тип данных столбца, по которому будете соединять датафреймы. Тип данных этих столбцов должен быть одинаковым в обоих датафреймах.\n",
    "            </div>\n",
    "        </div>\n",
    "    </div>\n",
    "</div>"
   ]
  },
  {
   "cell_type": "code",
   "execution_count": 1,
   "metadata": {
    "id": "dw87FlzMgFyM"
   },
   "outputs": [],
   "source": [
    "#импорт библиотек\n",
    "import pandas as pd\n",
    "import numpy as np\n",
    "import seaborn as sns\n",
    "\n",
    "import matplotlib.pyplot as plt\n",
    "import matplotlib.mlab as mlab\n",
    "import matplotlib\n",
    "plt.style.use('ggplot')\n",
    "from matplotlib.pyplot import figure\n",
    "%matplotlib inline\n",
    "matplotlib.rcParams['figure.figsize'] = (12,8)\n",
    "\n",
    "pd.options.mode.chained_assignment = None"
   ]
  },
  {
   "cell_type": "code",
   "execution_count": 2,
   "metadata": {
    "scrolled": false
   },
   "outputs": [
    {
     "data": {
      "text/html": [
       "<div>\n",
       "<style scoped>\n",
       "    .dataframe tbody tr th:only-of-type {\n",
       "        vertical-align: middle;\n",
       "    }\n",
       "\n",
       "    .dataframe tbody tr th {\n",
       "        vertical-align: top;\n",
       "    }\n",
       "\n",
       "    .dataframe thead th {\n",
       "        text-align: right;\n",
       "    }\n",
       "</style>\n",
       "<table border=\"1\" class=\"dataframe\">\n",
       "  <thead>\n",
       "    <tr style=\"text-align: right;\">\n",
       "      <th></th>\n",
       "      <th>title</th>\n",
       "      <th>puNumber</th>\n",
       "      <th>show_start_date</th>\n",
       "      <th>type</th>\n",
       "      <th>film_studio</th>\n",
       "      <th>production_country</th>\n",
       "      <th>director</th>\n",
       "      <th>producer</th>\n",
       "      <th>age_restriction</th>\n",
       "      <th>refundable_support</th>\n",
       "      <th>nonrefundable_support</th>\n",
       "      <th>budget</th>\n",
       "      <th>financing_source</th>\n",
       "      <th>ratings</th>\n",
       "      <th>genres</th>\n",
       "    </tr>\n",
       "  </thead>\n",
       "  <tbody>\n",
       "    <tr>\n",
       "      <th>0</th>\n",
       "      <td>Открытый простор</td>\n",
       "      <td>221048915</td>\n",
       "      <td>2015-11-27T12:00:00.000Z</td>\n",
       "      <td>Художественный</td>\n",
       "      <td>Тачстоун Пикчерз, Кобальт Пикчерз, Бикон Пикче...</td>\n",
       "      <td>США</td>\n",
       "      <td>Кевин Костнер</td>\n",
       "      <td>Дэвид Валдес, Кевин Костнер, Джейк Эбертс</td>\n",
       "      <td>«18+» - запрещено для детей</td>\n",
       "      <td>NaN</td>\n",
       "      <td>NaN</td>\n",
       "      <td>NaN</td>\n",
       "      <td>NaN</td>\n",
       "      <td>7.2</td>\n",
       "      <td>боевик,драма,мелодрама</td>\n",
       "    </tr>\n",
       "    <tr>\n",
       "      <th>1</th>\n",
       "      <td>Особо важное задание</td>\n",
       "      <td>111013716</td>\n",
       "      <td>2016-09-13T12:00:00.000Z</td>\n",
       "      <td>Художественный</td>\n",
       "      <td>Киностудия \"Мосфильм\"</td>\n",
       "      <td>СССР</td>\n",
       "      <td>Е.Матвеев</td>\n",
       "      <td>NaN</td>\n",
       "      <td>«6+» - для детей старше 6 лет</td>\n",
       "      <td>NaN</td>\n",
       "      <td>NaN</td>\n",
       "      <td>NaN</td>\n",
       "      <td>NaN</td>\n",
       "      <td>6.6</td>\n",
       "      <td>драма,военный</td>\n",
       "    </tr>\n",
       "    <tr>\n",
       "      <th>2</th>\n",
       "      <td>Особо опасен</td>\n",
       "      <td>221038416</td>\n",
       "      <td>2016-10-10T12:00:00.000Z</td>\n",
       "      <td>Художественный</td>\n",
       "      <td>Юниверсал Пикчерз, Кикстарт Продакшнз, Марк Пл...</td>\n",
       "      <td>США</td>\n",
       "      <td>Тимур Бекмамбетов</td>\n",
       "      <td>Джим Лемли, Джейсон Нетер, Марк Е.Платт, Яйн Смит</td>\n",
       "      <td>«18+» - запрещено для детей</td>\n",
       "      <td>NaN</td>\n",
       "      <td>NaN</td>\n",
       "      <td>NaN</td>\n",
       "      <td>NaN</td>\n",
       "      <td>6.8</td>\n",
       "      <td>фантастика,боевик,триллер</td>\n",
       "    </tr>\n",
       "    <tr>\n",
       "      <th>3</th>\n",
       "      <td>Особо опасен</td>\n",
       "      <td>221026916</td>\n",
       "      <td>2016-06-10T12:00:00.000Z</td>\n",
       "      <td>Художественный</td>\n",
       "      <td>Юниверсал Пикчерз, Кикстарт Продакшнз, Марк Пл...</td>\n",
       "      <td>США</td>\n",
       "      <td>Тимур Бекмамбетов</td>\n",
       "      <td>Джим Лемли, Джейсон Нетер, Марк Е.Платт, Яйн Смит</td>\n",
       "      <td>«18+» - запрещено для детей</td>\n",
       "      <td>NaN</td>\n",
       "      <td>NaN</td>\n",
       "      <td>NaN</td>\n",
       "      <td>NaN</td>\n",
       "      <td>6.8</td>\n",
       "      <td>фантастика,боевик,триллер</td>\n",
       "    </tr>\n",
       "    <tr>\n",
       "      <th>4</th>\n",
       "      <td>Особо опасен</td>\n",
       "      <td>221030815</td>\n",
       "      <td>2015-07-29T12:00:00.000Z</td>\n",
       "      <td>Художественный</td>\n",
       "      <td>Юниверсал Пикчерз, Кикстарт Продакшнз, Марк Пл...</td>\n",
       "      <td>США</td>\n",
       "      <td>Тимур Бекмамбетов</td>\n",
       "      <td>Джим Лемли, Джейсон Нетер, Марк Е.Платт, Яйн Смит</td>\n",
       "      <td>«18+» - запрещено для детей</td>\n",
       "      <td>NaN</td>\n",
       "      <td>NaN</td>\n",
       "      <td>NaN</td>\n",
       "      <td>NaN</td>\n",
       "      <td>6.8</td>\n",
       "      <td>фантастика,боевик,триллер</td>\n",
       "    </tr>\n",
       "  </tbody>\n",
       "</table>\n",
       "</div>"
      ],
      "text/plain": [
       "                  title   puNumber           show_start_date            type  \\\n",
       "0      Открытый простор  221048915  2015-11-27T12:00:00.000Z  Художественный   \n",
       "1  Особо важное задание  111013716  2016-09-13T12:00:00.000Z  Художественный   \n",
       "2          Особо опасен  221038416  2016-10-10T12:00:00.000Z  Художественный   \n",
       "3          Особо опасен  221026916  2016-06-10T12:00:00.000Z  Художественный   \n",
       "4          Особо опасен  221030815  2015-07-29T12:00:00.000Z  Художественный   \n",
       "\n",
       "                                         film_studio production_country  \\\n",
       "0  Тачстоун Пикчерз, Кобальт Пикчерз, Бикон Пикче...                США   \n",
       "1                              Киностудия \"Мосфильм\"               СССР   \n",
       "2  Юниверсал Пикчерз, Кикстарт Продакшнз, Марк Пл...                США   \n",
       "3  Юниверсал Пикчерз, Кикстарт Продакшнз, Марк Пл...                США   \n",
       "4  Юниверсал Пикчерз, Кикстарт Продакшнз, Марк Пл...                США   \n",
       "\n",
       "            director                                           producer  \\\n",
       "0      Кевин Костнер          Дэвид Валдес, Кевин Костнер, Джейк Эбертс   \n",
       "1          Е.Матвеев                                                NaN   \n",
       "2  Тимур Бекмамбетов  Джим Лемли, Джейсон Нетер, Марк Е.Платт, Яйн Смит   \n",
       "3  Тимур Бекмамбетов  Джим Лемли, Джейсон Нетер, Марк Е.Платт, Яйн Смит   \n",
       "4  Тимур Бекмамбетов  Джим Лемли, Джейсон Нетер, Марк Е.Платт, Яйн Смит   \n",
       "\n",
       "                 age_restriction  refundable_support  nonrefundable_support  \\\n",
       "0    «18+» - запрещено для детей                 NaN                    NaN   \n",
       "1  «6+» - для детей старше 6 лет                 NaN                    NaN   \n",
       "2    «18+» - запрещено для детей                 NaN                    NaN   \n",
       "3    «18+» - запрещено для детей                 NaN                    NaN   \n",
       "4    «18+» - запрещено для детей                 NaN                    NaN   \n",
       "\n",
       "   budget financing_source ratings                     genres  \n",
       "0     NaN              NaN     7.2     боевик,драма,мелодрама  \n",
       "1     NaN              NaN     6.6              драма,военный  \n",
       "2     NaN              NaN     6.8  фантастика,боевик,триллер  \n",
       "3     NaN              NaN     6.8  фантастика,боевик,триллер  \n",
       "4     NaN              NaN     6.8  фантастика,боевик,триллер  "
      ]
     },
     "metadata": {},
     "output_type": "display_data"
    }
   ],
   "source": [
    "#вывели на экран таблицу с данными\n",
    "df_movies = pd.read_csv('/datasets/mkrf_movies.csv')\n",
    "from IPython.display import display\n",
    "display(df_movies.head()) \n",
    "\n"
   ]
  },
  {
   "cell_type": "code",
   "execution_count": 3,
   "metadata": {
    "scrolled": true
   },
   "outputs": [
    {
     "data": {
      "text/html": [
       "<div>\n",
       "<style scoped>\n",
       "    .dataframe tbody tr th:only-of-type {\n",
       "        vertical-align: middle;\n",
       "    }\n",
       "\n",
       "    .dataframe tbody tr th {\n",
       "        vertical-align: top;\n",
       "    }\n",
       "\n",
       "    .dataframe thead th {\n",
       "        text-align: right;\n",
       "    }\n",
       "</style>\n",
       "<table border=\"1\" class=\"dataframe\">\n",
       "  <thead>\n",
       "    <tr style=\"text-align: right;\">\n",
       "      <th></th>\n",
       "      <th>puNumber</th>\n",
       "      <th>box_office</th>\n",
       "    </tr>\n",
       "  </thead>\n",
       "  <tbody>\n",
       "    <tr>\n",
       "      <th>0</th>\n",
       "      <td>111000113</td>\n",
       "      <td>2.450000e+03</td>\n",
       "    </tr>\n",
       "    <tr>\n",
       "      <th>1</th>\n",
       "      <td>111000115</td>\n",
       "      <td>6.104000e+04</td>\n",
       "    </tr>\n",
       "    <tr>\n",
       "      <th>2</th>\n",
       "      <td>111000116</td>\n",
       "      <td>1.530300e+08</td>\n",
       "    </tr>\n",
       "    <tr>\n",
       "      <th>3</th>\n",
       "      <td>111000117</td>\n",
       "      <td>1.226096e+07</td>\n",
       "    </tr>\n",
       "    <tr>\n",
       "      <th>4</th>\n",
       "      <td>111000118</td>\n",
       "      <td>1.636841e+08</td>\n",
       "    </tr>\n",
       "  </tbody>\n",
       "</table>\n",
       "</div>"
      ],
      "text/plain": [
       "    puNumber    box_office\n",
       "0  111000113  2.450000e+03\n",
       "1  111000115  6.104000e+04\n",
       "2  111000116  1.530300e+08\n",
       "3  111000117  1.226096e+07\n",
       "4  111000118  1.636841e+08"
      ]
     },
     "metadata": {},
     "output_type": "display_data"
    }
   ],
   "source": [
    "#выводим на экран данные из второго df\n",
    "df_shows = pd.read_csv('/datasets/mkrf_shows.csv')\n",
    "from IPython.display import display\n",
    "display(df_shows.head())"
   ]
  },
  {
   "cell_type": "code",
   "execution_count": 4,
   "metadata": {},
   "outputs": [
    {
     "name": "stdout",
     "output_type": "stream",
     "text": [
      "<class 'pandas.core.frame.DataFrame'>\n",
      "RangeIndex: 7486 entries, 0 to 7485\n",
      "Data columns (total 15 columns):\n",
      " #   Column                 Non-Null Count  Dtype  \n",
      "---  ------                 --------------  -----  \n",
      " 0   title                  7486 non-null   object \n",
      " 1   puNumber               7486 non-null   object \n",
      " 2   show_start_date        7486 non-null   object \n",
      " 3   type                   7486 non-null   object \n",
      " 4   film_studio            7468 non-null   object \n",
      " 5   production_country     7484 non-null   object \n",
      " 6   director               7477 non-null   object \n",
      " 7   producer               6918 non-null   object \n",
      " 8   age_restriction        7486 non-null   object \n",
      " 9   refundable_support     332 non-null    float64\n",
      " 10  nonrefundable_support  332 non-null    float64\n",
      " 11  budget                 332 non-null    float64\n",
      " 12  financing_source       332 non-null    object \n",
      " 13  ratings                6519 non-null   object \n",
      " 14  genres                 6510 non-null   object \n",
      "dtypes: float64(3), object(12)\n",
      "memory usage: 877.4+ KB\n",
      "<class 'pandas.core.frame.DataFrame'>\n",
      "RangeIndex: 3158 entries, 0 to 3157\n",
      "Data columns (total 2 columns):\n",
      " #   Column      Non-Null Count  Dtype  \n",
      "---  ------      --------------  -----  \n",
      " 0   puNumber    3158 non-null   int64  \n",
      " 1   box_office  3158 non-null   float64\n",
      "dtypes: float64(1), int64(1)\n",
      "memory usage: 49.5 KB\n"
     ]
    }
   ],
   "source": [
    "df_movies.info()\n",
    "df_shows.info()"
   ]
  },
  {
   "cell_type": "code",
   "execution_count": 5,
   "metadata": {},
   "outputs": [
    {
     "data": {
      "text/html": [
       "<div>\n",
       "<style scoped>\n",
       "    .dataframe tbody tr th:only-of-type {\n",
       "        vertical-align: middle;\n",
       "    }\n",
       "\n",
       "    .dataframe tbody tr th {\n",
       "        vertical-align: top;\n",
       "    }\n",
       "\n",
       "    .dataframe thead th {\n",
       "        text-align: right;\n",
       "    }\n",
       "</style>\n",
       "<table border=\"1\" class=\"dataframe\">\n",
       "  <thead>\n",
       "    <tr style=\"text-align: right;\">\n",
       "      <th></th>\n",
       "      <th>title</th>\n",
       "      <th>puNumber</th>\n",
       "      <th>show_start_date</th>\n",
       "      <th>type</th>\n",
       "      <th>film_studio</th>\n",
       "      <th>production_country</th>\n",
       "      <th>director</th>\n",
       "      <th>producer</th>\n",
       "      <th>age_restriction</th>\n",
       "      <th>refundable_support</th>\n",
       "      <th>nonrefundable_support</th>\n",
       "      <th>budget</th>\n",
       "      <th>financing_source</th>\n",
       "      <th>ratings</th>\n",
       "      <th>genres</th>\n",
       "    </tr>\n",
       "  </thead>\n",
       "  <tbody>\n",
       "    <tr>\n",
       "      <th>804</th>\n",
       "      <td>Паранормальный Якутск</td>\n",
       "      <td>111004112</td>\n",
       "      <td>2012-08-24T12:00:00.000Z</td>\n",
       "      <td>Художественный</td>\n",
       "      <td>ИП Тимофеев К.П.</td>\n",
       "      <td>Россия</td>\n",
       "      <td>К.Тимофеев</td>\n",
       "      <td>NaN</td>\n",
       "      <td>«16+» - для детей старше 16 лет</td>\n",
       "      <td>NaN</td>\n",
       "      <td>NaN</td>\n",
       "      <td>NaN</td>\n",
       "      <td>NaN</td>\n",
       "      <td>NaN</td>\n",
       "      <td>NaN</td>\n",
       "    </tr>\n",
       "    <tr>\n",
       "      <th>1797</th>\n",
       "      <td>Курбан-роман. (История с жертвой)</td>\n",
       "      <td>нет</td>\n",
       "      <td>2014-05-15T12:00:00.000Z</td>\n",
       "      <td>Художественный</td>\n",
       "      <td>ФОНД \"ИННОВАЦИЯ\"</td>\n",
       "      <td>Россия</td>\n",
       "      <td>С.Юзеев</td>\n",
       "      <td>М.Галицкая</td>\n",
       "      <td>«12+» - для детей старше 12 лет</td>\n",
       "      <td>NaN</td>\n",
       "      <td>NaN</td>\n",
       "      <td>NaN</td>\n",
       "      <td>NaN</td>\n",
       "      <td>NaN</td>\n",
       "      <td>NaN</td>\n",
       "    </tr>\n",
       "  </tbody>\n",
       "</table>\n",
       "</div>"
      ],
      "text/plain": [
       "                                  title    puNumber           show_start_date  \\\n",
       "804               Паранормальный Якутск   111004112  2012-08-24T12:00:00.000Z   \n",
       "1797  Курбан-роман. (История с жертвой)         нет  2014-05-15T12:00:00.000Z   \n",
       "\n",
       "                type       film_studio production_country    director  \\\n",
       "804   Художественный  ИП Тимофеев К.П.             Россия  К.Тимофеев   \n",
       "1797  Художественный  ФОНД \"ИННОВАЦИЯ\"             Россия     С.Юзеев   \n",
       "\n",
       "        producer                  age_restriction  refundable_support  \\\n",
       "804          NaN  «16+» - для детей старше 16 лет                 NaN   \n",
       "1797  М.Галицкая  «12+» - для детей старше 12 лет                 NaN   \n",
       "\n",
       "      nonrefundable_support  budget financing_source ratings genres  \n",
       "804                     NaN     NaN              NaN     NaN    NaN  \n",
       "1797                    NaN     NaN              NaN     NaN    NaN  "
      ]
     },
     "execution_count": 5,
     "metadata": {},
     "output_type": "execute_result"
    }
   ],
   "source": [
    "df_movies[~df_movies['puNumber'].str.isdigit()]"
   ]
  },
  {
   "cell_type": "code",
   "execution_count": 6,
   "metadata": {},
   "outputs": [],
   "source": [
    "df_movies.loc[804, 'puNumber'] = df_movies.loc[804, 'puNumber'].strip()\n",
    "df_movies.loc[1797, 'puNumber'] = '0'"
   ]
  },
  {
   "cell_type": "code",
   "execution_count": 7,
   "metadata": {},
   "outputs": [
    {
     "data": {
      "text/plain": [
       "dtype('int64')"
      ]
     },
     "execution_count": 7,
     "metadata": {},
     "output_type": "execute_result"
    }
   ],
   "source": [
    "#Поменяли тип данных, и заменили пропуск на NaN\n",
    "df_movies['puNumber'] = pd.to_numeric(df_movies['puNumber'])\n",
    "#Выводим тип данных \n",
    "df_movies['puNumber'].dtype"
   ]
  },
  {
   "cell_type": "code",
   "execution_count": 8,
   "metadata": {},
   "outputs": [],
   "source": [
    "#обьединили две таблицы в одну по столбцу 'puNumber' с переносом всех строк из df_movies\n",
    "df = df_movies.merge(df_shows, on='puNumber', how='left')\n"
   ]
  },
  {
   "cell_type": "markdown",
   "metadata": {},
   "source": [
    "<div class=\"alert alert-success\">\n",
    "    \n",
    "<b> Комментарий от ревьюера ✔️</b>\n",
    "    \n",
    "С объединением данных все отлично!\n",
    "\n",
    "</div>"
   ]
  },
  {
   "cell_type": "markdown",
   "metadata": {
    "id": "KLDGpPG0gFyM"
   },
   "source": [
    "### Шаг 2. Предобработка данных"
   ]
  },
  {
   "cell_type": "markdown",
   "metadata": {
    "id": "ssWwKXsxgFyO"
   },
   "source": [
    "#### Шаг 2.1. Проверьте типы данных\n",
    "\n",
    "- Проверьте типы данных в датафрейме и преобразуйте их там, где это необходимо."
   ]
  },
  {
   "cell_type": "code",
   "execution_count": 9,
   "metadata": {},
   "outputs": [
    {
     "name": "stdout",
     "output_type": "stream",
     "text": [
      "<class 'pandas.core.frame.DataFrame'>\n",
      "Int64Index: 7486 entries, 0 to 7485\n",
      "Data columns (total 16 columns):\n",
      " #   Column                 Non-Null Count  Dtype  \n",
      "---  ------                 --------------  -----  \n",
      " 0   title                  7486 non-null   object \n",
      " 1   puNumber               7486 non-null   int64  \n",
      " 2   show_start_date        7486 non-null   object \n",
      " 3   type                   7486 non-null   object \n",
      " 4   film_studio            7468 non-null   object \n",
      " 5   production_country     7484 non-null   object \n",
      " 6   director               7477 non-null   object \n",
      " 7   producer               6918 non-null   object \n",
      " 8   age_restriction        7486 non-null   object \n",
      " 9   refundable_support     332 non-null    float64\n",
      " 10  nonrefundable_support  332 non-null    float64\n",
      " 11  budget                 332 non-null    float64\n",
      " 12  financing_source       332 non-null    object \n",
      " 13  ratings                6519 non-null   object \n",
      " 14  genres                 6510 non-null   object \n",
      " 15  box_office             3158 non-null   float64\n",
      "dtypes: float64(4), int64(1), object(11)\n",
      "memory usage: 994.2+ KB\n"
     ]
    },
    {
     "data": {
      "text/plain": [
       "datetime64[ns, UTC]"
      ]
     },
     "execution_count": 9,
     "metadata": {},
     "output_type": "execute_result"
    }
   ],
   "source": [
    "#Вывели на экран информацию о типах данных общей таблицы\n",
    "df.info()\n",
    "#поменяли неправильный тип обьект на тип формата времени.\n",
    "df['show_start_date'] = pd.to_datetime(df['show_start_date'], format='%Y-%m-%dT%H:%M:%S')\n",
    "df['show_start_date'].dtype"
   ]
  },
  {
   "cell_type": "code",
   "execution_count": 10,
   "metadata": {},
   "outputs": [
    {
     "data": {
      "text/plain": [
       "array(['7.2', '6.6', '6.8', '7.7', '8.3', '8.0', '7.8', '8.1', '7.1',\n",
       "       '6.0', '7.4', '5.8', '8.7', '6.3', '6.9', '5.0', '4.3', '7.3',\n",
       "       '7.0', '6.4', nan, '8.2', '7.5', '6.7', '7.9', '5.9', '6.2', '5.6',\n",
       "       '6.5', '2.4', '7.6', '6.1', '8.6', '8.5', '8.8', '5.5', '5.1',\n",
       "       '5.7', '5.4', '99%', '4.4', '4.5', '5.3', '4.1', '8.4', '2.6',\n",
       "       '3.8', '4.6', '4.8', '4.0', '3.0', '1.6', '4.2', '5.2', '4.7',\n",
       "       '4.9', '3.9', '2.7', '3.3', '2.9', '28%', '3.7', '1.4', '3.1',\n",
       "       '97%', '3.5', '3.2', '2.8', '1.5', '2.1', '2.5', '9.2', '3.4',\n",
       "       '1.1', '3.6', '83%', '64%', '91%', '94%', '62%', '79%', '90%',\n",
       "       '19%', '88%', '1.0', '89%', '1.3', '1.9', '1.8', '1.2', '1.7',\n",
       "       '9.0', '98%', '8.9', '9.1'], dtype=object)"
      ]
     },
     "execution_count": 10,
     "metadata": {},
     "output_type": "execute_result"
    }
   ],
   "source": [
    "#Вывели список уникальных значений\n",
    "df['ratings'].unique()"
   ]
  },
  {
   "cell_type": "code",
   "execution_count": 11,
   "metadata": {},
   "outputs": [
    {
     "data": {
      "text/html": [
       "<div>\n",
       "<style scoped>\n",
       "    .dataframe tbody tr th:only-of-type {\n",
       "        vertical-align: middle;\n",
       "    }\n",
       "\n",
       "    .dataframe tbody tr th {\n",
       "        vertical-align: top;\n",
       "    }\n",
       "\n",
       "    .dataframe thead th {\n",
       "        text-align: right;\n",
       "    }\n",
       "</style>\n",
       "<table border=\"1\" class=\"dataframe\">\n",
       "  <thead>\n",
       "    <tr style=\"text-align: right;\">\n",
       "      <th></th>\n",
       "      <th>title</th>\n",
       "      <th>puNumber</th>\n",
       "      <th>show_start_date</th>\n",
       "      <th>type</th>\n",
       "      <th>film_studio</th>\n",
       "      <th>production_country</th>\n",
       "      <th>director</th>\n",
       "      <th>producer</th>\n",
       "      <th>age_restriction</th>\n",
       "      <th>refundable_support</th>\n",
       "      <th>nonrefundable_support</th>\n",
       "      <th>budget</th>\n",
       "      <th>financing_source</th>\n",
       "      <th>ratings</th>\n",
       "      <th>genres</th>\n",
       "      <th>box_office</th>\n",
       "    </tr>\n",
       "  </thead>\n",
       "  <tbody>\n",
       "    <tr>\n",
       "      <th>259</th>\n",
       "      <td>Прошлое</td>\n",
       "      <td>221030715</td>\n",
       "      <td>2015-07-29 12:00:00+00:00</td>\n",
       "      <td>Художественный</td>\n",
       "      <td>20 Сенчюри Фокс де Архентина, Чемо, ЭйчБи Филм...</td>\n",
       "      <td>Аргентина - Бразилия</td>\n",
       "      <td>Эктор Бабенко</td>\n",
       "      <td>Эктор Бабенко, Оскар Крамер, Хуго Сидмэн</td>\n",
       "      <td>«16+» - для детей старше 16 лет</td>\n",
       "      <td>NaN</td>\n",
       "      <td>NaN</td>\n",
       "      <td>NaN</td>\n",
       "      <td>NaN</td>\n",
       "      <td>99%</td>\n",
       "      <td>ужасы,триллер,драма</td>\n",
       "      <td>NaN</td>\n",
       "    </tr>\n",
       "    <tr>\n",
       "      <th>811</th>\n",
       "      <td>От винта!</td>\n",
       "      <td>114000212</td>\n",
       "      <td>2012-08-06 12:00:00+00:00</td>\n",
       "      <td>Анимационный</td>\n",
       "      <td>ЗАО \"Продюсерский центр \"Парадиз\"</td>\n",
       "      <td>Россия</td>\n",
       "      <td>О.Лопато</td>\n",
       "      <td>Г.Нерсисян, А.Манасарян, А.Нерсесян</td>\n",
       "      <td>«12+» - для детей старше 12 лет</td>\n",
       "      <td>NaN</td>\n",
       "      <td>NaN</td>\n",
       "      <td>NaN</td>\n",
       "      <td>NaN</td>\n",
       "      <td>28%</td>\n",
       "      <td>детский,приключения,комедия</td>\n",
       "      <td>1.740000e+03</td>\n",
       "    </tr>\n",
       "    <tr>\n",
       "      <th>1053</th>\n",
       "      <td>Песочный человек</td>\n",
       "      <td>121029212</td>\n",
       "      <td>2012-11-29 12:00:00+00:00</td>\n",
       "      <td>Художественный</td>\n",
       "      <td>Спотлайт Медиа Продакшн</td>\n",
       "      <td>Швейцария</td>\n",
       "      <td>Питер Луизи</td>\n",
       "      <td>Дэвид Луизи, Питер Луизи</td>\n",
       "      <td>«16+» - для детей старше 16 лет</td>\n",
       "      <td>NaN</td>\n",
       "      <td>NaN</td>\n",
       "      <td>NaN</td>\n",
       "      <td>NaN</td>\n",
       "      <td>97%</td>\n",
       "      <td>ужасы,фантастика,фэнтези</td>\n",
       "      <td>NaN</td>\n",
       "    </tr>\n",
       "    <tr>\n",
       "      <th>1341</th>\n",
       "      <td>Сказка о добре и Вре</td>\n",
       "      <td>111008913</td>\n",
       "      <td>2013-11-15 12:00:00+00:00</td>\n",
       "      <td>Художественный</td>\n",
       "      <td>НП \"Студия игрового кино \"Лик\"</td>\n",
       "      <td>Россия</td>\n",
       "      <td>Е.Шиляева</td>\n",
       "      <td>К.Терещенко</td>\n",
       "      <td>«6+» - для детей старше 6 лет</td>\n",
       "      <td>NaN</td>\n",
       "      <td>NaN</td>\n",
       "      <td>NaN</td>\n",
       "      <td>NaN</td>\n",
       "      <td>99%</td>\n",
       "      <td>триллер,драма,детектив</td>\n",
       "      <td>NaN</td>\n",
       "    </tr>\n",
       "    <tr>\n",
       "      <th>1805</th>\n",
       "      <td>Спираль.</td>\n",
       "      <td>111001014</td>\n",
       "      <td>2014-01-30 12:00:00+00:00</td>\n",
       "      <td>Художественный</td>\n",
       "      <td>ООО \"Компания Питон\"</td>\n",
       "      <td>Россия</td>\n",
       "      <td>А.Волгин</td>\n",
       "      <td>Е.Ковалева</td>\n",
       "      <td>«12+» - для детей старше 12 лет</td>\n",
       "      <td>NaN</td>\n",
       "      <td>NaN</td>\n",
       "      <td>NaN</td>\n",
       "      <td>NaN</td>\n",
       "      <td>99%</td>\n",
       "      <td>аниме,мультфильм,ужасы</td>\n",
       "      <td>4.295000e+03</td>\n",
       "    </tr>\n",
       "    <tr>\n",
       "      <th>1874</th>\n",
       "      <td>Короткие истории о любви 2</td>\n",
       "      <td>121002615</td>\n",
       "      <td>2015-02-13 12:00:00+00:00</td>\n",
       "      <td>Художественный</td>\n",
       "      <td>Кавиар, Курт 13, СтритЛайт Филмз, Нэйер Дойче ...</td>\n",
       "      <td>Нидерланды - США - Германия - Канада - Франция...</td>\n",
       "      <td>Мэтью Аувро, Лео Брайдл, Бен Бренд, Ден Кларк,...</td>\n",
       "      <td>Мэри Пэт Бентел, Бен Бренд, Сиара Гиллан, Джор...</td>\n",
       "      <td>«18+» - запрещено для детей</td>\n",
       "      <td>NaN</td>\n",
       "      <td>NaN</td>\n",
       "      <td>NaN</td>\n",
       "      <td>NaN</td>\n",
       "      <td>83%</td>\n",
       "      <td>NaN</td>\n",
       "      <td>1.429859e+06</td>\n",
       "    </tr>\n",
       "    <tr>\n",
       "      <th>1899</th>\n",
       "      <td>Золушка /По сказке Шарля Перро/. Холодное торж...</td>\n",
       "      <td>121003615</td>\n",
       "      <td>2015-02-27 12:00:00+00:00</td>\n",
       "      <td>Художественный</td>\n",
       "      <td>Женр Филмз, Уолт Дисней Пикчерз</td>\n",
       "      <td>США</td>\n",
       "      <td>Кеннет Брана</td>\n",
       "      <td>Дэвид Бэррон, Саймон Кинберг, Эллисон Ширмур</td>\n",
       "      <td>«6+» - для детей старше 6 лет</td>\n",
       "      <td>NaN</td>\n",
       "      <td>NaN</td>\n",
       "      <td>NaN</td>\n",
       "      <td>NaN</td>\n",
       "      <td>64%</td>\n",
       "      <td>мюзикл,фэнтези,мелодрама</td>\n",
       "      <td>5.287326e+08</td>\n",
       "    </tr>\n",
       "    <tr>\n",
       "      <th>2126</th>\n",
       "      <td>Поездка к матери</td>\n",
       "      <td>111002015</td>\n",
       "      <td>2015-03-02 12:00:00+00:00</td>\n",
       "      <td>Художественный</td>\n",
       "      <td>ЗАО \"Киностудия \"М\"-Фильм\"</td>\n",
       "      <td>Россия</td>\n",
       "      <td>М.Косырев-Нестеров</td>\n",
       "      <td>М.Косырев-Нестеров</td>\n",
       "      <td>«16+» - для детей старше 16 лет</td>\n",
       "      <td>NaN</td>\n",
       "      <td>NaN</td>\n",
       "      <td>NaN</td>\n",
       "      <td>NaN</td>\n",
       "      <td>91%</td>\n",
       "      <td>драма,семейный</td>\n",
       "      <td>0.000000e+00</td>\n",
       "    </tr>\n",
       "    <tr>\n",
       "      <th>2146</th>\n",
       "      <td>Главный</td>\n",
       "      <td>111003415</td>\n",
       "      <td>2015-03-27 12:00:00+00:00</td>\n",
       "      <td>Художественный</td>\n",
       "      <td>ООО \"Киностудия \"МАСТЕР\"</td>\n",
       "      <td>Россия</td>\n",
       "      <td>Ю.Кара</td>\n",
       "      <td>Ю.Кара</td>\n",
       "      <td>«6+» - для детей старше 6 лет</td>\n",
       "      <td>0.0</td>\n",
       "      <td>10000000.0</td>\n",
       "      <td>40000000.0</td>\n",
       "      <td>Министерство культуры</td>\n",
       "      <td>94%</td>\n",
       "      <td>фантастика,боевик,комедия</td>\n",
       "      <td>3.347500e+05</td>\n",
       "    </tr>\n",
       "    <tr>\n",
       "      <th>2438</th>\n",
       "      <td>Самый рыжий Лис</td>\n",
       "      <td>111012715</td>\n",
       "      <td>2015-07-30 12:00:00+00:00</td>\n",
       "      <td>Художественный</td>\n",
       "      <td>ООО \"Продюсерский центр \"Ленфильм\"</td>\n",
       "      <td>Россия</td>\n",
       "      <td>А.Стреляная</td>\n",
       "      <td>А.Котелевский, Э.Пичугин</td>\n",
       "      <td>«6+» - для детей старше 6 лет</td>\n",
       "      <td>NaN</td>\n",
       "      <td>NaN</td>\n",
       "      <td>NaN</td>\n",
       "      <td>NaN</td>\n",
       "      <td>62%</td>\n",
       "      <td>фэнтези,семейный</td>\n",
       "      <td>NaN</td>\n",
       "    </tr>\n",
       "    <tr>\n",
       "      <th>2680</th>\n",
       "      <td>Год Белого Слона</td>\n",
       "      <td>111003915</td>\n",
       "      <td>2015-04-08 12:00:00+00:00</td>\n",
       "      <td>Художественный</td>\n",
       "      <td>ООО \"Творческое объединение ЮГ\"</td>\n",
       "      <td>Россия</td>\n",
       "      <td>Ю.Грымов</td>\n",
       "      <td>П.Поляков</td>\n",
       "      <td>«6+» - для детей старше 6 лет</td>\n",
       "      <td>NaN</td>\n",
       "      <td>NaN</td>\n",
       "      <td>NaN</td>\n",
       "      <td>NaN</td>\n",
       "      <td>79%</td>\n",
       "      <td>семейный</td>\n",
       "      <td>NaN</td>\n",
       "    </tr>\n",
       "    <tr>\n",
       "      <th>3139</th>\n",
       "      <td>Я умею вязать</td>\n",
       "      <td>111019615</td>\n",
       "      <td>2015-11-27 12:00:00+00:00</td>\n",
       "      <td>Художественный</td>\n",
       "      <td>ООО \"Белое Зеркало\"</td>\n",
       "      <td>Россия</td>\n",
       "      <td>Н.Степанова при участии С.Иванова</td>\n",
       "      <td>С.Кикнавелидзе, Д.Улюкаев</td>\n",
       "      <td>«16+» - для детей старше 16 лет</td>\n",
       "      <td>0.0</td>\n",
       "      <td>4700000.0</td>\n",
       "      <td>14462464.0</td>\n",
       "      <td>Министерство культуры</td>\n",
       "      <td>90%</td>\n",
       "      <td>драма</td>\n",
       "      <td>8.013700e+05</td>\n",
       "    </tr>\n",
       "    <tr>\n",
       "      <th>3431</th>\n",
       "      <td>Наурыз</td>\n",
       "      <td>131000217</td>\n",
       "      <td>2017-03-09 12:00:00+00:00</td>\n",
       "      <td>Художественный</td>\n",
       "      <td>Эс Джи</td>\n",
       "      <td>Республика Казахстан</td>\n",
       "      <td>Аскар Бисембин</td>\n",
       "      <td>Олег Головашкин, Алмас Султангазин</td>\n",
       "      <td>«12+» - для детей старше 12 лет</td>\n",
       "      <td>NaN</td>\n",
       "      <td>NaN</td>\n",
       "      <td>NaN</td>\n",
       "      <td>NaN</td>\n",
       "      <td>19%</td>\n",
       "      <td>комедия</td>\n",
       "      <td>3.796000e+04</td>\n",
       "    </tr>\n",
       "    <tr>\n",
       "      <th>3439</th>\n",
       "      <td>Семь диких историй</td>\n",
       "      <td>126005916</td>\n",
       "      <td>2016-11-28 12:00:00+00:00</td>\n",
       "      <td>Прочие</td>\n",
       "      <td>Макс Бэйкер, Джон Е.Брайан, Пьер-Луи Гарнон,  ...</td>\n",
       "      <td>США - Пуэрто-Рико - Франция</td>\n",
       "      <td>М.Бэйкер, Д.Е.Брайант, Д.Рондот, Я.Серсар, Д.С...</td>\n",
       "      <td>М.Бэйкер, Д.Е.Брайан, П.-Л.Гарнон, М.Х.Дельгад...</td>\n",
       "      <td>«18+» - запрещено для детей</td>\n",
       "      <td>NaN</td>\n",
       "      <td>NaN</td>\n",
       "      <td>NaN</td>\n",
       "      <td>NaN</td>\n",
       "      <td>88%</td>\n",
       "      <td>NaN</td>\n",
       "      <td>1.025937e+06</td>\n",
       "    </tr>\n",
       "    <tr>\n",
       "      <th>3446</th>\n",
       "      <td>Короткие истории о любви - 4</td>\n",
       "      <td>126006316</td>\n",
       "      <td>2016-12-30 12:00:00+00:00</td>\n",
       "      <td>Прочие</td>\n",
       "      <td>Нетворг Айлэнд Телевижн, Магнетфильм, Шорткатс...</td>\n",
       "      <td>Великобритания - Аргентина - США - Франция - Р...</td>\n",
       "      <td>Д.Адар, П.Антохин, М.Биасин, А.Бурунова, К.Кол...</td>\n",
       "      <td>Д.Адар, Д.Амсон, П.Антохин, А.Армстронг, С.Бил...</td>\n",
       "      <td>«18+» - запрещено для детей</td>\n",
       "      <td>NaN</td>\n",
       "      <td>NaN</td>\n",
       "      <td>NaN</td>\n",
       "      <td>NaN</td>\n",
       "      <td>83%</td>\n",
       "      <td>NaN</td>\n",
       "      <td>2.266408e+06</td>\n",
       "    </tr>\n",
       "    <tr>\n",
       "      <th>3514</th>\n",
       "      <td>Чужой дом</td>\n",
       "      <td>111015516</td>\n",
       "      <td>2016-09-14 12:00:00+00:00</td>\n",
       "      <td>Художественный</td>\n",
       "      <td>ООО \"Лига Продакшн\"</td>\n",
       "      <td>Россия, Грузия, Хорватия, Испания</td>\n",
       "      <td>Р.Глурджидзе</td>\n",
       "      <td>З.Магалашвили, К.Гечмен-Вальдек, Н.Горшкова</td>\n",
       "      <td>«12+» - для детей старше 12 лет</td>\n",
       "      <td>NaN</td>\n",
       "      <td>NaN</td>\n",
       "      <td>NaN</td>\n",
       "      <td>NaN</td>\n",
       "      <td>91%</td>\n",
       "      <td>драма</td>\n",
       "      <td>NaN</td>\n",
       "    </tr>\n",
       "    <tr>\n",
       "      <th>3585</th>\n",
       "      <td>Машины Страшилки. Серия \"Жутчайшая повесть о п...</td>\n",
       "      <td>114003916</td>\n",
       "      <td>2016-12-09 12:00:00+00:00</td>\n",
       "      <td>Анимационный</td>\n",
       "      <td>ООО Студия \"АНИМАККОРД\", АНИМАККОРД ЛТД.</td>\n",
       "      <td>Россия, Республика Кипр</td>\n",
       "      <td>Д.Червяцов</td>\n",
       "      <td>Д.Ловейко, О.Кузовков</td>\n",
       "      <td>«0+» - для любой зрительской аудитории</td>\n",
       "      <td>NaN</td>\n",
       "      <td>NaN</td>\n",
       "      <td>NaN</td>\n",
       "      <td>NaN</td>\n",
       "      <td>97%</td>\n",
       "      <td>мультфильм,ужасы,фэнтези</td>\n",
       "      <td>NaN</td>\n",
       "    </tr>\n",
       "    <tr>\n",
       "      <th>3786</th>\n",
       "      <td>Охотники</td>\n",
       "      <td>111017816</td>\n",
       "      <td>2016-02-06 12:00:00+00:00</td>\n",
       "      <td>Художественный</td>\n",
       "      <td>Селиверстов Александр Александрович</td>\n",
       "      <td>Россия</td>\n",
       "      <td>А.Селиверстов</td>\n",
       "      <td>Е.Тарковская, Т.Лагода, Д.Степанян</td>\n",
       "      <td>«16+» - для детей старше 16 лет</td>\n",
       "      <td>NaN</td>\n",
       "      <td>NaN</td>\n",
       "      <td>NaN</td>\n",
       "      <td>NaN</td>\n",
       "      <td>89%</td>\n",
       "      <td>фантастика,комедия,боевик</td>\n",
       "      <td>8.284000e+04</td>\n",
       "    </tr>\n",
       "    <tr>\n",
       "      <th>3948</th>\n",
       "      <td>Круиз.</td>\n",
       "      <td>211038210</td>\n",
       "      <td>2010-09-03 12:00:00+00:00</td>\n",
       "      <td>Художественный</td>\n",
       "      <td>ООО \"ЮНАЙТЕД МУЛЬТИМЕДИА ПРОДЖЕКТС\"</td>\n",
       "      <td>Россия</td>\n",
       "      <td>И.Ромащенко</td>\n",
       "      <td>Р.Атамалибеков</td>\n",
       "      <td>«16+» - для детей старше 16 лет</td>\n",
       "      <td>NaN</td>\n",
       "      <td>NaN</td>\n",
       "      <td>NaN</td>\n",
       "      <td>NaN</td>\n",
       "      <td>97%</td>\n",
       "      <td>приключения,комедия,фэнтези</td>\n",
       "      <td>NaN</td>\n",
       "    </tr>\n",
       "    <tr>\n",
       "      <th>5332</th>\n",
       "      <td>Добыча.</td>\n",
       "      <td>121009411</td>\n",
       "      <td>2011-06-15 12:00:00+00:00</td>\n",
       "      <td>Художественный</td>\n",
       "      <td>Афтер Дарк Филмз</td>\n",
       "      <td>США</td>\n",
       "      <td>Патрик Сиверсен</td>\n",
       "      <td>Закари Ти Брайан, Кристофер</td>\n",
       "      <td>«18+» - запрещено для детей</td>\n",
       "      <td>NaN</td>\n",
       "      <td>NaN</td>\n",
       "      <td>NaN</td>\n",
       "      <td>NaN</td>\n",
       "      <td>88%</td>\n",
       "      <td>фантастика,боевик,триллер</td>\n",
       "      <td>NaN</td>\n",
       "    </tr>\n",
       "    <tr>\n",
       "      <th>5455</th>\n",
       "      <td>Вечный холод</td>\n",
       "      <td>111006417</td>\n",
       "      <td>2017-08-28 12:00:00+00:00</td>\n",
       "      <td>Художественный</td>\n",
       "      <td>ЗАО \"Производственный комплекс \"ГЛАВКИНО\", ООО...</td>\n",
       "      <td>Россия</td>\n",
       "      <td>А.Мигачев</td>\n",
       "      <td>И.Бачурин</td>\n",
       "      <td>«18+» - запрещено для детей</td>\n",
       "      <td>NaN</td>\n",
       "      <td>NaN</td>\n",
       "      <td>NaN</td>\n",
       "      <td>NaN</td>\n",
       "      <td>83%</td>\n",
       "      <td>фэнтези,боевик,триллер</td>\n",
       "      <td>NaN</td>\n",
       "    </tr>\n",
       "    <tr>\n",
       "      <th>5821</th>\n",
       "      <td>Свинья</td>\n",
       "      <td>121007018</td>\n",
       "      <td>2018-04-11 12:00:00+00:00</td>\n",
       "      <td>Художественный</td>\n",
       "      <td>Дарк Прекёрсор Продакшен, Филмиран, Хедейт Филм</td>\n",
       "      <td>Иран</td>\n",
       "      <td>Мани Хагиги</td>\n",
       "      <td>Мани Хагиги</td>\n",
       "      <td>«18+» - запрещено для детей</td>\n",
       "      <td>NaN</td>\n",
       "      <td>NaN</td>\n",
       "      <td>NaN</td>\n",
       "      <td>NaN</td>\n",
       "      <td>94%</td>\n",
       "      <td>триллер,драма</td>\n",
       "      <td>1.587222e+06</td>\n",
       "    </tr>\n",
       "    <tr>\n",
       "      <th>5910</th>\n",
       "      <td>Мира</td>\n",
       "      <td>112000118</td>\n",
       "      <td>2018-06-04 12:00:00+00:00</td>\n",
       "      <td>Документальный</td>\n",
       "      <td>ООО \"Компания \"Новые люди\"</td>\n",
       "      <td>Россия</td>\n",
       "      <td>Д.Шабаев</td>\n",
       "      <td>Н.Мокрицкая</td>\n",
       "      <td>«18+» - запрещено для детей</td>\n",
       "      <td>NaN</td>\n",
       "      <td>NaN</td>\n",
       "      <td>NaN</td>\n",
       "      <td>NaN</td>\n",
       "      <td>94%</td>\n",
       "      <td>драма</td>\n",
       "      <td>NaN</td>\n",
       "    </tr>\n",
       "    <tr>\n",
       "      <th>6426</th>\n",
       "      <td>Памятные даты России. Партизаны и подпольщики</td>\n",
       "      <td>112013018</td>\n",
       "      <td>2018-11-28 12:00:00+00:00</td>\n",
       "      <td>Документальный</td>\n",
       "      <td>ООО Кинокомпания \"Вектор\"</td>\n",
       "      <td>Россия</td>\n",
       "      <td>Н.Иванова, А.Кузнецова</td>\n",
       "      <td>В.Коханович</td>\n",
       "      <td>«12+» - для детей старше 12 лет</td>\n",
       "      <td>NaN</td>\n",
       "      <td>NaN</td>\n",
       "      <td>NaN</td>\n",
       "      <td>NaN</td>\n",
       "      <td>91%</td>\n",
       "      <td>драма,биография</td>\n",
       "      <td>NaN</td>\n",
       "    </tr>\n",
       "    <tr>\n",
       "      <th>6616</th>\n",
       "      <td>ОТ ВОЙНЫ ДО НАШИХ ДНЕЙ</td>\n",
       "      <td>111026518</td>\n",
       "      <td>2019-01-21 12:00:00+00:00</td>\n",
       "      <td>Художественный</td>\n",
       "      <td>ИП Вайсман Анатолий Александрович</td>\n",
       "      <td>Россия</td>\n",
       "      <td>А.Сазонов, Е.Климович, А.Коломеец, С.Черникова...</td>\n",
       "      <td>Д.Руюежин, Л.Пятницкая, Д.Колеров, Э.Ким, А.Хомич</td>\n",
       "      <td>«12+» - для детей старше 12 лет</td>\n",
       "      <td>NaN</td>\n",
       "      <td>NaN</td>\n",
       "      <td>NaN</td>\n",
       "      <td>NaN</td>\n",
       "      <td>98%</td>\n",
       "      <td>фантастика,боевик</td>\n",
       "      <td>NaN</td>\n",
       "    </tr>\n",
       "    <tr>\n",
       "      <th>6737</th>\n",
       "      <td>Колесо времени</td>\n",
       "      <td>111003219</td>\n",
       "      <td>2019-03-01 12:00:00+00:00</td>\n",
       "      <td>Художественный</td>\n",
       "      <td>ООО \"БестМедиа\"</td>\n",
       "      <td>Россия</td>\n",
       "      <td>Б.Куломзин</td>\n",
       "      <td>Б.Куломзин</td>\n",
       "      <td>«6+» - для детей старше 6 лет</td>\n",
       "      <td>NaN</td>\n",
       "      <td>NaN</td>\n",
       "      <td>NaN</td>\n",
       "      <td>NaN</td>\n",
       "      <td>98%</td>\n",
       "      <td>фэнтези,приключения</td>\n",
       "      <td>3.499200e+04</td>\n",
       "    </tr>\n",
       "    <tr>\n",
       "      <th>6882</th>\n",
       "      <td>Животные рядом со Святыми</td>\n",
       "      <td>112003719</td>\n",
       "      <td>2019-05-03 12:00:00+00:00</td>\n",
       "      <td>Документальный</td>\n",
       "      <td>ООО \"Кинопрограмма \"XXI век\"</td>\n",
       "      <td>Россия</td>\n",
       "      <td>Т.Мирошник</td>\n",
       "      <td>В.Есинов, Е.Калинина</td>\n",
       "      <td>«0+» - для любой зрительской аудитории</td>\n",
       "      <td>NaN</td>\n",
       "      <td>NaN</td>\n",
       "      <td>NaN</td>\n",
       "      <td>NaN</td>\n",
       "      <td>99%</td>\n",
       "      <td>криминал,драма</td>\n",
       "      <td>NaN</td>\n",
       "    </tr>\n",
       "    <tr>\n",
       "      <th>7159</th>\n",
       "      <td>Анна Каренина. Интимный дневник</td>\n",
       "      <td>111013919</td>\n",
       "      <td>2019-10-23 12:00:00+00:00</td>\n",
       "      <td>Художественный</td>\n",
       "      <td>ООО \"РТВ\"</td>\n",
       "      <td>Россия</td>\n",
       "      <td>Ю.Грымов</td>\n",
       "      <td>Ю.Грымов</td>\n",
       "      <td>«16+» - для детей старше 16 лет</td>\n",
       "      <td>NaN</td>\n",
       "      <td>NaN</td>\n",
       "      <td>NaN</td>\n",
       "      <td>NaN</td>\n",
       "      <td>79%</td>\n",
       "      <td>драма</td>\n",
       "      <td>1.828825e+05</td>\n",
       "    </tr>\n",
       "    <tr>\n",
       "      <th>7277</th>\n",
       "      <td>Добыча</td>\n",
       "      <td>121028319</td>\n",
       "      <td>2019-10-03 12:00:00+00:00</td>\n",
       "      <td>Художественный</td>\n",
       "      <td>Блумхаус Продакшнз, Хайд Парк Интертейнмент, Т...</td>\n",
       "      <td>США</td>\n",
       "      <td>Франк Халфун</td>\n",
       "      <td>Ашок Амритрадж, Джейсон Блум, Трэвис Клафф</td>\n",
       "      <td>«16+» - для детей старше 16 лет</td>\n",
       "      <td>NaN</td>\n",
       "      <td>NaN</td>\n",
       "      <td>NaN</td>\n",
       "      <td>NaN</td>\n",
       "      <td>88%</td>\n",
       "      <td>фантастика,боевик,триллер</td>\n",
       "      <td>4.416590e+06</td>\n",
       "    </tr>\n",
       "  </tbody>\n",
       "</table>\n",
       "</div>"
      ],
      "text/plain": [
       "                                                  title   puNumber  \\\n",
       "259                                             Прошлое  221030715   \n",
       "811                                           От винта!  114000212   \n",
       "1053                                   Песочный человек  121029212   \n",
       "1341                               Сказка о добре и Вре  111008913   \n",
       "1805                                           Спираль.  111001014   \n",
       "1874                         Короткие истории о любви 2  121002615   \n",
       "1899  Золушка /По сказке Шарля Перро/. Холодное торж...  121003615   \n",
       "2126                                   Поездка к матери  111002015   \n",
       "2146                                            Главный  111003415   \n",
       "2438                                    Самый рыжий Лис  111012715   \n",
       "2680                                   Год Белого Слона  111003915   \n",
       "3139                                      Я умею вязать  111019615   \n",
       "3431                                             Наурыз  131000217   \n",
       "3439                                 Семь диких историй  126005916   \n",
       "3446                       Короткие истории о любви - 4  126006316   \n",
       "3514                                          Чужой дом  111015516   \n",
       "3585  Машины Страшилки. Серия \"Жутчайшая повесть о п...  114003916   \n",
       "3786                                           Охотники  111017816   \n",
       "3948                                             Круиз.  211038210   \n",
       "5332                                            Добыча.  121009411   \n",
       "5455                                       Вечный холод  111006417   \n",
       "5821                                             Свинья  121007018   \n",
       "5910                                               Мира  112000118   \n",
       "6426      Памятные даты России. Партизаны и подпольщики  112013018   \n",
       "6616                             ОТ ВОЙНЫ ДО НАШИХ ДНЕЙ  111026518   \n",
       "6737                                     Колесо времени  111003219   \n",
       "6882                          Животные рядом со Святыми  112003719   \n",
       "7159                    Анна Каренина. Интимный дневник  111013919   \n",
       "7277                                             Добыча  121028319   \n",
       "\n",
       "               show_start_date             type  \\\n",
       "259  2015-07-29 12:00:00+00:00   Художественный   \n",
       "811  2012-08-06 12:00:00+00:00     Анимационный   \n",
       "1053 2012-11-29 12:00:00+00:00   Художественный   \n",
       "1341 2013-11-15 12:00:00+00:00   Художественный   \n",
       "1805 2014-01-30 12:00:00+00:00   Художественный   \n",
       "1874 2015-02-13 12:00:00+00:00   Художественный   \n",
       "1899 2015-02-27 12:00:00+00:00   Художественный   \n",
       "2126 2015-03-02 12:00:00+00:00   Художественный   \n",
       "2146 2015-03-27 12:00:00+00:00   Художественный   \n",
       "2438 2015-07-30 12:00:00+00:00   Художественный   \n",
       "2680 2015-04-08 12:00:00+00:00   Художественный   \n",
       "3139 2015-11-27 12:00:00+00:00   Художественный   \n",
       "3431 2017-03-09 12:00:00+00:00   Художественный   \n",
       "3439 2016-11-28 12:00:00+00:00           Прочие   \n",
       "3446 2016-12-30 12:00:00+00:00           Прочие   \n",
       "3514 2016-09-14 12:00:00+00:00   Художественный   \n",
       "3585 2016-12-09 12:00:00+00:00     Анимационный   \n",
       "3786 2016-02-06 12:00:00+00:00   Художественный   \n",
       "3948 2010-09-03 12:00:00+00:00   Художественный   \n",
       "5332 2011-06-15 12:00:00+00:00   Художественный   \n",
       "5455 2017-08-28 12:00:00+00:00   Художественный   \n",
       "5821 2018-04-11 12:00:00+00:00   Художественный   \n",
       "5910 2018-06-04 12:00:00+00:00   Документальный   \n",
       "6426 2018-11-28 12:00:00+00:00   Документальный   \n",
       "6616 2019-01-21 12:00:00+00:00   Художественный   \n",
       "6737 2019-03-01 12:00:00+00:00   Художественный   \n",
       "6882 2019-05-03 12:00:00+00:00   Документальный   \n",
       "7159 2019-10-23 12:00:00+00:00   Художественный   \n",
       "7277 2019-10-03 12:00:00+00:00   Художественный   \n",
       "\n",
       "                                            film_studio  \\\n",
       "259   20 Сенчюри Фокс де Архентина, Чемо, ЭйчБи Филм...   \n",
       "811                   ЗАО \"Продюсерский центр \"Парадиз\"   \n",
       "1053                            Спотлайт Медиа Продакшн   \n",
       "1341                     НП \"Студия игрового кино \"Лик\"   \n",
       "1805                               ООО \"Компания Питон\"   \n",
       "1874  Кавиар, Курт 13, СтритЛайт Филмз, Нэйер Дойче ...   \n",
       "1899                    Женр Филмз, Уолт Дисней Пикчерз   \n",
       "2126                         ЗАО \"Киностудия \"М\"-Фильм\"   \n",
       "2146                           ООО \"Киностудия \"МАСТЕР\"   \n",
       "2438                 ООО \"Продюсерский центр \"Ленфильм\"   \n",
       "2680                    ООО \"Творческое объединение ЮГ\"   \n",
       "3139                                ООО \"Белое Зеркало\"   \n",
       "3431                                             Эс Джи   \n",
       "3439  Макс Бэйкер, Джон Е.Брайан, Пьер-Луи Гарнон,  ...   \n",
       "3446  Нетворг Айлэнд Телевижн, Магнетфильм, Шорткатс...   \n",
       "3514                                ООО \"Лига Продакшн\"   \n",
       "3585           ООО Студия \"АНИМАККОРД\", АНИМАККОРД ЛТД.   \n",
       "3786                Селиверстов Александр Александрович   \n",
       "3948                ООО \"ЮНАЙТЕД МУЛЬТИМЕДИА ПРОДЖЕКТС\"   \n",
       "5332                                   Афтер Дарк Филмз   \n",
       "5455  ЗАО \"Производственный комплекс \"ГЛАВКИНО\", ООО...   \n",
       "5821    Дарк Прекёрсор Продакшен, Филмиран, Хедейт Филм   \n",
       "5910                         ООО \"Компания \"Новые люди\"   \n",
       "6426                          ООО Кинокомпания \"Вектор\"   \n",
       "6616                  ИП Вайсман Анатолий Александрович   \n",
       "6737                                    ООО \"БестМедиа\"   \n",
       "6882                       ООО \"Кинопрограмма \"XXI век\"   \n",
       "7159                                          ООО \"РТВ\"   \n",
       "7277  Блумхаус Продакшнз, Хайд Парк Интертейнмент, Т...   \n",
       "\n",
       "                                     production_country  \\\n",
       "259                                Аргентина - Бразилия   \n",
       "811                                              Россия   \n",
       "1053                                          Швейцария   \n",
       "1341                                             Россия   \n",
       "1805                                             Россия   \n",
       "1874  Нидерланды - США - Германия - Канада - Франция...   \n",
       "1899                                                США   \n",
       "2126                                             Россия   \n",
       "2146                                             Россия   \n",
       "2438                                             Россия   \n",
       "2680                                             Россия   \n",
       "3139                                             Россия   \n",
       "3431                               Республика Казахстан   \n",
       "3439                       США - Пуэрто-Рико - Франция    \n",
       "3446  Великобритания - Аргентина - США - Франция - Р...   \n",
       "3514                  Россия, Грузия, Хорватия, Испания   \n",
       "3585                            Россия, Республика Кипр   \n",
       "3786                                             Россия   \n",
       "3948                                             Россия   \n",
       "5332                                                США   \n",
       "5455                                             Россия   \n",
       "5821                                               Иран   \n",
       "5910                                             Россия   \n",
       "6426                                             Россия   \n",
       "6616                                             Россия   \n",
       "6737                                             Россия   \n",
       "6882                                             Россия   \n",
       "7159                                             Россия   \n",
       "7277                                                США   \n",
       "\n",
       "                                               director  \\\n",
       "259                                       Эктор Бабенко   \n",
       "811                                            О.Лопато   \n",
       "1053                                        Питер Луизи   \n",
       "1341                                          Е.Шиляева   \n",
       "1805                                           А.Волгин   \n",
       "1874  Мэтью Аувро, Лео Брайдл, Бен Бренд, Ден Кларк,...   \n",
       "1899                                       Кеннет Брана   \n",
       "2126                                 М.Косырев-Нестеров   \n",
       "2146                                             Ю.Кара   \n",
       "2438                                        А.Стреляная   \n",
       "2680                                           Ю.Грымов   \n",
       "3139                  Н.Степанова при участии С.Иванова   \n",
       "3431                                     Аскар Бисембин   \n",
       "3439  М.Бэйкер, Д.Е.Брайант, Д.Рондот, Я.Серсар, Д.С...   \n",
       "3446  Д.Адар, П.Антохин, М.Биасин, А.Бурунова, К.Кол...   \n",
       "3514                                       Р.Глурджидзе   \n",
       "3585                                         Д.Червяцов   \n",
       "3786                                      А.Селиверстов   \n",
       "3948                                        И.Ромащенко   \n",
       "5332                                    Патрик Сиверсен   \n",
       "5455                                          А.Мигачев   \n",
       "5821                                        Мани Хагиги   \n",
       "5910                                           Д.Шабаев   \n",
       "6426                             Н.Иванова, А.Кузнецова   \n",
       "6616  А.Сазонов, Е.Климович, А.Коломеец, С.Черникова...   \n",
       "6737                                         Б.Куломзин   \n",
       "6882                                         Т.Мирошник   \n",
       "7159                                           Ю.Грымов   \n",
       "7277                                       Франк Халфун   \n",
       "\n",
       "                                               producer  \\\n",
       "259            Эктор Бабенко, Оскар Крамер, Хуго Сидмэн   \n",
       "811                 Г.Нерсисян, А.Манасарян, А.Нерсесян   \n",
       "1053                           Дэвид Луизи, Питер Луизи   \n",
       "1341                                        К.Терещенко   \n",
       "1805                                         Е.Ковалева   \n",
       "1874  Мэри Пэт Бентел, Бен Бренд, Сиара Гиллан, Джор...   \n",
       "1899       Дэвид Бэррон, Саймон Кинберг, Эллисон Ширмур   \n",
       "2126                                 М.Косырев-Нестеров   \n",
       "2146                                             Ю.Кара   \n",
       "2438                           А.Котелевский, Э.Пичугин   \n",
       "2680                                          П.Поляков   \n",
       "3139                          С.Кикнавелидзе, Д.Улюкаев   \n",
       "3431                 Олег Головашкин, Алмас Султангазин   \n",
       "3439  М.Бэйкер, Д.Е.Брайан, П.-Л.Гарнон, М.Х.Дельгад...   \n",
       "3446  Д.Адар, Д.Амсон, П.Антохин, А.Армстронг, С.Бил...   \n",
       "3514        З.Магалашвили, К.Гечмен-Вальдек, Н.Горшкова   \n",
       "3585                              Д.Ловейко, О.Кузовков   \n",
       "3786                 Е.Тарковская, Т.Лагода, Д.Степанян   \n",
       "3948                                     Р.Атамалибеков   \n",
       "5332                        Закари Ти Брайан, Кристофер   \n",
       "5455                                          И.Бачурин   \n",
       "5821                                        Мани Хагиги   \n",
       "5910                                        Н.Мокрицкая   \n",
       "6426                                        В.Коханович   \n",
       "6616  Д.Руюежин, Л.Пятницкая, Д.Колеров, Э.Ким, А.Хомич   \n",
       "6737                                         Б.Куломзин   \n",
       "6882                               В.Есинов, Е.Калинина   \n",
       "7159                                           Ю.Грымов   \n",
       "7277         Ашок Амритрадж, Джейсон Блум, Трэвис Клафф   \n",
       "\n",
       "                             age_restriction  refundable_support  \\\n",
       "259          «16+» - для детей старше 16 лет                 NaN   \n",
       "811          «12+» - для детей старше 12 лет                 NaN   \n",
       "1053         «16+» - для детей старше 16 лет                 NaN   \n",
       "1341           «6+» - для детей старше 6 лет                 NaN   \n",
       "1805         «12+» - для детей старше 12 лет                 NaN   \n",
       "1874             «18+» - запрещено для детей                 NaN   \n",
       "1899           «6+» - для детей старше 6 лет                 NaN   \n",
       "2126         «16+» - для детей старше 16 лет                 NaN   \n",
       "2146           «6+» - для детей старше 6 лет                 0.0   \n",
       "2438           «6+» - для детей старше 6 лет                 NaN   \n",
       "2680           «6+» - для детей старше 6 лет                 NaN   \n",
       "3139         «16+» - для детей старше 16 лет                 0.0   \n",
       "3431         «12+» - для детей старше 12 лет                 NaN   \n",
       "3439             «18+» - запрещено для детей                 NaN   \n",
       "3446             «18+» - запрещено для детей                 NaN   \n",
       "3514         «12+» - для детей старше 12 лет                 NaN   \n",
       "3585  «0+» - для любой зрительской аудитории                 NaN   \n",
       "3786         «16+» - для детей старше 16 лет                 NaN   \n",
       "3948         «16+» - для детей старше 16 лет                 NaN   \n",
       "5332             «18+» - запрещено для детей                 NaN   \n",
       "5455             «18+» - запрещено для детей                 NaN   \n",
       "5821             «18+» - запрещено для детей                 NaN   \n",
       "5910             «18+» - запрещено для детей                 NaN   \n",
       "6426         «12+» - для детей старше 12 лет                 NaN   \n",
       "6616         «12+» - для детей старше 12 лет                 NaN   \n",
       "6737           «6+» - для детей старше 6 лет                 NaN   \n",
       "6882  «0+» - для любой зрительской аудитории                 NaN   \n",
       "7159         «16+» - для детей старше 16 лет                 NaN   \n",
       "7277         «16+» - для детей старше 16 лет                 NaN   \n",
       "\n",
       "      nonrefundable_support      budget       financing_source ratings  \\\n",
       "259                     NaN         NaN                    NaN     99%   \n",
       "811                     NaN         NaN                    NaN     28%   \n",
       "1053                    NaN         NaN                    NaN     97%   \n",
       "1341                    NaN         NaN                    NaN     99%   \n",
       "1805                    NaN         NaN                    NaN     99%   \n",
       "1874                    NaN         NaN                    NaN     83%   \n",
       "1899                    NaN         NaN                    NaN     64%   \n",
       "2126                    NaN         NaN                    NaN     91%   \n",
       "2146             10000000.0  40000000.0  Министерство культуры     94%   \n",
       "2438                    NaN         NaN                    NaN     62%   \n",
       "2680                    NaN         NaN                    NaN     79%   \n",
       "3139              4700000.0  14462464.0  Министерство культуры     90%   \n",
       "3431                    NaN         NaN                    NaN     19%   \n",
       "3439                    NaN         NaN                    NaN     88%   \n",
       "3446                    NaN         NaN                    NaN     83%   \n",
       "3514                    NaN         NaN                    NaN     91%   \n",
       "3585                    NaN         NaN                    NaN     97%   \n",
       "3786                    NaN         NaN                    NaN     89%   \n",
       "3948                    NaN         NaN                    NaN     97%   \n",
       "5332                    NaN         NaN                    NaN     88%   \n",
       "5455                    NaN         NaN                    NaN     83%   \n",
       "5821                    NaN         NaN                    NaN     94%   \n",
       "5910                    NaN         NaN                    NaN     94%   \n",
       "6426                    NaN         NaN                    NaN     91%   \n",
       "6616                    NaN         NaN                    NaN     98%   \n",
       "6737                    NaN         NaN                    NaN     98%   \n",
       "6882                    NaN         NaN                    NaN     99%   \n",
       "7159                    NaN         NaN                    NaN     79%   \n",
       "7277                    NaN         NaN                    NaN     88%   \n",
       "\n",
       "                           genres    box_office  \n",
       "259           ужасы,триллер,драма           NaN  \n",
       "811   детский,приключения,комедия  1.740000e+03  \n",
       "1053     ужасы,фантастика,фэнтези           NaN  \n",
       "1341       триллер,драма,детектив           NaN  \n",
       "1805       аниме,мультфильм,ужасы  4.295000e+03  \n",
       "1874                          NaN  1.429859e+06  \n",
       "1899     мюзикл,фэнтези,мелодрама  5.287326e+08  \n",
       "2126               драма,семейный  0.000000e+00  \n",
       "2146    фантастика,боевик,комедия  3.347500e+05  \n",
       "2438             фэнтези,семейный           NaN  \n",
       "2680                     семейный           NaN  \n",
       "3139                        драма  8.013700e+05  \n",
       "3431                      комедия  3.796000e+04  \n",
       "3439                          NaN  1.025937e+06  \n",
       "3446                          NaN  2.266408e+06  \n",
       "3514                        драма           NaN  \n",
       "3585     мультфильм,ужасы,фэнтези           NaN  \n",
       "3786    фантастика,комедия,боевик  8.284000e+04  \n",
       "3948  приключения,комедия,фэнтези           NaN  \n",
       "5332    фантастика,боевик,триллер           NaN  \n",
       "5455       фэнтези,боевик,триллер           NaN  \n",
       "5821                триллер,драма  1.587222e+06  \n",
       "5910                        драма           NaN  \n",
       "6426              драма,биография           NaN  \n",
       "6616            фантастика,боевик           NaN  \n",
       "6737          фэнтези,приключения  3.499200e+04  \n",
       "6882               криминал,драма           NaN  \n",
       "7159                        драма  1.828825e+05  \n",
       "7277    фантастика,боевик,триллер  4.416590e+06  "
      ]
     },
     "execution_count": 11,
     "metadata": {},
     "output_type": "execute_result"
    }
   ],
   "source": [
    "#Присвоили переменную с значением таблицы где рейтинг указан в процентах\n",
    "prosent_raitings = df[df['ratings'].str.contains('[^0-9.]').fillna(False)]\n",
    "prosent_raitings"
   ]
  },
  {
   "cell_type": "code",
   "execution_count": 12,
   "metadata": {},
   "outputs": [
    {
     "data": {
      "text/plain": [
       "dtype('float64')"
      ]
     },
     "execution_count": 12,
     "metadata": {},
     "output_type": "execute_result"
    }
   ],
   "source": [
    "#Привели проценты в десятичные части\n",
    "df.loc[prosent_raitings.index, 'ratings'] = prosent_raitings['ratings'].str[0] + '.' + prosent_raitings['ratings'].str[1]\n",
    "#Поменяли тип данных\n",
    "df['ratings'] = pd.to_numeric(df['ratings']) \n",
    "df['ratings'].dtype"
   ]
  },
  {
   "cell_type": "markdown",
   "metadata": {},
   "source": [
    "<div class=\"alert alert-success\">\n",
    "    \n",
    "<b> Комментарий от ревьюера ✔️</b>\n",
    "    \n",
    "С типами данных все отлично!\n",
    "\n",
    "</div>"
   ]
  },
  {
   "cell_type": "markdown",
   "metadata": {
    "id": "i0MOLbF-gFyP"
   },
   "source": [
    "#### Шаг 2.2. Изучите пропуски в датафрейме\n",
    "\n",
    "- Объясните, почему заполнили пропуски определённым образом или почему не стали этого делать."
   ]
  },
  {
   "cell_type": "code",
   "execution_count": 13,
   "metadata": {},
   "outputs": [
    {
     "data": {
      "text/plain": [
       "title                       0\n",
       "puNumber                    0\n",
       "show_start_date             0\n",
       "type                        0\n",
       "film_studio                18\n",
       "production_country          2\n",
       "director                    9\n",
       "producer                  568\n",
       "age_restriction             0\n",
       "refundable_support       7154\n",
       "nonrefundable_support    7154\n",
       "budget                   7154\n",
       "financing_source         7154\n",
       "ratings                   967\n",
       "genres                    976\n",
       "box_office               4328\n",
       "dtype: int64"
      ]
     },
     "execution_count": 13,
     "metadata": {},
     "output_type": "execute_result"
    }
   ],
   "source": [
    "df.isna().sum()"
   ]
  },
  {
   "cell_type": "code",
   "execution_count": 14,
   "metadata": {},
   "outputs": [],
   "source": [
    "def pass_charts(df):\n",
    "    try:\n",
    "        (\n",
    "            (df.isna().mean()*100)\n",
    "            .to_frame()\n",
    "            .rename(columns = {0:'space'})\n",
    "            .query('space > 0')\n",
    "            .sort_values(by = 'space', ascending = True)\n",
    "            .plot(kind= 'barh', figsize=(19,6), rot = -5, legend = False, fontsize = 16)\n",
    "            .set_title('Пример' + \"n\", fontsize = 22, color = 'SteelBlue')    \n",
    "        );    \n",
    "    except:\n",
    "        print('пропусков не осталось :) ')"
   ]
  },
  {
   "cell_type": "code",
   "execution_count": 15,
   "metadata": {},
   "outputs": [
    {
     "data": {
      "image/png": "[encoded data removed]",
      "text/plain": [
       "<Figure size 1368x432 with 1 Axes>"
      ]
     },
     "metadata": {
      "needs_background": "light"
     },
     "output_type": "display_data"
    }
   ],
   "source": [
    "pass_charts(df)"
   ]
  },
  {
   "cell_type": "markdown",
   "metadata": {},
   "source": [
    "<div class=\"alert alert-success\">\n",
    "    \n",
    "<b> Комментарий от ревьюера ✔️</b>\n",
    "    \n",
    "Проще всего читать горизонтальный текст, поэтому лучше убрать наклон у подписей по оси Y\n",
    "</div>"
   ]
  },
  {
   "cell_type": "code",
   "execution_count": 16,
   "metadata": {
    "scrolled": true
   },
   "outputs": [
    {
     "data": {
      "text/html": [
       "<div>\n",
       "<style scoped>\n",
       "    .dataframe tbody tr th:only-of-type {\n",
       "        vertical-align: middle;\n",
       "    }\n",
       "\n",
       "    .dataframe tbody tr th {\n",
       "        vertical-align: top;\n",
       "    }\n",
       "\n",
       "    .dataframe thead th {\n",
       "        text-align: right;\n",
       "    }\n",
       "</style>\n",
       "<table border=\"1\" class=\"dataframe\">\n",
       "  <thead>\n",
       "    <tr style=\"text-align: right;\">\n",
       "      <th>year</th>\n",
       "      <th>2010</th>\n",
       "      <th>2011</th>\n",
       "      <th>2012</th>\n",
       "      <th>2013</th>\n",
       "      <th>2014</th>\n",
       "      <th>2015</th>\n",
       "      <th>2016</th>\n",
       "      <th>2017</th>\n",
       "      <th>2018</th>\n",
       "      <th>2019</th>\n",
       "    </tr>\n",
       "  </thead>\n",
       "  <tbody>\n",
       "    <tr>\n",
       "      <th>title</th>\n",
       "      <td>0</td>\n",
       "      <td>0</td>\n",
       "      <td>0</td>\n",
       "      <td>0</td>\n",
       "      <td>0</td>\n",
       "      <td>0</td>\n",
       "      <td>0</td>\n",
       "      <td>0</td>\n",
       "      <td>0</td>\n",
       "      <td>0</td>\n",
       "    </tr>\n",
       "    <tr>\n",
       "      <th>puNumber</th>\n",
       "      <td>0</td>\n",
       "      <td>0</td>\n",
       "      <td>0</td>\n",
       "      <td>0</td>\n",
       "      <td>0</td>\n",
       "      <td>0</td>\n",
       "      <td>0</td>\n",
       "      <td>0</td>\n",
       "      <td>0</td>\n",
       "      <td>0</td>\n",
       "    </tr>\n",
       "    <tr>\n",
       "      <th>show_start_date</th>\n",
       "      <td>0</td>\n",
       "      <td>0</td>\n",
       "      <td>0</td>\n",
       "      <td>0</td>\n",
       "      <td>0</td>\n",
       "      <td>0</td>\n",
       "      <td>0</td>\n",
       "      <td>0</td>\n",
       "      <td>0</td>\n",
       "      <td>0</td>\n",
       "    </tr>\n",
       "    <tr>\n",
       "      <th>type</th>\n",
       "      <td>0</td>\n",
       "      <td>0</td>\n",
       "      <td>0</td>\n",
       "      <td>0</td>\n",
       "      <td>0</td>\n",
       "      <td>0</td>\n",
       "      <td>0</td>\n",
       "      <td>0</td>\n",
       "      <td>0</td>\n",
       "      <td>0</td>\n",
       "    </tr>\n",
       "    <tr>\n",
       "      <th>film_studio</th>\n",
       "      <td>1</td>\n",
       "      <td>0</td>\n",
       "      <td>0</td>\n",
       "      <td>0</td>\n",
       "      <td>1</td>\n",
       "      <td>0</td>\n",
       "      <td>0</td>\n",
       "      <td>0</td>\n",
       "      <td>12</td>\n",
       "      <td>4</td>\n",
       "    </tr>\n",
       "    <tr>\n",
       "      <th>production_country</th>\n",
       "      <td>1</td>\n",
       "      <td>0</td>\n",
       "      <td>0</td>\n",
       "      <td>0</td>\n",
       "      <td>0</td>\n",
       "      <td>0</td>\n",
       "      <td>1</td>\n",
       "      <td>0</td>\n",
       "      <td>0</td>\n",
       "      <td>0</td>\n",
       "    </tr>\n",
       "    <tr>\n",
       "      <th>director</th>\n",
       "      <td>5</td>\n",
       "      <td>2</td>\n",
       "      <td>1</td>\n",
       "      <td>1</td>\n",
       "      <td>0</td>\n",
       "      <td>0</td>\n",
       "      <td>0</td>\n",
       "      <td>0</td>\n",
       "      <td>0</td>\n",
       "      <td>0</td>\n",
       "    </tr>\n",
       "    <tr>\n",
       "      <th>producer</th>\n",
       "      <td>40</td>\n",
       "      <td>15</td>\n",
       "      <td>26</td>\n",
       "      <td>89</td>\n",
       "      <td>189</td>\n",
       "      <td>77</td>\n",
       "      <td>54</td>\n",
       "      <td>34</td>\n",
       "      <td>14</td>\n",
       "      <td>30</td>\n",
       "    </tr>\n",
       "    <tr>\n",
       "      <th>age_restriction</th>\n",
       "      <td>0</td>\n",
       "      <td>0</td>\n",
       "      <td>0</td>\n",
       "      <td>0</td>\n",
       "      <td>0</td>\n",
       "      <td>0</td>\n",
       "      <td>0</td>\n",
       "      <td>0</td>\n",
       "      <td>0</td>\n",
       "      <td>0</td>\n",
       "    </tr>\n",
       "    <tr>\n",
       "      <th>refundable_support</th>\n",
       "      <td>985</td>\n",
       "      <td>622</td>\n",
       "      <td>593</td>\n",
       "      <td>628</td>\n",
       "      <td>791</td>\n",
       "      <td>619</td>\n",
       "      <td>757</td>\n",
       "      <td>464</td>\n",
       "      <td>835</td>\n",
       "      <td>860</td>\n",
       "    </tr>\n",
       "    <tr>\n",
       "      <th>nonrefundable_support</th>\n",
       "      <td>985</td>\n",
       "      <td>622</td>\n",
       "      <td>593</td>\n",
       "      <td>628</td>\n",
       "      <td>791</td>\n",
       "      <td>619</td>\n",
       "      <td>757</td>\n",
       "      <td>464</td>\n",
       "      <td>835</td>\n",
       "      <td>860</td>\n",
       "    </tr>\n",
       "    <tr>\n",
       "      <th>budget</th>\n",
       "      <td>985</td>\n",
       "      <td>622</td>\n",
       "      <td>593</td>\n",
       "      <td>628</td>\n",
       "      <td>791</td>\n",
       "      <td>619</td>\n",
       "      <td>757</td>\n",
       "      <td>464</td>\n",
       "      <td>835</td>\n",
       "      <td>860</td>\n",
       "    </tr>\n",
       "    <tr>\n",
       "      <th>financing_source</th>\n",
       "      <td>985</td>\n",
       "      <td>622</td>\n",
       "      <td>593</td>\n",
       "      <td>628</td>\n",
       "      <td>791</td>\n",
       "      <td>619</td>\n",
       "      <td>757</td>\n",
       "      <td>464</td>\n",
       "      <td>835</td>\n",
       "      <td>860</td>\n",
       "    </tr>\n",
       "    <tr>\n",
       "      <th>ratings</th>\n",
       "      <td>73</td>\n",
       "      <td>46</td>\n",
       "      <td>46</td>\n",
       "      <td>47</td>\n",
       "      <td>67</td>\n",
       "      <td>82</td>\n",
       "      <td>102</td>\n",
       "      <td>69</td>\n",
       "      <td>232</td>\n",
       "      <td>203</td>\n",
       "    </tr>\n",
       "    <tr>\n",
       "      <th>genres</th>\n",
       "      <td>73</td>\n",
       "      <td>46</td>\n",
       "      <td>46</td>\n",
       "      <td>47</td>\n",
       "      <td>67</td>\n",
       "      <td>83</td>\n",
       "      <td>106</td>\n",
       "      <td>70</td>\n",
       "      <td>232</td>\n",
       "      <td>206</td>\n",
       "    </tr>\n",
       "    <tr>\n",
       "      <th>box_office</th>\n",
       "      <td>880</td>\n",
       "      <td>513</td>\n",
       "      <td>465</td>\n",
       "      <td>446</td>\n",
       "      <td>528</td>\n",
       "      <td>240</td>\n",
       "      <td>292</td>\n",
       "      <td>148</td>\n",
       "      <td>416</td>\n",
       "      <td>400</td>\n",
       "    </tr>\n",
       "    <tr>\n",
       "      <th>total_records</th>\n",
       "      <td>985</td>\n",
       "      <td>622</td>\n",
       "      <td>593</td>\n",
       "      <td>630</td>\n",
       "      <td>807</td>\n",
       "      <td>705</td>\n",
       "      <td>818</td>\n",
       "      <td>505</td>\n",
       "      <td>891</td>\n",
       "      <td>930</td>\n",
       "    </tr>\n",
       "  </tbody>\n",
       "</table>\n",
       "</div>"
      ],
      "text/plain": [
       "year                   2010  2011  2012  2013  2014  2015  2016  2017  2018  \\\n",
       "title                     0     0     0     0     0     0     0     0     0   \n",
       "puNumber                  0     0     0     0     0     0     0     0     0   \n",
       "show_start_date           0     0     0     0     0     0     0     0     0   \n",
       "type                      0     0     0     0     0     0     0     0     0   \n",
       "film_studio               1     0     0     0     1     0     0     0    12   \n",
       "production_country        1     0     0     0     0     0     1     0     0   \n",
       "director                  5     2     1     1     0     0     0     0     0   \n",
       "producer                 40    15    26    89   189    77    54    34    14   \n",
       "age_restriction           0     0     0     0     0     0     0     0     0   \n",
       "refundable_support      985   622   593   628   791   619   757   464   835   \n",
       "nonrefundable_support   985   622   593   628   791   619   757   464   835   \n",
       "budget                  985   622   593   628   791   619   757   464   835   \n",
       "financing_source        985   622   593   628   791   619   757   464   835   \n",
       "ratings                  73    46    46    47    67    82   102    69   232   \n",
       "genres                   73    46    46    47    67    83   106    70   232   \n",
       "box_office              880   513   465   446   528   240   292   148   416   \n",
       "total_records           985   622   593   630   807   705   818   505   891   \n",
       "\n",
       "year                   2019  \n",
       "title                     0  \n",
       "puNumber                  0  \n",
       "show_start_date           0  \n",
       "type                      0  \n",
       "film_studio               4  \n",
       "production_country        0  \n",
       "director                  0  \n",
       "producer                 30  \n",
       "age_restriction           0  \n",
       "refundable_support      860  \n",
       "nonrefundable_support   860  \n",
       "budget                  860  \n",
       "financing_source        860  \n",
       "ratings                 203  \n",
       "genres                  206  \n",
       "box_office              400  \n",
       "total_records           930  "
      ]
     },
     "execution_count": 16,
     "metadata": {},
     "output_type": "execute_result"
    }
   ],
   "source": [
    "#Присваиваем переменную со значением пропусков df\n",
    "df_charts = df.isna()\n",
    "#Создаем матрицу распределения пропусков по годам\n",
    "df_charts['year'] = df['show_start_date'].dt.year\n",
    "df_charts['total_records'] = True\n",
    "df_charts.groupby(by='year').agg(sum).transpose()"
   ]
  },
  {
   "cell_type": "markdown",
   "metadata": {},
   "source": [
    "**Вывод:**\n",
    "- Количество пропусков в колонках *refundable_support*, *nonrefundable_support*, *budget*, *financing_source* совпадают.\n",
    "- Количество пропусков не зависит от года, примерное одинаковое распределение по времени."
   ]
  },
  {
   "cell_type": "code",
   "execution_count": 17,
   "metadata": {},
   "outputs": [
    {
     "data": {
      "text/html": [
       "<div>\n",
       "<style scoped>\n",
       "    .dataframe tbody tr th:only-of-type {\n",
       "        vertical-align: middle;\n",
       "    }\n",
       "\n",
       "    .dataframe tbody tr th {\n",
       "        vertical-align: top;\n",
       "    }\n",
       "\n",
       "    .dataframe thead th {\n",
       "        text-align: right;\n",
       "    }\n",
       "</style>\n",
       "<table border=\"1\" class=\"dataframe\">\n",
       "  <thead>\n",
       "    <tr style=\"text-align: right;\">\n",
       "      <th></th>\n",
       "      <th>Россия</th>\n",
       "      <th>Всего</th>\n",
       "    </tr>\n",
       "    <tr>\n",
       "      <th>is_na</th>\n",
       "      <th></th>\n",
       "      <th></th>\n",
       "    </tr>\n",
       "  </thead>\n",
       "  <tbody>\n",
       "    <tr>\n",
       "      <th>False</th>\n",
       "      <td>332</td>\n",
       "      <td>332</td>\n",
       "    </tr>\n",
       "    <tr>\n",
       "      <th>True</th>\n",
       "      <td>1653</td>\n",
       "      <td>7152</td>\n",
       "    </tr>\n",
       "  </tbody>\n",
       "</table>\n",
       "</div>"
      ],
      "text/plain": [
       "       Россия  Всего\n",
       "is_na               \n",
       "False     332    332\n",
       "True     1653   7152"
      ]
     },
     "metadata": {},
     "output_type": "display_data"
    }
   ],
   "source": [
    "#Создали переменную для выведения таблицы по пропускам в России\n",
    "\n",
    "tmp = df.budget.isna().rename('is_na').to_frame()\n",
    "tmp['is_rus'] = df.production_country.str.contains('Россия')\n",
    "display(tmp.groupby(['is_na']).agg(['sum', 'count']).set_axis(['Россия', 'Всего'], axis=1))\n",
    "\n",
    "del tmp"
   ]
  },
  {
   "cell_type": "markdown",
   "metadata": {},
   "source": [
    "- Информация по государственной поддержке есть только по российским фильмам, но у большинства \n",
    "фильмов нет информации о господдержке. \n",
    "- Возможно большинство российских фильмов снималось без господдержки."
   ]
  },
  {
   "cell_type": "markdown",
   "metadata": {},
   "source": [
    "<div class=\"alert alert-danger\">\n",
    "    \n",
    "<b> Комментарий от ревьюера ❗</b>\n",
    "    \n",
    "Так что делать с пропусками? Почему мы их решили не заполнять? Прокомментируй, пожалуйста. \n",
    "</div>"
   ]
  },
  {
   "cell_type": "markdown",
   "metadata": {},
   "source": [
    "<div class=\"alert alert-info\">\n",
    "\n",
    "**Вывод:**\n",
    "- Оставим пропуски в остальных колонках как есть, некоторые колонки содержат \n",
    "нули как значение и заменяя пропуски на нули можно смешать действительные\n",
    "значения на замененные.\n",
    "- Поменяю если пропуски будут мешать при обработке данных.\n",
    "\n",
    "</div>"
   ]
  },
  {
   "cell_type": "markdown",
   "metadata": {},
   "source": [
    "<div class=\"alert alert-success\">\n",
    "    \n",
    "<b> Комментарий от ревьюера 2 ✔️</b>\n",
    "\n",
    "👍\n",
    "\n",
    "</div>\n"
   ]
  },
  {
   "cell_type": "markdown",
   "metadata": {
    "id": "4c6k1t9ygFyQ"
   },
   "source": [
    "#### Шаг 2.3. Изучите дубликаты в датафрейме\n",
    "- Проверьте, есть ли в данных дубликаты. Опишите причины, которые могли повлиять на появление дублей."
   ]
  },
  {
   "cell_type": "code",
   "execution_count": 18,
   "metadata": {
    "id": "aKck8RIdgFyQ"
   },
   "outputs": [
    {
     "name": "stdout",
     "output_type": "stream",
     "text": [
      "Количество дублирующихся строк: 0\n"
     ]
    },
    {
     "data": {
      "text/plain": [
       "title                    6772\n",
       "puNumber                 7484\n",
       "show_start_date          1965\n",
       "type                        8\n",
       "film_studio              5490\n",
       "production_country        950\n",
       "director                 4811\n",
       "producer                 5349\n",
       "age_restriction             5\n",
       "refundable_support         34\n",
       "nonrefundable_support      75\n",
       "budget                    290\n",
       "financing_source            3\n",
       "ratings                    84\n",
       "genres                    742\n",
       "box_office               2938\n",
       "dtype: int64"
      ]
     },
     "execution_count": 18,
     "metadata": {},
     "output_type": "execute_result"
    }
   ],
   "source": [
    "print('Количество дублирующихся строк:', df.duplicated().sum())\n",
    "\n",
    "df.nunique()"
   ]
  },
  {
   "cell_type": "code",
   "execution_count": 19,
   "metadata": {},
   "outputs": [
    {
     "data": {
      "text/plain": [
       "7481             Великобритания\n",
       "7482                        США\n",
       "7483               США - Канада\n",
       "7484    Республика Кипр, Россия\n",
       "7485    Республика Кипр, Россия\n",
       "Name: production_country, dtype: object"
      ]
     },
     "execution_count": 19,
     "metadata": {},
     "output_type": "execute_result"
    }
   ],
   "source": [
    "#Выводим на экран последние строки колонки страны\n",
    "df['production_country'].tail()"
   ]
  },
  {
   "cell_type": "code",
   "execution_count": 20,
   "metadata": {},
   "outputs": [
    {
     "data": {
      "text/plain": [
       "7481             Великобритания\n",
       "7482                        США\n",
       "7483                США, Канада\n",
       "7484    Республика Кипр, Россия\n",
       "7485    Республика Кипр, Россия\n",
       "Name: production_country, dtype: object"
      ]
     },
     "execution_count": 20,
     "metadata": {},
     "output_type": "execute_result"
    }
   ],
   "source": [
    "#Редактируем пробел, приводим к эдиным знакам препинания\n",
    "df['production_country'] = df['production_country'].dropna().apply(lambda x: ', '.join([x.strip()\n",
    "for x in x.split('-')]))\n",
    "df['production_country'].tail()"
   ]
  },
  {
   "cell_type": "markdown",
   "metadata": {},
   "source": [
    "<div class=\"alert alert-warning\">\n",
    "    \n",
    "<b> Комментарий от ревьюера ⚠️</b>\n",
    "    \n",
    "Мы же вроде в прошлом разделе с пропусками работали. Давай перенесем код туда, чтобы не ломать структуру проекта\n",
    "</div>"
   ]
  },
  {
   "cell_type": "markdown",
   "metadata": {},
   "source": [
    "<div class=\"alert alert-info\">\n",
    "    \n",
    "Не стала менять т.к. не мешает.\n",
    "\n",
    "</div>\n"
   ]
  },
  {
   "cell_type": "markdown",
   "metadata": {},
   "source": [
    "<div class=\"alert alert-danger\">\n",
    "    \n",
    "<b> Комментарий от ревьюера ❗</b>\n",
    "    \n",
    "1. Давай не менять признак genre, дальше ведь мы все равно будем основной жанр в отдельный признак\n",
    "1. Используй, пожалуйста, метод [str.split](https://pandas.pydata.org/pandas-docs/stable/reference/api/pandas.Series.str.split.html) вместо replace, чтобы не создавать кучу словарей.\n",
    "1. Проверь, пожалуйста, дубликаты в нашей таблице. Судя по описанию уникальные значения могут содержаться в title и puNumber\n",
    "</div>"
   ]
  },
  {
   "cell_type": "code",
   "execution_count": 21,
   "metadata": {},
   "outputs": [
    {
     "data": {
      "text/html": [
       "<div>\n",
       "<style scoped>\n",
       "    .dataframe tbody tr th:only-of-type {\n",
       "        vertical-align: middle;\n",
       "    }\n",
       "\n",
       "    .dataframe tbody tr th {\n",
       "        vertical-align: top;\n",
       "    }\n",
       "\n",
       "    .dataframe thead th {\n",
       "        text-align: right;\n",
       "    }\n",
       "</style>\n",
       "<table border=\"1\" class=\"dataframe\">\n",
       "  <thead>\n",
       "    <tr style=\"text-align: right;\">\n",
       "      <th></th>\n",
       "      <th>title</th>\n",
       "      <th>puNumber</th>\n",
       "      <th>show_start_date</th>\n",
       "      <th>type</th>\n",
       "      <th>film_studio</th>\n",
       "      <th>production_country</th>\n",
       "      <th>director</th>\n",
       "      <th>producer</th>\n",
       "      <th>age_restriction</th>\n",
       "      <th>refundable_support</th>\n",
       "      <th>nonrefundable_support</th>\n",
       "      <th>budget</th>\n",
       "      <th>financing_source</th>\n",
       "      <th>ratings</th>\n",
       "      <th>genres</th>\n",
       "      <th>box_office</th>\n",
       "    </tr>\n",
       "  </thead>\n",
       "  <tbody>\n",
       "    <tr>\n",
       "      <th>4505</th>\n",
       "      <td>Я ненавижу день святого Валентина</td>\n",
       "      <td>221139210</td>\n",
       "      <td>2010-12-03 12:00:00+00:00</td>\n",
       "      <td>Художественный</td>\n",
       "      <td>Блю Стар Пикчерз, Ай Хэйт Вдэй Продакшнз, Ай С...</td>\n",
       "      <td>США</td>\n",
       "      <td>Ниа Вардалос</td>\n",
       "      <td>Доминик Йанно, Мэдлейн Шерак, Уильям Шерак</td>\n",
       "      <td>«16+» - для детей старше 16 лет</td>\n",
       "      <td>NaN</td>\n",
       "      <td>NaN</td>\n",
       "      <td>NaN</td>\n",
       "      <td>NaN</td>\n",
       "      <td>5.0</td>\n",
       "      <td>мелодрама,комедия</td>\n",
       "      <td>NaN</td>\n",
       "    </tr>\n",
       "    <tr>\n",
       "      <th>1704</th>\n",
       "      <td>Я, снова я и мама</td>\n",
       "      <td>121030213</td>\n",
       "      <td>2013-11-21 12:00:00+00:00</td>\n",
       "      <td>Художественный</td>\n",
       "      <td>Гомон, Эль Джи Эм Продакшнз, Ректанль Продюксь...</td>\n",
       "      <td>Франция, Бельгия</td>\n",
       "      <td>Гийом Гальенн</td>\n",
       "      <td>Жан-Батист Дюпон, Алис Жирар, Сирил Кольбо-Жюстен</td>\n",
       "      <td>«16+» - для детей старше 16 лет</td>\n",
       "      <td>NaN</td>\n",
       "      <td>NaN</td>\n",
       "      <td>NaN</td>\n",
       "      <td>NaN</td>\n",
       "      <td>6.3</td>\n",
       "      <td>комедия,мелодрама,драма</td>\n",
       "      <td>NaN</td>\n",
       "    </tr>\n",
       "    <tr>\n",
       "      <th>1703</th>\n",
       "      <td>Я, снова я и мама</td>\n",
       "      <td>121013116</td>\n",
       "      <td>2016-05-23 12:00:00+00:00</td>\n",
       "      <td>Художественный</td>\n",
       "      <td>Гомон, Эль Джи Эм Продакшнз, Ректанль Продюксь...</td>\n",
       "      <td>Франция, Бельгия</td>\n",
       "      <td>Гийом Гальенн</td>\n",
       "      <td>Жан-Батист Дюпон, Алис Жирар, Сирил Кольбо-Жюстен</td>\n",
       "      <td>«16+» - для детей старше 16 лет</td>\n",
       "      <td>NaN</td>\n",
       "      <td>NaN</td>\n",
       "      <td>NaN</td>\n",
       "      <td>NaN</td>\n",
       "      <td>6.3</td>\n",
       "      <td>комедия,мелодрама,драма</td>\n",
       "      <td>NaN</td>\n",
       "    </tr>\n",
       "    <tr>\n",
       "      <th>6379</th>\n",
       "      <td>Ян Антонышев</td>\n",
       "      <td>112011818</td>\n",
       "      <td>2018-11-15 12:00:00+00:00</td>\n",
       "      <td>Документальный</td>\n",
       "      <td>NaN</td>\n",
       "      <td>Россия</td>\n",
       "      <td>Е.Окопная</td>\n",
       "      <td>Е.Герасимов</td>\n",
       "      <td>«12+» - для детей старше 12 лет</td>\n",
       "      <td>NaN</td>\n",
       "      <td>NaN</td>\n",
       "      <td>NaN</td>\n",
       "      <td>NaN</td>\n",
       "      <td>NaN</td>\n",
       "      <td>NaN</td>\n",
       "      <td>NaN</td>\n",
       "    </tr>\n",
       "    <tr>\n",
       "      <th>6380</th>\n",
       "      <td>Ян Антонышев</td>\n",
       "      <td>112011918</td>\n",
       "      <td>2018-11-15 12:00:00+00:00</td>\n",
       "      <td>Документальный</td>\n",
       "      <td>NaN</td>\n",
       "      <td>Россия</td>\n",
       "      <td>Е.Окопная</td>\n",
       "      <td>Е.Герасимов</td>\n",
       "      <td>«12+» - для детей старше 12 лет</td>\n",
       "      <td>NaN</td>\n",
       "      <td>NaN</td>\n",
       "      <td>NaN</td>\n",
       "      <td>NaN</td>\n",
       "      <td>NaN</td>\n",
       "      <td>NaN</td>\n",
       "      <td>NaN</td>\n",
       "    </tr>\n",
       "  </tbody>\n",
       "</table>\n",
       "</div>"
      ],
      "text/plain": [
       "                                  title   puNumber           show_start_date  \\\n",
       "4505  Я ненавижу день святого Валентина  221139210 2010-12-03 12:00:00+00:00   \n",
       "1704                  Я, снова я и мама  121030213 2013-11-21 12:00:00+00:00   \n",
       "1703                  Я, снова я и мама  121013116 2016-05-23 12:00:00+00:00   \n",
       "6379                       Ян Антонышев  112011818 2018-11-15 12:00:00+00:00   \n",
       "6380                       Ян Антонышев  112011918 2018-11-15 12:00:00+00:00   \n",
       "\n",
       "                type                                        film_studio  \\\n",
       "4505  Художественный  Блю Стар Пикчерз, Ай Хэйт Вдэй Продакшнз, Ай С...   \n",
       "1704  Художественный  Гомон, Эль Джи Эм Продакшнз, Ректанль Продюксь...   \n",
       "1703  Художественный  Гомон, Эль Джи Эм Продакшнз, Ректанль Продюксь...   \n",
       "6379  Документальный                                                NaN   \n",
       "6380  Документальный                                                NaN   \n",
       "\n",
       "     production_country       director  \\\n",
       "4505                США   Ниа Вардалос   \n",
       "1704   Франция, Бельгия  Гийом Гальенн   \n",
       "1703   Франция, Бельгия  Гийом Гальенн   \n",
       "6379             Россия      Е.Окопная   \n",
       "6380             Россия      Е.Окопная   \n",
       "\n",
       "                                               producer  \\\n",
       "4505         Доминик Йанно, Мэдлейн Шерак, Уильям Шерак   \n",
       "1704  Жан-Батист Дюпон, Алис Жирар, Сирил Кольбо-Жюстен   \n",
       "1703  Жан-Батист Дюпон, Алис Жирар, Сирил Кольбо-Жюстен   \n",
       "6379                                        Е.Герасимов   \n",
       "6380                                        Е.Герасимов   \n",
       "\n",
       "                      age_restriction  refundable_support  \\\n",
       "4505  «16+» - для детей старше 16 лет                 NaN   \n",
       "1704  «16+» - для детей старше 16 лет                 NaN   \n",
       "1703  «16+» - для детей старше 16 лет                 NaN   \n",
       "6379  «12+» - для детей старше 12 лет                 NaN   \n",
       "6380  «12+» - для детей старше 12 лет                 NaN   \n",
       "\n",
       "      nonrefundable_support  budget financing_source  ratings  \\\n",
       "4505                    NaN     NaN              NaN      5.0   \n",
       "1704                    NaN     NaN              NaN      6.3   \n",
       "1703                    NaN     NaN              NaN      6.3   \n",
       "6379                    NaN     NaN              NaN      NaN   \n",
       "6380                    NaN     NaN              NaN      NaN   \n",
       "\n",
       "                       genres  box_office  \n",
       "4505        мелодрама,комедия         NaN  \n",
       "1704  комедия,мелодрама,драма         NaN  \n",
       "1703  комедия,мелодрама,драма         NaN  \n",
       "6379                      NaN         NaN  \n",
       "6380                      NaN         NaN  "
      ]
     },
     "execution_count": 21,
     "metadata": {},
     "output_type": "execute_result"
    }
   ],
   "source": [
    "df.loc[df['title'].duplicated(keep=False)].sort_values(by='title').tail()   "
   ]
  },
  {
   "cell_type": "markdown",
   "metadata": {},
   "source": [
    "- Повторы в *title* возможны из-за того фильмы могут выходить в разные даты и под разными лицензиями.\n",
    "- Дубликат в фмльме *Ян Антонышев* вышели в одну дату но ноиер лицензии отличается возможно ошибка \n",
    "заполнения как человеческий фактор."
   ]
  },
  {
   "cell_type": "code",
   "execution_count": 22,
   "metadata": {},
   "outputs": [
    {
     "data": {
      "text/html": [
       "<div>\n",
       "<style scoped>\n",
       "    .dataframe tbody tr th:only-of-type {\n",
       "        vertical-align: middle;\n",
       "    }\n",
       "\n",
       "    .dataframe tbody tr th {\n",
       "        vertical-align: top;\n",
       "    }\n",
       "\n",
       "    .dataframe thead th {\n",
       "        text-align: right;\n",
       "    }\n",
       "</style>\n",
       "<table border=\"1\" class=\"dataframe\">\n",
       "  <thead>\n",
       "    <tr style=\"text-align: right;\">\n",
       "      <th></th>\n",
       "      <th>title</th>\n",
       "      <th>puNumber</th>\n",
       "      <th>show_start_date</th>\n",
       "      <th>type</th>\n",
       "      <th>film_studio</th>\n",
       "      <th>production_country</th>\n",
       "      <th>director</th>\n",
       "      <th>producer</th>\n",
       "      <th>age_restriction</th>\n",
       "      <th>refundable_support</th>\n",
       "      <th>nonrefundable_support</th>\n",
       "      <th>budget</th>\n",
       "      <th>financing_source</th>\n",
       "      <th>ratings</th>\n",
       "      <th>genres</th>\n",
       "      <th>box_office</th>\n",
       "    </tr>\n",
       "  </thead>\n",
       "  <tbody>\n",
       "    <tr>\n",
       "      <th>4638</th>\n",
       "      <td>Как жениться и остаться холостым</td>\n",
       "      <td>221154310</td>\n",
       "      <td>2010-12-17 12:00:00+00:00</td>\n",
       "      <td>Художественный</td>\n",
       "      <td>Ше Вам, Скрипт Ассосье, Тэ Фэ 1 Фильм Продюксь...</td>\n",
       "      <td>Франция</td>\n",
       "      <td>Эрик Лартиго</td>\n",
       "      <td>Амандин Било, Алан Шаба</td>\n",
       "      <td>«16+» - для детей старше 16 лет</td>\n",
       "      <td>NaN</td>\n",
       "      <td>NaN</td>\n",
       "      <td>NaN</td>\n",
       "      <td>NaN</td>\n",
       "      <td>7.0</td>\n",
       "      <td>мелодрама,комедия</td>\n",
       "      <td>NaN</td>\n",
       "    </tr>\n",
       "    <tr>\n",
       "      <th>4639</th>\n",
       "      <td>Иоанна - женщина на папском престоле /По роман...</td>\n",
       "      <td>221154310</td>\n",
       "      <td>2010-12-17 12:00:00+00:00</td>\n",
       "      <td>Художественный</td>\n",
       "      <td>Константин Фильм, А Эр Ди Дегето Фильм, Дюне ...</td>\n",
       "      <td>Германия, Великобритания, Италия, Испания</td>\n",
       "      <td>Зенке Вортманн</td>\n",
       "      <td>Оливер Бербен, Дорис Д.Хайнце, Фарук Элтан</td>\n",
       "      <td>«16+» - для детей старше 16 лет</td>\n",
       "      <td>NaN</td>\n",
       "      <td>NaN</td>\n",
       "      <td>NaN</td>\n",
       "      <td>NaN</td>\n",
       "      <td>7.6</td>\n",
       "      <td>драма,мелодрама,история</td>\n",
       "      <td>NaN</td>\n",
       "    </tr>\n",
       "    <tr>\n",
       "      <th>5067</th>\n",
       "      <td>Анализируй это!</td>\n",
       "      <td>221054410</td>\n",
       "      <td>2010-05-25 12:00:00+00:00</td>\n",
       "      <td>Художественный</td>\n",
       "      <td>Уорнер Бразерс, Вилладж Роудшоу Филмз ЛТД</td>\n",
       "      <td>США, Австралия</td>\n",
       "      <td>ХЭрольд Рэмис</td>\n",
       "      <td>Джейн Розенталь, Пола Уейнстейн</td>\n",
       "      <td>«16+» - для детей старше 16 лет</td>\n",
       "      <td>NaN</td>\n",
       "      <td>NaN</td>\n",
       "      <td>NaN</td>\n",
       "      <td>NaN</td>\n",
       "      <td>7.4</td>\n",
       "      <td>комедия,криминал</td>\n",
       "      <td>NaN</td>\n",
       "    </tr>\n",
       "    <tr>\n",
       "      <th>5068</th>\n",
       "      <td>Анализируй то!</td>\n",
       "      <td>221054410</td>\n",
       "      <td>2010-05-25 12:00:00+00:00</td>\n",
       "      <td>Художественный</td>\n",
       "      <td>Уорнер Бразерс, Виллидж Роадшоу Пикчерз, Эн-Пи...</td>\n",
       "      <td>США</td>\n",
       "      <td>Гарольд Реймис</td>\n",
       "      <td>Джейн Розенталь, Паул Уэйнстейн</td>\n",
       "      <td>«12+» - для детей старше 12 лет</td>\n",
       "      <td>NaN</td>\n",
       "      <td>NaN</td>\n",
       "      <td>NaN</td>\n",
       "      <td>NaN</td>\n",
       "      <td>6.8</td>\n",
       "      <td>комедия,криминал</td>\n",
       "      <td>NaN</td>\n",
       "    </tr>\n",
       "  </tbody>\n",
       "</table>\n",
       "</div>"
      ],
      "text/plain": [
       "                                                  title   puNumber  \\\n",
       "4638                   Как жениться и остаться холостым  221154310   \n",
       "4639  Иоанна - женщина на папском престоле /По роман...  221154310   \n",
       "5067                                    Анализируй это!  221054410   \n",
       "5068                                     Анализируй то!  221054410   \n",
       "\n",
       "               show_start_date            type  \\\n",
       "4638 2010-12-17 12:00:00+00:00  Художественный   \n",
       "4639 2010-12-17 12:00:00+00:00  Художественный   \n",
       "5067 2010-05-25 12:00:00+00:00  Художественный   \n",
       "5068 2010-05-25 12:00:00+00:00  Художественный   \n",
       "\n",
       "                                            film_studio  \\\n",
       "4638  Ше Вам, Скрипт Ассосье, Тэ Фэ 1 Фильм Продюксь...   \n",
       "4639   Константин Фильм, А Эр Ди Дегето Фильм, Дюне ...   \n",
       "5067          Уорнер Бразерс, Вилладж Роудшоу Филмз ЛТД   \n",
       "5068  Уорнер Бразерс, Виллидж Роадшоу Пикчерз, Эн-Пи...   \n",
       "\n",
       "                             production_country        director  \\\n",
       "4638                                    Франция    Эрик Лартиго   \n",
       "4639  Германия, Великобритания, Италия, Испания  Зенке Вортманн   \n",
       "5067                             США, Австралия   ХЭрольд Рэмис   \n",
       "5068                                        США  Гарольд Реймис   \n",
       "\n",
       "                                        producer  \\\n",
       "4638                     Амандин Било, Алан Шаба   \n",
       "4639  Оливер Бербен, Дорис Д.Хайнце, Фарук Элтан   \n",
       "5067             Джейн Розенталь, Пола Уейнстейн   \n",
       "5068             Джейн Розенталь, Паул Уэйнстейн   \n",
       "\n",
       "                      age_restriction  refundable_support  \\\n",
       "4638  «16+» - для детей старше 16 лет                 NaN   \n",
       "4639  «16+» - для детей старше 16 лет                 NaN   \n",
       "5067  «16+» - для детей старше 16 лет                 NaN   \n",
       "5068  «12+» - для детей старше 12 лет                 NaN   \n",
       "\n",
       "      nonrefundable_support  budget financing_source  ratings  \\\n",
       "4638                    NaN     NaN              NaN      7.0   \n",
       "4639                    NaN     NaN              NaN      7.6   \n",
       "5067                    NaN     NaN              NaN      7.4   \n",
       "5068                    NaN     NaN              NaN      6.8   \n",
       "\n",
       "                       genres  box_office  \n",
       "4638        мелодрама,комедия         NaN  \n",
       "4639  драма,мелодрама,история         NaN  \n",
       "5067         комедия,криминал         NaN  \n",
       "5068         комедия,криминал         NaN  "
      ]
     },
     "execution_count": 22,
     "metadata": {},
     "output_type": "execute_result"
    }
   ],
   "source": [
    "df.loc[df['puNumber'].duplicated(keep=False)]"
   ]
  },
  {
   "cell_type": "markdown",
   "metadata": {},
   "source": [
    "- Разные фильмы под одним номером лицензии ошибка в запонении\n",
    "- Фильм 5067 и 5068 при одной лицензии отличаются в названии, стране и директоре опечатка и \n",
    "не точность в заполнии человеческий фактор"
   ]
  },
  {
   "cell_type": "markdown",
   "metadata": {},
   "source": [
    "<div class=\"alert alert-success\">\n",
    "    \n",
    "<b> Комментарий от ревьюера 2 ✔️</b>\n",
    "\n",
    "С поиском дубликатов все замечательно!\n",
    "\n",
    "</div>"
   ]
  },
  {
   "cell_type": "markdown",
   "metadata": {
    "id": "52fOPrEBgFyQ"
   },
   "source": [
    "#### Шаг 2.4. Изучите категориальные значения\n",
    "\n",
    "- Посмотрите, какая общая проблема встречается почти во всех категориальных столбцах;\n",
    "- Исправьте проблемные значения в поле `type`.\n",
    "\n",
    "<div id=\"accordion\">\n",
    "    <div class=\"card\">\n",
    "        <div class=\"card-header\" id=\"headingThree\">\n",
    "            <button class=\"btn btn-link collapsed\" data-toggle=\"collapse\" data-target=\"#collapseHint_1\" aria-expanded=\"false\" aria-controls=\"collapseHint_1\">Подсказка</button>\n",
    "        </div>\n",
    "        <div id=\"collapseHint_1\" class=\"collapse\" aria-labelledby=\"headingThree\" data-parent=\"#accordion\">\n",
    "            <div class=\"card-body\">\n",
    "В поле <code>type</code> есть несколько значений, у которых появился пробел в начале строки. Самый простой способ их «починить» -- использовать метод <a href=\"https://pandas.pydata.org/docs/reference/api/pandas.Series.str.strip.html#pandas.Series.str.strip\">.str.strip</a>. Этот метод удаляет все пробелы, которые встречаются в начале и в конце строки. Применяют его таким образом:<br>\n",
    "<code>df['type'].str.strip()</code>\n",
    "            </div>\n",
    "        </div>\n",
    "    </div>\n",
    "</div>"
   ]
  },
  {
   "cell_type": "code",
   "execution_count": 23,
   "metadata": {},
   "outputs": [
    {
     "data": {
      "text/plain": [
       "[' Анимационный',\n",
       " ' Художественный',\n",
       " 'Анимационный',\n",
       " 'Документальный',\n",
       " 'Музыкально-развлекательный',\n",
       " 'Научно-популярный',\n",
       " 'Прочие',\n",
       " 'Художественный']"
      ]
     },
     "execution_count": 23,
     "metadata": {},
     "output_type": "execute_result"
    }
   ],
   "source": [
    "#Вывела список уникальных значений колонки\n",
    "sorted(df['type'].unique())"
   ]
  },
  {
   "cell_type": "code",
   "execution_count": 24,
   "metadata": {
    "id": "PnXKIVdFgFyR"
   },
   "outputs": [
    {
     "data": {
      "text/plain": [
       "['Анимационный',\n",
       " 'Документальный',\n",
       " 'Музыкально-развлекательный',\n",
       " 'Научно-популярный',\n",
       " 'Прочие',\n",
       " 'Художественный']"
      ]
     },
     "execution_count": 24,
     "metadata": {},
     "output_type": "execute_result"
    }
   ],
   "source": [
    "#Удаляем пробелы в начале строк\n",
    "df['type'] = df['type'].str.strip()\n",
    "sorted(df['type'].unique())"
   ]
  },
  {
   "cell_type": "code",
   "execution_count": 25,
   "metadata": {},
   "outputs": [
    {
     "data": {
      "text/plain": [
       "array(['«18+» - запрещено для детей', '«6+» - для детей старше 6 лет',\n",
       "       '«12+» - для детей старше 12 лет',\n",
       "       '«16+» - для детей старше 16 лет',\n",
       "       '«0+» - для любой зрительской аудитории'], dtype=object)"
      ]
     },
     "execution_count": 25,
     "metadata": {},
     "output_type": "execute_result"
    }
   ],
   "source": [
    "#Проверяем на ошибки список уникальных значений\n",
    "df['age_restriction'].unique()"
   ]
  },
  {
   "cell_type": "code",
   "execution_count": 26,
   "metadata": {},
   "outputs": [
    {
     "data": {
      "text/plain": [
       "array([nan, 'Министерство культуры', 'Фонд кино',\n",
       "       'Министерство культуры, Фонд кино'], dtype=object)"
      ]
     },
     "execution_count": 26,
     "metadata": {},
     "output_type": "execute_result"
    }
   ],
   "source": [
    "#Проверяем на ошибки список уникальных значений\n",
    "df['financing_source'].unique()"
   ]
  },
  {
   "cell_type": "markdown",
   "metadata": {},
   "source": [
    "<div class=\"alert alert-danger\">\n",
    "    \n",
    "<b> Комментарий от ревьюера ❗</b>\n",
    "    \n",
    "Подскажи, какая общая проблема встречается в категориальных признаках?\n",
    "</div>"
   ]
  },
  {
   "cell_type": "markdown",
   "metadata": {},
   "source": [
    "<div class=\"alert alert-info\">\n",
    "    \n",
    "**Вывод:**\n",
    "- Общая проблема в категориальных признаках лишние пробелы, разная пунктуация\n",
    "\n",
    "</div>"
   ]
  },
  {
   "cell_type": "markdown",
   "metadata": {},
   "source": [
    "<div class=\"alert alert-success\">\n",
    "    \n",
    "<b> Комментарий от ревьюера 2 ✔️</b>\n",
    "\n",
    "Верно. Еще к проблемам можно отнести большое количество уникальных значений в категориальных признаках (мы столкнулись с этой проблемой на прошлой итерации, когда обрабатывали признак genre)\n",
    "</div>"
   ]
  },
  {
   "cell_type": "markdown",
   "metadata": {
    "id": "XFSN5lrEgFyR"
   },
   "source": [
    "#### Шаг 2.5. Проверьте количественные значения\n",
    "\n",
    "- Проверьте, обнаружились ли в таких столбцах подозрительные данные. Как с такими данными лучше поступить?\n",
    "\n",
    "<div id=\"accordion\">\n",
    "    <div class=\"card\">\n",
    "        <div class=\"card-header\" id=\"headingThree\">\n",
    "            <button class=\"btn btn-link collapsed\" data-toggle=\"collapse\" data-target=\"#collapseHint_budget\" aria-expanded=\"false\" aria-controls=\"collapseHint_budget\">Подсказка</button>\n",
    "        </div>\n",
    "        <div id=\"collapseHint_budget\" class=\"collapse\" aria-labelledby=\"headingThree\" data-parent=\"#accordion\">\n",
    "            <div class=\"card-body\">\n",
    "Обратите внимание на описание столбца <code>budget</code>. Как этот столбец соотносится с двумя другими: <code>refundable_support</code> и <code>nonrefundable_support</code>?\n",
    "            </div>\n",
    "        </div>\n",
    "    </div>\n",
    "</div>"
   ]
  },
  {
   "cell_type": "code",
   "execution_count": 27,
   "metadata": {},
   "outputs": [
    {
     "data": {
      "text/html": [
       "<div>\n",
       "<style scoped>\n",
       "    .dataframe tbody tr th:only-of-type {\n",
       "        vertical-align: middle;\n",
       "    }\n",
       "\n",
       "    .dataframe tbody tr th {\n",
       "        vertical-align: top;\n",
       "    }\n",
       "\n",
       "    .dataframe thead th {\n",
       "        text-align: right;\n",
       "    }\n",
       "</style>\n",
       "<table border=\"1\" class=\"dataframe\">\n",
       "  <thead>\n",
       "    <tr style=\"text-align: right;\">\n",
       "      <th></th>\n",
       "      <th>title</th>\n",
       "      <th>puNumber</th>\n",
       "      <th>show_start_date</th>\n",
       "      <th>type</th>\n",
       "      <th>film_studio</th>\n",
       "      <th>production_country</th>\n",
       "      <th>director</th>\n",
       "      <th>producer</th>\n",
       "      <th>age_restriction</th>\n",
       "      <th>refundable_support</th>\n",
       "      <th>nonrefundable_support</th>\n",
       "      <th>budget</th>\n",
       "      <th>financing_source</th>\n",
       "      <th>ratings</th>\n",
       "      <th>genres</th>\n",
       "      <th>box_office</th>\n",
       "    </tr>\n",
       "  </thead>\n",
       "  <tbody>\n",
       "    <tr>\n",
       "      <th>2053</th>\n",
       "      <td>14+</td>\n",
       "      <td>111023614</td>\n",
       "      <td>2014-12-19 12:00:00+00:00</td>\n",
       "      <td>Художественный</td>\n",
       "      <td>ООО Киностудия  \"Сентябрь\"</td>\n",
       "      <td>Россия</td>\n",
       "      <td>А.Зайцев</td>\n",
       "      <td>О.Гранина, А.Зайцев</td>\n",
       "      <td>«16+» - для детей старше 16 лет</td>\n",
       "      <td>0.0</td>\n",
       "      <td>23000000.0</td>\n",
       "      <td>0.0</td>\n",
       "      <td>Министерство культуры, Фонд кино</td>\n",
       "      <td>6.6</td>\n",
       "      <td>мелодрама</td>\n",
       "      <td>1.023402e+07</td>\n",
       "    </tr>\n",
       "    <tr>\n",
       "      <th>2058</th>\n",
       "      <td>Дуxless 2</td>\n",
       "      <td>111000415</td>\n",
       "      <td>2015-01-26 12:00:00+00:00</td>\n",
       "      <td>Художественный</td>\n",
       "      <td>ООО \"Киностудия \"Слово\", ООО \"Арт Пикчерс Студия\"</td>\n",
       "      <td>Россия</td>\n",
       "      <td>Р.Прыгунов</td>\n",
       "      <td>П.Ануров, Ф.Бондарчук, Д.Рудовский</td>\n",
       "      <td>«16+» - для детей старше 16 лет</td>\n",
       "      <td>0.0</td>\n",
       "      <td>75000000.0</td>\n",
       "      <td>0.0</td>\n",
       "      <td>Фонд кино</td>\n",
       "      <td>6.6</td>\n",
       "      <td>драма</td>\n",
       "      <td>4.461635e+08</td>\n",
       "    </tr>\n",
       "    <tr>\n",
       "      <th>2472</th>\n",
       "      <td>Воин (2015)</td>\n",
       "      <td>111017315</td>\n",
       "      <td>2015-09-28 12:00:00+00:00</td>\n",
       "      <td>Художественный</td>\n",
       "      <td>ООО \"Форпост Продакшн\", ООО \"Арт Пикчерс Студия\"</td>\n",
       "      <td>Россия</td>\n",
       "      <td>А.Андрианов</td>\n",
       "      <td>ООО \"Арт Пикчерс Студия\"</td>\n",
       "      <td>«12+» - для детей старше 12 лет</td>\n",
       "      <td>10000000.0</td>\n",
       "      <td>70000000.0</td>\n",
       "      <td>0.0</td>\n",
       "      <td>Фонд кино</td>\n",
       "      <td>7.8</td>\n",
       "      <td>боевик,драма,криминал</td>\n",
       "      <td>1.965724e+08</td>\n",
       "    </tr>\n",
       "    <tr>\n",
       "      <th>2532</th>\n",
       "      <td>Бармен.</td>\n",
       "      <td>111009615</td>\n",
       "      <td>2015-05-26 12:00:00+00:00</td>\n",
       "      <td>Художественный</td>\n",
       "      <td>АО \"ВайТ Медиа\", ООО \"Арт Пикчерс Студия\"</td>\n",
       "      <td>Россия</td>\n",
       "      <td>Д.Штурманова</td>\n",
       "      <td>Т.Вайнштейн</td>\n",
       "      <td>«16+» - для детей старше 16 лет</td>\n",
       "      <td>20000000.0</td>\n",
       "      <td>0.0</td>\n",
       "      <td>0.0</td>\n",
       "      <td>Фонд кино</td>\n",
       "      <td>6.2</td>\n",
       "      <td>комедия,фэнтези</td>\n",
       "      <td>6.741897e+07</td>\n",
       "    </tr>\n",
       "    <tr>\n",
       "      <th>2615</th>\n",
       "      <td>Савва. Сердце воина</td>\n",
       "      <td>114001715</td>\n",
       "      <td>2015-07-21 12:00:00+00:00</td>\n",
       "      <td>Анимационный</td>\n",
       "      <td>ООО \"Глюкоза Продакшн\", ООО \"Арт Пикчерс Студия\"</td>\n",
       "      <td>Россия</td>\n",
       "      <td>М.Фадеев</td>\n",
       "      <td>А.Чистяков</td>\n",
       "      <td>«6+» - для детей старше 6 лет</td>\n",
       "      <td>60000000.0</td>\n",
       "      <td>100000000.0</td>\n",
       "      <td>0.0</td>\n",
       "      <td>Фонд кино</td>\n",
       "      <td>4.6</td>\n",
       "      <td>мультфильм,приключения,фэнтези</td>\n",
       "      <td>1.844876e+08</td>\n",
       "    </tr>\n",
       "    <tr>\n",
       "      <th>2684</th>\n",
       "      <td>Тряпичный союз</td>\n",
       "      <td>111010215</td>\n",
       "      <td>2015-06-08 12:00:00+00:00</td>\n",
       "      <td>Художественный</td>\n",
       "      <td>ООО \"Кинокомпания \"КОКТЕБЕЛЬ\"</td>\n",
       "      <td>Россия</td>\n",
       "      <td>М.Местецкий</td>\n",
       "      <td>Р.Борисевич, А.Кушаев</td>\n",
       "      <td>«18+» - запрещено для детей</td>\n",
       "      <td>0.0</td>\n",
       "      <td>59000000.0</td>\n",
       "      <td>0.0</td>\n",
       "      <td>Фонд кино</td>\n",
       "      <td>6.3</td>\n",
       "      <td>комедия,драма</td>\n",
       "      <td>1.957739e+06</td>\n",
       "    </tr>\n",
       "    <tr>\n",
       "      <th>2788</th>\n",
       "      <td>Срочно выйду замуж</td>\n",
       "      <td>111017115</td>\n",
       "      <td>2015-09-30 12:00:00+00:00</td>\n",
       "      <td>Художественный</td>\n",
       "      <td>АО \"ВайТ Медиа\", ООО \"Арт Пикчерс Студия\"</td>\n",
       "      <td>Россия</td>\n",
       "      <td>С Чекалов</td>\n",
       "      <td>Ф.Бондарчук, Т.Вайнштейн, Д.Рудовский</td>\n",
       "      <td>«16+» - для детей старше 16 лет</td>\n",
       "      <td>0.0</td>\n",
       "      <td>35000000.0</td>\n",
       "      <td>0.0</td>\n",
       "      <td>Фонд кино</td>\n",
       "      <td>5.1</td>\n",
       "      <td>комедия,мелодрама</td>\n",
       "      <td>7.293778e+07</td>\n",
       "    </tr>\n",
       "    <tr>\n",
       "      <th>2874</th>\n",
       "      <td>Помню - не помню!</td>\n",
       "      <td>111004916</td>\n",
       "      <td>2016-03-01 12:00:00+00:00</td>\n",
       "      <td>Художественный</td>\n",
       "      <td>ООО \"КиноФирма\"</td>\n",
       "      <td>Россия</td>\n",
       "      <td>В.Ровенский</td>\n",
       "      <td>ООО \"КиноФирма\"</td>\n",
       "      <td>«12+» - для детей старше 12 лет</td>\n",
       "      <td>0.0</td>\n",
       "      <td>6000000.0</td>\n",
       "      <td>0.0</td>\n",
       "      <td>Министерство культуры</td>\n",
       "      <td>4.3</td>\n",
       "      <td>комедия</td>\n",
       "      <td>1.536293e+07</td>\n",
       "    </tr>\n",
       "    <tr>\n",
       "      <th>3047</th>\n",
       "      <td>Любовь с ограничениями</td>\n",
       "      <td>111008216</td>\n",
       "      <td>2016-04-29 12:00:00+00:00</td>\n",
       "      <td>Художественный</td>\n",
       "      <td>АО \"ВайТ Медиа\", ООО \"Арт Пикчерс Студия\"</td>\n",
       "      <td>Россия</td>\n",
       "      <td>Д.Тюрин</td>\n",
       "      <td>Ф.Бондарчук, Т.Вайнштейн, Д.Рудовский</td>\n",
       "      <td>«16+» - для детей старше 16 лет</td>\n",
       "      <td>19000000.0</td>\n",
       "      <td>51000000.0</td>\n",
       "      <td>0.0</td>\n",
       "      <td>Фонд кино</td>\n",
       "      <td>6.3</td>\n",
       "      <td>комедия,мелодрама</td>\n",
       "      <td>7.029905e+07</td>\n",
       "    </tr>\n",
       "    <tr>\n",
       "      <th>3565</th>\n",
       "      <td>Притяжение (2016)</td>\n",
       "      <td>111018116</td>\n",
       "      <td>2016-12-16 12:00:00+00:00</td>\n",
       "      <td>Художественный</td>\n",
       "      <td>ООО \"Водород 2011\",  ООО \"Арт Пикчерс Студия\"</td>\n",
       "      <td>Россия</td>\n",
       "      <td>Ф.Бондарчук</td>\n",
       "      <td>ООО \"Арт Пикчерс Студия\"</td>\n",
       "      <td>«12+» - для детей старше 12 лет</td>\n",
       "      <td>0.0</td>\n",
       "      <td>250000000.0</td>\n",
       "      <td>0.0</td>\n",
       "      <td>Фонд кино</td>\n",
       "      <td>5.6</td>\n",
       "      <td>фантастика</td>\n",
       "      <td>1.038321e+09</td>\n",
       "    </tr>\n",
       "    <tr>\n",
       "      <th>3675</th>\n",
       "      <td>Чудо-юдо</td>\n",
       "      <td>114001817</td>\n",
       "      <td>2017-06-27 12:00:00+00:00</td>\n",
       "      <td>Анимационный</td>\n",
       "      <td>ООО \"КиноФирма\"</td>\n",
       "      <td>Россия</td>\n",
       "      <td>А.Лукичев</td>\n",
       "      <td>ООО \"КиноФирма\"</td>\n",
       "      <td>«6+» - для детей старше 6 лет</td>\n",
       "      <td>20000000.0</td>\n",
       "      <td>20000000.0</td>\n",
       "      <td>0.0</td>\n",
       "      <td>Фонд кино</td>\n",
       "      <td>5.2</td>\n",
       "      <td>мультфильм,фэнтези,семейный</td>\n",
       "      <td>5.510801e+07</td>\n",
       "    </tr>\n",
       "    <tr>\n",
       "      <th>3739</th>\n",
       "      <td>Мифы</td>\n",
       "      <td>111004317</td>\n",
       "      <td>2017-06-07 12:00:00+00:00</td>\n",
       "      <td>Художественный</td>\n",
       "      <td>ООО \"ХАЙПФИЛМ\", ООО \"Арт Пикчерс Студия\"</td>\n",
       "      <td>Россия</td>\n",
       "      <td>А.Молочников</td>\n",
       "      <td>Ф.Бондарчук, Д.Рудовский, И.Стюарт, М.Османн, ...</td>\n",
       "      <td>«16+» - для детей старше 16 лет</td>\n",
       "      <td>25000000.0</td>\n",
       "      <td>20000000.0</td>\n",
       "      <td>0.0</td>\n",
       "      <td>Фонд кино</td>\n",
       "      <td>4.8</td>\n",
       "      <td>комедия</td>\n",
       "      <td>5.045195e+07</td>\n",
       "    </tr>\n",
       "    <tr>\n",
       "      <th>5673</th>\n",
       "      <td>Селфи</td>\n",
       "      <td>111012117</td>\n",
       "      <td>2018-02-01 12:00:00+00:00</td>\n",
       "      <td>Художественный</td>\n",
       "      <td>ООО \"Киностудия \"Слово\", ООО \"Арт Пикчерс Студия\"</td>\n",
       "      <td>Россия</td>\n",
       "      <td>Н.Хомерики</td>\n",
       "      <td>П.Ануров, Ф.Бондарчук, Д.Рудовский</td>\n",
       "      <td>«16+» - для детей старше 16 лет</td>\n",
       "      <td>20000000.0</td>\n",
       "      <td>40000000.0</td>\n",
       "      <td>0.0</td>\n",
       "      <td>Фонд кино</td>\n",
       "      <td>5.8</td>\n",
       "      <td>триллер,драма</td>\n",
       "      <td>2.251964e+08</td>\n",
       "    </tr>\n",
       "    <tr>\n",
       "      <th>5806</th>\n",
       "      <td>Два хвоста</td>\n",
       "      <td>114001018</td>\n",
       "      <td>2018-05-31 12:00:00+00:00</td>\n",
       "      <td>Анимационный</td>\n",
       "      <td>ООО \"ЛИЦЕНЗИОННЫЕ БРЕНДЫ\"</td>\n",
       "      <td>Россия</td>\n",
       "      <td>В.Ровенский, Н.Лопато, В.Азеев</td>\n",
       "      <td>ООО \"ЛИЦЕНЗИОННЫЕ БРЕНДЫ\"</td>\n",
       "      <td>«6+» - для детей старше 6 лет</td>\n",
       "      <td>10000000.0</td>\n",
       "      <td>60000000.0</td>\n",
       "      <td>0.0</td>\n",
       "      <td>Фонд кино</td>\n",
       "      <td>5.0</td>\n",
       "      <td>мультфильм,детский</td>\n",
       "      <td>1.065143e+08</td>\n",
       "    </tr>\n",
       "    <tr>\n",
       "      <th>6008</th>\n",
       "      <td>Принцесса и дракон</td>\n",
       "      <td>114003018</td>\n",
       "      <td>2018-08-23 12:00:00+00:00</td>\n",
       "      <td>Анимационный</td>\n",
       "      <td>ООО \"ЛИЦЕНЗИОННЫЕ БРЕНДЫ\"</td>\n",
       "      <td>Россия</td>\n",
       "      <td>М.Нефедова</td>\n",
       "      <td>ООО \"ЛИЦЕНЗИОННЫЕ БРЕНДЫ\"</td>\n",
       "      <td>«6+» - для детей старше 6 лет</td>\n",
       "      <td>40000000.0</td>\n",
       "      <td>40000000.0</td>\n",
       "      <td>0.0</td>\n",
       "      <td>Фонд кино</td>\n",
       "      <td>5.2</td>\n",
       "      <td>мультфильм,фэнтези,детский</td>\n",
       "      <td>8.336633e+07</td>\n",
       "    </tr>\n",
       "    <tr>\n",
       "      <th>6323</th>\n",
       "      <td>Баба Яга</td>\n",
       "      <td>114006518</td>\n",
       "      <td>2018-11-08 12:00:00+00:00</td>\n",
       "      <td>Анимационный</td>\n",
       "      <td>ООО \"Арт Пикчерс Студия\"</td>\n",
       "      <td>Россия</td>\n",
       "      <td>В.Саков</td>\n",
       "      <td>ООО \"Арт Пикчерс Студия\", ООО \"КРИЭЙТИВ АНИМЭЙ...</td>\n",
       "      <td>«6+» - для детей старше 6 лет</td>\n",
       "      <td>0.0</td>\n",
       "      <td>138969465.0</td>\n",
       "      <td>0.0</td>\n",
       "      <td>Фонд кино</td>\n",
       "      <td>NaN</td>\n",
       "      <td>NaN</td>\n",
       "      <td>1.334699e+06</td>\n",
       "    </tr>\n",
       "    <tr>\n",
       "      <th>6823</th>\n",
       "      <td>Большое путешествие</td>\n",
       "      <td>114002419</td>\n",
       "      <td>2019-04-20 12:00:00+00:00</td>\n",
       "      <td>Анимационный</td>\n",
       "      <td>ООО \"ЛИЦЕНЗИОННЫЕ БРЕНДЫ\"</td>\n",
       "      <td>Россия</td>\n",
       "      <td>Н.Лопато, В.Ровенский</td>\n",
       "      <td>ООО \"ЛИЦЕНЗИОННЫЕ БРЕНДЫ\"</td>\n",
       "      <td>«6+» - для детей старше 6 лет</td>\n",
       "      <td>60000000.0</td>\n",
       "      <td>120000000.0</td>\n",
       "      <td>0.0</td>\n",
       "      <td>Фонд кино</td>\n",
       "      <td>6.2</td>\n",
       "      <td>мультфильм,комедия,приключения</td>\n",
       "      <td>1.476068e+08</td>\n",
       "    </tr>\n",
       "  </tbody>\n",
       "</table>\n",
       "</div>"
      ],
      "text/plain": [
       "                       title   puNumber           show_start_date  \\\n",
       "2053                     14+  111023614 2014-12-19 12:00:00+00:00   \n",
       "2058               Дуxless 2  111000415 2015-01-26 12:00:00+00:00   \n",
       "2472             Воин (2015)  111017315 2015-09-28 12:00:00+00:00   \n",
       "2532                 Бармен.  111009615 2015-05-26 12:00:00+00:00   \n",
       "2615     Савва. Сердце воина  114001715 2015-07-21 12:00:00+00:00   \n",
       "2684          Тряпичный союз  111010215 2015-06-08 12:00:00+00:00   \n",
       "2788      Срочно выйду замуж  111017115 2015-09-30 12:00:00+00:00   \n",
       "2874       Помню - не помню!  111004916 2016-03-01 12:00:00+00:00   \n",
       "3047  Любовь с ограничениями  111008216 2016-04-29 12:00:00+00:00   \n",
       "3565       Притяжение (2016)  111018116 2016-12-16 12:00:00+00:00   \n",
       "3675                Чудо-юдо  114001817 2017-06-27 12:00:00+00:00   \n",
       "3739                    Мифы  111004317 2017-06-07 12:00:00+00:00   \n",
       "5673                   Селфи  111012117 2018-02-01 12:00:00+00:00   \n",
       "5806              Два хвоста  114001018 2018-05-31 12:00:00+00:00   \n",
       "6008      Принцесса и дракон  114003018 2018-08-23 12:00:00+00:00   \n",
       "6323                Баба Яга  114006518 2018-11-08 12:00:00+00:00   \n",
       "6823     Большое путешествие  114002419 2019-04-20 12:00:00+00:00   \n",
       "\n",
       "                type                                        film_studio  \\\n",
       "2053  Художественный                         ООО Киностудия  \"Сентябрь\"   \n",
       "2058  Художественный  ООО \"Киностудия \"Слово\", ООО \"Арт Пикчерс Студия\"   \n",
       "2472  Художественный   ООО \"Форпост Продакшн\", ООО \"Арт Пикчерс Студия\"   \n",
       "2532  Художественный          АО \"ВайТ Медиа\", ООО \"Арт Пикчерс Студия\"   \n",
       "2615    Анимационный   ООО \"Глюкоза Продакшн\", ООО \"Арт Пикчерс Студия\"   \n",
       "2684  Художественный                      ООО \"Кинокомпания \"КОКТЕБЕЛЬ\"   \n",
       "2788  Художественный          АО \"ВайТ Медиа\", ООО \"Арт Пикчерс Студия\"   \n",
       "2874  Художественный                                    ООО \"КиноФирма\"   \n",
       "3047  Художественный          АО \"ВайТ Медиа\", ООО \"Арт Пикчерс Студия\"   \n",
       "3565  Художественный      ООО \"Водород 2011\",  ООО \"Арт Пикчерс Студия\"   \n",
       "3675    Анимационный                                    ООО \"КиноФирма\"   \n",
       "3739  Художественный           ООО \"ХАЙПФИЛМ\", ООО \"Арт Пикчерс Студия\"   \n",
       "5673  Художественный  ООО \"Киностудия \"Слово\", ООО \"Арт Пикчерс Студия\"   \n",
       "5806    Анимационный                          ООО \"ЛИЦЕНЗИОННЫЕ БРЕНДЫ\"   \n",
       "6008    Анимационный                          ООО \"ЛИЦЕНЗИОННЫЕ БРЕНДЫ\"   \n",
       "6323    Анимационный                           ООО \"Арт Пикчерс Студия\"   \n",
       "6823    Анимационный                          ООО \"ЛИЦЕНЗИОННЫЕ БРЕНДЫ\"   \n",
       "\n",
       "     production_country                        director  \\\n",
       "2053             Россия                        А.Зайцев   \n",
       "2058             Россия                      Р.Прыгунов   \n",
       "2472             Россия                     А.Андрианов   \n",
       "2532             Россия                    Д.Штурманова   \n",
       "2615             Россия                        М.Фадеев   \n",
       "2684             Россия                     М.Местецкий   \n",
       "2788             Россия                       С Чекалов   \n",
       "2874             Россия                     В.Ровенский   \n",
       "3047             Россия                         Д.Тюрин   \n",
       "3565             Россия                     Ф.Бондарчук   \n",
       "3675             Россия                       А.Лукичев   \n",
       "3739             Россия                    А.Молочников   \n",
       "5673             Россия                      Н.Хомерики   \n",
       "5806             Россия  В.Ровенский, Н.Лопато, В.Азеев   \n",
       "6008             Россия                      М.Нефедова   \n",
       "6323             Россия                         В.Саков   \n",
       "6823             Россия           Н.Лопато, В.Ровенский   \n",
       "\n",
       "                                               producer  \\\n",
       "2053                                О.Гранина, А.Зайцев   \n",
       "2058                 П.Ануров, Ф.Бондарчук, Д.Рудовский   \n",
       "2472                           ООО \"Арт Пикчерс Студия\"   \n",
       "2532                                        Т.Вайнштейн   \n",
       "2615                                         А.Чистяков   \n",
       "2684                              Р.Борисевич, А.Кушаев   \n",
       "2788              Ф.Бондарчук, Т.Вайнштейн, Д.Рудовский   \n",
       "2874                                    ООО \"КиноФирма\"   \n",
       "3047              Ф.Бондарчук, Т.Вайнштейн, Д.Рудовский   \n",
       "3565                           ООО \"Арт Пикчерс Студия\"   \n",
       "3675                                    ООО \"КиноФирма\"   \n",
       "3739  Ф.Бондарчук, Д.Рудовский, И.Стюарт, М.Османн, ...   \n",
       "5673                 П.Ануров, Ф.Бондарчук, Д.Рудовский   \n",
       "5806                          ООО \"ЛИЦЕНЗИОННЫЕ БРЕНДЫ\"   \n",
       "6008                          ООО \"ЛИЦЕНЗИОННЫЕ БРЕНДЫ\"   \n",
       "6323  ООО \"Арт Пикчерс Студия\", ООО \"КРИЭЙТИВ АНИМЭЙ...   \n",
       "6823                          ООО \"ЛИЦЕНЗИОННЫЕ БРЕНДЫ\"   \n",
       "\n",
       "                      age_restriction  refundable_support  \\\n",
       "2053  «16+» - для детей старше 16 лет                 0.0   \n",
       "2058  «16+» - для детей старше 16 лет                 0.0   \n",
       "2472  «12+» - для детей старше 12 лет          10000000.0   \n",
       "2532  «16+» - для детей старше 16 лет          20000000.0   \n",
       "2615    «6+» - для детей старше 6 лет          60000000.0   \n",
       "2684      «18+» - запрещено для детей                 0.0   \n",
       "2788  «16+» - для детей старше 16 лет                 0.0   \n",
       "2874  «12+» - для детей старше 12 лет                 0.0   \n",
       "3047  «16+» - для детей старше 16 лет          19000000.0   \n",
       "3565  «12+» - для детей старше 12 лет                 0.0   \n",
       "3675    «6+» - для детей старше 6 лет          20000000.0   \n",
       "3739  «16+» - для детей старше 16 лет          25000000.0   \n",
       "5673  «16+» - для детей старше 16 лет          20000000.0   \n",
       "5806    «6+» - для детей старше 6 лет          10000000.0   \n",
       "6008    «6+» - для детей старше 6 лет          40000000.0   \n",
       "6323    «6+» - для детей старше 6 лет                 0.0   \n",
       "6823    «6+» - для детей старше 6 лет          60000000.0   \n",
       "\n",
       "      nonrefundable_support  budget                  financing_source  \\\n",
       "2053             23000000.0     0.0  Министерство культуры, Фонд кино   \n",
       "2058             75000000.0     0.0                         Фонд кино   \n",
       "2472             70000000.0     0.0                         Фонд кино   \n",
       "2532                    0.0     0.0                         Фонд кино   \n",
       "2615            100000000.0     0.0                         Фонд кино   \n",
       "2684             59000000.0     0.0                         Фонд кино   \n",
       "2788             35000000.0     0.0                         Фонд кино   \n",
       "2874              6000000.0     0.0             Министерство культуры   \n",
       "3047             51000000.0     0.0                         Фонд кино   \n",
       "3565            250000000.0     0.0                         Фонд кино   \n",
       "3675             20000000.0     0.0                         Фонд кино   \n",
       "3739             20000000.0     0.0                         Фонд кино   \n",
       "5673             40000000.0     0.0                         Фонд кино   \n",
       "5806             60000000.0     0.0                         Фонд кино   \n",
       "6008             40000000.0     0.0                         Фонд кино   \n",
       "6323            138969465.0     0.0                         Фонд кино   \n",
       "6823            120000000.0     0.0                         Фонд кино   \n",
       "\n",
       "      ratings                          genres    box_office  \n",
       "2053      6.6                       мелодрама  1.023402e+07  \n",
       "2058      6.6                           драма  4.461635e+08  \n",
       "2472      7.8           боевик,драма,криминал  1.965724e+08  \n",
       "2532      6.2                 комедия,фэнтези  6.741897e+07  \n",
       "2615      4.6  мультфильм,приключения,фэнтези  1.844876e+08  \n",
       "2684      6.3                   комедия,драма  1.957739e+06  \n",
       "2788      5.1               комедия,мелодрама  7.293778e+07  \n",
       "2874      4.3                         комедия  1.536293e+07  \n",
       "3047      6.3               комедия,мелодрама  7.029905e+07  \n",
       "3565      5.6                      фантастика  1.038321e+09  \n",
       "3675      5.2     мультфильм,фэнтези,семейный  5.510801e+07  \n",
       "3739      4.8                         комедия  5.045195e+07  \n",
       "5673      5.8                   триллер,драма  2.251964e+08  \n",
       "5806      5.0              мультфильм,детский  1.065143e+08  \n",
       "6008      5.2      мультфильм,фэнтези,детский  8.336633e+07  \n",
       "6323      NaN                             NaN  1.334699e+06  \n",
       "6823      6.2  мультфильм,комедия,приключения  1.476068e+08  "
      ]
     },
     "execution_count": 27,
     "metadata": {},
     "output_type": "execute_result"
    }
   ],
   "source": [
    "#Выводим таблицу с аномальными значениями 'budget'\n",
    "invalid_budget = df[df['budget'] < (df['refundable_support'] + df['nonrefundable_support'])]\n",
    "invalid_budget"
   ]
  },
  {
   "cell_type": "code",
   "execution_count": 28,
   "metadata": {},
   "outputs": [
    {
     "name": "stdout",
     "output_type": "stream",
     "text": [
      "Чаще всего доля участия государства в бюджете составляет 0.6140376284219444\n",
      "\n"
     ]
    },
    {
     "data": {
      "image/png": "[encoded data removed]",
      "text/plain": [
       "<Figure size 864x576 with 1 Axes>"
      ]
     },
     "metadata": {
      "needs_background": "light"
     },
     "output_type": "display_data"
    }
   ],
   "source": [
    "#Создаем диаграмму рассеяния зависимости бюджета от господдержки\n",
    "ax = df.plot.scatter(\n",
    "    title='Зависимость размера бюджета от объёма господдержки',\n",
    "    label='объём возвратных средств',\n",
    "    x='budget',\n",
    "    y='refundable_support',\n",
    "    color='blue',\n",
    "    alpha=0.3\n",
    ")\n",
    "\n",
    "df.plot.scatter(\n",
    "    label='объём невозвратных средств',\n",
    "    x='budget', y='nonrefundable_support',\n",
    "    color='green',\n",
    "    alpha=0.3,\n",
    "    ax=ax)\n",
    "#Вычисляем долю участия в бюжете государства\n",
    "df['support_percentage'] = (df['refundable_support'] + df['nonrefundable_support']) / df['budget']\n",
    "support_percentage = df['support_percentage'].median()\n",
    "\n",
    "print('Чаще всего доля участия государства в бюджете составляет', support_percentage)\n",
    "print()"
   ]
  },
  {
   "cell_type": "code",
   "execution_count": 29,
   "metadata": {},
   "outputs": [
    {
     "data": {
      "text/html": [
       "<div>\n",
       "<style scoped>\n",
       "    .dataframe tbody tr th:only-of-type {\n",
       "        vertical-align: middle;\n",
       "    }\n",
       "\n",
       "    .dataframe tbody tr th {\n",
       "        vertical-align: top;\n",
       "    }\n",
       "\n",
       "    .dataframe thead th {\n",
       "        text-align: right;\n",
       "    }\n",
       "</style>\n",
       "<table border=\"1\" class=\"dataframe\">\n",
       "  <thead>\n",
       "    <tr style=\"text-align: right;\">\n",
       "      <th></th>\n",
       "      <th>title</th>\n",
       "      <th>puNumber</th>\n",
       "      <th>show_start_date</th>\n",
       "      <th>type</th>\n",
       "      <th>film_studio</th>\n",
       "      <th>production_country</th>\n",
       "      <th>director</th>\n",
       "      <th>producer</th>\n",
       "      <th>age_restriction</th>\n",
       "      <th>refundable_support</th>\n",
       "      <th>nonrefundable_support</th>\n",
       "      <th>budget</th>\n",
       "      <th>financing_source</th>\n",
       "      <th>ratings</th>\n",
       "      <th>genres</th>\n",
       "      <th>box_office</th>\n",
       "      <th>support_percentage</th>\n",
       "    </tr>\n",
       "  </thead>\n",
       "  <tbody>\n",
       "    <tr>\n",
       "      <th>2053</th>\n",
       "      <td>14+</td>\n",
       "      <td>111023614</td>\n",
       "      <td>2014-12-19 12:00:00+00:00</td>\n",
       "      <td>Художественный</td>\n",
       "      <td>ООО Киностудия  \"Сентябрь\"</td>\n",
       "      <td>Россия</td>\n",
       "      <td>А.Зайцев</td>\n",
       "      <td>О.Гранина, А.Зайцев</td>\n",
       "      <td>«16+» - для детей старше 16 лет</td>\n",
       "      <td>0.0</td>\n",
       "      <td>23000000.0</td>\n",
       "      <td>3.745699e+07</td>\n",
       "      <td>Министерство культуры, Фонд кино</td>\n",
       "      <td>6.6</td>\n",
       "      <td>мелодрама</td>\n",
       "      <td>1.023402e+07</td>\n",
       "      <td>inf</td>\n",
       "    </tr>\n",
       "    <tr>\n",
       "      <th>2058</th>\n",
       "      <td>Дуxless 2</td>\n",
       "      <td>111000415</td>\n",
       "      <td>2015-01-26 12:00:00+00:00</td>\n",
       "      <td>Художественный</td>\n",
       "      <td>ООО \"Киностудия \"Слово\", ООО \"Арт Пикчерс Студия\"</td>\n",
       "      <td>Россия</td>\n",
       "      <td>Р.Прыгунов</td>\n",
       "      <td>П.Ануров, Ф.Бондарчук, Д.Рудовский</td>\n",
       "      <td>«16+» - для детей старше 16 лет</td>\n",
       "      <td>0.0</td>\n",
       "      <td>75000000.0</td>\n",
       "      <td>1.221424e+08</td>\n",
       "      <td>Фонд кино</td>\n",
       "      <td>6.6</td>\n",
       "      <td>драма</td>\n",
       "      <td>4.461635e+08</td>\n",
       "      <td>inf</td>\n",
       "    </tr>\n",
       "    <tr>\n",
       "      <th>2472</th>\n",
       "      <td>Воин (2015)</td>\n",
       "      <td>111017315</td>\n",
       "      <td>2015-09-28 12:00:00+00:00</td>\n",
       "      <td>Художественный</td>\n",
       "      <td>ООО \"Форпост Продакшн\", ООО \"Арт Пикчерс Студия\"</td>\n",
       "      <td>Россия</td>\n",
       "      <td>А.Андрианов</td>\n",
       "      <td>ООО \"Арт Пикчерс Студия\"</td>\n",
       "      <td>«12+» - для детей старше 12 лет</td>\n",
       "      <td>10000000.0</td>\n",
       "      <td>70000000.0</td>\n",
       "      <td>1.302852e+08</td>\n",
       "      <td>Фонд кино</td>\n",
       "      <td>7.8</td>\n",
       "      <td>боевик,драма,криминал</td>\n",
       "      <td>1.965724e+08</td>\n",
       "      <td>inf</td>\n",
       "    </tr>\n",
       "    <tr>\n",
       "      <th>2532</th>\n",
       "      <td>Бармен.</td>\n",
       "      <td>111009615</td>\n",
       "      <td>2015-05-26 12:00:00+00:00</td>\n",
       "      <td>Художественный</td>\n",
       "      <td>АО \"ВайТ Медиа\", ООО \"Арт Пикчерс Студия\"</td>\n",
       "      <td>Россия</td>\n",
       "      <td>Д.Штурманова</td>\n",
       "      <td>Т.Вайнштейн</td>\n",
       "      <td>«16+» - для детей старше 16 лет</td>\n",
       "      <td>20000000.0</td>\n",
       "      <td>0.0</td>\n",
       "      <td>3.257129e+07</td>\n",
       "      <td>Фонд кино</td>\n",
       "      <td>6.2</td>\n",
       "      <td>комедия,фэнтези</td>\n",
       "      <td>6.741897e+07</td>\n",
       "      <td>inf</td>\n",
       "    </tr>\n",
       "    <tr>\n",
       "      <th>2615</th>\n",
       "      <td>Савва. Сердце воина</td>\n",
       "      <td>114001715</td>\n",
       "      <td>2015-07-21 12:00:00+00:00</td>\n",
       "      <td>Анимационный</td>\n",
       "      <td>ООО \"Глюкоза Продакшн\", ООО \"Арт Пикчерс Студия\"</td>\n",
       "      <td>Россия</td>\n",
       "      <td>М.Фадеев</td>\n",
       "      <td>А.Чистяков</td>\n",
       "      <td>«6+» - для детей старше 6 лет</td>\n",
       "      <td>60000000.0</td>\n",
       "      <td>100000000.0</td>\n",
       "      <td>2.605704e+08</td>\n",
       "      <td>Фонд кино</td>\n",
       "      <td>4.6</td>\n",
       "      <td>мультфильм,приключения,фэнтези</td>\n",
       "      <td>1.844876e+08</td>\n",
       "      <td>inf</td>\n",
       "    </tr>\n",
       "    <tr>\n",
       "      <th>2684</th>\n",
       "      <td>Тряпичный союз</td>\n",
       "      <td>111010215</td>\n",
       "      <td>2015-06-08 12:00:00+00:00</td>\n",
       "      <td>Художественный</td>\n",
       "      <td>ООО \"Кинокомпания \"КОКТЕБЕЛЬ\"</td>\n",
       "      <td>Россия</td>\n",
       "      <td>М.Местецкий</td>\n",
       "      <td>Р.Борисевич, А.Кушаев</td>\n",
       "      <td>«18+» - запрещено для детей</td>\n",
       "      <td>0.0</td>\n",
       "      <td>59000000.0</td>\n",
       "      <td>9.608532e+07</td>\n",
       "      <td>Фонд кино</td>\n",
       "      <td>6.3</td>\n",
       "      <td>комедия,драма</td>\n",
       "      <td>1.957739e+06</td>\n",
       "      <td>inf</td>\n",
       "    </tr>\n",
       "    <tr>\n",
       "      <th>2788</th>\n",
       "      <td>Срочно выйду замуж</td>\n",
       "      <td>111017115</td>\n",
       "      <td>2015-09-30 12:00:00+00:00</td>\n",
       "      <td>Художественный</td>\n",
       "      <td>АО \"ВайТ Медиа\", ООО \"Арт Пикчерс Студия\"</td>\n",
       "      <td>Россия</td>\n",
       "      <td>С Чекалов</td>\n",
       "      <td>Ф.Бондарчук, Т.Вайнштейн, Д.Рудовский</td>\n",
       "      <td>«16+» - для детей старше 16 лет</td>\n",
       "      <td>0.0</td>\n",
       "      <td>35000000.0</td>\n",
       "      <td>5.699976e+07</td>\n",
       "      <td>Фонд кино</td>\n",
       "      <td>5.1</td>\n",
       "      <td>комедия,мелодрама</td>\n",
       "      <td>7.293778e+07</td>\n",
       "      <td>inf</td>\n",
       "    </tr>\n",
       "    <tr>\n",
       "      <th>2874</th>\n",
       "      <td>Помню - не помню!</td>\n",
       "      <td>111004916</td>\n",
       "      <td>2016-03-01 12:00:00+00:00</td>\n",
       "      <td>Художественный</td>\n",
       "      <td>ООО \"КиноФирма\"</td>\n",
       "      <td>Россия</td>\n",
       "      <td>В.Ровенский</td>\n",
       "      <td>ООО \"КиноФирма\"</td>\n",
       "      <td>«12+» - для детей старше 12 лет</td>\n",
       "      <td>0.0</td>\n",
       "      <td>6000000.0</td>\n",
       "      <td>9.771388e+06</td>\n",
       "      <td>Министерство культуры</td>\n",
       "      <td>4.3</td>\n",
       "      <td>комедия</td>\n",
       "      <td>1.536293e+07</td>\n",
       "      <td>inf</td>\n",
       "    </tr>\n",
       "    <tr>\n",
       "      <th>3047</th>\n",
       "      <td>Любовь с ограничениями</td>\n",
       "      <td>111008216</td>\n",
       "      <td>2016-04-29 12:00:00+00:00</td>\n",
       "      <td>Художественный</td>\n",
       "      <td>АО \"ВайТ Медиа\", ООО \"Арт Пикчерс Студия\"</td>\n",
       "      <td>Россия</td>\n",
       "      <td>Д.Тюрин</td>\n",
       "      <td>Ф.Бондарчук, Т.Вайнштейн, Д.Рудовский</td>\n",
       "      <td>«16+» - для детей старше 16 лет</td>\n",
       "      <td>19000000.0</td>\n",
       "      <td>51000000.0</td>\n",
       "      <td>1.139995e+08</td>\n",
       "      <td>Фонд кино</td>\n",
       "      <td>6.3</td>\n",
       "      <td>комедия,мелодрама</td>\n",
       "      <td>7.029905e+07</td>\n",
       "      <td>inf</td>\n",
       "    </tr>\n",
       "    <tr>\n",
       "      <th>3565</th>\n",
       "      <td>Притяжение (2016)</td>\n",
       "      <td>111018116</td>\n",
       "      <td>2016-12-16 12:00:00+00:00</td>\n",
       "      <td>Художественный</td>\n",
       "      <td>ООО \"Водород 2011\",  ООО \"Арт Пикчерс Студия\"</td>\n",
       "      <td>Россия</td>\n",
       "      <td>Ф.Бондарчук</td>\n",
       "      <td>ООО \"Арт Пикчерс Студия\"</td>\n",
       "      <td>«12+» - для детей старше 12 лет</td>\n",
       "      <td>0.0</td>\n",
       "      <td>250000000.0</td>\n",
       "      <td>4.071412e+08</td>\n",
       "      <td>Фонд кино</td>\n",
       "      <td>5.6</td>\n",
       "      <td>фантастика</td>\n",
       "      <td>1.038321e+09</td>\n",
       "      <td>inf</td>\n",
       "    </tr>\n",
       "    <tr>\n",
       "      <th>3675</th>\n",
       "      <td>Чудо-юдо</td>\n",
       "      <td>114001817</td>\n",
       "      <td>2017-06-27 12:00:00+00:00</td>\n",
       "      <td>Анимационный</td>\n",
       "      <td>ООО \"КиноФирма\"</td>\n",
       "      <td>Россия</td>\n",
       "      <td>А.Лукичев</td>\n",
       "      <td>ООО \"КиноФирма\"</td>\n",
       "      <td>«6+» - для детей старше 6 лет</td>\n",
       "      <td>20000000.0</td>\n",
       "      <td>20000000.0</td>\n",
       "      <td>6.514259e+07</td>\n",
       "      <td>Фонд кино</td>\n",
       "      <td>5.2</td>\n",
       "      <td>мультфильм,фэнтези,семейный</td>\n",
       "      <td>5.510801e+07</td>\n",
       "      <td>inf</td>\n",
       "    </tr>\n",
       "    <tr>\n",
       "      <th>3739</th>\n",
       "      <td>Мифы</td>\n",
       "      <td>111004317</td>\n",
       "      <td>2017-06-07 12:00:00+00:00</td>\n",
       "      <td>Художественный</td>\n",
       "      <td>ООО \"ХАЙПФИЛМ\", ООО \"Арт Пикчерс Студия\"</td>\n",
       "      <td>Россия</td>\n",
       "      <td>А.Молочников</td>\n",
       "      <td>Ф.Бондарчук, Д.Рудовский, И.Стюарт, М.Османн, ...</td>\n",
       "      <td>«16+» - для детей старше 16 лет</td>\n",
       "      <td>25000000.0</td>\n",
       "      <td>20000000.0</td>\n",
       "      <td>7.328541e+07</td>\n",
       "      <td>Фонд кино</td>\n",
       "      <td>4.8</td>\n",
       "      <td>комедия</td>\n",
       "      <td>5.045195e+07</td>\n",
       "      <td>inf</td>\n",
       "    </tr>\n",
       "    <tr>\n",
       "      <th>5673</th>\n",
       "      <td>Селфи</td>\n",
       "      <td>111012117</td>\n",
       "      <td>2018-02-01 12:00:00+00:00</td>\n",
       "      <td>Художественный</td>\n",
       "      <td>ООО \"Киностудия \"Слово\", ООО \"Арт Пикчерс Студия\"</td>\n",
       "      <td>Россия</td>\n",
       "      <td>Н.Хомерики</td>\n",
       "      <td>П.Ануров, Ф.Бондарчук, Д.Рудовский</td>\n",
       "      <td>«16+» - для детей старше 16 лет</td>\n",
       "      <td>20000000.0</td>\n",
       "      <td>40000000.0</td>\n",
       "      <td>9.771388e+07</td>\n",
       "      <td>Фонд кино</td>\n",
       "      <td>5.8</td>\n",
       "      <td>триллер,драма</td>\n",
       "      <td>2.251964e+08</td>\n",
       "      <td>inf</td>\n",
       "    </tr>\n",
       "    <tr>\n",
       "      <th>5806</th>\n",
       "      <td>Два хвоста</td>\n",
       "      <td>114001018</td>\n",
       "      <td>2018-05-31 12:00:00+00:00</td>\n",
       "      <td>Анимационный</td>\n",
       "      <td>ООО \"ЛИЦЕНЗИОННЫЕ БРЕНДЫ\"</td>\n",
       "      <td>Россия</td>\n",
       "      <td>В.Ровенский, Н.Лопато, В.Азеев</td>\n",
       "      <td>ООО \"ЛИЦЕНЗИОННЫЕ БРЕНДЫ\"</td>\n",
       "      <td>«6+» - для детей старше 6 лет</td>\n",
       "      <td>10000000.0</td>\n",
       "      <td>60000000.0</td>\n",
       "      <td>1.139995e+08</td>\n",
       "      <td>Фонд кино</td>\n",
       "      <td>5.0</td>\n",
       "      <td>мультфильм,детский</td>\n",
       "      <td>1.065143e+08</td>\n",
       "      <td>inf</td>\n",
       "    </tr>\n",
       "    <tr>\n",
       "      <th>6008</th>\n",
       "      <td>Принцесса и дракон</td>\n",
       "      <td>114003018</td>\n",
       "      <td>2018-08-23 12:00:00+00:00</td>\n",
       "      <td>Анимационный</td>\n",
       "      <td>ООО \"ЛИЦЕНЗИОННЫЕ БРЕНДЫ\"</td>\n",
       "      <td>Россия</td>\n",
       "      <td>М.Нефедова</td>\n",
       "      <td>ООО \"ЛИЦЕНЗИОННЫЕ БРЕНДЫ\"</td>\n",
       "      <td>«6+» - для детей старше 6 лет</td>\n",
       "      <td>40000000.0</td>\n",
       "      <td>40000000.0</td>\n",
       "      <td>1.302852e+08</td>\n",
       "      <td>Фонд кино</td>\n",
       "      <td>5.2</td>\n",
       "      <td>мультфильм,фэнтези,детский</td>\n",
       "      <td>8.336633e+07</td>\n",
       "      <td>inf</td>\n",
       "    </tr>\n",
       "    <tr>\n",
       "      <th>6323</th>\n",
       "      <td>Баба Яга</td>\n",
       "      <td>114006518</td>\n",
       "      <td>2018-11-08 12:00:00+00:00</td>\n",
       "      <td>Анимационный</td>\n",
       "      <td>ООО \"Арт Пикчерс Студия\"</td>\n",
       "      <td>Россия</td>\n",
       "      <td>В.Саков</td>\n",
       "      <td>ООО \"Арт Пикчерс Студия\", ООО \"КРИЭЙТИВ АНИМЭЙ...</td>\n",
       "      <td>«6+» - для детей старше 6 лет</td>\n",
       "      <td>0.0</td>\n",
       "      <td>138969465.0</td>\n",
       "      <td>2.263208e+08</td>\n",
       "      <td>Фонд кино</td>\n",
       "      <td>NaN</td>\n",
       "      <td>NaN</td>\n",
       "      <td>1.334699e+06</td>\n",
       "      <td>inf</td>\n",
       "    </tr>\n",
       "    <tr>\n",
       "      <th>6823</th>\n",
       "      <td>Большое путешествие</td>\n",
       "      <td>114002419</td>\n",
       "      <td>2019-04-20 12:00:00+00:00</td>\n",
       "      <td>Анимационный</td>\n",
       "      <td>ООО \"ЛИЦЕНЗИОННЫЕ БРЕНДЫ\"</td>\n",
       "      <td>Россия</td>\n",
       "      <td>Н.Лопато, В.Ровенский</td>\n",
       "      <td>ООО \"ЛИЦЕНЗИОННЫЕ БРЕНДЫ\"</td>\n",
       "      <td>«6+» - для детей старше 6 лет</td>\n",
       "      <td>60000000.0</td>\n",
       "      <td>120000000.0</td>\n",
       "      <td>2.931416e+08</td>\n",
       "      <td>Фонд кино</td>\n",
       "      <td>6.2</td>\n",
       "      <td>мультфильм,комедия,приключения</td>\n",
       "      <td>1.476068e+08</td>\n",
       "      <td>inf</td>\n",
       "    </tr>\n",
       "  </tbody>\n",
       "</table>\n",
       "</div>"
      ],
      "text/plain": [
       "                       title   puNumber           show_start_date  \\\n",
       "2053                     14+  111023614 2014-12-19 12:00:00+00:00   \n",
       "2058               Дуxless 2  111000415 2015-01-26 12:00:00+00:00   \n",
       "2472             Воин (2015)  111017315 2015-09-28 12:00:00+00:00   \n",
       "2532                 Бармен.  111009615 2015-05-26 12:00:00+00:00   \n",
       "2615     Савва. Сердце воина  114001715 2015-07-21 12:00:00+00:00   \n",
       "2684          Тряпичный союз  111010215 2015-06-08 12:00:00+00:00   \n",
       "2788      Срочно выйду замуж  111017115 2015-09-30 12:00:00+00:00   \n",
       "2874       Помню - не помню!  111004916 2016-03-01 12:00:00+00:00   \n",
       "3047  Любовь с ограничениями  111008216 2016-04-29 12:00:00+00:00   \n",
       "3565       Притяжение (2016)  111018116 2016-12-16 12:00:00+00:00   \n",
       "3675                Чудо-юдо  114001817 2017-06-27 12:00:00+00:00   \n",
       "3739                    Мифы  111004317 2017-06-07 12:00:00+00:00   \n",
       "5673                   Селфи  111012117 2018-02-01 12:00:00+00:00   \n",
       "5806              Два хвоста  114001018 2018-05-31 12:00:00+00:00   \n",
       "6008      Принцесса и дракон  114003018 2018-08-23 12:00:00+00:00   \n",
       "6323                Баба Яга  114006518 2018-11-08 12:00:00+00:00   \n",
       "6823     Большое путешествие  114002419 2019-04-20 12:00:00+00:00   \n",
       "\n",
       "                type                                        film_studio  \\\n",
       "2053  Художественный                         ООО Киностудия  \"Сентябрь\"   \n",
       "2058  Художественный  ООО \"Киностудия \"Слово\", ООО \"Арт Пикчерс Студия\"   \n",
       "2472  Художественный   ООО \"Форпост Продакшн\", ООО \"Арт Пикчерс Студия\"   \n",
       "2532  Художественный          АО \"ВайТ Медиа\", ООО \"Арт Пикчерс Студия\"   \n",
       "2615    Анимационный   ООО \"Глюкоза Продакшн\", ООО \"Арт Пикчерс Студия\"   \n",
       "2684  Художественный                      ООО \"Кинокомпания \"КОКТЕБЕЛЬ\"   \n",
       "2788  Художественный          АО \"ВайТ Медиа\", ООО \"Арт Пикчерс Студия\"   \n",
       "2874  Художественный                                    ООО \"КиноФирма\"   \n",
       "3047  Художественный          АО \"ВайТ Медиа\", ООО \"Арт Пикчерс Студия\"   \n",
       "3565  Художественный      ООО \"Водород 2011\",  ООО \"Арт Пикчерс Студия\"   \n",
       "3675    Анимационный                                    ООО \"КиноФирма\"   \n",
       "3739  Художественный           ООО \"ХАЙПФИЛМ\", ООО \"Арт Пикчерс Студия\"   \n",
       "5673  Художественный  ООО \"Киностудия \"Слово\", ООО \"Арт Пикчерс Студия\"   \n",
       "5806    Анимационный                          ООО \"ЛИЦЕНЗИОННЫЕ БРЕНДЫ\"   \n",
       "6008    Анимационный                          ООО \"ЛИЦЕНЗИОННЫЕ БРЕНДЫ\"   \n",
       "6323    Анимационный                           ООО \"Арт Пикчерс Студия\"   \n",
       "6823    Анимационный                          ООО \"ЛИЦЕНЗИОННЫЕ БРЕНДЫ\"   \n",
       "\n",
       "     production_country                        director  \\\n",
       "2053             Россия                        А.Зайцев   \n",
       "2058             Россия                      Р.Прыгунов   \n",
       "2472             Россия                     А.Андрианов   \n",
       "2532             Россия                    Д.Штурманова   \n",
       "2615             Россия                        М.Фадеев   \n",
       "2684             Россия                     М.Местецкий   \n",
       "2788             Россия                       С Чекалов   \n",
       "2874             Россия                     В.Ровенский   \n",
       "3047             Россия                         Д.Тюрин   \n",
       "3565             Россия                     Ф.Бондарчук   \n",
       "3675             Россия                       А.Лукичев   \n",
       "3739             Россия                    А.Молочников   \n",
       "5673             Россия                      Н.Хомерики   \n",
       "5806             Россия  В.Ровенский, Н.Лопато, В.Азеев   \n",
       "6008             Россия                      М.Нефедова   \n",
       "6323             Россия                         В.Саков   \n",
       "6823             Россия           Н.Лопато, В.Ровенский   \n",
       "\n",
       "                                               producer  \\\n",
       "2053                                О.Гранина, А.Зайцев   \n",
       "2058                 П.Ануров, Ф.Бондарчук, Д.Рудовский   \n",
       "2472                           ООО \"Арт Пикчерс Студия\"   \n",
       "2532                                        Т.Вайнштейн   \n",
       "2615                                         А.Чистяков   \n",
       "2684                              Р.Борисевич, А.Кушаев   \n",
       "2788              Ф.Бондарчук, Т.Вайнштейн, Д.Рудовский   \n",
       "2874                                    ООО \"КиноФирма\"   \n",
       "3047              Ф.Бондарчук, Т.Вайнштейн, Д.Рудовский   \n",
       "3565                           ООО \"Арт Пикчерс Студия\"   \n",
       "3675                                    ООО \"КиноФирма\"   \n",
       "3739  Ф.Бондарчук, Д.Рудовский, И.Стюарт, М.Османн, ...   \n",
       "5673                 П.Ануров, Ф.Бондарчук, Д.Рудовский   \n",
       "5806                          ООО \"ЛИЦЕНЗИОННЫЕ БРЕНДЫ\"   \n",
       "6008                          ООО \"ЛИЦЕНЗИОННЫЕ БРЕНДЫ\"   \n",
       "6323  ООО \"Арт Пикчерс Студия\", ООО \"КРИЭЙТИВ АНИМЭЙ...   \n",
       "6823                          ООО \"ЛИЦЕНЗИОННЫЕ БРЕНДЫ\"   \n",
       "\n",
       "                      age_restriction  refundable_support  \\\n",
       "2053  «16+» - для детей старше 16 лет                 0.0   \n",
       "2058  «16+» - для детей старше 16 лет                 0.0   \n",
       "2472  «12+» - для детей старше 12 лет          10000000.0   \n",
       "2532  «16+» - для детей старше 16 лет          20000000.0   \n",
       "2615    «6+» - для детей старше 6 лет          60000000.0   \n",
       "2684      «18+» - запрещено для детей                 0.0   \n",
       "2788  «16+» - для детей старше 16 лет                 0.0   \n",
       "2874  «12+» - для детей старше 12 лет                 0.0   \n",
       "3047  «16+» - для детей старше 16 лет          19000000.0   \n",
       "3565  «12+» - для детей старше 12 лет                 0.0   \n",
       "3675    «6+» - для детей старше 6 лет          20000000.0   \n",
       "3739  «16+» - для детей старше 16 лет          25000000.0   \n",
       "5673  «16+» - для детей старше 16 лет          20000000.0   \n",
       "5806    «6+» - для детей старше 6 лет          10000000.0   \n",
       "6008    «6+» - для детей старше 6 лет          40000000.0   \n",
       "6323    «6+» - для детей старше 6 лет                 0.0   \n",
       "6823    «6+» - для детей старше 6 лет          60000000.0   \n",
       "\n",
       "      nonrefundable_support        budget                  financing_source  \\\n",
       "2053             23000000.0  3.745699e+07  Министерство культуры, Фонд кино   \n",
       "2058             75000000.0  1.221424e+08                         Фонд кино   \n",
       "2472             70000000.0  1.302852e+08                         Фонд кино   \n",
       "2532                    0.0  3.257129e+07                         Фонд кино   \n",
       "2615            100000000.0  2.605704e+08                         Фонд кино   \n",
       "2684             59000000.0  9.608532e+07                         Фонд кино   \n",
       "2788             35000000.0  5.699976e+07                         Фонд кино   \n",
       "2874              6000000.0  9.771388e+06             Министерство культуры   \n",
       "3047             51000000.0  1.139995e+08                         Фонд кино   \n",
       "3565            250000000.0  4.071412e+08                         Фонд кино   \n",
       "3675             20000000.0  6.514259e+07                         Фонд кино   \n",
       "3739             20000000.0  7.328541e+07                         Фонд кино   \n",
       "5673             40000000.0  9.771388e+07                         Фонд кино   \n",
       "5806             60000000.0  1.139995e+08                         Фонд кино   \n",
       "6008             40000000.0  1.302852e+08                         Фонд кино   \n",
       "6323            138969465.0  2.263208e+08                         Фонд кино   \n",
       "6823            120000000.0  2.931416e+08                         Фонд кино   \n",
       "\n",
       "      ratings                          genres    box_office  \\\n",
       "2053      6.6                       мелодрама  1.023402e+07   \n",
       "2058      6.6                           драма  4.461635e+08   \n",
       "2472      7.8           боевик,драма,криминал  1.965724e+08   \n",
       "2532      6.2                 комедия,фэнтези  6.741897e+07   \n",
       "2615      4.6  мультфильм,приключения,фэнтези  1.844876e+08   \n",
       "2684      6.3                   комедия,драма  1.957739e+06   \n",
       "2788      5.1               комедия,мелодрама  7.293778e+07   \n",
       "2874      4.3                         комедия  1.536293e+07   \n",
       "3047      6.3               комедия,мелодрама  7.029905e+07   \n",
       "3565      5.6                      фантастика  1.038321e+09   \n",
       "3675      5.2     мультфильм,фэнтези,семейный  5.510801e+07   \n",
       "3739      4.8                         комедия  5.045195e+07   \n",
       "5673      5.8                   триллер,драма  2.251964e+08   \n",
       "5806      5.0              мультфильм,детский  1.065143e+08   \n",
       "6008      5.2      мультфильм,фэнтези,детский  8.336633e+07   \n",
       "6323      NaN                             NaN  1.334699e+06   \n",
       "6823      6.2  мультфильм,комедия,приключения  1.476068e+08   \n",
       "\n",
       "      support_percentage  \n",
       "2053                 inf  \n",
       "2058                 inf  \n",
       "2472                 inf  \n",
       "2532                 inf  \n",
       "2615                 inf  \n",
       "2684                 inf  \n",
       "2788                 inf  \n",
       "2874                 inf  \n",
       "3047                 inf  \n",
       "3565                 inf  \n",
       "3675                 inf  \n",
       "3739                 inf  \n",
       "5673                 inf  \n",
       "5806                 inf  \n",
       "6008                 inf  \n",
       "6323                 inf  \n",
       "6823                 inf  "
      ]
     },
     "execution_count": 29,
     "metadata": {},
     "output_type": "execute_result"
    }
   ],
   "source": [
    "df.loc[invalid_budget.index, 'budget'] = (df.loc[invalid_budget.index, 'refundable_support'] + df.loc[invalid_budget.index, 'nonrefundable_support']) / support_percentage\n",
    "\n",
    "df.loc[invalid_budget.index]"
   ]
  },
  {
   "cell_type": "markdown",
   "metadata": {},
   "source": [
    "- Есть ряд фильмов, которые получали господдержку, но в бюджете стоит 0. \n",
    "- Чаще всего доля участия государства в бюджете составляет 0.613."
   ]
  },
  {
   "cell_type": "markdown",
   "metadata": {},
   "source": [
    "<div class=\"alert alert-success\">\n",
    "    \n",
    "<b> Комментарий от ревьюера ✔️</b>\n",
    "    \n",
    "Здорово, что обратила внимание на ошибку в budget\n",
    "\n",
    "</div>"
   ]
  },
  {
   "cell_type": "markdown",
   "metadata": {
    "id": "Eu6oWp2CgFyS"
   },
   "source": [
    "#### Шаг 2.6. Добавьте новые столбцы\n",
    "\n",
    "\n",
    "\n"
   ]
  },
  {
   "cell_type": "markdown",
   "metadata": {
    "id": "7GgW-UpAgFyS"
   },
   "source": [
    "- Создайте столбец с информацией о годе проката. Выделите год из даты премьеры фильма."
   ]
  },
  {
   "cell_type": "code",
   "execution_count": 30,
   "metadata": {
    "id": "I-yd1DkWgFyT"
   },
   "outputs": [],
   "source": [
    "#Создали колонку с годом проката\n",
    "df['year'] = df['show_start_date'].dt.year"
   ]
  },
  {
   "cell_type": "code",
   "execution_count": 31,
   "metadata": {},
   "outputs": [
    {
     "data": {
      "text/html": [
       "<div>\n",
       "<style scoped>\n",
       "    .dataframe tbody tr th:only-of-type {\n",
       "        vertical-align: middle;\n",
       "    }\n",
       "\n",
       "    .dataframe tbody tr th {\n",
       "        vertical-align: top;\n",
       "    }\n",
       "\n",
       "    .dataframe thead th {\n",
       "        text-align: right;\n",
       "    }\n",
       "</style>\n",
       "<table border=\"1\" class=\"dataframe\">\n",
       "  <thead>\n",
       "    <tr style=\"text-align: right;\">\n",
       "      <th></th>\n",
       "      <th>title</th>\n",
       "      <th>puNumber</th>\n",
       "      <th>show_start_date</th>\n",
       "      <th>type</th>\n",
       "      <th>film_studio</th>\n",
       "      <th>production_country</th>\n",
       "      <th>director</th>\n",
       "      <th>producer</th>\n",
       "      <th>age_restriction</th>\n",
       "      <th>refundable_support</th>\n",
       "      <th>nonrefundable_support</th>\n",
       "      <th>budget</th>\n",
       "      <th>financing_source</th>\n",
       "      <th>ratings</th>\n",
       "      <th>genres</th>\n",
       "      <th>box_office</th>\n",
       "      <th>support_percentage</th>\n",
       "      <th>year</th>\n",
       "    </tr>\n",
       "  </thead>\n",
       "  <tbody>\n",
       "    <tr>\n",
       "      <th>0</th>\n",
       "      <td>Открытый простор</td>\n",
       "      <td>221048915</td>\n",
       "      <td>2015-11-27 12:00:00+00:00</td>\n",
       "      <td>Художественный</td>\n",
       "      <td>Тачстоун Пикчерз, Кобальт Пикчерз, Бикон Пикче...</td>\n",
       "      <td>США</td>\n",
       "      <td>Кевин Костнер</td>\n",
       "      <td>Дэвид Валдес, Кевин Костнер, Джейк Эбертс</td>\n",
       "      <td>«18+» - запрещено для детей</td>\n",
       "      <td>NaN</td>\n",
       "      <td>NaN</td>\n",
       "      <td>NaN</td>\n",
       "      <td>NaN</td>\n",
       "      <td>7.2</td>\n",
       "      <td>боевик,драма,мелодрама</td>\n",
       "      <td>NaN</td>\n",
       "      <td>NaN</td>\n",
       "      <td>2015</td>\n",
       "    </tr>\n",
       "    <tr>\n",
       "      <th>1</th>\n",
       "      <td>Особо важное задание</td>\n",
       "      <td>111013716</td>\n",
       "      <td>2016-09-13 12:00:00+00:00</td>\n",
       "      <td>Художественный</td>\n",
       "      <td>Киностудия \"Мосфильм\"</td>\n",
       "      <td>СССР</td>\n",
       "      <td>Е.Матвеев</td>\n",
       "      <td>NaN</td>\n",
       "      <td>«6+» - для детей старше 6 лет</td>\n",
       "      <td>NaN</td>\n",
       "      <td>NaN</td>\n",
       "      <td>NaN</td>\n",
       "      <td>NaN</td>\n",
       "      <td>6.6</td>\n",
       "      <td>драма,военный</td>\n",
       "      <td>NaN</td>\n",
       "      <td>NaN</td>\n",
       "      <td>2016</td>\n",
       "    </tr>\n",
       "    <tr>\n",
       "      <th>2</th>\n",
       "      <td>Особо опасен</td>\n",
       "      <td>221038416</td>\n",
       "      <td>2016-10-10 12:00:00+00:00</td>\n",
       "      <td>Художественный</td>\n",
       "      <td>Юниверсал Пикчерз, Кикстарт Продакшнз, Марк Пл...</td>\n",
       "      <td>США</td>\n",
       "      <td>Тимур Бекмамбетов</td>\n",
       "      <td>Джим Лемли, Джейсон Нетер, Марк Е.Платт, Яйн Смит</td>\n",
       "      <td>«18+» - запрещено для детей</td>\n",
       "      <td>NaN</td>\n",
       "      <td>NaN</td>\n",
       "      <td>NaN</td>\n",
       "      <td>NaN</td>\n",
       "      <td>6.8</td>\n",
       "      <td>фантастика,боевик,триллер</td>\n",
       "      <td>NaN</td>\n",
       "      <td>NaN</td>\n",
       "      <td>2016</td>\n",
       "    </tr>\n",
       "    <tr>\n",
       "      <th>3</th>\n",
       "      <td>Особо опасен</td>\n",
       "      <td>221026916</td>\n",
       "      <td>2016-06-10 12:00:00+00:00</td>\n",
       "      <td>Художественный</td>\n",
       "      <td>Юниверсал Пикчерз, Кикстарт Продакшнз, Марк Пл...</td>\n",
       "      <td>США</td>\n",
       "      <td>Тимур Бекмамбетов</td>\n",
       "      <td>Джим Лемли, Джейсон Нетер, Марк Е.Платт, Яйн Смит</td>\n",
       "      <td>«18+» - запрещено для детей</td>\n",
       "      <td>NaN</td>\n",
       "      <td>NaN</td>\n",
       "      <td>NaN</td>\n",
       "      <td>NaN</td>\n",
       "      <td>6.8</td>\n",
       "      <td>фантастика,боевик,триллер</td>\n",
       "      <td>NaN</td>\n",
       "      <td>NaN</td>\n",
       "      <td>2016</td>\n",
       "    </tr>\n",
       "    <tr>\n",
       "      <th>4</th>\n",
       "      <td>Особо опасен</td>\n",
       "      <td>221030815</td>\n",
       "      <td>2015-07-29 12:00:00+00:00</td>\n",
       "      <td>Художественный</td>\n",
       "      <td>Юниверсал Пикчерз, Кикстарт Продакшнз, Марк Пл...</td>\n",
       "      <td>США</td>\n",
       "      <td>Тимур Бекмамбетов</td>\n",
       "      <td>Джим Лемли, Джейсон Нетер, Марк Е.Платт, Яйн Смит</td>\n",
       "      <td>«18+» - запрещено для детей</td>\n",
       "      <td>NaN</td>\n",
       "      <td>NaN</td>\n",
       "      <td>NaN</td>\n",
       "      <td>NaN</td>\n",
       "      <td>6.8</td>\n",
       "      <td>фантастика,боевик,триллер</td>\n",
       "      <td>NaN</td>\n",
       "      <td>NaN</td>\n",
       "      <td>2015</td>\n",
       "    </tr>\n",
       "  </tbody>\n",
       "</table>\n",
       "</div>"
      ],
      "text/plain": [
       "                  title   puNumber           show_start_date            type  \\\n",
       "0      Открытый простор  221048915 2015-11-27 12:00:00+00:00  Художественный   \n",
       "1  Особо важное задание  111013716 2016-09-13 12:00:00+00:00  Художественный   \n",
       "2          Особо опасен  221038416 2016-10-10 12:00:00+00:00  Художественный   \n",
       "3          Особо опасен  221026916 2016-06-10 12:00:00+00:00  Художественный   \n",
       "4          Особо опасен  221030815 2015-07-29 12:00:00+00:00  Художественный   \n",
       "\n",
       "                                         film_studio production_country  \\\n",
       "0  Тачстоун Пикчерз, Кобальт Пикчерз, Бикон Пикче...                США   \n",
       "1                              Киностудия \"Мосфильм\"               СССР   \n",
       "2  Юниверсал Пикчерз, Кикстарт Продакшнз, Марк Пл...                США   \n",
       "3  Юниверсал Пикчерз, Кикстарт Продакшнз, Марк Пл...                США   \n",
       "4  Юниверсал Пикчерз, Кикстарт Продакшнз, Марк Пл...                США   \n",
       "\n",
       "            director                                           producer  \\\n",
       "0      Кевин Костнер          Дэвид Валдес, Кевин Костнер, Джейк Эбертс   \n",
       "1          Е.Матвеев                                                NaN   \n",
       "2  Тимур Бекмамбетов  Джим Лемли, Джейсон Нетер, Марк Е.Платт, Яйн Смит   \n",
       "3  Тимур Бекмамбетов  Джим Лемли, Джейсон Нетер, Марк Е.Платт, Яйн Смит   \n",
       "4  Тимур Бекмамбетов  Джим Лемли, Джейсон Нетер, Марк Е.Платт, Яйн Смит   \n",
       "\n",
       "                 age_restriction  refundable_support  nonrefundable_support  \\\n",
       "0    «18+» - запрещено для детей                 NaN                    NaN   \n",
       "1  «6+» - для детей старше 6 лет                 NaN                    NaN   \n",
       "2    «18+» - запрещено для детей                 NaN                    NaN   \n",
       "3    «18+» - запрещено для детей                 NaN                    NaN   \n",
       "4    «18+» - запрещено для детей                 NaN                    NaN   \n",
       "\n",
       "   budget financing_source  ratings                     genres  box_office  \\\n",
       "0     NaN              NaN      7.2     боевик,драма,мелодрама         NaN   \n",
       "1     NaN              NaN      6.6              драма,военный         NaN   \n",
       "2     NaN              NaN      6.8  фантастика,боевик,триллер         NaN   \n",
       "3     NaN              NaN      6.8  фантастика,боевик,триллер         NaN   \n",
       "4     NaN              NaN      6.8  фантастика,боевик,триллер         NaN   \n",
       "\n",
       "   support_percentage  year  \n",
       "0                 NaN  2015  \n",
       "1                 NaN  2016  \n",
       "2                 NaN  2016  \n",
       "3                 NaN  2016  \n",
       "4                 NaN  2015  "
      ]
     },
     "execution_count": 31,
     "metadata": {},
     "output_type": "execute_result"
    }
   ],
   "source": [
    "df.head()"
   ]
  },
  {
   "cell_type": "markdown",
   "metadata": {
    "id": "nFTDLDYOgFyT"
   },
   "source": [
    "- Создайте два столбца: с именем и фамилией главного режиссёра и основным жанром фильма. В столбцы войдут первые значения из списка режиссёров и жанров соответственно.\n",
    "\n",
    "<div id=\"accordion\">\n",
    "    <div class=\"card\">\n",
    "        <div class=\"card-header\" id=\"headingThree\">\n",
    "            <button class=\"btn btn-link collapsed\" data-toggle=\"collapse\" data-target=\"#collapseHint_2\" aria-expanded=\"false\" aria-controls=\"collapseHint_2\">Подсказка</button>\n",
    "        </div>\n",
    "        <div id=\"collapseHint_2\" class=\"collapse\" aria-labelledby=\"headingThree\" data-parent=\"#accordion\">\n",
    "            <div class=\"card-body\">\n",
    "Чтобы создать такие столбцы, лучше всего использовать собственную функцию. Эту функцию можно применить к двум столбцам сразу. \n",
    "            </div>\n",
    "        </div>\n",
    "    </div>\n",
    "</div>"
   ]
  },
  {
   "cell_type": "code",
   "execution_count": 32,
   "metadata": {
    "id": "LSbRZKbMgFyU"
   },
   "outputs": [],
   "source": [
    "#Создали функцию для вывода двух новых колонок \n",
    "def add_main(df, columns):\n",
    "    for column in columns:\n",
    "        df[f'main_{column}'] = df[column].dropna().apply(lambda x: x.split(',')[0])\n",
    "    return df"
   ]
  },
  {
   "cell_type": "code",
   "execution_count": 33,
   "metadata": {},
   "outputs": [
    {
     "data": {
      "text/html": [
       "<div>\n",
       "<style scoped>\n",
       "    .dataframe tbody tr th:only-of-type {\n",
       "        vertical-align: middle;\n",
       "    }\n",
       "\n",
       "    .dataframe tbody tr th {\n",
       "        vertical-align: top;\n",
       "    }\n",
       "\n",
       "    .dataframe thead th {\n",
       "        text-align: right;\n",
       "    }\n",
       "</style>\n",
       "<table border=\"1\" class=\"dataframe\">\n",
       "  <thead>\n",
       "    <tr style=\"text-align: right;\">\n",
       "      <th></th>\n",
       "      <th>title</th>\n",
       "      <th>puNumber</th>\n",
       "      <th>show_start_date</th>\n",
       "      <th>type</th>\n",
       "      <th>film_studio</th>\n",
       "      <th>production_country</th>\n",
       "      <th>director</th>\n",
       "      <th>producer</th>\n",
       "      <th>age_restriction</th>\n",
       "      <th>refundable_support</th>\n",
       "      <th>...</th>\n",
       "      <th>budget</th>\n",
       "      <th>financing_source</th>\n",
       "      <th>ratings</th>\n",
       "      <th>genres</th>\n",
       "      <th>box_office</th>\n",
       "      <th>support_percentage</th>\n",
       "      <th>year</th>\n",
       "      <th>main_director</th>\n",
       "      <th>main_genres</th>\n",
       "      <th>main_production_country</th>\n",
       "    </tr>\n",
       "  </thead>\n",
       "  <tbody>\n",
       "    <tr>\n",
       "      <th>0</th>\n",
       "      <td>Открытый простор</td>\n",
       "      <td>221048915</td>\n",
       "      <td>2015-11-27 12:00:00+00:00</td>\n",
       "      <td>Художественный</td>\n",
       "      <td>Тачстоун Пикчерз, Кобальт Пикчерз, Бикон Пикче...</td>\n",
       "      <td>США</td>\n",
       "      <td>Кевин Костнер</td>\n",
       "      <td>Дэвид Валдес, Кевин Костнер, Джейк Эбертс</td>\n",
       "      <td>«18+» - запрещено для детей</td>\n",
       "      <td>NaN</td>\n",
       "      <td>...</td>\n",
       "      <td>NaN</td>\n",
       "      <td>NaN</td>\n",
       "      <td>7.2</td>\n",
       "      <td>боевик,драма,мелодрама</td>\n",
       "      <td>NaN</td>\n",
       "      <td>NaN</td>\n",
       "      <td>2015</td>\n",
       "      <td>Кевин Костнер</td>\n",
       "      <td>боевик</td>\n",
       "      <td>США</td>\n",
       "    </tr>\n",
       "    <tr>\n",
       "      <th>1</th>\n",
       "      <td>Особо важное задание</td>\n",
       "      <td>111013716</td>\n",
       "      <td>2016-09-13 12:00:00+00:00</td>\n",
       "      <td>Художественный</td>\n",
       "      <td>Киностудия \"Мосфильм\"</td>\n",
       "      <td>СССР</td>\n",
       "      <td>Е.Матвеев</td>\n",
       "      <td>NaN</td>\n",
       "      <td>«6+» - для детей старше 6 лет</td>\n",
       "      <td>NaN</td>\n",
       "      <td>...</td>\n",
       "      <td>NaN</td>\n",
       "      <td>NaN</td>\n",
       "      <td>6.6</td>\n",
       "      <td>драма,военный</td>\n",
       "      <td>NaN</td>\n",
       "      <td>NaN</td>\n",
       "      <td>2016</td>\n",
       "      <td>Е.Матвеев</td>\n",
       "      <td>драма</td>\n",
       "      <td>СССР</td>\n",
       "    </tr>\n",
       "    <tr>\n",
       "      <th>2</th>\n",
       "      <td>Особо опасен</td>\n",
       "      <td>221038416</td>\n",
       "      <td>2016-10-10 12:00:00+00:00</td>\n",
       "      <td>Художественный</td>\n",
       "      <td>Юниверсал Пикчерз, Кикстарт Продакшнз, Марк Пл...</td>\n",
       "      <td>США</td>\n",
       "      <td>Тимур Бекмамбетов</td>\n",
       "      <td>Джим Лемли, Джейсон Нетер, Марк Е.Платт, Яйн Смит</td>\n",
       "      <td>«18+» - запрещено для детей</td>\n",
       "      <td>NaN</td>\n",
       "      <td>...</td>\n",
       "      <td>NaN</td>\n",
       "      <td>NaN</td>\n",
       "      <td>6.8</td>\n",
       "      <td>фантастика,боевик,триллер</td>\n",
       "      <td>NaN</td>\n",
       "      <td>NaN</td>\n",
       "      <td>2016</td>\n",
       "      <td>Тимур Бекмамбетов</td>\n",
       "      <td>фантастика</td>\n",
       "      <td>США</td>\n",
       "    </tr>\n",
       "    <tr>\n",
       "      <th>3</th>\n",
       "      <td>Особо опасен</td>\n",
       "      <td>221026916</td>\n",
       "      <td>2016-06-10 12:00:00+00:00</td>\n",
       "      <td>Художественный</td>\n",
       "      <td>Юниверсал Пикчерз, Кикстарт Продакшнз, Марк Пл...</td>\n",
       "      <td>США</td>\n",
       "      <td>Тимур Бекмамбетов</td>\n",
       "      <td>Джим Лемли, Джейсон Нетер, Марк Е.Платт, Яйн Смит</td>\n",
       "      <td>«18+» - запрещено для детей</td>\n",
       "      <td>NaN</td>\n",
       "      <td>...</td>\n",
       "      <td>NaN</td>\n",
       "      <td>NaN</td>\n",
       "      <td>6.8</td>\n",
       "      <td>фантастика,боевик,триллер</td>\n",
       "      <td>NaN</td>\n",
       "      <td>NaN</td>\n",
       "      <td>2016</td>\n",
       "      <td>Тимур Бекмамбетов</td>\n",
       "      <td>фантастика</td>\n",
       "      <td>США</td>\n",
       "    </tr>\n",
       "    <tr>\n",
       "      <th>4</th>\n",
       "      <td>Особо опасен</td>\n",
       "      <td>221030815</td>\n",
       "      <td>2015-07-29 12:00:00+00:00</td>\n",
       "      <td>Художественный</td>\n",
       "      <td>Юниверсал Пикчерз, Кикстарт Продакшнз, Марк Пл...</td>\n",
       "      <td>США</td>\n",
       "      <td>Тимур Бекмамбетов</td>\n",
       "      <td>Джим Лемли, Джейсон Нетер, Марк Е.Платт, Яйн Смит</td>\n",
       "      <td>«18+» - запрещено для детей</td>\n",
       "      <td>NaN</td>\n",
       "      <td>...</td>\n",
       "      <td>NaN</td>\n",
       "      <td>NaN</td>\n",
       "      <td>6.8</td>\n",
       "      <td>фантастика,боевик,триллер</td>\n",
       "      <td>NaN</td>\n",
       "      <td>NaN</td>\n",
       "      <td>2015</td>\n",
       "      <td>Тимур Бекмамбетов</td>\n",
       "      <td>фантастика</td>\n",
       "      <td>США</td>\n",
       "    </tr>\n",
       "  </tbody>\n",
       "</table>\n",
       "<p>5 rows × 21 columns</p>\n",
       "</div>"
      ],
      "text/plain": [
       "                  title   puNumber           show_start_date            type  \\\n",
       "0      Открытый простор  221048915 2015-11-27 12:00:00+00:00  Художественный   \n",
       "1  Особо важное задание  111013716 2016-09-13 12:00:00+00:00  Художественный   \n",
       "2          Особо опасен  221038416 2016-10-10 12:00:00+00:00  Художественный   \n",
       "3          Особо опасен  221026916 2016-06-10 12:00:00+00:00  Художественный   \n",
       "4          Особо опасен  221030815 2015-07-29 12:00:00+00:00  Художественный   \n",
       "\n",
       "                                         film_studio production_country  \\\n",
       "0  Тачстоун Пикчерз, Кобальт Пикчерз, Бикон Пикче...                США   \n",
       "1                              Киностудия \"Мосфильм\"               СССР   \n",
       "2  Юниверсал Пикчерз, Кикстарт Продакшнз, Марк Пл...                США   \n",
       "3  Юниверсал Пикчерз, Кикстарт Продакшнз, Марк Пл...                США   \n",
       "4  Юниверсал Пикчерз, Кикстарт Продакшнз, Марк Пл...                США   \n",
       "\n",
       "            director                                           producer  \\\n",
       "0      Кевин Костнер          Дэвид Валдес, Кевин Костнер, Джейк Эбертс   \n",
       "1          Е.Матвеев                                                NaN   \n",
       "2  Тимур Бекмамбетов  Джим Лемли, Джейсон Нетер, Марк Е.Платт, Яйн Смит   \n",
       "3  Тимур Бекмамбетов  Джим Лемли, Джейсон Нетер, Марк Е.Платт, Яйн Смит   \n",
       "4  Тимур Бекмамбетов  Джим Лемли, Джейсон Нетер, Марк Е.Платт, Яйн Смит   \n",
       "\n",
       "                 age_restriction  refundable_support  ...  budget  \\\n",
       "0    «18+» - запрещено для детей                 NaN  ...     NaN   \n",
       "1  «6+» - для детей старше 6 лет                 NaN  ...     NaN   \n",
       "2    «18+» - запрещено для детей                 NaN  ...     NaN   \n",
       "3    «18+» - запрещено для детей                 NaN  ...     NaN   \n",
       "4    «18+» - запрещено для детей                 NaN  ...     NaN   \n",
       "\n",
       "   financing_source ratings                     genres box_office  \\\n",
       "0               NaN     7.2     боевик,драма,мелодрама        NaN   \n",
       "1               NaN     6.6              драма,военный        NaN   \n",
       "2               NaN     6.8  фантастика,боевик,триллер        NaN   \n",
       "3               NaN     6.8  фантастика,боевик,триллер        NaN   \n",
       "4               NaN     6.8  фантастика,боевик,триллер        NaN   \n",
       "\n",
       "   support_percentage  year      main_director main_genres  \\\n",
       "0                 NaN  2015      Кевин Костнер      боевик   \n",
       "1                 NaN  2016          Е.Матвеев       драма   \n",
       "2                 NaN  2016  Тимур Бекмамбетов  фантастика   \n",
       "3                 NaN  2016  Тимур Бекмамбетов  фантастика   \n",
       "4                 NaN  2015  Тимур Бекмамбетов  фантастика   \n",
       "\n",
       "  main_production_country  \n",
       "0                     США  \n",
       "1                    СССР  \n",
       "2                     США  \n",
       "3                     США  \n",
       "4                     США  \n",
       "\n",
       "[5 rows x 21 columns]"
      ]
     },
     "execution_count": 33,
     "metadata": {},
     "output_type": "execute_result"
    }
   ],
   "source": [
    "#перезаписали наш df\n",
    "df = add_main(df, ['director', 'genres', 'production_country'])\n",
    "df.head()"
   ]
  },
  {
   "cell_type": "markdown",
   "metadata": {},
   "source": [
    "<div class=\"alert alert-danger\">\n",
    "    \n",
    "<b> Комментарий от ревьюера ❗</b>\n",
    "    \n",
    "Прокомментируй, пожалуйста, чем сейчас main_genre отличается от genre\n",
    "</div>"
   ]
  },
  {
   "cell_type": "markdown",
   "metadata": {},
   "source": [
    "<div class=\"alert alert-info\">\n",
    "    \n",
    "- В main_genre вошло только первое значение из списка genre.\n",
    "\n",
    "</div>"
   ]
  },
  {
   "cell_type": "markdown",
   "metadata": {},
   "source": [
    "<div class=\"alert alert-success\">\n",
    "    \n",
    "<b> Комментарий от ревьюера 2 ✔️</b>\n",
    "\n",
    "👍\n",
    "</div>"
   ]
  },
  {
   "cell_type": "markdown",
   "metadata": {
    "id": "1FsCXHwdgFyU"
   },
   "source": [
    "- Посчитайте, какую долю от общего бюджета фильма составляет государственная поддержка."
   ]
  },
  {
   "cell_type": "code",
   "execution_count": 34,
   "metadata": {
    "id": "LV6qFuZLgFyV",
    "scrolled": true
   },
   "outputs": [
    {
     "name": "stdout",
     "output_type": "stream",
     "text": [
      "Чаще всего доля участия государства в бюджете составляет 0.6133641349406089\n",
      "\n"
     ]
    }
   ],
   "source": [
    "# Вычислили долю участия государства в бюджете фильма\n",
    "df['support_percentage'] = (df['refundable_support'] + df['nonrefundable_support']) / df['budget']\n",
    "support_percentage = df['support_percentage'].median()\n",
    "\n",
    "print('Чаще всего доля участия государства в бюджете составляет', support_percentage)\n",
    "print()"
   ]
  },
  {
   "cell_type": "markdown",
   "metadata": {},
   "source": [
    "- Среднее значение участия государства в бюджете фильма 0,613."
   ]
  },
  {
   "cell_type": "markdown",
   "metadata": {},
   "source": [
    "<div class=\"alert alert-success\">\n",
    "    \n",
    "<b> Комментарий от ревьюера ✔️</b>\n",
    "    \n",
    "С добавлением признаков все хорошо\n",
    "\n",
    "</div>"
   ]
  },
  {
   "cell_type": "markdown",
   "metadata": {
    "id": "6t4EukPLgFyV"
   },
   "source": [
    "### Шаг 3. Проведите исследовательский анализ данных\n"
   ]
  },
  {
   "cell_type": "markdown",
   "metadata": {
    "id": "vAH8WCzugFyV"
   },
   "source": [
    "- Посмотрите, сколько фильмов выходило в прокат каждый год. Обратите внимание, что данные о прокате в кинотеатрах известны не для всех фильмов. Посчитайте, какую долю составляют фильмы с указанной информацией о прокате в кинотеатрах."
   ]
  },
  {
   "cell_type": "code",
   "execution_count": 35,
   "metadata": {
    "id": "ABeV47y7gFyW"
   },
   "outputs": [],
   "source": [
    "#Присвайваем переменной значение 'box_office' без пропусков по годам\n",
    "df_pivot = df.loc[df['box_office'].notna(), ['year', 'box_office']] \\\n",
    "                .groupby('year') \\\n",
    "                .agg(['count', 'sum', 'mean', 'median'])\n",
    "\n",
    "df_pivot.columns = df_pivot.columns.get_level_values(1)"
   ]
  },
  {
   "cell_type": "code",
   "execution_count": 36,
   "metadata": {},
   "outputs": [
    {
     "name": "stdout",
     "output_type": "stream",
     "text": [
      "Доля фильмов, для которых есть информация о прокате: 0.42\n"
     ]
    },
    {
     "data": {
      "image/png": "[encoded data removed]",
      "text/plain": [
       "<Figure size 864x576 with 1 Axes>"
      ]
     },
     "metadata": {
      "needs_background": "light"
     },
     "output_type": "display_data"
    }
   ],
   "source": [
    "#Строим диаграмму для переменной df_pivot\n",
    "df_pivot.plot(title='количество фильмов в прокате по годам', kind='bar', y='count')\n",
    "print(f'Доля фильмов, для которых есть информация о прокате: {df.box_office.notna().mean():.2f}')"
   ]
  },
  {
   "cell_type": "markdown",
   "metadata": {},
   "source": [
    "<div class=\"alert alert-danger\">\n",
    "    \n",
    "<b> Комментарий от ревьюера ❗</b>\n",
    "    \n",
    "Посчитай, пожалуйста, долю фильмов с информацией о прокате в разрезе лет, как нас просят в задании. Это позволит сделать вывод о полноте данных.\n",
    "</div>\n"
   ]
  },
  {
   "cell_type": "markdown",
   "metadata": {},
   "source": [
    "<div class=\"alert alert-info\">\n",
    "    \n",
    "Не поняла комментарий выше, я же вроде вывела и диаграмму количества проката по годам.\n",
    "И долю пропусков посчитала 0,42.\n",
    "    \n",
    "</div>"
   ]
  },
  {
   "cell_type": "markdown",
   "metadata": {},
   "source": [
    "<div class=\"alert alert-danger\">\n",
    "    \n",
    "<b> Комментарий от ревьюера 2 ❗</b>\n",
    "    \n",
    "Сейчас мы смотрим на диаграмме на количество фильмов, у которых были сборы, в разрезе лет. Давай еще построим такой же график, но с долей фильмов в прокате\n",
    "    \n",
    "Например, в 2010 в прокате было только 10% фильмов, а в 2019 - 57%. Нужно посмотреть всю эту динамику и определить какой период полнее всего представлен в данных\n",
    "    \n",
    "`df.query('year==2010').box_office.notna().mean()`  \n",
    "`df.query('year==2019').box_office.notna().mean()`    \n",
    "\n",
    "</div>"
   ]
  },
  {
   "cell_type": "code",
   "execution_count": 37,
   "metadata": {},
   "outputs": [
    {
     "data": {
      "image/png": "[encoded data removed]",
      "text/plain": [
       "<Figure size 864x576 with 1 Axes>"
      ]
     },
     "metadata": {
      "needs_background": "light"
     },
     "output_type": "display_data"
    }
   ],
   "source": [
    "#Вывели график доли проката по годам\n",
    "df['share'] = df['box_office'].notna()\n",
    "df.query('year >=2010 and year <= 2019') \\\n",
    "       .pivot_table(index='year', values='share', aggfunc='mean') \\\n",
    "       .plot(title='Доля фильмов в прокате по годам', kind='bar');"
   ]
  },
  {
   "cell_type": "markdown",
   "metadata": {},
   "source": [
    "<div class=\"alert alert-warning\">\n",
    "    \n",
    "<b> Комментарий от ревьюера 3 ⚠️</b>\n",
    "    \n",
    "График замечательный, только вывода не хватает! Тут можно предположить, что до 2015 года данные неполные, потому что в 2015 происходит резкий рост доли фильмов в прокате.    \n",
    "    \n",
    "</div>"
   ]
  },
  {
   "cell_type": "markdown",
   "metadata": {
    "id": "BEOdcIrIgFyW"
   },
   "source": [
    "- Изучите, как менялась динамика проката по годам. В каком году сумма сборов была минимальной? А максимальной?"
   ]
  },
  {
   "cell_type": "code",
   "execution_count": 38,
   "metadata": {
    "id": "tfEhofYvgFyX"
   },
   "outputs": [
    {
     "name": "stdout",
     "output_type": "stream",
     "text": [
      "В 2010 году сумма сборов была минимальной, в 2018 максимальной.\n"
     ]
    },
    {
     "data": {
      "image/png": "[encoded data removed]",
      "text/plain": [
       "<Figure size 864x576 with 1 Axes>"
      ]
     },
     "metadata": {
      "needs_background": "light"
     },
     "output_type": "display_data"
    }
   ],
   "source": [
    "#Строим график зависимости сбора по годам\n",
    "\n",
    "df_pivot.plot(title='сборы фильмов в прокате по годам', kind='line', y='sum')\n",
    "print(f\"В {df_pivot['sum'].idxmin()} году сумма сборов была минимальной, в {df_pivot['sum'].idxmax()} максимальной.\")"
   ]
  },
  {
   "cell_type": "markdown",
   "metadata": {
    "id": "G-7qS-N-gFyY"
   },
   "source": [
    "- С помощью сводной таблицы посчитайте среднюю и медианную сумму сборов для каждого года."
   ]
  },
  {
   "cell_type": "code",
   "execution_count": 39,
   "metadata": {
    "id": "jmp-rgg9gFyY"
   },
   "outputs": [
    {
     "name": "stdout",
     "output_type": "stream",
     "text": [
      "\n"
     ]
    },
    {
     "data": {
      "image/png": "[encoded data removed]",
      "text/plain": [
       "<Figure size 864x576 with 1 Axes>"
      ]
     },
     "metadata": {
      "needs_background": "light"
     },
     "output_type": "display_data"
    }
   ],
   "source": [
    "#Выведи график зависимости срелней и медианы сборов по годам\n",
    "df_pivot.plot(title='средняя и медианная сумма сборов по годам', kind='line', y=['median', 'mean'])\n",
    "print()"
   ]
  },
  {
   "cell_type": "markdown",
   "metadata": {
    "id": "Ok89WFwJgFyZ"
   },
   "source": [
    "- Определите, влияет ли возрастное ограничение аудитории («6+», «12+», «16+», «18+» и т. д.) на сборы фильма в прокате в период с 2015 по 2019 год? Фильмы с каким возрастным ограничением собрали больше всего денег в прокате? Меняется ли картина в зависимости от года? Если да, предположите, с чем это может быть связано."
   ]
  },
  {
   "cell_type": "code",
   "execution_count": 40,
   "metadata": {
    "id": "jsSbEqfjgFya"
   },
   "outputs": [
    {
     "name": "stdout",
     "output_type": "stream",
     "text": [
      "\n"
     ]
    },
    {
     "data": {
      "image/png": "[encoded data removed]",
      "text/plain": [
       "<Figure size 864x576 with 1 Axes>"
      ]
     },
     "metadata": {
      "needs_background": "light"
     },
     "output_type": "display_data"
    }
   ],
   "source": [
    "#Вывели график зависимости сбора от возрастных категории и года\n",
    "df[df['box_office'].notna()] \\\n",
    "    .pivot_table(index='year',\n",
    "                columns='age_restriction',\n",
    "                values='box_office',\n",
    "                aggfunc='sum') \\\n",
    "    .plot(title='сумма сборов по годам с разбивкой по возрастным категориям', kind='line', xlim=[2015, 2019])\n",
    "print()\n"
   ]
  },
  {
   "cell_type": "code",
   "execution_count": 41,
   "metadata": {},
   "outputs": [
    {
     "data": {
      "image/png": "[encoded data removed]",
      "text/plain": [
       "<Figure size 864x576 with 1 Axes>"
      ]
     },
     "metadata": {
      "needs_background": "light"
     },
     "output_type": "display_data"
    }
   ],
   "source": [
    "df[['box_office', 'age_restriction']].groupby('age_restriction') \\\n",
    "                                        .agg('median') \\\n",
    "                                        .sort_values(by='box_office', ascending=False) \\\n",
    "                                        .plot(title='Медианный прокат фильмов по категориям', kind='bar');"
   ]
  },
  {
   "cell_type": "markdown",
   "metadata": {},
   "source": [
    "<div class=\"alert alert-warning\">\n",
    "    \n",
    "<b> Комментарий от ревьюера ⚠️</b>\n",
    "    \n",
    "Здорово, что посмотрела на суммарные сборы. Давай еще посчитаем количество фильмов в каждой категории и медианные сборы. Сейчас нельзя понять, с чем связаны большие суммарные сборы в категории 16+: с популярностью фильмов или их большим количеством\n",
    "</div>"
   ]
  },
  {
   "cell_type": "markdown",
   "metadata": {},
   "source": [
    "**Вывод:**\n",
    "- Доля фильмов, для которых есть информация о сборах: 0.42.\n",
    "- Больше всего фильмов вышло в 2016 и 2019 года.\n",
    "- Минимальные суммы сборов с 2010 по 2013 года.\n",
    "- Максимальные в 2018 году.\n",
    "- Средние значения начиная с 2013 года очень сильно выросли пика достигли в 2017г.\n",
    "- Медианные же значения не сильно изменились\n",
    "- Можно предположить что фильмы стали собирать больше сборов\n",
    "- Больше всего сборов 16+\n",
    "- По годам 16+ в 2017г и 12+ в 2018г.\n",
    "- Возможно причина в том что 2017 году вышли несколько культовых продолжений популярных фильмов \n",
    "например *Звездные войны*, *Форсаж8*.\n",
    "- По количеству в 2017 году вышло меньше фильмов в прокат, но по средним сборам 2017 год это максимум,\n",
    "значит был повышенный интерес возраста 16+ высокобюджетный со спецэфектами."
   ]
  },
  {
   "cell_type": "markdown",
   "metadata": {},
   "source": [
    "<div class=\"alert alert-danger\">\n",
    "    \n",
    "<b> Комментарий от ревьюера ❗</b>\n",
    "    \n",
    "Выводы правильные, все замечательно, но используй, пожалуйста, тип ячейки Markdown\n",
    "</div>"
   ]
  },
  {
   "cell_type": "markdown",
   "metadata": {},
   "source": [
    "<div class=\"alert alert-success\">\n",
    "    \n",
    "<b> Комментарий от ревьюера 2 ✔️</b>\n",
    "\n",
    "👍\n",
    "</div>"
   ]
  },
  {
   "cell_type": "markdown",
   "metadata": {
    "id": "l_Kg6Ku4gFya"
   },
   "source": [
    "### Шаг 4. Исследуйте фильмы, которые получили государственную поддержку\n",
    "\n",
    "На этом этапе нет конкретных инструкций и заданий — поищите интересные закономерности в данных. Посмотрите, сколько выделяют средств на поддержку кино. Проверьте, хорошо ли окупаются такие фильмы, какой у них рейтинг."
   ]
  },
  {
   "cell_type": "code",
   "execution_count": 42,
   "metadata": {
    "id": "W9QKpjUdgFyb"
   },
   "outputs": [],
   "source": [
    "#Присваиваем переменой список без пропусков из из колонок возмещаемая и невозмещаемая поддержка\n",
    "df_supported = df[(df['refundable_support'].notna() | df['nonrefundable_support'].notna()) & \n",
    "                  (df['year'] > 2014)]\n",
    "#Создаем список из сумм возмещаемая и невозмещаемая поддержка\n",
    "df_supported['full_support'] = df_supported['nonrefundable_support'] + df_supported['refundable_support']\n",
    "#Создаем список рентабельность как деление колнки сборов на колонку полной поддержки с вычетом единицы  \n",
    "df_supported['profitability'] = df_supported['box_office'] / df_supported['full_support'] - 1\n",
    "#Создаем список окупается в которую включены все положительные значения рентабельности\n",
    "df_supported['is_paid_off'] = df_supported['profitability'] > 0\n",
    " #Создаем список не окупилось со значением всех остальных по рентабельности\n",
    "df_supported['is_not_paid_off'] = ~df_supported['is_paid_off']\n"
   ]
  },
  {
   "cell_type": "code",
   "execution_count": 43,
   "metadata": {
    "scrolled": false
   },
   "outputs": [
    {
     "data": {
      "text/plain": [
       "<AxesSubplot:title={'center':'средняя оценка фильмов по жанрам'}, xlabel='main_genres'>"
      ]
     },
     "execution_count": 43,
     "metadata": {},
     "output_type": "execute_result"
    },
    {
     "data": {
      "image/png": "[encoded data removed]",
      "text/plain": [
       "<Figure size 864x576 with 1 Axes>"
      ]
     },
     "metadata": {
      "needs_background": "light"
     },
     "output_type": "display_data"
    }
   ],
   "source": [
    "#Создаем диаграмму среднего рейтинга по жанрам\n",
    "df_supported[['main_genres', 'ratings']].groupby('main_genres') \\\n",
    "                                        .agg('mean') \\\n",
    "                                        .sort_values(by='ratings', ascending=False) \\\n",
    "                                        .plot(title='средняя оценка фильмов по жанрам', kind='bar')"
   ]
  },
  {
   "cell_type": "code",
   "execution_count": 44,
   "metadata": {},
   "outputs": [
    {
     "data": {
      "image/png": "[encoded data removed]",
      "text/plain": [
       "<Figure size 864x576 with 1 Axes>"
      ]
     },
     "metadata": {
      "needs_background": "light"
     },
     "output_type": "display_data"
    }
   ],
   "source": [
    "df_supported[['box_office', 'main_genres']].groupby('main_genres') \\\n",
    "                                        .agg('sum') \\\n",
    "                                        .sort_values(by='box_office', ascending=False) \\\n",
    "                                        .plot(title=' Прокат фильмов по жанрам', kind='bar');"
   ]
  },
  {
   "cell_type": "code",
   "execution_count": 45,
   "metadata": {},
   "outputs": [
    {
     "data": {
      "image/png": "[encoded data removed]",
      "text/plain": [
       "<Figure size 864x576 with 1 Axes>"
      ]
     },
     "metadata": {
      "needs_background": "light"
     },
     "output_type": "display_data"
    }
   ],
   "source": [
    "#Посчитали господержку по жанпрам\n",
    "df_supported['main_genres'].value_counts().plot(title='количество фильмов, получивших господдержку (по \\\n",
    "жанрам)', kind='bar');"
   ]
  },
  {
   "cell_type": "code",
   "execution_count": 46,
   "metadata": {},
   "outputs": [
    {
     "data": {
      "image/png": "[encoded data removed]",
      "text/plain": [
       "<Figure size 864x576 with 1 Axes>"
      ]
     },
     "metadata": {
      "needs_background": "light"
     },
     "output_type": "display_data"
    }
   ],
   "source": [
    "#Выводим диаграмму рентабельности по жанрам\n",
    "df_supported.groupby('main_genres') \\\n",
    "            .agg({'title':'count', \n",
    "                  'is_paid_off':'sum',\n",
    "                  'is_not_paid_off':lambda x: 0 - x.sum()}) \\\n",
    "            .sort_values(by='title',\n",
    "                         ascending=False) \\\n",
    "            .plot(title='количество окупившихся и не окупившихся фильмов',\n",
    "                   kind='bar',\n",
    "                   stacked=True,\n",
    "                   y=['is_paid_off', 'is_not_paid_off']);"
   ]
  },
  {
   "cell_type": "code",
   "execution_count": 47,
   "metadata": {},
   "outputs": [
    {
     "data": {
      "image/png": "[encoded data removed]",
      "text/plain": [
       "<Figure size 864x576 with 1 Axes>"
      ]
     },
     "metadata": {
      "needs_background": "light"
     },
     "output_type": "display_data"
    }
   ],
   "source": [
    "# посчитали стоимость поддержки по жанрам\n",
    "df_supported.groupby('main_genres') \\\n",
    "            .agg('sum') \\\n",
    "            .sort_values(by='full_support',\n",
    "                         ascending=False) \\\n",
    "            .plot(title='объём государственной поддержки',\n",
    "                  kind='bar',\n",
    "                  stacked=True,\n",
    "                  y=['refundable_support', 'nonrefundable_support']);"
   ]
  },
  {
   "cell_type": "code",
   "execution_count": 48,
   "metadata": {},
   "outputs": [
    {
     "data": {
      "image/png": "[encoded data removed]",
      "text/plain": [
       "<Figure size 864x576 with 1 Axes>"
      ]
     },
     "metadata": {
      "needs_background": "light"
     },
     "output_type": "display_data"
    }
   ],
   "source": [
    "# рентабельность по жанрам\n",
    "df_supported.groupby('main_genres') \\\n",
    "            .agg('sum') \\\n",
    "            .sort_values(by='full_support',\n",
    "                         ascending=False) \\\n",
    "            .plot(title='общая рентабельность жанра c 2015 по 2019',\n",
    "                  kind='bar',\n",
    "                  stacked=True,\n",
    "                  y='profitability');"
   ]
  },
  {
   "cell_type": "code",
   "execution_count": 49,
   "metadata": {},
   "outputs": [
    {
     "data": {
      "image/png": "[encoded data removed]",
      "text/plain": [
       "<Figure size 864x576 with 1 Axes>"
      ]
     },
     "metadata": {
      "needs_background": "light"
     },
     "output_type": "display_data"
    }
   ],
   "source": [
    "#вывели диаграмму средней рентабельности по жанрам\n",
    "df_supported.groupby('main_genres') \\\n",
    "            .agg('mean') \\\n",
    "            .sort_values(by='profitability',\n",
    "                         ascending=False) \\\n",
    "            .plot(title='средняя рентабельность фильма (по жанрам) с 2015 по 2019',\n",
    "                  kind='bar',\n",
    "                  stacked=True,\n",
    "                  y='profitability');"
   ]
  },
  {
   "cell_type": "markdown",
   "metadata": {},
   "source": [
    "- В российском прокате доля финансирования государства состовляет примерно 60 %.\n",
    "- Самые высокие рейтинги у жанра *Криминал* потом *Детский*.\n",
    "- Больше всего фильмов получают господдержку в жанре *Драма*, затем *Комедия*. \n",
    "- Самый не рентабельный убыточный жанр *Драма* .\n",
    "- По жанру *Комедия* саммые высокие показатели среди всех жанров но и господдержки тоже не мало\n",
    "но в итоге поддержка не окупается.\n",
    "- Не плохие показатели окупаемости фильмов жанра *Мультфильм* при меньшей господдержке.\n",
    "- Самая высокая рентабельность у жанров *Комедия* затем *Мульфильм*.\n",
    "- Средняя рентабельность по жанрам самая высокая у *Биография* потом *Приключения*, самая низкая \n",
    "у жанра *Детский*.\n",
    "- Господдерка жанра *Драма* не оправданна, этот жанр не популярен ни по рейтингам, ни по рентабельности.\n",
    "- Возможно стоило бы применить бюджетные деньги в более популярные и рентабельные жанры и меньшими\n",
    "ресурсами получить более положительный эффект"
   ]
  },
  {
   "cell_type": "markdown",
   "metadata": {},
   "source": [
    "<div class=\"alert alert-success\">\n",
    "    \n",
    "<b> Комментарий от ревьюера ✔️</b>\n",
    "    \n",
    "У тебя получилось интересное исследование!\n",
    "    \n",
    "Только обрати внимание, что в прошлом разделе мы заметили, что данные по сборам до 2015 года могут быть неполными, поэтому тут в расчетах, связанных с деньгами/рентабельность/т.д., лучше использовать информацию начиная с 2015 года, чтобы не было искажений.\n",
    "    \n",
    "В плане средней оценки жанров, было бы интересно сравнить результаты с фильмами без гос.поддержки.\n",
    "\n",
    "</div>"
   ]
  },
  {
   "cell_type": "markdown",
   "metadata": {
    "id": "V2gYwMcPgFyd"
   },
   "source": [
    "### Шаг 5. Общий вывод."
   ]
  },
  {
   "cell_type": "markdown",
   "metadata": {},
   "source": [
    "- При не большом количестве фильмов жанра *Криминал*, рейтиг самый высокий.\n",
    "- Фильмы, которые получили государственную поддержку имеют невысокий рейтинг,\n",
    "возможно в сравненни уступают зарубежным.  \n",
    "- На жанр *Комедия и *Мультфилмы* зритель еще ходит то *Драма* совсем не интересна."
   ]
  },
  {
   "cell_type": "markdown",
   "metadata": {},
   "source": [
    "<div class=\"alert alert-danger\">\n",
    "    \n",
    "<b> Комментарий от ревьюера ❗</b>\n",
    "    \n",
    "Это хороший вывод, но он относится к последнему разделу про анализ фильмов с гос.поддержкой. \n",
    "    \n",
    "Перенеси его туда, пожалуйста, и добавь общий вывод по работе. В общий вывод можно добавить краткое описание работы, отметить интересные особенности и ответить на основной вопрос исследования.\n",
    "</div>"
   ]
  },
  {
   "cell_type": "markdown",
   "metadata": {},
   "source": [
    "<div class=\"alert alert-warning\">\n",
    "    \n",
    "<b> Комментарий от ревьюера 2 ⚠️</b>\n",
    "    \n",
    "В выводе не отражены результаты исследования в разделе \"Шаг 3. Проведите исследовательский анализ данных\"\n",
    "</div>"
   ]
  },
  {
   "cell_type": "markdown",
   "metadata": {},
   "source": [
    "<div class=\"alert alert-success\">\n",
    "    \n",
    "<b> Комментарий от ревьюера ✔️</b>\n",
    "    \n",
    "Спасибо за твою работу! Ты хорошо справилась с подготовкой и анализом данных.\n",
    "    \n",
    "Осталось немного дополнить проект:\n",
    "    \n",
    "- прокомментировать обработку пропусков\n",
    "- проверить дубликаты в таблице\n",
    "- определить общую проблему в категориальных признаках\n",
    "- определить долю фильмов в прокате в разрезе лет\n",
    "- добавить общий вывод\n",
    "\n",
    "Задавай вопросы к моим комментариям, если есть. Жду твои исправления :)\n",
    "</div>"
   ]
  },
  {
   "cell_type": "markdown",
   "metadata": {},
   "source": [
    "<div class=\"alert alert-success\">\n",
    "    \n",
    "<b> Комментарий от ревьюера 2 ✔️</b>\n",
    "\n",
    "Осталось сделать совсем чуть-чуть:\n",
    "    \n",
    "- определить долю фильмов в прокате в разрезе лет\n",
    "    \n",
    "Жду твои исправления\n",
    "    \n",
    "</div>"
   ]
  },
  {
   "cell_type": "markdown",
   "metadata": {},
   "source": [
    "<div class=\"alert alert-success\">\n",
    "<b> Комментарий от ревьюера 3 ✔️</b>\n",
    "\n",
    "Спасибо, что учла мои комментарии. Надеюсь, эта работа была полезна для тебя. Я принимаю проект и желаю удачи в прохождении курса!\n",
    "\n",
    "</div>\n"
   ]
  },
  {
   "cell_type": "markdown",
   "metadata": {
    "id": "AYRg3dzXgFye"
   },
   "source": []
  },
  {
   "cell_type": "markdown",
   "metadata": {},
   "source": []
  },
  {
   "cell_type": "code",
   "execution_count": null,
   "metadata": {},
   "outputs": [],
   "source": []
  }
 ],
 "metadata": {
  "ExecuteTimeLog": [
   {
    "duration": 537,
    "start_time": "2021-07-07T10:12:08.634Z"
   },
   {
    "duration": 206,
    "start_time": "2021-07-07T10:12:30.191Z"
   },
   {
    "duration": 227,
    "start_time": "2021-07-07T10:12:33.078Z"
   },
   {
    "duration": 153,
    "start_time": "2021-07-07T10:13:42.146Z"
   },
   {
    "duration": 233,
    "start_time": "2021-07-07T10:30:09.252Z"
   },
   {
    "duration": 19,
    "start_time": "2021-07-07T10:30:15.577Z"
   },
   {
    "duration": 18,
    "start_time": "2021-07-07T10:30:57.348Z"
   },
   {
    "duration": 19,
    "start_time": "2021-07-07T10:31:17.452Z"
   },
   {
    "duration": 21,
    "start_time": "2021-07-07T10:31:32.227Z"
   },
   {
    "duration": 27,
    "start_time": "2021-07-07T10:32:06.588Z"
   },
   {
    "duration": 23,
    "start_time": "2021-07-07T10:32:43.645Z"
   },
   {
    "duration": 24,
    "start_time": "2021-07-07T10:33:06.948Z"
   },
   {
    "duration": 7,
    "start_time": "2021-07-07T10:33:28.558Z"
   },
   {
    "duration": 23,
    "start_time": "2021-07-07T10:33:43.761Z"
   },
   {
    "duration": 28,
    "start_time": "2021-07-07T10:34:13.466Z"
   },
   {
    "duration": 23,
    "start_time": "2021-07-07T10:35:56.187Z"
   },
   {
    "duration": 6,
    "start_time": "2021-07-07T10:36:48.182Z"
   },
   {
    "duration": 14,
    "start_time": "2021-07-07T10:37:49.641Z"
   },
   {
    "duration": 6,
    "start_time": "2021-07-07T10:38:06.694Z"
   },
   {
    "duration": 6,
    "start_time": "2021-07-07T10:38:13.493Z"
   },
   {
    "duration": 19,
    "start_time": "2021-07-07T10:38:44.056Z"
   },
   {
    "duration": 186,
    "start_time": "2021-07-07T10:48:35.618Z"
   },
   {
    "duration": 24,
    "start_time": "2021-07-07T10:48:51.498Z"
   },
   {
    "duration": 20,
    "start_time": "2021-07-07T10:48:59.415Z"
   },
   {
    "duration": 20,
    "start_time": "2021-07-07T10:53:02.195Z"
   },
   {
    "duration": 188,
    "start_time": "2021-07-07T10:54:40.486Z"
   },
   {
    "duration": 115,
    "start_time": "2021-07-07T10:54:52.552Z"
   },
   {
    "duration": 214,
    "start_time": "2021-07-07T10:54:56.354Z"
   },
   {
    "duration": 47,
    "start_time": "2021-07-07T10:54:58.282Z"
   },
   {
    "duration": 217,
    "start_time": "2021-07-07T10:59:16.075Z"
   },
   {
    "duration": 51,
    "start_time": "2021-07-07T10:59:16.243Z"
   },
   {
    "duration": 578,
    "start_time": "2021-07-07T10:59:18.774Z"
   },
   {
    "duration": 161,
    "start_time": "2021-07-07T10:59:21.238Z"
   },
   {
    "duration": 59,
    "start_time": "2021-07-07T10:59:21.453Z"
   },
   {
    "duration": 3,
    "start_time": "2021-07-07T11:02:10.786Z"
   },
   {
    "duration": 13,
    "start_time": "2021-07-07T11:07:07.722Z"
   },
   {
    "duration": 26,
    "start_time": "2021-07-07T11:07:17.958Z"
   },
   {
    "duration": 22,
    "start_time": "2021-07-07T11:08:17.939Z"
   },
   {
    "duration": 212,
    "start_time": "2021-07-07T11:08:19.665Z"
   },
   {
    "duration": 21,
    "start_time": "2021-07-07T11:08:29.945Z"
   },
   {
    "duration": 31,
    "start_time": "2021-07-07T11:08:38.899Z"
   },
   {
    "duration": 23,
    "start_time": "2021-07-07T11:08:54.527Z"
   },
   {
    "duration": 8,
    "start_time": "2021-07-07T11:18:55.974Z"
   },
   {
    "duration": 7,
    "start_time": "2021-07-07T11:19:03.639Z"
   },
   {
    "duration": 7,
    "start_time": "2021-07-07T11:19:06.444Z"
   },
   {
    "duration": 578,
    "start_time": "2021-07-07T12:09:59.576Z"
   },
   {
    "duration": 195,
    "start_time": "2021-07-07T12:10:00.156Z"
   },
   {
    "duration": 115,
    "start_time": "2021-07-07T12:10:00.353Z"
   },
   {
    "duration": 3,
    "start_time": "2021-07-07T12:10:00.470Z"
   },
   {
    "duration": 32,
    "start_time": "2021-07-07T12:10:00.474Z"
   },
   {
    "duration": 23,
    "start_time": "2021-07-07T12:10:00.508Z"
   },
   {
    "duration": 19,
    "start_time": "2021-07-07T12:10:00.533Z"
   },
   {
    "duration": 44,
    "start_time": "2021-07-07T12:10:00.553Z"
   },
   {
    "duration": 7,
    "start_time": "2021-07-07T12:10:00.600Z"
   },
   {
    "duration": 7,
    "start_time": "2021-07-07T12:19:45.761Z"
   },
   {
    "duration": 21,
    "start_time": "2021-07-07T12:21:35.482Z"
   },
   {
    "duration": 21,
    "start_time": "2021-07-07T12:29:23.569Z"
   },
   {
    "duration": 525,
    "start_time": "2021-07-07T12:29:44.542Z"
   },
   {
    "duration": 214,
    "start_time": "2021-07-07T12:29:45.069Z"
   },
   {
    "duration": 92,
    "start_time": "2021-07-07T12:29:45.285Z"
   },
   {
    "duration": 3,
    "start_time": "2021-07-07T12:29:45.379Z"
   },
   {
    "duration": 28,
    "start_time": "2021-07-07T12:29:45.384Z"
   },
   {
    "duration": 23,
    "start_time": "2021-07-07T12:29:45.413Z"
   },
   {
    "duration": 21,
    "start_time": "2021-07-07T12:29:45.437Z"
   },
   {
    "duration": 41,
    "start_time": "2021-07-07T12:29:45.460Z"
   },
   {
    "duration": 7,
    "start_time": "2021-07-07T12:29:45.502Z"
   },
   {
    "duration": 20,
    "start_time": "2021-07-07T12:29:45.511Z"
   },
   {
    "duration": 12,
    "start_time": "2021-07-07T12:34:02.800Z"
   },
   {
    "duration": 7,
    "start_time": "2021-07-07T12:35:10.479Z"
   },
   {
    "duration": 8,
    "start_time": "2021-07-07T12:35:22.440Z"
   },
   {
    "duration": 6,
    "start_time": "2021-07-07T12:35:35.649Z"
   },
   {
    "duration": 6,
    "start_time": "2021-07-07T12:35:43.107Z"
   },
   {
    "duration": 22,
    "start_time": "2021-07-07T12:38:03.029Z"
   },
   {
    "duration": 10,
    "start_time": "2021-07-07T12:38:06.592Z"
   },
   {
    "duration": 563,
    "start_time": "2021-07-07T12:38:46.493Z"
   },
   {
    "duration": 265,
    "start_time": "2021-07-07T12:38:47.058Z"
   },
   {
    "duration": 94,
    "start_time": "2021-07-07T12:38:47.325Z"
   },
   {
    "duration": 3,
    "start_time": "2021-07-07T12:38:47.422Z"
   },
   {
    "duration": 30,
    "start_time": "2021-07-07T12:38:47.427Z"
   },
   {
    "duration": 16,
    "start_time": "2021-07-07T12:38:53.305Z"
   },
   {
    "duration": 10,
    "start_time": "2021-07-07T12:38:53.499Z"
   },
   {
    "duration": 8,
    "start_time": "2021-07-07T12:39:48.161Z"
   },
   {
    "duration": 27,
    "start_time": "2021-07-07T12:41:17.629Z"
   },
   {
    "duration": 17,
    "start_time": "2021-07-07T12:41:17.867Z"
   },
   {
    "duration": 21,
    "start_time": "2021-07-07T12:41:19.310Z"
   },
   {
    "duration": 7,
    "start_time": "2021-07-07T12:41:19.544Z"
   },
   {
    "duration": 20,
    "start_time": "2021-07-07T12:41:20.504Z"
   },
   {
    "duration": 554,
    "start_time": "2021-07-07T12:56:23.696Z"
   },
   {
    "duration": 200,
    "start_time": "2021-07-07T12:56:25.234Z"
   },
   {
    "duration": 119,
    "start_time": "2021-07-07T12:56:25.480Z"
   },
   {
    "duration": 4,
    "start_time": "2021-07-07T12:56:25.762Z"
   },
   {
    "duration": 26,
    "start_time": "2021-07-07T12:56:27.172Z"
   },
   {
    "duration": 12,
    "start_time": "2021-07-07T12:56:29.051Z"
   },
   {
    "duration": 10,
    "start_time": "2021-07-07T12:56:29.291Z"
   },
   {
    "duration": 8,
    "start_time": "2021-07-07T12:56:29.623Z"
   },
   {
    "duration": 28,
    "start_time": "2021-07-07T12:56:32.137Z"
   },
   {
    "duration": 19,
    "start_time": "2021-07-07T12:56:39.785Z"
   },
   {
    "duration": 20,
    "start_time": "2021-07-07T12:56:44.297Z"
   },
   {
    "duration": 7,
    "start_time": "2021-07-07T12:56:45.392Z"
   },
   {
    "duration": 23,
    "start_time": "2021-07-07T12:56:46.615Z"
   },
   {
    "duration": 4,
    "start_time": "2021-07-07T12:57:06.625Z"
   },
   {
    "duration": 32,
    "start_time": "2021-07-07T12:57:36.690Z"
   },
   {
    "duration": 18,
    "start_time": "2021-07-07T12:58:00.149Z"
   },
   {
    "duration": 15,
    "start_time": "2021-07-07T12:59:16.793Z"
   },
   {
    "duration": 7,
    "start_time": "2021-07-07T13:19:22.624Z"
   },
   {
    "duration": 6,
    "start_time": "2021-07-07T14:17:33.527Z"
   },
   {
    "duration": 9,
    "start_time": "2021-07-07T14:17:48.409Z"
   },
   {
    "duration": 8,
    "start_time": "2021-07-07T14:20:13.060Z"
   },
   {
    "duration": 8,
    "start_time": "2021-07-07T14:20:37.957Z"
   },
   {
    "duration": 8,
    "start_time": "2021-07-07T14:20:47.470Z"
   },
   {
    "duration": 9,
    "start_time": "2021-07-07T14:20:54.503Z"
   },
   {
    "duration": 10,
    "start_time": "2021-07-07T14:28:57.763Z"
   },
   {
    "duration": 3,
    "start_time": "2021-07-07T14:30:23.377Z"
   },
   {
    "duration": 3,
    "start_time": "2021-07-07T14:30:36.489Z"
   },
   {
    "duration": 103,
    "start_time": "2021-07-07T14:30:52.351Z"
   },
   {
    "duration": 8,
    "start_time": "2021-07-07T14:30:54.763Z"
   },
   {
    "duration": 8,
    "start_time": "2021-07-07T14:31:29.301Z"
   },
   {
    "duration": 13,
    "start_time": "2021-07-07T14:31:44.516Z"
   },
   {
    "duration": 7,
    "start_time": "2021-07-07T14:33:10.972Z"
   },
   {
    "duration": 11,
    "start_time": "2021-07-07T14:33:27.780Z"
   },
   {
    "duration": 8,
    "start_time": "2021-07-07T14:34:44.588Z"
   },
   {
    "duration": 57,
    "start_time": "2021-07-07T14:35:59.042Z"
   },
   {
    "duration": 3,
    "start_time": "2021-07-07T14:36:28.168Z"
   },
   {
    "duration": 5,
    "start_time": "2021-07-07T14:36:46.254Z"
   },
   {
    "duration": 4,
    "start_time": "2021-07-07T14:36:52.714Z"
   },
   {
    "duration": 3,
    "start_time": "2021-07-07T14:36:56.612Z"
   },
   {
    "duration": 4,
    "start_time": "2021-07-07T14:36:57.049Z"
   },
   {
    "duration": 3,
    "start_time": "2021-07-07T14:39:21.214Z"
   },
   {
    "duration": 7,
    "start_time": "2021-07-07T14:39:52.406Z"
   },
   {
    "duration": 11,
    "start_time": "2021-07-07T14:39:58.576Z"
   },
   {
    "duration": 9,
    "start_time": "2021-07-07T14:40:26.301Z"
   },
   {
    "duration": 10,
    "start_time": "2021-07-07T14:40:31.704Z"
   },
   {
    "duration": 11,
    "start_time": "2021-07-07T14:40:36.249Z"
   },
   {
    "duration": 10,
    "start_time": "2021-07-07T14:40:39.783Z"
   },
   {
    "duration": 9,
    "start_time": "2021-07-07T14:40:48.558Z"
   },
   {
    "duration": 10,
    "start_time": "2021-07-07T14:40:57.143Z"
   },
   {
    "duration": 9,
    "start_time": "2021-07-07T14:41:06.074Z"
   },
   {
    "duration": 4324,
    "start_time": "2021-07-07T14:41:22.004Z"
   },
   {
    "duration": 11,
    "start_time": "2021-07-07T14:41:33.392Z"
   },
   {
    "duration": 9,
    "start_time": "2021-07-07T14:41:39.288Z"
   },
   {
    "duration": 569,
    "start_time": "2021-07-07T14:42:14.387Z"
   },
   {
    "duration": 197,
    "start_time": "2021-07-07T14:42:14.959Z"
   },
   {
    "duration": 84,
    "start_time": "2021-07-07T14:42:16.052Z"
   },
   {
    "duration": 4,
    "start_time": "2021-07-07T14:42:16.900Z"
   },
   {
    "duration": 27,
    "start_time": "2021-07-07T14:42:19.898Z"
   },
   {
    "duration": 12,
    "start_time": "2021-07-07T14:42:21.577Z"
   },
   {
    "duration": 9,
    "start_time": "2021-07-07T14:42:21.813Z"
   },
   {
    "duration": 9,
    "start_time": "2021-07-07T14:42:22.569Z"
   },
   {
    "duration": 29,
    "start_time": "2021-07-07T14:42:25.837Z"
   },
   {
    "duration": 20,
    "start_time": "2021-07-07T14:42:27.003Z"
   },
   {
    "duration": 21,
    "start_time": "2021-07-07T14:42:28.767Z"
   },
   {
    "duration": 7,
    "start_time": "2021-07-07T14:42:29.838Z"
   },
   {
    "duration": 4,
    "start_time": "2021-07-07T14:43:25.493Z"
   },
   {
    "duration": 7,
    "start_time": "2021-07-07T14:43:26.573Z"
   },
   {
    "duration": 10,
    "start_time": "2021-07-07T14:43:31.639Z"
   },
   {
    "duration": 9,
    "start_time": "2021-07-07T14:43:32.046Z"
   },
   {
    "duration": 10,
    "start_time": "2021-07-07T14:43:33.301Z"
   },
   {
    "duration": 12,
    "start_time": "2021-07-07T14:43:33.658Z"
   },
   {
    "duration": 8,
    "start_time": "2021-07-07T14:43:34.552Z"
   },
   {
    "duration": 9,
    "start_time": "2021-07-07T14:43:35.058Z"
   },
   {
    "duration": 12,
    "start_time": "2021-07-07T14:43:35.914Z"
   },
   {
    "duration": 17,
    "start_time": "2021-07-07T14:45:34.368Z"
   },
   {
    "duration": 512,
    "start_time": "2021-07-07T14:51:58.236Z"
   },
   {
    "duration": 223,
    "start_time": "2021-07-07T14:51:58.750Z"
   },
   {
    "duration": 93,
    "start_time": "2021-07-07T14:51:58.977Z"
   },
   {
    "duration": 4,
    "start_time": "2021-07-07T14:51:59.071Z"
   },
   {
    "duration": 37,
    "start_time": "2021-07-07T14:51:59.077Z"
   },
   {
    "duration": 18,
    "start_time": "2021-07-07T14:51:59.116Z"
   },
   {
    "duration": 10,
    "start_time": "2021-07-07T14:51:59.137Z"
   },
   {
    "duration": 8,
    "start_time": "2021-07-07T14:51:59.149Z"
   },
   {
    "duration": 54,
    "start_time": "2021-07-07T14:51:59.158Z"
   },
   {
    "duration": 18,
    "start_time": "2021-07-07T14:51:59.213Z"
   },
   {
    "duration": 22,
    "start_time": "2021-07-07T14:51:59.232Z"
   },
   {
    "duration": 36,
    "start_time": "2021-07-07T14:51:59.255Z"
   },
   {
    "duration": 7,
    "start_time": "2021-07-07T14:51:59.293Z"
   },
   {
    "duration": 10,
    "start_time": "2021-07-07T14:51:59.302Z"
   },
   {
    "duration": 9,
    "start_time": "2021-07-07T14:51:59.313Z"
   },
   {
    "duration": 11,
    "start_time": "2021-07-07T14:51:59.324Z"
   },
   {
    "duration": 8,
    "start_time": "2021-07-07T14:51:59.337Z"
   },
   {
    "duration": 46,
    "start_time": "2021-07-07T14:51:59.347Z"
   },
   {
    "duration": 22,
    "start_time": "2021-07-07T14:51:59.395Z"
   },
   {
    "duration": 24,
    "start_time": "2021-07-07T14:57:32.911Z"
   },
   {
    "duration": 7,
    "start_time": "2021-07-07T14:58:22.070Z"
   },
   {
    "duration": 4,
    "start_time": "2021-07-07T14:59:11.239Z"
   },
   {
    "duration": 25,
    "start_time": "2021-07-07T15:07:22.208Z"
   },
   {
    "duration": 16,
    "start_time": "2021-07-07T15:08:25.560Z"
   },
   {
    "duration": 15,
    "start_time": "2021-07-07T15:08:40.647Z"
   },
   {
    "duration": 14,
    "start_time": "2021-07-07T15:08:46.669Z"
   },
   {
    "duration": 533,
    "start_time": "2021-07-07T15:18:07.440Z"
   },
   {
    "duration": 173,
    "start_time": "2021-07-07T15:18:07.974Z"
   },
   {
    "duration": 84,
    "start_time": "2021-07-07T15:18:08.149Z"
   },
   {
    "duration": 3,
    "start_time": "2021-07-07T15:18:08.235Z"
   },
   {
    "duration": 30,
    "start_time": "2021-07-07T15:18:08.240Z"
   },
   {
    "duration": 22,
    "start_time": "2021-07-07T15:18:08.272Z"
   },
   {
    "duration": 11,
    "start_time": "2021-07-07T15:18:08.295Z"
   },
   {
    "duration": 11,
    "start_time": "2021-07-07T15:18:08.309Z"
   },
   {
    "duration": 40,
    "start_time": "2021-07-07T15:18:08.322Z"
   },
   {
    "duration": 42,
    "start_time": "2021-07-07T15:18:08.364Z"
   },
   {
    "duration": 22,
    "start_time": "2021-07-07T15:18:08.408Z"
   },
   {
    "duration": 5,
    "start_time": "2021-07-07T15:18:08.432Z"
   },
   {
    "duration": 13,
    "start_time": "2021-07-07T15:18:08.439Z"
   },
   {
    "duration": 9,
    "start_time": "2021-07-07T15:18:08.454Z"
   },
   {
    "duration": 32,
    "start_time": "2021-07-07T15:18:08.465Z"
   },
   {
    "duration": 10,
    "start_time": "2021-07-07T15:18:08.501Z"
   },
   {
    "duration": 7,
    "start_time": "2021-07-07T15:18:08.513Z"
   },
   {
    "duration": 11,
    "start_time": "2021-07-07T15:18:08.521Z"
   },
   {
    "duration": 17,
    "start_time": "2021-07-07T15:18:08.534Z"
   },
   {
    "duration": 44,
    "start_time": "2021-07-07T15:18:08.553Z"
   },
   {
    "duration": 22,
    "start_time": "2021-07-07T15:18:08.599Z"
   },
   {
    "duration": 61,
    "start_time": "2021-07-07T15:18:08.622Z"
   },
   {
    "duration": 7,
    "start_time": "2021-07-07T15:18:39.457Z"
   },
   {
    "duration": 5,
    "start_time": "2021-07-07T16:05:17.020Z"
   },
   {
    "duration": 5,
    "start_time": "2021-07-07T16:51:28.794Z"
   },
   {
    "duration": 546,
    "start_time": "2021-07-07T16:52:26.306Z"
   },
   {
    "duration": 203,
    "start_time": "2021-07-07T16:52:27.523Z"
   },
   {
    "duration": 85,
    "start_time": "2021-07-07T16:52:27.736Z"
   },
   {
    "duration": 4,
    "start_time": "2021-07-07T16:52:27.899Z"
   },
   {
    "duration": 25,
    "start_time": "2021-07-07T16:52:28.674Z"
   },
   {
    "duration": 8,
    "start_time": "2021-07-07T16:52:32.956Z"
   },
   {
    "duration": 18,
    "start_time": "2021-07-07T16:52:35.616Z"
   },
   {
    "duration": 6,
    "start_time": "2021-07-07T16:52:36.913Z"
   },
   {
    "duration": 11,
    "start_time": "2021-07-07T16:52:40.258Z"
   },
   {
    "duration": 10,
    "start_time": "2021-07-07T16:52:46.251Z"
   },
   {
    "duration": 8,
    "start_time": "2021-07-07T16:52:47.182Z"
   },
   {
    "duration": 27,
    "start_time": "2021-07-07T16:53:20.391Z"
   },
   {
    "duration": 20,
    "start_time": "2021-07-07T16:53:22.022Z"
   },
   {
    "duration": 23,
    "start_time": "2021-07-07T16:53:23.690Z"
   },
   {
    "duration": 8,
    "start_time": "2021-07-07T16:53:24.261Z"
   },
   {
    "duration": 4,
    "start_time": "2021-07-07T16:53:38.733Z"
   },
   {
    "duration": 7,
    "start_time": "2021-07-07T16:53:40.445Z"
   },
   {
    "duration": 11,
    "start_time": "2021-07-07T16:53:41.348Z"
   },
   {
    "duration": 13,
    "start_time": "2021-07-07T16:53:45.250Z"
   },
   {
    "duration": 12,
    "start_time": "2021-07-07T16:53:45.467Z"
   },
   {
    "duration": 4,
    "start_time": "2021-07-07T16:55:32.704Z"
   },
   {
    "duration": 12,
    "start_time": "2021-07-07T16:55:49.012Z"
   },
   {
    "duration": 18,
    "start_time": "2021-07-07T16:55:49.547Z"
   },
   {
    "duration": 611,
    "start_time": "2021-07-07T16:58:35.156Z"
   },
   {
    "duration": 200,
    "start_time": "2021-07-07T16:58:35.770Z"
   },
   {
    "duration": 86,
    "start_time": "2021-07-07T16:58:35.972Z"
   },
   {
    "duration": 3,
    "start_time": "2021-07-07T16:58:36.060Z"
   },
   {
    "duration": 27,
    "start_time": "2021-07-07T16:58:36.065Z"
   },
   {
    "duration": 8,
    "start_time": "2021-07-07T16:58:36.094Z"
   },
   {
    "duration": 17,
    "start_time": "2021-07-07T16:58:36.103Z"
   },
   {
    "duration": 5,
    "start_time": "2021-07-07T16:58:36.123Z"
   },
   {
    "duration": 11,
    "start_time": "2021-07-07T16:58:36.130Z"
   },
   {
    "duration": 7,
    "start_time": "2021-07-07T16:58:36.143Z"
   },
   {
    "duration": 37,
    "start_time": "2021-07-07T16:58:36.152Z"
   },
   {
    "duration": 27,
    "start_time": "2021-07-07T16:58:36.191Z"
   },
   {
    "duration": 19,
    "start_time": "2021-07-07T16:58:36.219Z"
   },
   {
    "duration": 49,
    "start_time": "2021-07-07T16:58:36.240Z"
   },
   {
    "duration": 6,
    "start_time": "2021-07-07T16:58:36.291Z"
   },
   {
    "duration": 3,
    "start_time": "2021-07-07T16:58:36.299Z"
   },
   {
    "duration": 13,
    "start_time": "2021-07-07T16:58:36.304Z"
   },
   {
    "duration": 10,
    "start_time": "2021-07-07T16:58:36.319Z"
   },
   {
    "duration": 10,
    "start_time": "2021-07-07T16:58:36.331Z"
   },
   {
    "duration": 44,
    "start_time": "2021-07-07T16:58:36.343Z"
   },
   {
    "duration": 4,
    "start_time": "2021-07-07T16:58:36.388Z"
   },
   {
    "duration": 13,
    "start_time": "2021-07-07T16:58:36.394Z"
   },
   {
    "duration": 16,
    "start_time": "2021-07-07T16:58:36.410Z"
   },
   {
    "duration": 8,
    "start_time": "2021-07-07T17:02:31.629Z"
   },
   {
    "duration": 8,
    "start_time": "2021-07-07T17:02:34.308Z"
   },
   {
    "duration": 6,
    "start_time": "2021-07-07T17:05:13.483Z"
   },
   {
    "duration": 17,
    "start_time": "2021-07-07T17:05:20.606Z"
   },
   {
    "duration": 7,
    "start_time": "2021-07-07T17:05:34.638Z"
   },
   {
    "duration": 3,
    "start_time": "2021-07-07T17:06:31.883Z"
   },
   {
    "duration": 570,
    "start_time": "2021-07-07T17:06:37.165Z"
   },
   {
    "duration": 174,
    "start_time": "2021-07-07T17:06:37.737Z"
   },
   {
    "duration": 47,
    "start_time": "2021-07-07T17:06:37.913Z"
   },
   {
    "duration": 3,
    "start_time": "2021-07-07T17:06:37.962Z"
   },
   {
    "duration": 27,
    "start_time": "2021-07-07T17:06:37.967Z"
   },
   {
    "duration": 7,
    "start_time": "2021-07-07T17:06:37.996Z"
   },
   {
    "duration": 16,
    "start_time": "2021-07-07T17:06:38.005Z"
   },
   {
    "duration": 6,
    "start_time": "2021-07-07T17:06:38.024Z"
   },
   {
    "duration": 12,
    "start_time": "2021-07-07T17:06:38.031Z"
   },
   {
    "duration": 41,
    "start_time": "2021-07-07T17:06:38.045Z"
   },
   {
    "duration": 8,
    "start_time": "2021-07-07T17:06:38.088Z"
   },
   {
    "duration": 26,
    "start_time": "2021-07-07T17:06:38.098Z"
   },
   {
    "duration": 17,
    "start_time": "2021-07-07T17:06:38.126Z"
   },
   {
    "duration": 43,
    "start_time": "2021-07-07T17:06:38.144Z"
   },
   {
    "duration": 6,
    "start_time": "2021-07-07T17:06:38.188Z"
   },
   {
    "duration": 5,
    "start_time": "2021-07-07T17:06:38.195Z"
   },
   {
    "duration": 9,
    "start_time": "2021-07-07T17:06:38.201Z"
   },
   {
    "duration": 12,
    "start_time": "2021-07-07T17:06:38.212Z"
   },
   {
    "duration": 11,
    "start_time": "2021-07-07T17:06:38.226Z"
   },
   {
    "duration": 47,
    "start_time": "2021-07-07T17:06:38.239Z"
   },
   {
    "duration": 4,
    "start_time": "2021-07-07T17:06:38.288Z"
   },
   {
    "duration": 13,
    "start_time": "2021-07-07T17:06:38.293Z"
   },
   {
    "duration": 5,
    "start_time": "2021-07-07T17:06:38.309Z"
   },
   {
    "duration": 18,
    "start_time": "2021-07-07T17:06:38.325Z"
   },
   {
    "duration": 20,
    "start_time": "2021-07-07T17:07:02.805Z"
   },
   {
    "duration": 19,
    "start_time": "2021-07-07T17:07:08.527Z"
   },
   {
    "duration": 19,
    "start_time": "2021-07-07T17:07:12.758Z"
   },
   {
    "duration": 22,
    "start_time": "2021-07-07T17:07:17.497Z"
   },
   {
    "duration": 19,
    "start_time": "2021-07-07T17:07:19.645Z"
   },
   {
    "duration": 10,
    "start_time": "2021-07-07T17:07:34.239Z"
   },
   {
    "duration": 17,
    "start_time": "2021-07-07T17:07:54.144Z"
   },
   {
    "duration": 14,
    "start_time": "2021-07-07T17:08:14.357Z"
   },
   {
    "duration": 616,
    "start_time": "2021-07-07T17:08:45.254Z"
   },
   {
    "duration": 178,
    "start_time": "2021-07-07T17:08:45.872Z"
   },
   {
    "duration": 60,
    "start_time": "2021-07-07T17:08:46.054Z"
   },
   {
    "duration": 3,
    "start_time": "2021-07-07T17:08:46.116Z"
   },
   {
    "duration": 26,
    "start_time": "2021-07-07T17:08:46.121Z"
   },
   {
    "duration": 7,
    "start_time": "2021-07-07T17:08:46.149Z"
   },
   {
    "duration": 17,
    "start_time": "2021-07-07T17:08:46.158Z"
   },
   {
    "duration": 14,
    "start_time": "2021-07-07T17:08:46.176Z"
   },
   {
    "duration": 17,
    "start_time": "2021-07-07T17:08:46.193Z"
   },
   {
    "duration": 9,
    "start_time": "2021-07-07T17:08:46.211Z"
   },
   {
    "duration": 21,
    "start_time": "2021-07-07T17:08:46.221Z"
   },
   {
    "duration": 49,
    "start_time": "2021-07-07T17:08:46.244Z"
   },
   {
    "duration": 24,
    "start_time": "2021-07-07T17:08:46.295Z"
   },
   {
    "duration": 22,
    "start_time": "2021-07-07T17:08:46.321Z"
   },
   {
    "duration": 6,
    "start_time": "2021-07-07T17:08:46.345Z"
   },
   {
    "duration": 5,
    "start_time": "2021-07-07T17:08:46.353Z"
   },
   {
    "duration": 13,
    "start_time": "2021-07-07T17:08:46.386Z"
   },
   {
    "duration": 12,
    "start_time": "2021-07-07T17:08:46.402Z"
   },
   {
    "duration": 10,
    "start_time": "2021-07-07T17:08:46.415Z"
   },
   {
    "duration": 7,
    "start_time": "2021-07-07T17:08:46.427Z"
   },
   {
    "duration": 8,
    "start_time": "2021-07-07T17:08:46.435Z"
   },
   {
    "duration": 68,
    "start_time": "2021-07-07T17:08:46.446Z"
   },
   {
    "duration": 13,
    "start_time": "2021-07-07T17:08:46.516Z"
   },
   {
    "duration": 78,
    "start_time": "2021-07-07T17:08:46.530Z"
   },
   {
    "duration": 40,
    "start_time": "2021-07-07T17:09:08.185Z"
   },
   {
    "duration": 16,
    "start_time": "2021-07-07T17:09:19.324Z"
   },
   {
    "duration": 21,
    "start_time": "2021-07-07T17:09:23.290Z"
   },
   {
    "duration": 13,
    "start_time": "2021-07-07T17:09:54.812Z"
   },
   {
    "duration": 13,
    "start_time": "2021-07-07T17:10:02.039Z"
   },
   {
    "duration": 10,
    "start_time": "2021-07-07T17:10:29.632Z"
   },
   {
    "duration": 13,
    "start_time": "2021-07-07T17:10:52.372Z"
   },
   {
    "duration": 13,
    "start_time": "2021-07-07T17:11:17.270Z"
   },
   {
    "duration": 13,
    "start_time": "2021-07-07T17:14:59.284Z"
   },
   {
    "duration": 547,
    "start_time": "2021-07-07T17:18:52.403Z"
   },
   {
    "duration": 163,
    "start_time": "2021-07-07T17:18:52.952Z"
   },
   {
    "duration": 44,
    "start_time": "2021-07-07T17:18:53.117Z"
   },
   {
    "duration": 3,
    "start_time": "2021-07-07T17:18:53.162Z"
   },
   {
    "duration": 26,
    "start_time": "2021-07-07T17:18:53.167Z"
   },
   {
    "duration": 6,
    "start_time": "2021-07-07T17:18:53.195Z"
   },
   {
    "duration": 15,
    "start_time": "2021-07-07T17:18:53.203Z"
   },
   {
    "duration": 5,
    "start_time": "2021-07-07T17:18:53.220Z"
   },
   {
    "duration": 11,
    "start_time": "2021-07-07T17:18:53.228Z"
   },
   {
    "duration": 9,
    "start_time": "2021-07-07T17:18:53.241Z"
   },
   {
    "duration": 41,
    "start_time": "2021-07-07T17:18:53.252Z"
   },
   {
    "duration": 33,
    "start_time": "2021-07-07T17:18:53.295Z"
   },
   {
    "duration": 19,
    "start_time": "2021-07-07T17:18:53.330Z"
   },
   {
    "duration": 49,
    "start_time": "2021-07-07T17:18:53.350Z"
   },
   {
    "duration": 5,
    "start_time": "2021-07-07T17:18:53.401Z"
   },
   {
    "duration": 5,
    "start_time": "2021-07-07T17:18:53.408Z"
   },
   {
    "duration": 11,
    "start_time": "2021-07-07T17:18:53.414Z"
   },
   {
    "duration": 9,
    "start_time": "2021-07-07T17:18:53.427Z"
   },
   {
    "duration": 10,
    "start_time": "2021-07-07T17:18:53.437Z"
   },
   {
    "duration": 39,
    "start_time": "2021-07-07T17:18:53.448Z"
   },
   {
    "duration": 26,
    "start_time": "2021-07-07T17:18:55.799Z"
   },
   {
    "duration": 598,
    "start_time": "2021-07-07T17:20:17.862Z"
   },
   {
    "duration": 161,
    "start_time": "2021-07-07T17:20:18.462Z"
   },
   {
    "duration": 45,
    "start_time": "2021-07-07T17:20:18.626Z"
   },
   {
    "duration": 4,
    "start_time": "2021-07-07T17:20:18.673Z"
   },
   {
    "duration": 38,
    "start_time": "2021-07-07T17:20:26.877Z"
   },
   {
    "duration": 7,
    "start_time": "2021-07-07T17:20:37.405Z"
   },
   {
    "duration": 19,
    "start_time": "2021-07-07T17:20:51.534Z"
   },
   {
    "duration": 5,
    "start_time": "2021-07-07T17:20:57.228Z"
   },
   {
    "duration": 7,
    "start_time": "2021-07-07T17:21:08.235Z"
   },
   {
    "duration": 19,
    "start_time": "2021-07-07T17:21:42.158Z"
   },
   {
    "duration": 14,
    "start_time": "2021-07-07T17:21:50.225Z"
   },
   {
    "duration": 22,
    "start_time": "2021-07-07T17:22:54.104Z"
   },
   {
    "duration": 5,
    "start_time": "2021-07-07T17:22:56.371Z"
   },
   {
    "duration": 14,
    "start_time": "2021-07-07T17:22:58.316Z"
   },
   {
    "duration": 5,
    "start_time": "2021-07-07T17:22:58.493Z"
   },
   {
    "duration": 35,
    "start_time": "2021-07-07T17:22:59.666Z"
   },
   {
    "duration": 6,
    "start_time": "2021-07-07T17:23:02.410Z"
   },
   {
    "duration": 611,
    "start_time": "2021-07-07T17:24:59.664Z"
   },
   {
    "duration": 178,
    "start_time": "2021-07-07T17:25:01.945Z"
   },
   {
    "duration": 47,
    "start_time": "2021-07-07T17:25:02.125Z"
   },
   {
    "duration": 2,
    "start_time": "2021-07-07T17:25:07.903Z"
   },
   {
    "duration": 254,
    "start_time": "2021-07-07T17:25:08.232Z"
   },
   {
    "duration": 182,
    "start_time": "2021-07-07T17:25:08.671Z"
   },
   {
    "duration": 6,
    "start_time": "2021-07-07T17:25:13.104Z"
   },
   {
    "duration": 36,
    "start_time": "2021-07-07T17:25:13.662Z"
   },
   {
    "duration": 7,
    "start_time": "2021-07-07T17:25:14.528Z"
   },
   {
    "duration": 24,
    "start_time": "2021-07-07T17:25:27.982Z"
   },
   {
    "duration": 3,
    "start_time": "2021-07-07T17:25:48.982Z"
   },
   {
    "duration": 165,
    "start_time": "2021-07-07T17:25:48.987Z"
   },
   {
    "duration": 50,
    "start_time": "2021-07-07T17:25:49.154Z"
   },
   {
    "duration": 4,
    "start_time": "2021-07-07T17:25:49.206Z"
   },
   {
    "duration": 26,
    "start_time": "2021-07-07T17:25:49.212Z"
   },
   {
    "duration": 7,
    "start_time": "2021-07-07T17:25:49.240Z"
   },
   {
    "duration": 16,
    "start_time": "2021-07-07T17:25:49.249Z"
   },
   {
    "duration": 22,
    "start_time": "2021-07-07T17:25:49.266Z"
   },
   {
    "duration": 16,
    "start_time": "2021-07-07T17:25:49.291Z"
   },
   {
    "duration": 9,
    "start_time": "2021-07-07T17:25:49.309Z"
   },
   {
    "duration": 7,
    "start_time": "2021-07-07T17:25:49.319Z"
   },
   {
    "duration": 28,
    "start_time": "2021-07-07T17:25:49.328Z"
   },
   {
    "duration": 44,
    "start_time": "2021-07-07T17:25:49.357Z"
   },
   {
    "duration": 22,
    "start_time": "2021-07-07T17:25:49.403Z"
   },
   {
    "duration": 7,
    "start_time": "2021-07-07T17:25:49.427Z"
   },
   {
    "duration": 3,
    "start_time": "2021-07-07T17:25:49.436Z"
   },
   {
    "duration": 44,
    "start_time": "2021-07-07T17:25:49.441Z"
   },
   {
    "duration": 12,
    "start_time": "2021-07-07T17:25:49.488Z"
   },
   {
    "duration": 13,
    "start_time": "2021-07-07T17:25:49.502Z"
   },
   {
    "duration": 10,
    "start_time": "2021-07-07T17:25:49.516Z"
   },
   {
    "duration": 62,
    "start_time": "2021-07-07T17:25:49.527Z"
   },
   {
    "duration": 26,
    "start_time": "2021-07-07T17:26:51.809Z"
   },
   {
    "duration": 26,
    "start_time": "2021-07-07T17:26:55.759Z"
   },
   {
    "duration": 26,
    "start_time": "2021-07-07T17:27:04.501Z"
   },
   {
    "duration": 25,
    "start_time": "2021-07-07T17:28:24.859Z"
   },
   {
    "duration": 21,
    "start_time": "2021-07-07T17:28:55.250Z"
   },
   {
    "duration": 21,
    "start_time": "2021-07-07T17:28:58.885Z"
   },
   {
    "duration": 7,
    "start_time": "2021-07-07T17:45:40.972Z"
   },
   {
    "duration": 13,
    "start_time": "2021-07-07T17:45:42.529Z"
   },
   {
    "duration": 27,
    "start_time": "2021-07-07T17:45:51.026Z"
   },
   {
    "duration": 518,
    "start_time": "2021-07-07T17:46:15.532Z"
   },
   {
    "duration": 235,
    "start_time": "2021-07-07T17:46:16.053Z"
   },
   {
    "duration": 80,
    "start_time": "2021-07-07T17:46:16.292Z"
   },
   {
    "duration": 5,
    "start_time": "2021-07-07T17:46:16.373Z"
   },
   {
    "duration": 26,
    "start_time": "2021-07-07T17:46:16.380Z"
   },
   {
    "duration": 7,
    "start_time": "2021-07-07T17:46:16.408Z"
   },
   {
    "duration": 16,
    "start_time": "2021-07-07T17:46:16.418Z"
   },
   {
    "duration": 5,
    "start_time": "2021-07-07T17:46:16.436Z"
   },
   {
    "duration": 13,
    "start_time": "2021-07-07T17:46:16.442Z"
   },
   {
    "duration": 35,
    "start_time": "2021-07-07T17:46:16.456Z"
   },
   {
    "duration": 8,
    "start_time": "2021-07-07T17:46:16.493Z"
   },
   {
    "duration": 28,
    "start_time": "2021-07-07T17:46:16.502Z"
   },
   {
    "duration": 17,
    "start_time": "2021-07-07T17:46:16.532Z"
   },
   {
    "duration": 44,
    "start_time": "2021-07-07T17:46:16.551Z"
   },
   {
    "duration": 6,
    "start_time": "2021-07-07T17:46:16.597Z"
   },
   {
    "duration": 4,
    "start_time": "2021-07-07T17:46:16.605Z"
   },
   {
    "duration": 9,
    "start_time": "2021-07-07T17:46:16.610Z"
   },
   {
    "duration": 9,
    "start_time": "2021-07-07T17:46:16.621Z"
   },
   {
    "duration": 10,
    "start_time": "2021-07-07T17:46:16.632Z"
   },
   {
    "duration": 43,
    "start_time": "2021-07-07T17:46:16.644Z"
   },
   {
    "duration": 26,
    "start_time": "2021-07-07T17:46:16.689Z"
   },
   {
    "duration": 19,
    "start_time": "2021-07-07T17:46:16.718Z"
   },
   {
    "duration": 8,
    "start_time": "2021-07-07T17:46:16.738Z"
   },
   {
    "duration": 43,
    "start_time": "2021-07-07T17:46:16.747Z"
   },
   {
    "duration": 19,
    "start_time": "2021-07-07T17:46:16.791Z"
   },
   {
    "duration": 9,
    "start_time": "2021-07-07T17:46:16.812Z"
   },
   {
    "duration": 60,
    "start_time": "2021-07-07T17:46:16.822Z"
   },
   {
    "duration": -8,
    "start_time": "2021-07-07T17:46:16.892Z"
   },
   {
    "duration": 12,
    "start_time": "2021-07-07T17:48:47.707Z"
   },
   {
    "duration": 553,
    "start_time": "2021-07-07T18:10:09.350Z"
   },
   {
    "duration": 230,
    "start_time": "2021-07-07T18:10:09.905Z"
   },
   {
    "duration": 97,
    "start_time": "2021-07-07T18:10:10.137Z"
   },
   {
    "duration": 5,
    "start_time": "2021-07-07T18:10:10.236Z"
   },
   {
    "duration": 29,
    "start_time": "2021-07-07T18:10:10.242Z"
   },
   {
    "duration": 7,
    "start_time": "2021-07-07T18:10:10.272Z"
   },
   {
    "duration": 15,
    "start_time": "2021-07-07T18:10:10.281Z"
   },
   {
    "duration": 4,
    "start_time": "2021-07-07T18:10:10.299Z"
   },
   {
    "duration": 14,
    "start_time": "2021-07-07T18:10:10.305Z"
   },
   {
    "duration": 8,
    "start_time": "2021-07-07T18:10:10.321Z"
   },
   {
    "duration": 8,
    "start_time": "2021-07-07T18:10:10.331Z"
   },
   {
    "duration": 56,
    "start_time": "2021-07-07T18:10:10.341Z"
   },
   {
    "duration": 19,
    "start_time": "2021-07-07T18:10:10.399Z"
   },
   {
    "duration": 23,
    "start_time": "2021-07-07T18:10:10.419Z"
   },
   {
    "duration": 6,
    "start_time": "2021-07-07T18:10:10.444Z"
   },
   {
    "duration": 9,
    "start_time": "2021-07-07T18:10:10.451Z"
   },
   {
    "duration": 30,
    "start_time": "2021-07-07T18:10:10.462Z"
   },
   {
    "duration": 9,
    "start_time": "2021-07-07T18:10:10.494Z"
   },
   {
    "duration": 14,
    "start_time": "2021-07-07T18:10:10.505Z"
   },
   {
    "duration": 7,
    "start_time": "2021-07-07T18:10:10.521Z"
   },
   {
    "duration": 26,
    "start_time": "2021-07-07T18:10:10.530Z"
   },
   {
    "duration": 44,
    "start_time": "2021-07-07T18:10:10.558Z"
   },
   {
    "duration": 7,
    "start_time": "2021-07-07T18:10:10.605Z"
   },
   {
    "duration": 11,
    "start_time": "2021-07-07T18:10:10.614Z"
   },
   {
    "duration": 19,
    "start_time": "2021-07-07T18:10:10.626Z"
   },
   {
    "duration": 44,
    "start_time": "2021-07-07T18:10:10.646Z"
   },
   {
    "duration": 516,
    "start_time": "2021-07-07T18:14:00.826Z"
   },
   {
    "duration": 230,
    "start_time": "2021-07-07T18:14:01.344Z"
   },
   {
    "duration": 105,
    "start_time": "2021-07-07T18:14:01.576Z"
   },
   {
    "duration": 5,
    "start_time": "2021-07-07T18:14:01.683Z"
   },
   {
    "duration": 46,
    "start_time": "2021-07-07T18:14:01.690Z"
   },
   {
    "duration": 7,
    "start_time": "2021-07-07T18:14:01.738Z"
   },
   {
    "duration": 20,
    "start_time": "2021-07-07T18:14:01.747Z"
   },
   {
    "duration": 16,
    "start_time": "2021-07-07T18:14:01.769Z"
   },
   {
    "duration": 14,
    "start_time": "2021-07-07T18:14:01.787Z"
   },
   {
    "duration": 15,
    "start_time": "2021-07-07T18:14:01.803Z"
   },
   {
    "duration": 12,
    "start_time": "2021-07-07T18:14:01.820Z"
   },
   {
    "duration": 35,
    "start_time": "2021-07-07T18:14:01.833Z"
   },
   {
    "duration": 31,
    "start_time": "2021-07-07T18:14:01.869Z"
   },
   {
    "duration": 37,
    "start_time": "2021-07-07T18:14:01.902Z"
   },
   {
    "duration": 8,
    "start_time": "2021-07-07T18:14:01.942Z"
   },
   {
    "duration": 16,
    "start_time": "2021-07-07T18:14:01.952Z"
   },
   {
    "duration": 13,
    "start_time": "2021-07-07T18:14:01.970Z"
   },
   {
    "duration": 32,
    "start_time": "2021-07-07T18:14:01.985Z"
   },
   {
    "duration": 11,
    "start_time": "2021-07-07T18:14:02.019Z"
   },
   {
    "duration": 22,
    "start_time": "2021-07-07T18:14:02.031Z"
   },
   {
    "duration": 27,
    "start_time": "2021-07-07T18:14:02.055Z"
   },
   {
    "duration": 18,
    "start_time": "2021-07-07T18:14:02.084Z"
   },
   {
    "duration": 18,
    "start_time": "2021-07-07T18:14:02.106Z"
   },
   {
    "duration": 11,
    "start_time": "2021-07-07T18:14:02.126Z"
   },
   {
    "duration": 21,
    "start_time": "2021-07-07T18:14:02.138Z"
   },
   {
    "duration": 32,
    "start_time": "2021-07-07T18:14:02.161Z"
   },
   {
    "duration": 28,
    "start_time": "2021-07-07T18:14:44.295Z"
   },
   {
    "duration": 6,
    "start_time": "2021-07-07T18:15:05.834Z"
   },
   {
    "duration": 511,
    "start_time": "2021-07-07T18:15:41.541Z"
   },
   {
    "duration": 183,
    "start_time": "2021-07-07T18:15:42.054Z"
   },
   {
    "duration": 50,
    "start_time": "2021-07-07T18:15:42.239Z"
   },
   {
    "duration": 5,
    "start_time": "2021-07-07T18:15:42.291Z"
   },
   {
    "duration": 48,
    "start_time": "2021-07-07T18:15:42.297Z"
   },
   {
    "duration": 8,
    "start_time": "2021-07-07T18:15:42.346Z"
   },
   {
    "duration": 17,
    "start_time": "2021-07-07T18:15:42.356Z"
   },
   {
    "duration": 15,
    "start_time": "2021-07-07T18:15:42.375Z"
   },
   {
    "duration": 12,
    "start_time": "2021-07-07T18:15:42.392Z"
   },
   {
    "duration": 7,
    "start_time": "2021-07-07T18:15:42.406Z"
   },
   {
    "duration": 7,
    "start_time": "2021-07-07T18:15:42.415Z"
   },
   {
    "duration": 29,
    "start_time": "2021-07-07T18:15:42.423Z"
   },
   {
    "duration": 43,
    "start_time": "2021-07-07T18:15:42.453Z"
   },
   {
    "duration": 18,
    "start_time": "2021-07-07T18:15:42.497Z"
   },
   {
    "duration": 6,
    "start_time": "2021-07-07T18:15:42.516Z"
   },
   {
    "duration": 3,
    "start_time": "2021-07-07T18:15:42.523Z"
   },
   {
    "duration": 18,
    "start_time": "2021-07-07T18:15:42.528Z"
   },
   {
    "duration": 10,
    "start_time": "2021-07-07T18:15:42.547Z"
   },
   {
    "duration": 36,
    "start_time": "2021-07-07T18:15:42.559Z"
   },
   {
    "duration": 8,
    "start_time": "2021-07-07T18:15:42.597Z"
   },
   {
    "duration": 28,
    "start_time": "2021-07-07T18:15:42.606Z"
   },
   {
    "duration": 52,
    "start_time": "2021-07-07T18:15:42.635Z"
   },
   {
    "duration": 7,
    "start_time": "2021-07-07T18:15:42.690Z"
   },
   {
    "duration": 10,
    "start_time": "2021-07-07T18:15:42.699Z"
   },
   {
    "duration": 19,
    "start_time": "2021-07-07T18:15:42.711Z"
   },
   {
    "duration": 9,
    "start_time": "2021-07-07T18:15:42.732Z"
   },
   {
    "duration": 5,
    "start_time": "2021-07-07T18:15:42.743Z"
   },
   {
    "duration": 1450,
    "start_time": "2021-07-07T18:15:51.984Z"
   },
   {
    "duration": 161,
    "start_time": "2021-07-07T18:15:53.435Z"
   },
   {
    "duration": 124,
    "start_time": "2021-07-07T18:15:53.598Z"
   },
   {
    "duration": 5,
    "start_time": "2021-07-07T18:15:53.724Z"
   },
   {
    "duration": 34,
    "start_time": "2021-07-07T18:15:53.730Z"
   },
   {
    "duration": 7,
    "start_time": "2021-07-07T18:15:53.765Z"
   },
   {
    "duration": 15,
    "start_time": "2021-07-07T18:15:53.773Z"
   },
   {
    "duration": 5,
    "start_time": "2021-07-07T18:15:53.791Z"
   },
   {
    "duration": 19,
    "start_time": "2021-07-07T18:15:53.798Z"
   },
   {
    "duration": 9,
    "start_time": "2021-07-07T18:15:53.818Z"
   },
   {
    "duration": 19,
    "start_time": "2021-07-07T18:15:53.828Z"
   },
   {
    "duration": 27,
    "start_time": "2021-07-07T18:15:53.848Z"
   },
   {
    "duration": 16,
    "start_time": "2021-07-07T18:15:53.884Z"
   },
   {
    "duration": 29,
    "start_time": "2021-07-07T18:15:53.901Z"
   },
   {
    "duration": 5,
    "start_time": "2021-07-07T18:15:53.932Z"
   },
   {
    "duration": 15,
    "start_time": "2021-07-07T18:15:53.939Z"
   },
   {
    "duration": 13,
    "start_time": "2021-07-07T18:15:53.956Z"
   },
   {
    "duration": 20,
    "start_time": "2021-07-07T18:15:53.971Z"
   },
   {
    "duration": 14,
    "start_time": "2021-07-07T18:15:53.992Z"
   },
   {
    "duration": 9,
    "start_time": "2021-07-07T18:15:54.009Z"
   },
   {
    "duration": 28,
    "start_time": "2021-07-07T18:15:54.020Z"
   },
   {
    "duration": 50,
    "start_time": "2021-07-07T18:15:54.051Z"
   },
   {
    "duration": 8,
    "start_time": "2021-07-07T18:15:54.105Z"
   },
   {
    "duration": 11,
    "start_time": "2021-07-07T18:15:54.115Z"
   },
   {
    "duration": 20,
    "start_time": "2021-07-07T18:15:54.128Z"
   },
   {
    "duration": 13,
    "start_time": "2021-07-07T18:15:54.184Z"
   },
   {
    "duration": 7,
    "start_time": "2021-07-07T18:15:54.199Z"
   },
   {
    "duration": 7,
    "start_time": "2021-07-07T18:17:08.042Z"
   },
   {
    "duration": 8,
    "start_time": "2021-07-07T18:17:21.008Z"
   },
   {
    "duration": 7,
    "start_time": "2021-07-07T18:17:29.003Z"
   },
   {
    "duration": 8,
    "start_time": "2021-07-07T18:17:32.492Z"
   },
   {
    "duration": 9,
    "start_time": "2021-07-07T18:17:41.758Z"
   },
   {
    "duration": 255,
    "start_time": "2021-07-07T18:20:20.897Z"
   },
   {
    "duration": 173,
    "start_time": "2021-07-07T18:20:26.636Z"
   },
   {
    "duration": 7,
    "start_time": "2021-07-07T18:21:47.164Z"
   },
   {
    "duration": 254,
    "start_time": "2021-07-07T18:23:08.703Z"
   },
   {
    "duration": 21,
    "start_time": "2021-07-07T18:23:22.506Z"
   },
   {
    "duration": 315,
    "start_time": "2021-07-07T18:25:54.801Z"
   },
   {
    "duration": 34,
    "start_time": "2021-07-07T18:26:51.817Z"
   },
   {
    "duration": 327,
    "start_time": "2021-07-07T18:26:56.147Z"
   },
   {
    "duration": 342,
    "start_time": "2021-07-07T18:27:15.887Z"
   },
   {
    "duration": 302,
    "start_time": "2021-07-07T18:28:18.569Z"
   },
   {
    "duration": 226,
    "start_time": "2021-07-07T18:29:20.879Z"
   },
   {
    "duration": 207,
    "start_time": "2021-07-07T18:29:58.114Z"
   },
   {
    "duration": 140,
    "start_time": "2021-07-07T18:32:04.372Z"
   },
   {
    "duration": 158,
    "start_time": "2021-07-07T18:32:32.508Z"
   },
   {
    "duration": 145,
    "start_time": "2021-07-07T18:32:41.365Z"
   },
   {
    "duration": 132,
    "start_time": "2021-07-07T18:32:45.199Z"
   },
   {
    "duration": 11,
    "start_time": "2021-07-07T18:35:24.679Z"
   },
   {
    "duration": 268,
    "start_time": "2021-07-07T18:36:16.145Z"
   },
   {
    "duration": 227,
    "start_time": "2021-07-07T18:37:04.918Z"
   },
   {
    "duration": 3,
    "start_time": "2021-07-07T18:37:33.012Z"
   },
   {
    "duration": 671,
    "start_time": "2021-07-07T18:37:38.295Z"
   },
   {
    "duration": 54,
    "start_time": "2021-07-07T18:37:53.406Z"
   },
   {
    "duration": 631,
    "start_time": "2021-07-07T18:37:56.463Z"
   },
   {
    "duration": 19,
    "start_time": "2021-07-07T18:39:40.535Z"
   },
   {
    "duration": 20,
    "start_time": "2021-07-07T18:40:12.236Z"
   },
   {
    "duration": 633,
    "start_time": "2021-07-07T18:42:00.398Z"
   },
   {
    "duration": 218,
    "start_time": "2021-07-07T18:42:01.033Z"
   },
   {
    "duration": 49,
    "start_time": "2021-07-07T18:42:01.253Z"
   },
   {
    "duration": 5,
    "start_time": "2021-07-07T18:42:01.303Z"
   },
   {
    "duration": 27,
    "start_time": "2021-07-07T18:42:01.310Z"
   },
   {
    "duration": 8,
    "start_time": "2021-07-07T18:42:01.339Z"
   },
   {
    "duration": 20,
    "start_time": "2021-07-07T18:42:01.348Z"
   },
   {
    "duration": 6,
    "start_time": "2021-07-07T18:42:01.386Z"
   },
   {
    "duration": 16,
    "start_time": "2021-07-07T18:42:01.394Z"
   },
   {
    "duration": 9,
    "start_time": "2021-07-07T18:42:01.411Z"
   },
   {
    "duration": 11,
    "start_time": "2021-07-07T18:42:01.421Z"
   },
   {
    "duration": 31,
    "start_time": "2021-07-07T18:42:01.434Z"
   },
   {
    "duration": 18,
    "start_time": "2021-07-07T18:42:01.485Z"
   },
   {
    "duration": 23,
    "start_time": "2021-07-07T18:42:01.505Z"
   },
   {
    "duration": 6,
    "start_time": "2021-07-07T18:42:01.530Z"
   },
   {
    "duration": 10,
    "start_time": "2021-07-07T18:42:01.538Z"
   },
   {
    "duration": 13,
    "start_time": "2021-07-07T18:42:01.550Z"
   },
   {
    "duration": 24,
    "start_time": "2021-07-07T18:42:01.564Z"
   },
   {
    "duration": 20,
    "start_time": "2021-07-07T18:42:01.590Z"
   },
   {
    "duration": 8,
    "start_time": "2021-07-07T18:42:01.611Z"
   },
   {
    "duration": 31,
    "start_time": "2021-07-07T18:42:01.620Z"
   },
   {
    "duration": 39,
    "start_time": "2021-07-07T18:42:01.653Z"
   },
   {
    "duration": 8,
    "start_time": "2021-07-07T18:42:01.696Z"
   },
   {
    "duration": 13,
    "start_time": "2021-07-07T18:42:01.705Z"
   },
   {
    "duration": 20,
    "start_time": "2021-07-07T18:42:01.720Z"
   },
   {
    "duration": 12,
    "start_time": "2021-07-07T18:42:01.741Z"
   },
   {
    "duration": 35,
    "start_time": "2021-07-07T18:42:01.755Z"
   },
   {
    "duration": 14,
    "start_time": "2021-07-07T18:42:01.792Z"
   },
   {
    "duration": 188,
    "start_time": "2021-07-07T18:42:01.808Z"
   },
   {
    "duration": 19,
    "start_time": "2021-07-07T18:42:01.998Z"
   },
   {
    "duration": 175,
    "start_time": "2021-07-07T18:42:02.019Z"
   },
   {
    "duration": 134,
    "start_time": "2021-07-07T18:42:02.196Z"
   },
   {
    "duration": 10,
    "start_time": "2021-07-07T18:42:02.331Z"
   },
   {
    "duration": 19,
    "start_time": "2021-07-07T18:42:02.343Z"
   },
   {
    "duration": 628,
    "start_time": "2021-07-07T18:46:30.701Z"
   },
   {
    "duration": 183,
    "start_time": "2021-07-07T18:46:31.331Z"
   },
   {
    "duration": 48,
    "start_time": "2021-07-07T18:46:31.516Z"
   },
   {
    "duration": 5,
    "start_time": "2021-07-07T18:46:31.566Z"
   },
   {
    "duration": 28,
    "start_time": "2021-07-07T18:46:31.572Z"
   },
   {
    "duration": 8,
    "start_time": "2021-07-07T18:46:31.602Z"
   },
   {
    "duration": 19,
    "start_time": "2021-07-07T18:46:31.611Z"
   },
   {
    "duration": 6,
    "start_time": "2021-07-07T18:46:31.633Z"
   },
   {
    "duration": 17,
    "start_time": "2021-07-07T18:46:31.642Z"
   },
   {
    "duration": 10,
    "start_time": "2021-07-07T18:46:31.684Z"
   },
   {
    "duration": 9,
    "start_time": "2021-07-07T18:46:31.695Z"
   },
   {
    "duration": 28,
    "start_time": "2021-07-07T18:46:31.705Z"
   },
   {
    "duration": 18,
    "start_time": "2021-07-07T18:46:31.735Z"
   },
   {
    "duration": 48,
    "start_time": "2021-07-07T18:46:31.755Z"
   },
   {
    "duration": 6,
    "start_time": "2021-07-07T18:46:31.804Z"
   },
   {
    "duration": 4,
    "start_time": "2021-07-07T18:46:31.812Z"
   },
   {
    "duration": 9,
    "start_time": "2021-07-07T18:46:31.817Z"
   },
   {
    "duration": 10,
    "start_time": "2021-07-07T18:46:31.827Z"
   },
   {
    "duration": 12,
    "start_time": "2021-07-07T18:46:31.838Z"
   },
   {
    "duration": 39,
    "start_time": "2021-07-07T18:46:31.851Z"
   },
   {
    "duration": 24,
    "start_time": "2021-07-07T18:46:31.892Z"
   },
   {
    "duration": 15,
    "start_time": "2021-07-07T18:46:31.918Z"
   },
   {
    "duration": 7,
    "start_time": "2021-07-07T18:46:31.936Z"
   },
   {
    "duration": 8,
    "start_time": "2021-07-07T18:46:31.944Z"
   },
   {
    "duration": 19,
    "start_time": "2021-07-07T18:46:31.984Z"
   },
   {
    "duration": 10,
    "start_time": "2021-07-07T18:46:32.004Z"
   },
   {
    "duration": 5,
    "start_time": "2021-07-07T18:46:32.016Z"
   },
   {
    "duration": 9,
    "start_time": "2021-07-07T18:46:32.023Z"
   },
   {
    "duration": 199,
    "start_time": "2021-07-07T18:46:32.033Z"
   },
   {
    "duration": 19,
    "start_time": "2021-07-07T18:46:32.234Z"
   },
   {
    "duration": 159,
    "start_time": "2021-07-07T18:46:32.255Z"
   },
   {
    "duration": 134,
    "start_time": "2021-07-07T18:46:32.416Z"
   },
   {
    "duration": 10,
    "start_time": "2021-07-07T18:46:32.552Z"
   },
   {
    "duration": 34,
    "start_time": "2021-07-07T18:46:32.563Z"
   },
   {
    "duration": 1039,
    "start_time": "2021-07-08T08:41:09.419Z"
   },
   {
    "duration": 333,
    "start_time": "2021-07-08T08:41:10.459Z"
   },
   {
    "duration": 173,
    "start_time": "2021-07-08T08:41:10.794Z"
   },
   {
    "duration": 5,
    "start_time": "2021-07-08T08:41:10.968Z"
   },
   {
    "duration": 25,
    "start_time": "2021-07-08T08:41:10.975Z"
   },
   {
    "duration": 9,
    "start_time": "2021-07-08T08:41:11.002Z"
   },
   {
    "duration": 18,
    "start_time": "2021-07-08T08:41:11.013Z"
   },
   {
    "duration": 6,
    "start_time": "2021-07-08T08:41:11.033Z"
   },
   {
    "duration": 44,
    "start_time": "2021-07-08T08:41:11.042Z"
   },
   {
    "duration": 10,
    "start_time": "2021-07-08T08:41:11.088Z"
   },
   {
    "duration": 9,
    "start_time": "2021-07-08T08:41:11.100Z"
   },
   {
    "duration": 27,
    "start_time": "2021-07-08T08:41:11.111Z"
   },
   {
    "duration": 46,
    "start_time": "2021-07-08T08:41:11.140Z"
   },
   {
    "duration": 17,
    "start_time": "2021-07-08T08:41:11.187Z"
   },
   {
    "duration": 6,
    "start_time": "2021-07-08T08:41:11.206Z"
   },
   {
    "duration": 5,
    "start_time": "2021-07-08T08:41:11.213Z"
   },
   {
    "duration": 10,
    "start_time": "2021-07-08T08:41:11.219Z"
   },
   {
    "duration": 9,
    "start_time": "2021-07-08T08:41:11.230Z"
   },
   {
    "duration": 45,
    "start_time": "2021-07-08T08:41:11.241Z"
   },
   {
    "duration": 7,
    "start_time": "2021-07-08T08:41:11.287Z"
   },
   {
    "duration": 24,
    "start_time": "2021-07-08T08:41:11.296Z"
   },
   {
    "duration": 16,
    "start_time": "2021-07-08T08:41:11.322Z"
   },
   {
    "duration": 7,
    "start_time": "2021-07-08T08:41:11.341Z"
   },
   {
    "duration": 41,
    "start_time": "2021-07-08T08:41:11.349Z"
   },
   {
    "duration": 17,
    "start_time": "2021-07-08T08:41:11.391Z"
   },
   {
    "duration": 9,
    "start_time": "2021-07-08T08:41:11.410Z"
   },
   {
    "duration": 5,
    "start_time": "2021-07-08T08:41:11.421Z"
   },
   {
    "duration": 6,
    "start_time": "2021-07-08T08:41:11.428Z"
   },
   {
    "duration": 198,
    "start_time": "2021-07-08T08:41:11.435Z"
   },
   {
    "duration": 18,
    "start_time": "2021-07-08T08:41:11.635Z"
   },
   {
    "duration": 155,
    "start_time": "2021-07-08T08:41:11.655Z"
   },
   {
    "duration": 138,
    "start_time": "2021-07-08T08:41:11.811Z"
   },
   {
    "duration": 10,
    "start_time": "2021-07-08T08:41:11.950Z"
   },
   {
    "duration": 29,
    "start_time": "2021-07-08T08:41:11.961Z"
   },
   {
    "duration": 171,
    "start_time": "2021-07-08T08:47:44.522Z"
   },
   {
    "duration": 124,
    "start_time": "2021-07-08T08:47:46.872Z"
   },
   {
    "duration": 191,
    "start_time": "2021-07-08T08:47:58.148Z"
   },
   {
    "duration": 191,
    "start_time": "2021-07-08T08:48:07.412Z"
   },
   {
    "duration": 261,
    "start_time": "2021-07-08T08:48:10.385Z"
   },
   {
    "duration": 255,
    "start_time": "2021-07-08T08:48:14.494Z"
   },
   {
    "duration": 219,
    "start_time": "2021-07-08T08:48:22.752Z"
   },
   {
    "duration": 173,
    "start_time": "2021-07-08T08:49:06.395Z"
   },
   {
    "duration": 180,
    "start_time": "2021-07-08T08:49:21.011Z"
   },
   {
    "duration": 6,
    "start_time": "2021-07-08T08:50:31.697Z"
   },
   {
    "duration": 10,
    "start_time": "2021-07-08T08:50:47.394Z"
   },
   {
    "duration": 11,
    "start_time": "2021-07-08T08:53:49.332Z"
   },
   {
    "duration": 171,
    "start_time": "2021-07-08T08:54:28.408Z"
   },
   {
    "duration": 636,
    "start_time": "2021-07-08T09:02:48.385Z"
   },
   {
    "duration": 227,
    "start_time": "2021-07-08T09:02:49.023Z"
   },
   {
    "duration": 104,
    "start_time": "2021-07-08T09:02:49.252Z"
   },
   {
    "duration": 5,
    "start_time": "2021-07-08T09:02:49.358Z"
   },
   {
    "duration": 27,
    "start_time": "2021-07-08T09:02:49.365Z"
   },
   {
    "duration": 8,
    "start_time": "2021-07-08T09:02:49.394Z"
   },
   {
    "duration": 18,
    "start_time": "2021-07-08T09:02:49.404Z"
   },
   {
    "duration": 6,
    "start_time": "2021-07-08T09:02:49.424Z"
   },
   {
    "duration": 11,
    "start_time": "2021-07-08T09:02:49.433Z"
   },
   {
    "duration": 13,
    "start_time": "2021-07-08T09:02:49.485Z"
   },
   {
    "duration": 9,
    "start_time": "2021-07-08T09:02:49.500Z"
   },
   {
    "duration": 38,
    "start_time": "2021-07-08T09:02:49.511Z"
   },
   {
    "duration": 42,
    "start_time": "2021-07-08T09:02:49.551Z"
   },
   {
    "duration": 21,
    "start_time": "2021-07-08T09:02:49.594Z"
   },
   {
    "duration": 6,
    "start_time": "2021-07-08T09:02:49.616Z"
   },
   {
    "duration": 3,
    "start_time": "2021-07-08T09:02:49.623Z"
   },
   {
    "duration": 9,
    "start_time": "2021-07-08T09:02:49.628Z"
   },
   {
    "duration": 52,
    "start_time": "2021-07-08T09:02:49.638Z"
   },
   {
    "duration": 11,
    "start_time": "2021-07-08T09:02:49.692Z"
   },
   {
    "duration": 8,
    "start_time": "2021-07-08T09:02:49.704Z"
   },
   {
    "duration": 27,
    "start_time": "2021-07-08T09:02:49.713Z"
   },
   {
    "duration": 59,
    "start_time": "2021-07-08T09:02:49.741Z"
   },
   {
    "duration": 8,
    "start_time": "2021-07-08T09:02:49.803Z"
   },
   {
    "duration": 14,
    "start_time": "2021-07-08T09:02:49.813Z"
   },
   {
    "duration": 20,
    "start_time": "2021-07-08T09:02:49.829Z"
   },
   {
    "duration": 44,
    "start_time": "2021-07-08T09:02:49.851Z"
   },
   {
    "duration": 14,
    "start_time": "2021-07-08T09:02:49.896Z"
   },
   {
    "duration": 221,
    "start_time": "2021-07-08T09:02:49.912Z"
   },
   {
    "duration": 6,
    "start_time": "2021-07-08T09:02:50.134Z"
   },
   {
    "duration": 206,
    "start_time": "2021-07-08T09:02:50.142Z"
   },
   {
    "duration": 19,
    "start_time": "2021-07-08T09:02:50.350Z"
   },
   {
    "duration": 21,
    "start_time": "2021-07-08T09:02:50.370Z"
   },
   {
    "duration": 20,
    "start_time": "2021-07-08T09:02:50.393Z"
   },
   {
    "duration": 5,
    "start_time": "2021-07-08T09:02:50.414Z"
   },
   {
    "duration": 5,
    "start_time": "2021-07-08T09:03:34.173Z"
   },
   {
    "duration": 6,
    "start_time": "2021-07-08T09:04:49.062Z"
   },
   {
    "duration": 9,
    "start_time": "2021-07-08T09:04:50.118Z"
   },
   {
    "duration": 14,
    "start_time": "2021-07-08T09:04:58.512Z"
   },
   {
    "duration": 9,
    "start_time": "2021-07-08T09:05:10.988Z"
   },
   {
    "duration": 11,
    "start_time": "2021-07-08T09:05:11.743Z"
   },
   {
    "duration": 7,
    "start_time": "2021-07-08T09:05:25.677Z"
   },
   {
    "duration": 13,
    "start_time": "2021-07-08T09:05:47.189Z"
   },
   {
    "duration": 13,
    "start_time": "2021-07-08T09:05:54.755Z"
   },
   {
    "duration": 4,
    "start_time": "2021-07-08T09:06:29.189Z"
   },
   {
    "duration": 244,
    "start_time": "2021-07-08T09:06:29.195Z"
   },
   {
    "duration": 91,
    "start_time": "2021-07-08T09:06:29.441Z"
   },
   {
    "duration": 4,
    "start_time": "2021-07-08T09:06:29.534Z"
   },
   {
    "duration": 28,
    "start_time": "2021-07-08T09:06:29.540Z"
   },
   {
    "duration": 6,
    "start_time": "2021-07-08T09:06:29.570Z"
   },
   {
    "duration": 18,
    "start_time": "2021-07-08T09:06:29.578Z"
   },
   {
    "duration": 5,
    "start_time": "2021-07-08T09:06:29.597Z"
   },
   {
    "duration": 13,
    "start_time": "2021-07-08T09:06:29.605Z"
   },
   {
    "duration": 8,
    "start_time": "2021-07-08T09:06:29.620Z"
   },
   {
    "duration": 7,
    "start_time": "2021-07-08T09:06:29.630Z"
   },
   {
    "duration": 63,
    "start_time": "2021-07-08T09:06:29.639Z"
   },
   {
    "duration": 17,
    "start_time": "2021-07-08T09:06:29.704Z"
   },
   {
    "duration": 20,
    "start_time": "2021-07-08T09:06:29.723Z"
   },
   {
    "duration": 6,
    "start_time": "2021-07-08T09:06:29.745Z"
   },
   {
    "duration": 3,
    "start_time": "2021-07-08T09:06:29.752Z"
   },
   {
    "duration": 7,
    "start_time": "2021-07-08T09:06:29.785Z"
   },
   {
    "duration": 11,
    "start_time": "2021-07-08T09:06:29.794Z"
   },
   {
    "duration": 15,
    "start_time": "2021-07-08T09:06:29.807Z"
   },
   {
    "duration": 8,
    "start_time": "2021-07-08T09:06:29.823Z"
   },
   {
    "duration": 70,
    "start_time": "2021-07-08T09:06:29.832Z"
   },
   {
    "duration": 17,
    "start_time": "2021-07-08T09:06:29.903Z"
   },
   {
    "duration": 9,
    "start_time": "2021-07-08T09:06:29.921Z"
   },
   {
    "duration": 9,
    "start_time": "2021-07-08T09:06:29.932Z"
   },
   {
    "duration": 57,
    "start_time": "2021-07-08T09:06:29.942Z"
   },
   {
    "duration": 11,
    "start_time": "2021-07-08T09:06:30.001Z"
   },
   {
    "duration": 19,
    "start_time": "2021-07-08T09:06:30.016Z"
   },
   {
    "duration": 217,
    "start_time": "2021-07-08T09:06:30.037Z"
   },
   {
    "duration": 6,
    "start_time": "2021-07-08T09:06:30.255Z"
   },
   {
    "duration": 205,
    "start_time": "2021-07-08T09:06:30.263Z"
   },
   {
    "duration": 27,
    "start_time": "2021-07-08T09:06:30.470Z"
   },
   {
    "duration": 11,
    "start_time": "2021-07-08T09:06:30.500Z"
   },
   {
    "duration": 31,
    "start_time": "2021-07-08T09:06:30.513Z"
   },
   {
    "duration": 18,
    "start_time": "2021-07-08T09:06:30.546Z"
   },
   {
    "duration": 11,
    "start_time": "2021-07-08T09:06:30.566Z"
   },
   {
    "duration": 19,
    "start_time": "2021-07-08T09:06:30.579Z"
   },
   {
    "duration": 20,
    "start_time": "2021-07-08T09:06:49.466Z"
   },
   {
    "duration": 9,
    "start_time": "2021-07-08T09:06:51.994Z"
   },
   {
    "duration": 20,
    "start_time": "2021-07-08T09:06:52.273Z"
   },
   {
    "duration": 246,
    "start_time": "2021-07-08T09:10:21.272Z"
   },
   {
    "duration": 84,
    "start_time": "2021-07-08T09:10:21.436Z"
   },
   {
    "duration": 7,
    "start_time": "2021-07-08T09:10:37.608Z"
   },
   {
    "duration": 189,
    "start_time": "2021-07-08T09:10:38.573Z"
   },
   {
    "duration": 185,
    "start_time": "2021-07-08T09:10:53.181Z"
   },
   {
    "duration": 11,
    "start_time": "2021-07-08T09:10:59.549Z"
   },
   {
    "duration": 42,
    "start_time": "2021-07-08T09:10:59.709Z"
   },
   {
    "duration": 12,
    "start_time": "2021-07-08T09:11:02.857Z"
   },
   {
    "duration": 28,
    "start_time": "2021-07-08T09:11:10.062Z"
   },
   {
    "duration": 249,
    "start_time": "2021-07-08T09:11:37.388Z"
   },
   {
    "duration": 232,
    "start_time": "2021-07-08T09:11:49.485Z"
   },
   {
    "duration": 453,
    "start_time": "2021-07-08T09:12:01.546Z"
   },
   {
    "duration": 440,
    "start_time": "2021-07-08T09:12:12.347Z"
   },
   {
    "duration": 213,
    "start_time": "2021-07-08T09:13:32.196Z"
   },
   {
    "duration": 172,
    "start_time": "2021-07-08T09:14:07.400Z"
   },
   {
    "duration": 185,
    "start_time": "2021-07-08T09:14:14.905Z"
   },
   {
    "duration": 209,
    "start_time": "2021-07-08T09:14:40.109Z"
   },
   {
    "duration": 201,
    "start_time": "2021-07-08T09:14:54.506Z"
   },
   {
    "duration": 622,
    "start_time": "2021-07-08T09:18:14.497Z"
   },
   {
    "duration": 220,
    "start_time": "2021-07-08T09:18:15.121Z"
   },
   {
    "duration": 79,
    "start_time": "2021-07-08T09:18:15.343Z"
   },
   {
    "duration": 4,
    "start_time": "2021-07-08T09:18:15.425Z"
   },
   {
    "duration": 24,
    "start_time": "2021-07-08T09:18:15.431Z"
   },
   {
    "duration": 8,
    "start_time": "2021-07-08T09:18:15.457Z"
   },
   {
    "duration": 16,
    "start_time": "2021-07-08T09:18:15.466Z"
   },
   {
    "duration": 5,
    "start_time": "2021-07-08T09:18:15.484Z"
   },
   {
    "duration": 10,
    "start_time": "2021-07-08T09:18:15.493Z"
   },
   {
    "duration": 8,
    "start_time": "2021-07-08T09:18:15.504Z"
   },
   {
    "duration": 7,
    "start_time": "2021-07-08T09:18:15.513Z"
   },
   {
    "duration": 26,
    "start_time": "2021-07-08T09:18:15.522Z"
   },
   {
    "duration": 49,
    "start_time": "2021-07-08T09:18:15.550Z"
   },
   {
    "duration": 21,
    "start_time": "2021-07-08T09:18:15.601Z"
   },
   {
    "duration": 8,
    "start_time": "2021-07-08T09:18:15.624Z"
   },
   {
    "duration": 3,
    "start_time": "2021-07-08T09:18:15.634Z"
   },
   {
    "duration": 8,
    "start_time": "2021-07-08T09:18:15.639Z"
   },
   {
    "duration": 45,
    "start_time": "2021-07-08T09:18:15.649Z"
   },
   {
    "duration": 13,
    "start_time": "2021-07-08T09:18:15.696Z"
   },
   {
    "duration": 10,
    "start_time": "2021-07-08T09:18:15.711Z"
   },
   {
    "duration": 64,
    "start_time": "2021-07-08T09:18:15.722Z"
   },
   {
    "duration": 19,
    "start_time": "2021-07-08T09:18:15.788Z"
   },
   {
    "duration": 9,
    "start_time": "2021-07-08T09:18:15.809Z"
   },
   {
    "duration": 9,
    "start_time": "2021-07-08T09:18:15.820Z"
   },
   {
    "duration": 18,
    "start_time": "2021-07-08T09:18:15.831Z"
   },
   {
    "duration": 43,
    "start_time": "2021-07-08T09:18:15.851Z"
   },
   {
    "duration": 12,
    "start_time": "2021-07-08T09:18:15.897Z"
   },
   {
    "duration": 219,
    "start_time": "2021-07-08T09:18:15.911Z"
   },
   {
    "duration": 8,
    "start_time": "2021-07-08T09:18:16.132Z"
   },
   {
    "duration": 199,
    "start_time": "2021-07-08T09:18:16.141Z"
   },
   {
    "duration": 18,
    "start_time": "2021-07-08T09:18:16.341Z"
   },
   {
    "duration": 24,
    "start_time": "2021-07-08T09:18:16.361Z"
   },
   {
    "duration": 24,
    "start_time": "2021-07-08T09:18:16.387Z"
   },
   {
    "duration": 211,
    "start_time": "2021-07-08T09:18:16.413Z"
   },
   {
    "duration": 18,
    "start_time": "2021-07-08T09:18:16.626Z"
   },
   {
    "duration": 596,
    "start_time": "2021-07-08T10:06:33.623Z"
   },
   {
    "duration": 181,
    "start_time": "2021-07-08T10:06:34.221Z"
   },
   {
    "duration": 176,
    "start_time": "2021-07-08T10:06:34.635Z"
   },
   {
    "duration": 239,
    "start_time": "2021-07-08T10:06:55.572Z"
   },
   {
    "duration": 6,
    "start_time": "2021-07-08T10:06:57.687Z"
   },
   {
    "duration": 4,
    "start_time": "2021-07-08T10:07:03.956Z"
   },
   {
    "duration": 4,
    "start_time": "2021-07-08T10:07:10.376Z"
   },
   {
    "duration": 4,
    "start_time": "2021-07-08T10:17:19.889Z"
   },
   {
    "duration": 3,
    "start_time": "2021-07-08T10:19:19.407Z"
   },
   {
    "duration": 197,
    "start_time": "2021-07-08T10:19:19.412Z"
   },
   {
    "duration": 127,
    "start_time": "2021-07-08T10:19:19.611Z"
   },
   {
    "duration": 4,
    "start_time": "2021-07-08T10:19:19.740Z"
   },
   {
    "duration": 27,
    "start_time": "2021-07-08T10:19:19.746Z"
   },
   {
    "duration": 7,
    "start_time": "2021-07-08T10:19:19.775Z"
   },
   {
    "duration": 30,
    "start_time": "2021-07-08T10:19:19.784Z"
   },
   {
    "duration": 7,
    "start_time": "2021-07-08T10:19:19.817Z"
   },
   {
    "duration": 26,
    "start_time": "2021-07-08T10:19:19.826Z"
   },
   {
    "duration": 18,
    "start_time": "2021-07-08T10:19:19.854Z"
   },
   {
    "duration": 14,
    "start_time": "2021-07-08T10:19:19.874Z"
   },
   {
    "duration": 48,
    "start_time": "2021-07-08T10:19:19.890Z"
   },
   {
    "duration": 17,
    "start_time": "2021-07-08T10:19:19.940Z"
   },
   {
    "duration": 38,
    "start_time": "2021-07-08T10:19:19.959Z"
   },
   {
    "duration": 8,
    "start_time": "2021-07-08T10:19:19.999Z"
   },
   {
    "duration": 15,
    "start_time": "2021-07-08T10:19:20.009Z"
   },
   {
    "duration": 22,
    "start_time": "2021-07-08T10:19:20.026Z"
   },
   {
    "duration": 10,
    "start_time": "2021-07-08T10:19:20.050Z"
   },
   {
    "duration": 10,
    "start_time": "2021-07-08T10:19:20.062Z"
   },
   {
    "duration": 20,
    "start_time": "2021-07-08T10:19:20.073Z"
   },
   {
    "duration": 29,
    "start_time": "2021-07-08T10:19:20.095Z"
   },
   {
    "duration": 17,
    "start_time": "2021-07-08T10:19:20.126Z"
   },
   {
    "duration": 40,
    "start_time": "2021-07-08T10:19:20.146Z"
   },
   {
    "duration": 15,
    "start_time": "2021-07-08T10:19:20.189Z"
   },
   {
    "duration": 19,
    "start_time": "2021-07-08T10:19:20.206Z"
   },
   {
    "duration": 10,
    "start_time": "2021-07-08T10:19:20.226Z"
   },
   {
    "duration": 11,
    "start_time": "2021-07-08T10:19:20.238Z"
   },
   {
    "duration": 297,
    "start_time": "2021-07-08T10:19:20.250Z"
   },
   {
    "duration": 6,
    "start_time": "2021-07-08T10:19:20.549Z"
   },
   {
    "duration": 191,
    "start_time": "2021-07-08T10:19:20.557Z"
   },
   {
    "duration": 19,
    "start_time": "2021-07-08T10:19:20.750Z"
   },
   {
    "duration": 20,
    "start_time": "2021-07-08T10:19:20.771Z"
   },
   {
    "duration": 15,
    "start_time": "2021-07-08T10:19:20.793Z"
   },
   {
    "duration": 222,
    "start_time": "2021-07-08T10:19:20.809Z"
   },
   {
    "duration": 20,
    "start_time": "2021-07-08T10:19:21.033Z"
   },
   {
    "duration": 27,
    "start_time": "2021-07-08T10:45:04.055Z"
   },
   {
    "duration": 8,
    "start_time": "2021-07-08T10:45:08.478Z"
   },
   {
    "duration": 8,
    "start_time": "2021-07-08T10:45:31.982Z"
   },
   {
    "duration": 10,
    "start_time": "2021-07-08T10:46:01.221Z"
   },
   {
    "duration": 17,
    "start_time": "2021-07-08T10:46:40.011Z"
   },
   {
    "duration": 193,
    "start_time": "2021-07-08T10:48:19.471Z"
   },
   {
    "duration": 225,
    "start_time": "2021-07-08T10:49:26.480Z"
   },
   {
    "duration": 204,
    "start_time": "2021-07-08T10:49:59.992Z"
   },
   {
    "duration": 435,
    "start_time": "2021-07-08T10:50:06.779Z"
   },
   {
    "duration": 199,
    "start_time": "2021-07-08T10:50:14.891Z"
   },
   {
    "duration": 204,
    "start_time": "2021-07-08T10:50:18.501Z"
   },
   {
    "duration": 244,
    "start_time": "2021-07-08T10:50:23.359Z"
   },
   {
    "duration": 192,
    "start_time": "2021-07-08T10:50:29.135Z"
   },
   {
    "duration": 218,
    "start_time": "2021-07-08T10:50:33.092Z"
   },
   {
    "duration": 207,
    "start_time": "2021-07-08T10:52:45.381Z"
   },
   {
    "duration": 5,
    "start_time": "2021-07-08T10:53:34.641Z"
   },
   {
    "duration": 196,
    "start_time": "2021-07-08T10:53:41.478Z"
   },
   {
    "duration": 43,
    "start_time": "2021-07-08T10:53:50.335Z"
   },
   {
    "duration": 32,
    "start_time": "2021-07-08T10:53:55.294Z"
   },
   {
    "duration": 55,
    "start_time": "2021-07-08T10:54:09.675Z"
   },
   {
    "duration": 16,
    "start_time": "2021-07-08T10:54:12.260Z"
   },
   {
    "duration": 15,
    "start_time": "2021-07-08T10:54:49.150Z"
   },
   {
    "duration": 20,
    "start_time": "2021-07-08T10:56:07.596Z"
   },
   {
    "duration": 16,
    "start_time": "2021-07-08T10:58:26.276Z"
   },
   {
    "duration": 22,
    "start_time": "2021-07-08T10:59:00.486Z"
   },
   {
    "duration": 18,
    "start_time": "2021-07-08T11:02:09.653Z"
   },
   {
    "duration": 10,
    "start_time": "2021-07-08T11:03:44.331Z"
   },
   {
    "duration": 10,
    "start_time": "2021-07-08T11:03:54.055Z"
   },
   {
    "duration": 12,
    "start_time": "2021-07-08T11:04:41.967Z"
   },
   {
    "duration": 24,
    "start_time": "2021-07-08T11:07:30.732Z"
   },
   {
    "duration": 6,
    "start_time": "2021-07-08T11:07:37.364Z"
   },
   {
    "duration": 16,
    "start_time": "2021-07-08T11:08:01.819Z"
   },
   {
    "duration": 17,
    "start_time": "2021-07-08T11:09:47.488Z"
   },
   {
    "duration": 246,
    "start_time": "2021-07-08T11:10:00.830Z"
   },
   {
    "duration": 18,
    "start_time": "2021-07-08T11:13:55.195Z"
   },
   {
    "duration": 204,
    "start_time": "2021-07-08T11:14:04.951Z"
   },
   {
    "duration": 19,
    "start_time": "2021-07-08T11:15:10.613Z"
   },
   {
    "duration": 680,
    "start_time": "2021-07-08T11:16:25.793Z"
   },
   {
    "duration": 451,
    "start_time": "2021-07-08T11:16:40.313Z"
   },
   {
    "duration": 469,
    "start_time": "2021-07-08T11:17:21.286Z"
   },
   {
    "duration": 20,
    "start_time": "2021-07-08T11:19:12.554Z"
   },
   {
    "duration": 35,
    "start_time": "2021-07-08T11:20:05.484Z"
   },
   {
    "duration": 53,
    "start_time": "2021-07-08T11:21:40.050Z"
   },
   {
    "duration": 13,
    "start_time": "2021-07-08T11:22:26.059Z"
   },
   {
    "duration": 19,
    "start_time": "2021-07-08T11:22:47.419Z"
   },
   {
    "duration": 25,
    "start_time": "2021-07-08T11:23:19.958Z"
   },
   {
    "duration": 29,
    "start_time": "2021-07-08T11:23:25.415Z"
   },
   {
    "duration": 10,
    "start_time": "2021-07-08T11:24:45.138Z"
   },
   {
    "duration": 19,
    "start_time": "2021-07-08T11:24:54.498Z"
   },
   {
    "duration": 12,
    "start_time": "2021-07-08T11:25:32.225Z"
   },
   {
    "duration": 19,
    "start_time": "2021-07-08T11:25:37.092Z"
   },
   {
    "duration": 17,
    "start_time": "2021-07-08T11:25:58.116Z"
   },
   {
    "duration": 15,
    "start_time": "2021-07-08T11:26:02.258Z"
   },
   {
    "duration": 8,
    "start_time": "2021-07-08T11:26:59.682Z"
   },
   {
    "duration": 184,
    "start_time": "2021-07-08T11:27:21.894Z"
   },
   {
    "duration": 8,
    "start_time": "2021-07-08T11:27:23.824Z"
   },
   {
    "duration": 202,
    "start_time": "2021-07-08T11:27:23.962Z"
   },
   {
    "duration": 360,
    "start_time": "2021-07-08T11:28:33.215Z"
   },
   {
    "duration": 231,
    "start_time": "2021-07-08T11:32:05.542Z"
   },
   {
    "duration": 607,
    "start_time": "2021-07-08T11:36:27.854Z"
   },
   {
    "duration": 241,
    "start_time": "2021-07-08T11:36:28.463Z"
   },
   {
    "duration": 67,
    "start_time": "2021-07-08T11:36:28.709Z"
   },
   {
    "duration": 5,
    "start_time": "2021-07-08T11:36:28.778Z"
   },
   {
    "duration": 32,
    "start_time": "2021-07-08T11:36:28.784Z"
   },
   {
    "duration": 11,
    "start_time": "2021-07-08T11:36:28.819Z"
   },
   {
    "duration": 20,
    "start_time": "2021-07-08T11:36:28.834Z"
   },
   {
    "duration": 36,
    "start_time": "2021-07-08T11:36:28.857Z"
   },
   {
    "duration": 16,
    "start_time": "2021-07-08T11:36:28.895Z"
   },
   {
    "duration": 14,
    "start_time": "2021-07-08T11:36:28.913Z"
   },
   {
    "duration": 9,
    "start_time": "2021-07-08T11:36:28.930Z"
   },
   {
    "duration": 55,
    "start_time": "2021-07-08T11:36:28.941Z"
   },
   {
    "duration": 27,
    "start_time": "2021-07-08T11:36:28.999Z"
   },
   {
    "duration": 30,
    "start_time": "2021-07-08T11:36:29.028Z"
   },
   {
    "duration": 31,
    "start_time": "2021-07-08T11:36:29.060Z"
   },
   {
    "duration": 3,
    "start_time": "2021-07-08T11:36:29.093Z"
   },
   {
    "duration": 12,
    "start_time": "2021-07-08T11:36:29.099Z"
   },
   {
    "duration": 11,
    "start_time": "2021-07-08T11:36:29.112Z"
   },
   {
    "duration": 12,
    "start_time": "2021-07-08T11:36:29.125Z"
   },
   {
    "duration": 9,
    "start_time": "2021-07-08T11:36:29.139Z"
   },
   {
    "duration": 31,
    "start_time": "2021-07-08T11:36:29.191Z"
   },
   {
    "duration": 17,
    "start_time": "2021-07-08T11:36:29.226Z"
   },
   {
    "duration": 7,
    "start_time": "2021-07-08T11:36:29.245Z"
   },
   {
    "duration": 10,
    "start_time": "2021-07-08T11:36:29.254Z"
   },
   {
    "duration": 30,
    "start_time": "2021-07-08T11:36:29.292Z"
   },
   {
    "duration": 11,
    "start_time": "2021-07-08T11:36:29.324Z"
   },
   {
    "duration": 11,
    "start_time": "2021-07-08T11:36:29.337Z"
   },
   {
    "duration": 230,
    "start_time": "2021-07-08T11:36:29.349Z"
   },
   {
    "duration": 13,
    "start_time": "2021-07-08T11:36:29.588Z"
   },
   {
    "duration": 205,
    "start_time": "2021-07-08T11:36:29.603Z"
   },
   {
    "duration": 20,
    "start_time": "2021-07-08T11:36:29.810Z"
   },
   {
    "duration": 9,
    "start_time": "2021-07-08T11:36:29.832Z"
   },
   {
    "duration": 16,
    "start_time": "2021-07-08T11:36:29.843Z"
   },
   {
    "duration": 283,
    "start_time": "2021-07-08T11:36:29.861Z"
   },
   {
    "duration": 50,
    "start_time": "2021-07-08T11:36:30.146Z"
   },
   {
    "duration": 14,
    "start_time": "2021-07-08T11:36:30.198Z"
   },
   {
    "duration": 11,
    "start_time": "2021-07-08T11:36:30.214Z"
   },
   {
    "duration": 245,
    "start_time": "2021-07-08T11:36:30.227Z"
   },
   {
    "duration": 439,
    "start_time": "2021-07-08T11:36:30.474Z"
   },
   {
    "duration": 210,
    "start_time": "2021-07-08T11:36:30.915Z"
   },
   {
    "duration": 15,
    "start_time": "2021-07-08T11:36:31.127Z"
   },
   {
    "duration": 17,
    "start_time": "2021-07-08T11:38:20.451Z"
   },
   {
    "duration": 642,
    "start_time": "2021-07-08T11:46:17.881Z"
   },
   {
    "duration": 210,
    "start_time": "2021-07-08T11:46:18.525Z"
   },
   {
    "duration": 104,
    "start_time": "2021-07-08T11:46:18.741Z"
   },
   {
    "duration": 8,
    "start_time": "2021-07-08T11:46:18.847Z"
   },
   {
    "duration": 25,
    "start_time": "2021-07-08T11:46:18.857Z"
   },
   {
    "duration": 14,
    "start_time": "2021-07-08T11:46:18.884Z"
   },
   {
    "duration": 22,
    "start_time": "2021-07-08T11:46:18.900Z"
   },
   {
    "duration": 5,
    "start_time": "2021-07-08T11:46:18.924Z"
   },
   {
    "duration": 13,
    "start_time": "2021-07-08T11:46:18.931Z"
   },
   {
    "duration": 45,
    "start_time": "2021-07-08T11:46:18.946Z"
   },
   {
    "duration": 12,
    "start_time": "2021-07-08T11:46:18.993Z"
   },
   {
    "duration": 38,
    "start_time": "2021-07-08T11:46:19.006Z"
   },
   {
    "duration": 50,
    "start_time": "2021-07-08T11:46:19.046Z"
   },
   {
    "duration": 29,
    "start_time": "2021-07-08T11:46:19.099Z"
   },
   {
    "duration": 7,
    "start_time": "2021-07-08T11:46:19.130Z"
   },
   {
    "duration": 3,
    "start_time": "2021-07-08T11:46:19.139Z"
   },
   {
    "duration": 11,
    "start_time": "2021-07-08T11:46:19.144Z"
   },
   {
    "duration": 40,
    "start_time": "2021-07-08T11:46:19.157Z"
   },
   {
    "duration": 15,
    "start_time": "2021-07-08T11:46:19.199Z"
   },
   {
    "duration": 10,
    "start_time": "2021-07-08T11:46:19.217Z"
   },
   {
    "duration": 68,
    "start_time": "2021-07-08T11:46:19.230Z"
   },
   {
    "duration": 17,
    "start_time": "2021-07-08T11:46:19.301Z"
   },
   {
    "duration": 7,
    "start_time": "2021-07-08T11:46:19.321Z"
   },
   {
    "duration": 11,
    "start_time": "2021-07-08T11:46:19.330Z"
   },
   {
    "duration": 59,
    "start_time": "2021-07-08T11:46:19.343Z"
   },
   {
    "duration": 17,
    "start_time": "2021-07-08T11:46:19.405Z"
   },
   {
    "duration": 16,
    "start_time": "2021-07-08T11:46:19.424Z"
   },
   {
    "duration": 252,
    "start_time": "2021-07-08T11:46:19.443Z"
   },
   {
    "duration": 9,
    "start_time": "2021-07-08T11:46:19.697Z"
   },
   {
    "duration": 224,
    "start_time": "2021-07-08T11:46:19.708Z"
   },
   {
    "duration": 21,
    "start_time": "2021-07-08T11:46:19.934Z"
   },
   {
    "duration": 9,
    "start_time": "2021-07-08T11:46:19.956Z"
   },
   {
    "duration": 32,
    "start_time": "2021-07-08T11:46:19.967Z"
   },
   {
    "duration": 288,
    "start_time": "2021-07-08T11:46:20.004Z"
   },
   {
    "duration": 23,
    "start_time": "2021-07-08T11:46:20.300Z"
   },
   {
    "duration": 11,
    "start_time": "2021-07-08T11:46:20.325Z"
   },
   {
    "duration": 11,
    "start_time": "2021-07-08T11:46:20.339Z"
   },
   {
    "duration": 259,
    "start_time": "2021-07-08T11:46:20.352Z"
   },
   {
    "duration": 438,
    "start_time": "2021-07-08T11:46:20.613Z"
   },
   {
    "duration": 207,
    "start_time": "2021-07-08T11:46:21.054Z"
   },
   {
    "duration": 27,
    "start_time": "2021-07-08T11:46:21.262Z"
   },
   {
    "duration": 19,
    "start_time": "2021-07-08T11:46:21.291Z"
   },
   {
    "duration": 820,
    "start_time": "2021-07-08T11:49:01.655Z"
   },
   {
    "duration": 372,
    "start_time": "2021-07-08T11:49:02.478Z"
   },
   {
    "duration": 98,
    "start_time": "2021-07-08T11:49:02.853Z"
   },
   {
    "duration": 6,
    "start_time": "2021-07-08T11:49:02.953Z"
   },
   {
    "duration": 39,
    "start_time": "2021-07-08T11:49:02.960Z"
   },
   {
    "duration": 9,
    "start_time": "2021-07-08T11:49:03.003Z"
   },
   {
    "duration": 23,
    "start_time": "2021-07-08T11:49:03.014Z"
   },
   {
    "duration": 6,
    "start_time": "2021-07-08T11:49:03.041Z"
   },
   {
    "duration": 20,
    "start_time": "2021-07-08T11:49:03.049Z"
   },
   {
    "duration": 18,
    "start_time": "2021-07-08T11:49:03.084Z"
   },
   {
    "duration": 14,
    "start_time": "2021-07-08T11:49:03.104Z"
   },
   {
    "duration": 39,
    "start_time": "2021-07-08T11:49:03.119Z"
   },
   {
    "duration": 38,
    "start_time": "2021-07-08T11:49:03.160Z"
   },
   {
    "duration": 26,
    "start_time": "2021-07-08T11:49:03.200Z"
   },
   {
    "duration": 7,
    "start_time": "2021-07-08T11:49:03.227Z"
   },
   {
    "duration": 4,
    "start_time": "2021-07-08T11:49:03.236Z"
   },
   {
    "duration": 15,
    "start_time": "2021-07-08T11:49:03.243Z"
   },
   {
    "duration": 21,
    "start_time": "2021-07-08T11:49:03.285Z"
   },
   {
    "duration": 17,
    "start_time": "2021-07-08T11:49:03.309Z"
   },
   {
    "duration": 10,
    "start_time": "2021-07-08T11:49:03.328Z"
   },
   {
    "duration": 65,
    "start_time": "2021-07-08T11:49:03.340Z"
   },
   {
    "duration": 18,
    "start_time": "2021-07-08T11:49:03.407Z"
   },
   {
    "duration": 8,
    "start_time": "2021-07-08T11:49:03.428Z"
   },
   {
    "duration": 15,
    "start_time": "2021-07-08T11:49:03.438Z"
   },
   {
    "duration": 40,
    "start_time": "2021-07-08T11:49:03.455Z"
   },
   {
    "duration": 12,
    "start_time": "2021-07-08T11:49:03.497Z"
   },
   {
    "duration": 29,
    "start_time": "2021-07-08T11:49:03.511Z"
   },
   {
    "duration": 285,
    "start_time": "2021-07-08T11:49:03.542Z"
   },
   {
    "duration": 8,
    "start_time": "2021-07-08T11:49:03.829Z"
   },
   {
    "duration": 227,
    "start_time": "2021-07-08T11:49:03.838Z"
   },
   {
    "duration": 40,
    "start_time": "2021-07-08T11:49:04.066Z"
   },
   {
    "duration": 10,
    "start_time": "2021-07-08T11:49:04.108Z"
   },
   {
    "duration": 26,
    "start_time": "2021-07-08T11:49:04.121Z"
   },
   {
    "duration": 290,
    "start_time": "2021-07-08T11:49:04.149Z"
   },
   {
    "duration": 26,
    "start_time": "2021-07-08T11:49:04.441Z"
   },
   {
    "duration": 31,
    "start_time": "2021-07-08T11:49:04.470Z"
   },
   {
    "duration": 14,
    "start_time": "2021-07-08T11:49:04.503Z"
   },
   {
    "duration": 259,
    "start_time": "2021-07-08T11:49:04.521Z"
   },
   {
    "duration": 480,
    "start_time": "2021-07-08T11:49:04.782Z"
   },
   {
    "duration": 225,
    "start_time": "2021-07-08T11:49:05.264Z"
   },
   {
    "duration": 22,
    "start_time": "2021-07-08T11:49:05.491Z"
   },
   {
    "duration": 24,
    "start_time": "2021-07-08T11:49:05.515Z"
   },
   {
    "duration": 634,
    "start_time": "2021-07-08T11:52:24.960Z"
   },
   {
    "duration": 199,
    "start_time": "2021-07-08T11:52:25.599Z"
   },
   {
    "duration": 106,
    "start_time": "2021-07-08T11:52:25.803Z"
   },
   {
    "duration": 7,
    "start_time": "2021-07-08T11:52:25.911Z"
   },
   {
    "duration": 29,
    "start_time": "2021-07-08T11:52:25.920Z"
   },
   {
    "duration": 7,
    "start_time": "2021-07-08T11:52:25.951Z"
   },
   {
    "duration": 26,
    "start_time": "2021-07-08T11:52:25.961Z"
   },
   {
    "duration": 11,
    "start_time": "2021-07-08T11:52:25.990Z"
   },
   {
    "duration": 29,
    "start_time": "2021-07-08T11:52:26.005Z"
   },
   {
    "duration": 9,
    "start_time": "2021-07-08T11:52:26.036Z"
   },
   {
    "duration": 8,
    "start_time": "2021-07-08T11:52:26.047Z"
   },
   {
    "duration": 63,
    "start_time": "2021-07-08T11:52:26.057Z"
   },
   {
    "duration": 17,
    "start_time": "2021-07-08T11:52:26.122Z"
   },
   {
    "duration": 43,
    "start_time": "2021-07-08T11:52:26.142Z"
   },
   {
    "duration": 17,
    "start_time": "2021-07-08T11:52:26.187Z"
   },
   {
    "duration": 5,
    "start_time": "2021-07-08T11:52:26.206Z"
   },
   {
    "duration": 12,
    "start_time": "2021-07-08T11:52:26.212Z"
   },
   {
    "duration": 11,
    "start_time": "2021-07-08T11:52:26.226Z"
   },
   {
    "duration": 12,
    "start_time": "2021-07-08T11:52:26.238Z"
   },
   {
    "duration": 38,
    "start_time": "2021-07-08T11:52:26.252Z"
   },
   {
    "duration": 40,
    "start_time": "2021-07-08T11:52:26.292Z"
   },
   {
    "duration": 17,
    "start_time": "2021-07-08T11:52:26.336Z"
   },
   {
    "duration": 39,
    "start_time": "2021-07-08T11:52:26.355Z"
   },
   {
    "duration": 11,
    "start_time": "2021-07-08T11:52:26.395Z"
   },
   {
    "duration": 23,
    "start_time": "2021-07-08T11:52:26.408Z"
   },
   {
    "duration": 12,
    "start_time": "2021-07-08T11:52:26.432Z"
   },
   {
    "duration": 41,
    "start_time": "2021-07-08T11:52:26.446Z"
   },
   {
    "duration": 215,
    "start_time": "2021-07-08T11:52:26.493Z"
   },
   {
    "duration": 8,
    "start_time": "2021-07-08T11:52:26.710Z"
   },
   {
    "duration": 228,
    "start_time": "2021-07-08T11:52:26.720Z"
   },
   {
    "duration": 18,
    "start_time": "2021-07-08T11:52:26.950Z"
   },
   {
    "duration": 35,
    "start_time": "2021-07-08T11:52:26.969Z"
   },
   {
    "duration": 23,
    "start_time": "2021-07-08T11:52:27.006Z"
   },
   {
    "duration": 258,
    "start_time": "2021-07-08T11:52:27.030Z"
   },
   {
    "duration": 24,
    "start_time": "2021-07-08T11:52:27.290Z"
   },
   {
    "duration": 12,
    "start_time": "2021-07-08T11:52:27.316Z"
   },
   {
    "duration": 10,
    "start_time": "2021-07-08T11:52:27.329Z"
   },
   {
    "duration": 298,
    "start_time": "2021-07-08T11:52:27.341Z"
   },
   {
    "duration": 436,
    "start_time": "2021-07-08T11:52:27.641Z"
   },
   {
    "duration": 216,
    "start_time": "2021-07-08T11:52:28.079Z"
   },
   {
    "duration": 20,
    "start_time": "2021-07-08T11:52:28.297Z"
   },
   {
    "duration": 17,
    "start_time": "2021-07-08T11:52:28.319Z"
   },
   {
    "duration": 1319,
    "start_time": "2022-11-11T08:46:02.022Z"
   },
   {
    "duration": 325,
    "start_time": "2022-11-11T08:46:03.428Z"
   },
   {
    "duration": 669,
    "start_time": "2022-11-11T08:46:44.811Z"
   },
   {
    "duration": 90,
    "start_time": "2022-11-11T08:49:56.653Z"
   },
   {
    "duration": 446,
    "start_time": "2022-11-11T08:50:08.696Z"
   },
   {
    "duration": 115,
    "start_time": "2022-11-11T08:51:09.893Z"
   },
   {
    "duration": 62,
    "start_time": "2022-11-11T08:51:16.836Z"
   },
   {
    "duration": 113,
    "start_time": "2022-11-11T08:54:25.671Z"
   },
   {
    "duration": 63,
    "start_time": "2022-11-11T08:54:27.421Z"
   },
   {
    "duration": 294,
    "start_time": "2022-11-11T09:02:20.031Z"
   },
   {
    "duration": 108,
    "start_time": "2022-11-11T09:03:25.431Z"
   },
   {
    "duration": 6,
    "start_time": "2022-11-11T09:03:36.164Z"
   },
   {
    "duration": 120,
    "start_time": "2022-11-11T09:03:36.454Z"
   },
   {
    "duration": 56,
    "start_time": "2022-11-11T09:03:36.701Z"
   },
   {
    "duration": 287,
    "start_time": "2022-11-11T09:03:36.909Z"
   },
   {
    "duration": 130,
    "start_time": "2022-11-11T09:06:06.292Z"
   },
   {
    "duration": 331,
    "start_time": "2022-11-11T09:07:57.709Z"
   },
   {
    "duration": 62,
    "start_time": "2022-11-11T09:09:00.156Z"
   },
   {
    "duration": 6,
    "start_time": "2022-11-11T17:15:03.007Z"
   },
   {
    "duration": 121,
    "start_time": "2022-11-11T17:15:03.772Z"
   },
   {
    "duration": 318,
    "start_time": "2022-11-11T17:15:05.610Z"
   },
   {
    "duration": 43,
    "start_time": "2022-11-11T17:17:48.065Z"
   },
   {
    "duration": 563,
    "start_time": "2022-11-11T17:21:35.369Z"
   },
   {
    "duration": 118,
    "start_time": "2022-11-11T17:22:25.580Z"
   },
   {
    "duration": 8,
    "start_time": "2022-11-11T17:24:19.523Z"
   },
   {
    "duration": 12,
    "start_time": "2022-11-11T17:24:45.110Z"
   },
   {
    "duration": 25,
    "start_time": "2022-11-11T17:27:57.544Z"
   },
   {
    "duration": 14,
    "start_time": "2022-11-11T17:28:53.772Z"
   },
   {
    "duration": 111,
    "start_time": "2022-11-11T19:26:16.610Z"
   },
   {
    "duration": 5,
    "start_time": "2022-11-11T19:32:32.723Z"
   },
   {
    "duration": 5,
    "start_time": "2022-11-11T19:33:00.435Z"
   },
   {
    "duration": 76,
    "start_time": "2022-11-11T19:34:09.357Z"
   },
   {
    "duration": 8,
    "start_time": "2022-11-11T19:34:56.663Z"
   },
   {
    "duration": 9,
    "start_time": "2022-11-11T19:36:18.399Z"
   },
   {
    "duration": 9,
    "start_time": "2022-11-11T19:36:53.327Z"
   },
   {
    "duration": 4,
    "start_time": "2022-11-11T19:46:36.255Z"
   },
   {
    "duration": 7,
    "start_time": "2022-11-11T19:48:29.552Z"
   },
   {
    "duration": 109,
    "start_time": "2022-11-11T19:48:31.457Z"
   },
   {
    "duration": 271,
    "start_time": "2022-11-11T19:50:50.357Z"
   },
   {
    "duration": 11,
    "start_time": "2022-11-11T19:51:35.321Z"
   },
   {
    "duration": 4,
    "start_time": "2022-11-11T19:51:37.046Z"
   },
   {
    "duration": 4,
    "start_time": "2022-11-11T19:51:40.192Z"
   },
   {
    "duration": 13,
    "start_time": "2022-11-11T19:51:43.292Z"
   },
   {
    "duration": 15,
    "start_time": "2022-11-11T20:20:05.144Z"
   },
   {
    "duration": 21,
    "start_time": "2022-11-11T20:20:13.685Z"
   },
   {
    "duration": 5,
    "start_time": "2022-11-11T20:22:12.843Z"
   },
   {
    "duration": 85,
    "start_time": "2022-11-11T20:22:13.896Z"
   },
   {
    "duration": 1140,
    "start_time": "2022-11-11T20:22:15.661Z"
   },
   {
    "duration": 6,
    "start_time": "2022-11-11T20:22:50.990Z"
   },
   {
    "duration": 88,
    "start_time": "2022-11-11T20:22:53.302Z"
   },
   {
    "duration": 6,
    "start_time": "2022-11-11T20:23:45.108Z"
   },
   {
    "duration": 115,
    "start_time": "2022-11-11T20:23:47.099Z"
   },
   {
    "duration": 5,
    "start_time": "2022-11-11T20:27:59.333Z"
   },
   {
    "duration": 111,
    "start_time": "2022-11-11T20:28:00.785Z"
   },
   {
    "duration": 8,
    "start_time": "2022-11-11T20:28:10.076Z"
   },
   {
    "duration": 3,
    "start_time": "2022-11-11T20:28:11.676Z"
   },
   {
    "duration": 4,
    "start_time": "2022-11-11T20:28:12.462Z"
   },
   {
    "duration": 14,
    "start_time": "2022-11-11T20:28:13.449Z"
   },
   {
    "duration": 59,
    "start_time": "2022-11-11T20:28:15.062Z"
   },
   {
    "duration": 12,
    "start_time": "2022-11-11T20:28:17.416Z"
   },
   {
    "duration": 15,
    "start_time": "2022-11-11T20:50:57.468Z"
   },
   {
    "duration": 7,
    "start_time": "2022-11-11T20:55:44.706Z"
   },
   {
    "duration": 95,
    "start_time": "2022-11-11T20:57:19.135Z"
   },
   {
    "duration": 29,
    "start_time": "2022-11-11T20:58:15.106Z"
   },
   {
    "duration": 19,
    "start_time": "2022-11-11T20:58:35.719Z"
   },
   {
    "duration": 10,
    "start_time": "2022-11-11T21:05:58.789Z"
   },
   {
    "duration": 6,
    "start_time": "2022-11-11T21:06:40.642Z"
   },
   {
    "duration": 118,
    "start_time": "2022-11-11T21:06:41.563Z"
   },
   {
    "duration": 9,
    "start_time": "2022-11-11T21:06:42.394Z"
   },
   {
    "duration": 4,
    "start_time": "2022-11-11T21:06:43.647Z"
   },
   {
    "duration": 6,
    "start_time": "2022-11-11T21:06:44.280Z"
   },
   {
    "duration": 23,
    "start_time": "2022-11-11T21:06:45.038Z"
   },
   {
    "duration": 61,
    "start_time": "2022-11-11T21:06:46.367Z"
   },
   {
    "duration": 13,
    "start_time": "2022-11-11T21:06:48.385Z"
   },
   {
    "duration": 19,
    "start_time": "2022-11-11T21:06:52.486Z"
   },
   {
    "duration": 12,
    "start_time": "2022-11-11T21:06:53.451Z"
   },
   {
    "duration": 21,
    "start_time": "2022-11-11T21:15:59.398Z"
   },
   {
    "duration": 144,
    "start_time": "2022-11-11T21:21:09.369Z"
   },
   {
    "duration": 135,
    "start_time": "2022-11-11T21:22:41.332Z"
   },
   {
    "duration": 5,
    "start_time": "2022-11-11T21:24:55.330Z"
   },
   {
    "duration": 5,
    "start_time": "2022-11-11T21:25:07.219Z"
   },
   {
    "duration": 105,
    "start_time": "2022-11-11T21:25:07.939Z"
   },
   {
    "duration": 9,
    "start_time": "2022-11-11T21:25:09.371Z"
   },
   {
    "duration": 4,
    "start_time": "2022-11-11T21:25:10.493Z"
   },
   {
    "duration": 4,
    "start_time": "2022-11-11T21:25:11.280Z"
   },
   {
    "duration": 17,
    "start_time": "2022-11-11T21:25:12.047Z"
   },
   {
    "duration": 60,
    "start_time": "2022-11-11T21:25:12.993Z"
   },
   {
    "duration": 11,
    "start_time": "2022-11-11T21:25:14.721Z"
   },
   {
    "duration": 15,
    "start_time": "2022-11-11T21:25:22.995Z"
   },
   {
    "duration": 5,
    "start_time": "2022-11-11T21:28:32.576Z"
   },
   {
    "duration": 110,
    "start_time": "2022-11-11T21:28:33.080Z"
   },
   {
    "duration": 7,
    "start_time": "2022-11-11T21:28:33.840Z"
   },
   {
    "duration": 3,
    "start_time": "2022-11-11T21:28:33.944Z"
   },
   {
    "duration": 5,
    "start_time": "2022-11-11T21:28:34.235Z"
   },
   {
    "duration": 15,
    "start_time": "2022-11-11T21:28:34.544Z"
   },
   {
    "duration": 59,
    "start_time": "2022-11-11T21:28:35.343Z"
   },
   {
    "duration": 12,
    "start_time": "2022-11-11T21:28:36.407Z"
   },
   {
    "duration": 14,
    "start_time": "2022-11-11T21:28:40.233Z"
   },
   {
    "duration": 28,
    "start_time": "2022-11-11T21:28:43.880Z"
   },
   {
    "duration": 6,
    "start_time": "2022-11-11T21:31:49.672Z"
   },
   {
    "duration": 7,
    "start_time": "2022-11-11T21:32:39.346Z"
   },
   {
    "duration": 31,
    "start_time": "2022-11-11T21:42:20.323Z"
   },
   {
    "duration": 9,
    "start_time": "2022-11-11T21:50:47.125Z"
   },
   {
    "duration": 14,
    "start_time": "2022-11-11T22:32:20.999Z"
   },
   {
    "duration": 26,
    "start_time": "2022-11-11T23:03:53.175Z"
   },
   {
    "duration": 8,
    "start_time": "2022-11-11T23:11:07.015Z"
   },
   {
    "duration": 1361,
    "start_time": "2022-11-12T21:01:05.213Z"
   },
   {
    "duration": 282,
    "start_time": "2022-11-12T21:01:06.576Z"
   },
   {
    "duration": 9,
    "start_time": "2022-11-12T21:01:06.859Z"
   },
   {
    "duration": 3,
    "start_time": "2022-11-12T21:01:07.391Z"
   },
   {
    "duration": 4,
    "start_time": "2022-11-12T21:01:08.201Z"
   },
   {
    "duration": 13,
    "start_time": "2022-11-12T21:01:09.123Z"
   },
   {
    "duration": 110,
    "start_time": "2022-11-12T21:01:10.073Z"
   },
   {
    "duration": 12,
    "start_time": "2022-11-12T21:01:12.123Z"
   },
   {
    "duration": 34,
    "start_time": "2022-11-12T21:01:19.862Z"
   },
   {
    "duration": 28,
    "start_time": "2022-11-12T21:01:22.341Z"
   },
   {
    "duration": 8,
    "start_time": "2022-11-12T21:01:24.445Z"
   },
   {
    "duration": 9,
    "start_time": "2022-11-12T21:04:39.996Z"
   },
   {
    "duration": 6,
    "start_time": "2022-11-12T21:19:08.853Z"
   },
   {
    "duration": 5,
    "start_time": "2022-11-12T21:51:57.918Z"
   },
   {
    "duration": 110,
    "start_time": "2022-11-12T21:51:58.660Z"
   },
   {
    "duration": 7,
    "start_time": "2022-11-12T21:51:59.412Z"
   },
   {
    "duration": 3,
    "start_time": "2022-11-12T21:52:00.152Z"
   },
   {
    "duration": 3,
    "start_time": "2022-11-12T21:52:00.944Z"
   },
   {
    "duration": 14,
    "start_time": "2022-11-12T21:52:01.708Z"
   },
   {
    "duration": 60,
    "start_time": "2022-11-12T21:52:05.115Z"
   },
   {
    "duration": 12,
    "start_time": "2022-11-12T21:52:07.168Z"
   },
   {
    "duration": 28,
    "start_time": "2022-11-12T21:52:10.906Z"
   },
   {
    "duration": 88,
    "start_time": "2022-11-12T21:58:22.275Z"
   },
   {
    "duration": 8,
    "start_time": "2022-11-12T21:58:45.640Z"
   },
   {
    "duration": 3,
    "start_time": "2022-11-12T22:04:17.747Z"
   },
   {
    "duration": 9,
    "start_time": "2022-11-12T22:04:43.382Z"
   },
   {
    "duration": 4,
    "start_time": "2022-11-12T22:05:48.155Z"
   },
   {
    "duration": 228,
    "start_time": "2022-11-12T22:05:49.142Z"
   },
   {
    "duration": 9,
    "start_time": "2022-11-12T22:06:22.783Z"
   },
   {
    "duration": 1426,
    "start_time": "2022-11-13T07:42:08.378Z"
   },
   {
    "duration": 268,
    "start_time": "2022-11-13T07:42:09.807Z"
   },
   {
    "duration": 10,
    "start_time": "2022-11-13T07:42:10.077Z"
   },
   {
    "duration": 3,
    "start_time": "2022-11-13T07:42:10.169Z"
   },
   {
    "duration": 4,
    "start_time": "2022-11-13T07:42:11.086Z"
   },
   {
    "duration": 15,
    "start_time": "2022-11-13T07:42:13.063Z"
   },
   {
    "duration": 135,
    "start_time": "2022-11-13T07:42:19.039Z"
   },
   {
    "duration": 13,
    "start_time": "2022-11-13T07:42:24.134Z"
   },
   {
    "duration": 45,
    "start_time": "2022-11-13T07:42:34.927Z"
   },
   {
    "duration": 17,
    "start_time": "2022-11-13T07:42:40.532Z"
   },
   {
    "duration": 4,
    "start_time": "2022-11-13T07:42:44.806Z"
   },
   {
    "duration": 99,
    "start_time": "2022-11-13T07:43:00.383Z"
   },
   {
    "duration": 10,
    "start_time": "2022-11-13T07:43:05.854Z"
   },
   {
    "duration": 49,
    "start_time": "2022-11-13T07:54:09.200Z"
   },
   {
    "duration": 62,
    "start_time": "2022-11-13T07:54:55.148Z"
   },
   {
    "duration": 80,
    "start_time": "2022-11-13T07:55:06.261Z"
   },
   {
    "duration": 51,
    "start_time": "2022-11-13T07:58:36.373Z"
   },
   {
    "duration": 50,
    "start_time": "2022-11-13T07:58:49.180Z"
   },
   {
    "duration": 115,
    "start_time": "2022-11-13T07:59:06.187Z"
   },
   {
    "duration": 48,
    "start_time": "2022-11-13T07:59:44.945Z"
   },
   {
    "duration": 44,
    "start_time": "2022-11-13T08:00:56.441Z"
   },
   {
    "duration": 6,
    "start_time": "2022-11-13T08:01:05.554Z"
   },
   {
    "duration": 134,
    "start_time": "2022-11-13T08:01:06.472Z"
   },
   {
    "duration": 9,
    "start_time": "2022-11-13T08:01:07.225Z"
   },
   {
    "duration": 4,
    "start_time": "2022-11-13T08:01:07.561Z"
   },
   {
    "duration": 3,
    "start_time": "2022-11-13T08:01:07.848Z"
   },
   {
    "duration": 17,
    "start_time": "2022-11-13T08:01:08.203Z"
   },
   {
    "duration": 76,
    "start_time": "2022-11-13T08:01:08.511Z"
   },
   {
    "duration": 13,
    "start_time": "2022-11-13T08:01:08.795Z"
   },
   {
    "duration": 35,
    "start_time": "2022-11-13T08:01:10.375Z"
   },
   {
    "duration": 12,
    "start_time": "2022-11-13T08:01:11.616Z"
   },
   {
    "duration": 4,
    "start_time": "2022-11-13T08:01:12.233Z"
   },
   {
    "duration": 257,
    "start_time": "2022-11-13T08:01:12.937Z"
   },
   {
    "duration": 44,
    "start_time": "2022-11-13T08:01:13.800Z"
   },
   {
    "duration": 22,
    "start_time": "2022-11-13T08:01:43.194Z"
   },
   {
    "duration": 6,
    "start_time": "2022-11-13T08:02:05.849Z"
   },
   {
    "duration": 134,
    "start_time": "2022-11-13T08:02:06.562Z"
   },
   {
    "duration": 10,
    "start_time": "2022-11-13T08:02:07.146Z"
   },
   {
    "duration": 5,
    "start_time": "2022-11-13T08:02:07.444Z"
   },
   {
    "duration": 5,
    "start_time": "2022-11-13T08:02:07.721Z"
   },
   {
    "duration": 16,
    "start_time": "2022-11-13T08:02:07.977Z"
   },
   {
    "duration": 74,
    "start_time": "2022-11-13T08:02:08.274Z"
   },
   {
    "duration": 14,
    "start_time": "2022-11-13T08:02:08.578Z"
   },
   {
    "duration": 36,
    "start_time": "2022-11-13T08:02:09.328Z"
   },
   {
    "duration": 12,
    "start_time": "2022-11-13T08:02:09.912Z"
   },
   {
    "duration": 5,
    "start_time": "2022-11-13T08:02:10.225Z"
   },
   {
    "duration": 221,
    "start_time": "2022-11-13T08:02:10.529Z"
   },
   {
    "duration": 14,
    "start_time": "2022-11-13T08:02:10.985Z"
   },
   {
    "duration": 9,
    "start_time": "2022-11-13T08:03:21.551Z"
   },
   {
    "duration": 10,
    "start_time": "2022-11-13T08:04:02.066Z"
   },
   {
    "duration": 22,
    "start_time": "2022-11-13T08:05:26.204Z"
   },
   {
    "duration": 16,
    "start_time": "2022-11-13T08:07:34.026Z"
   },
   {
    "duration": 744,
    "start_time": "2022-11-13T08:11:20.209Z"
   },
   {
    "duration": 11,
    "start_time": "2022-11-13T08:11:40.228Z"
   },
   {
    "duration": 775,
    "start_time": "2022-11-13T11:01:48.734Z"
   },
   {
    "duration": 6,
    "start_time": "2022-11-13T11:01:56.578Z"
   },
   {
    "duration": 6,
    "start_time": "2022-11-13T11:13:12.092Z"
   },
   {
    "duration": 5,
    "start_time": "2022-11-13T11:13:25.718Z"
   },
   {
    "duration": 12,
    "start_time": "2022-11-13T11:19:10.966Z"
   },
   {
    "duration": 1073,
    "start_time": "2022-11-13T11:20:46.061Z"
   },
   {
    "duration": 669,
    "start_time": "2022-11-13T11:21:43.759Z"
   },
   {
    "duration": 54,
    "start_time": "2022-11-13T11:22:17.108Z"
   },
   {
    "duration": 6,
    "start_time": "2022-11-13T11:22:57.958Z"
   },
   {
    "duration": 42,
    "start_time": "2022-11-13T11:23:48.131Z"
   },
   {
    "duration": 14,
    "start_time": "2022-11-13T11:54:40.036Z"
   },
   {
    "duration": 6,
    "start_time": "2022-11-13T11:55:25.871Z"
   },
   {
    "duration": 137,
    "start_time": "2022-11-13T11:55:26.170Z"
   },
   {
    "duration": 10,
    "start_time": "2022-11-13T11:55:26.354Z"
   },
   {
    "duration": 4,
    "start_time": "2022-11-13T11:55:26.604Z"
   },
   {
    "duration": 5,
    "start_time": "2022-11-13T11:55:26.791Z"
   },
   {
    "duration": 14,
    "start_time": "2022-11-13T11:55:26.994Z"
   },
   {
    "duration": 69,
    "start_time": "2022-11-13T11:55:27.219Z"
   },
   {
    "duration": 12,
    "start_time": "2022-11-13T11:55:27.603Z"
   },
   {
    "duration": 54,
    "start_time": "2022-11-13T11:55:28.493Z"
   },
   {
    "duration": 14,
    "start_time": "2022-11-13T11:55:29.034Z"
   },
   {
    "duration": 5,
    "start_time": "2022-11-13T11:55:29.378Z"
   },
   {
    "duration": 276,
    "start_time": "2022-11-13T11:55:29.683Z"
   },
   {
    "duration": 16,
    "start_time": "2022-11-13T11:55:30.178Z"
   },
   {
    "duration": 13,
    "start_time": "2022-11-13T11:55:30.769Z"
   },
   {
    "duration": 24,
    "start_time": "2022-11-13T11:55:32.379Z"
   },
   {
    "duration": 6,
    "start_time": "2022-11-13T11:55:32.994Z"
   },
   {
    "duration": 6,
    "start_time": "2022-11-13T11:55:33.877Z"
   },
   {
    "duration": 13,
    "start_time": "2022-11-13T11:55:35.580Z"
   },
   {
    "duration": 11,
    "start_time": "2022-11-13T11:55:37.835Z"
   },
   {
    "duration": 8,
    "start_time": "2022-11-13T11:56:37.013Z"
   },
   {
    "duration": 14,
    "start_time": "2022-11-13T12:01:06.413Z"
   },
   {
    "duration": 11,
    "start_time": "2022-11-13T12:01:13.332Z"
   },
   {
    "duration": 24,
    "start_time": "2022-11-13T12:05:16.576Z"
   },
   {
    "duration": 13,
    "start_time": "2022-11-13T12:05:22.789Z"
   },
   {
    "duration": 82,
    "start_time": "2022-11-13T13:27:15.459Z"
   },
   {
    "duration": 182,
    "start_time": "2022-11-13T13:27:45.003Z"
   },
   {
    "duration": 4,
    "start_time": "2022-11-13T13:28:03.236Z"
   },
   {
    "duration": 230,
    "start_time": "2022-11-13T13:28:31.131Z"
   },
   {
    "duration": 7,
    "start_time": "2022-11-13T13:28:44.276Z"
   },
   {
    "duration": 5,
    "start_time": "2022-11-13T13:31:28.814Z"
   },
   {
    "duration": 5,
    "start_time": "2022-11-13T13:31:40.704Z"
   },
   {
    "duration": 122,
    "start_time": "2022-11-13T13:31:41.339Z"
   },
   {
    "duration": 9,
    "start_time": "2022-11-13T13:31:41.585Z"
   },
   {
    "duration": 4,
    "start_time": "2022-11-13T13:31:41.777Z"
   },
   {
    "duration": 4,
    "start_time": "2022-11-13T13:31:41.958Z"
   },
   {
    "duration": 16,
    "start_time": "2022-11-13T13:31:42.204Z"
   },
   {
    "duration": 76,
    "start_time": "2022-11-13T13:31:42.547Z"
   },
   {
    "duration": 11,
    "start_time": "2022-11-13T13:31:42.625Z"
   },
   {
    "duration": 42,
    "start_time": "2022-11-13T13:31:43.238Z"
   },
   {
    "duration": 10,
    "start_time": "2022-11-13T13:31:43.644Z"
   },
   {
    "duration": 4,
    "start_time": "2022-11-13T13:31:43.859Z"
   },
   {
    "duration": 216,
    "start_time": "2022-11-13T13:31:44.075Z"
   },
   {
    "duration": 11,
    "start_time": "2022-11-13T13:31:44.293Z"
   },
   {
    "duration": 10,
    "start_time": "2022-11-13T13:31:44.715Z"
   },
   {
    "duration": 21,
    "start_time": "2022-11-13T13:31:47.346Z"
   },
   {
    "duration": 5,
    "start_time": "2022-11-13T13:31:51.923Z"
   },
   {
    "duration": 5,
    "start_time": "2022-11-13T13:32:08.596Z"
   },
   {
    "duration": 9,
    "start_time": "2022-11-13T13:32:40.260Z"
   },
   {
    "duration": 9,
    "start_time": "2022-11-13T13:41:29.399Z"
   },
   {
    "duration": 6,
    "start_time": "2022-11-13T13:41:37.214Z"
   },
   {
    "duration": 12,
    "start_time": "2022-11-13T13:41:46.357Z"
   },
   {
    "duration": 5,
    "start_time": "2022-11-13T13:42:17.869Z"
   },
   {
    "duration": 6,
    "start_time": "2022-11-13T13:42:30.486Z"
   },
   {
    "duration": 124,
    "start_time": "2022-11-13T13:42:31.107Z"
   },
   {
    "duration": 9,
    "start_time": "2022-11-13T13:42:31.440Z"
   },
   {
    "duration": 3,
    "start_time": "2022-11-13T13:42:31.638Z"
   },
   {
    "duration": 4,
    "start_time": "2022-11-13T13:42:31.884Z"
   },
   {
    "duration": 15,
    "start_time": "2022-11-13T13:42:32.083Z"
   },
   {
    "duration": 74,
    "start_time": "2022-11-13T13:42:32.484Z"
   },
   {
    "duration": 11,
    "start_time": "2022-11-13T13:42:32.560Z"
   },
   {
    "duration": 44,
    "start_time": "2022-11-13T13:42:33.973Z"
   },
   {
    "duration": 12,
    "start_time": "2022-11-13T13:42:44.276Z"
   },
   {
    "duration": 5,
    "start_time": "2022-11-13T13:42:44.756Z"
   },
   {
    "duration": 248,
    "start_time": "2022-11-13T13:42:45.014Z"
   },
   {
    "duration": 18,
    "start_time": "2022-11-13T13:42:45.325Z"
   },
   {
    "duration": 14,
    "start_time": "2022-11-13T13:42:47.005Z"
   },
   {
    "duration": 21,
    "start_time": "2022-11-13T13:42:51.693Z"
   },
   {
    "duration": 6,
    "start_time": "2022-11-13T13:42:54.909Z"
   },
   {
    "duration": 9,
    "start_time": "2022-11-13T13:43:13.365Z"
   },
   {
    "duration": 5,
    "start_time": "2022-11-13T13:43:15.901Z"
   },
   {
    "duration": 7,
    "start_time": "2022-11-13T13:44:26.279Z"
   },
   {
    "duration": 120,
    "start_time": "2022-11-13T13:44:26.807Z"
   },
   {
    "duration": 9,
    "start_time": "2022-11-13T13:44:27.533Z"
   },
   {
    "duration": 3,
    "start_time": "2022-11-13T13:44:32.643Z"
   },
   {
    "duration": 4,
    "start_time": "2022-11-13T13:44:33.076Z"
   },
   {
    "duration": 19,
    "start_time": "2022-11-13T13:44:33.900Z"
   },
   {
    "duration": 70,
    "start_time": "2022-11-13T13:44:38.843Z"
   },
   {
    "duration": 11,
    "start_time": "2022-11-13T13:44:42.245Z"
   },
   {
    "duration": 40,
    "start_time": "2022-11-13T13:45:02.669Z"
   },
   {
    "duration": 10,
    "start_time": "2022-11-13T13:45:07.878Z"
   },
   {
    "duration": 4,
    "start_time": "2022-11-13T13:45:10.642Z"
   },
   {
    "duration": 233,
    "start_time": "2022-11-13T13:45:12.038Z"
   },
   {
    "duration": 13,
    "start_time": "2022-11-13T13:45:14.116Z"
   },
   {
    "duration": 11,
    "start_time": "2022-11-13T13:45:17.056Z"
   },
   {
    "duration": 23,
    "start_time": "2022-11-13T13:45:21.182Z"
   },
   {
    "duration": 5,
    "start_time": "2022-11-13T13:45:25.630Z"
   },
   {
    "duration": 6,
    "start_time": "2022-11-13T13:45:28.693Z"
   },
   {
    "duration": 5,
    "start_time": "2022-11-13T13:45:31.509Z"
   },
   {
    "duration": 6,
    "start_time": "2022-11-13T13:46:27.790Z"
   },
   {
    "duration": 125,
    "start_time": "2022-11-13T13:46:28.239Z"
   },
   {
    "duration": 9,
    "start_time": "2022-11-13T13:46:28.644Z"
   },
   {
    "duration": 5,
    "start_time": "2022-11-13T13:46:28.805Z"
   },
   {
    "duration": 5,
    "start_time": "2022-11-13T13:46:29.008Z"
   },
   {
    "duration": 21,
    "start_time": "2022-11-13T13:46:29.229Z"
   },
   {
    "duration": 72,
    "start_time": "2022-11-13T13:46:29.445Z"
   },
   {
    "duration": 19,
    "start_time": "2022-11-13T13:46:29.674Z"
   },
   {
    "duration": 41,
    "start_time": "2022-11-13T13:46:36.846Z"
   },
   {
    "duration": 10,
    "start_time": "2022-11-13T13:46:44.846Z"
   },
   {
    "duration": 4,
    "start_time": "2022-11-13T13:46:46.893Z"
   },
   {
    "duration": 235,
    "start_time": "2022-11-13T13:46:48.791Z"
   },
   {
    "duration": 14,
    "start_time": "2022-11-13T13:46:52.942Z"
   },
   {
    "duration": 13,
    "start_time": "2022-11-13T13:46:56.501Z"
   },
   {
    "duration": 22,
    "start_time": "2022-11-13T13:47:08.213Z"
   },
   {
    "duration": 13,
    "start_time": "2022-11-13T13:47:30.550Z"
   },
   {
    "duration": 4,
    "start_time": "2022-11-13T13:48:15.891Z"
   },
   {
    "duration": 6,
    "start_time": "2022-11-13T13:48:19.542Z"
   },
   {
    "duration": 8,
    "start_time": "2022-11-13T13:48:44.310Z"
   },
   {
    "duration": 6,
    "start_time": "2022-11-13T13:49:43.777Z"
   },
   {
    "duration": 9,
    "start_time": "2022-11-13T13:53:05.126Z"
   },
   {
    "duration": 7,
    "start_time": "2022-11-13T13:58:02.719Z"
   },
   {
    "duration": 6,
    "start_time": "2022-11-13T13:59:02.002Z"
   },
   {
    "duration": 5,
    "start_time": "2022-11-13T14:00:59.225Z"
   },
   {
    "duration": 5,
    "start_time": "2022-11-13T14:02:34.801Z"
   },
   {
    "duration": 5,
    "start_time": "2022-11-13T14:03:03.778Z"
   },
   {
    "duration": 9,
    "start_time": "2022-11-13T14:03:23.474Z"
   },
   {
    "duration": 9,
    "start_time": "2022-11-13T15:16:22.428Z"
   },
   {
    "duration": 17,
    "start_time": "2022-11-13T15:16:34.187Z"
   },
   {
    "duration": 15,
    "start_time": "2022-11-13T15:19:02.260Z"
   },
   {
    "duration": 10,
    "start_time": "2022-11-13T15:27:21.670Z"
   },
   {
    "duration": 10,
    "start_time": "2022-11-13T15:27:48.651Z"
   },
   {
    "duration": 630,
    "start_time": "2022-11-13T15:28:18.812Z"
   },
   {
    "duration": 16,
    "start_time": "2022-11-13T15:28:43.041Z"
   },
   {
    "duration": 11,
    "start_time": "2022-11-13T15:40:48.582Z"
   },
   {
    "duration": 16,
    "start_time": "2022-11-13T15:40:53.710Z"
   },
   {
    "duration": 4,
    "start_time": "2022-11-13T15:52:16.291Z"
   },
   {
    "duration": 18,
    "start_time": "2022-11-13T15:52:24.513Z"
   },
   {
    "duration": 3,
    "start_time": "2022-11-13T15:53:10.891Z"
   },
   {
    "duration": 18,
    "start_time": "2022-11-13T15:53:11.898Z"
   },
   {
    "duration": 17,
    "start_time": "2022-11-13T15:54:05.461Z"
   },
   {
    "duration": 3,
    "start_time": "2022-11-13T15:56:02.865Z"
   },
   {
    "duration": 16,
    "start_time": "2022-11-13T15:56:05.118Z"
   },
   {
    "duration": 11,
    "start_time": "2022-11-13T15:58:36.623Z"
   },
   {
    "duration": 11,
    "start_time": "2022-11-13T15:58:43.582Z"
   },
   {
    "duration": 9,
    "start_time": "2022-11-13T15:59:15.110Z"
   },
   {
    "duration": 6,
    "start_time": "2022-11-13T16:08:06.687Z"
   },
   {
    "duration": 118,
    "start_time": "2022-11-13T16:08:07.402Z"
   },
   {
    "duration": 10,
    "start_time": "2022-11-13T16:08:09.837Z"
   },
   {
    "duration": 4,
    "start_time": "2022-11-13T16:08:10.377Z"
   },
   {
    "duration": 4,
    "start_time": "2022-11-13T16:08:10.876Z"
   },
   {
    "duration": 5,
    "start_time": "2022-11-13T16:09:04.368Z"
   },
   {
    "duration": 121,
    "start_time": "2022-11-13T16:09:04.902Z"
   },
   {
    "duration": 9,
    "start_time": "2022-11-13T16:09:06.045Z"
   },
   {
    "duration": 6,
    "start_time": "2022-11-13T16:09:14.660Z"
   },
   {
    "duration": 123,
    "start_time": "2022-11-13T16:09:17.405Z"
   },
   {
    "duration": 20,
    "start_time": "2022-11-13T16:11:10.937Z"
   },
   {
    "duration": 5,
    "start_time": "2022-11-13T16:17:22.355Z"
   },
   {
    "duration": 10,
    "start_time": "2022-11-13T16:18:51.789Z"
   },
   {
    "duration": 6,
    "start_time": "2022-11-13T17:21:33.784Z"
   },
   {
    "duration": 5,
    "start_time": "2022-11-13T17:21:59.135Z"
   },
   {
    "duration": 41,
    "start_time": "2022-11-13T17:41:39.105Z"
   },
   {
    "duration": 48,
    "start_time": "2022-11-13T17:42:15.270Z"
   },
   {
    "duration": 49,
    "start_time": "2022-11-13T17:43:41.782Z"
   },
   {
    "duration": 50,
    "start_time": "2022-11-13T17:43:52.784Z"
   },
   {
    "duration": 47,
    "start_time": "2022-11-13T17:44:05.455Z"
   },
   {
    "duration": 40,
    "start_time": "2022-11-13T17:44:47.455Z"
   },
   {
    "duration": 44,
    "start_time": "2022-11-13T17:45:08.440Z"
   },
   {
    "duration": 9,
    "start_time": "2022-11-13T17:51:54.339Z"
   },
   {
    "duration": 432,
    "start_time": "2022-11-13T17:56:38.832Z"
   },
   {
    "duration": 6,
    "start_time": "2022-11-13T17:57:03.311Z"
   },
   {
    "duration": 124,
    "start_time": "2022-11-13T17:57:03.872Z"
   },
   {
    "duration": 18,
    "start_time": "2022-11-13T17:57:04.783Z"
   },
   {
    "duration": 5,
    "start_time": "2022-11-13T17:57:06.391Z"
   },
   {
    "duration": 11,
    "start_time": "2022-11-13T17:57:07.625Z"
   },
   {
    "duration": 71,
    "start_time": "2022-11-13T17:57:08.248Z"
   },
   {
    "duration": 13,
    "start_time": "2022-11-13T17:57:08.821Z"
   },
   {
    "duration": 41,
    "start_time": "2022-11-13T17:57:10.560Z"
   },
   {
    "duration": 10,
    "start_time": "2022-11-13T17:57:11.974Z"
   },
   {
    "duration": 5,
    "start_time": "2022-11-13T17:57:12.645Z"
   },
   {
    "duration": 241,
    "start_time": "2022-11-13T17:57:13.423Z"
   },
   {
    "duration": 12,
    "start_time": "2022-11-13T17:57:13.984Z"
   },
   {
    "duration": 11,
    "start_time": "2022-11-13T17:57:14.679Z"
   },
   {
    "duration": 23,
    "start_time": "2022-11-13T17:57:17.326Z"
   },
   {
    "duration": 12,
    "start_time": "2022-11-13T17:57:18.153Z"
   },
   {
    "duration": 197,
    "start_time": "2022-11-13T17:57:20.019Z"
   },
   {
    "duration": 6,
    "start_time": "2022-11-13T17:57:20.782Z"
   },
   {
    "duration": 397,
    "start_time": "2022-11-13T17:57:21.589Z"
   },
   {
    "duration": 31,
    "start_time": "2022-11-13T17:58:48.071Z"
   },
   {
    "duration": 5,
    "start_time": "2022-11-13T17:59:24.107Z"
   },
   {
    "duration": 122,
    "start_time": "2022-11-13T17:59:25.429Z"
   },
   {
    "duration": 19,
    "start_time": "2022-11-13T17:59:49.021Z"
   },
   {
    "duration": 6,
    "start_time": "2022-11-13T17:59:56.551Z"
   },
   {
    "duration": 10,
    "start_time": "2022-11-13T18:00:02.090Z"
   },
   {
    "duration": 73,
    "start_time": "2022-11-13T18:00:08.920Z"
   },
   {
    "duration": 13,
    "start_time": "2022-11-13T18:00:17.238Z"
   },
   {
    "duration": 11,
    "start_time": "2022-11-13T18:00:33.751Z"
   },
   {
    "duration": 11,
    "start_time": "2022-11-13T18:01:07.127Z"
   },
   {
    "duration": 21,
    "start_time": "2022-11-13T18:01:12.750Z"
   },
   {
    "duration": 6,
    "start_time": "2022-11-13T18:01:36.823Z"
   },
   {
    "duration": 47,
    "start_time": "2022-11-13T18:01:41.631Z"
   },
   {
    "duration": 5,
    "start_time": "2022-11-13T18:02:19.745Z"
   },
   {
    "duration": 8,
    "start_time": "2022-11-13T18:02:22.248Z"
   },
   {
    "duration": 8,
    "start_time": "2022-11-13T18:02:59.145Z"
   },
   {
    "duration": 7,
    "start_time": "2022-11-13T18:04:29.183Z"
   },
   {
    "duration": 105,
    "start_time": "2022-11-13T18:04:32.088Z"
   },
   {
    "duration": 52,
    "start_time": "2022-11-13T18:05:22.072Z"
   },
   {
    "duration": 6,
    "start_time": "2022-11-13T18:08:25.097Z"
   },
   {
    "duration": 92,
    "start_time": "2022-11-13T18:08:27.919Z"
   },
   {
    "duration": 51,
    "start_time": "2022-11-13T18:08:33.515Z"
   },
   {
    "duration": 22,
    "start_time": "2022-11-13T18:08:37.686Z"
   },
   {
    "duration": 19,
    "start_time": "2022-11-13T18:10:15.983Z"
   },
   {
    "duration": 5,
    "start_time": "2022-11-13T18:10:59.658Z"
   },
   {
    "duration": 5,
    "start_time": "2022-11-13T18:11:18.871Z"
   },
   {
    "duration": 11,
    "start_time": "2022-11-13T18:12:23.011Z"
   },
   {
    "duration": 6,
    "start_time": "2022-11-13T18:12:36.815Z"
   },
   {
    "duration": 8,
    "start_time": "2022-11-13T18:14:03.185Z"
   },
   {
    "duration": 116,
    "start_time": "2022-11-13T18:14:06.313Z"
   },
   {
    "duration": 55,
    "start_time": "2022-11-13T18:14:36.553Z"
   },
   {
    "duration": 34,
    "start_time": "2022-11-13T18:14:38.375Z"
   },
   {
    "duration": 25,
    "start_time": "2022-11-13T18:14:50.344Z"
   },
   {
    "duration": 5,
    "start_time": "2022-11-13T18:15:11.744Z"
   },
   {
    "duration": 6,
    "start_time": "2022-11-13T18:15:24.500Z"
   },
   {
    "duration": 13,
    "start_time": "2022-11-13T18:16:03.663Z"
   },
   {
    "duration": 12,
    "start_time": "2022-11-13T18:16:07.104Z"
   },
   {
    "duration": 448,
    "start_time": "2022-11-13T18:21:51.739Z"
   },
   {
    "duration": 385,
    "start_time": "2022-11-13T18:39:01.478Z"
   },
   {
    "duration": 25,
    "start_time": "2022-11-13T18:39:40.913Z"
   },
   {
    "duration": 5,
    "start_time": "2022-11-13T18:40:03.833Z"
   },
   {
    "duration": 92,
    "start_time": "2022-11-13T18:40:04.602Z"
   },
   {
    "duration": 43,
    "start_time": "2022-11-13T18:40:05.322Z"
   },
   {
    "duration": 21,
    "start_time": "2022-11-13T18:40:07.060Z"
   },
   {
    "duration": 18,
    "start_time": "2022-11-13T18:40:07.766Z"
   },
   {
    "duration": 5,
    "start_time": "2022-11-13T18:40:10.551Z"
   },
   {
    "duration": 6,
    "start_time": "2022-11-13T18:40:12.208Z"
   },
   {
    "duration": 15,
    "start_time": "2022-11-13T18:40:13.537Z"
   },
   {
    "duration": 25,
    "start_time": "2022-11-13T18:40:20.561Z"
   },
   {
    "duration": 25,
    "start_time": "2022-11-13T18:40:36.069Z"
   },
   {
    "duration": 22,
    "start_time": "2022-11-13T18:41:03.850Z"
   },
   {
    "duration": 6,
    "start_time": "2022-11-13T18:45:58.673Z"
   },
   {
    "duration": 33,
    "start_time": "2022-11-13T18:48:58.684Z"
   },
   {
    "duration": 11,
    "start_time": "2022-11-13T18:52:41.472Z"
   },
   {
    "duration": 14,
    "start_time": "2022-11-13T18:57:05.930Z"
   },
   {
    "duration": 4,
    "start_time": "2022-11-13T18:57:31.657Z"
   },
   {
    "duration": 220,
    "start_time": "2022-11-13T18:57:44.658Z"
   },
   {
    "duration": 4,
    "start_time": "2022-11-13T18:59:12.702Z"
   },
   {
    "duration": 217,
    "start_time": "2022-11-13T18:59:30.818Z"
   },
   {
    "duration": 6,
    "start_time": "2022-11-13T19:01:10.738Z"
   },
   {
    "duration": 20,
    "start_time": "2022-11-13T19:07:10.858Z"
   },
   {
    "duration": 8,
    "start_time": "2022-11-13T20:32:30.818Z"
   },
   {
    "duration": 98,
    "start_time": "2022-11-13T20:32:31.437Z"
   },
   {
    "duration": 43,
    "start_time": "2022-11-13T20:32:31.717Z"
   },
   {
    "duration": 28,
    "start_time": "2022-11-13T20:32:31.941Z"
   },
   {
    "duration": 18,
    "start_time": "2022-11-13T20:32:32.116Z"
   },
   {
    "duration": 5,
    "start_time": "2022-11-13T20:32:32.516Z"
   },
   {
    "duration": 7,
    "start_time": "2022-11-13T20:32:32.539Z"
   },
   {
    "duration": 21,
    "start_time": "2022-11-13T20:32:32.788Z"
   },
   {
    "duration": 354,
    "start_time": "2022-11-13T20:32:33.435Z"
   },
   {
    "duration": 0,
    "start_time": "2022-11-13T20:32:33.791Z"
   },
   {
    "duration": 34,
    "start_time": "2022-11-13T20:32:34.411Z"
   },
   {
    "duration": 10,
    "start_time": "2022-11-13T20:32:34.534Z"
   },
   {
    "duration": 11,
    "start_time": "2022-11-13T20:32:39.605Z"
   },
   {
    "duration": 5,
    "start_time": "2022-11-13T20:32:41.014Z"
   },
   {
    "duration": 325,
    "start_time": "2022-11-13T20:32:46.080Z"
   },
   {
    "duration": 4,
    "start_time": "2022-11-13T20:32:51.003Z"
   },
   {
    "duration": 17,
    "start_time": "2022-11-13T20:32:51.998Z"
   },
   {
    "duration": 6,
    "start_time": "2022-11-13T20:33:24.699Z"
   },
   {
    "duration": 99,
    "start_time": "2022-11-13T20:33:25.696Z"
   },
   {
    "duration": 58,
    "start_time": "2022-11-13T20:33:29.085Z"
   },
   {
    "duration": 36,
    "start_time": "2022-11-13T20:33:30.902Z"
   },
   {
    "duration": 23,
    "start_time": "2022-11-13T20:33:33.521Z"
   },
   {
    "duration": 5,
    "start_time": "2022-11-13T20:33:37.141Z"
   },
   {
    "duration": 7,
    "start_time": "2022-11-13T20:33:40.189Z"
   },
   {
    "duration": 13,
    "start_time": "2022-11-13T20:33:42.479Z"
   },
   {
    "duration": 12,
    "start_time": "2022-11-13T20:33:45.972Z"
   },
   {
    "duration": 390,
    "start_time": "2022-11-13T20:33:51.278Z"
   },
   {
    "duration": 22,
    "start_time": "2022-11-13T20:34:08.433Z"
   },
   {
    "duration": 5,
    "start_time": "2022-11-13T20:34:12.644Z"
   },
   {
    "duration": 34,
    "start_time": "2022-11-13T20:34:15.870Z"
   },
   {
    "duration": 10,
    "start_time": "2022-11-13T20:34:19.892Z"
   },
   {
    "duration": 19,
    "start_time": "2022-11-13T20:34:31.215Z"
   },
   {
    "duration": 5,
    "start_time": "2022-11-13T20:34:35.537Z"
   },
   {
    "duration": 235,
    "start_time": "2022-11-13T20:34:39.413Z"
   },
   {
    "duration": 3,
    "start_time": "2022-11-13T20:34:42.951Z"
   },
   {
    "duration": 21,
    "start_time": "2022-11-13T20:34:44.832Z"
   },
   {
    "duration": 19,
    "start_time": "2022-11-13T20:41:05.416Z"
   },
   {
    "duration": 3,
    "start_time": "2022-11-13T20:45:40.871Z"
   },
   {
    "duration": 24,
    "start_time": "2022-11-13T20:46:11.771Z"
   },
   {
    "duration": 43,
    "start_time": "2022-11-13T20:49:55.712Z"
   },
   {
    "duration": 27,
    "start_time": "2022-11-13T20:51:48.222Z"
   },
   {
    "duration": 5,
    "start_time": "2022-11-13T20:53:57.410Z"
   },
   {
    "duration": 13,
    "start_time": "2022-11-13T20:54:35.975Z"
   },
   {
    "duration": 7,
    "start_time": "2022-11-13T20:55:08.007Z"
   },
   {
    "duration": 7,
    "start_time": "2022-11-13T20:55:43.661Z"
   },
   {
    "duration": 52,
    "start_time": "2022-11-13T20:56:19.971Z"
   },
   {
    "duration": 12,
    "start_time": "2022-11-13T20:56:32.545Z"
   },
   {
    "duration": 213,
    "start_time": "2022-11-13T20:56:46.391Z"
   },
   {
    "duration": 6,
    "start_time": "2022-11-13T20:57:18.663Z"
   },
   {
    "duration": 95,
    "start_time": "2022-11-13T20:57:19.227Z"
   },
   {
    "duration": 42,
    "start_time": "2022-11-13T20:57:19.655Z"
   },
   {
    "duration": 21,
    "start_time": "2022-11-13T20:57:19.910Z"
   },
   {
    "duration": 20,
    "start_time": "2022-11-13T20:57:20.175Z"
   },
   {
    "duration": 5,
    "start_time": "2022-11-13T20:57:20.372Z"
   },
   {
    "duration": 8,
    "start_time": "2022-11-13T20:57:20.605Z"
   },
   {
    "duration": 12,
    "start_time": "2022-11-13T20:57:20.879Z"
   },
   {
    "duration": 22,
    "start_time": "2022-11-13T20:57:22.286Z"
   },
   {
    "duration": 6,
    "start_time": "2022-11-13T20:57:23.111Z"
   },
   {
    "duration": 35,
    "start_time": "2022-11-13T20:57:25.261Z"
   },
   {
    "duration": 14,
    "start_time": "2022-11-13T20:57:26.302Z"
   },
   {
    "duration": 9,
    "start_time": "2022-11-13T20:57:29.498Z"
   },
   {
    "duration": 4,
    "start_time": "2022-11-13T20:57:30.209Z"
   },
   {
    "duration": 214,
    "start_time": "2022-11-13T20:57:31.047Z"
   },
   {
    "duration": 2,
    "start_time": "2022-11-13T20:57:31.703Z"
   },
   {
    "duration": 18,
    "start_time": "2022-11-13T20:57:32.464Z"
   },
   {
    "duration": 43,
    "start_time": "2022-11-13T20:57:33.326Z"
   },
   {
    "duration": 17,
    "start_time": "2022-11-13T20:57:37.150Z"
   },
   {
    "duration": 4,
    "start_time": "2022-11-13T20:57:40.879Z"
   },
   {
    "duration": 22,
    "start_time": "2022-11-13T20:57:43.103Z"
   },
   {
    "duration": 44,
    "start_time": "2022-11-13T20:58:11.008Z"
   },
   {
    "duration": 5,
    "start_time": "2022-11-13T20:58:11.696Z"
   },
   {
    "duration": 16,
    "start_time": "2022-11-13T20:58:13.822Z"
   },
   {
    "duration": 5,
    "start_time": "2022-11-13T20:58:19.503Z"
   },
   {
    "duration": 6,
    "start_time": "2022-11-13T21:00:02.737Z"
   },
   {
    "duration": 10,
    "start_time": "2022-11-13T21:03:11.695Z"
   },
   {
    "duration": 6,
    "start_time": "2022-11-13T21:04:02.616Z"
   },
   {
    "duration": 104,
    "start_time": "2022-11-13T21:04:03.163Z"
   },
   {
    "duration": 43,
    "start_time": "2022-11-13T21:04:03.498Z"
   },
   {
    "duration": 20,
    "start_time": "2022-11-13T21:04:03.727Z"
   },
   {
    "duration": 17,
    "start_time": "2022-11-13T21:04:03.978Z"
   },
   {
    "duration": 5,
    "start_time": "2022-11-13T21:04:04.351Z"
   },
   {
    "duration": 7,
    "start_time": "2022-11-13T21:04:05.476Z"
   },
   {
    "duration": 13,
    "start_time": "2022-11-13T21:04:05.744Z"
   },
   {
    "duration": 22,
    "start_time": "2022-11-13T21:04:09.790Z"
   },
   {
    "duration": 5,
    "start_time": "2022-11-13T21:04:11.735Z"
   },
   {
    "duration": 36,
    "start_time": "2022-11-13T21:04:13.928Z"
   },
   {
    "duration": 11,
    "start_time": "2022-11-13T21:04:15.614Z"
   },
   {
    "duration": 10,
    "start_time": "2022-11-13T21:04:19.200Z"
   },
   {
    "duration": 4,
    "start_time": "2022-11-13T21:04:21.088Z"
   },
   {
    "duration": 219,
    "start_time": "2022-11-13T21:04:22.907Z"
   },
   {
    "duration": 3,
    "start_time": "2022-11-13T21:04:25.916Z"
   },
   {
    "duration": 20,
    "start_time": "2022-11-13T21:04:27.521Z"
   },
   {
    "duration": 72,
    "start_time": "2022-11-13T21:04:28.712Z"
   },
   {
    "duration": 18,
    "start_time": "2022-11-13T21:04:30.287Z"
   },
   {
    "duration": 3,
    "start_time": "2022-11-13T21:04:35.478Z"
   },
   {
    "duration": 23,
    "start_time": "2022-11-13T21:04:36.017Z"
   },
   {
    "duration": 50,
    "start_time": "2022-11-13T21:04:39.455Z"
   },
   {
    "duration": 5,
    "start_time": "2022-11-13T21:04:42.600Z"
   },
   {
    "duration": 13,
    "start_time": "2022-11-13T21:04:43.137Z"
   },
   {
    "duration": 11,
    "start_time": "2022-11-13T21:04:53.769Z"
   },
   {
    "duration": 6,
    "start_time": "2022-11-13T21:06:24.096Z"
   },
   {
    "duration": 8,
    "start_time": "2022-11-13T21:06:36.930Z"
   },
   {
    "duration": 74,
    "start_time": "2022-11-13T21:06:52.992Z"
   },
   {
    "duration": 10,
    "start_time": "2022-11-13T21:06:58.778Z"
   },
   {
    "duration": 6,
    "start_time": "2022-11-13T21:07:08.343Z"
   },
   {
    "duration": 6,
    "start_time": "2022-11-13T21:08:19.760Z"
   },
   {
    "duration": 93,
    "start_time": "2022-11-13T21:08:20.032Z"
   },
   {
    "duration": 41,
    "start_time": "2022-11-13T21:08:20.300Z"
   },
   {
    "duration": 20,
    "start_time": "2022-11-13T21:08:20.518Z"
   },
   {
    "duration": 17,
    "start_time": "2022-11-13T21:08:20.743Z"
   },
   {
    "duration": 5,
    "start_time": "2022-11-13T21:08:21.672Z"
   },
   {
    "duration": 6,
    "start_time": "2022-11-13T21:08:21.931Z"
   },
   {
    "duration": 12,
    "start_time": "2022-11-13T21:08:22.166Z"
   },
   {
    "duration": 11,
    "start_time": "2022-11-13T21:09:19.267Z"
   },
   {
    "duration": 1122,
    "start_time": "2022-11-13T21:09:28.056Z"
   },
   {
    "duration": 96,
    "start_time": "2022-11-13T21:09:29.180Z"
   },
   {
    "duration": 41,
    "start_time": "2022-11-13T21:09:29.278Z"
   },
   {
    "duration": 20,
    "start_time": "2022-11-13T21:09:29.321Z"
   },
   {
    "duration": 16,
    "start_time": "2022-11-13T21:09:29.342Z"
   },
   {
    "duration": 6,
    "start_time": "2022-11-13T21:09:29.360Z"
   },
   {
    "duration": 105,
    "start_time": "2022-11-13T21:09:29.368Z"
   },
   {
    "duration": 0,
    "start_time": "2022-11-13T21:09:29.476Z"
   },
   {
    "duration": 0,
    "start_time": "2022-11-13T21:09:29.477Z"
   },
   {
    "duration": 0,
    "start_time": "2022-11-13T21:09:29.478Z"
   },
   {
    "duration": 0,
    "start_time": "2022-11-13T21:09:29.479Z"
   },
   {
    "duration": 0,
    "start_time": "2022-11-13T21:09:29.480Z"
   },
   {
    "duration": 0,
    "start_time": "2022-11-13T21:09:29.482Z"
   },
   {
    "duration": 0,
    "start_time": "2022-11-13T21:09:29.483Z"
   },
   {
    "duration": 0,
    "start_time": "2022-11-13T21:09:29.484Z"
   },
   {
    "duration": 0,
    "start_time": "2022-11-13T21:09:29.485Z"
   },
   {
    "duration": 0,
    "start_time": "2022-11-13T21:09:29.486Z"
   },
   {
    "duration": 0,
    "start_time": "2022-11-13T21:09:29.487Z"
   },
   {
    "duration": 0,
    "start_time": "2022-11-13T21:09:29.488Z"
   },
   {
    "duration": 0,
    "start_time": "2022-11-13T21:09:29.490Z"
   },
   {
    "duration": 0,
    "start_time": "2022-11-13T21:09:29.519Z"
   },
   {
    "duration": 0,
    "start_time": "2022-11-13T21:09:29.520Z"
   },
   {
    "duration": 0,
    "start_time": "2022-11-13T21:09:29.521Z"
   },
   {
    "duration": 0,
    "start_time": "2022-11-13T21:09:29.522Z"
   },
   {
    "duration": 0,
    "start_time": "2022-11-13T21:09:29.523Z"
   },
   {
    "duration": 0,
    "start_time": "2022-11-13T21:09:29.524Z"
   },
   {
    "duration": 0,
    "start_time": "2022-11-13T21:09:29.525Z"
   },
   {
    "duration": 0,
    "start_time": "2022-11-13T21:09:29.526Z"
   },
   {
    "duration": 0,
    "start_time": "2022-11-13T21:09:29.527Z"
   },
   {
    "duration": 8,
    "start_time": "2022-11-13T21:09:46.559Z"
   },
   {
    "duration": 1175,
    "start_time": "2022-11-13T21:10:04.291Z"
   },
   {
    "duration": 106,
    "start_time": "2022-11-13T21:10:05.468Z"
   },
   {
    "duration": 41,
    "start_time": "2022-11-13T21:10:05.576Z"
   },
   {
    "duration": 21,
    "start_time": "2022-11-13T21:10:05.620Z"
   },
   {
    "duration": 27,
    "start_time": "2022-11-13T21:10:05.642Z"
   },
   {
    "duration": 4,
    "start_time": "2022-11-13T21:10:05.685Z"
   },
   {
    "duration": 100,
    "start_time": "2022-11-13T21:10:05.920Z"
   },
   {
    "duration": 15,
    "start_time": "2022-11-13T21:10:06.115Z"
   },
   {
    "duration": 9,
    "start_time": "2022-11-13T21:10:07.817Z"
   },
   {
    "duration": 6,
    "start_time": "2022-11-13T21:15:21.340Z"
   },
   {
    "duration": 94,
    "start_time": "2022-11-13T21:15:21.736Z"
   },
   {
    "duration": 41,
    "start_time": "2022-11-13T21:15:21.883Z"
   },
   {
    "duration": 20,
    "start_time": "2022-11-13T21:15:22.136Z"
   },
   {
    "duration": 17,
    "start_time": "2022-11-13T21:15:22.392Z"
   },
   {
    "duration": 5,
    "start_time": "2022-11-13T21:15:22.810Z"
   },
   {
    "duration": 8,
    "start_time": "2022-11-13T21:15:23.153Z"
   },
   {
    "duration": 15,
    "start_time": "2022-11-13T21:15:23.437Z"
   },
   {
    "duration": 14,
    "start_time": "2022-11-13T21:15:26.619Z"
   },
   {
    "duration": 8,
    "start_time": "2022-11-13T21:15:35.476Z"
   },
   {
    "duration": 8,
    "start_time": "2022-11-13T21:15:35.724Z"
   },
   {
    "duration": 9,
    "start_time": "2022-11-13T21:15:35.987Z"
   },
   {
    "duration": 10,
    "start_time": "2022-11-13T21:15:36.228Z"
   },
   {
    "duration": 10,
    "start_time": "2022-11-13T21:15:36.656Z"
   },
   {
    "duration": 4,
    "start_time": "2022-11-13T21:15:36.904Z"
   },
   {
    "duration": 9,
    "start_time": "2022-11-13T21:19:51.611Z"
   },
   {
    "duration": 15,
    "start_time": "2022-11-13T21:19:57.858Z"
   },
   {
    "duration": 21,
    "start_time": "2022-11-13T21:20:04.880Z"
   },
   {
    "duration": 5,
    "start_time": "2022-11-13T21:20:08.144Z"
   },
   {
    "duration": 37,
    "start_time": "2022-11-13T21:20:10.322Z"
   },
   {
    "duration": 11,
    "start_time": "2022-11-13T21:20:15.419Z"
   },
   {
    "duration": 10,
    "start_time": "2022-11-13T21:20:18.042Z"
   },
   {
    "duration": 4,
    "start_time": "2022-11-13T21:20:20.844Z"
   },
   {
    "duration": 226,
    "start_time": "2022-11-13T21:20:21.323Z"
   },
   {
    "duration": 3,
    "start_time": "2022-11-13T21:20:24.352Z"
   },
   {
    "duration": 21,
    "start_time": "2022-11-13T21:20:24.885Z"
   },
   {
    "duration": 150,
    "start_time": "2022-11-13T21:20:27.202Z"
   },
   {
    "duration": 17,
    "start_time": "2022-11-13T21:20:27.842Z"
   },
   {
    "duration": 3,
    "start_time": "2022-11-13T21:20:31.065Z"
   },
   {
    "duration": 22,
    "start_time": "2022-11-13T21:20:32.145Z"
   },
   {
    "duration": 55,
    "start_time": "2022-11-13T21:20:36.424Z"
   },
   {
    "duration": 5,
    "start_time": "2022-11-13T21:20:43.047Z"
   },
   {
    "duration": 12,
    "start_time": "2022-11-13T21:20:45.810Z"
   },
   {
    "duration": 10,
    "start_time": "2022-11-13T21:20:50.343Z"
   },
   {
    "duration": 5,
    "start_time": "2022-11-13T21:21:45.898Z"
   },
   {
    "duration": 11,
    "start_time": "2022-11-13T21:21:56.280Z"
   },
   {
    "duration": 8,
    "start_time": "2022-11-13T21:22:11.665Z"
   },
   {
    "duration": 11,
    "start_time": "2022-11-13T21:22:49.627Z"
   },
   {
    "duration": 10,
    "start_time": "2022-11-13T21:23:35.499Z"
   },
   {
    "duration": 7,
    "start_time": "2022-11-13T21:23:49.578Z"
   },
   {
    "duration": 5,
    "start_time": "2022-11-13T21:24:37.430Z"
   },
   {
    "duration": 10,
    "start_time": "2022-11-13T21:25:00.986Z"
   },
   {
    "duration": 9,
    "start_time": "2022-11-13T21:28:29.995Z"
   },
   {
    "duration": 5,
    "start_time": "2022-11-13T21:28:49.305Z"
   },
   {
    "duration": 17,
    "start_time": "2022-11-13T21:29:07.971Z"
   },
   {
    "duration": 717,
    "start_time": "2022-11-13T21:33:27.178Z"
   },
   {
    "duration": 6,
    "start_time": "2022-11-13T21:33:43.795Z"
   },
   {
    "duration": 5,
    "start_time": "2022-11-13T21:35:46.099Z"
   },
   {
    "duration": 12,
    "start_time": "2022-11-13T21:36:36.777Z"
   },
   {
    "duration": 8,
    "start_time": "2022-11-13T21:37:13.597Z"
   },
   {
    "duration": 15,
    "start_time": "2022-11-13T21:37:46.380Z"
   },
   {
    "duration": 4,
    "start_time": "2022-11-13T21:38:25.743Z"
   },
   {
    "duration": 5,
    "start_time": "2022-11-13T21:38:52.612Z"
   },
   {
    "duration": 27,
    "start_time": "2022-11-13T21:41:51.434Z"
   },
   {
    "duration": 343,
    "start_time": "2022-11-13T22:09:34.912Z"
   },
   {
    "duration": 28,
    "start_time": "2022-11-13T22:10:09.549Z"
   },
   {
    "duration": 4,
    "start_time": "2022-11-13T22:10:29.746Z"
   },
   {
    "duration": 18,
    "start_time": "2022-11-13T22:11:10.563Z"
   },
   {
    "duration": 3,
    "start_time": "2022-11-13T22:12:20.651Z"
   },
   {
    "duration": 10,
    "start_time": "2022-11-13T22:12:21.006Z"
   },
   {
    "duration": 26,
    "start_time": "2022-11-13T22:12:44.999Z"
   },
   {
    "duration": 421,
    "start_time": "2022-11-13T22:14:45.559Z"
   },
   {
    "duration": 12,
    "start_time": "2022-11-13T22:15:14.021Z"
   },
   {
    "duration": 181,
    "start_time": "2022-11-13T22:15:37.293Z"
   },
   {
    "duration": 167,
    "start_time": "2022-11-13T22:16:44.285Z"
   },
   {
    "duration": 48,
    "start_time": "2022-11-13T22:16:59.587Z"
   },
   {
    "duration": 46,
    "start_time": "2022-11-13T22:17:10.680Z"
   },
   {
    "duration": 42,
    "start_time": "2022-11-13T22:17:19.717Z"
   },
   {
    "duration": 65,
    "start_time": "2022-11-13T22:17:29.646Z"
   },
   {
    "duration": 167,
    "start_time": "2022-11-13T22:17:38.542Z"
   },
   {
    "duration": 188,
    "start_time": "2022-11-13T22:18:01.183Z"
   },
   {
    "duration": 275,
    "start_time": "2022-11-13T22:18:35.383Z"
   },
   {
    "duration": 13,
    "start_time": "2022-11-13T22:19:02.277Z"
   },
   {
    "duration": 12,
    "start_time": "2022-11-13T22:19:07.894Z"
   },
   {
    "duration": 3134,
    "start_time": "2022-11-13T22:19:50.109Z"
   },
   {
    "duration": 4,
    "start_time": "2022-11-13T22:38:14.110Z"
   },
   {
    "duration": 10,
    "start_time": "2022-11-13T22:38:43.137Z"
   },
   {
    "duration": 8,
    "start_time": "2022-11-13T22:39:43.438Z"
   },
   {
    "duration": 10,
    "start_time": "2022-11-13T22:39:49.641Z"
   },
   {
    "duration": 5,
    "start_time": "2022-11-13T22:41:11.811Z"
   },
   {
    "duration": 13,
    "start_time": "2022-11-13T22:41:14.414Z"
   },
   {
    "duration": 15,
    "start_time": "2022-11-13T22:43:09.177Z"
   },
   {
    "duration": 21,
    "start_time": "2022-11-13T22:44:00.424Z"
   },
   {
    "duration": 112,
    "start_time": "2022-11-13T22:46:50.034Z"
   },
   {
    "duration": 407,
    "start_time": "2022-11-13T23:28:37.842Z"
   },
   {
    "duration": 6,
    "start_time": "2022-11-13T23:28:46.932Z"
   },
   {
    "duration": 7,
    "start_time": "2022-11-13T23:28:47.692Z"
   },
   {
    "duration": 5,
    "start_time": "2022-11-13T23:28:48.459Z"
   },
   {
    "duration": 5,
    "start_time": "2022-11-13T23:28:49.094Z"
   },
   {
    "duration": 11,
    "start_time": "2022-11-13T23:28:50.632Z"
   },
   {
    "duration": 358,
    "start_time": "2022-11-13T23:28:51.223Z"
   },
   {
    "duration": 14,
    "start_time": "2022-11-13T23:28:52.202Z"
   },
   {
    "duration": 4,
    "start_time": "2022-11-13T23:28:54.267Z"
   },
   {
    "duration": 19,
    "start_time": "2022-11-13T23:28:54.571Z"
   },
   {
    "duration": 3,
    "start_time": "2022-11-13T23:28:55.307Z"
   },
   {
    "duration": 23,
    "start_time": "2022-11-13T23:28:55.571Z"
   },
   {
    "duration": 414,
    "start_time": "2022-11-13T23:28:56.210Z"
   },
   {
    "duration": 12,
    "start_time": "2022-11-13T23:28:57.636Z"
   },
   {
    "duration": 204,
    "start_time": "2022-11-13T23:28:57.763Z"
   },
   {
    "duration": 164,
    "start_time": "2022-11-13T23:28:58.843Z"
   },
   {
    "duration": 193,
    "start_time": "2022-11-13T23:29:00.066Z"
   },
   {
    "duration": 274,
    "start_time": "2022-11-13T23:29:01.519Z"
   },
   {
    "duration": 11,
    "start_time": "2022-11-13T23:29:02.738Z"
   },
   {
    "duration": 312,
    "start_time": "2022-11-13T23:29:03.434Z"
   },
   {
    "duration": 4,
    "start_time": "2022-11-13T23:35:17.179Z"
   },
   {
    "duration": 24,
    "start_time": "2022-11-13T23:35:20.879Z"
   },
   {
    "duration": 5,
    "start_time": "2022-11-13T23:45:08.847Z"
   },
   {
    "duration": 16,
    "start_time": "2022-11-13T23:45:51.274Z"
   },
   {
    "duration": 10,
    "start_time": "2022-11-13T23:49:22.736Z"
   },
   {
    "duration": 28,
    "start_time": "2022-11-13T23:50:08.061Z"
   },
   {
    "duration": 5,
    "start_time": "2022-11-14T00:05:20.383Z"
   },
   {
    "duration": 5,
    "start_time": "2022-11-14T00:05:34.623Z"
   },
   {
    "duration": 91,
    "start_time": "2022-11-14T00:05:35.191Z"
   },
   {
    "duration": 42,
    "start_time": "2022-11-14T00:05:35.634Z"
   },
   {
    "duration": 22,
    "start_time": "2022-11-14T00:05:35.848Z"
   },
   {
    "duration": 16,
    "start_time": "2022-11-14T00:05:36.099Z"
   },
   {
    "duration": 6,
    "start_time": "2022-11-14T00:05:36.317Z"
   },
   {
    "duration": 9,
    "start_time": "2022-11-14T00:05:36.503Z"
   },
   {
    "duration": 10,
    "start_time": "2022-11-14T00:05:36.734Z"
   },
   {
    "duration": 21,
    "start_time": "2022-11-14T00:05:38.023Z"
   },
   {
    "duration": 4,
    "start_time": "2022-11-14T00:05:38.445Z"
   },
   {
    "duration": 32,
    "start_time": "2022-11-14T00:05:38.713Z"
   },
   {
    "duration": 10,
    "start_time": "2022-11-14T00:05:39.145Z"
   },
   {
    "duration": 11,
    "start_time": "2022-11-14T00:05:41.646Z"
   },
   {
    "duration": 5,
    "start_time": "2022-11-14T00:05:42.381Z"
   },
   {
    "duration": 292,
    "start_time": "2022-11-14T00:05:43.229Z"
   },
   {
    "duration": 3,
    "start_time": "2022-11-14T00:05:43.533Z"
   },
   {
    "duration": 20,
    "start_time": "2022-11-14T00:05:43.844Z"
   },
   {
    "duration": 18,
    "start_time": "2022-11-14T00:05:44.982Z"
   },
   {
    "duration": 3,
    "start_time": "2022-11-14T00:05:46.245Z"
   },
   {
    "duration": 21,
    "start_time": "2022-11-14T00:05:47.086Z"
   },
   {
    "duration": 41,
    "start_time": "2022-11-14T00:05:49.406Z"
   },
   {
    "duration": 5,
    "start_time": "2022-11-14T00:05:50.217Z"
   },
   {
    "duration": 12,
    "start_time": "2022-11-14T00:05:51.663Z"
   },
   {
    "duration": 5,
    "start_time": "2022-11-14T00:05:52.366Z"
   },
   {
    "duration": 8,
    "start_time": "2022-11-14T00:05:53.486Z"
   },
   {
    "duration": 27,
    "start_time": "2022-11-14T00:12:00.016Z"
   },
   {
    "duration": 5,
    "start_time": "2022-11-14T02:05:14.186Z"
   },
   {
    "duration": 5,
    "start_time": "2022-11-14T02:06:34.303Z"
   },
   {
    "duration": 6,
    "start_time": "2022-11-14T02:12:58.113Z"
   },
   {
    "duration": 5,
    "start_time": "2022-11-14T02:14:01.147Z"
   },
   {
    "duration": 6,
    "start_time": "2022-11-14T02:15:26.594Z"
   },
   {
    "duration": 146,
    "start_time": "2022-11-14T02:19:23.533Z"
   },
   {
    "duration": 7,
    "start_time": "2022-11-14T03:04:17.392Z"
   },
   {
    "duration": 18,
    "start_time": "2022-11-14T03:06:55.886Z"
   },
   {
    "duration": 5,
    "start_time": "2022-11-14T03:07:18.903Z"
   },
   {
    "duration": 92,
    "start_time": "2022-11-14T03:07:19.713Z"
   },
   {
    "duration": 41,
    "start_time": "2022-11-14T03:07:19.849Z"
   },
   {
    "duration": 20,
    "start_time": "2022-11-14T03:07:20.397Z"
   },
   {
    "duration": 16,
    "start_time": "2022-11-14T03:07:20.701Z"
   },
   {
    "duration": 4,
    "start_time": "2022-11-14T03:07:20.835Z"
   },
   {
    "duration": 10,
    "start_time": "2022-11-14T03:07:21.103Z"
   },
   {
    "duration": 11,
    "start_time": "2022-11-14T03:07:21.222Z"
   },
   {
    "duration": 23,
    "start_time": "2022-11-14T03:07:21.918Z"
   },
   {
    "duration": 5,
    "start_time": "2022-11-14T03:07:22.036Z"
   },
   {
    "duration": 33,
    "start_time": "2022-11-14T03:07:22.320Z"
   },
   {
    "duration": 10,
    "start_time": "2022-11-14T03:07:22.457Z"
   },
   {
    "duration": 9,
    "start_time": "2022-11-14T03:07:22.907Z"
   },
   {
    "duration": 5,
    "start_time": "2022-11-14T03:07:23.212Z"
   },
   {
    "duration": 7,
    "start_time": "2022-11-14T03:07:23.322Z"
   },
   {
    "duration": 4,
    "start_time": "2022-11-14T03:07:23.611Z"
   },
   {
    "duration": 206,
    "start_time": "2022-11-14T03:07:23.695Z"
   },
   {
    "duration": 3,
    "start_time": "2022-11-14T03:07:24.471Z"
   },
   {
    "duration": 19,
    "start_time": "2022-11-14T03:07:24.580Z"
   },
   {
    "duration": 18,
    "start_time": "2022-11-14T03:07:25.005Z"
   },
   {
    "duration": 39,
    "start_time": "2022-11-14T03:07:26.906Z"
   },
   {
    "duration": 5,
    "start_time": "2022-11-14T03:07:30.434Z"
   },
   {
    "duration": 12,
    "start_time": "2022-11-14T03:07:31.251Z"
   },
   {
    "duration": 5,
    "start_time": "2022-11-14T03:07:32.119Z"
   },
   {
    "duration": 7,
    "start_time": "2022-11-14T03:07:32.975Z"
   },
   {
    "duration": 380,
    "start_time": "2022-11-14T03:07:34.072Z"
   },
   {
    "duration": 4,
    "start_time": "2022-11-14T03:07:35.703Z"
   },
   {
    "duration": 7,
    "start_time": "2022-11-14T03:07:36.628Z"
   },
   {
    "duration": 5,
    "start_time": "2022-11-14T03:07:37.557Z"
   },
   {
    "duration": 4,
    "start_time": "2022-11-14T03:07:38.446Z"
   },
   {
    "duration": 25,
    "start_time": "2022-11-14T03:07:40.334Z"
   },
   {
    "duration": 320,
    "start_time": "2022-11-14T03:07:41.134Z"
   },
   {
    "duration": 25,
    "start_time": "2022-11-14T03:07:42.819Z"
   },
   {
    "duration": 50,
    "start_time": "2022-11-14T03:07:43.030Z"
   },
   {
    "duration": 5,
    "start_time": "2022-11-14T03:08:34.956Z"
   },
   {
    "duration": 22,
    "start_time": "2022-11-14T03:08:36.290Z"
   },
   {
    "duration": 3,
    "start_time": "2022-11-14T03:08:38.375Z"
   },
   {
    "duration": 26,
    "start_time": "2022-11-14T03:08:39.421Z"
   },
   {
    "duration": 7,
    "start_time": "2022-11-14T03:08:41.933Z"
   },
   {
    "duration": 57,
    "start_time": "2022-11-14T03:08:42.873Z"
   },
   {
    "duration": 12,
    "start_time": "2022-11-14T03:09:03.256Z"
   },
   {
    "duration": 289,
    "start_time": "2022-11-14T03:31:32.681Z"
   },
   {
    "duration": 218,
    "start_time": "2022-11-14T03:31:46.215Z"
   },
   {
    "duration": 169,
    "start_time": "2022-11-14T03:31:57.041Z"
   },
   {
    "duration": 217,
    "start_time": "2022-11-14T03:32:06.305Z"
   },
   {
    "duration": 11,
    "start_time": "2022-11-14T03:32:18.179Z"
   },
   {
    "duration": 184,
    "start_time": "2022-11-14T03:32:21.450Z"
   },
   {
    "duration": 254,
    "start_time": "2022-11-14T03:32:23.091Z"
   },
   {
    "duration": 12,
    "start_time": "2022-11-14T03:32:34.834Z"
   },
   {
    "duration": 7,
    "start_time": "2022-11-14T03:32:43.519Z"
   },
   {
    "duration": 3,
    "start_time": "2022-11-14T03:32:53.903Z"
   },
   {
    "duration": 27,
    "start_time": "2022-11-14T03:32:54.544Z"
   },
   {
    "duration": 7,
    "start_time": "2022-11-14T03:32:56.004Z"
   },
   {
    "duration": 4,
    "start_time": "2022-11-14T03:33:07.987Z"
   },
   {
    "duration": 19,
    "start_time": "2022-11-14T03:33:08.632Z"
   },
   {
    "duration": 33,
    "start_time": "2022-11-14T03:33:20.141Z"
   },
   {
    "duration": 1567,
    "start_time": "2022-11-14T19:13:14.744Z"
   },
   {
    "duration": 333,
    "start_time": "2022-11-14T19:13:16.313Z"
   },
   {
    "duration": 67,
    "start_time": "2022-11-14T19:13:16.648Z"
   },
   {
    "duration": 32,
    "start_time": "2022-11-14T19:13:16.718Z"
   },
   {
    "duration": 24,
    "start_time": "2022-11-14T19:13:16.752Z"
   },
   {
    "duration": 5,
    "start_time": "2022-11-14T19:13:17.070Z"
   },
   {
    "duration": 10,
    "start_time": "2022-11-14T19:13:17.284Z"
   },
   {
    "duration": 13,
    "start_time": "2022-11-14T19:13:17.692Z"
   },
   {
    "duration": 41,
    "start_time": "2022-11-14T19:13:19.569Z"
   },
   {
    "duration": 7,
    "start_time": "2022-11-14T19:13:20.190Z"
   },
   {
    "duration": 53,
    "start_time": "2022-11-14T19:13:20.925Z"
   },
   {
    "duration": 14,
    "start_time": "2022-11-14T19:13:21.601Z"
   },
   {
    "duration": 12,
    "start_time": "2022-11-14T19:13:22.918Z"
   },
   {
    "duration": 5,
    "start_time": "2022-11-14T19:13:23.605Z"
   },
   {
    "duration": 6,
    "start_time": "2022-11-14T19:13:24.309Z"
   },
   {
    "duration": 4,
    "start_time": "2022-11-14T19:13:25.064Z"
   },
   {
    "duration": 282,
    "start_time": "2022-11-14T19:13:25.734Z"
   },
   {
    "duration": 6,
    "start_time": "2022-11-14T19:13:26.556Z"
   },
   {
    "duration": 23,
    "start_time": "2022-11-14T19:13:27.176Z"
   },
   {
    "duration": 21,
    "start_time": "2022-11-14T19:13:28.666Z"
   },
   {
    "duration": 60,
    "start_time": "2022-11-14T19:13:31.476Z"
   },
   {
    "duration": 6,
    "start_time": "2022-11-14T19:13:32.569Z"
   },
   {
    "duration": 20,
    "start_time": "2022-11-14T19:13:34.046Z"
   },
   {
    "duration": 8,
    "start_time": "2022-11-14T19:13:34.872Z"
   },
   {
    "duration": 9,
    "start_time": "2022-11-14T19:13:35.640Z"
   },
   {
    "duration": 511,
    "start_time": "2022-11-14T19:13:36.795Z"
   },
   {
    "duration": 6,
    "start_time": "2022-11-14T19:13:38.201Z"
   },
   {
    "duration": 12,
    "start_time": "2022-11-14T19:13:38.926Z"
   },
   {
    "duration": 6,
    "start_time": "2022-11-14T19:13:39.620Z"
   },
   {
    "duration": 6,
    "start_time": "2022-11-14T19:13:40.396Z"
   },
   {
    "duration": 28,
    "start_time": "2022-11-14T19:13:42.285Z"
   },
   {
    "duration": 457,
    "start_time": "2022-11-14T19:13:43.697Z"
   },
   {
    "duration": 43,
    "start_time": "2022-11-14T19:13:44.487Z"
   },
   {
    "duration": 5,
    "start_time": "2022-11-14T19:13:47.566Z"
   },
   {
    "duration": 29,
    "start_time": "2022-11-14T19:13:48.196Z"
   },
   {
    "duration": 5,
    "start_time": "2022-11-14T19:13:49.596Z"
   },
   {
    "duration": 29,
    "start_time": "2022-11-14T19:13:50.268Z"
   },
   {
    "duration": 7,
    "start_time": "2022-11-14T19:13:51.585Z"
   },
   {
    "duration": 18,
    "start_time": "2022-11-14T19:14:09.715Z"
   },
   {
    "duration": 13,
    "start_time": "2022-11-14T19:57:49.851Z"
   },
   {
    "duration": 292,
    "start_time": "2022-11-14T20:12:58.748Z"
   },
   {
    "duration": 289,
    "start_time": "2022-11-14T20:13:16.134Z"
   },
   {
    "duration": 68,
    "start_time": "2022-11-14T20:33:35.645Z"
   },
   {
    "duration": 414,
    "start_time": "2022-11-14T20:33:52.521Z"
   },
   {
    "duration": 342,
    "start_time": "2022-11-14T20:34:13.576Z"
   },
   {
    "duration": 331,
    "start_time": "2022-11-14T20:34:29.613Z"
   },
   {
    "duration": 347,
    "start_time": "2022-11-14T21:00:54.596Z"
   },
   {
    "duration": 345,
    "start_time": "2022-11-14T21:01:13.261Z"
   },
   {
    "duration": 320,
    "start_time": "2022-11-14T21:05:52.824Z"
   },
   {
    "duration": 322,
    "start_time": "2022-11-14T21:06:00.083Z"
   },
   {
    "duration": 404,
    "start_time": "2022-11-14T21:08:36.800Z"
   },
   {
    "duration": 324,
    "start_time": "2022-11-14T21:08:49.190Z"
   },
   {
    "duration": 6,
    "start_time": "2022-11-14T21:41:39.993Z"
   },
   {
    "duration": 103,
    "start_time": "2022-11-14T21:41:53.766Z"
   },
   {
    "duration": 46,
    "start_time": "2022-11-14T21:41:57.913Z"
   },
   {
    "duration": 24,
    "start_time": "2022-11-14T21:41:58.834Z"
   },
   {
    "duration": 21,
    "start_time": "2022-11-14T21:41:59.563Z"
   },
   {
    "duration": 5,
    "start_time": "2022-11-14T21:42:00.153Z"
   },
   {
    "duration": 11,
    "start_time": "2022-11-14T21:42:00.453Z"
   },
   {
    "duration": 12,
    "start_time": "2022-11-14T21:42:00.722Z"
   },
   {
    "duration": 27,
    "start_time": "2022-11-14T21:42:01.546Z"
   },
   {
    "duration": 5,
    "start_time": "2022-11-14T21:42:01.827Z"
   },
   {
    "duration": 38,
    "start_time": "2022-11-14T21:42:02.111Z"
   },
   {
    "duration": 11,
    "start_time": "2022-11-14T21:42:02.574Z"
   },
   {
    "duration": 11,
    "start_time": "2022-11-14T21:42:17.382Z"
   },
   {
    "duration": 7,
    "start_time": "2022-11-14T21:42:17.703Z"
   },
   {
    "duration": 6,
    "start_time": "2022-11-14T21:42:17.987Z"
   },
   {
    "duration": 5,
    "start_time": "2022-11-14T21:42:35.112Z"
   },
   {
    "duration": 228,
    "start_time": "2022-11-14T21:42:35.873Z"
   },
   {
    "duration": 23,
    "start_time": "2022-11-14T21:42:43.242Z"
   },
   {
    "duration": 20,
    "start_time": "2022-11-14T21:42:44.929Z"
   },
   {
    "duration": 48,
    "start_time": "2022-11-14T21:42:48.199Z"
   },
   {
    "duration": 6,
    "start_time": "2022-11-14T21:42:49.112Z"
   },
   {
    "duration": 19,
    "start_time": "2022-11-14T21:42:49.566Z"
   },
   {
    "duration": 6,
    "start_time": "2022-11-14T21:42:50.215Z"
   },
   {
    "duration": 9,
    "start_time": "2022-11-14T21:42:50.791Z"
   },
   {
    "duration": 465,
    "start_time": "2022-11-14T21:42:51.678Z"
   },
   {
    "duration": 5,
    "start_time": "2022-11-14T21:42:54.728Z"
   },
   {
    "duration": 9,
    "start_time": "2022-11-14T21:42:55.441Z"
   },
   {
    "duration": 6,
    "start_time": "2022-11-14T21:42:56.239Z"
   },
   {
    "duration": 6,
    "start_time": "2022-11-14T21:42:57.472Z"
   },
   {
    "duration": 28,
    "start_time": "2022-11-14T21:43:00.232Z"
   },
   {
    "duration": 415,
    "start_time": "2022-11-14T21:43:01.440Z"
   },
   {
    "duration": 32,
    "start_time": "2022-11-14T21:43:02.081Z"
   },
   {
    "duration": 5,
    "start_time": "2022-11-14T21:43:12.560Z"
   },
   {
    "duration": 19,
    "start_time": "2022-11-14T21:43:13.250Z"
   },
   {
    "duration": 4,
    "start_time": "2022-11-14T21:43:14.703Z"
   },
   {
    "duration": 31,
    "start_time": "2022-11-14T21:43:15.432Z"
   },
   {
    "duration": 8,
    "start_time": "2022-11-14T21:43:16.937Z"
   },
   {
    "duration": 14,
    "start_time": "2022-11-14T21:43:24.750Z"
   },
   {
    "duration": 210,
    "start_time": "2022-11-14T21:43:25.871Z"
   },
   {
    "duration": 205,
    "start_time": "2022-11-14T21:43:54.352Z"
   },
   {
    "duration": 209,
    "start_time": "2022-11-14T21:43:55.505Z"
   },
   {
    "duration": 315,
    "start_time": "2022-11-14T21:43:56.720Z"
   },
   {
    "duration": 457,
    "start_time": "2022-11-14T22:04:41.797Z"
   },
   {
    "duration": 195,
    "start_time": "2022-11-14T22:06:43.488Z"
   },
   {
    "duration": 19,
    "start_time": "2022-11-14T22:08:47.891Z"
   },
   {
    "duration": 13,
    "start_time": "2022-11-14T22:10:03.050Z"
   },
   {
    "duration": 1676,
    "start_time": "2022-11-15T11:48:12.815Z"
   },
   {
    "duration": 146,
    "start_time": "2022-11-15T11:48:14.501Z"
   },
   {
    "duration": 53,
    "start_time": "2022-11-15T11:48:14.648Z"
   },
   {
    "duration": 28,
    "start_time": "2022-11-15T11:48:14.715Z"
   },
   {
    "duration": 19,
    "start_time": "2022-11-15T11:48:14.745Z"
   },
   {
    "duration": 7,
    "start_time": "2022-11-15T11:48:14.766Z"
   },
   {
    "duration": 57,
    "start_time": "2022-11-15T11:48:14.775Z"
   },
   {
    "duration": 19,
    "start_time": "2022-11-15T11:48:14.834Z"
   },
   {
    "duration": 45,
    "start_time": "2022-11-15T11:48:14.855Z"
   },
   {
    "duration": 10,
    "start_time": "2022-11-15T11:48:14.913Z"
   },
   {
    "duration": 41,
    "start_time": "2022-11-15T11:48:14.925Z"
   },
   {
    "duration": 26,
    "start_time": "2022-11-15T11:48:14.968Z"
   },
   {
    "duration": 55,
    "start_time": "2022-11-15T11:48:14.996Z"
   },
   {
    "duration": 5,
    "start_time": "2022-11-15T11:48:15.055Z"
   },
   {
    "duration": 308,
    "start_time": "2022-11-15T11:48:15.061Z"
   },
   {
    "duration": 35,
    "start_time": "2022-11-15T11:48:15.371Z"
   },
   {
    "duration": 52,
    "start_time": "2022-11-15T11:48:15.408Z"
   },
   {
    "duration": 73,
    "start_time": "2022-11-15T11:48:15.462Z"
   },
   {
    "duration": 6,
    "start_time": "2022-11-15T11:48:15.538Z"
   },
   {
    "duration": 23,
    "start_time": "2022-11-15T11:48:15.545Z"
   },
   {
    "duration": 15,
    "start_time": "2022-11-15T11:48:15.570Z"
   },
   {
    "duration": 59,
    "start_time": "2022-11-15T11:48:15.586Z"
   },
   {
    "duration": 595,
    "start_time": "2022-11-15T11:48:15.648Z"
   },
   {
    "duration": 6,
    "start_time": "2022-11-15T11:48:16.245Z"
   },
   {
    "duration": 26,
    "start_time": "2022-11-15T11:48:16.253Z"
   },
   {
    "duration": 42,
    "start_time": "2022-11-15T11:48:16.281Z"
   },
   {
    "duration": 13,
    "start_time": "2022-11-15T11:48:16.324Z"
   },
   {
    "duration": 44,
    "start_time": "2022-11-15T11:48:16.339Z"
   },
   {
    "duration": 471,
    "start_time": "2022-11-15T11:48:16.387Z"
   },
   {
    "duration": 40,
    "start_time": "2022-11-15T11:48:16.859Z"
   },
   {
    "duration": 5,
    "start_time": "2022-11-15T11:48:16.904Z"
   },
   {
    "duration": 40,
    "start_time": "2022-11-15T11:48:16.911Z"
   },
   {
    "duration": 5,
    "start_time": "2022-11-15T11:48:16.953Z"
   },
   {
    "duration": 55,
    "start_time": "2022-11-15T11:48:16.960Z"
   },
   {
    "duration": 24,
    "start_time": "2022-11-15T11:48:17.016Z"
   },
   {
    "duration": 19,
    "start_time": "2022-11-15T11:48:17.042Z"
   },
   {
    "duration": 275,
    "start_time": "2022-11-15T11:48:17.063Z"
   },
   {
    "duration": 222,
    "start_time": "2022-11-15T11:48:17.340Z"
   },
   {
    "duration": 378,
    "start_time": "2022-11-15T11:48:17.564Z"
   },
   {
    "duration": 398,
    "start_time": "2022-11-15T11:48:17.943Z"
   },
   {
    "duration": 108,
    "start_time": "2022-11-15T11:48:18.345Z"
   },
   {
    "duration": 0,
    "start_time": "2022-11-15T11:48:18.456Z"
   },
   {
    "duration": 0,
    "start_time": "2022-11-15T11:48:18.457Z"
   },
   {
    "duration": 0,
    "start_time": "2022-11-15T11:48:18.458Z"
   },
   {
    "duration": 0,
    "start_time": "2022-11-15T11:48:18.459Z"
   },
   {
    "duration": 0,
    "start_time": "2022-11-15T11:48:18.460Z"
   },
   {
    "duration": 0,
    "start_time": "2022-11-15T11:48:18.462Z"
   },
   {
    "duration": 0,
    "start_time": "2022-11-15T11:48:18.463Z"
   },
   {
    "duration": 11,
    "start_time": "2022-11-15T11:48:49.460Z"
   },
   {
    "duration": 446,
    "start_time": "2022-11-15T11:48:49.473Z"
   },
   {
    "duration": 313,
    "start_time": "2022-11-15T11:48:49.923Z"
   },
   {
    "duration": 423,
    "start_time": "2022-11-15T11:48:50.238Z"
   },
   {
    "duration": 405,
    "start_time": "2022-11-15T11:48:50.663Z"
   },
   {
    "duration": 426,
    "start_time": "2022-11-15T11:48:51.069Z"
   },
   {
    "duration": 351,
    "start_time": "2022-11-15T11:48:51.497Z"
   },
   {
    "duration": 1073,
    "start_time": "2022-11-15T16:50:41.865Z"
   },
   {
    "duration": 276,
    "start_time": "2022-11-15T16:50:42.940Z"
   },
   {
    "duration": 66,
    "start_time": "2022-11-15T16:50:43.217Z"
   },
   {
    "duration": 17,
    "start_time": "2022-11-15T16:50:43.285Z"
   },
   {
    "duration": 18,
    "start_time": "2022-11-15T16:50:43.303Z"
   },
   {
    "duration": 4,
    "start_time": "2022-11-15T16:50:43.323Z"
   },
   {
    "duration": 12,
    "start_time": "2022-11-15T16:50:43.328Z"
   },
   {
    "duration": 13,
    "start_time": "2022-11-15T16:50:43.368Z"
   },
   {
    "duration": 18,
    "start_time": "2022-11-15T16:50:44.176Z"
   },
   {
    "duration": 5,
    "start_time": "2022-11-15T16:50:44.390Z"
   },
   {
    "duration": 36,
    "start_time": "2022-11-15T16:50:44.591Z"
   },
   {
    "duration": 11,
    "start_time": "2022-11-15T16:50:44.793Z"
   },
   {
    "duration": 12,
    "start_time": "2022-11-15T16:50:45.453Z"
   },
   {
    "duration": 3,
    "start_time": "2022-11-15T16:50:45.634Z"
   },
   {
    "duration": 202,
    "start_time": "2022-11-15T16:50:45.842Z"
   },
   {
    "duration": 17,
    "start_time": "2022-11-15T16:50:46.388Z"
   },
   {
    "duration": 17,
    "start_time": "2022-11-15T16:50:46.642Z"
   },
   {
    "duration": 6,
    "start_time": "2022-11-15T16:50:47.063Z"
   },
   {
    "duration": 70,
    "start_time": "2022-11-15T16:50:47.487Z"
   },
   {
    "duration": 34,
    "start_time": "2022-11-15T16:50:47.895Z"
   },
   {
    "duration": 4,
    "start_time": "2022-11-15T16:50:48.077Z"
   },
   {
    "duration": 10,
    "start_time": "2022-11-15T16:50:48.275Z"
   },
   {
    "duration": 6,
    "start_time": "2022-11-15T16:50:48.879Z"
   },
   {
    "duration": 367,
    "start_time": "2022-11-15T16:50:49.869Z"
   },
   {
    "duration": 4,
    "start_time": "2022-11-15T16:50:50.237Z"
   },
   {
    "duration": 16,
    "start_time": "2022-11-15T16:50:50.242Z"
   },
   {
    "duration": 4,
    "start_time": "2022-11-15T16:50:50.467Z"
   },
   {
    "duration": 4,
    "start_time": "2022-11-15T16:50:50.666Z"
   },
   {
    "duration": 22,
    "start_time": "2022-11-15T16:50:50.913Z"
   },
   {
    "duration": 299,
    "start_time": "2022-11-15T16:50:51.093Z"
   },
   {
    "duration": 23,
    "start_time": "2022-11-15T16:50:51.394Z"
   },
   {
    "duration": 4,
    "start_time": "2022-11-15T16:50:52.293Z"
   },
   {
    "duration": 15,
    "start_time": "2022-11-15T16:50:52.490Z"
   },
   {
    "duration": 2,
    "start_time": "2022-11-15T16:50:52.921Z"
   },
   {
    "duration": 20,
    "start_time": "2022-11-15T16:50:53.109Z"
   },
   {
    "duration": 5,
    "start_time": "2022-11-15T16:50:53.796Z"
   },
   {
    "duration": 11,
    "start_time": "2022-11-15T16:50:54.819Z"
   },
   {
    "duration": 169,
    "start_time": "2022-11-15T16:50:55.011Z"
   },
   {
    "duration": 146,
    "start_time": "2022-11-15T16:50:55.636Z"
   },
   {
    "duration": 213,
    "start_time": "2022-11-15T16:50:56.050Z"
   },
   {
    "duration": 234,
    "start_time": "2022-11-15T16:50:56.449Z"
   },
   {
    "duration": 79,
    "start_time": "2022-11-15T16:50:56.864Z"
   },
   {
    "duration": 8,
    "start_time": "2022-11-15T16:50:57.477Z"
   },
   {
    "duration": 238,
    "start_time": "2022-11-15T16:50:57.675Z"
   },
   {
    "duration": 215,
    "start_time": "2022-11-15T16:50:57.915Z"
   },
   {
    "duration": 280,
    "start_time": "2022-11-15T16:50:58.299Z"
   },
   {
    "duration": 271,
    "start_time": "2022-11-15T16:50:58.581Z"
   },
   {
    "duration": 257,
    "start_time": "2022-11-15T16:50:58.854Z"
   },
   {
    "duration": 242,
    "start_time": "2022-11-15T16:50:59.112Z"
   },
   {
    "duration": 10,
    "start_time": "2022-11-15T16:55:04.818Z"
   },
   {
    "duration": 3,
    "start_time": "2022-11-15T16:56:06.621Z"
   },
   {
    "duration": 22,
    "start_time": "2022-11-15T16:56:07.271Z"
   },
   {
    "duration": 118,
    "start_time": "2022-11-15T17:05:02.063Z"
   },
   {
    "duration": 5,
    "start_time": "2022-11-15T17:06:41.597Z"
   },
   {
    "duration": 82,
    "start_time": "2022-11-15T17:06:41.901Z"
   },
   {
    "duration": 36,
    "start_time": "2022-11-15T17:06:42.164Z"
   },
   {
    "duration": 22,
    "start_time": "2022-11-15T17:06:42.394Z"
   },
   {
    "duration": 19,
    "start_time": "2022-11-15T17:06:42.555Z"
   },
   {
    "duration": 4,
    "start_time": "2022-11-15T17:06:42.765Z"
   },
   {
    "duration": 8,
    "start_time": "2022-11-15T17:06:42.979Z"
   },
   {
    "duration": 12,
    "start_time": "2022-11-15T17:06:43.154Z"
   },
   {
    "duration": 22,
    "start_time": "2022-11-15T17:06:43.947Z"
   },
   {
    "duration": 5,
    "start_time": "2022-11-15T17:06:44.174Z"
   },
   {
    "duration": 29,
    "start_time": "2022-11-15T17:06:44.371Z"
   },
   {
    "duration": 11,
    "start_time": "2022-11-15T17:06:44.572Z"
   },
   {
    "duration": 9,
    "start_time": "2022-11-15T17:06:45.168Z"
   },
   {
    "duration": 3,
    "start_time": "2022-11-15T17:06:45.337Z"
   },
   {
    "duration": 249,
    "start_time": "2022-11-15T17:06:45.542Z"
   },
   {
    "duration": 17,
    "start_time": "2022-11-15T17:06:45.974Z"
   },
   {
    "duration": 15,
    "start_time": "2022-11-15T17:06:46.305Z"
   },
   {
    "duration": 5,
    "start_time": "2022-11-15T17:06:46.723Z"
   },
   {
    "duration": 79,
    "start_time": "2022-11-15T17:06:47.091Z"
   },
   {
    "duration": 35,
    "start_time": "2022-11-15T17:06:47.499Z"
   },
   {
    "duration": 4,
    "start_time": "2022-11-15T17:06:47.685Z"
   },
   {
    "duration": 11,
    "start_time": "2022-11-15T17:06:47.895Z"
   },
   {
    "duration": 7,
    "start_time": "2022-11-15T17:06:48.851Z"
   },
   {
    "duration": 9,
    "start_time": "2022-11-15T17:06:49.043Z"
   },
   {
    "duration": 5,
    "start_time": "2022-11-15T17:06:49.240Z"
   },
   {
    "duration": 4,
    "start_time": "2022-11-15T17:06:49.442Z"
   },
   {
    "duration": 22,
    "start_time": "2022-11-15T17:06:50.428Z"
   },
   {
    "duration": 325,
    "start_time": "2022-11-15T17:06:50.629Z"
   },
   {
    "duration": 30,
    "start_time": "2022-11-15T17:06:50.955Z"
   },
   {
    "duration": 5,
    "start_time": "2022-11-15T17:06:51.843Z"
   },
   {
    "duration": 15,
    "start_time": "2022-11-15T17:06:52.099Z"
   },
   {
    "duration": 3,
    "start_time": "2022-11-15T17:06:52.517Z"
   },
   {
    "duration": 23,
    "start_time": "2022-11-15T17:06:52.722Z"
   },
   {
    "duration": 4,
    "start_time": "2022-11-15T17:06:53.387Z"
   },
   {
    "duration": 10,
    "start_time": "2022-11-15T17:06:54.443Z"
   },
   {
    "duration": 159,
    "start_time": "2022-11-15T17:06:54.663Z"
   },
   {
    "duration": 144,
    "start_time": "2022-11-15T17:06:55.259Z"
   },
   {
    "duration": 157,
    "start_time": "2022-11-15T17:06:55.682Z"
   },
   {
    "duration": 228,
    "start_time": "2022-11-15T17:06:56.088Z"
   },
   {
    "duration": 8,
    "start_time": "2022-11-15T17:06:57.091Z"
   },
   {
    "duration": 238,
    "start_time": "2022-11-15T17:06:57.306Z"
   },
   {
    "duration": 213,
    "start_time": "2022-11-15T17:06:57.546Z"
   },
   {
    "duration": 277,
    "start_time": "2022-11-15T17:06:57.761Z"
   },
   {
    "duration": 351,
    "start_time": "2022-11-15T17:06:58.039Z"
   },
   {
    "duration": 238,
    "start_time": "2022-11-15T17:06:58.392Z"
   },
   {
    "duration": 246,
    "start_time": "2022-11-15T17:06:58.632Z"
   },
   {
    "duration": 1212,
    "start_time": "2022-11-18T12:49:17.254Z"
   },
   {
    "duration": 545,
    "start_time": "2022-11-18T12:49:18.468Z"
   },
   {
    "duration": 84,
    "start_time": "2022-11-18T12:49:19.015Z"
   },
   {
    "duration": 20,
    "start_time": "2022-11-18T12:49:19.444Z"
   },
   {
    "duration": 16,
    "start_time": "2022-11-18T12:49:20.148Z"
   },
   {
    "duration": 5,
    "start_time": "2022-11-18T12:49:20.834Z"
   },
   {
    "duration": 9,
    "start_time": "2022-11-18T12:49:21.466Z"
   },
   {
    "duration": 11,
    "start_time": "2022-11-18T12:49:22.194Z"
   },
   {
    "duration": 19,
    "start_time": "2022-11-18T12:49:24.832Z"
   },
   {
    "duration": 4,
    "start_time": "2022-11-18T12:49:25.939Z"
   },
   {
    "duration": 33,
    "start_time": "2022-11-18T12:49:26.813Z"
   },
   {
    "duration": 11,
    "start_time": "2022-11-18T12:49:27.494Z"
   },
   {
    "duration": 9,
    "start_time": "2022-11-18T12:49:29.495Z"
   },
   {
    "duration": 4,
    "start_time": "2022-11-18T12:49:30.625Z"
   },
   {
    "duration": 209,
    "start_time": "2022-11-18T12:49:30.836Z"
   },
   {
    "duration": 20,
    "start_time": "2022-11-18T12:49:32.283Z"
   },
   {
    "duration": 17,
    "start_time": "2022-11-18T12:49:33.643Z"
   },
   {
    "duration": 5,
    "start_time": "2022-11-18T12:49:34.985Z"
   },
   {
    "duration": 38,
    "start_time": "2022-11-18T12:50:47.516Z"
   },
   {
    "duration": 5,
    "start_time": "2022-11-18T12:50:51.412Z"
   },
   {
    "duration": 11,
    "start_time": "2022-11-18T12:50:53.684Z"
   },
   {
    "duration": 84,
    "start_time": "2022-11-18T12:51:03.075Z"
   },
   {
    "duration": 92,
    "start_time": "2022-11-18T12:57:22.259Z"
   },
   {
    "duration": 108,
    "start_time": "2022-11-18T12:57:31.967Z"
   },
   {
    "duration": 72,
    "start_time": "2022-11-18T12:57:48.023Z"
   },
   {
    "duration": 74,
    "start_time": "2022-11-18T12:57:56.156Z"
   },
   {
    "duration": 19,
    "start_time": "2022-11-18T12:58:22.692Z"
   },
   {
    "duration": 17,
    "start_time": "2022-11-18T13:08:00.238Z"
   },
   {
    "duration": 5,
    "start_time": "2022-11-18T13:31:10.125Z"
   },
   {
    "duration": 9,
    "start_time": "2022-11-18T13:31:10.933Z"
   },
   {
    "duration": 4,
    "start_time": "2022-11-18T13:31:11.654Z"
   },
   {
    "duration": 5,
    "start_time": "2022-11-18T13:31:12.451Z"
   },
   {
    "duration": 33,
    "start_time": "2022-11-18T13:33:04.647Z"
   },
   {
    "duration": 312,
    "start_time": "2022-11-18T13:33:05.902Z"
   },
   {
    "duration": 31,
    "start_time": "2022-11-18T13:33:06.917Z"
   },
   {
    "duration": 3,
    "start_time": "2022-11-18T13:33:10.508Z"
   },
   {
    "duration": 15,
    "start_time": "2022-11-18T13:33:11.172Z"
   },
   {
    "duration": 3,
    "start_time": "2022-11-18T13:33:12.348Z"
   },
   {
    "duration": 24,
    "start_time": "2022-11-18T13:33:12.772Z"
   },
   {
    "duration": 6,
    "start_time": "2022-11-18T13:38:16.053Z"
   },
   {
    "duration": 15,
    "start_time": "2022-11-18T13:38:21.910Z"
   },
   {
    "duration": 10,
    "start_time": "2022-11-18T13:40:38.420Z"
   },
   {
    "duration": 175,
    "start_time": "2022-11-18T15:52:48.041Z"
   },
   {
    "duration": 7,
    "start_time": "2022-11-18T16:08:44.936Z"
   },
   {
    "duration": 86,
    "start_time": "2022-11-18T16:08:45.803Z"
   },
   {
    "duration": 40,
    "start_time": "2022-11-18T16:08:46.707Z"
   },
   {
    "duration": 19,
    "start_time": "2022-11-18T16:08:47.499Z"
   },
   {
    "duration": 15,
    "start_time": "2022-11-18T16:08:47.617Z"
   },
   {
    "duration": 4,
    "start_time": "2022-11-18T16:08:47.950Z"
   },
   {
    "duration": 9,
    "start_time": "2022-11-18T16:08:48.057Z"
   },
   {
    "duration": 11,
    "start_time": "2022-11-18T16:08:48.308Z"
   },
   {
    "duration": 19,
    "start_time": "2022-11-18T16:08:52.615Z"
   },
   {
    "duration": 5,
    "start_time": "2022-11-18T16:08:53.729Z"
   },
   {
    "duration": 31,
    "start_time": "2022-11-18T16:08:54.785Z"
   },
   {
    "duration": 10,
    "start_time": "2022-11-18T16:08:56.663Z"
   },
   {
    "duration": 9,
    "start_time": "2022-11-18T16:08:59.515Z"
   },
   {
    "duration": 4,
    "start_time": "2022-11-18T16:09:00.370Z"
   },
   {
    "duration": 192,
    "start_time": "2022-11-18T16:09:01.349Z"
   },
   {
    "duration": 18,
    "start_time": "2022-11-18T16:09:03.077Z"
   },
   {
    "duration": 16,
    "start_time": "2022-11-18T16:09:04.729Z"
   },
   {
    "duration": 5,
    "start_time": "2022-11-18T16:09:10.749Z"
   },
   {
    "duration": 38,
    "start_time": "2022-11-18T16:09:26.137Z"
   },
   {
    "duration": 5,
    "start_time": "2022-11-18T16:09:27.101Z"
   },
   {
    "duration": 9,
    "start_time": "2022-11-19T08:51:30.743Z"
   },
   {
    "duration": 76,
    "start_time": "2022-11-19T08:57:12.297Z"
   },
   {
    "duration": 55,
    "start_time": "2022-11-19T09:55:20.515Z"
   },
   {
    "duration": 8,
    "start_time": "2022-11-19T09:55:37.115Z"
   },
   {
    "duration": 1369,
    "start_time": "2022-11-19T09:55:49.211Z"
   },
   {
    "duration": 288,
    "start_time": "2022-11-19T09:55:50.583Z"
   },
   {
    "duration": 102,
    "start_time": "2022-11-19T09:55:50.873Z"
   },
   {
    "duration": 21,
    "start_time": "2022-11-19T09:55:50.977Z"
   },
   {
    "duration": 17,
    "start_time": "2022-11-19T09:55:50.999Z"
   },
   {
    "duration": 10,
    "start_time": "2022-11-19T09:55:51.017Z"
   },
   {
    "duration": 22,
    "start_time": "2022-11-19T09:55:51.031Z"
   },
   {
    "duration": 14,
    "start_time": "2022-11-19T09:55:51.055Z"
   },
   {
    "duration": 26,
    "start_time": "2022-11-19T09:55:51.621Z"
   },
   {
    "duration": 5,
    "start_time": "2022-11-19T09:55:52.043Z"
   },
   {
    "duration": 41,
    "start_time": "2022-11-19T09:55:52.298Z"
   },
   {
    "duration": 12,
    "start_time": "2022-11-19T09:55:52.460Z"
   },
   {
    "duration": 9,
    "start_time": "2022-11-19T09:55:53.162Z"
   },
   {
    "duration": 4,
    "start_time": "2022-11-19T09:55:53.367Z"
   },
   {
    "duration": 251,
    "start_time": "2022-11-19T09:55:53.604Z"
   },
   {
    "duration": 22,
    "start_time": "2022-11-19T09:55:54.140Z"
   },
   {
    "duration": 19,
    "start_time": "2022-11-19T09:55:54.493Z"
   },
   {
    "duration": 43,
    "start_time": "2022-11-19T09:55:58.334Z"
   },
   {
    "duration": 5,
    "start_time": "2022-11-19T09:55:58.578Z"
   },
   {
    "duration": 12,
    "start_time": "2022-11-19T09:55:58.761Z"
   },
   {
    "duration": 20,
    "start_time": "2022-11-19T09:55:59.602Z"
   },
   {
    "duration": 22,
    "start_time": "2022-11-19T09:56:00.011Z"
   },
   {
    "duration": 5,
    "start_time": "2022-11-19T09:56:00.642Z"
   },
   {
    "duration": 8,
    "start_time": "2022-11-19T09:56:00.935Z"
   },
   {
    "duration": 6,
    "start_time": "2022-11-19T09:56:01.089Z"
   },
   {
    "duration": 6,
    "start_time": "2022-11-19T09:56:01.275Z"
   },
   {
    "duration": 77,
    "start_time": "2022-11-19T09:56:01.692Z"
   },
   {
    "duration": 28,
    "start_time": "2022-11-19T09:56:02.051Z"
   },
   {
    "duration": 393,
    "start_time": "2022-11-19T09:56:02.292Z"
   },
   {
    "duration": 36,
    "start_time": "2022-11-19T09:56:02.687Z"
   },
   {
    "duration": 5,
    "start_time": "2022-11-19T09:56:05.769Z"
   },
   {
    "duration": 17,
    "start_time": "2022-11-19T09:56:06.379Z"
   },
   {
    "duration": 3,
    "start_time": "2022-11-19T09:56:07.490Z"
   },
   {
    "duration": 26,
    "start_time": "2022-11-19T09:56:08.162Z"
   },
   {
    "duration": 6,
    "start_time": "2022-11-19T09:56:13.434Z"
   },
   {
    "duration": 11,
    "start_time": "2022-11-19T09:56:26.036Z"
   },
   {
    "duration": 198,
    "start_time": "2022-11-19T09:56:27.218Z"
   },
   {
    "duration": 184,
    "start_time": "2022-11-19T09:56:33.804Z"
   },
   {
    "duration": 183,
    "start_time": "2022-11-19T09:56:36.418Z"
   },
   {
    "duration": 278,
    "start_time": "2022-11-19T09:56:37.604Z"
   },
   {
    "duration": 9,
    "start_time": "2022-11-19T09:56:48.771Z"
   },
   {
    "duration": 12,
    "start_time": "2022-11-19T09:56:50.858Z"
   },
   {
    "duration": 83,
    "start_time": "2022-11-19T10:06:35.677Z"
   },
   {
    "duration": 225,
    "start_time": "2022-11-19T10:06:40.155Z"
   },
   {
    "duration": 202,
    "start_time": "2022-11-19T10:06:57.836Z"
   },
   {
    "duration": 281,
    "start_time": "2022-11-19T10:07:00.015Z"
   },
   {
    "duration": 5,
    "start_time": "2022-11-19T10:07:45.511Z"
   },
   {
    "duration": 97,
    "start_time": "2022-11-19T10:07:46.243Z"
   },
   {
    "duration": 48,
    "start_time": "2022-11-19T10:07:47.044Z"
   },
   {
    "duration": 34,
    "start_time": "2022-11-19T10:07:47.676Z"
   },
   {
    "duration": 18,
    "start_time": "2022-11-19T10:07:48.184Z"
   },
   {
    "duration": 6,
    "start_time": "2022-11-19T10:07:48.458Z"
   },
   {
    "duration": 13,
    "start_time": "2022-11-19T10:07:48.702Z"
   },
   {
    "duration": 16,
    "start_time": "2022-11-19T10:07:48.909Z"
   },
   {
    "duration": 26,
    "start_time": "2022-11-19T10:07:49.715Z"
   },
   {
    "duration": 5,
    "start_time": "2022-11-19T10:07:49.926Z"
   },
   {
    "duration": 33,
    "start_time": "2022-11-19T10:07:50.179Z"
   },
   {
    "duration": 10,
    "start_time": "2022-11-19T10:07:50.349Z"
   },
   {
    "duration": 11,
    "start_time": "2022-11-19T10:07:51.075Z"
   },
   {
    "duration": 5,
    "start_time": "2022-11-19T10:07:51.203Z"
   },
   {
    "duration": 232,
    "start_time": "2022-11-19T10:07:51.403Z"
   },
   {
    "duration": 19,
    "start_time": "2022-11-19T10:07:51.777Z"
   },
   {
    "duration": 19,
    "start_time": "2022-11-19T10:07:52.276Z"
   },
   {
    "duration": 42,
    "start_time": "2022-11-19T10:07:53.899Z"
   },
   {
    "duration": 5,
    "start_time": "2022-11-19T10:07:54.555Z"
   },
   {
    "duration": 18,
    "start_time": "2022-11-19T10:07:54.794Z"
   },
   {
    "duration": 24,
    "start_time": "2022-11-19T10:07:58.375Z"
   },
   {
    "duration": 18,
    "start_time": "2022-11-19T10:07:58.929Z"
   },
   {
    "duration": 6,
    "start_time": "2022-11-19T10:08:01.300Z"
   },
   {
    "duration": 9,
    "start_time": "2022-11-19T10:08:01.474Z"
   },
   {
    "duration": 5,
    "start_time": "2022-11-19T10:08:01.681Z"
   },
   {
    "duration": 6,
    "start_time": "2022-11-19T10:08:03.314Z"
   },
   {
    "duration": 76,
    "start_time": "2022-11-19T10:08:03.792Z"
   },
   {
    "duration": 25,
    "start_time": "2022-11-19T10:08:05.740Z"
   },
   {
    "duration": 365,
    "start_time": "2022-11-19T10:08:06.053Z"
   },
   {
    "duration": 30,
    "start_time": "2022-11-19T10:08:06.422Z"
   },
   {
    "duration": 4,
    "start_time": "2022-11-19T10:08:08.678Z"
   },
   {
    "duration": 17,
    "start_time": "2022-11-19T10:08:10.692Z"
   },
   {
    "duration": 5,
    "start_time": "2022-11-19T10:08:11.172Z"
   },
   {
    "duration": 28,
    "start_time": "2022-11-19T10:08:12.981Z"
   },
   {
    "duration": 7,
    "start_time": "2022-11-19T10:08:16.785Z"
   },
   {
    "duration": 17,
    "start_time": "2022-11-19T10:08:33.378Z"
   },
   {
    "duration": 243,
    "start_time": "2022-11-19T10:08:35.499Z"
   },
   {
    "duration": 172,
    "start_time": "2022-11-19T10:08:42.516Z"
   },
   {
    "duration": 227,
    "start_time": "2022-11-19T10:08:45.116Z"
   },
   {
    "duration": 388,
    "start_time": "2022-11-19T10:08:49.692Z"
   },
   {
    "duration": 9,
    "start_time": "2022-11-19T10:09:01.195Z"
   },
   {
    "duration": 314,
    "start_time": "2022-11-19T10:09:03.869Z"
   },
   {
    "duration": 250,
    "start_time": "2022-11-19T10:09:08.234Z"
   },
   {
    "duration": 363,
    "start_time": "2022-11-19T10:09:13.909Z"
   },
   {
    "duration": 327,
    "start_time": "2022-11-19T10:09:20.543Z"
   },
   {
    "duration": 9,
    "start_time": "2022-11-19T10:09:26.428Z"
   },
   {
    "duration": 194,
    "start_time": "2022-11-19T10:09:29.503Z"
   },
   {
    "duration": 16,
    "start_time": "2022-11-19T10:11:51.988Z"
   },
   {
    "duration": 11,
    "start_time": "2022-11-19T10:13:51.886Z"
   },
   {
    "duration": 15,
    "start_time": "2022-11-19T10:13:53.908Z"
   },
   {
    "duration": 305,
    "start_time": "2022-11-19T10:13:57.236Z"
   },
   {
    "duration": 271,
    "start_time": "2022-11-19T10:13:59.845Z"
   },
   {
    "duration": 296,
    "start_time": "2022-11-19T10:15:10.029Z"
   },
   {
    "duration": 407,
    "start_time": "2022-11-19T10:15:28.074Z"
   },
   {
    "duration": 6,
    "start_time": "2022-11-19T10:36:16.559Z"
   },
   {
    "duration": 108,
    "start_time": "2022-11-19T10:36:16.779Z"
   },
   {
    "duration": 43,
    "start_time": "2022-11-19T10:36:17.075Z"
   },
   {
    "duration": 28,
    "start_time": "2022-11-19T10:36:17.244Z"
   },
   {
    "duration": 18,
    "start_time": "2022-11-19T10:36:17.454Z"
   },
   {
    "duration": 5,
    "start_time": "2022-11-19T10:36:17.715Z"
   },
   {
    "duration": 15,
    "start_time": "2022-11-19T10:36:17.871Z"
   },
   {
    "duration": 13,
    "start_time": "2022-11-19T10:36:18.072Z"
   },
   {
    "duration": 22,
    "start_time": "2022-11-19T10:36:18.874Z"
   },
   {
    "duration": 6,
    "start_time": "2022-11-19T10:36:19.087Z"
   },
   {
    "duration": 43,
    "start_time": "2022-11-19T10:36:19.299Z"
   },
   {
    "duration": 14,
    "start_time": "2022-11-19T10:36:19.575Z"
   },
   {
    "duration": 11,
    "start_time": "2022-11-19T10:36:20.174Z"
   },
   {
    "duration": 6,
    "start_time": "2022-11-19T10:36:20.377Z"
   },
   {
    "duration": 252,
    "start_time": "2022-11-19T10:36:20.563Z"
   },
   {
    "duration": 32,
    "start_time": "2022-11-19T10:36:20.977Z"
   },
   {
    "duration": 33,
    "start_time": "2022-11-19T10:36:21.443Z"
   },
   {
    "duration": 57,
    "start_time": "2022-11-19T10:36:22.409Z"
   },
   {
    "duration": 10,
    "start_time": "2022-11-19T10:36:22.618Z"
   },
   {
    "duration": 25,
    "start_time": "2022-11-19T10:36:22.824Z"
   },
   {
    "duration": 22,
    "start_time": "2022-11-19T10:36:23.675Z"
   },
   {
    "duration": 24,
    "start_time": "2022-11-19T10:36:24.076Z"
   },
   {
    "duration": 5,
    "start_time": "2022-11-19T10:36:24.707Z"
   },
   {
    "duration": 7,
    "start_time": "2022-11-19T10:36:24.890Z"
   },
   {
    "duration": 5,
    "start_time": "2022-11-19T10:36:25.105Z"
   },
   {
    "duration": 22,
    "start_time": "2022-11-19T10:36:25.340Z"
   },
   {
    "duration": 77,
    "start_time": "2022-11-19T10:36:25.743Z"
   },
   {
    "duration": 30,
    "start_time": "2022-11-19T10:36:26.154Z"
   },
   {
    "duration": 423,
    "start_time": "2022-11-19T10:36:26.437Z"
   },
   {
    "duration": 39,
    "start_time": "2022-11-19T10:36:26.863Z"
   },
   {
    "duration": 15,
    "start_time": "2022-11-19T10:36:30.619Z"
   },
   {
    "duration": 19,
    "start_time": "2022-11-19T10:36:30.862Z"
   },
   {
    "duration": 3,
    "start_time": "2022-11-19T10:36:31.284Z"
   },
   {
    "duration": 49,
    "start_time": "2022-11-19T10:36:31.545Z"
   },
   {
    "duration": 14,
    "start_time": "2022-11-19T10:36:32.345Z"
   },
   {
    "duration": 13,
    "start_time": "2022-11-19T10:36:33.587Z"
   },
   {
    "duration": 238,
    "start_time": "2022-11-19T10:36:37.655Z"
   },
   {
    "duration": 189,
    "start_time": "2022-11-19T10:36:40.219Z"
   },
   {
    "duration": 222,
    "start_time": "2022-11-19T10:36:40.706Z"
   },
   {
    "duration": 309,
    "start_time": "2022-11-19T10:36:43.478Z"
   },
   {
    "duration": 12,
    "start_time": "2022-11-19T10:36:49.876Z"
   },
   {
    "duration": 334,
    "start_time": "2022-11-19T10:36:51.756Z"
   },
   {
    "duration": 441,
    "start_time": "2022-11-19T10:37:01.506Z"
   },
   {
    "duration": 408,
    "start_time": "2022-11-19T10:37:18.174Z"
   },
   {
    "duration": 384,
    "start_time": "2022-11-19T10:37:25.708Z"
   },
   {
    "duration": 333,
    "start_time": "2022-11-19T10:37:36.757Z"
   },
   {
    "duration": 306,
    "start_time": "2022-11-19T10:37:51.115Z"
   },
   {
    "duration": 316,
    "start_time": "2022-11-19T10:37:56.508Z"
   },
   {
    "duration": 305,
    "start_time": "2022-11-19T10:38:07.249Z"
   },
   {
    "duration": 514,
    "start_time": "2022-11-19T10:39:38.811Z"
   },
   {
    "duration": 40,
    "start_time": "2022-11-19T10:39:39.447Z"
   },
   {
    "duration": 4,
    "start_time": "2022-11-19T10:39:42.751Z"
   },
   {
    "duration": 21,
    "start_time": "2022-11-19T10:39:42.979Z"
   },
   {
    "duration": 3,
    "start_time": "2022-11-19T10:39:43.449Z"
   },
   {
    "duration": 33,
    "start_time": "2022-11-19T10:39:43.647Z"
   },
   {
    "duration": 6,
    "start_time": "2022-11-19T10:39:44.977Z"
   },
   {
    "duration": 11,
    "start_time": "2022-11-19T10:39:52.003Z"
   },
   {
    "duration": 208,
    "start_time": "2022-11-19T10:39:55.273Z"
   },
   {
    "duration": 194,
    "start_time": "2022-11-19T10:39:58.781Z"
   },
   {
    "duration": 214,
    "start_time": "2022-11-19T10:39:59.299Z"
   },
   {
    "duration": 298,
    "start_time": "2022-11-19T10:40:01.266Z"
   },
   {
    "duration": 11,
    "start_time": "2022-11-19T10:40:10.747Z"
   },
   {
    "duration": 11,
    "start_time": "2022-11-19T10:40:29.455Z"
   },
   {
    "duration": 297,
    "start_time": "2022-11-19T10:40:31.252Z"
   },
   {
    "duration": 272,
    "start_time": "2022-11-19T10:40:32.087Z"
   },
   {
    "duration": 330,
    "start_time": "2022-11-19T10:40:32.701Z"
   },
   {
    "duration": 313,
    "start_time": "2022-11-19T10:40:33.136Z"
   },
   {
    "duration": 400,
    "start_time": "2022-11-19T10:40:33.451Z"
   },
   {
    "duration": 333,
    "start_time": "2022-11-19T10:40:33.854Z"
   },
   {
    "duration": 89,
    "start_time": "2022-11-19T10:40:34.190Z"
   },
   {
    "duration": 20,
    "start_time": "2022-11-19T11:14:35.398Z"
   },
   {
    "duration": 211,
    "start_time": "2022-11-19T11:15:40.721Z"
   },
   {
    "duration": 195,
    "start_time": "2022-11-19T11:17:00.894Z"
   },
   {
    "duration": 193,
    "start_time": "2022-11-19T11:18:22.289Z"
   },
   {
    "duration": 190,
    "start_time": "2022-11-19T11:18:54.705Z"
   },
   {
    "duration": 275,
    "start_time": "2022-11-19T11:22:32.442Z"
   },
   {
    "duration": 283,
    "start_time": "2022-11-19T11:24:22.414Z"
   },
   {
    "duration": 6,
    "start_time": "2022-11-19T16:15:24.710Z"
   },
   {
    "duration": 93,
    "start_time": "2022-11-19T16:15:25.008Z"
   },
   {
    "duration": 42,
    "start_time": "2022-11-19T16:15:25.337Z"
   },
   {
    "duration": 20,
    "start_time": "2022-11-19T16:15:25.562Z"
   },
   {
    "duration": 16,
    "start_time": "2022-11-19T16:15:25.828Z"
   },
   {
    "duration": 5,
    "start_time": "2022-11-19T16:15:26.114Z"
   },
   {
    "duration": 8,
    "start_time": "2022-11-19T16:15:26.379Z"
   },
   {
    "duration": 12,
    "start_time": "2022-11-19T16:15:26.657Z"
   },
   {
    "duration": 21,
    "start_time": "2022-11-19T16:15:27.866Z"
   },
   {
    "duration": 4,
    "start_time": "2022-11-19T16:15:28.050Z"
   },
   {
    "duration": 32,
    "start_time": "2022-11-19T16:15:28.318Z"
   },
   {
    "duration": 10,
    "start_time": "2022-11-19T16:15:28.702Z"
   },
   {
    "duration": 9,
    "start_time": "2022-11-19T16:15:29.430Z"
   },
   {
    "duration": 4,
    "start_time": "2022-11-19T16:15:29.709Z"
   },
   {
    "duration": 195,
    "start_time": "2022-11-19T16:15:29.974Z"
   },
   {
    "duration": 19,
    "start_time": "2022-11-19T16:15:30.516Z"
   },
   {
    "duration": 18,
    "start_time": "2022-11-19T16:15:31.075Z"
   },
   {
    "duration": 52,
    "start_time": "2022-11-19T16:15:32.441Z"
   },
   {
    "duration": 6,
    "start_time": "2022-11-19T16:15:32.705Z"
   },
   {
    "duration": 13,
    "start_time": "2022-11-19T16:15:32.969Z"
   },
   {
    "duration": 22,
    "start_time": "2022-11-19T16:15:33.978Z"
   },
   {
    "duration": 17,
    "start_time": "2022-11-19T16:15:34.497Z"
   },
   {
    "duration": 4,
    "start_time": "2022-11-19T16:15:35.241Z"
   },
   {
    "duration": 8,
    "start_time": "2022-11-19T16:15:35.538Z"
   },
   {
    "duration": 5,
    "start_time": "2022-11-19T16:15:35.873Z"
   },
   {
    "duration": 5,
    "start_time": "2022-11-19T16:15:36.145Z"
   },
   {
    "duration": 26,
    "start_time": "2022-11-19T16:15:37.218Z"
   },
   {
    "duration": 324,
    "start_time": "2022-11-19T16:15:37.556Z"
   },
   {
    "duration": 25,
    "start_time": "2022-11-19T16:15:37.883Z"
   },
   {
    "duration": 5,
    "start_time": "2022-11-19T16:15:39.128Z"
   },
   {
    "duration": 17,
    "start_time": "2022-11-19T16:15:39.338Z"
   },
   {
    "duration": 3,
    "start_time": "2022-11-19T16:15:39.840Z"
   },
   {
    "duration": 25,
    "start_time": "2022-11-19T16:15:40.321Z"
   },
   {
    "duration": 6,
    "start_time": "2022-11-19T16:15:41.442Z"
   },
   {
    "duration": 13,
    "start_time": "2022-11-19T16:15:42.689Z"
   },
   {
    "duration": 264,
    "start_time": "2022-11-19T16:15:42.953Z"
   },
   {
    "duration": 150,
    "start_time": "2022-11-19T16:15:44.591Z"
   },
   {
    "duration": 170,
    "start_time": "2022-11-19T16:15:45.043Z"
   },
   {
    "duration": 258,
    "start_time": "2022-11-19T16:15:45.528Z"
   },
   {
    "duration": 204,
    "start_time": "2022-11-19T16:15:45.792Z"
   },
   {
    "duration": 10,
    "start_time": "2022-11-19T16:15:46.989Z"
   },
   {
    "duration": 258,
    "start_time": "2022-11-19T16:15:47.194Z"
   },
   {
    "duration": 254,
    "start_time": "2022-11-19T16:15:47.453Z"
   },
   {
    "duration": 230,
    "start_time": "2022-11-19T16:15:47.840Z"
   },
   {
    "duration": 278,
    "start_time": "2022-11-19T16:15:48.162Z"
   },
   {
    "duration": 299,
    "start_time": "2022-11-19T16:15:48.442Z"
   },
   {
    "duration": 369,
    "start_time": "2022-11-19T16:15:48.743Z"
   },
   {
    "duration": 276,
    "start_time": "2022-11-19T16:15:49.114Z"
   },
   {
    "duration": 61,
    "start_time": "2022-11-19T16:15:50.055Z"
   },
   {
    "duration": 1231,
    "start_time": "2022-11-19T18:59:12.170Z"
   },
   {
    "duration": 222,
    "start_time": "2022-11-19T18:59:13.404Z"
   },
   {
    "duration": 89,
    "start_time": "2022-11-19T18:59:13.936Z"
   },
   {
    "duration": 21,
    "start_time": "2022-11-19T18:59:14.365Z"
   },
   {
    "duration": 16,
    "start_time": "2022-11-19T18:59:14.775Z"
   },
   {
    "duration": 5,
    "start_time": "2022-11-19T18:59:15.107Z"
   },
   {
    "duration": 10,
    "start_time": "2022-11-19T18:59:15.218Z"
   },
   {
    "duration": 11,
    "start_time": "2022-11-19T18:59:15.630Z"
   },
   {
    "duration": 23,
    "start_time": "2022-11-19T18:59:16.515Z"
   },
   {
    "duration": 5,
    "start_time": "2022-11-19T18:59:16.677Z"
   },
   {
    "duration": 34,
    "start_time": "2022-11-19T18:59:17.045Z"
   },
   {
    "duration": 10,
    "start_time": "2022-11-19T18:59:17.322Z"
   },
   {
    "duration": 10,
    "start_time": "2022-11-19T18:59:17.771Z"
   },
   {
    "duration": 4,
    "start_time": "2022-11-19T18:59:17.987Z"
   },
   {
    "duration": 223,
    "start_time": "2022-11-19T18:59:18.165Z"
   },
   {
    "duration": 19,
    "start_time": "2022-11-19T18:59:18.574Z"
   },
   {
    "duration": 17,
    "start_time": "2022-11-19T18:59:18.999Z"
   },
   {
    "duration": 40,
    "start_time": "2022-11-19T18:59:20.085Z"
   },
   {
    "duration": 4,
    "start_time": "2022-11-19T18:59:20.299Z"
   },
   {
    "duration": 11,
    "start_time": "2022-11-19T18:59:20.484Z"
   },
   {
    "duration": 20,
    "start_time": "2022-11-19T18:59:21.275Z"
   },
   {
    "duration": 17,
    "start_time": "2022-11-19T18:59:21.741Z"
   },
   {
    "duration": 4,
    "start_time": "2022-11-19T18:59:22.330Z"
   },
   {
    "duration": 8,
    "start_time": "2022-11-19T18:59:22.436Z"
   },
   {
    "duration": 4,
    "start_time": "2022-11-19T18:59:22.747Z"
   },
   {
    "duration": 4,
    "start_time": "2022-11-19T18:59:22.888Z"
   },
   {
    "duration": 24,
    "start_time": "2022-11-19T18:59:23.627Z"
   },
   {
    "duration": 340,
    "start_time": "2022-11-19T18:59:23.928Z"
   },
   {
    "duration": 24,
    "start_time": "2022-11-19T18:59:24.270Z"
   },
   {
    "duration": 4,
    "start_time": "2022-11-19T18:59:27.244Z"
   },
   {
    "duration": 17,
    "start_time": "2022-11-19T18:59:28.454Z"
   },
   {
    "duration": 4,
    "start_time": "2022-11-19T18:59:32.058Z"
   },
   {
    "duration": 24,
    "start_time": "2022-11-19T18:59:32.801Z"
   },
   {
    "duration": 6,
    "start_time": "2022-11-19T18:59:36.608Z"
   },
   {
    "duration": 11,
    "start_time": "2022-11-19T18:59:46.644Z"
   },
   {
    "duration": 198,
    "start_time": "2022-11-19T18:59:48.139Z"
   },
   {
    "duration": 152,
    "start_time": "2022-11-19T18:59:52.706Z"
   },
   {
    "duration": 171,
    "start_time": "2022-11-19T18:59:53.729Z"
   },
   {
    "duration": 277,
    "start_time": "2022-11-19T18:59:56.145Z"
   },
   {
    "duration": 245,
    "start_time": "2022-11-19T18:59:57.842Z"
   },
   {
    "duration": 9,
    "start_time": "2022-11-19T19:00:15.544Z"
   },
   {
    "duration": 247,
    "start_time": "2022-11-19T19:00:16.858Z"
   },
   {
    "duration": 261,
    "start_time": "2022-11-19T19:00:17.986Z"
   },
   {
    "duration": 236,
    "start_time": "2022-11-19T19:00:18.784Z"
   },
   {
    "duration": 304,
    "start_time": "2022-11-19T19:00:19.176Z"
   },
   {
    "duration": 295,
    "start_time": "2022-11-19T19:00:19.482Z"
   },
   {
    "duration": 263,
    "start_time": "2022-11-19T19:00:19.779Z"
   },
   {
    "duration": 269,
    "start_time": "2022-11-19T19:00:20.045Z"
   },
   {
    "duration": 53,
    "start_time": "2022-11-19T19:00:20.596Z"
   },
   {
    "duration": 799,
    "start_time": "2022-11-19T19:06:40.504Z"
   },
   {
    "duration": 7,
    "start_time": "2022-11-19T19:07:19.364Z"
   },
   {
    "duration": 103,
    "start_time": "2022-11-19T19:07:19.782Z"
   },
   {
    "duration": 46,
    "start_time": "2022-11-19T19:07:19.888Z"
   },
   {
    "duration": 25,
    "start_time": "2022-11-19T19:07:20.053Z"
   },
   {
    "duration": 23,
    "start_time": "2022-11-19T19:07:20.168Z"
   },
   {
    "duration": 5,
    "start_time": "2022-11-19T19:07:20.412Z"
   },
   {
    "duration": 14,
    "start_time": "2022-11-19T19:07:20.511Z"
   },
   {
    "duration": 12,
    "start_time": "2022-11-19T19:07:20.808Z"
   },
   {
    "duration": 21,
    "start_time": "2022-11-19T19:07:21.879Z"
   },
   {
    "duration": 5,
    "start_time": "2022-11-19T19:07:22.021Z"
   },
   {
    "duration": 34,
    "start_time": "2022-11-19T19:07:23.245Z"
   },
   {
    "duration": 10,
    "start_time": "2022-11-19T19:07:23.380Z"
   },
   {
    "duration": 10,
    "start_time": "2022-11-19T19:07:24.085Z"
   },
   {
    "duration": 4,
    "start_time": "2022-11-19T19:07:24.719Z"
   },
   {
    "duration": 291,
    "start_time": "2022-11-19T19:07:25.893Z"
   },
   {
    "duration": 19,
    "start_time": "2022-11-19T19:07:26.738Z"
   },
   {
    "duration": 17,
    "start_time": "2022-11-19T19:07:27.233Z"
   },
   {
    "duration": 41,
    "start_time": "2022-11-19T19:07:28.104Z"
   },
   {
    "duration": 5,
    "start_time": "2022-11-19T19:07:28.424Z"
   },
   {
    "duration": 17,
    "start_time": "2022-11-19T19:07:28.535Z"
   },
   {
    "duration": 29,
    "start_time": "2022-11-19T19:07:29.372Z"
   },
   {
    "duration": 16,
    "start_time": "2022-11-19T19:07:29.790Z"
   },
   {
    "duration": 5,
    "start_time": "2022-11-19T19:07:31.248Z"
   },
   {
    "duration": 8,
    "start_time": "2022-11-19T19:07:31.355Z"
   },
   {
    "duration": 5,
    "start_time": "2022-11-19T19:07:32.106Z"
   },
   {
    "duration": 5,
    "start_time": "2022-11-19T19:07:32.220Z"
   },
   {
    "duration": 24,
    "start_time": "2022-11-19T19:07:33.193Z"
   },
   {
    "duration": 326,
    "start_time": "2022-11-19T19:07:33.521Z"
   },
   {
    "duration": 34,
    "start_time": "2022-11-19T19:07:34.029Z"
   },
   {
    "duration": 5,
    "start_time": "2022-11-19T19:07:44.540Z"
   },
   {
    "duration": 21,
    "start_time": "2022-11-19T19:07:45.889Z"
   },
   {
    "duration": 3,
    "start_time": "2022-11-19T19:07:48.897Z"
   },
   {
    "duration": 708,
    "start_time": "2022-11-19T19:07:50.224Z"
   },
   {
    "duration": 33,
    "start_time": "2022-11-19T19:08:43.056Z"
   },
   {
    "duration": 7,
    "start_time": "2022-11-19T19:09:23.838Z"
   },
   {
    "duration": 16,
    "start_time": "2022-11-19T19:09:24.745Z"
   },
   {
    "duration": 217,
    "start_time": "2022-11-19T19:09:25.049Z"
   },
   {
    "duration": 219,
    "start_time": "2022-11-19T19:09:26.445Z"
   },
   {
    "duration": 213,
    "start_time": "2022-11-19T19:09:27.893Z"
   },
   {
    "duration": 310,
    "start_time": "2022-11-19T19:09:28.325Z"
   },
   {
    "duration": 211,
    "start_time": "2022-11-19T19:09:28.638Z"
   },
   {
    "duration": 10,
    "start_time": "2022-11-19T19:09:29.497Z"
   },
   {
    "duration": 284,
    "start_time": "2022-11-19T19:10:27.157Z"
   },
   {
    "duration": 294,
    "start_time": "2022-11-19T19:13:50.596Z"
   },
   {
    "duration": 1435,
    "start_time": "2022-11-20T15:45:08.625Z"
   },
   {
    "duration": 397,
    "start_time": "2022-11-20T15:45:10.062Z"
   },
   {
    "duration": 86,
    "start_time": "2022-11-20T15:45:10.460Z"
   },
   {
    "duration": 21,
    "start_time": "2022-11-20T15:45:10.548Z"
   },
   {
    "duration": 17,
    "start_time": "2022-11-20T15:45:10.572Z"
   },
   {
    "duration": 11,
    "start_time": "2022-11-20T15:45:10.590Z"
   },
   {
    "duration": 22,
    "start_time": "2022-11-20T15:45:10.602Z"
   },
   {
    "duration": 30,
    "start_time": "2022-11-20T15:45:10.625Z"
   },
   {
    "duration": 25,
    "start_time": "2022-11-20T15:45:10.657Z"
   },
   {
    "duration": 5,
    "start_time": "2022-11-20T15:45:10.684Z"
   },
   {
    "duration": 50,
    "start_time": "2022-11-20T15:45:10.691Z"
   },
   {
    "duration": 13,
    "start_time": "2022-11-20T15:45:10.743Z"
   },
   {
    "duration": 11,
    "start_time": "2022-11-20T15:45:10.758Z"
   },
   {
    "duration": 4,
    "start_time": "2022-11-20T15:45:10.773Z"
   },
   {
    "duration": 282,
    "start_time": "2022-11-20T15:45:10.779Z"
   },
   {
    "duration": 22,
    "start_time": "2022-11-20T15:45:11.063Z"
   },
   {
    "duration": 38,
    "start_time": "2022-11-20T15:45:11.088Z"
   },
   {
    "duration": 42,
    "start_time": "2022-11-20T15:45:11.127Z"
   },
   {
    "duration": 5,
    "start_time": "2022-11-20T15:45:11.170Z"
   },
   {
    "duration": 14,
    "start_time": "2022-11-20T15:45:11.177Z"
   },
   {
    "duration": 43,
    "start_time": "2022-11-20T15:45:11.211Z"
   },
   {
    "duration": 18,
    "start_time": "2022-11-20T15:45:11.256Z"
   },
   {
    "duration": 9,
    "start_time": "2022-11-20T15:45:11.276Z"
   },
   {
    "duration": 15,
    "start_time": "2022-11-20T15:45:11.287Z"
   },
   {
    "duration": 20,
    "start_time": "2022-11-20T15:45:11.304Z"
   },
   {
    "duration": 8,
    "start_time": "2022-11-20T15:45:11.325Z"
   },
   {
    "duration": 29,
    "start_time": "2022-11-20T15:45:11.334Z"
   },
   {
    "duration": 418,
    "start_time": "2022-11-20T15:45:11.365Z"
   },
   {
    "duration": 48,
    "start_time": "2022-11-20T15:45:11.784Z"
   },
   {
    "duration": 13,
    "start_time": "2022-11-20T15:45:11.834Z"
   },
   {
    "duration": 23,
    "start_time": "2022-11-20T15:45:11.849Z"
   },
   {
    "duration": 5,
    "start_time": "2022-11-20T15:45:11.873Z"
   },
   {
    "duration": 52,
    "start_time": "2022-11-20T15:45:11.880Z"
   },
   {
    "duration": 9,
    "start_time": "2022-11-20T15:45:11.934Z"
   },
   {
    "duration": 17,
    "start_time": "2022-11-20T15:45:11.945Z"
   },
   {
    "duration": 225,
    "start_time": "2022-11-20T15:45:11.964Z"
   },
   {
    "duration": 193,
    "start_time": "2022-11-20T15:45:12.191Z"
   },
   {
    "duration": 226,
    "start_time": "2022-11-20T15:45:12.385Z"
   },
   {
    "duration": 290,
    "start_time": "2022-11-20T15:45:12.615Z"
   },
   {
    "duration": 299,
    "start_time": "2022-11-20T15:45:12.906Z"
   },
   {
    "duration": 21,
    "start_time": "2022-11-20T15:45:13.213Z"
   },
   {
    "duration": 300,
    "start_time": "2022-11-20T15:45:13.236Z"
   },
   {
    "duration": 298,
    "start_time": "2022-11-20T15:45:13.538Z"
   },
   {
    "duration": 276,
    "start_time": "2022-11-20T15:45:13.839Z"
   },
   {
    "duration": 346,
    "start_time": "2022-11-20T15:45:14.116Z"
   },
   {
    "duration": 341,
    "start_time": "2022-11-20T15:45:14.463Z"
   },
   {
    "duration": 333,
    "start_time": "2022-11-20T15:45:14.806Z"
   },
   {
    "duration": 291,
    "start_time": "2022-11-20T15:45:15.141Z"
   },
   {
    "duration": 50,
    "start_time": "2022-11-20T16:03:29.746Z"
   },
   {
    "duration": 9,
    "start_time": "2022-11-20T16:03:34.005Z"
   },
   {
    "duration": 8,
    "start_time": "2022-11-20T16:03:41.700Z"
   },
   {
    "duration": 1295,
    "start_time": "2022-11-20T19:24:14.729Z"
   },
   {
    "duration": 284,
    "start_time": "2022-11-20T19:24:18.923Z"
   },
   {
    "duration": 103,
    "start_time": "2022-11-20T19:24:21.636Z"
   },
   {
    "duration": 25,
    "start_time": "2022-11-20T19:24:22.510Z"
   },
   {
    "duration": 18,
    "start_time": "2022-11-20T19:24:23.323Z"
   },
   {
    "duration": 5,
    "start_time": "2022-11-20T19:24:26.623Z"
   },
   {
    "duration": 9,
    "start_time": "2022-11-20T19:24:27.225Z"
   },
   {
    "duration": 13,
    "start_time": "2022-11-20T19:24:28.021Z"
   },
   {
    "duration": 21,
    "start_time": "2022-11-20T19:24:31.529Z"
   },
   {
    "duration": 5,
    "start_time": "2022-11-20T19:24:33.438Z"
   },
   {
    "duration": 40,
    "start_time": "2022-11-20T19:24:34.462Z"
   },
   {
    "duration": 11,
    "start_time": "2022-11-20T19:24:36.422Z"
   },
   {
    "duration": 9,
    "start_time": "2022-11-20T19:24:43.116Z"
   },
   {
    "duration": 4,
    "start_time": "2022-11-20T19:24:46.543Z"
   },
   {
    "duration": 242,
    "start_time": "2022-11-20T19:24:47.627Z"
   },
   {
    "duration": 19,
    "start_time": "2022-11-20T19:24:49.441Z"
   },
   {
    "duration": 20,
    "start_time": "2022-11-20T19:24:59.120Z"
   },
   {
    "duration": 40,
    "start_time": "2022-11-20T19:25:18.233Z"
   },
   {
    "duration": 5,
    "start_time": "2022-11-20T19:25:19.184Z"
   },
   {
    "duration": 11,
    "start_time": "2022-11-20T19:25:20.502Z"
   },
   {
    "duration": 21,
    "start_time": "2022-11-20T19:25:30.499Z"
   },
   {
    "duration": 16,
    "start_time": "2022-11-20T19:25:36.682Z"
   },
   {
    "duration": 4,
    "start_time": "2022-11-20T19:26:03.830Z"
   },
   {
    "duration": 8,
    "start_time": "2022-11-20T19:26:04.510Z"
   },
   {
    "duration": 4,
    "start_time": "2022-11-20T19:26:05.464Z"
   },
   {
    "duration": 5,
    "start_time": "2022-11-20T19:26:10.025Z"
   },
   {
    "duration": 27,
    "start_time": "2022-11-20T19:26:26.886Z"
   },
   {
    "duration": 340,
    "start_time": "2022-11-20T19:26:30.597Z"
   },
   {
    "duration": 27,
    "start_time": "2022-11-20T19:27:01.354Z"
   },
   {
    "duration": 4,
    "start_time": "2022-11-20T19:27:09.953Z"
   },
   {
    "duration": 16,
    "start_time": "2022-11-20T19:27:10.518Z"
   },
   {
    "duration": 3,
    "start_time": "2022-11-20T19:27:12.988Z"
   },
   {
    "duration": 32,
    "start_time": "2022-11-20T19:27:16.124Z"
   },
   {
    "duration": 6,
    "start_time": "2022-11-20T19:27:56.739Z"
   },
   {
    "duration": 6,
    "start_time": "2022-11-20T19:28:05.859Z"
   },
   {
    "duration": 13,
    "start_time": "2022-11-20T19:28:12.451Z"
   },
   {
    "duration": 175,
    "start_time": "2022-11-20T19:28:15.363Z"
   },
   {
    "duration": 9,
    "start_time": "2022-11-20T19:30:29.041Z"
   },
   {
    "duration": 111,
    "start_time": "2022-11-20T19:51:44.517Z"
   },
   {
    "duration": 18,
    "start_time": "2022-11-20T19:52:44.760Z"
   },
   {
    "duration": 6,
    "start_time": "2022-11-20T19:52:58.620Z"
   },
   {
    "duration": 96,
    "start_time": "2022-11-20T19:52:58.868Z"
   },
   {
    "duration": 42,
    "start_time": "2022-11-20T19:52:59.434Z"
   },
   {
    "duration": 21,
    "start_time": "2022-11-20T19:52:59.627Z"
   },
   {
    "duration": 16,
    "start_time": "2022-11-20T19:52:59.797Z"
   },
   {
    "duration": 5,
    "start_time": "2022-11-20T19:52:59.963Z"
   },
   {
    "duration": 8,
    "start_time": "2022-11-20T19:53:00.125Z"
   },
   {
    "duration": 11,
    "start_time": "2022-11-20T19:53:00.326Z"
   },
   {
    "duration": 18,
    "start_time": "2022-11-20T19:53:01.194Z"
   },
   {
    "duration": 5,
    "start_time": "2022-11-20T19:53:01.437Z"
   },
   {
    "duration": 31,
    "start_time": "2022-11-20T19:53:01.682Z"
   },
   {
    "duration": 9,
    "start_time": "2022-11-20T19:53:01.905Z"
   },
   {
    "duration": 9,
    "start_time": "2022-11-20T19:53:02.615Z"
   },
   {
    "duration": 4,
    "start_time": "2022-11-20T19:53:02.902Z"
   },
   {
    "duration": 191,
    "start_time": "2022-11-20T19:53:03.037Z"
   },
   {
    "duration": 18,
    "start_time": "2022-11-20T19:53:03.548Z"
   },
   {
    "duration": 17,
    "start_time": "2022-11-20T19:53:04.076Z"
   },
   {
    "duration": 37,
    "start_time": "2022-11-20T19:53:05.752Z"
   },
   {
    "duration": 4,
    "start_time": "2022-11-20T19:53:06.008Z"
   },
   {
    "duration": 12,
    "start_time": "2022-11-20T19:53:06.278Z"
   },
   {
    "duration": 21,
    "start_time": "2022-11-20T19:53:08.312Z"
   },
   {
    "duration": 20,
    "start_time": "2022-11-20T19:53:09.799Z"
   },
   {
    "duration": 5,
    "start_time": "2022-11-20T19:53:11.534Z"
   },
   {
    "duration": 7,
    "start_time": "2022-11-20T19:53:11.775Z"
   },
   {
    "duration": 4,
    "start_time": "2022-11-20T19:53:12.002Z"
   },
   {
    "duration": 5,
    "start_time": "2022-11-20T19:53:12.211Z"
   },
   {
    "duration": 26,
    "start_time": "2022-11-20T19:53:13.607Z"
   },
   {
    "duration": 399,
    "start_time": "2022-11-20T19:53:13.880Z"
   },
   {
    "duration": 32,
    "start_time": "2022-11-20T19:53:14.282Z"
   },
   {
    "duration": 4,
    "start_time": "2022-11-20T19:53:15.636Z"
   },
   {
    "duration": 16,
    "start_time": "2022-11-20T19:53:15.871Z"
   },
   {
    "duration": 3,
    "start_time": "2022-11-20T19:53:16.455Z"
   },
   {
    "duration": 32,
    "start_time": "2022-11-20T19:53:16.783Z"
   },
   {
    "duration": 6,
    "start_time": "2022-11-20T19:53:18.895Z"
   },
   {
    "duration": 13,
    "start_time": "2022-11-20T19:53:20.178Z"
   },
   {
    "duration": 167,
    "start_time": "2022-11-20T19:53:20.394Z"
   },
   {
    "duration": 18,
    "start_time": "2022-11-20T19:53:34.787Z"
   },
   {
    "duration": 19,
    "start_time": "2022-11-20T19:54:06.154Z"
   },
   {
    "duration": 19,
    "start_time": "2022-11-20T19:55:43.380Z"
   },
   {
    "duration": 15,
    "start_time": "2022-11-20T19:58:35.906Z"
   },
   {
    "duration": 14,
    "start_time": "2022-11-20T19:58:59.787Z"
   },
   {
    "duration": 6,
    "start_time": "2022-11-20T20:01:21.432Z"
   },
   {
    "duration": 93,
    "start_time": "2022-11-20T20:03:04.288Z"
   },
   {
    "duration": 12,
    "start_time": "2022-11-20T20:03:31.090Z"
   },
   {
    "duration": 73,
    "start_time": "2022-11-20T20:04:18.505Z"
   },
   {
    "duration": 73,
    "start_time": "2022-11-20T20:04:29.507Z"
   },
   {
    "duration": 13,
    "start_time": "2022-11-20T20:05:09.972Z"
   },
   {
    "duration": 9,
    "start_time": "2022-11-20T20:06:15.088Z"
   },
   {
    "duration": 13,
    "start_time": "2022-11-20T20:06:56.521Z"
   },
   {
    "duration": 4,
    "start_time": "2022-11-20T20:07:32.007Z"
   },
   {
    "duration": 12,
    "start_time": "2022-11-20T20:22:00.019Z"
   },
   {
    "duration": 5,
    "start_time": "2022-11-20T20:22:44.915Z"
   },
   {
    "duration": 96,
    "start_time": "2022-11-20T20:22:45.179Z"
   },
   {
    "duration": 51,
    "start_time": "2022-11-20T20:22:45.451Z"
   },
   {
    "duration": 29,
    "start_time": "2022-11-20T20:22:45.736Z"
   },
   {
    "duration": 16,
    "start_time": "2022-11-20T20:22:45.980Z"
   },
   {
    "duration": 4,
    "start_time": "2022-11-20T20:22:46.188Z"
   },
   {
    "duration": 13,
    "start_time": "2022-11-20T20:22:46.346Z"
   },
   {
    "duration": 11,
    "start_time": "2022-11-20T20:22:46.615Z"
   },
   {
    "duration": 20,
    "start_time": "2022-11-20T20:22:47.408Z"
   },
   {
    "duration": 5,
    "start_time": "2022-11-20T20:22:47.612Z"
   },
   {
    "duration": 41,
    "start_time": "2022-11-20T20:22:47.839Z"
   },
   {
    "duration": 10,
    "start_time": "2022-11-20T20:22:48.078Z"
   },
   {
    "duration": 18,
    "start_time": "2022-11-20T20:22:48.923Z"
   },
   {
    "duration": 4,
    "start_time": "2022-11-20T20:22:49.184Z"
   },
   {
    "duration": 205,
    "start_time": "2022-11-20T20:22:49.333Z"
   },
   {
    "duration": 19,
    "start_time": "2022-11-20T20:22:49.667Z"
   },
   {
    "duration": 17,
    "start_time": "2022-11-20T20:22:50.063Z"
   },
   {
    "duration": 41,
    "start_time": "2022-11-20T20:22:51.557Z"
   },
   {
    "duration": 5,
    "start_time": "2022-11-20T20:22:51.833Z"
   },
   {
    "duration": 20,
    "start_time": "2022-11-20T20:22:52.043Z"
   },
   {
    "duration": 23,
    "start_time": "2022-11-20T20:22:53.352Z"
   },
   {
    "duration": 16,
    "start_time": "2022-11-20T20:22:53.889Z"
   },
   {
    "duration": 6,
    "start_time": "2022-11-20T20:22:54.823Z"
   },
   {
    "duration": 8,
    "start_time": "2022-11-20T20:22:55.063Z"
   },
   {
    "duration": 4,
    "start_time": "2022-11-20T20:22:55.307Z"
   },
   {
    "duration": 4,
    "start_time": "2022-11-20T20:22:55.501Z"
   },
   {
    "duration": 24,
    "start_time": "2022-11-20T20:22:56.618Z"
   },
   {
    "duration": 349,
    "start_time": "2022-11-20T20:22:57.005Z"
   },
   {
    "duration": 29,
    "start_time": "2022-11-20T20:22:57.355Z"
   },
   {
    "duration": 13,
    "start_time": "2022-11-20T20:22:58.150Z"
   },
   {
    "duration": 18,
    "start_time": "2022-11-20T20:22:58.335Z"
   },
   {
    "duration": 3,
    "start_time": "2022-11-20T20:22:58.826Z"
   },
   {
    "duration": 33,
    "start_time": "2022-11-20T20:22:59.064Z"
   },
   {
    "duration": 6,
    "start_time": "2022-11-20T20:23:00.424Z"
   },
   {
    "duration": 12,
    "start_time": "2022-11-20T20:23:01.808Z"
   },
   {
    "duration": 190,
    "start_time": "2022-11-20T20:23:02.032Z"
   },
   {
    "duration": 14,
    "start_time": "2022-11-20T20:23:04.271Z"
   },
   {
    "duration": 1263,
    "start_time": "2022-11-20T20:27:22.416Z"
   },
   {
    "duration": 1175,
    "start_time": "2022-11-20T20:28:36.968Z"
   },
   {
    "duration": 1332,
    "start_time": "2022-11-20T20:29:00.191Z"
   },
   {
    "duration": 71,
    "start_time": "2022-11-20T20:29:40.166Z"
   },
   {
    "duration": 1204,
    "start_time": "2022-11-20T20:30:43.473Z"
   },
   {
    "duration": 73,
    "start_time": "2022-11-20T20:31:02.700Z"
   },
   {
    "duration": 83,
    "start_time": "2022-11-20T20:31:13.833Z"
   },
   {
    "duration": 9,
    "start_time": "2022-11-20T20:31:52.968Z"
   },
   {
    "duration": 20,
    "start_time": "2022-11-20T20:32:36.966Z"
   },
   {
    "duration": 1171,
    "start_time": "2022-11-20T20:32:43.339Z"
   },
   {
    "duration": 10,
    "start_time": "2022-11-20T20:33:04.218Z"
   },
   {
    "duration": 7,
    "start_time": "2022-11-20T20:33:20.411Z"
   },
   {
    "duration": 9,
    "start_time": "2022-11-20T20:34:12.842Z"
   },
   {
    "duration": 9,
    "start_time": "2022-11-20T20:34:13.566Z"
   },
   {
    "duration": 10,
    "start_time": "2022-11-20T20:34:14.395Z"
   },
   {
    "duration": 8,
    "start_time": "2022-11-20T20:34:15.304Z"
   },
   {
    "duration": 1355,
    "start_time": "2022-11-20T23:34:34.414Z"
   },
   {
    "duration": 268,
    "start_time": "2022-11-20T23:34:35.771Z"
   },
   {
    "duration": 92,
    "start_time": "2022-11-20T23:34:36.041Z"
   },
   {
    "duration": 21,
    "start_time": "2022-11-20T23:34:36.135Z"
   },
   {
    "duration": 22,
    "start_time": "2022-11-20T23:34:36.158Z"
   },
   {
    "duration": 4,
    "start_time": "2022-11-20T23:34:36.238Z"
   },
   {
    "duration": 14,
    "start_time": "2022-11-20T23:34:36.611Z"
   },
   {
    "duration": 16,
    "start_time": "2022-11-20T23:34:36.874Z"
   },
   {
    "duration": 31,
    "start_time": "2022-11-20T23:34:38.337Z"
   },
   {
    "duration": 5,
    "start_time": "2022-11-20T23:34:38.665Z"
   },
   {
    "duration": 37,
    "start_time": "2022-11-20T23:34:38.988Z"
   },
   {
    "duration": 13,
    "start_time": "2022-11-20T23:34:39.393Z"
   },
   {
    "duration": 11,
    "start_time": "2022-11-20T23:34:40.404Z"
   },
   {
    "duration": 4,
    "start_time": "2022-11-20T23:34:40.735Z"
   },
   {
    "duration": 226,
    "start_time": "2022-11-20T23:34:41.073Z"
   },
   {
    "duration": 21,
    "start_time": "2022-11-20T23:34:41.778Z"
   },
   {
    "duration": 19,
    "start_time": "2022-11-20T23:34:42.175Z"
   },
   {
    "duration": 45,
    "start_time": "2022-11-20T23:34:44.233Z"
   },
   {
    "duration": 6,
    "start_time": "2022-11-20T23:34:44.560Z"
   },
   {
    "duration": 13,
    "start_time": "2022-11-20T23:34:44.897Z"
   },
   {
    "duration": 23,
    "start_time": "2022-11-20T23:34:47.016Z"
   },
   {
    "duration": 5,
    "start_time": "2022-11-20T23:37:28.305Z"
   },
   {
    "duration": 220,
    "start_time": "2022-11-20T23:38:42.354Z"
   },
   {
    "duration": 23,
    "start_time": "2022-11-20T23:38:44.118Z"
   },
   {
    "duration": 20,
    "start_time": "2022-11-20T23:38:45.067Z"
   },
   {
    "duration": 39,
    "start_time": "2022-11-20T23:38:46.729Z"
   },
   {
    "duration": 7,
    "start_time": "2022-11-20T23:38:47.056Z"
   },
   {
    "duration": 12,
    "start_time": "2022-11-20T23:38:47.400Z"
   },
   {
    "duration": 23,
    "start_time": "2022-11-20T23:38:48.738Z"
   },
   {
    "duration": 23,
    "start_time": "2022-11-20T23:38:49.345Z"
   },
   {
    "duration": 6,
    "start_time": "2022-11-20T23:38:50.657Z"
   },
   {
    "duration": 9,
    "start_time": "2022-11-20T23:38:50.976Z"
   },
   {
    "duration": 5,
    "start_time": "2022-11-20T23:38:51.271Z"
   },
   {
    "duration": 5,
    "start_time": "2022-11-20T23:38:51.577Z"
   },
   {
    "duration": 26,
    "start_time": "2022-11-20T23:38:53.010Z"
   },
   {
    "duration": 352,
    "start_time": "2022-11-20T23:38:53.364Z"
   },
   {
    "duration": 39,
    "start_time": "2022-11-20T23:38:53.718Z"
   },
   {
    "duration": 5,
    "start_time": "2022-11-20T23:38:56.968Z"
   },
   {
    "duration": 17,
    "start_time": "2022-11-20T23:38:57.344Z"
   },
   {
    "duration": 3,
    "start_time": "2022-11-20T23:38:58.129Z"
   },
   {
    "duration": 34,
    "start_time": "2022-11-20T23:38:58.518Z"
   },
   {
    "duration": 6,
    "start_time": "2022-11-20T23:39:02.287Z"
   },
   {
    "duration": 13,
    "start_time": "2022-11-20T23:39:04.596Z"
   },
   {
    "duration": 186,
    "start_time": "2022-11-20T23:39:04.921Z"
   },
   {
    "duration": 40,
    "start_time": "2022-11-20T23:42:31.938Z"
   },
   {
    "duration": 10,
    "start_time": "2022-11-20T23:43:21.610Z"
   },
   {
    "duration": 103,
    "start_time": "2022-11-20T23:45:44.343Z"
   },
   {
    "duration": 16,
    "start_time": "2022-11-20T23:46:29.960Z"
   },
   {
    "duration": 10,
    "start_time": "2022-11-20T23:47:51.503Z"
   },
   {
    "duration": 4,
    "start_time": "2022-11-20T23:48:52.199Z"
   },
   {
    "duration": 8,
    "start_time": "2022-11-20T23:49:52.876Z"
   },
   {
    "duration": 4,
    "start_time": "2022-11-20T23:49:54.402Z"
   },
   {
    "duration": 24,
    "start_time": "2022-11-21T00:02:28.558Z"
   },
   {
    "duration": 21,
    "start_time": "2022-11-21T00:05:57.630Z"
   },
   {
    "duration": 21,
    "start_time": "2022-11-21T00:06:02.229Z"
   },
   {
    "duration": 11,
    "start_time": "2022-11-21T00:23:16.325Z"
   },
   {
    "duration": 6,
    "start_time": "2022-11-21T00:24:24.666Z"
   },
   {
    "duration": 1324,
    "start_time": "2022-11-21T00:28:17.643Z"
   },
   {
    "duration": 137,
    "start_time": "2022-11-21T00:28:18.970Z"
   },
   {
    "duration": 43,
    "start_time": "2022-11-21T00:28:19.110Z"
   },
   {
    "duration": 29,
    "start_time": "2022-11-21T00:28:19.156Z"
   },
   {
    "duration": 73,
    "start_time": "2022-11-21T00:28:19.187Z"
   },
   {
    "duration": 14,
    "start_time": "2022-11-21T00:28:19.262Z"
   },
   {
    "duration": 17,
    "start_time": "2022-11-21T00:28:19.278Z"
   },
   {
    "duration": 19,
    "start_time": "2022-11-21T00:28:19.297Z"
   },
   {
    "duration": 47,
    "start_time": "2022-11-21T00:28:19.319Z"
   },
   {
    "duration": 5,
    "start_time": "2022-11-21T00:28:19.369Z"
   },
   {
    "duration": 107,
    "start_time": "2022-11-21T00:28:19.376Z"
   },
   {
    "duration": 68,
    "start_time": "2022-11-21T00:28:19.486Z"
   },
   {
    "duration": 18,
    "start_time": "2022-11-21T00:28:19.556Z"
   },
   {
    "duration": 29,
    "start_time": "2022-11-21T00:28:19.576Z"
   },
   {
    "duration": 297,
    "start_time": "2022-11-21T00:28:19.607Z"
   },
   {
    "duration": 29,
    "start_time": "2022-11-21T00:28:19.906Z"
   },
   {
    "duration": 25,
    "start_time": "2022-11-21T00:28:19.952Z"
   },
   {
    "duration": 48,
    "start_time": "2022-11-21T00:28:19.981Z"
   },
   {
    "duration": 7,
    "start_time": "2022-11-21T00:28:20.051Z"
   },
   {
    "duration": 16,
    "start_time": "2022-11-21T00:28:20.060Z"
   },
   {
    "duration": 23,
    "start_time": "2022-11-21T00:28:20.077Z"
   },
   {
    "duration": 18,
    "start_time": "2022-11-21T00:28:20.102Z"
   },
   {
    "duration": 33,
    "start_time": "2022-11-21T00:28:20.122Z"
   },
   {
    "duration": 14,
    "start_time": "2022-11-21T00:28:20.158Z"
   },
   {
    "duration": 23,
    "start_time": "2022-11-21T00:28:20.174Z"
   },
   {
    "duration": 9,
    "start_time": "2022-11-21T00:28:20.199Z"
   },
   {
    "duration": 44,
    "start_time": "2022-11-21T00:28:20.209Z"
   },
   {
    "duration": 406,
    "start_time": "2022-11-21T00:28:20.258Z"
   },
   {
    "duration": 35,
    "start_time": "2022-11-21T00:28:20.667Z"
   },
   {
    "duration": 5,
    "start_time": "2022-11-21T00:28:20.704Z"
   },
   {
    "duration": 48,
    "start_time": "2022-11-21T00:28:20.711Z"
   },
   {
    "duration": 12,
    "start_time": "2022-11-21T00:28:20.761Z"
   },
   {
    "duration": 47,
    "start_time": "2022-11-21T00:28:20.775Z"
   },
   {
    "duration": 7,
    "start_time": "2022-11-21T00:28:20.824Z"
   },
   {
    "duration": 27,
    "start_time": "2022-11-21T00:28:20.833Z"
   },
   {
    "duration": 240,
    "start_time": "2022-11-21T00:28:20.862Z"
   },
   {
    "duration": 10,
    "start_time": "2022-11-21T00:28:21.104Z"
   },
   {
    "duration": 10,
    "start_time": "2022-11-21T00:28:21.115Z"
   },
   {
    "duration": 125,
    "start_time": "2022-11-21T00:28:21.127Z"
   },
   {
    "duration": 0,
    "start_time": "2022-11-21T00:28:21.253Z"
   },
   {
    "duration": 0,
    "start_time": "2022-11-21T00:28:21.255Z"
   },
   {
    "duration": 0,
    "start_time": "2022-11-21T00:28:21.257Z"
   },
   {
    "duration": 0,
    "start_time": "2022-11-21T00:28:21.258Z"
   },
   {
    "duration": 0,
    "start_time": "2022-11-21T00:28:21.259Z"
   },
   {
    "duration": 0,
    "start_time": "2022-11-21T00:28:21.260Z"
   },
   {
    "duration": 0,
    "start_time": "2022-11-21T00:28:21.261Z"
   },
   {
    "duration": 0,
    "start_time": "2022-11-21T00:28:21.262Z"
   },
   {
    "duration": 0,
    "start_time": "2022-11-21T00:28:21.264Z"
   },
   {
    "duration": 0,
    "start_time": "2022-11-21T00:28:21.266Z"
   },
   {
    "duration": 0,
    "start_time": "2022-11-21T00:28:21.267Z"
   },
   {
    "duration": 1,
    "start_time": "2022-11-21T00:28:21.268Z"
   },
   {
    "duration": 0,
    "start_time": "2022-11-21T00:28:21.270Z"
   },
   {
    "duration": 0,
    "start_time": "2022-11-21T00:28:21.272Z"
   },
   {
    "duration": 0,
    "start_time": "2022-11-21T00:28:21.273Z"
   },
   {
    "duration": 0,
    "start_time": "2022-11-21T00:28:21.274Z"
   },
   {
    "duration": 0,
    "start_time": "2022-11-21T00:28:21.276Z"
   },
   {
    "duration": 0,
    "start_time": "2022-11-21T00:28:21.277Z"
   },
   {
    "duration": 0,
    "start_time": "2022-11-21T00:28:21.278Z"
   },
   {
    "duration": 6,
    "start_time": "2022-11-21T00:28:37.347Z"
   },
   {
    "duration": 96,
    "start_time": "2022-11-21T00:28:38.264Z"
   },
   {
    "duration": 41,
    "start_time": "2022-11-21T00:28:38.362Z"
   },
   {
    "duration": 22,
    "start_time": "2022-11-21T00:28:39.252Z"
   },
   {
    "duration": 19,
    "start_time": "2022-11-21T00:28:40.026Z"
   },
   {
    "duration": 5,
    "start_time": "2022-11-21T00:28:40.747Z"
   },
   {
    "duration": 9,
    "start_time": "2022-11-21T00:28:42.499Z"
   },
   {
    "duration": 13,
    "start_time": "2022-11-21T00:28:43.196Z"
   },
   {
    "duration": 22,
    "start_time": "2022-11-21T00:28:45.299Z"
   },
   {
    "duration": 5,
    "start_time": "2022-11-21T00:28:46.362Z"
   },
   {
    "duration": 36,
    "start_time": "2022-11-21T00:28:47.485Z"
   },
   {
    "duration": 33,
    "start_time": "2022-11-21T00:28:52.206Z"
   },
   {
    "duration": 10,
    "start_time": "2022-11-21T00:28:56.987Z"
   },
   {
    "duration": 12,
    "start_time": "2022-11-21T00:28:59.067Z"
   },
   {
    "duration": 4,
    "start_time": "2022-11-21T00:28:59.378Z"
   },
   {
    "duration": 234,
    "start_time": "2022-11-21T00:28:59.675Z"
   },
   {
    "duration": 21,
    "start_time": "2022-11-21T00:29:00.207Z"
   },
   {
    "duration": 18,
    "start_time": "2022-11-21T00:29:00.771Z"
   },
   {
    "duration": 41,
    "start_time": "2022-11-21T00:29:02.483Z"
   },
   {
    "duration": 6,
    "start_time": "2022-11-21T00:29:02.859Z"
   },
   {
    "duration": 16,
    "start_time": "2022-11-21T00:29:03.234Z"
   },
   {
    "duration": 22,
    "start_time": "2022-11-21T00:29:05.284Z"
   },
   {
    "duration": 18,
    "start_time": "2022-11-21T00:29:05.770Z"
   },
   {
    "duration": 5,
    "start_time": "2022-11-21T00:29:06.651Z"
   },
   {
    "duration": 8,
    "start_time": "2022-11-21T00:29:07.150Z"
   },
   {
    "duration": 6,
    "start_time": "2022-11-21T00:29:07.314Z"
   },
   {
    "duration": 5,
    "start_time": "2022-11-21T00:29:07.594Z"
   },
   {
    "duration": 28,
    "start_time": "2022-11-21T00:29:08.990Z"
   },
   {
    "duration": 437,
    "start_time": "2022-11-21T00:29:09.071Z"
   },
   {
    "duration": 30,
    "start_time": "2022-11-21T00:29:09.563Z"
   },
   {
    "duration": 5,
    "start_time": "2022-11-21T00:29:11.146Z"
   },
   {
    "duration": 18,
    "start_time": "2022-11-21T00:29:11.375Z"
   },
   {
    "duration": 3,
    "start_time": "2022-11-21T00:29:11.857Z"
   },
   {
    "duration": 37,
    "start_time": "2022-11-21T00:29:12.091Z"
   },
   {
    "duration": 6,
    "start_time": "2022-11-21T00:29:13.355Z"
   },
   {
    "duration": 13,
    "start_time": "2022-11-21T00:29:15.466Z"
   },
   {
    "duration": 204,
    "start_time": "2022-11-21T00:29:16.371Z"
   },
   {
    "duration": 9,
    "start_time": "2022-11-21T00:29:25.194Z"
   },
   {
    "duration": 42589,
    "start_time": "2022-11-21T00:29:37.244Z"
   },
   {
    "duration": 20,
    "start_time": "2022-11-21T00:39:10.684Z"
   },
   {
    "duration": 13,
    "start_time": "2022-11-21T00:39:32.767Z"
   },
   {
    "duration": 12,
    "start_time": "2022-11-21T00:40:45.839Z"
   },
   {
    "duration": 179,
    "start_time": "2022-11-21T00:40:55.548Z"
   },
   {
    "duration": 184,
    "start_time": "2022-11-21T00:42:33.005Z"
   },
   {
    "duration": 10,
    "start_time": "2022-11-21T00:44:15.525Z"
   },
   {
    "duration": 187,
    "start_time": "2022-11-21T00:44:47.422Z"
   },
   {
    "duration": 10,
    "start_time": "2022-11-21T00:48:49.110Z"
   },
   {
    "duration": 172,
    "start_time": "2022-11-21T00:48:52.692Z"
   },
   {
    "duration": 12,
    "start_time": "2022-11-21T00:49:23.675Z"
   },
   {
    "duration": 13,
    "start_time": "2022-11-21T00:49:31.861Z"
   },
   {
    "duration": 9,
    "start_time": "2022-11-21T00:50:54.050Z"
   },
   {
    "duration": 181,
    "start_time": "2022-11-21T00:50:55.347Z"
   },
   {
    "duration": 10,
    "start_time": "2022-11-21T00:51:17.483Z"
   },
   {
    "duration": 8,
    "start_time": "2022-11-21T00:51:18.651Z"
   },
   {
    "duration": 10,
    "start_time": "2022-11-21T00:51:19.756Z"
   },
   {
    "duration": 8,
    "start_time": "2022-11-21T00:51:21.914Z"
   },
   {
    "duration": 8,
    "start_time": "2022-11-21T00:51:25.988Z"
   },
   {
    "duration": 1141,
    "start_time": "2022-11-21T00:51:30.332Z"
   },
   {
    "duration": 204,
    "start_time": "2022-11-21T00:55:10.781Z"
   },
   {
    "duration": 72,
    "start_time": "2022-11-21T01:40:58.672Z"
   },
   {
    "duration": 77,
    "start_time": "2022-11-21T01:41:30.529Z"
   },
   {
    "duration": 886,
    "start_time": "2022-11-21T01:41:32.215Z"
   },
   {
    "duration": 74,
    "start_time": "2022-11-21T01:41:37.216Z"
   },
   {
    "duration": 71,
    "start_time": "2022-11-21T01:42:50.274Z"
   },
   {
    "duration": 17,
    "start_time": "2022-11-21T01:43:11.337Z"
   },
   {
    "duration": 12,
    "start_time": "2022-11-21T01:46:31.594Z"
   },
   {
    "duration": 166,
    "start_time": "2022-11-21T01:47:10.905Z"
   },
   {
    "duration": 70,
    "start_time": "2022-11-21T01:48:25.706Z"
   },
   {
    "duration": 1187,
    "start_time": "2022-11-21T01:48:40.448Z"
   },
   {
    "duration": 225,
    "start_time": "2022-11-21T01:49:25.060Z"
   },
   {
    "duration": 716,
    "start_time": "2022-11-21T01:50:33.769Z"
   },
   {
    "duration": 202,
    "start_time": "2022-11-21T01:52:03.617Z"
   },
   {
    "duration": 252,
    "start_time": "2022-11-21T01:53:39.504Z"
   },
   {
    "duration": 6,
    "start_time": "2022-11-21T01:54:02.249Z"
   },
   {
    "duration": 92,
    "start_time": "2022-11-21T01:54:02.668Z"
   },
   {
    "duration": 42,
    "start_time": "2022-11-21T01:54:02.957Z"
   },
   {
    "duration": 24,
    "start_time": "2022-11-21T01:54:03.223Z"
   },
   {
    "duration": 18,
    "start_time": "2022-11-21T01:54:03.526Z"
   },
   {
    "duration": 5,
    "start_time": "2022-11-21T01:54:04.130Z"
   },
   {
    "duration": 9,
    "start_time": "2022-11-21T01:54:05.089Z"
   },
   {
    "duration": 12,
    "start_time": "2022-11-21T01:54:05.902Z"
   },
   {
    "duration": 21,
    "start_time": "2022-11-21T01:54:08.455Z"
   },
   {
    "duration": 5,
    "start_time": "2022-11-21T01:54:09.040Z"
   },
   {
    "duration": 46,
    "start_time": "2022-11-21T01:54:09.756Z"
   },
   {
    "duration": 13,
    "start_time": "2022-11-21T01:54:10.580Z"
   },
   {
    "duration": 10,
    "start_time": "2022-11-21T01:54:12.615Z"
   },
   {
    "duration": 5,
    "start_time": "2022-11-21T01:54:13.617Z"
   },
   {
    "duration": 214,
    "start_time": "2022-11-21T01:54:14.102Z"
   },
   {
    "duration": 22,
    "start_time": "2022-11-21T01:54:15.823Z"
   },
   {
    "duration": 19,
    "start_time": "2022-11-21T01:54:17.087Z"
   },
   {
    "duration": 46,
    "start_time": "2022-11-21T01:54:21.649Z"
   },
   {
    "duration": 5,
    "start_time": "2022-11-21T01:54:22.360Z"
   },
   {
    "duration": 12,
    "start_time": "2022-11-21T01:54:23.054Z"
   },
   {
    "duration": 23,
    "start_time": "2022-11-21T01:55:16.305Z"
   },
   {
    "duration": 18,
    "start_time": "2022-11-21T01:55:16.865Z"
   },
   {
    "duration": 6,
    "start_time": "2022-11-21T01:55:17.936Z"
   },
   {
    "duration": 8,
    "start_time": "2022-11-21T01:55:18.254Z"
   },
   {
    "duration": 5,
    "start_time": "2022-11-21T01:55:18.550Z"
   },
   {
    "duration": 5,
    "start_time": "2022-11-21T01:55:18.809Z"
   },
   {
    "duration": 43,
    "start_time": "2022-11-21T01:55:21.289Z"
   },
   {
    "duration": 369,
    "start_time": "2022-11-21T01:55:21.572Z"
   },
   {
    "duration": 32,
    "start_time": "2022-11-21T01:55:21.943Z"
   },
   {
    "duration": 5,
    "start_time": "2022-11-21T01:55:23.391Z"
   },
   {
    "duration": 18,
    "start_time": "2022-11-21T01:55:23.680Z"
   },
   {
    "duration": 5,
    "start_time": "2022-11-21T01:55:24.207Z"
   },
   {
    "duration": 35,
    "start_time": "2022-11-21T01:55:24.479Z"
   },
   {
    "duration": 7,
    "start_time": "2022-11-21T01:55:25.871Z"
   },
   {
    "duration": 13,
    "start_time": "2022-11-21T01:55:27.464Z"
   },
   {
    "duration": 184,
    "start_time": "2022-11-21T01:55:27.767Z"
   },
   {
    "duration": 217,
    "start_time": "2022-11-21T01:55:29.775Z"
   },
   {
    "duration": 169,
    "start_time": "2022-11-21T01:55:30.378Z"
   },
   {
    "duration": 272,
    "start_time": "2022-11-21T01:55:35.279Z"
   },
   {
    "duration": 270,
    "start_time": "2022-11-21T01:55:36.272Z"
   },
   {
    "duration": 190,
    "start_time": "2022-11-21T01:55:36.560Z"
   },
   {
    "duration": 10,
    "start_time": "2022-11-21T01:55:38.249Z"
   },
   {
    "duration": 275,
    "start_time": "2022-11-21T01:55:38.495Z"
   },
   {
    "duration": 281,
    "start_time": "2022-11-21T01:55:38.772Z"
   },
   {
    "duration": 256,
    "start_time": "2022-11-21T01:55:39.232Z"
   },
   {
    "duration": 347,
    "start_time": "2022-11-21T01:55:39.688Z"
   },
   {
    "duration": 343,
    "start_time": "2022-11-21T01:55:40.037Z"
   },
   {
    "duration": 296,
    "start_time": "2022-11-21T01:55:40.383Z"
   },
   {
    "duration": 410,
    "start_time": "2022-11-21T01:55:40.681Z"
   },
   {
    "duration": 1124,
    "start_time": "2022-11-21T11:58:05.643Z"
   },
   {
    "duration": 104,
    "start_time": "2022-11-21T11:58:06.769Z"
   },
   {
    "duration": 41,
    "start_time": "2022-11-21T11:58:06.875Z"
   },
   {
    "duration": 28,
    "start_time": "2022-11-21T11:58:06.918Z"
   },
   {
    "duration": 18,
    "start_time": "2022-11-21T11:58:06.948Z"
   },
   {
    "duration": 8,
    "start_time": "2022-11-21T11:58:06.968Z"
   },
   {
    "duration": 20,
    "start_time": "2022-11-21T11:58:06.977Z"
   },
   {
    "duration": 13,
    "start_time": "2022-11-21T11:58:06.999Z"
   },
   {
    "duration": 23,
    "start_time": "2022-11-21T11:58:07.013Z"
   },
   {
    "duration": 5,
    "start_time": "2022-11-21T11:58:07.039Z"
   },
   {
    "duration": 69,
    "start_time": "2022-11-21T11:58:07.045Z"
   },
   {
    "duration": 12,
    "start_time": "2022-11-21T11:58:07.115Z"
   },
   {
    "duration": 9,
    "start_time": "2022-11-21T11:58:07.129Z"
   },
   {
    "duration": 5,
    "start_time": "2022-11-21T11:58:07.139Z"
   },
   {
    "duration": 262,
    "start_time": "2022-11-21T11:58:07.146Z"
   },
   {
    "duration": 23,
    "start_time": "2022-11-21T11:58:07.410Z"
   },
   {
    "duration": 18,
    "start_time": "2022-11-21T11:58:07.434Z"
   },
   {
    "duration": 66,
    "start_time": "2022-11-21T11:58:07.454Z"
   },
   {
    "duration": 4,
    "start_time": "2022-11-21T11:58:07.522Z"
   },
   {
    "duration": 14,
    "start_time": "2022-11-21T11:58:07.528Z"
   },
   {
    "duration": 21,
    "start_time": "2022-11-21T11:58:07.544Z"
   },
   {
    "duration": 45,
    "start_time": "2022-11-21T11:58:07.567Z"
   },
   {
    "duration": 5,
    "start_time": "2022-11-21T11:58:07.614Z"
   },
   {
    "duration": 10,
    "start_time": "2022-11-21T11:58:07.621Z"
   },
   {
    "duration": 11,
    "start_time": "2022-11-21T11:58:07.633Z"
   },
   {
    "duration": 6,
    "start_time": "2022-11-21T11:58:07.646Z"
   },
   {
    "duration": 56,
    "start_time": "2022-11-21T11:58:07.654Z"
   },
   {
    "duration": 392,
    "start_time": "2022-11-21T11:58:07.713Z"
   },
   {
    "duration": 29,
    "start_time": "2022-11-21T11:58:08.108Z"
   },
   {
    "duration": 4,
    "start_time": "2022-11-21T11:58:08.139Z"
   },
   {
    "duration": 22,
    "start_time": "2022-11-21T11:58:08.145Z"
   },
   {
    "duration": 5,
    "start_time": "2022-11-21T11:58:08.169Z"
   },
   {
    "duration": 59,
    "start_time": "2022-11-21T11:58:08.176Z"
   },
   {
    "duration": 6,
    "start_time": "2022-11-21T11:58:08.236Z"
   },
   {
    "duration": 20,
    "start_time": "2022-11-21T11:58:08.244Z"
   },
   {
    "duration": 222,
    "start_time": "2022-11-21T11:58:08.266Z"
   },
   {
    "duration": 217,
    "start_time": "2022-11-21T11:58:08.490Z"
   },
   {
    "duration": 183,
    "start_time": "2022-11-21T11:58:08.709Z"
   },
   {
    "duration": 197,
    "start_time": "2022-11-21T11:58:08.896Z"
   },
   {
    "duration": 348,
    "start_time": "2022-11-21T11:58:09.094Z"
   },
   {
    "duration": 222,
    "start_time": "2022-11-21T11:58:09.443Z"
   },
   {
    "duration": 10,
    "start_time": "2022-11-21T11:58:09.667Z"
   },
   {
    "duration": 307,
    "start_time": "2022-11-21T11:58:09.679Z"
   },
   {
    "duration": 291,
    "start_time": "2022-11-21T11:58:09.988Z"
   },
   {
    "duration": 293,
    "start_time": "2022-11-21T11:58:10.281Z"
   },
   {
    "duration": 322,
    "start_time": "2022-11-21T11:58:10.576Z"
   },
   {
    "duration": 325,
    "start_time": "2022-11-21T11:58:10.899Z"
   },
   {
    "duration": 292,
    "start_time": "2022-11-21T11:58:11.226Z"
   },
   {
    "duration": 279,
    "start_time": "2022-11-21T11:58:11.519Z"
   }
  ],
  "colab": {
   "name": "DA+. Сборный проект 1. Шаблон (1).ipynb",
   "provenance": []
  },
  "kernelspec": {
   "display_name": "Python 3 (ipykernel)",
   "language": "python",
   "name": "python3"
  },
  "language_info": {
   "codemirror_mode": {
    "name": "ipython",
    "version": 3
   },
   "file_extension": ".py",
   "mimetype": "text/x-python",
   "name": "python",
   "nbconvert_exporter": "python",
   "pygments_lexer": "ipython3",
   "version": "3.9.5"
  },
  "toc": {
   "base_numbering": 1,
   "nav_menu": {},
   "number_sections": true,
   "sideBar": true,
   "skip_h1_title": true,
   "title_cell": "Содержание",
   "title_sidebar": "Contents",
   "toc_cell": true,
   "toc_position": {
    "height": "calc(100% - 180px)",
    "left": "10px",
    "top": "150px",
    "width": "375.384px"
   },
   "toc_section_display": true,
   "toc_window_display": false
  }
 },
 "nbformat": 4,
 "nbformat_minor": 1
}
